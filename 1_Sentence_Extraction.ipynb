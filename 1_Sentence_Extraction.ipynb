{
 "cells": [
  {
   "cell_type": "code",
   "execution_count": 1,
   "metadata": {},
   "outputs": [],
   "source": [
    "#Import libraries\n",
    "import warnings\n",
    "warnings.filterwarnings(\"ignore\")\n",
    "import numpy as np\n",
    "import pandas as pd\n",
    "import matplotlib.pyplot as plt\n",
    "%matplotlib inline\n",
    "import seaborn as sns\n",
    "import email\n",
    "import json\n",
    "import pickle\n",
    "import os\n",
    "import re\n",
    "import nltk\n",
    "import joblib\n",
    "import time\n",
    "import multiprocessing\n",
    "from tqdm import tqdm\n",
    "from zipfile import ZipFile\n",
    "import tensorflow as tf"
   ]
  },
  {
   "cell_type": "code",
   "execution_count": 2,
   "metadata": {},
   "outputs": [],
   "source": [
    "#nltk.download('punkt')"
   ]
  },
  {
   "cell_type": "code",
   "execution_count": 3,
   "metadata": {},
   "outputs": [],
   "source": [
    "#nltk.download('averaged_perceptron_tagger')"
   ]
  },
  {
   "cell_type": "code",
   "execution_count": 4,
   "metadata": {},
   "outputs": [],
   "source": [
    "#nltk.download('maxent_ne_chunker')"
   ]
  },
  {
   "cell_type": "code",
   "execution_count": 5,
   "metadata": {},
   "outputs": [],
   "source": [
    "#nltk.download('words')"
   ]
  },
  {
   "cell_type": "code",
   "execution_count": 6,
   "metadata": {},
   "outputs": [],
   "source": [
    "#Extract zip files\n",
    "#with ZipFile('emails.csv.zip', 'r') as z: \n",
    "#    z.extractall()"
   ]
  },
  {
   "cell_type": "markdown",
   "metadata": {},
   "source": [
    "<h1>1. Read dataset"
   ]
  },
  {
   "cell_type": "code",
   "execution_count": 7,
   "metadata": {},
   "outputs": [
    {
     "data": {
      "text/html": [
       "<div>\n",
       "<style scoped>\n",
       "    .dataframe tbody tr th:only-of-type {\n",
       "        vertical-align: middle;\n",
       "    }\n",
       "\n",
       "    .dataframe tbody tr th {\n",
       "        vertical-align: top;\n",
       "    }\n",
       "\n",
       "    .dataframe thead th {\n",
       "        text-align: right;\n",
       "    }\n",
       "</style>\n",
       "<table border=\"1\" class=\"dataframe\">\n",
       "  <thead>\n",
       "    <tr style=\"text-align: right;\">\n",
       "      <th></th>\n",
       "      <th>file</th>\n",
       "      <th>message</th>\n",
       "    </tr>\n",
       "  </thead>\n",
       "  <tbody>\n",
       "    <tr>\n",
       "      <th>0</th>\n",
       "      <td>allen-p/_sent_mail/1.</td>\n",
       "      <td>Message-ID: &lt;18782981.1075855378110.JavaMail.e...</td>\n",
       "    </tr>\n",
       "    <tr>\n",
       "      <th>1</th>\n",
       "      <td>allen-p/_sent_mail/10.</td>\n",
       "      <td>Message-ID: &lt;15464986.1075855378456.JavaMail.e...</td>\n",
       "    </tr>\n",
       "    <tr>\n",
       "      <th>2</th>\n",
       "      <td>allen-p/_sent_mail/100.</td>\n",
       "      <td>Message-ID: &lt;24216240.1075855687451.JavaMail.e...</td>\n",
       "    </tr>\n",
       "    <tr>\n",
       "      <th>3</th>\n",
       "      <td>allen-p/_sent_mail/1000.</td>\n",
       "      <td>Message-ID: &lt;13505866.1075863688222.JavaMail.e...</td>\n",
       "    </tr>\n",
       "    <tr>\n",
       "      <th>4</th>\n",
       "      <td>allen-p/_sent_mail/1001.</td>\n",
       "      <td>Message-ID: &lt;30922949.1075863688243.JavaMail.e...</td>\n",
       "    </tr>\n",
       "  </tbody>\n",
       "</table>\n",
       "</div>"
      ],
      "text/plain": [
       "                       file                                            message\n",
       "0     allen-p/_sent_mail/1.  Message-ID: <18782981.1075855378110.JavaMail.e...\n",
       "1    allen-p/_sent_mail/10.  Message-ID: <15464986.1075855378456.JavaMail.e...\n",
       "2   allen-p/_sent_mail/100.  Message-ID: <24216240.1075855687451.JavaMail.e...\n",
       "3  allen-p/_sent_mail/1000.  Message-ID: <13505866.1075863688222.JavaMail.e...\n",
       "4  allen-p/_sent_mail/1001.  Message-ID: <30922949.1075863688243.JavaMail.e..."
      ]
     },
     "execution_count": 7,
     "metadata": {},
     "output_type": "execute_result"
    }
   ],
   "source": [
    "#Read the dataset\n",
    "data = pd.read_csv('emails.csv')\n",
    "data.head()"
   ]
  },
  {
   "cell_type": "code",
   "execution_count": 8,
   "metadata": {},
   "outputs": [
    {
     "data": {
      "text/plain": [
       "(517401, 2)"
      ]
     },
     "execution_count": 8,
     "metadata": {},
     "output_type": "execute_result"
    }
   ],
   "source": [
    "data.shape"
   ]
  },
  {
   "cell_type": "code",
   "execution_count": 9,
   "metadata": {
    "scrolled": false
   },
   "outputs": [
    {
     "name": "stdout",
     "output_type": "stream",
     "text": [
      "Message-ID: <15982773.1075855728341.JavaMail.evans@thyme>\n",
      "Date: Thu, 25 Jan 2001 00:17:00 -0800 (PST)\n",
      "From: phillip.allen@enron.com\n",
      "To: mike.grigsby@enron.com\n",
      "Subject: Re: Draft of Opposition to ORA/TURN petition\n",
      "Mime-Version: 1.0\n",
      "Content-Type: text/plain; charset=us-ascii\n",
      "Content-Transfer-Encoding: 7bit\n",
      "X-From: Phillip K Allen\n",
      "X-To: Mike Grigsby\n",
      "X-cc: \n",
      "X-bcc: \n",
      "X-Folder: \\Phillip_Allen_June2001\\Notes Folders\\'sent mail\n",
      "X-Origin: Allen-P\n",
      "X-FileName: pallen.nsf\n",
      "\n",
      "---------------------- Forwarded by Phillip K Allen/HOU/ECT on 01/25/2001 \n",
      "08:17 AM ---------------------------\n",
      "From: Leslie Lawner@ENRON on 01/24/2001 08:17 PM CST\n",
      "To: MBD <MDay@GMSSR.com>\n",
      "cc: Harry Kingerski/NA/Enron@Enron, Jeff Dasovich/NA/Enron@Enron, James D \n",
      "Steffes/NA/Enron@Enron, Phillip K Allen/HOU/ECT@ECT, Don Black/HOU/EES@EES, \n",
      "James Shirley/HOU/EES@EES, Frank Ermis/HOU/ECT@ECT, Paul Kaufman/PDX/ECT@ECT \n",
      "Subject: Re: Draft of Opposition to ORA/TURN petition  \n",
      "\n",
      "Everything is short and sweet except the caption!  One comment.  The very \n",
      "last sentence reads :  PG&E can continue to physically divert gas if \n",
      "necessary . . . \"  SInce they haven't actually begun to divert yet, let's \n",
      "change that sentence to read \"PG&E has the continuing right to physically \n",
      "divert gas if necessary...\"  \n",
      "\n",
      "I will send this around for comment.  Thanks for your promptness.\n",
      "\n",
      "Any comments, anyone?\n",
      "\n",
      "\n",
      "\n",
      "\tMBD <MDay@GMSSR.com>\n",
      "\t01/24/2001 03:47 PM\n",
      "\t\t \n",
      "\t\t To: \"'llawner@enron.com'\" <llawner@enron.com>\n",
      "\t\t cc: \n",
      "\t\t Subject: Draft of Opposition to ORA/TURN petition\n",
      "\n",
      "\n",
      "Leslie:\n",
      "\n",
      "Here is the draft.  Short and sweet.  Let me know what you think.  We will\n",
      "be ready to file on Friday.  Mike Day\n",
      "\n",
      " <<X20292.DOC>>\n",
      "\n",
      " - X20292.DOC\n",
      "\n",
      "\n",
      "\n"
     ]
    }
   ],
   "source": [
    "print(data['message'].iloc[500])"
   ]
  },
  {
   "cell_type": "markdown",
   "metadata": {},
   "source": [
    "<h1>2. Extract content from email"
   ]
  },
  {
   "cell_type": "code",
   "execution_count": 10,
   "metadata": {},
   "outputs": [
    {
     "name": "stderr",
     "output_type": "stream",
     "text": [
      "100%|██████████| 517401/517401 [01:29<00:00, 5780.43it/s]\n"
     ]
    }
   ],
   "source": [
    "messages = [email.message_from_string(i) for i in tqdm(data['message'])]"
   ]
  },
  {
   "cell_type": "code",
   "execution_count": 11,
   "metadata": {},
   "outputs": [],
   "source": [
    "#https://www.kaggle.com/zichen/explore-enron#1.-Loading-and-cleaning-data\n",
    "#Get email contents\n",
    "def get_content(text):\n",
    "    \"\"\"\n",
    "    Get content from email\n",
    "    \"\"\"\n",
    "    parts = []\n",
    "    for part in text.walk():\n",
    "        if part.get_content_type() == 'text/plain':\n",
    "            parts.append(part.get_payload())\n",
    "    return ''.join(parts)"
   ]
  },
  {
   "cell_type": "code",
   "execution_count": 12,
   "metadata": {},
   "outputs": [
    {
     "name": "stderr",
     "output_type": "stream",
     "text": [
      "100%|██████████| 517401/517401 [00:04<00:00, 113676.88it/s]\n"
     ]
    }
   ],
   "source": [
    "#Get content from email\n",
    "data['content'] = [get_content(i) for i in tqdm(messages)]"
   ]
  },
  {
   "cell_type": "code",
   "execution_count": 13,
   "metadata": {},
   "outputs": [
    {
     "data": {
      "text/html": [
       "<div>\n",
       "<style scoped>\n",
       "    .dataframe tbody tr th:only-of-type {\n",
       "        vertical-align: middle;\n",
       "    }\n",
       "\n",
       "    .dataframe tbody tr th {\n",
       "        vertical-align: top;\n",
       "    }\n",
       "\n",
       "    .dataframe thead th {\n",
       "        text-align: right;\n",
       "    }\n",
       "</style>\n",
       "<table border=\"1\" class=\"dataframe\">\n",
       "  <thead>\n",
       "    <tr style=\"text-align: right;\">\n",
       "      <th></th>\n",
       "      <th>content</th>\n",
       "    </tr>\n",
       "  </thead>\n",
       "  <tbody>\n",
       "    <tr>\n",
       "      <th>0</th>\n",
       "      <td>Here is our forecast\\n\\n</td>\n",
       "    </tr>\n",
       "    <tr>\n",
       "      <th>1</th>\n",
       "      <td>Traveling to have a business meeting takes the...</td>\n",
       "    </tr>\n",
       "    <tr>\n",
       "      <th>2</th>\n",
       "      <td>test successful.  way to go!!!</td>\n",
       "    </tr>\n",
       "    <tr>\n",
       "      <th>3</th>\n",
       "      <td>Randy,\\n\\n Can you send me a schedule of the s...</td>\n",
       "    </tr>\n",
       "    <tr>\n",
       "      <th>4</th>\n",
       "      <td>Let's shoot for Tuesday at 11:45.</td>\n",
       "    </tr>\n",
       "  </tbody>\n",
       "</table>\n",
       "</div>"
      ],
      "text/plain": [
       "                                             content\n",
       "0                          Here is our forecast\\n\\n \n",
       "1  Traveling to have a business meeting takes the...\n",
       "2                     test successful.  way to go!!!\n",
       "3  Randy,\\n\\n Can you send me a schedule of the s...\n",
       "4                Let's shoot for Tuesday at 11:45.  "
      ]
     },
     "execution_count": 13,
     "metadata": {},
     "output_type": "execute_result"
    }
   ],
   "source": [
    "data = data['content'].to_frame()\n",
    "data.head()"
   ]
  },
  {
   "cell_type": "markdown",
   "metadata": {},
   "source": [
    "<h1>3. Remove insignificant emails"
   ]
  },
  {
   "cell_type": "code",
   "execution_count": 14,
   "metadata": {
    "scrolled": false
   },
   "outputs": [
    {
     "name": "stdout",
     "output_type": "stream",
     "text": [
      "No of samples containing outlook migration: 99\n",
      "\n",
      "---------------------- Forwarded by Phillip K Allen/HOU/ECT on 05/01/2001 0=\n",
      "2:14 PM ---------------------------\n",
      "\n",
      "\n",
      "Outlook Migration Team@ENRON\n",
      "04/27/2001 01:01 PM\n",
      "To:=09Allison Horton/NA/Enron@ENRON, Amir Baig/NA/Enron@ENRON, Brandon Bang=\n",
      "erter/NA/Enron@Enron, Brian Ellis/Corp/Enron@Enron, Charles Philpott/HR/Cor=\n",
      "p/Enron@ENRON, Chris P Wood/NA/Enron@Enron, Chris Tull/HOU/ECT@ECT, Dale Sm=\n",
      "ith/Corp/Enron@ENRON, Dave June/NA/Enron@ENRON, Donald Sutton/NA/Enron@Enro=\n",
      "n, Felicia Buenrostro/HR/Corp/Enron@ENRON, Johnna Morrison/Corp/Enron@ENRON=\n",
      ", Joe Dorn/Corp/Enron@ENRON, Kathryn Schultea/HR/Corp/Enron@ENRON, Leon McD=\n",
      "owell/NA/Enron@ENRON, Leticia Barrios/Corp/Enron@ENRON, Milton Brown/HR/Cor=\n",
      "p/Enron@ENRON, Raj Perubhatla/Corp/Enron@Enron, Shekar Komatireddy/NA/Enron=\n",
      "@Enron, Andrea Yowman/Corp/Enron@ENRON, Angie O'Brian/HR/Corp/Enron@ENRON, =\n",
      "Bonne Castellano/HR/Corp/Enron@ENRON, Gwynn Gorsuch/NA/Enron@ENRON, Jo Ann =\n",
      "Matson/Corp/Enron@ENRON, LaQuitta Washington/HR/Corp/Enron@ENRON, Rick John=\n",
      "son/HR/Corp/Enron@ENRON, Sandra Lighthill/HR/Corp/Enron@ENRON, Valeria A Ho=\n",
      "pe/HOU/ECT@ECT, Charlotte Brown/HR/Corp/Enron@ENRON, Ronald Fain/HR/Corp/En=\n",
      "ron@ENRON, Gary Fitch/HR/Corp/Enron@Enron, Anna Harris/HR/Corp/Enron@ENRON,=\n",
      " Keith Jones/HR/Corp/Enron@ENRON, Kristi Monson/NA/Enron@Enron, Bobbie McNi=\n",
      "el/HR/Corp/Enron@ENRON, John Stabler/HR/Corp/Enron@ENRON, Michelle Prince/N=\n",
      "A/Enron@Enron, James Gramke/NA/Enron@ENRON, Blair Hicks/NA/Enron@ENRON, Jen=\n",
      "nifer Johnson/Contractor/Enron Communications@Enron Communications, Jim Lit=\n",
      "tle/Enron@EnronXGate, Dale Lukert/NA/Enron@ENRON, Donald Martin/NA/Enron@EN=\n",
      "RON, Andrew Mattei/NA/Enron@ENRON, Darvin Mitchell/NA/Enron@ENRON, Mark Old=\n",
      "ham/NA/Enron@ENRON, Wesley Pearson/NA/Enron@ENRON, Ramon Pizarro/ENRON_DEVE=\n",
      "LOPMENT@ENRON_DEVELOPMENT, Natalie Rau/NA/Enron@ENRON, William Redick/NA/En=\n",
      "ron@ENRON, Mark A Richardson/NA/Enron@ENRON, Joseph Schnieders/NA/Enron@ENR=\n",
      "ON, Gary Simmons/NA/Enron@Enron, Delaney Trimble/NA/Enron@ENRON, David Upto=\n",
      "n/NA/Enron@ENRON, Mike Boegler/HR/Corp/Enron@ENRON, Lyndel Click/HR/Corp/En=\n",
      "ron@ENRON, Gabriel Franco/NA/Enron@Enron, Randy Gross/HR/Corp/Enron@Enron, =\n",
      "Arthur Johnson/HR/Corp/Enron@Enron, Danny Jones/HR/Corp/Enron@ENRON, John O=\n",
      "gden/Houston/Eott@Eott, Edgar Ponce/NA/Enron@Enron, Tracy Pursifull/HR/Corp=\n",
      "/Enron@ENRON, Lance Stanley/HR/Corp/Enron@ENRON, Frank Ermis/HOU/ECT@ECT, J=\n",
      "ane M Tholt/HOU/ECT@ECT, Jay Reitmeyer/HOU/ECT@ECT, Keith Holst/HOU/ECT@ect=\n",
      ", Matthew Lenhart/HOU/ECT@ECT, Mike Grigsby/HOU/ECT@ECT, Monique Sanchez/HO=\n",
      "U/ECT@ECT, Phillip K Allen/HOU/ECT@ECT, Randall L Gay/HOU/ECT@ECT, Tori Kuy=\n",
      "kendall/HOU/ECT@ECT, Brenda H Fletcher/HOU/ECT@ECT, Jeanne Wukasch/Corp/Enr=\n",
      "on@ENRON, Mary Theresa Franklin/HOU/ECT@ECT, Mike Potter/NA/Enron@Enron, Na=\n",
      "talie Baker/HOU/ECT@ECT, Suzanne Calcagno/NA/Enron@Enron, Alvin Thompson/Co=\n",
      "rp/Enron@Enron, Cynthia Franklin/Corp/Enron@ENRON, Jesse Villarreal/HOU/ECT=\n",
      "@ECT, Joan Collins/HOU/EES@EES, Joe A Casas/HOU/ECT@ECT, Kelly Loocke/ENRON=\n",
      "@enronXgate, Lia Halstead/NA/Enron@ENRON, Meredith Homco/HOU/ECT@ECT, Rober=\n",
      "t Allwein/HOU/ECT@ECT, Scott Loving/NA/Enron@ENRON, Shanna Boudreaux/ENRON@=\n",
      "enronXgate, Steve Gillespie/Corp/Enron@ENRON, Tamara Carter/NA/Enron@ENRON,=\n",
      " Tracy Wood/NA/Enron@ENRON, Gabriel Fuzat/Enron Communications@Enron Commun=\n",
      "ications, Jack Netek/Enron Communications@Enron Communications, Lam Nguyen/=\n",
      "NA/Enron@Enron, Camille Gerard/Corp/Enron@ENRON, Craig Taylor/HOU/ECT@ECT, =\n",
      "Jessica Hangach/NYC/MGUSA@MGUSA, Kathy Gagel/NYC/MGUSA@MGUSA, Lisa Goulart/=\n",
      "NYC/MGUSA@MGUSA, Ruth Balladares/NYC/MGUSA@MGUSA, Sid Strutt/NYC/MGUSA@MGUS=\n",
      "A\n",
      "cc:=09=20\n",
      "Subject:=094-URGENT - OWA Please print this now.\n",
      "\n",
      "\n",
      "Current Notes User:\n",
      "\n",
      "REASONS FOR USING OUTLOOK WEB ACCESS (OWA)\n",
      "\n",
      "1. Once your mailbox has been migrated from Notes to Outlook, the Outlook c=\n",
      "lient will be configured on your computer.\n",
      "After migration of your mailbox, you will not be able to send or recieve ma=\n",
      "il via Notes, and you will not be able to start using Outlook until it is c=\n",
      "onfigured by the Outlook Migration team the morning after your mailbox is m=\n",
      "igrated.  During this period, you can use Outlook Web Access (OWA) via your=\n",
      " web browser (Internet Explorer 5.0) to read and send mail.\n",
      "\n",
      "PLEASE NOTE:  Your calendar entries, personal address book, journals, and T=\n",
      "o-Do entries imported from Notes will not be available until the Outlook cl=\n",
      "ient is configured on your desktop.\n",
      "\n",
      "2. Remote access to your mailbox.\n",
      "After your Outlook client is configured, you can use Outlook Web Access (OW=\n",
      "A) for remote access to your mailbox.\n",
      "\n",
      "PLEASE NOTE:  At this time, the OWA client is only accessible while connect=\n",
      "ing to the Enron network (LAN).  There are future plans to make OWA availab=\n",
      "le from your home or when traveling abroad.\n",
      "\n",
      "HOW TO ACCESS OUTLOOK WEB ACCESS (OWA)\n",
      "\n",
      "Launch Internet Explorer 5.0, and in the address window type:  http://nahou=\n",
      "-msowa01p/exchange/john.doe\n",
      "\n",
      "Substitute \"john.doe\" with your first and last name, then click ENTER.  You=\n",
      " will be prompted with a sign in box as shown below.  Type in \"corp/your us=\n",
      "er id\" for the user name and your NT password to logon to OWA and click OK.=\n",
      "  You will now be able to view your mailbox.\n",
      "\n",
      "=09\n",
      "\n",
      "PLEASE NOTE:  There are some subtle differences in the functionality betwee=\n",
      "n the Outlook and OWA clients.  You will not be able to do many of the thin=\n",
      "gs in OWA that you can do in Outlook.  Below is a brief list of *some* of t=\n",
      "he functions NOT available via OWA:\n",
      "\n",
      "Features NOT available using OWA:\n",
      "\n",
      "-  Tasks\n",
      "-  Journal\n",
      "-  Spell Checker\n",
      "-  Offline Use\n",
      "-  Printing Templates\n",
      "-  Reminders\n",
      "-  Timed Delivery\n",
      "-  Expiration\n",
      "-  Outlook Rules\n",
      "-  Voting, Message Flags and Message Recall\n",
      "-  Sharing Contacts with others\n",
      "-  Task Delegation\n",
      "-  Direct Resource Booking\n",
      "-  Personal Distribution Lists\n",
      "\n",
      "QUESTIONS OR CONCERNS?\n",
      "\n",
      "If you have questions or concerns using the OWA client, please contact the =\n",
      "Outlook 2000 question and answer Mailbox at:\n",
      "\n",
      "=09Outlook.2000@enron.com\n",
      "\n",
      "Otherwise, you may contact the Resolution Center at:\n",
      "\n",
      "=09713-853-1411\n",
      "\n",
      "Thank you,\n",
      "\n",
      "Outlook 2000 Migration Team\n",
      "\n"
     ]
    }
   ],
   "source": [
    "#Remove outlook migration emails\n",
    "a = data[data['content'].str.contains('Outlook Migration Team@ENRON')]\n",
    "print('No of samples containing outlook migration:',len(a))\n",
    "print(a.content.iloc[0])"
   ]
  },
  {
   "cell_type": "code",
   "execution_count": 15,
   "metadata": {
    "scrolled": false
   },
   "outputs": [],
   "source": [
    "data = data[~data['content'].str.contains('Outlook Migration Team@ENRON')]"
   ]
  },
  {
   "cell_type": "code",
   "execution_count": 16,
   "metadata": {},
   "outputs": [
    {
     "name": "stdout",
     "output_type": "stream",
     "text": [
      "No of samples containing trade counts and volume: 46\n",
      "EnronOnline\n",
      "Trade Counts and Volume for May 14, 2001 \n",
      "\t\t\tEXTERNAL\t\tINTERNAL\t\tTOTAL\t\t\n",
      "COUNTRY\tCOMMODITY\tCATEGORY\tCOUNT\tQTY\tCOUNT\tQTY\tCOUNT\tQTY\tUNIT OF MEASURE\n",
      "Austria\tPower\tPhysical\t        13 \t           10,300 \t        -   \t                 \n",
      "  -   \t        13 \t           10,300 \tMWh\n",
      "Belgium\tNatural Gas\tPhysical\t        10 \t      1,065,000 \t        -   \t                \n",
      "   -   \t        10 \t      1,065,000 \tMMBtu\n",
      "Canada\tNatural Gas\tFinancial\t          7 \t      3,655,000 \t          1 \t         \n",
      "155,000 \t          8 \t      3,810,000 \tMMBtu\n",
      "Canada\tNatural Gas\tPhysical\t      235 \t    14,076,271 \t        -   \t                   \n",
      "-   \t      235 \t    14,076,271 \tMMBtu\n",
      "Canada\tPower\tFinancial\t        18 \t           20,642 \t        -   \t                 \n",
      "  -   \t        18 \t           20,642 \tMWh (Canada)\n",
      "France\tPower\tPhysical\t          1 \t             4,741 \t        -   \t                \n",
      "   -   \t          1 \t             4,741 \tMWh\n",
      "Germany\tPower\tPhysical\t        68 \t         239,804 \t        -   \t                  \n",
      " -   \t        68 \t         239,804 \tMWh\n",
      "Netherlands\tPower\tPhysical\t          1 \t                600 \t        -   \t          \n",
      "         -   \t          1 \t                600 \tMWh\n",
      "Norway\tPower\tFinancial\t        23 \t         441,192 \t        -   \t                  \n",
      " -   \t        23 \t         441,192 \tMWh\n",
      "Singapore\tCrude\tFinancial\t          1 \t           50,000 \t          1 \t           \n",
      "50,000 \t          2 \t         100,000 \tBarrel\n",
      "Singapore\tOil Products\tFinancial\t          1 \t         150,000 \t        -   \t               \n",
      "    -   \t          1 \t         150,000 \tBarrel\n",
      "Switzerland\tPower\tPhysical\t        26 \t           36,593 \t        -   \t             \n",
      "      -   \t        26 \t           36,593 \tMWh\n",
      "United Kingdom\tCrude\tFinancial\t          3 \t         350,000 \t          2 \t           \n",
      "50,000 \t          5 \t         400,000 \tBarrel\n",
      "United Kingdom\tLPG\tFinancial\t          3 \t           10,000 \t        -   \t                 \n",
      "  -   \t          3 \t           10,000 \tmt \n",
      "United Kingdom\tMetals\tFinancial\t      500 \t           10,830 \t        81 \t             \n",
      "1,625 \t      581 \t           12,455 \tLME Registered mt Lot\n",
      "United Kingdom\tNatural Gas\tPhysical NBP\t      135 \t    19,881,050 \t          2 \t           \n",
      "95,000 \t      137 \t    19,976,050 \tMMBtu\n",
      "United Kingdom\tOil Products\tFinancial\t          1 \t           22,350 \t        -   \t                \n",
      "   -   \t          1 \t           22,350 \tBarrel per month\n",
      "United Kingdom\tOil Products\tFinancial\t          3 \t           15,000 \t        -   \t                \n",
      "   -   \t          3 \t           15,000 \tIPE mt\n",
      "United Kingdom\tPower\tPhysical\t        13 \t         846,720 \t        -   \t                  \n",
      " -   \t        13 \t         846,720 \tMWh\n",
      "United Kingdom\tSea Freight\tFinancial\t          1 \t                  15 \t          1 \t             \n",
      "     15 \t          2 \t                  30 \tSea Freight Lots\n",
      "USA\tCoal\tPhysical\t          1 \t                    4 \t        -   \t                 \n",
      "  -   \t          1 \t                    4 \tCOAL-Tons/Barges/Mnth\n",
      "USA\tCrude\tFinancial\t      162 \t      7,225,000 \t        97 \t      3,915,000 \t      \n",
      "259 \t    11,140,000 \tBarrel\n",
      "USA\tCrude\tFinancial Option\t          2 \t           75,000 \t          1 \t           50,000 \t\n",
      "          3 \t         125,000 \tBarrel\n",
      "USA\tCrude\tPhysical\t          8 \t      1,143,000 \t        -   \t                   \n",
      "-   \t          8 \t      1,143,000 \tBarrel\n",
      "USA\tEmissions\tPhysical\t          2 \t\t        -   \t\t          2 \t                   \n",
      "-   \tEmission allowance\n",
      "USA\tGas Pipeline Capacity\tPhysical\t          2 \t           20,000 \t        -   \t            \n",
      "       -   \t          2 \t           20,000 \tMMBtu\n",
      "USA\tLPG\tFinancial\t          2 \t           55,000 \t        -   \t                   \n",
      "-   \t          2 \t           55,000 \tGallon\n",
      "USA\tLPG\tPhysical\t          1 \t             5,000 \t        -   \t                   \n",
      "-   \t          1 \t             5,000 \tGallon\n",
      "USA\tLumber\tPhysical\t          4 \t                  14 \t        -   \t                \n",
      "   -   \t          4 \t                  14 \tThousand Board Feet\n",
      "USA\tNatural Gas\tFinancial\t      874 \t  337,955,873 \t      389 \t  126,439,578 \t   1,263 \t \n",
      " 464,395,451 \tMMBtu\n",
      "USA\tNatural Gas\tFinancial Option\t          9 \t      9,010,000 \t          3 \t      3,000,000 \t \n",
      "       12 \t    12,010,000 \tMMBtu\n",
      "USA\tNatural Gas\tPhysical\t   1,808 \t    16,749,218 \t        41 \t         781,899 \t   \n",
      "1,849 \t    17,531,117 \tMMBtu\n",
      "USA\tOil Products\tFinancial\t        38 \t         854,524 \t          3 \t           30,715 \t    \n",
      "    41 \t         885,239 \tBarrel\n",
      "USA\tPaper\tPhysical\t          1 \t                  40 \t        -   \t                 \n",
      "  -   \t          1 \t                  40 \tMetric Tons (+/- 5%)\n",
      "USA\tPetchems\tFinancial\t          1 \t           30,000 \t        -   \t                \n",
      "   -   \t          1 \t           30,000 \tGallon\n",
      "USA\tPower\tFinancial\t        27 \t         244,469 \t        10 \t           67,530 \t    \n",
      "    37 \t         311,999 \tMWh\n",
      "USA\tPower\tPhysical\t      427 \t      4,371,728 \t      154 \t      2,483,741 \t      581 \t\n",
      "      6,855,468 \tMWh\n",
      "USA\tRate and Currency\tFinancial\t        -   \t                   -   \t          3 \t      \n",
      "5,900,000 \t          3 \t      5,900,000 \tEUR/1\n",
      "USA\tRate and Currency\tFinancial\t        -   \t                   -   \t          2 \t      \n",
      "4,000,000 \t          2 \t      4,000,000 \tFX USD\n",
      "USA\tRate and Currency\tFinancial\t        -   \t                   -   \t          3 \t      \n",
      "1,090,000 \t          3 \t      1,090,000 \tGBP/1\n",
      "USA\tRate and Currency\tFinancial\t        -   \t                   -   \t          3 \t      \n",
      "1,154,000 \t          3 \t      1,154,000 \tUSD/1\n",
      "USA\tWeather\tFinancial\t          6 \t                  14 \t        -   \t              \n",
      "     -   \t          6 \t                  14 \tCooling Degree Day\n",
      "\t\t\t   4,438 \t\t      797 \t\t   5,235 \t\t\n"
     ]
    }
   ],
   "source": [
    "#Remove trade counts and volume emails\n",
    "a = data[data['content'].str.contains('Trade Counts and Volume')]\n",
    "if len(a)!=0:\n",
    "    print('No of samples containing trade counts and volume:',len(a))\n",
    "    print(a.content.iloc[0])"
   ]
  },
  {
   "cell_type": "code",
   "execution_count": 17,
   "metadata": {},
   "outputs": [],
   "source": [
    "data = data[~data['content'].str.contains('Trade Counts and Volume')]"
   ]
  },
  {
   "cell_type": "markdown",
   "metadata": {},
   "source": [
    "<h1>4. Preprocess the data"
   ]
  },
  {
   "cell_type": "markdown",
   "metadata": {},
   "source": [
    "<h2>4.1. Extract content from forwarded emails"
   ]
  },
  {
   "cell_type": "code",
   "execution_count": 18,
   "metadata": {},
   "outputs": [],
   "source": [
    "#https://github.com/JuberGandharv/Building_Email_Smart_Compose_Real_Time_Assisted_Writing/blob/master/bahdanau_attention_model_train.ipynb\n",
    "def get_content_from_emails(sentence):\n",
    "    \n",
    "    \"\"\"\n",
    "    Returns body(content) of the email\n",
    "    \"\"\"\n",
    "    \n",
    "    sentences = sentence.split('\\n')\n",
    "    a = ('---------------------- Forwarded by','-----Original Message-----','Subject:','Sincerely,','Sincerely yours,',\n",
    "         'Thank you,''Thanks.','Best regards,','Gratefully yours,','Best regards,','regards,','Thank you for your assistance.',\n",
    "         'Thank you for your assistance','Thank you for your help')\n",
    "    indices = [i for i, s in enumerate(sentences) if any(c in s for c in a)]\n",
    "    temp_sent = ''\n",
    "\n",
    "    if len(indices)>1:\n",
    "        if any(sub_string in sentences[indices[0]] for sub_string in ('---------------------- Forwarded by',\n",
    "                                                                        '-----Original Message-----')):\n",
    "            for i in range(1,len(indices),2):\n",
    "                if i < len(indices)-1:\n",
    "                    start = indices[i] +1\n",
    "                    end = indices[i+1] \n",
    "                    temp_sent = temp_sent + ' '.join(sentences[start:end])\n",
    "                else:\n",
    "                    start = indices[i]+1\n",
    "                    temp_sent = temp_sent + ' '.join(sentences[start:])\n",
    "        elif any(sub_string in sentences[indices[0]] for sub_string in ('Subject:')):\n",
    "            for i in range(0,len(indices),2):\n",
    "                if i < len(indices)-1:\n",
    "                    start = indices[i] +1\n",
    "                    end = indices[i+1] \n",
    "                    temp_sent = temp_sent + ' '.join(sentences[start:end])\n",
    "                else:\n",
    "                    start = indices[i]+1\n",
    "                    temp_sent = temp_sent + ' '.join(sentences[start:])\n",
    "\n",
    "    elif len(indices) == 1:\n",
    "        if any(sub_string in sentences[indices[0]] for sub_string in ('---------------------- Forwarded by',\n",
    "                                                                        '-----Original Message-----','Subject:')):\n",
    "            start = indices[0] + 1\n",
    "            temp_sent = temp_sent + ' '.join(sentences[start:])\n",
    "        else:\n",
    "            stop = indices[0]+1\n",
    "            temp_sent = temp_sent + ' '.join(sentences[:stop])\n",
    "\n",
    "    else:\n",
    "        temp_sent = temp_sent + ' '.join(sentences[:])\n",
    "    \n",
    "    return temp_sent"
   ]
  },
  {
   "cell_type": "code",
   "execution_count": 19,
   "metadata": {},
   "outputs": [
    {
     "name": "stderr",
     "output_type": "stream",
     "text": [
      "100%|██████████| 517256/517256 [00:51<00:00, 9998.61it/s] \n"
     ]
    }
   ],
   "source": [
    "tqdm.pandas()\n",
    "data['content'] = data['content'].progress_apply(get_content_from_emails)"
   ]
  },
  {
   "cell_type": "code",
   "execution_count": 20,
   "metadata": {},
   "outputs": [
    {
     "data": {
      "text/plain": [
       "(517256, 1)"
      ]
     },
     "execution_count": 20,
     "metadata": {},
     "output_type": "execute_result"
    }
   ],
   "source": [
    "data.shape"
   ]
  },
  {
   "cell_type": "code",
   "execution_count": 21,
   "metadata": {},
   "outputs": [],
   "source": [
    "data.to_csv('email_content.csv',index=False,index_label=True)"
   ]
  },
  {
   "cell_type": "markdown",
   "metadata": {},
   "source": [
    "<h2>4.2. Get sentences from content</h2>"
   ]
  },
  {
   "cell_type": "code",
   "execution_count": 22,
   "metadata": {},
   "outputs": [],
   "source": [
    "def hasNumbers(text):\n",
    "    return bool(re.search(r'\\d', text))"
   ]
  },
  {
   "cell_type": "code",
   "execution_count": 23,
   "metadata": {},
   "outputs": [],
   "source": [
    "def check_special_characters(text): \n",
    "    regex = re.compile(\"\"\"[-+=*@_#`\"$%^&*[\\]\\()<>/\\|}{~:]\"\"\") \n",
    "    if(regex.search(text) == None): \n",
    "        return True     \n",
    "    else:\n",
    "        return False"
   ]
  },
  {
   "cell_type": "code",
   "execution_count": 24,
   "metadata": {},
   "outputs": [],
   "source": [
    "#Decontraction of text\n",
    "def decontracted(phrase):\n",
    "    \"\"\"\n",
    "    Returns decontracted phrases\n",
    "    \"\"\"\n",
    "    # specific\n",
    "    phrase = re.sub(r\"won't\", \"will not\", phrase)\n",
    "    phrase = re.sub(r\"can\\'t\", \"can not\", phrase)\n",
    "    # general\n",
    "    phrase = re.sub(r\"n\\'t\", \" not\", phrase)\n",
    "    phrase = re.sub(r\"\\'re\", \" are\", phrase)\n",
    "    phrase = re.sub(r\"\\'s\", \" is\", phrase)\n",
    "    phrase = re.sub(r\"\\'d\", \" would\", phrase)\n",
    "    phrase = re.sub(r\"\\'ll\", \" will\", phrase)\n",
    "    phrase = re.sub(r\"\\'t\", \" not\", phrase)\n",
    "    phrase = re.sub(r\"\\'ve\", \" have\", phrase)\n",
    "    phrase = re.sub(r\"\\'m\", \" am\", phrase)\n",
    "    return phrase"
   ]
  },
  {
   "cell_type": "code",
   "execution_count": 25,
   "metadata": {},
   "outputs": [],
   "source": [
    "def remove_extra_spaces(text):\n",
    "    #Conisder only alphabets\n",
    "    text = re.sub('[^A-Za-z]+', ' ', text)\n",
    "    return ' '.join(text.split()).strip().lower()"
   ]
  },
  {
   "cell_type": "code",
   "execution_count": 26,
   "metadata": {},
   "outputs": [],
   "source": [
    "def get_sentences(content):\n",
    "    sentences_list = []\n",
    "    for i in content.split('.'):\n",
    "        #Strip the sentence\n",
    "        sentence = i.strip()\n",
    "        #Conisder sentences which have between 3 to 20 words\n",
    "        if 3<=len(sentence.split())<=20:\n",
    "            #Check if first letter starts with upper case and rest all words are lower case\n",
    "            if sentence[0].isupper() and sentence[1:].islower():\n",
    "                #Drop sentences which have numbers\n",
    "                if hasNumbers(sentence)==False:\n",
    "                    #Drop sentences which have special characters\n",
    "                    if check_special_characters(sentence)==True:\n",
    "                        #Decontract the phrases\n",
    "                        sentence = decontracted(sentence)\n",
    "                        #Split sentence from question mark\n",
    "                        for j in re.split('(?<=[?]) +',sentence):\n",
    "                            #Remove extra spaces and append to list\n",
    "                            sentences_list.append(remove_extra_spaces(j))\n",
    "    return pd.DataFrame({'sent':sentences_list})"
   ]
  },
  {
   "cell_type": "raw",
   "metadata": {},
   "source": [
    "# %load sentence_extraction.py\n",
    "#Import libraries\n",
    "import warnings\n",
    "warnings.filterwarnings(\"ignore\")\n",
    "import numpy as np\n",
    "import pandas as pd\n",
    "import os\n",
    "import re\n",
    "import time\n",
    "import multiprocessing\n",
    "from tqdm import tqdm\n",
    "\n",
    "def hasNumbers(text):\n",
    "    return bool(re.search(r'\\d', text))\n",
    "\n",
    "def check_special_characters(text): \n",
    "    regex = re.compile(\"\"\"[-+=*@_#`\"$%^&*[\\]\\()<>/\\|}{~:]\"\"\") \n",
    "    if(regex.search(text) == None): \n",
    "        return True     \n",
    "    else:\n",
    "        return False\n",
    "\n",
    "#Decontraction of text\n",
    "def decontracted(phrase):\n",
    "    \"\"\"\n",
    "    Returns decontracted phrases\n",
    "    \"\"\"\n",
    "    # specific\n",
    "    phrase = re.sub(r\"won't\", \"will not\", phrase)\n",
    "    phrase = re.sub(r\"can\\'t\", \"can not\", phrase)\n",
    "    # general\n",
    "    phrase = re.sub(r\"n\\'t\", \" not\", phrase)\n",
    "    phrase = re.sub(r\"\\'re\", \" are\", phrase)\n",
    "    phrase = re.sub(r\"\\'s\", \" is\", phrase)\n",
    "    phrase = re.sub(r\"\\'d\", \" would\", phrase)\n",
    "    phrase = re.sub(r\"\\'ll\", \" will\", phrase)\n",
    "    phrase = re.sub(r\"\\'t\", \" not\", phrase)\n",
    "    phrase = re.sub(r\"\\'ve\", \" have\", phrase)\n",
    "    phrase = re.sub(r\"\\'m\", \" am\", phrase)\n",
    "    return phrase\n",
    "\n",
    "def remove_extra_spaces(text):\n",
    "    #Conisder only alphabets\n",
    "    text = re.sub('[^A-Za-z]+', ' ', text)\n",
    "    return ' '.join(text.split()).strip().lower()\n",
    "\n",
    "def get_sentences(content):\n",
    "    sentences_list = []\n",
    "    for i in content.split('.'):\n",
    "        #Strip the sentence\n",
    "        sentence = i.strip()\n",
    "        #Conisder sentences which have between 3 to 20 words\n",
    "        if 3<=len(sentence.split())<=20:\n",
    "            #Check if first letter starts with upper case and rest all words are lower case\n",
    "            if sentence[0].isupper() and sentence[1:].islower():\n",
    "                #Drop sentences which have numbers\n",
    "                if hasNumbers(sentence)==False:\n",
    "                    #Drop sentences which have special characters\n",
    "                    if check_special_characters(sentence)==True:\n",
    "                        #Decontract the phrases\n",
    "                        sentence = decontracted(sentence)\n",
    "                        #Split sentence from question mark\n",
    "                        for j in re.split('(?<=[?]) +',sentence):\n",
    "                            #Remove extra spaces and append to list\n",
    "                            sentences_list.append(remove_extra_spaces(j))\n",
    "    return pd.DataFrame({'sent':sentences_list})\n",
    "\n",
    "#Generate data for all samples\n",
    "def generate_data_for_model(data_df,filename):\n",
    "    \n",
    "    \"\"\"\n",
    "    Generates data for input to model\n",
    "    \"\"\"\n",
    "    for i in tqdm(range(data_df.shape[0])):\n",
    "        if i==0:\n",
    "            final_df = get_sentences(data_df.content.iloc[0])\n",
    "        else:\n",
    "            final_df = pd.concat([final_df,get_sentences(data_df.content.iloc[i])],ignore_index=True)\n",
    "    final_df = final_df.drop_duplicates()\n",
    "        \n",
    "    #Create folder to dataframe\n",
    "    if not os.path.isdir('sentences'):\n",
    "        os.makedirs('sentences')\n",
    "       \n",
    "    #Save dataframe\n",
    "    final_df.to_csv('sentences/'+filename+'.csv',index=False,index_label=True)\n",
    "\n",
    "\n",
    "def main():\n",
    "    #the below code is used for multiprogramming\n",
    "    #the number of process depends upon the number of cores present System\n",
    "    #process is used to call multiprogramming\n",
    "    \n",
    "    #Import dataset\n",
    "    data = pd.read_csv('email_content.csv')\n",
    "    \n",
    "    data_1,data_2,data_3,data_4,data_5,data_6,data_7,data_8 = np.array_split(data,8)\n",
    "\n",
    "    start=time.time()\n",
    "    manager=multiprocessing.Manager() \t\n",
    "    p1=multiprocessing.Process(target=generate_data_for_model,args=(data_1,'first'))\n",
    "    p2=multiprocessing.Process(target=generate_data_for_model,args=(data_2,'second'))\n",
    "    p3=multiprocessing.Process(target=generate_data_for_model,args=(data_3,'third'))\n",
    "    p4=multiprocessing.Process(target=generate_data_for_model,args=(data_4,'fourth'))\n",
    "    p5=multiprocessing.Process(target=generate_data_for_model,args=(data_5,'fifth'))\n",
    "    p6=multiprocessing.Process(target=generate_data_for_model,args=(data_6,'sixth'))\n",
    "    p7=multiprocessing.Process(target=generate_data_for_model,args=(data_7,'seventh'))\n",
    "    p8=multiprocessing.Process(target=generate_data_for_model,args=(data_8,'eighth'))\n",
    "    \n",
    "    #p1.start() is used to start the thread execution\n",
    "    p1.start()\n",
    "    p2.start()\n",
    "    p3.start()\n",
    "    p4.start()\n",
    "    p5.start()\n",
    "    p6.start()\n",
    "    p7.start()\n",
    "    p8.start()\n",
    "\n",
    "    #After completion all the threads are joined\n",
    "    p1.join()\n",
    "    p2.join()\n",
    "    p3.join()\n",
    "    p4.join()\n",
    "    p5.join()\n",
    "    p6.join()\n",
    "    p7.join()\n",
    "    p8.join()\n",
    "    print('Time taken: {} seconds'.format(np.round(time.time()-start),2))\n",
    "    \n",
    "if __name__==\"__main__\":\n",
    "    main()"
   ]
  },
  {
   "cell_type": "code",
   "execution_count": 27,
   "metadata": {},
   "outputs": [
    {
     "name": "stdout",
     "output_type": "stream",
     "text": [
      "100%|██████████| 64074/64074 [10:48<00:00, 98.78it/s] \n",
      "100%|██████████| 64074/64074 [10:48<00:00, 98.76it/s]\n",
      "100%|██████████| 64075/64075 [10:53<00:00, 98.06it/s]]\n",
      "100%|██████████| 64074/64074 [11:09<00:00, 95.77it/s]]\n",
      "100%|██████████| 64075/64075 [11:10<00:00, 95.57it/s] \n",
      "100%|██████████| 64075/64075 [11:33<00:00, 92.40it/s] \n",
      "100%|██████████| 64075/64075 [11:35<00:00, 92.15it/s] \n",
      "100%|██████████| 64075/64075 [11:53<00:00, 89.74it/s] \n",
      "Time taken: 714.0 seconds\n"
     ]
    }
   ],
   "source": [
    "! python sentence_extraction.py"
   ]
  },
  {
   "cell_type": "code",
   "execution_count": 28,
   "metadata": {},
   "outputs": [],
   "source": [
    "#Concatenate all sentences\n",
    "a = pd.read_csv('sentences/first.csv')\n",
    "b = pd.read_csv('sentences/second.csv')\n",
    "c = pd.read_csv('sentences/third.csv')\n",
    "d = pd.read_csv('sentences/fourth.csv')\n",
    "e = pd.read_csv('sentences/fifth.csv')\n",
    "f = pd.read_csv('sentences/sixth.csv')\n",
    "g = pd.read_csv('sentences/seventh.csv')\n",
    "h = pd.read_csv('sentences/eighth.csv')"
   ]
  },
  {
   "cell_type": "code",
   "execution_count": 29,
   "metadata": {},
   "outputs": [],
   "source": [
    "sentences = pd.concat([a,b,c,d,e,f,g,h],ignore_index=True).drop_duplicates()"
   ]
  },
  {
   "cell_type": "code",
   "execution_count": 30,
   "metadata": {},
   "outputs": [
    {
     "data": {
      "text/html": [
       "<div>\n",
       "<style scoped>\n",
       "    .dataframe tbody tr th:only-of-type {\n",
       "        vertical-align: middle;\n",
       "    }\n",
       "\n",
       "    .dataframe tbody tr th {\n",
       "        vertical-align: top;\n",
       "    }\n",
       "\n",
       "    .dataframe thead th {\n",
       "        text-align: right;\n",
       "    }\n",
       "</style>\n",
       "<table border=\"1\" class=\"dataframe\">\n",
       "  <thead>\n",
       "    <tr style=\"text-align: right;\">\n",
       "      <th></th>\n",
       "      <th>sent</th>\n",
       "    </tr>\n",
       "  </thead>\n",
       "  <tbody>\n",
       "    <tr>\n",
       "      <th>0</th>\n",
       "      <td>here is our forecast</td>\n",
       "    </tr>\n",
       "    <tr>\n",
       "      <th>1</th>\n",
       "      <td>traveling to have a business meeting takes the...</td>\n",
       "    </tr>\n",
       "    <tr>\n",
       "      <th>2</th>\n",
       "      <td>especially if you have to prepare a presentation</td>\n",
       "    </tr>\n",
       "    <tr>\n",
       "      <th>3</th>\n",
       "      <td>i would suggest holding the business plan meet...</td>\n",
       "    </tr>\n",
       "    <tr>\n",
       "      <th>4</th>\n",
       "      <td>i would even try and get some honest opinions ...</td>\n",
       "    </tr>\n",
       "  </tbody>\n",
       "</table>\n",
       "</div>"
      ],
      "text/plain": [
       "                                                sent\n",
       "0                               here is our forecast\n",
       "1  traveling to have a business meeting takes the...\n",
       "2   especially if you have to prepare a presentation\n",
       "3  i would suggest holding the business plan meet...\n",
       "4  i would even try and get some honest opinions ..."
      ]
     },
     "execution_count": 30,
     "metadata": {},
     "output_type": "execute_result"
    }
   ],
   "source": [
    "sentences.head()"
   ]
  },
  {
   "cell_type": "code",
   "execution_count": 31,
   "metadata": {},
   "outputs": [
    {
     "data": {
      "text/plain": [
       "(171702, 1)"
      ]
     },
     "execution_count": 31,
     "metadata": {},
     "output_type": "execute_result"
    }
   ],
   "source": [
    "sentences.shape"
   ]
  },
  {
   "cell_type": "code",
   "execution_count": 16,
   "metadata": {},
   "outputs": [
    {
     "name": "stdout",
     "output_type": "stream",
     "text": [
      "thanks so much for your patience\n",
      "------------------------------------------------------------------------------------------------------------------------\n",
      "i will come by this week to check the changes\n",
      "------------------------------------------------------------------------------------------------------------------------\n",
      "and though neither trend figures to be strong they both are definitely going in the right direction\n",
      "------------------------------------------------------------------------------------------------------------------------\n",
      "your questions and comments on the any of the above are most welcome\n",
      "------------------------------------------------------------------------------------------------------------------------\n",
      "to better focus on the different commercial functions and to capture market share and value the group is being realigned\n",
      "------------------------------------------------------------------------------------------------------------------------\n",
      "she asked him to come but he refused\n",
      "------------------------------------------------------------------------------------------------------------------------\n",
      "please call if you need additional information\n",
      "------------------------------------------------------------------------------------------------------------------------\n",
      "is this possible for you folks as well\n",
      "------------------------------------------------------------------------------------------------------------------------\n",
      "greg would like to offer you usage of these tickets for customer relations and employee appreciation\n",
      "------------------------------------------------------------------------------------------------------------------------\n",
      "as always thanks very much for your help\n",
      "------------------------------------------------------------------------------------------------------------------------\n"
     ]
    }
   ],
   "source": [
    "for i in sent_df.sent.sample(10,random_state=40):\n",
    "    print(i)\n",
    "    print(120*'-')"
   ]
  },
  {
   "cell_type": "code",
   "execution_count": 32,
   "metadata": {},
   "outputs": [],
   "source": [
    "sentences.to_csv('sentences.csv',index=False,index_label=True)"
   ]
  },
  {
   "cell_type": "markdown",
   "metadata": {},
   "source": [
    "<h2>4.3. Remove sentences which contain rare words</h2>"
   ]
  },
  {
   "cell_type": "code",
   "execution_count": 2,
   "metadata": {},
   "outputs": [],
   "source": [
    "sent_df = pd.read_csv('sentences.csv')"
   ]
  },
  {
   "cell_type": "code",
   "execution_count": 3,
   "metadata": {},
   "outputs": [],
   "source": [
    "tokenizer = tf.keras.preprocessing.text.Tokenizer(filters='')\n",
    "tokenizer.fit_on_texts(sent_df.sent)"
   ]
  },
  {
   "cell_type": "code",
   "execution_count": 4,
   "metadata": {},
   "outputs": [],
   "source": [
    "words = list(dict(tokenizer.word_counts).values())\n",
    "words.sort(reverse=True)"
   ]
  },
  {
   "cell_type": "code",
   "execution_count": 25,
   "metadata": {},
   "outputs": [
    {
     "data": {
      "text/plain": [
       "(0.0, 150.0)"
      ]
     },
     "execution_count": 25,
     "metadata": {},
     "output_type": "execute_result"
    },
    {
     "data": {
      "image/png": "[encoded data removed]",
      "text/plain": [
       "<Figure size 1080x360 with 1 Axes>"
      ]
     },
     "metadata": {
      "needs_background": "light"
     },
     "output_type": "display_data"
    }
   ],
   "source": [
    "plt.figure(figsize=(15,5))\n",
    "plt.bar(range(len(words)),words,align='center')\n",
    "plt.xlabel('Words')\n",
    "plt.ylabel('Counts')\n",
    "plt.title('Bar graph of word counts')\n",
    "plt.xticks(range(0,35000,1000),rotation=90)\n",
    "plt.ylim(0,150)"
   ]
  },
  {
   "cell_type": "markdown",
   "metadata": {},
   "source": [
    "Higher the vocab size, more the number of sentences would be needed to train the model. More the vocab size, more are the training parameters. The objective is to reduce the overall vocab size of model, so that lesser sentences are needed to train the model and the model gives good performance. Sentences that contain words which occur fewer than 120 times are dropped. The sentences obtained will be frequently used sentences."
   ]
  },
  {
   "cell_type": "code",
   "execution_count": 6,
   "metadata": {},
   "outputs": [],
   "source": [
    "vocab = dict()\n",
    "for i,j in dict(tokenizer.word_counts).items():\n",
    "    if j>120:\n",
    "        vocab[i]=j"
   ]
  },
  {
   "cell_type": "code",
   "execution_count": 7,
   "metadata": {},
   "outputs": [
    {
     "data": {
      "text/plain": [
       "1467"
      ]
     },
     "execution_count": 7,
     "metadata": {},
     "output_type": "execute_result"
    }
   ],
   "source": [
    "len(vocab)"
   ]
  },
  {
   "cell_type": "code",
   "execution_count": 12,
   "metadata": {},
   "outputs": [
    {
     "data": {
      "text/plain": [
       "['vocabulary']"
      ]
     },
     "execution_count": 12,
     "metadata": {},
     "output_type": "execute_result"
    }
   ],
   "source": [
    "joblib.dump(list(vocab.keys()),'vocabulary')"
   ]
  },
  {
   "cell_type": "code",
   "execution_count": 8,
   "metadata": {},
   "outputs": [
    {
     "name": "stderr",
     "output_type": "stream",
     "text": [
      "100%|███████████████████████████████████████████████████████████████████████| 171701/171701 [00:04<00:00, 41685.89it/s]\n"
     ]
    }
   ],
   "source": [
    "indices = []\n",
    "for i in tqdm(range(sent_df.shape[0])):\n",
    "    for j in sent_df.sent.iloc[i].split():\n",
    "        if j not in vocab:\n",
    "            break\n",
    "    else:\n",
    "        indices.append(i)"
   ]
  },
  {
   "cell_type": "code",
   "execution_count": 9,
   "metadata": {},
   "outputs": [
    {
     "data": {
      "text/plain": [
       "52285"
      ]
     },
     "execution_count": 9,
     "metadata": {},
     "output_type": "execute_result"
    }
   ],
   "source": [
    "len(indices)"
   ]
  },
  {
   "cell_type": "code",
   "execution_count": 10,
   "metadata": {},
   "outputs": [],
   "source": [
    "sent_df = sent_df.iloc[indices].drop_duplicates()"
   ]
  },
  {
   "cell_type": "code",
   "execution_count": 11,
   "metadata": {},
   "outputs": [
    {
     "data": {
      "text/plain": [
       "(52285, 1)"
      ]
     },
     "execution_count": 11,
     "metadata": {},
     "output_type": "execute_result"
    }
   ],
   "source": [
    "sent_df.shape"
   ]
  },
  {
   "cell_type": "markdown",
   "metadata": {},
   "source": [
    "<h1>5. Split the data"
   ]
  },
  {
   "cell_type": "code",
   "execution_count": 12,
   "metadata": {},
   "outputs": [],
   "source": [
    "#Generate indices from train(80%) and val data(20%)\n",
    "#Train data\n",
    "np.random.seed(25)\n",
    "#For unique values of numpy array\n",
    "train_index = np.random.choice(sent_df.shape[0],size=int(sent_df.shape[0]*0.8),replace=False)\n",
    "#Validation data\n",
    "val_index = np.array([i for i in range(sent_df.shape[0]) if i not in train_index])"
   ]
  },
  {
   "cell_type": "code",
   "execution_count": 13,
   "metadata": {},
   "outputs": [],
   "source": [
    "train = sent_df.iloc[train_index,:]\n",
    "validate = sent_df.iloc[val_index,:]"
   ]
  },
  {
   "cell_type": "code",
   "execution_count": 14,
   "metadata": {},
   "outputs": [
    {
     "name": "stdout",
     "output_type": "stream",
     "text": [
      "(41828, 1)\n",
      "(10457, 1)\n"
     ]
    }
   ],
   "source": [
    "print(train.shape)\n",
    "print(validate.shape)"
   ]
  },
  {
   "cell_type": "code",
   "execution_count": 15,
   "metadata": {},
   "outputs": [],
   "source": [
    "train.to_csv('train_preprocessed_data.csv',index=False,index_label=True)\n",
    "validate.to_csv('val_preprocessed_data.csv',index=False,index_label=True)"
   ]
  },
  {
   "cell_type": "code",
   "execution_count": null,
   "metadata": {},
   "outputs": [],
   "source": []
  }
 ],
 "metadata": {
  "kernelspec": {
   "display_name": "Python 3",
   "language": "python",
   "name": "python3"
  },
  "language_info": {
   "codemirror_mode": {
    "name": "ipython",
    "version": 3
   },
   "file_extension": ".py",
   "mimetype": "text/x-python",
   "name": "python",
   "nbconvert_exporter": "python",
   "pygments_lexer": "ipython3",
   "version": "3.7.0"
  },
  "widgets": {
   "application/vnd.jupyter.widget-state+json": {
    "state": {
     "005928a6a29b4c5484ffad80a3954603": {
      "model_module": "@jupyter-widgets/base",
      "model_module_version": "1.2.0",
      "model_name": "LayoutModel",
      "state": {}
     },
     "009a6f789f044dcbbbb94fd25883378d": {
      "model_module": "@jupyter-widgets/controls",
      "model_module_version": "1.5.0",
      "model_name": "HBoxModel",
      "state": {
       "children": [
        "IPY_MODEL_44565bc4897a47d3944064a3e5c6d1c9",
        "IPY_MODEL_3a56663132a1469b95cf158741fe5b84"
       ],
       "layout": "IPY_MODEL_a1b8e3ee5a6541a7b3105273e0cd5c1d"
      }
     },
     "010f867691ed4a33a7c5e34c5d5f7b5a": {
      "model_module": "@jupyter-widgets/controls",
      "model_module_version": "1.5.0",
      "model_name": "ProgressStyleModel",
      "state": {
       "description_width": "initial"
      }
     },
     "022707806ea14bf9945e07432f6c8374": {
      "model_module": "@jupyter-widgets/controls",
      "model_module_version": "1.5.0",
      "model_name": "ProgressStyleModel",
      "state": {
       "description_width": "initial"
      }
     },
     "024f404fb85c483da3e840dae32b6105": {
      "model_module": "@jupyter-widgets/controls",
      "model_module_version": "1.5.0",
      "model_name": "FloatProgressModel",
      "state": {
       "bar_style": "success",
       "description": "100%",
       "layout": "IPY_MODEL_08c53e67a2c945628f445862c0f88d16",
       "max": 9236,
       "style": "IPY_MODEL_d9b0d4c5ba154cc7b199e8583a740b2f",
       "value": 9236
      }
     },
     "027dbac7c6374bd8969903abc406ed10": {
      "model_module": "@jupyter-widgets/controls",
      "model_module_version": "1.5.0",
      "model_name": "DescriptionStyleModel",
      "state": {
       "description_width": ""
      }
     },
     "0314a6603c5f4049b7ffe4f808ced339": {
      "model_module": "@jupyter-widgets/base",
      "model_module_version": "1.2.0",
      "model_name": "LayoutModel",
      "state": {}
     },
     "031c6acc1a10445bb1611c0179566d13": {
      "model_module": "@jupyter-widgets/controls",
      "model_module_version": "1.5.0",
      "model_name": "HBoxModel",
      "state": {
       "children": [
        "IPY_MODEL_ec0d9b8f156540488c64a477672741c5",
        "IPY_MODEL_35bf0b926fe24d19b9ba63f929a72501"
       ],
       "layout": "IPY_MODEL_64457a2bb93c497b8d0166888dfeabec"
      }
     },
     "0338e4401bae4b27a06afc87455ac448": {
      "model_module": "@jupyter-widgets/base",
      "model_module_version": "1.2.0",
      "model_name": "LayoutModel",
      "state": {}
     },
     "034950567c61400680f19eff491c7cf1": {
      "model_module": "@jupyter-widgets/controls",
      "model_module_version": "1.5.0",
      "model_name": "FloatProgressModel",
      "state": {
       "bar_style": "success",
       "description": "100%",
       "layout": "IPY_MODEL_27e94b6d740b494398459acbb6bf5bab",
       "max": 3570,
       "style": "IPY_MODEL_ba70e9079de241f8abef0ad195a1c77d",
       "value": 3570
      }
     },
     "03594562670843d581833e96119e1b2c": {
      "model_module": "@jupyter-widgets/controls",
      "model_module_version": "1.5.0",
      "model_name": "HTMLModel",
      "state": {
       "layout": "IPY_MODEL_33594292c2004f28a43e2de196142cc7",
       "style": "IPY_MODEL_9ff9bd2173be47dfb6e9cfab78c1bc48",
       "value": " 9237/9237 [00:34&lt;00:00, 270.91it/s]"
      }
     },
     "03595601b1bb430bbb9d24a69b21cd7d": {
      "model_module": "@jupyter-widgets/controls",
      "model_module_version": "1.5.0",
      "model_name": "HTMLModel",
      "state": {
       "layout": "IPY_MODEL_59b99a4503dc451587adf316f5e14de0",
       "style": "IPY_MODEL_6c016152349346af9e82901e06d86ea8",
       "value": " 7141/7141 [15:57&lt;00:00,  7.46it/s]"
      }
     },
     "0361a817acc244c09f0389ce7ac569a0": {
      "model_module": "@jupyter-widgets/controls",
      "model_module_version": "1.5.0",
      "model_name": "DescriptionStyleModel",
      "state": {
       "description_width": ""
      }
     },
     "039e2736de424b0fbc1e790d2ac829bc": {
      "model_module": "@jupyter-widgets/controls",
      "model_module_version": "1.5.0",
      "model_name": "HTMLModel",
      "state": {
       "layout": "IPY_MODEL_c6968025311a4e2d8ac0b321f90b9e13",
       "style": "IPY_MODEL_efde86fc75814c7188e064491037814f",
       "value": " 517256/517256 [00:54&lt;00:00, 9485.83it/s]"
      }
     },
     "03b14021a6da437cb599f974f4ad9217": {
      "model_module": "@jupyter-widgets/controls",
      "model_module_version": "1.5.0",
      "model_name": "HTMLModel",
      "state": {
       "layout": "IPY_MODEL_be398fc9ec9a4d2db054bcd7956e0d07",
       "style": "IPY_MODEL_dbe5c00fe553454ca0fadf9f9751f14a",
       "value": " 1429/1429 [03:23&lt;00:00,  7.01it/s]"
      }
     },
     "03b23b4982774ece8a92c011f10675e8": {
      "model_module": "@jupyter-widgets/base",
      "model_module_version": "1.2.0",
      "model_name": "LayoutModel",
      "state": {}
     },
     "03c8a58424f743599093bd51330fd179": {
      "model_module": "@jupyter-widgets/controls",
      "model_module_version": "1.5.0",
      "model_name": "FloatProgressModel",
      "state": {
       "bar_style": "success",
       "description": "100%",
       "layout": "IPY_MODEL_0a1c4ea7c9794c66b9309363342b9902",
       "max": 9236,
       "style": "IPY_MODEL_35f36b8554394d508f079abe59ba0113",
       "value": 9236
      }
     },
     "03cb851523da4efeaf21f5e55defae4c": {
      "model_module": "@jupyter-widgets/controls",
      "model_module_version": "1.5.0",
      "model_name": "FloatProgressModel",
      "state": {
       "bar_style": "success",
       "description": "100%",
       "layout": "IPY_MODEL_9734bc4b3e0b45ac8fe4da3d0d843583",
       "max": 9236,
       "style": "IPY_MODEL_d7ca1b0399fd4ba09fdf8f1a8e2ee884",
       "value": 9236
      }
     },
     "042a67ecbb7b42138ac4b4fe6408c5ea": {
      "model_module": "@jupyter-widgets/base",
      "model_module_version": "1.2.0",
      "model_name": "LayoutModel",
      "state": {}
     },
     "047aaac0a15e4acaafb63e1c0d5fb1aa": {
      "model_module": "@jupyter-widgets/controls",
      "model_module_version": "1.5.0",
      "model_name": "FloatProgressModel",
      "state": {
       "bar_style": "success",
       "description": "100%",
       "layout": "IPY_MODEL_ada53d67b40e4ca89cc7eef60b9534f6",
       "max": 1429,
       "style": "IPY_MODEL_f9e8c3da473c4bbfb64ebdd4007a4283",
       "value": 1429
      }
     },
     "04f0829401d142c68aeb723e95f78f6b": {
      "model_module": "@jupyter-widgets/controls",
      "model_module_version": "1.5.0",
      "model_name": "HTMLModel",
      "state": {
       "layout": "IPY_MODEL_668db582972b4526bca050facbfa58b1",
       "style": "IPY_MODEL_5e527aeb412246caa15eb3f65d3cdcd4",
       "value": " 4285/4285 [10:05&lt;00:00,  7.07it/s]"
      }
     },
     "05490c60de414021a14b73b7defacb18": {
      "model_module": "@jupyter-widgets/base",
      "model_module_version": "1.2.0",
      "model_name": "LayoutModel",
      "state": {}
     },
     "056a65b327f04ceab7d3a77a7248d5bb": {
      "model_module": "@jupyter-widgets/base",
      "model_module_version": "1.2.0",
      "model_name": "LayoutModel",
      "state": {}
     },
     "059a2c6fd65d48408388dad5c87890c7": {
      "model_module": "@jupyter-widgets/controls",
      "model_module_version": "1.5.0",
      "model_name": "HBoxModel",
      "state": {
       "children": [
        "IPY_MODEL_aa8c27f547ec4feb9db47deab1442c3d",
        "IPY_MODEL_fc3c202487cf415f9eaceaa0322db1a8"
       ],
       "layout": "IPY_MODEL_7da7964e614d482caa1e9c20cab75f0e"
      }
     },
     "05d3fe31335143aeafcffcb167659de5": {
      "model_module": "@jupyter-widgets/controls",
      "model_module_version": "1.5.0",
      "model_name": "HBoxModel",
      "state": {
       "children": [
        "IPY_MODEL_9ad25ee36c67498ba7212cfef3a2cf5e",
        "IPY_MODEL_1384df77b78144f188991c500954379f"
       ],
       "layout": "IPY_MODEL_54778582f9654579a2c60a48b762912e"
      }
     },
     "05d5ff32645545a389f6e63047b093c5": {
      "model_module": "@jupyter-widgets/controls",
      "model_module_version": "1.5.0",
      "model_name": "HTMLModel",
      "state": {
       "layout": "IPY_MODEL_748ed927838648b18d060a7f6d4f1adb",
       "style": "IPY_MODEL_1e7aef80388f46ae9255075d94f6f6da",
       "value": " 517401/517401 [00:13&lt;00:00, 37136.80it/s]"
      }
     },
     "063e7b1496c146faafa29867b301c1fb": {
      "model_module": "@jupyter-widgets/base",
      "model_module_version": "1.2.0",
      "model_name": "LayoutModel",
      "state": {}
     },
     "06aaadca716e457ab5b5185afb898d0c": {
      "model_module": "@jupyter-widgets/base",
      "model_module_version": "1.2.0",
      "model_name": "LayoutModel",
      "state": {}
     },
     "06ced1abbba94beda43512049834b495": {
      "model_module": "@jupyter-widgets/controls",
      "model_module_version": "1.5.0",
      "model_name": "ProgressStyleModel",
      "state": {
       "description_width": "initial"
      }
     },
     "06e17f3ffe5d4ef78ed61082d6954caf": {
      "model_module": "@jupyter-widgets/base",
      "model_module_version": "1.2.0",
      "model_name": "LayoutModel",
      "state": {}
     },
     "06fa7124d3c946b9a958bb8f8b53569c": {
      "model_module": "@jupyter-widgets/controls",
      "model_module_version": "1.5.0",
      "model_name": "DescriptionStyleModel",
      "state": {
       "description_width": ""
      }
     },
     "071b5482783841f59aa44abf39d830a0": {
      "model_module": "@jupyter-widgets/controls",
      "model_module_version": "1.5.0",
      "model_name": "DescriptionStyleModel",
      "state": {
       "description_width": ""
      }
     },
     "0730e207deb440999ee59b49d39c37a8": {
      "model_module": "@jupyter-widgets/base",
      "model_module_version": "1.2.0",
      "model_name": "LayoutModel",
      "state": {}
     },
     "0738c64633c34d38a03cdb142164ef1f": {
      "model_module": "@jupyter-widgets/controls",
      "model_module_version": "1.5.0",
      "model_name": "HBoxModel",
      "state": {
       "children": [
        "IPY_MODEL_f5974008bebb45f68e1226a9a6d56495",
        "IPY_MODEL_05d5ff32645545a389f6e63047b093c5"
       ],
       "layout": "IPY_MODEL_6fba32a3ab17431e89ba70851a987823"
      }
     },
     "0767179c2fbc4f02a74544f1ac116b60": {
      "model_module": "@jupyter-widgets/controls",
      "model_module_version": "1.5.0",
      "model_name": "ProgressStyleModel",
      "state": {
       "description_width": "initial"
      }
     },
     "078baf4024714113924fcd99d2bf22f7": {
      "model_module": "@jupyter-widgets/controls",
      "model_module_version": "1.5.0",
      "model_name": "HTMLModel",
      "state": {
       "layout": "IPY_MODEL_c2bcf4af75bb4458840489a2cc36655f",
       "style": "IPY_MODEL_87b73b834f40453d9fc98c294a8181c9",
       "value": " 1428/1428 [03:05&lt;00:00,  7.70it/s]"
      }
     },
     "07b648d4c00040aea49f2914ed79467a": {
      "model_module": "@jupyter-widgets/controls",
      "model_module_version": "1.5.0",
      "model_name": "ProgressStyleModel",
      "state": {
       "description_width": "initial"
      }
     },
     "07c9527dfd69463f95be392b4232fbf8": {
      "model_module": "@jupyter-widgets/controls",
      "model_module_version": "1.5.0",
      "model_name": "HBoxModel",
      "state": {
       "children": [
        "IPY_MODEL_fd5545dd19424b699708d3d218c2ea1d",
        null
       ]
      }
     },
     "07e119895a6a4f3e928acb05460e24b2": {
      "model_module": "@jupyter-widgets/base",
      "model_module_version": "1.2.0",
      "model_name": "LayoutModel",
      "state": {}
     },
     "07eba09418b84633af01d470925df62b": {
      "model_module": "@jupyter-widgets/controls",
      "model_module_version": "1.5.0",
      "model_name": "ProgressStyleModel",
      "state": {
       "description_width": "initial"
      }
     },
     "07ef82a50d1f4e32a3b46430b7b8055b": {
      "model_module": "@jupyter-widgets/controls",
      "model_module_version": "1.5.0",
      "model_name": "DescriptionStyleModel",
      "state": {
       "description_width": ""
      }
     },
     "0817fe12e55a431cbcb419c4fc193f54": {
      "model_module": "@jupyter-widgets/controls",
      "model_module_version": "1.5.0",
      "model_name": "FloatProgressModel",
      "state": {
       "bar_style": "success",
       "description": "100%",
       "layout": "IPY_MODEL_f453222df1724158a9a4c913e74f101e",
       "max": 7140,
       "style": "IPY_MODEL_9b2dc8041cfe4e4580b49624971d5cc1",
       "value": 7140
      }
     },
     "0828bce2a2f4474086e15d6d93a73964": {
      "model_module": "@jupyter-widgets/controls",
      "model_module_version": "1.5.0",
      "model_name": "FloatProgressModel",
      "state": {
       "bar_style": "success",
       "description": "100%",
       "layout": "IPY_MODEL_c07abe9245bd41c1a4fc09d8043f0da6",
       "max": 4284,
       "style": "IPY_MODEL_e54d4a43d15742b8b59404ef6a81ba9d",
       "value": 4284
      }
     },
     "08c53e67a2c945628f445862c0f88d16": {
      "model_module": "@jupyter-widgets/base",
      "model_module_version": "1.2.0",
      "model_name": "LayoutModel",
      "state": {}
     },
     "098b8a49f59641fbabf4365b32f1fa11": {
      "model_module": "@jupyter-widgets/controls",
      "model_module_version": "1.5.0",
      "model_name": "FloatProgressModel",
      "state": {
       "bar_style": "success",
       "description": "100%",
       "layout": "IPY_MODEL_b894448d3d154b9d8f0a8a107bc87bc2",
       "max": 9237,
       "style": "IPY_MODEL_0ea5f2a3cf7742699796f6cbec8e1529",
       "value": 9237
      }
     },
     "098ee4a07ace42b6b5c7522d9f7c3d62": {
      "model_module": "@jupyter-widgets/base",
      "model_module_version": "1.2.0",
      "model_name": "LayoutModel",
      "state": {}
     },
     "099ee102de1c43fa8a0ea2ab15e980f3": {
      "model_module": "@jupyter-widgets/controls",
      "model_module_version": "1.5.0",
      "model_name": "DescriptionStyleModel",
      "state": {
       "description_width": ""
      }
     },
     "09bc0d156d05443da6f3d2beded4a1e8": {
      "model_module": "@jupyter-widgets/controls",
      "model_module_version": "1.5.0",
      "model_name": "FloatProgressModel",
      "state": {
       "bar_style": "success",
       "description": "100%",
       "layout": "IPY_MODEL_99b04459dd5647dcb86fd4f9d70db4e5",
       "max": 3571,
       "style": "IPY_MODEL_df9f6b6f9ffa4e319267150e77d59170",
       "value": 3571
      }
     },
     "09e5e997eeba4683b2d14d938b13e804": {
      "model_module": "@jupyter-widgets/controls",
      "model_module_version": "1.5.0",
      "model_name": "HTMLModel",
      "state": {
       "layout": "IPY_MODEL_005928a6a29b4c5484ffad80a3954603",
       "style": "IPY_MODEL_51f92a803f624dfeb83d5023d527b3f1",
       "value": " 9236/9236 [00:33&lt;00:00, 272.81it/s]"
      }
     },
     "0a05f2dbcc074a1fa104d5b8772c3df6": {
      "model_module": "@jupyter-widgets/base",
      "model_module_version": "1.2.0",
      "model_name": "LayoutModel",
      "state": {}
     },
     "0a1c4ea7c9794c66b9309363342b9902": {
      "model_module": "@jupyter-widgets/base",
      "model_module_version": "1.2.0",
      "model_name": "LayoutModel",
      "state": {}
     },
     "0a57d8dcc6d344ed97fe2deb063837fc": {
      "model_module": "@jupyter-widgets/controls",
      "model_module_version": "1.5.0",
      "model_name": "HBoxModel",
      "state": {
       "children": [
        "IPY_MODEL_59e0d41ece714583940083b5a2ea0f09",
        "IPY_MODEL_f9cadd1b08d94d6c83b5a35b9a631a6d"
       ],
       "layout": "IPY_MODEL_de5f7fe8a25641cd8446ffdbdd6d9fe4"
      }
     },
     "0acb1b05b2e94be49271e03638b32854": {
      "model_module": "@jupyter-widgets/controls",
      "model_module_version": "1.5.0",
      "model_name": "ProgressStyleModel",
      "state": {
       "description_width": "initial"
      }
     },
     "0af60b1bc53d4993a4b01e8386debb2f": {
      "model_module": "@jupyter-widgets/controls",
      "model_module_version": "1.5.0",
      "model_name": "ProgressStyleModel",
      "state": {
       "description_width": "initial"
      }
     },
     "0af90e578f88414fb3782891a97c8370": {
      "model_module": "@jupyter-widgets/controls",
      "model_module_version": "1.5.0",
      "model_name": "ProgressStyleModel",
      "state": {
       "description_width": "initial"
      }
     },
     "0b4270848ca04abd9f04df6742252bb6": {
      "model_module": "@jupyter-widgets/controls",
      "model_module_version": "1.5.0",
      "model_name": "ProgressStyleModel",
      "state": {
       "description_width": "initial"
      }
     },
     "0b443d2a52b2408787cf6c89ff2bab99": {
      "model_module": "@jupyter-widgets/controls",
      "model_module_version": "1.5.0",
      "model_name": "ProgressStyleModel",
      "state": {
       "description_width": "initial"
      }
     },
     "0b50926f8b1748e1a747d24ea7f50296": {
      "model_module": "@jupyter-widgets/controls",
      "model_module_version": "1.5.0",
      "model_name": "HTMLModel",
      "state": {
       "layout": "IPY_MODEL_f5a06dc78ef84209be99bc1c1a0c22a4",
       "style": "IPY_MODEL_83ff6c4b503543dca098382b269db20e",
       "value": " 9237/9237 [15:11&lt;00:00, 10.13it/s]"
      }
     },
     "0bf2c56492894fcbaf70a0f4b92d0807": {
      "model_module": "@jupyter-widgets/controls",
      "model_module_version": "1.5.0",
      "model_name": "HTMLModel",
      "state": {
       "layout": "IPY_MODEL_fe2953f55de54ed589793dc43a9fd619",
       "style": "IPY_MODEL_6045ea5847274dd1bc03acce59d9a41d",
       "value": " 9237/9237 [16:10&lt;00:00,  9.52it/s]"
      }
     },
     "0c0639f73f414808b41a2d99f5f4afba": {
      "model_module": "@jupyter-widgets/controls",
      "model_module_version": "1.5.0",
      "model_name": "HBoxModel",
      "state": {
       "children": [
        "IPY_MODEL_7e5c609602ca433791344631233fdc08",
        "IPY_MODEL_d5056b678c3b4cdd8aba21748e143cf3"
       ],
       "layout": "IPY_MODEL_c83f1bd411ee4014a321a85fa893534e"
      }
     },
     "0c1a6b44ba2b4ea894d98afeb16ecdc4": {
      "model_module": "@jupyter-widgets/controls",
      "model_module_version": "1.5.0",
      "model_name": "HBoxModel",
      "state": {
       "children": [
        "IPY_MODEL_81e4025740c346a697eacc27f04ec7eb",
        "IPY_MODEL_4dce822d37f04f679de88b08499575f6"
       ],
       "layout": "IPY_MODEL_f01eb659b40c4a71aacab046cf21d491"
      }
     },
     "0c1f030f8c5546cba1e6a9915915205e": {
      "model_module": "@jupyter-widgets/controls",
      "model_module_version": "1.5.0",
      "model_name": "HBoxModel",
      "state": {
       "children": [
        "IPY_MODEL_3e656371d3d94afdb5ef14773a612abf",
        "IPY_MODEL_66f15c788f5245688f3e8b3c1207d136"
       ],
       "layout": "IPY_MODEL_1fd88afa387a409680fe4ed13018ecba"
      }
     },
     "0c1fb0d347194e0c987240f49aa8c986": {
      "model_module": "@jupyter-widgets/controls",
      "model_module_version": "1.5.0",
      "model_name": "HBoxModel",
      "state": {
       "children": [
        "IPY_MODEL_340beabbe4c047edbfce7cf14573b990",
        "IPY_MODEL_e823475eefb043469503b980bba3441a"
       ],
       "layout": "IPY_MODEL_7bf3d4bde3ca46aca935a65d99669ed6"
      }
     },
     "0c24653d798e4f21a0af8dac96904bb6": {
      "model_module": "@jupyter-widgets/controls",
      "model_module_version": "1.5.0",
      "model_name": "ProgressStyleModel",
      "state": {
       "description_width": "initial"
      }
     },
     "0c708339f5fa4c33b3f7e145967e192a": {
      "model_module": "@jupyter-widgets/controls",
      "model_module_version": "1.5.0",
      "model_name": "ProgressStyleModel",
      "state": {
       "description_width": "initial"
      }
     },
     "0ca78f3bb300429398d4741f19cd319b": {
      "model_module": "@jupyter-widgets/controls",
      "model_module_version": "1.5.0",
      "model_name": "HTMLModel",
      "state": {
       "layout": "IPY_MODEL_430f0ed7890743d9b6e998c58aa9daac",
       "style": "IPY_MODEL_83cccc370a78402cae7d81992fbef51f",
       "value": " 2856/2856 [06:07&lt;00:00,  7.77it/s]"
      }
     },
     "0cba7d29f55b4f7283b34a95385f92aa": {
      "model_module": "@jupyter-widgets/controls",
      "model_module_version": "1.5.0",
      "model_name": "HBoxModel",
      "state": {
       "children": [
        "IPY_MODEL_1ae48ba4b7ac4f66982bcd6160bdfebe",
        "IPY_MODEL_1dfa08312771456e8f28a45bfdfc66a1"
       ],
       "layout": "IPY_MODEL_68d5f4d20a3d40d2ac0209ce51c74444"
      }
     },
     "0cc31ded12564a399dafbc8757a4c1ed": {
      "model_module": "@jupyter-widgets/controls",
      "model_module_version": "1.5.0",
      "model_name": "FloatProgressModel",
      "state": {
       "bar_style": "success",
       "description": "100%",
       "layout": "IPY_MODEL_5964fef9882843d1a305d7a3d34691bf",
       "max": 7141,
       "style": "IPY_MODEL_c9309d62e007426f8d229d64dead8f33",
       "value": 7141
      }
     },
     "0cce21e1a57b431eb0958b7ed138f47f": {
      "model_module": "@jupyter-widgets/base",
      "model_module_version": "1.2.0",
      "model_name": "LayoutModel",
      "state": {}
     },
     "0cd3916274f247ff9c620f3722be9d52": {
      "model_module": "@jupyter-widgets/base",
      "model_module_version": "1.2.0",
      "model_name": "LayoutModel",
      "state": {}
     },
     "0d083e1acfe843dba50d41b55ddb1a41": {
      "model_module": "@jupyter-widgets/controls",
      "model_module_version": "1.5.0",
      "model_name": "HTMLModel",
      "state": {
       "layout": "IPY_MODEL_9c0c0dcb06e641c0b2d7889dc319e41f",
       "style": "IPY_MODEL_77729e92cfe8468aad1b8482187fd64d",
       "value": " 21580/21580 [00:00&lt;00:00, 77578.56it/s]"
      }
     },
     "0d1c70a84f544088bcde6ca52da8cfdb": {
      "model_module": "@jupyter-widgets/controls",
      "model_module_version": "1.5.0",
      "model_name": "ProgressStyleModel",
      "state": {
       "description_width": "initial"
      }
     },
     "0d294b270d494b8b9bfb079244edff9b": {
      "model_module": "@jupyter-widgets/controls",
      "model_module_version": "1.5.0",
      "model_name": "HTMLModel",
      "state": {
       "layout": "IPY_MODEL_529c5b22dcda42d3ab20f0bf0649bbef",
       "style": "IPY_MODEL_ceab68cb7be84d8e8dd85e063b1531cd",
       "value": " 2856/2856 [06:25&lt;00:00,  7.40it/s]"
      }
     },
     "0d38d9c1a0e1472caf43d24b807d1650": {
      "model_module": "@jupyter-widgets/controls",
      "model_module_version": "1.5.0",
      "model_name": "DescriptionStyleModel",
      "state": {
       "description_width": ""
      }
     },
     "0d5dcd6f96e14eb7bf3590b3ef3da90b": {
      "model_module": "@jupyter-widgets/controls",
      "model_module_version": "1.5.0",
      "model_name": "HBoxModel",
      "state": {
       "children": [
        "IPY_MODEL_309d0092f9a5421ba5f472552b427d2f",
        "IPY_MODEL_9e472c8c1e6a4119942cfde5d247bbf9"
       ],
       "layout": "IPY_MODEL_5ac78553e8f14cffb7b9f5ee115ff4f1"
      }
     },
     "0d94be6d136e4a1e8cced7ee261cd712": {
      "model_module": "@jupyter-widgets/controls",
      "model_module_version": "1.5.0",
      "model_name": "HTMLModel",
      "state": {
       "layout": "IPY_MODEL_f16c1c59010045f58dc259af77cdc66a",
       "style": "IPY_MODEL_027dbac7c6374bd8969903abc406ed10",
       "value": " 9237/9237 [00:31&lt;00:00, 291.78it/s]"
      }
     },
     "0daaeae68e1146c287cc979c5681575e": {
      "model_module": "@jupyter-widgets/controls",
      "model_module_version": "1.5.0",
      "model_name": "DescriptionStyleModel",
      "state": {
       "description_width": ""
      }
     },
     "0daefb9d9815493198c9c541580894ae": {
      "model_module": "@jupyter-widgets/controls",
      "model_module_version": "1.5.0",
      "model_name": "HBoxModel",
      "state": {
       "children": [
        "IPY_MODEL_c6e5bcd8c8c3468a99ec5f5ba39e7b02",
        "IPY_MODEL_6f99a9283fc24f8fa0d9308b90a88b7c"
       ],
       "layout": "IPY_MODEL_eaa198ecd69f4133b1ff00891f1f5c1c"
      }
     },
     "0def2caca93246529a2df5be8f9eb625": {
      "model_module": "@jupyter-widgets/controls",
      "model_module_version": "1.5.0",
      "model_name": "DescriptionStyleModel",
      "state": {
       "description_width": ""
      }
     },
     "0df5972c643b4e3b8c05f68f6ca2ce7c": {
      "model_module": "@jupyter-widgets/controls",
      "model_module_version": "1.5.0",
      "model_name": "ProgressStyleModel",
      "state": {
       "description_width": "initial"
      }
     },
     "0e43df49f5d04394964f1581ca770be3": {
      "model_module": "@jupyter-widgets/controls",
      "model_module_version": "1.5.0",
      "model_name": "FloatProgressModel",
      "state": {
       "bar_style": "success",
       "description": "100%",
       "layout": "IPY_MODEL_f1b434a58aeb43c19836ca1ef6b4e011",
       "max": 9237,
       "style": "IPY_MODEL_f294c440984c40a5b9767728b85e9a5b",
       "value": 9237
      }
     },
     "0e501ac833f04667a867b471d7601896": {
      "model_module": "@jupyter-widgets/controls",
      "model_module_version": "1.5.0",
      "model_name": "ProgressStyleModel",
      "state": {
       "description_width": "initial"
      }
     },
     "0e576b3b9c044347b25e40a092cf3e2c": {
      "model_module": "@jupyter-widgets/base",
      "model_module_version": "1.2.0",
      "model_name": "LayoutModel",
      "state": {}
     },
     "0e5dc42ba6d64242b6f7a751bcfb3041": {
      "model_module": "@jupyter-widgets/controls",
      "model_module_version": "1.5.0",
      "model_name": "DescriptionStyleModel",
      "state": {
       "description_width": ""
      }
     },
     "0ea5f2a3cf7742699796f6cbec8e1529": {
      "model_module": "@jupyter-widgets/controls",
      "model_module_version": "1.5.0",
      "model_name": "ProgressStyleModel",
      "state": {
       "description_width": "initial"
      }
     },
     "0ec5874768074c4fa20265938ff44d55": {
      "model_module": "@jupyter-widgets/controls",
      "model_module_version": "1.5.0",
      "model_name": "HBoxModel",
      "state": {
       "children": [
        "IPY_MODEL_d45d6cb8b88a4dbe87a703a124e77b50",
        "IPY_MODEL_110854d108fc49b5a2257ed9a5cd2f6c"
       ],
       "layout": "IPY_MODEL_d3d45e99418e47d98106c578e3585da0"
      }
     },
     "0f3f6cec6311453e9874357b2989ddbd": {
      "model_module": "@jupyter-widgets/base",
      "model_module_version": "1.2.0",
      "model_name": "LayoutModel",
      "state": {}
     },
     "0f3faad173da410081b83d0aef51461c": {
      "model_module": "@jupyter-widgets/controls",
      "model_module_version": "1.5.0",
      "model_name": "HBoxModel",
      "state": {
       "children": [
        "IPY_MODEL_19054b6c1ee640a2a71d670e9c62e3d7",
        "IPY_MODEL_9b3001211d9443648e723048c95fcc1f"
       ],
       "layout": "IPY_MODEL_2a88256aeeea42288bb3ba94b8101015"
      }
     },
     "0fd3205973ac408691fe677187f2d33c": {
      "model_module": "@jupyter-widgets/controls",
      "model_module_version": "1.5.0",
      "model_name": "ProgressStyleModel",
      "state": {
       "description_width": "initial"
      }
     },
     "10003c7b669a4d78b5c6cd3631160922": {
      "model_module": "@jupyter-widgets/controls",
      "model_module_version": "1.5.0",
      "model_name": "HBoxModel",
      "state": {
       "children": [
        "IPY_MODEL_b6e21ac0daec4a87a18a866dc096c663",
        "IPY_MODEL_a79ccfc900d048aea6e50328c1882cbb"
       ],
       "layout": "IPY_MODEL_d2821de0833e446dbc2859ed97066500"
      }
     },
     "1006a2af2b114849a8eee8bae5d17977": {
      "model_module": "@jupyter-widgets/controls",
      "model_module_version": "1.5.0",
      "model_name": "HTMLModel",
      "state": {
       "layout": "IPY_MODEL_f3bce6299b5d4442a5a7b25075286009",
       "style": "IPY_MODEL_5ec206f472d9408da6051598f21c085d",
       "value": " 50000/50000 [00:01&lt;00:00, 32276.67it/s]"
      }
     },
     "102083682e6843d3afe6686e637b8ce8": {
      "model_module": "@jupyter-widgets/controls",
      "model_module_version": "1.5.0",
      "model_name": "HBoxModel",
      "state": {
       "children": [
        "IPY_MODEL_df7a1663fdc241dbaf8fe0a76faeaa6f",
        "IPY_MODEL_f52a8a8f8df348828f290496e86ad7b0"
       ],
       "layout": "IPY_MODEL_6fbc137f4ce94549b78a3b1d049b0b9e"
      }
     },
     "1026d2d3d3a04950b9d5a812881e7f5e": {
      "model_module": "@jupyter-widgets/base",
      "model_module_version": "1.2.0",
      "model_name": "LayoutModel",
      "state": {}
     },
     "10281cb9faac485f89a1225de0877ff1": {
      "model_module": "@jupyter-widgets/base",
      "model_module_version": "1.2.0",
      "model_name": "LayoutModel",
      "state": {}
     },
     "1045962f3c2643dbb60ad99f6cfc15e2": {
      "model_module": "@jupyter-widgets/controls",
      "model_module_version": "1.5.0",
      "model_name": "ProgressStyleModel",
      "state": {
       "description_width": "initial"
      }
     },
     "105e2a6745164cb1b54542c9dca99561": {
      "model_module": "@jupyter-widgets/controls",
      "model_module_version": "1.5.0",
      "model_name": "HBoxModel",
      "state": {
       "children": [
        "IPY_MODEL_539e473ee9c94c009924042f7502dada",
        "IPY_MODEL_8e4c1871e3214e509247abb2ca0a9bc2"
       ],
       "layout": "IPY_MODEL_c50f5ebc8de3433193989d082b1b06c9"
      }
     },
     "110854d108fc49b5a2257ed9a5cd2f6c": {
      "model_module": "@jupyter-widgets/controls",
      "model_module_version": "1.5.0",
      "model_name": "HTMLModel",
      "state": {
       "layout": "IPY_MODEL_dd45cdeea2c243a582d653b685788b5a",
       "style": "IPY_MODEL_d057df1a362e42ca8441cae56a7b98b4",
       "value": " 12975/12975 [00:00&lt;00:00, 140978.16it/s]"
      }
     },
     "114b8ef7e7454810afaba39d3f6659a5": {
      "model_module": "@jupyter-widgets/controls",
      "model_module_version": "1.5.0",
      "model_name": "ProgressStyleModel",
      "state": {
       "description_width": "initial"
      }
     },
     "11c32b2943fd4438a908d558bb36abc5": {
      "model_module": "@jupyter-widgets/controls",
      "model_module_version": "1.5.0",
      "model_name": "FloatProgressModel",
      "state": {
       "bar_style": "success",
       "description": "100%",
       "layout": "IPY_MODEL_b4ffd6593cc14ec78646ddce7c7cbf7e",
       "max": 4284,
       "style": "IPY_MODEL_06ced1abbba94beda43512049834b495",
       "value": 4284
      }
     },
     "11f5ac70ea564f12a8f04d64d7d29253": {
      "model_module": "@jupyter-widgets/controls",
      "model_module_version": "1.5.0",
      "model_name": "DescriptionStyleModel",
      "state": {
       "description_width": ""
      }
     },
     "11fc7e2e71234b179d4d4e671c9a2b6e": {
      "model_module": "@jupyter-widgets/controls",
      "model_module_version": "1.5.0",
      "model_name": "DescriptionStyleModel",
      "state": {
       "description_width": ""
      }
     },
     "1253eb1776ab41ac8727344dfba640dc": {
      "model_module": "@jupyter-widgets/controls",
      "model_module_version": "1.5.0",
      "model_name": "DescriptionStyleModel",
      "state": {
       "description_width": ""
      }
     },
     "1281587166ba4bcc8c2ad22ee8cee0ec": {
      "model_module": "@jupyter-widgets/controls",
      "model_module_version": "1.5.0",
      "model_name": "DescriptionStyleModel",
      "state": {
       "description_width": ""
      }
     },
     "128d2e52075444828e3597ef7f22c9ce": {
      "model_module": "@jupyter-widgets/controls",
      "model_module_version": "1.5.0",
      "model_name": "HTMLModel",
      "state": {
       "layout": "IPY_MODEL_6be6b90706504111bcdc83986195e460",
       "style": "IPY_MODEL_4fdd8d80744a4bbdaf638ce7cfe9b6a8",
       "value": " 50000/50000 [17:48&lt;00:00, 46.78it/s]"
      }
     },
     "13435380af3a464ebd8cc2f7c0167dd6": {
      "model_module": "@jupyter-widgets/base",
      "model_module_version": "1.2.0",
      "model_name": "LayoutModel",
      "state": {}
     },
     "1384df77b78144f188991c500954379f": {
      "model_module": "@jupyter-widgets/controls",
      "model_module_version": "1.5.0",
      "model_name": "HTMLModel",
      "state": {
       "layout": "IPY_MODEL_15b5079b86104218a139ed97d27344d4",
       "style": "IPY_MODEL_b2e1f2283dca43c0a4b1cfef35dbbb89",
       "value": " 9237/9237 [09:09&lt;00:00, 16.80it/s]"
      }
     },
     "13a66df983ef4d6fa6aaa9a28f8a760c": {
      "model_module": "@jupyter-widgets/controls",
      "model_module_version": "1.5.0",
      "model_name": "ProgressStyleModel",
      "state": {
       "description_width": "initial"
      }
     },
     "13b3d86569704d42891e88acb567a7e4": {
      "model_module": "@jupyter-widgets/controls",
      "model_module_version": "1.5.0",
      "model_name": "HTMLModel",
      "state": {
       "layout": "IPY_MODEL_b2dff44ddf0d4cfe8a97075f2ea47ced",
       "style": "IPY_MODEL_ec931ddf5fb146c0b1bc49e71791d5cf",
       "value": " 9237/9237 [00:36&lt;00:00, 254.99it/s]"
      }
     },
     "13bb2db4bab14213b7ff20474dd32322": {
      "model_module": "@jupyter-widgets/controls",
      "model_module_version": "1.5.0",
      "model_name": "HBoxModel",
      "state": {
       "children": [
        "IPY_MODEL_6c57f027fefb4bbc87a9e671781f3c28",
        "IPY_MODEL_5278519a561d4264997c979d11ade623"
       ],
       "layout": "IPY_MODEL_1ffd5255e6ad426dbeedde35ada1069f"
      }
     },
     "13c46d4a6c254babb66c66664e760855": {
      "model_module": "@jupyter-widgets/controls",
      "model_module_version": "1.5.0",
      "model_name": "HTMLModel",
      "state": {
       "layout": "IPY_MODEL_ac44dc7b3fd14930920f8e6c480faa6b",
       "style": "IPY_MODEL_6ed21d711cc64b5f92ab60c7edf482ac",
       "value": " 9237/9237 [17:05&lt;00:00,  9.01it/s]"
      }
     },
     "13d8063a1e39409f91470347caa67848": {
      "model_module": "@jupyter-widgets/controls",
      "model_module_version": "1.5.0",
      "model_name": "HBoxModel",
      "state": {
       "children": [
        "IPY_MODEL_f0035d2700dd4f7bb9b8de50090cbc29",
        "IPY_MODEL_8239af2c8f864e6c96be339a2dd87d2a"
       ],
       "layout": "IPY_MODEL_3b5b7f53364b40e8b242ec9211543351"
      }
     },
     "13ee856e7e78483f8802ff648b9b7453": {
      "model_module": "@jupyter-widgets/controls",
      "model_module_version": "1.5.0",
      "model_name": "ProgressStyleModel",
      "state": {
       "description_width": "initial"
      }
     },
     "1435edd25e42461db009dbef3b5c50b1": {
      "model_module": "@jupyter-widgets/base",
      "model_module_version": "1.2.0",
      "model_name": "LayoutModel",
      "state": {}
     },
     "1499ae871c634b4e87a486330bc15e47": {
      "model_module": "@jupyter-widgets/controls",
      "model_module_version": "1.5.0",
      "model_name": "ProgressStyleModel",
      "state": {
       "description_width": "initial"
      }
     },
     "1512e09399924602bede1a9d59fd1857": {
      "model_module": "@jupyter-widgets/base",
      "model_module_version": "1.2.0",
      "model_name": "LayoutModel",
      "state": {}
     },
     "1518ca1a882b4c5fbadfe38eebb29e03": {
      "model_module": "@jupyter-widgets/controls",
      "model_module_version": "1.5.0",
      "model_name": "ProgressStyleModel",
      "state": {
       "description_width": "initial"
      }
     },
     "152a14aa91aa4f07a3bef63c9f7cfee7": {
      "model_module": "@jupyter-widgets/controls",
      "model_module_version": "1.5.0",
      "model_name": "ProgressStyleModel",
      "state": {
       "description_width": "initial"
      }
     },
     "1595902dadec4d44b12b9f0be09d03bd": {
      "model_module": "@jupyter-widgets/base",
      "model_module_version": "1.2.0",
      "model_name": "LayoutModel",
      "state": {}
     },
     "15a70ee1e9da47789c5966ee4ed4d402": {
      "model_module": "@jupyter-widgets/base",
      "model_module_version": "1.2.0",
      "model_name": "LayoutModel",
      "state": {}
     },
     "15a943ab797445ffb5debc2a1cb3b580": {
      "model_module": "@jupyter-widgets/controls",
      "model_module_version": "1.5.0",
      "model_name": "FloatProgressModel",
      "state": {
       "bar_style": "success",
       "description": "100%",
       "layout": "IPY_MODEL_1026d2d3d3a04950b9d5a812881e7f5e",
       "max": 4284,
       "style": "IPY_MODEL_2fa8205295ce45af963a835ecb216d33",
       "value": 4284
      }
     },
     "15b5079b86104218a139ed97d27344d4": {
      "model_module": "@jupyter-widgets/base",
      "model_module_version": "1.2.0",
      "model_name": "LayoutModel",
      "state": {}
     },
     "160b883ca837440c9404bc9c1b8e68bb": {
      "model_module": "@jupyter-widgets/controls",
      "model_module_version": "1.5.0",
      "model_name": "ProgressStyleModel",
      "state": {
       "description_width": "initial"
      }
     },
     "16281d83eb80474cb7edc23cd80dfa4f": {
      "model_module": "@jupyter-widgets/controls",
      "model_module_version": "1.5.0",
      "model_name": "HBoxModel",
      "state": {
       "children": [
        "IPY_MODEL_41d6a1a8d6ac4aa98480b895280c7a0d",
        "IPY_MODEL_d03da6d8f5d547868261e3fa7f6ddd6e"
       ],
       "layout": "IPY_MODEL_971b28c52e224b9790b9235a46dce9dd"
      }
     },
     "16452a784511440cb8958e93953b6b38": {
      "model_module": "@jupyter-widgets/controls",
      "model_module_version": "1.5.0",
      "model_name": "HBoxModel",
      "state": {
       "children": [
        "IPY_MODEL_6986c42d9f4f4d97b28da9d0b6fcdc26",
        "IPY_MODEL_04f0829401d142c68aeb723e95f78f6b"
       ],
       "layout": "IPY_MODEL_d53c4bc2004f4df5baa82fdb910e0198"
      }
     },
     "1661f084385a44b8b15c5a2770347436": {
      "model_module": "@jupyter-widgets/controls",
      "model_module_version": "1.5.0",
      "model_name": "HBoxModel",
      "state": {
       "children": [
        "IPY_MODEL_fab86ad5f658452fb499476ed3c85a29",
        "IPY_MODEL_497825eb1bff4e0e98626cd625f804f3"
       ],
       "layout": "IPY_MODEL_d761748bc3784acfa7a0510d004a3393"
      }
     },
     "168cbb39376247fab8c15e9f97f44be8": {
      "model_module": "@jupyter-widgets/controls",
      "model_module_version": "1.5.0",
      "model_name": "DescriptionStyleModel",
      "state": {
       "description_width": ""
      }
     },
     "16a33edf54b0447f9a1694d31574f6f2": {
      "model_module": "@jupyter-widgets/base",
      "model_module_version": "1.2.0",
      "model_name": "LayoutModel",
      "state": {}
     },
     "16a374df59d34cc4ac9a7e996fcc68f2": {
      "model_module": "@jupyter-widgets/base",
      "model_module_version": "1.2.0",
      "model_name": "LayoutModel",
      "state": {}
     },
     "16b821215c4e4169b5150ee2ca389915": {
      "model_module": "@jupyter-widgets/controls",
      "model_module_version": "1.5.0",
      "model_name": "HBoxModel",
      "state": {
       "children": [
        "IPY_MODEL_278cdf3644ab41bebfabcd310e289fff",
        "IPY_MODEL_24558c8b9cda4412bcb8548525d07e50"
       ],
       "layout": "IPY_MODEL_1a46743c462248b8bb4dcb892092a80a"
      }
     },
     "16d94721ae894f0186650308b3c5b8da": {
      "model_module": "@jupyter-widgets/controls",
      "model_module_version": "1.5.0",
      "model_name": "DescriptionStyleModel",
      "state": {
       "description_width": ""
      }
     },
     "16dff93b6a0749b8922271e970719abd": {
      "model_module": "@jupyter-widgets/base",
      "model_module_version": "1.2.0",
      "model_name": "LayoutModel",
      "state": {}
     },
     "1708746194414a2eaf79d1322868ccee": {
      "model_module": "@jupyter-widgets/controls",
      "model_module_version": "1.5.0",
      "model_name": "DescriptionStyleModel",
      "state": {
       "description_width": ""
      }
     },
     "17104afeb85843e48e47a4055ed23302": {
      "model_module": "@jupyter-widgets/controls",
      "model_module_version": "1.5.0",
      "model_name": "HBoxModel",
      "state": {
       "children": [
        "IPY_MODEL_11c32b2943fd4438a908d558bb36abc5",
        "IPY_MODEL_6de19192814e4e73afad4d80f0bdce9d"
       ],
       "layout": "IPY_MODEL_47b073f686ea48188dbc39166dc8303b"
      }
     },
     "172167383db045eb818d16bc6e3f8d28": {
      "model_module": "@jupyter-widgets/base",
      "model_module_version": "1.2.0",
      "model_name": "LayoutModel",
      "state": {}
     },
     "172473debab84e7fa596c36b9148e870": {
      "model_module": "@jupyter-widgets/controls",
      "model_module_version": "1.5.0",
      "model_name": "DescriptionStyleModel",
      "state": {
       "description_width": ""
      }
     },
     "174016754f24403b9d0da426f4f1fc23": {
      "model_module": "@jupyter-widgets/controls",
      "model_module_version": "1.5.0",
      "model_name": "DescriptionStyleModel",
      "state": {
       "description_width": ""
      }
     },
     "179c2353412249d9b085b083c81a075e": {
      "model_module": "@jupyter-widgets/controls",
      "model_module_version": "1.5.0",
      "model_name": "DescriptionStyleModel",
      "state": {
       "description_width": ""
      }
     },
     "17a1e582ac5648569ca8a0310c1a3fcb": {
      "model_module": "@jupyter-widgets/base",
      "model_module_version": "1.2.0",
      "model_name": "LayoutModel",
      "state": {}
     },
     "17c3f32fb68645dc934e93bd4212435d": {
      "model_module": "@jupyter-widgets/base",
      "model_module_version": "1.2.0",
      "model_name": "LayoutModel",
      "state": {}
     },
     "180249071ba444f7b15b4b1d0ac18ada": {
      "model_module": "@jupyter-widgets/controls",
      "model_module_version": "1.5.0",
      "model_name": "FloatProgressModel",
      "state": {
       "bar_style": "success",
       "description": "100%",
       "layout": "IPY_MODEL_74d427e66ca541049bd25dc2742dd645",
       "max": 9237,
       "style": "IPY_MODEL_1d47f1cda1fc4587b0bf0d3f7337efbf",
       "value": 9237
      }
     },
     "1881cd6686a443fdaf5b51e37d0bbbca": {
      "model_module": "@jupyter-widgets/controls",
      "model_module_version": "1.5.0",
      "model_name": "ProgressStyleModel",
      "state": {
       "description_width": "initial"
      }
     },
     "1898d4bc6a744a8c8eeee57c5b056196": {
      "model_module": "@jupyter-widgets/controls",
      "model_module_version": "1.5.0",
      "model_name": "FloatProgressModel",
      "state": {
       "bar_style": "success",
       "description": "100%",
       "layout": "IPY_MODEL_fcb921f126284aeeb76eeacb596727f3",
       "max": 2856,
       "style": "IPY_MODEL_fd8187e98eaf4eecb56d261a59d4f39b",
       "value": 2856
      }
     },
     "19054b6c1ee640a2a71d670e9c62e3d7": {
      "model_module": "@jupyter-widgets/controls",
      "model_module_version": "1.5.0",
      "model_name": "FloatProgressModel",
      "state": {
       "bar_style": "success",
       "description": "100%",
       "layout": "IPY_MODEL_d944439443fb4f808583311b3272ee3a",
       "max": 9236,
       "style": "IPY_MODEL_d1a0fd5c4d704bc2bdfa8d9698acd643",
       "value": 9236
      }
     },
     "1955297da2854d7080d4732fdf21b084": {
      "model_module": "@jupyter-widgets/base",
      "model_module_version": "1.2.0",
      "model_name": "LayoutModel",
      "state": {}
     },
     "196a41f33c184656921e18b9688853f4": {
      "model_module": "@jupyter-widgets/base",
      "model_module_version": "1.2.0",
      "model_name": "LayoutModel",
      "state": {}
     },
     "1974a19f856e4149862018b97cbbb65b": {
      "model_module": "@jupyter-widgets/controls",
      "model_module_version": "1.5.0",
      "model_name": "DescriptionStyleModel",
      "state": {
       "description_width": ""
      }
     },
     "198e9937845f470caf0d1abfcdf67eee": {
      "model_module": "@jupyter-widgets/controls",
      "model_module_version": "1.5.0",
      "model_name": "HTMLModel",
      "state": {
       "layout": "IPY_MODEL_721926ee76ef4961935502ab9c510d0c",
       "style": "IPY_MODEL_7460eefeae7f49a287fe70d4a7ed6364",
       "value": " 10000/10000 [00:00&lt;00:00, 38342.14it/s]"
      }
     },
     "19a96368b9264e96929ca7cf04a5da0e": {
      "model_module": "@jupyter-widgets/base",
      "model_module_version": "1.2.0",
      "model_name": "LayoutModel",
      "state": {}
     },
     "19bca3ea64ac40c39bdbc7b7127c0e41": {
      "model_module": "@jupyter-widgets/controls",
      "model_module_version": "1.5.0",
      "model_name": "DescriptionStyleModel",
      "state": {
       "description_width": ""
      }
     },
     "19d68a7fe93b46ad94d64b255da60394": {
      "model_module": "@jupyter-widgets/controls",
      "model_module_version": "1.5.0",
      "model_name": "ProgressStyleModel",
      "state": {
       "description_width": "initial"
      }
     },
     "19e4d72000cc4e46a316522a4a9a8b0c": {
      "model_module": "@jupyter-widgets/controls",
      "model_module_version": "1.5.0",
      "model_name": "FloatProgressModel",
      "state": {
       "bar_style": "success",
       "description": "100%",
       "layout": "IPY_MODEL_a2f44c58a00a4d2da3ec789f25c9d9cb",
       "max": 9237,
       "style": "IPY_MODEL_0c708339f5fa4c33b3f7e145967e192a",
       "value": 9237
      }
     },
     "1a299abd9cbd4c02ad538c7d146ef1da": {
      "model_module": "@jupyter-widgets/controls",
      "model_module_version": "1.5.0",
      "model_name": "DescriptionStyleModel",
      "state": {
       "description_width": ""
      }
     },
     "1a46352198eb4472985b4eaa9092873b": {
      "model_module": "@jupyter-widgets/controls",
      "model_module_version": "1.5.0",
      "model_name": "FloatProgressModel",
      "state": {
       "bar_style": "success",
       "description": "100%",
       "layout": "IPY_MODEL_879772cd06bc4003acfa1934445c8faf",
       "max": 7140,
       "style": "IPY_MODEL_5595b875a28c40499652c82210314994",
       "value": 7140
      }
     },
     "1a46743c462248b8bb4dcb892092a80a": {
      "model_module": "@jupyter-widgets/base",
      "model_module_version": "1.2.0",
      "model_name": "LayoutModel",
      "state": {}
     },
     "1a6a45e459d84b8da13762e6a578e430": {
      "model_module": "@jupyter-widgets/controls",
      "model_module_version": "1.5.0",
      "model_name": "HTMLModel",
      "state": {
       "layout": "IPY_MODEL_429ce41a716f468eb955b37dddb5bbbd",
       "style": "IPY_MODEL_d7506d2a685a426f90ce276358d112e0",
       "value": " 9237/9237 [00:33&lt;00:00, 273.83it/s]"
      }
     },
     "1a806410a65d45879d18211578e96014": {
      "model_module": "@jupyter-widgets/controls",
      "model_module_version": "1.5.0",
      "model_name": "ProgressStyleModel",
      "state": {
       "description_width": "initial"
      }
     },
     "1a8a1319ec7d4f35a90b5c05c88e8294": {
      "model_module": "@jupyter-widgets/controls",
      "model_module_version": "1.5.0",
      "model_name": "DescriptionStyleModel",
      "state": {
       "description_width": ""
      }
     },
     "1aaaa5dbfb6f41cca5d0825639cfcd6f": {
      "model_module": "@jupyter-widgets/controls",
      "model_module_version": "1.5.0",
      "model_name": "HTMLModel",
      "state": {
       "layout": "IPY_MODEL_403548f5ac58496dbf570ceee8b4ea9d",
       "style": "IPY_MODEL_effe09b23f304d769113f9d5fe143c1e",
       "value": " 9237/9237 [13:17&lt;00:00, 11.59it/s]"
      }
     },
     "1ab31f7228394e40a72f6b7789e2c6c1": {
      "model_module": "@jupyter-widgets/controls",
      "model_module_version": "1.5.0",
      "model_name": "FloatProgressModel",
      "state": {
       "bar_style": "success",
       "description": "100%",
       "layout": "IPY_MODEL_063e7b1496c146faafa29867b301c1fb",
       "max": 7140,
       "style": "IPY_MODEL_fa0ef408782e43af905c3b55bd5e0964",
       "value": 7140
      }
     },
     "1ae48ba4b7ac4f66982bcd6160bdfebe": {
      "model_module": "@jupyter-widgets/controls",
      "model_module_version": "1.5.0",
      "model_name": "FloatProgressModel",
      "state": {
       "bar_style": "success",
       "description": "100%",
       "layout": "IPY_MODEL_9464a5a1e4a04457915ed9dead8c5295",
       "max": 9999,
       "style": "IPY_MODEL_1518ca1a882b4c5fbadfe38eebb29e03",
       "value": 9999
      }
     },
     "1b1ffb76318744c8b69cef15071b8f66": {
      "model_module": "@jupyter-widgets/controls",
      "model_module_version": "1.5.0",
      "model_name": "HBoxModel",
      "state": {
       "children": [
        "IPY_MODEL_b79bfd63172c4b2d855bda32dc0d0020",
        "IPY_MODEL_b476796eb9824b7295630859c3f5ca31"
       ],
       "layout": "IPY_MODEL_f34cf82653e046169f2037ca607e5e5e"
      }
     },
     "1b4c7ba97fe443aaa56aa8d3d5f98a58": {
      "model_module": "@jupyter-widgets/base",
      "model_module_version": "1.2.0",
      "model_name": "LayoutModel",
      "state": {}
     },
     "1b7bbb6946f642cd960d7081943432e8": {
      "model_module": "@jupyter-widgets/controls",
      "model_module_version": "1.5.0",
      "model_name": "HBoxModel",
      "state": {
       "children": [
        "IPY_MODEL_c92f1eb66936486e93802fc804c08ab9",
        "IPY_MODEL_657e9b901b324b6db51e2d9866ed30e2"
       ],
       "layout": "IPY_MODEL_951786ed8aab48baa6160826814ad6c8"
      }
     },
     "1bfbafcd008c436284f5db7574fc2ba1": {
      "model_module": "@jupyter-widgets/controls",
      "model_module_version": "1.5.0",
      "model_name": "DescriptionStyleModel",
      "state": {
       "description_width": ""
      }
     },
     "1c0ff3973ee94c65af4c9cc3fdac83ea": {
      "model_module": "@jupyter-widgets/controls",
      "model_module_version": "1.5.0",
      "model_name": "DescriptionStyleModel",
      "state": {
       "description_width": ""
      }
     },
     "1c36aae486b64d739b8aecf5364ccb11": {
      "model_module": "@jupyter-widgets/controls",
      "model_module_version": "1.5.0",
      "model_name": "HBoxModel",
      "state": {
       "children": [
        "IPY_MODEL_38434be7c17f42789595f00da93ba4ea",
        "IPY_MODEL_fa76523c05ee4b68a9f3481cc8bfba06"
       ],
       "layout": "IPY_MODEL_80a63dd177bd4db7984a28182c4431ec"
      }
     },
     "1c3be64f0d62463f937bf2cdd912704f": {
      "model_module": "@jupyter-widgets/base",
      "model_module_version": "1.2.0",
      "model_name": "LayoutModel",
      "state": {}
     },
     "1c5c48c353824880afbbff874efe37d7": {
      "model_module": "@jupyter-widgets/base",
      "model_module_version": "1.2.0",
      "model_name": "LayoutModel",
      "state": {}
     },
     "1c9853ef335a4779bf0394508230fdc8": {
      "model_module": "@jupyter-widgets/controls",
      "model_module_version": "1.5.0",
      "model_name": "HTMLModel",
      "state": {
       "layout": "IPY_MODEL_bb24a144618445a7a030ef2db98d9c19",
       "style": "IPY_MODEL_651bef49b3544688b534f43935043481",
       "value": " 9236/9236 [00:36&lt;00:00, 252.78it/s]"
      }
     },
     "1ceeb03dfa064127869abfa752e7b7dd": {
      "model_module": "@jupyter-widgets/controls",
      "model_module_version": "1.5.0",
      "model_name": "ProgressStyleModel",
      "state": {
       "description_width": "initial"
      }
     },
     "1d0274bf29e44d969c3fb9a8217eeee9": {
      "model_module": "@jupyter-widgets/controls",
      "model_module_version": "1.5.0",
      "model_name": "ProgressStyleModel",
      "state": {
       "description_width": "initial"
      }
     },
     "1d0c853450e84441b9a5ecb973b6d625": {
      "model_module": "@jupyter-widgets/base",
      "model_module_version": "1.2.0",
      "model_name": "LayoutModel",
      "state": {}
     },
     "1d2555540ed24b958fd0fc83cbd1d19b": {
      "model_module": "@jupyter-widgets/controls",
      "model_module_version": "1.5.0",
      "model_name": "DescriptionStyleModel",
      "state": {
       "description_width": ""
      }
     },
     "1d2dad8a92df40c4886b827d052d6f20": {
      "model_module": "@jupyter-widgets/controls",
      "model_module_version": "1.5.0",
      "model_name": "HTMLModel",
      "state": {
       "layout": "IPY_MODEL_a517eaff4d6e459aa83ffa7660aff712",
       "style": "IPY_MODEL_39cc6b943c934635833046334f346994",
       "value": " 9237/9237 [12:51&lt;00:00, 11.98it/s]"
      }
     },
     "1d47f1cda1fc4587b0bf0d3f7337efbf": {
      "model_module": "@jupyter-widgets/controls",
      "model_module_version": "1.5.0",
      "model_name": "ProgressStyleModel",
      "state": {
       "description_width": "initial"
      }
     },
     "1d57a64543e646f4ad8e548f9eb389f3": {
      "model_module": "@jupyter-widgets/controls",
      "model_module_version": "1.5.0",
      "model_name": "HTMLModel",
      "state": {
       "layout": "IPY_MODEL_b921caf496c94f97ac1bfda457dbe254",
       "style": "IPY_MODEL_fad44dabda844654ba76e82f3e179898",
       "value": " 4284/4284 [09:40&lt;00:00,  7.38it/s]"
      }
     },
     "1daa0040e02149c2b065a653911ca5c4": {
      "model_module": "@jupyter-widgets/base",
      "model_module_version": "1.2.0",
      "model_name": "LayoutModel",
      "state": {}
     },
     "1db7068efaa243ce8eb6e531f44dff99": {
      "model_module": "@jupyter-widgets/base",
      "model_module_version": "1.2.0",
      "model_name": "LayoutModel",
      "state": {}
     },
     "1dced9c3779e4538aef57428157009ab": {
      "model_module": "@jupyter-widgets/base",
      "model_module_version": "1.2.0",
      "model_name": "LayoutModel",
      "state": {}
     },
     "1ddce0c4379b417794d6c43ff3fcb8e3": {
      "model_module": "@jupyter-widgets/controls",
      "model_module_version": "1.5.0",
      "model_name": "ProgressStyleModel",
      "state": {
       "description_width": "initial"
      }
     },
     "1dfa08312771456e8f28a45bfdfc66a1": {
      "model_module": "@jupyter-widgets/controls",
      "model_module_version": "1.5.0",
      "model_name": "HTMLModel",
      "state": {
       "layout": "IPY_MODEL_ffeba4770bce481c9886a867d1b1af36",
       "style": "IPY_MODEL_29e48c9477204e5180da4822405dc8f8",
       "value": " 9999/9999 [00:10&lt;00:00, 977.09it/s]"
      }
     },
     "1e0f3b4f83d34e608cd13fc49fc5f402": {
      "model_module": "@jupyter-widgets/controls",
      "model_module_version": "1.5.0",
      "model_name": "DescriptionStyleModel",
      "state": {
       "description_width": ""
      }
     },
     "1e38fc6f3f034598a54e53f0e83b556f": {
      "model_module": "@jupyter-widgets/controls",
      "model_module_version": "1.5.0",
      "model_name": "FloatProgressModel",
      "state": {
       "bar_style": "success",
       "description": "100%",
       "layout": "IPY_MODEL_ebc3af82b7164a9197cb20370d1ef396",
       "max": 9237,
       "style": "IPY_MODEL_c1d7669f9f91413184fbae2a00ccf246",
       "value": 9237
      }
     },
     "1e7aef80388f46ae9255075d94f6f6da": {
      "model_module": "@jupyter-widgets/controls",
      "model_module_version": "1.5.0",
      "model_name": "DescriptionStyleModel",
      "state": {
       "description_width": ""
      }
     },
     "1e889535b4b14d77a6e3cd91016ca8c6": {
      "model_module": "@jupyter-widgets/controls",
      "model_module_version": "1.5.0",
      "model_name": "FloatProgressModel",
      "state": {
       "bar_style": "success",
       "description": "100%",
       "layout": "IPY_MODEL_71ed647232de4167a5dc86e68a831b5d",
       "max": 3570,
       "style": "IPY_MODEL_cfdf9e7f43a14a98adafcd9bcc610f8f",
       "value": 3570
      }
     },
     "1e8a0060fb224439970ddaa50535f527": {
      "model_module": "@jupyter-widgets/base",
      "model_module_version": "1.2.0",
      "model_name": "LayoutModel",
      "state": {}
     },
     "1ec10f9e79c142c682df7d65cc2d0a4d": {
      "model_module": "@jupyter-widgets/base",
      "model_module_version": "1.2.0",
      "model_name": "LayoutModel",
      "state": {}
     },
     "1ed4a04a685b4860b02e6492745b45db": {
      "model_module": "@jupyter-widgets/controls",
      "model_module_version": "1.5.0",
      "model_name": "DescriptionStyleModel",
      "state": {
       "description_width": ""
      }
     },
     "1edd3c09b5064cf492227154c8fa358c": {
      "model_module": "@jupyter-widgets/base",
      "model_module_version": "1.2.0",
      "model_name": "LayoutModel",
      "state": {}
     },
     "1ee065485dee42af8c679135070dcaf2": {
      "model_module": "@jupyter-widgets/controls",
      "model_module_version": "1.5.0",
      "model_name": "ProgressStyleModel",
      "state": {
       "description_width": "initial"
      }
     },
     "1f24bc6f981246b782e6d3d0ab1fa994": {
      "model_module": "@jupyter-widgets/controls",
      "model_module_version": "1.5.0",
      "model_name": "DescriptionStyleModel",
      "state": {
       "description_width": ""
      }
     },
     "1f5cd192a2c9427786a5a99af1c8eb4b": {
      "model_module": "@jupyter-widgets/controls",
      "model_module_version": "1.5.0",
      "model_name": "FloatProgressModel",
      "state": {
       "bar_style": "success",
       "description": "100%",
       "layout": "IPY_MODEL_9576558948074639a60e2029d9734be2",
       "max": 7140,
       "style": "IPY_MODEL_63b56123144543fd8bc20a504697ee0a",
       "value": 7140
      }
     },
     "1f697058ae424218a2a687c0e62f365a": {
      "model_module": "@jupyter-widgets/controls",
      "model_module_version": "1.5.0",
      "model_name": "HBoxModel",
      "state": {
       "children": [
        "IPY_MODEL_8512746e343e4e25a9b8d8b7e73982af",
        "IPY_MODEL_2c01b85097e34eccb39963cb1c49ffd7"
       ],
       "layout": "IPY_MODEL_24b56dc279c24db2b4fe24ef8a2f47b1"
      }
     },
     "1f6babf404fd4137963381f86a597866": {
      "model_module": "@jupyter-widgets/base",
      "model_module_version": "1.2.0",
      "model_name": "LayoutModel",
      "state": {}
     },
     "1fd88afa387a409680fe4ed13018ecba": {
      "model_module": "@jupyter-widgets/base",
      "model_module_version": "1.2.0",
      "model_name": "LayoutModel",
      "state": {}
     },
     "1ffd5255e6ad426dbeedde35ada1069f": {
      "model_module": "@jupyter-widgets/base",
      "model_module_version": "1.2.0",
      "model_name": "LayoutModel",
      "state": {}
     },
     "20d7b16867b54f5fb53206fea5baa63b": {
      "model_module": "@jupyter-widgets/controls",
      "model_module_version": "1.5.0",
      "model_name": "HTMLModel",
      "state": {
       "layout": "IPY_MODEL_def5ddc9bae345a3b6ba64fd67d3c311",
       "style": "IPY_MODEL_11fc7e2e71234b179d4d4e671c9a2b6e",
       "value": " 1428/1428 [03:22&lt;00:00,  7.07it/s]"
      }
     },
     "20de91c4825b46fba4c93eaf5bf8ac17": {
      "model_module": "@jupyter-widgets/base",
      "model_module_version": "1.2.0",
      "model_name": "LayoutModel",
      "state": {}
     },
     "21061a18e5a344718fada27aee99d97c": {
      "model_module": "@jupyter-widgets/controls",
      "model_module_version": "1.5.0",
      "model_name": "FloatProgressModel",
      "state": {
       "bar_style": "success",
       "description": "100%",
       "layout": "IPY_MODEL_7153c6e394cc49c796fa646b768c3757",
       "max": 17556,
       "style": "IPY_MODEL_271ddcc69ee64b3b8b39e6be96a62872",
       "value": 17556
      }
     },
     "2132b86ed9ce46a7a9d4d655e70fa1f6": {
      "model_module": "@jupyter-widgets/controls",
      "model_module_version": "1.5.0",
      "model_name": "DescriptionStyleModel",
      "state": {
       "description_width": ""
      }
     },
     "219aee8e8f1d4c4c81294426861f5ded": {
      "model_module": "@jupyter-widgets/controls",
      "model_module_version": "1.5.0",
      "model_name": "FloatProgressModel",
      "state": {
       "bar_style": "success",
       "description": "100%",
       "layout": "IPY_MODEL_c1a2731d08da430085082e52bb1562ce",
       "max": 27825,
       "style": "IPY_MODEL_78caafd3d1814d579f3664f7848f1f02",
       "value": 27825
      }
     },
     "21a55f5a0a79421fa0f87bf4e3aeaee9": {
      "model_module": "@jupyter-widgets/controls",
      "model_module_version": "1.5.0",
      "model_name": "DescriptionStyleModel",
      "state": {
       "description_width": ""
      }
     },
     "21b3c97e415c4f74a231a0be2727072e": {
      "model_module": "@jupyter-widgets/controls",
      "model_module_version": "1.5.0",
      "model_name": "DescriptionStyleModel",
      "state": {
       "description_width": ""
      }
     },
     "222180adb6544d5a9039af7b67986ffc": {
      "model_module": "@jupyter-widgets/base",
      "model_module_version": "1.2.0",
      "model_name": "LayoutModel",
      "state": {}
     },
     "222958204e004b47b867c7040bf4613e": {
      "model_module": "@jupyter-widgets/controls",
      "model_module_version": "1.5.0",
      "model_name": "ProgressStyleModel",
      "state": {
       "description_width": "initial"
      }
     },
     "2231bcaf47ca47668c8cfde0e6463a80": {
      "model_module": "@jupyter-widgets/base",
      "model_module_version": "1.2.0",
      "model_name": "LayoutModel",
      "state": {}
     },
     "226b9627ca3648aeac991d011715fd42": {
      "model_module": "@jupyter-widgets/controls",
      "model_module_version": "1.5.0",
      "model_name": "HTMLModel",
      "state": {
       "layout": "IPY_MODEL_3c3714a854e446b4ab44514241729d9d",
       "style": "IPY_MODEL_f11bbb19c6f9459b82f50ccaf56eade7",
       "value": " 9237/9237 [00:36&lt;00:00, 256.50it/s]"
      }
     },
     "226cc3258f894d02927f600f3c754f75": {
      "model_module": "@jupyter-widgets/base",
      "model_module_version": "1.2.0",
      "model_name": "LayoutModel",
      "state": {}
     },
     "228738040104409d95f4f561a5b1fc3d": {
      "model_module": "@jupyter-widgets/controls",
      "model_module_version": "1.5.0",
      "model_name": "HTMLModel",
      "state": {
       "layout": "IPY_MODEL_c5935684fdb54f51bf58ab42d6d8589c",
       "style": "IPY_MODEL_5330d7c5ce234abfa0e15b7029fd1046",
       "value": " 19995/19995 [00:02&lt;00:00, 7298.27it/s]"
      }
     },
     "229f6e7c95fc41efadbdba94e86515e8": {
      "model_module": "@jupyter-widgets/base",
      "model_module_version": "1.2.0",
      "model_name": "LayoutModel",
      "state": {}
     },
     "22bc5388920643e2b8664462b844c700": {
      "model_module": "@jupyter-widgets/controls",
      "model_module_version": "1.5.0",
      "model_name": "HTMLModel",
      "state": {
       "layout": "IPY_MODEL_dede2c82e1714157931612173ae41191",
       "style": "IPY_MODEL_7ffb1bed682043c6a64512422de5af69",
       "value": " 7140/7140 [16:07&lt;00:00,  7.38it/s]"
      }
     },
     "22bfdc8eab5a4616b293b638de02d544": {
      "model_module": "@jupyter-widgets/base",
      "model_module_version": "1.2.0",
      "model_name": "LayoutModel",
      "state": {}
     },
     "22c58772a3d247cca3be7a69a78f323f": {
      "model_module": "@jupyter-widgets/controls",
      "model_module_version": "1.5.0",
      "model_name": "ProgressStyleModel",
      "state": {
       "description_width": "initial"
      }
     },
     "2331e274e1294e1eb7696afc2a7c9f3c": {
      "model_module": "@jupyter-widgets/controls",
      "model_module_version": "1.5.0",
      "model_name": "HBoxModel",
      "state": {
       "children": [
        "IPY_MODEL_9df4166798384c2594cbb3ac7a3093be",
        "IPY_MODEL_e1d50d7c3cb24be49e8cb39256029cf2"
       ],
       "layout": "IPY_MODEL_c183e00e2b574aa69013dbd02ed26be9"
      }
     },
     "23529bca4bce440bb03fe18409eb7232": {
      "model_module": "@jupyter-widgets/base",
      "model_module_version": "1.2.0",
      "model_name": "LayoutModel",
      "state": {}
     },
     "23a323254fba4720bd3ce088114dcb27": {
      "model_module": "@jupyter-widgets/controls",
      "model_module_version": "1.5.0",
      "model_name": "DescriptionStyleModel",
      "state": {
       "description_width": ""
      }
     },
     "23ca8dea3f9d4b6d86a718cccd4eb6dc": {
      "model_module": "@jupyter-widgets/controls",
      "model_module_version": "1.5.0",
      "model_name": "FloatProgressModel",
      "state": {
       "bar_style": "success",
       "description": "100%",
       "layout": "IPY_MODEL_c1c6d99b293144588e5efe164445dae1",
       "max": 9236,
       "style": "IPY_MODEL_ae3394c0462b4ee8b06766a1aa6096af",
       "value": 9236
      }
     },
     "23cafa3fa89b40598dbb100e3c13686e": {
      "model_module": "@jupyter-widgets/controls",
      "model_module_version": "1.5.0",
      "model_name": "FloatProgressModel",
      "state": {
       "bar_style": "success",
       "description": "100%",
       "layout": "IPY_MODEL_d808bdfb9c554e318adbea9b4d4fd148",
       "max": 4284,
       "style": "IPY_MODEL_0fd3205973ac408691fe677187f2d33c",
       "value": 4284
      }
     },
     "23d283c6b1154039a8dba75fd5ab2c91": {
      "model_module": "@jupyter-widgets/controls",
      "model_module_version": "1.5.0",
      "model_name": "ProgressStyleModel",
      "state": {
       "description_width": "initial"
      }
     },
     "23d65a48f3664620a814fd15fefb9c29": {
      "model_module": "@jupyter-widgets/controls",
      "model_module_version": "1.5.0",
      "model_name": "HBoxModel",
      "state": {
       "children": [
        "IPY_MODEL_4a5c0f7765d24bd89ea91b4d34a74253",
        "IPY_MODEL_deb5ea385a07412a9ea6f52a5850d018"
       ],
       "layout": "IPY_MODEL_48edf32acc8e42c0b0ed33c7fb418c9a"
      }
     },
     "2402ec2dd300426bb4beeb7877aa6606": {
      "model_module": "@jupyter-widgets/base",
      "model_module_version": "1.2.0",
      "model_name": "LayoutModel",
      "state": {}
     },
     "243db179abc14baa8cd9421ee18a1fd3": {
      "model_module": "@jupyter-widgets/base",
      "model_module_version": "1.2.0",
      "model_name": "LayoutModel",
      "state": {}
     },
     "24558c8b9cda4412bcb8548525d07e50": {
      "model_module": "@jupyter-widgets/controls",
      "model_module_version": "1.5.0",
      "model_name": "HTMLModel",
      "state": {
       "layout": "IPY_MODEL_53820c1bf37e41a280288cf9173026ce",
       "style": "IPY_MODEL_f6b145bd8c154027af6f591afee21fc6",
       "value": " 49982/49982 [00:06&lt;00:00, 8287.41it/s]"
      }
     },
     "245c86bc110246508d87a48c0100e22a": {
      "model_module": "@jupyter-widgets/base",
      "model_module_version": "1.2.0",
      "model_name": "LayoutModel",
      "state": {}
     },
     "24619b1c6f3948ec820a898f06f5dbb7": {
      "model_module": "@jupyter-widgets/controls",
      "model_module_version": "1.5.0",
      "model_name": "HBoxModel",
      "state": {
       "children": [
        "IPY_MODEL_ce6c681bc16a49c1bf49beee8e40370c",
        "IPY_MODEL_db8cad12475544b882435f0fcaab6877"
       ],
       "layout": "IPY_MODEL_d590f3af549547c289a87d7007947199"
      }
     },
     "2486887e0ded4bb79e5ee0aee4ca9f84": {
      "model_module": "@jupyter-widgets/controls",
      "model_module_version": "1.5.0",
      "model_name": "DescriptionStyleModel",
      "state": {
       "description_width": ""
      }
     },
     "24b56dc279c24db2b4fe24ef8a2f47b1": {
      "model_module": "@jupyter-widgets/base",
      "model_module_version": "1.2.0",
      "model_name": "LayoutModel",
      "state": {}
     },
     "24e864831dd64d6da375f7499ffc71e8": {
      "model_module": "@jupyter-widgets/controls",
      "model_module_version": "1.5.0",
      "model_name": "FloatProgressModel",
      "state": {
       "bar_style": "success",
       "description": "100%",
       "layout": "IPY_MODEL_c7839462a4fb4943a00c682eae758ad7",
       "max": 9236,
       "style": "IPY_MODEL_53bbba94f4ba416fbff179b197b39b6e",
       "value": 9236
      }
     },
     "24f45916129e42e49cf9d9fee0968684": {
      "model_module": "@jupyter-widgets/base",
      "model_module_version": "1.2.0",
      "model_name": "LayoutModel",
      "state": {}
     },
     "2512ac0255c847c09f81da4be5e86c25": {
      "model_module": "@jupyter-widgets/controls",
      "model_module_version": "1.5.0",
      "model_name": "ProgressStyleModel",
      "state": {
       "description_width": "initial"
      }
     },
     "2561207b1d324836b90dd01c5fc5b70f": {
      "model_module": "@jupyter-widgets/controls",
      "model_module_version": "1.5.0",
      "model_name": "HBoxModel",
      "state": {
       "children": [
        "IPY_MODEL_7545c04cf73748a3ad143916fbea4357",
        "IPY_MODEL_1c9853ef335a4779bf0394508230fdc8"
       ],
       "layout": "IPY_MODEL_3a83d657d56d4b338756cbef948bc497"
      }
     },
     "25757e4721bb4ecf98c57d5862ed864b": {
      "model_module": "@jupyter-widgets/controls",
      "model_module_version": "1.5.0",
      "model_name": "ProgressStyleModel",
      "state": {
       "description_width": "initial"
      }
     },
     "25767a9f713a40e1afa31e98c4748971": {
      "model_module": "@jupyter-widgets/base",
      "model_module_version": "1.2.0",
      "model_name": "LayoutModel",
      "state": {}
     },
     "259a0f4c087942c09f3d721252ab525d": {
      "model_module": "@jupyter-widgets/controls",
      "model_module_version": "1.5.0",
      "model_name": "FloatProgressModel",
      "state": {
       "bar_style": "success",
       "description": "100%",
       "layout": "IPY_MODEL_22bfdc8eab5a4616b293b638de02d544",
       "max": 40027,
       "style": "IPY_MODEL_ac54eea93f7b454c9f0e90ca232623d6",
       "value": 40027
      }
     },
     "25b6d2c566804b5a9c3ed4659df215e0": {
      "model_module": "@jupyter-widgets/base",
      "model_module_version": "1.2.0",
      "model_name": "LayoutModel",
      "state": {}
     },
     "2606e15086114b6a93ca9234a380317f": {
      "model_module": "@jupyter-widgets/base",
      "model_module_version": "1.2.0",
      "model_name": "LayoutModel",
      "state": {}
     },
     "2608f57450714f409edbdce5969f637b": {
      "model_module": "@jupyter-widgets/base",
      "model_module_version": "1.2.0",
      "model_name": "LayoutModel",
      "state": {}
     },
     "261e5ee0fac34f5d8d948eabecffb91c": {
      "model_module": "@jupyter-widgets/base",
      "model_module_version": "1.2.0",
      "model_name": "LayoutModel",
      "state": {}
     },
     "262fb6603dc04b3f95a9ad4ecf272501": {
      "model_module": "@jupyter-widgets/base",
      "model_module_version": "1.2.0",
      "model_name": "LayoutModel",
      "state": {}
     },
     "263f71a18eba44909387d28c5eab1226": {
      "model_module": "@jupyter-widgets/controls",
      "model_module_version": "1.5.0",
      "model_name": "HBoxModel",
      "state": {
       "children": [
        "IPY_MODEL_ca6f77bb70934db9ac45332cee3a6dc5",
        "IPY_MODEL_cdb8db9810274033b35b3bb73d36e03e"
       ],
       "layout": "IPY_MODEL_62d85b9fa24841a3a608ac47ed08399f"
      }
     },
     "2674657ccaf24f4996b56b576186f3a0": {
      "model_module": "@jupyter-widgets/controls",
      "model_module_version": "1.5.0",
      "model_name": "DescriptionStyleModel",
      "state": {
       "description_width": ""
      }
     },
     "267c14809c654ee3aeaf99ddc4f5f7e9": {
      "model_module": "@jupyter-widgets/base",
      "model_module_version": "1.2.0",
      "model_name": "LayoutModel",
      "state": {}
     },
     "269ef92aa5084b19b48851c1d08f8b66": {
      "model_module": "@jupyter-widgets/controls",
      "model_module_version": "1.5.0",
      "model_name": "HBoxModel",
      "state": {
       "children": [
        "IPY_MODEL_b4da58ec081c47539d88140cfe8e353c",
        "IPY_MODEL_59626082a9c64c2194c69d474b944634"
       ],
       "layout": "IPY_MODEL_13435380af3a464ebd8cc2f7c0167dd6"
      }
     },
     "26aaa7247b824a0d9d60ad0993bd6562": {
      "model_module": "@jupyter-widgets/controls",
      "model_module_version": "1.5.0",
      "model_name": "DescriptionStyleModel",
      "state": {
       "description_width": ""
      }
     },
     "26ecd27abefe4e0883569dbaf0e2397c": {
      "model_module": "@jupyter-widgets/controls",
      "model_module_version": "1.5.0",
      "model_name": "HBoxModel",
      "state": {
       "children": [
        "IPY_MODEL_4d0983ac5926437ea5def736cc467cc1",
        "IPY_MODEL_03594562670843d581833e96119e1b2c"
       ],
       "layout": "IPY_MODEL_341a972e8e0c430786aeb80c5dcbfd57"
      }
     },
     "270d6cd1c5fb4b82aeb76e780db12ed9": {
      "model_module": "@jupyter-widgets/controls",
      "model_module_version": "1.5.0",
      "model_name": "ProgressStyleModel",
      "state": {
       "description_width": "initial"
      }
     },
     "271ddcc69ee64b3b8b39e6be96a62872": {
      "model_module": "@jupyter-widgets/controls",
      "model_module_version": "1.5.0",
      "model_name": "ProgressStyleModel",
      "state": {
       "description_width": "initial"
      }
     },
     "2759adfecc09417a899f8abfc10d8935": {
      "model_module": "@jupyter-widgets/base",
      "model_module_version": "1.2.0",
      "model_name": "LayoutModel",
      "state": {}
     },
     "277b68c70e4d4037b41794307d8a32f0": {
      "model_module": "@jupyter-widgets/base",
      "model_module_version": "1.2.0",
      "model_name": "LayoutModel",
      "state": {}
     },
     "278a9c1e69654cb686793c32cb9c7d3f": {
      "model_module": "@jupyter-widgets/controls",
      "model_module_version": "1.5.0",
      "model_name": "HBoxModel",
      "state": {
       "children": [
        "IPY_MODEL_c37c8ab5c9184683a6cb089117f950b1",
        "IPY_MODEL_e79a7be2e4584bcbbb63ca99fcdae8c0"
       ],
       "layout": "IPY_MODEL_b7786d4c2f3a40fdb97e06510dc4046f"
      }
     },
     "278cdf3644ab41bebfabcd310e289fff": {
      "model_module": "@jupyter-widgets/controls",
      "model_module_version": "1.5.0",
      "model_name": "FloatProgressModel",
      "state": {
       "bar_style": "success",
       "description": "100%",
       "layout": "IPY_MODEL_6314a4cbb41e4381aa7d49f5e3437d6d",
       "max": 49982,
       "style": "IPY_MODEL_3d523aa5eeb749db8224849f7478aa53",
       "value": 49982
      }
     },
     "27e94b6d740b494398459acbb6bf5bab": {
      "model_module": "@jupyter-widgets/base",
      "model_module_version": "1.2.0",
      "model_name": "LayoutModel",
      "state": {}
     },
     "283796049dae44eb8e5454c9217eb237": {
      "model_module": "@jupyter-widgets/controls",
      "model_module_version": "1.5.0",
      "model_name": "HBoxModel",
      "state": {
       "children": [
        "IPY_MODEL_3eadaca927754234a26dbccd64d1ff3c",
        "IPY_MODEL_13c46d4a6c254babb66c66664e760855"
       ],
       "layout": "IPY_MODEL_ecf31ac53c444e2292c2f1d47b30f10a"
      }
     },
     "28a8a45c7ad74ed4bf8602d01e7d8462": {
      "model_module": "@jupyter-widgets/base",
      "model_module_version": "1.2.0",
      "model_name": "LayoutModel",
      "state": {}
     },
     "2961e5be70314218bd2b5bbf87939f14": {
      "model_module": "@jupyter-widgets/controls",
      "model_module_version": "1.5.0",
      "model_name": "HTMLModel",
      "state": {
       "layout": "IPY_MODEL_4a733a7925b5416ea0c9c6074a5d9a5b",
       "style": "IPY_MODEL_bff7ccba93564cecbce79665f2a68471",
       "value": " 7141/7141 [17:10&lt;00:00,  6.93it/s]"
      }
     },
     "296932d87df0417a8386c7b6c53ce124": {
      "model_module": "@jupyter-widgets/controls",
      "model_module_version": "1.5.0",
      "model_name": "ProgressStyleModel",
      "state": {
       "description_width": "initial"
      }
     },
     "29a9b7dae74c4b71a1fe278db2da0e01": {
      "model_module": "@jupyter-widgets/base",
      "model_module_version": "1.2.0",
      "model_name": "LayoutModel",
      "state": {}
     },
     "29e48c9477204e5180da4822405dc8f8": {
      "model_module": "@jupyter-widgets/controls",
      "model_module_version": "1.5.0",
      "model_name": "DescriptionStyleModel",
      "state": {
       "description_width": ""
      }
     },
     "2a0b64a9f40740b3a69f07fb65aee38e": {
      "model_module": "@jupyter-widgets/base",
      "model_module_version": "1.2.0",
      "model_name": "LayoutModel",
      "state": {}
     },
     "2a2c0859e96b41b18a6f2fce5cbc6a8b": {
      "model_module": "@jupyter-widgets/base",
      "model_module_version": "1.2.0",
      "model_name": "LayoutModel",
      "state": {}
     },
     "2a353595f43d493fa7a370ec59d8e1d1": {
      "model_module": "@jupyter-widgets/base",
      "model_module_version": "1.2.0",
      "model_name": "LayoutModel",
      "state": {}
     },
     "2a73fd162faa413c8c15cc709f99ae63": {
      "model_module": "@jupyter-widgets/base",
      "model_module_version": "1.2.0",
      "model_name": "LayoutModel",
      "state": {}
     },
     "2a88256aeeea42288bb3ba94b8101015": {
      "model_module": "@jupyter-widgets/base",
      "model_module_version": "1.2.0",
      "model_name": "LayoutModel",
      "state": {}
     },
     "2aa7872f116941adae13b6e8e2bc22cb": {
      "model_module": "@jupyter-widgets/controls",
      "model_module_version": "1.5.0",
      "model_name": "ProgressStyleModel",
      "state": {
       "description_width": "initial"
      }
     },
     "2abc3255b2b644329ab67164f471e9c2": {
      "model_module": "@jupyter-widgets/controls",
      "model_module_version": "1.5.0",
      "model_name": "HTMLModel",
      "state": {
       "layout": "IPY_MODEL_52e8408571f54f9d8ce8952d10ebbf9c",
       "style": "IPY_MODEL_cc9ed2fd097f4b40a3b56f7e0f845eec",
       "value": " 292/49982 [00:23&lt;28:34, 28.98it/s]"
      }
     },
     "2add8c0f95d44003aa0562123f7ea242": {
      "model_module": "@jupyter-widgets/base",
      "model_module_version": "1.2.0",
      "model_name": "LayoutModel",
      "state": {}
     },
     "2b4022dfc67842aeb413161da5355684": {
      "model_module": "@jupyter-widgets/base",
      "model_module_version": "1.2.0",
      "model_name": "LayoutModel",
      "state": {}
     },
     "2b84a5b4547b4b578e39058a770d6bc9": {
      "model_module": "@jupyter-widgets/base",
      "model_module_version": "1.2.0",
      "model_name": "LayoutModel",
      "state": {}
     },
     "2c01b85097e34eccb39963cb1c49ffd7": {
      "model_module": "@jupyter-widgets/controls",
      "model_module_version": "1.5.0",
      "model_name": "HTMLModel",
      "state": {
       "layout": "IPY_MODEL_1edd3c09b5064cf492227154c8fa358c",
       "style": "IPY_MODEL_2132b86ed9ce46a7a9d4d655e70fa1f6",
       "value": " 18084/18084 [00:00&lt;00:00, 80598.07it/s]"
      }
     },
     "2c0bbb90f9024255b5451b25f06a5846": {
      "model_module": "@jupyter-widgets/base",
      "model_module_version": "1.2.0",
      "model_name": "LayoutModel",
      "state": {}
     },
     "2c59633b676b4fd690a0229f163356db": {
      "model_module": "@jupyter-widgets/controls",
      "model_module_version": "1.5.0",
      "model_name": "DescriptionStyleModel",
      "state": {
       "description_width": ""
      }
     },
     "2c677789a1394a84afb381b7cfe1619d": {
      "model_module": "@jupyter-widgets/base",
      "model_module_version": "1.2.0",
      "model_name": "LayoutModel",
      "state": {}
     },
     "2cbd3c6977d44625ba5a66ab7a12afb9": {
      "model_module": "@jupyter-widgets/controls",
      "model_module_version": "1.5.0",
      "model_name": "DescriptionStyleModel",
      "state": {
       "description_width": ""
      }
     },
     "2cc85a64c13e4a3f93627c66f6595671": {
      "model_module": "@jupyter-widgets/base",
      "model_module_version": "1.2.0",
      "model_name": "LayoutModel",
      "state": {}
     },
     "2d15b8be08f34f97aaffeb380b1f8456": {
      "model_module": "@jupyter-widgets/base",
      "model_module_version": "1.2.0",
      "model_name": "LayoutModel",
      "state": {}
     },
     "2d59263ade1241a3ab23ac3f61993e51": {
      "model_module": "@jupyter-widgets/controls",
      "model_module_version": "1.5.0",
      "model_name": "HTMLModel",
      "state": {
       "layout": "IPY_MODEL_666431e507304a5ab6108d80c91198cd",
       "style": "IPY_MODEL_84091aac12cc4a808bb3353613ad626a",
       "value": " 9237/9237 [00:28&lt;00:00, 329.87it/s]"
      }
     },
     "2db41edac3b44b70985059e757891c2b": {
      "model_module": "@jupyter-widgets/controls",
      "model_module_version": "1.5.0",
      "model_name": "ProgressStyleModel",
      "state": {
       "description_width": "initial"
      }
     },
     "2dd4099710e547e68ffd0151d34a93c9": {
      "model_module": "@jupyter-widgets/base",
      "model_module_version": "1.2.0",
      "model_name": "LayoutModel",
      "state": {}
     },
     "2de8d27e9c774e958be9a0251079ffab": {
      "model_module": "@jupyter-widgets/controls",
      "model_module_version": "1.5.0",
      "model_name": "ProgressStyleModel",
      "state": {
       "description_width": "initial"
      }
     },
     "2df2941d4d6e4e4aafcaf1ccde821826": {
      "model_module": "@jupyter-widgets/base",
      "model_module_version": "1.2.0",
      "model_name": "LayoutModel",
      "state": {}
     },
     "2e044e51ff5648b6b7cac594429408de": {
      "model_module": "@jupyter-widgets/controls",
      "model_module_version": "1.5.0",
      "model_name": "FloatProgressModel",
      "state": {
       "bar_style": "success",
       "description": "100%",
       "layout": "IPY_MODEL_5199f767e18d4ae6bb1bda28f3b584d5",
       "max": 50000,
       "style": "IPY_MODEL_2de8d27e9c774e958be9a0251079ffab",
       "value": 50000
      }
     },
     "2e06496b85a0451f93fd1bad03d65522": {
      "model_module": "@jupyter-widgets/controls",
      "model_module_version": "1.5.0",
      "model_name": "FloatProgressModel",
      "state": {
       "bar_style": "success",
       "description": "100%",
       "layout": "IPY_MODEL_2a353595f43d493fa7a370ec59d8e1d1",
       "max": 28577,
       "style": "IPY_MODEL_b21a6a6100b24e8eb9ea404c58a2a246",
       "value": 28577
      }
     },
     "2e83b05f831e45a18409708c5121721c": {
      "model_module": "@jupyter-widgets/controls",
      "model_module_version": "1.5.0",
      "model_name": "HBoxModel",
      "state": {
       "children": [
        "IPY_MODEL_abc7dc8c60d245679046462619e3ad58",
        "IPY_MODEL_d925e0d4f96e4e22aff7e470f6dbbab6"
       ],
       "layout": "IPY_MODEL_3b1c877dfd464f12adfed36df0ce282b"
      }
     },
     "2e9ddc46ba8f4ff9a470fe682279bbd3": {
      "model_module": "@jupyter-widgets/controls",
      "model_module_version": "1.5.0",
      "model_name": "ProgressStyleModel",
      "state": {
       "description_width": "initial"
      }
     },
     "2ed5455cde6746b89b907690d1835c91": {
      "model_module": "@jupyter-widgets/base",
      "model_module_version": "1.2.0",
      "model_name": "LayoutModel",
      "state": {}
     },
     "2ed5b43d3c2e468a8e97cc0ba2691862": {
      "model_module": "@jupyter-widgets/controls",
      "model_module_version": "1.5.0",
      "model_name": "HBoxModel",
      "state": {
       "children": [
        "IPY_MODEL_d517ee6fc0f44d22af3f36133edd0e86",
        "IPY_MODEL_73e192339737468fbab012f02f760a22"
       ],
       "layout": "IPY_MODEL_16dff93b6a0749b8922271e970719abd"
      }
     },
     "2eed297644f8404b846df693e61930e0": {
      "model_module": "@jupyter-widgets/controls",
      "model_module_version": "1.5.0",
      "model_name": "FloatProgressModel",
      "state": {
       "bar_style": "success",
       "description": "100%",
       "layout": "IPY_MODEL_c97ae872839041b19fed4248732602a9",
       "max": 9236,
       "style": "IPY_MODEL_4be9b33618a04abf920e6f9d0435f3ed",
       "value": 9236
      }
     },
     "2eede89959c143e19db118cce9cb150d": {
      "model_module": "@jupyter-widgets/base",
      "model_module_version": "1.2.0",
      "model_name": "LayoutModel",
      "state": {}
     },
     "2f112fcac63d48cea2c130794543a1a9": {
      "model_module": "@jupyter-widgets/controls",
      "model_module_version": "1.5.0",
      "model_name": "DescriptionStyleModel",
      "state": {
       "description_width": ""
      }
     },
     "2f38c6fabeb04c358a5fa3f33993a340": {
      "model_module": "@jupyter-widgets/base",
      "model_module_version": "1.2.0",
      "model_name": "LayoutModel",
      "state": {}
     },
     "2f7befdc4023462d9ce74a2bfed318d1": {
      "model_module": "@jupyter-widgets/base",
      "model_module_version": "1.2.0",
      "model_name": "LayoutModel",
      "state": {}
     },
     "2f879da3c37841bdac137d4f81f37d99": {
      "model_module": "@jupyter-widgets/controls",
      "model_module_version": "1.5.0",
      "model_name": "HTMLModel",
      "state": {
       "layout": "IPY_MODEL_bc0380b044a14aed96a8be736d35c1bf",
       "style": "IPY_MODEL_23a323254fba4720bd3ce088114dcb27",
       "value": " 9237/9237 [12:06&lt;00:00, 12.72it/s]"
      }
     },
     "2fa8205295ce45af963a835ecb216d33": {
      "model_module": "@jupyter-widgets/controls",
      "model_module_version": "1.5.0",
      "model_name": "ProgressStyleModel",
      "state": {
       "description_width": "initial"
      }
     },
     "2fd1c602b2a54bc59deedf6d31104566": {
      "model_module": "@jupyter-widgets/base",
      "model_module_version": "1.2.0",
      "model_name": "LayoutModel",
      "state": {}
     },
     "305a9364810543f49b01578c8fa03d28": {
      "model_module": "@jupyter-widgets/controls",
      "model_module_version": "1.5.0",
      "model_name": "FloatProgressModel",
      "state": {
       "bar_style": "success",
       "description": "100%",
       "layout": "IPY_MODEL_c487944e0490434b865107b1729e7ba1",
       "max": 25473,
       "style": "IPY_MODEL_5394563fc8e4480b965a13ab360036ea",
       "value": 25473
      }
     },
     "309d0092f9a5421ba5f472552b427d2f": {
      "model_module": "@jupyter-widgets/controls",
      "model_module_version": "1.5.0",
      "model_name": "FloatProgressModel",
      "state": {
       "bar_style": "success",
       "description": "100%",
       "layout": "IPY_MODEL_e4e691ecc1d348f8a9b2992ad24da863",
       "max": 24993,
       "style": "IPY_MODEL_712fd4e6269a4946bb6cfaf98f08cf4f",
       "value": 24993
      }
     },
     "30b316cba2b74338b4107a67cac3b059": {
      "model_module": "@jupyter-widgets/controls",
      "model_module_version": "1.5.0",
      "model_name": "FloatProgressModel",
      "state": {
       "bar_style": "success",
       "description": "100%",
       "layout": "IPY_MODEL_ea51e18d24ff484babd1b30cff5ac437",
       "max": 7141,
       "style": "IPY_MODEL_9bee375b0b144549b92f6dd0c5b721b1",
       "value": 7141
      }
     },
     "30b333568dc04185accb90196a0c2576": {
      "model_module": "@jupyter-widgets/base",
      "model_module_version": "1.2.0",
      "model_name": "LayoutModel",
      "state": {}
     },
     "30b3449516b84b58a59a439ebd054222": {
      "model_module": "@jupyter-widgets/base",
      "model_module_version": "1.2.0",
      "model_name": "LayoutModel",
      "state": {}
     },
     "30ebae57f7af445eb4fc18612d0a9bf0": {
      "model_module": "@jupyter-widgets/controls",
      "model_module_version": "1.5.0",
      "model_name": "DescriptionStyleModel",
      "state": {
       "description_width": ""
      }
     },
     "3191a3cf5c7545b8b570de67128bac9e": {
      "model_module": "@jupyter-widgets/base",
      "model_module_version": "1.2.0",
      "model_name": "LayoutModel",
      "state": {}
     },
     "31934fd9928f4634ac7633965848b737": {
      "model_module": "@jupyter-widgets/controls",
      "model_module_version": "1.5.0",
      "model_name": "HTMLModel",
      "state": {
       "layout": "IPY_MODEL_845a2f30c53849d8a754b177403741f9",
       "style": "IPY_MODEL_8a64d2a0ea244c2b99c9ef2415eb9f01",
       "value": " 9237/9237 [00:38&lt;00:00, 240.44it/s]"
      }
     },
     "31d2962ebe514cf5a577aafd80dcbceb": {
      "model_module": "@jupyter-widgets/base",
      "model_module_version": "1.2.0",
      "model_name": "LayoutModel",
      "state": {}
     },
     "3202770e3c7e4fc786a6295bc01d2a13": {
      "model_module": "@jupyter-widgets/controls",
      "model_module_version": "1.5.0",
      "model_name": "FloatProgressModel",
      "state": {
       "bar_style": "success",
       "description": "100%",
       "layout": "IPY_MODEL_cedad042a9e645d68652e7ea76666541",
       "max": 1428,
       "style": "IPY_MODEL_81c02fabe1404adebe8adac9880cfe05",
       "value": 1428
      }
     },
     "325d574f91404fc7afea7446b3a51107": {
      "model_module": "@jupyter-widgets/controls",
      "model_module_version": "1.5.0",
      "model_name": "HTMLModel",
      "state": {
       "layout": "IPY_MODEL_056a65b327f04ceab7d3a77a7248d5bb",
       "style": "IPY_MODEL_9b7cef973578419ea73696e78fd1e664",
       "value": " 9237/9237 [10:29&lt;00:00, 14.67it/s]"
      }
     },
     "3262dcd4e7ae4c70b00ec64665554ea6": {
      "model_module": "@jupyter-widgets/controls",
      "model_module_version": "1.5.0",
      "model_name": "HBoxModel",
      "state": {
       "children": [
        "IPY_MODEL_c60f95dde16c4e0a864acbd9f31e8c77",
        "IPY_MODEL_3e97c14a1dab40bc8bdf26f3a47fd044"
       ],
       "layout": "IPY_MODEL_e711d457c4634400bfbdba02d144a5f9"
      }
     },
     "32b6297829844965a6c9c497e1cf4aa0": {
      "model_module": "@jupyter-widgets/controls",
      "model_module_version": "1.5.0",
      "model_name": "HBoxModel",
      "state": {
       "children": [
        "IPY_MODEL_8cae0060fae74343be9aec6e5b5e4b2f",
        "IPY_MODEL_a2a7b6a491ff4e29aebace286b609079"
       ],
       "layout": "IPY_MODEL_b923d6f728c24969bc8b505c9cf4d887"
      }
     },
     "32bdd801d9d441d1b0f21c65a632a7d2": {
      "model_module": "@jupyter-widgets/base",
      "model_module_version": "1.2.0",
      "model_name": "LayoutModel",
      "state": {}
     },
     "32cb7538e6dd4f6a86fec32b61cd0360": {
      "model_module": "@jupyter-widgets/controls",
      "model_module_version": "1.5.0",
      "model_name": "FloatProgressModel",
      "state": {
       "bar_style": "success",
       "description": "100%",
       "layout": "IPY_MODEL_0cd3916274f247ff9c620f3722be9d52",
       "max": 9237,
       "style": "IPY_MODEL_d7e43a27c26849af8ffd699f5231ff33",
       "value": 9237
      }
     },
     "33594292c2004f28a43e2de196142cc7": {
      "model_module": "@jupyter-widgets/base",
      "model_module_version": "1.2.0",
      "model_name": "LayoutModel",
      "state": {}
     },
     "335c08b931cd4845b57ee5b0d4768754": {
      "model_module": "@jupyter-widgets/base",
      "model_module_version": "1.2.0",
      "model_name": "LayoutModel",
      "state": {}
     },
     "3400601ee5ac44aa9cc87dbc7378b2c5": {
      "model_module": "@jupyter-widgets/base",
      "model_module_version": "1.2.0",
      "model_name": "LayoutModel",
      "state": {}
     },
     "340beabbe4c047edbfce7cf14573b990": {
      "model_module": "@jupyter-widgets/controls",
      "model_module_version": "1.5.0",
      "model_name": "FloatProgressModel",
      "state": {
       "bar_style": "success",
       "description": "100%",
       "layout": "IPY_MODEL_354c09d91f9b4424a8868e02b6b77c02",
       "max": 49982,
       "style": "IPY_MODEL_e580426699784f5e9da5a45977d5c5d9",
       "value": 49982
      }
     },
     "341a972e8e0c430786aeb80c5dcbfd57": {
      "model_module": "@jupyter-widgets/base",
      "model_module_version": "1.2.0",
      "model_name": "LayoutModel",
      "state": {}
     },
     "3493e40678f146d98ab5251bbd445aaf": {
      "model_module": "@jupyter-widgets/controls",
      "model_module_version": "1.5.0",
      "model_name": "DescriptionStyleModel",
      "state": {
       "description_width": ""
      }
     },
     "349594ed61d545ee94dd167a985fe0a6": {
      "model_module": "@jupyter-widgets/base",
      "model_module_version": "1.2.0",
      "model_name": "LayoutModel",
      "state": {}
     },
     "34c1de4ce44144fabb1e5ae9bd653649": {
      "model_module": "@jupyter-widgets/base",
      "model_module_version": "1.2.0",
      "model_name": "LayoutModel",
      "state": {}
     },
     "34f32b0755284fb8a34406cf4aea6311": {
      "model_module": "@jupyter-widgets/controls",
      "model_module_version": "1.5.0",
      "model_name": "FloatProgressModel",
      "state": {
       "bar_style": "success",
       "description": "100%",
       "layout": "IPY_MODEL_2608f57450714f409edbdce5969f637b",
       "max": 19062,
       "style": "IPY_MODEL_53f6b25ab5f149918858267a68d1ed72",
       "value": 19062
      }
     },
     "34ff4aceb394492bb32a80774922904f": {
      "model_module": "@jupyter-widgets/controls",
      "model_module_version": "1.5.0",
      "model_name": "FloatProgressModel",
      "state": {
       "bar_style": "success",
       "description": "100%",
       "layout": "IPY_MODEL_7246513b4c1d46a78c3f1deea28c9113",
       "max": 7140,
       "style": "IPY_MODEL_5f555f683abd4937a1d79aece26e3b6e",
       "value": 7140
      }
     },
     "350334521c0a41f58d1605b799c8cf88": {
      "model_module": "@jupyter-widgets/base",
      "model_module_version": "1.2.0",
      "model_name": "LayoutModel",
      "state": {}
     },
     "3526f9abcc984775a2bfba76c1a0087b": {
      "model_module": "@jupyter-widgets/controls",
      "model_module_version": "1.5.0",
      "model_name": "DescriptionStyleModel",
      "state": {
       "description_width": ""
      }
     },
     "353f1451fe304a1e84e25f83d2ba0fa7": {
      "model_module": "@jupyter-widgets/controls",
      "model_module_version": "1.5.0",
      "model_name": "FloatProgressModel",
      "state": {
       "bar_style": "success",
       "description": "100%",
       "layout": "IPY_MODEL_f28ca100f15349108bf5e6d7165f03a4",
       "max": 1428,
       "style": "IPY_MODEL_7dc4f3cf2e7c4773aadafcdbe53bf043",
       "value": 1428
      }
     },
     "354c09d91f9b4424a8868e02b6b77c02": {
      "model_module": "@jupyter-widgets/base",
      "model_module_version": "1.2.0",
      "model_name": "LayoutModel",
      "state": {}
     },
     "35633d9d85984e63a08039cd8ff953cf": {
      "model_module": "@jupyter-widgets/base",
      "model_module_version": "1.2.0",
      "model_name": "LayoutModel",
      "state": {}
     },
     "3577133da5154e45b56c636046dda243": {
      "model_module": "@jupyter-widgets/controls",
      "model_module_version": "1.5.0",
      "model_name": "FloatProgressModel",
      "state": {
       "bar_style": "success",
       "description": "100%",
       "layout": "IPY_MODEL_ed6279fa1fef48699581e5ef8a5ecf87",
       "max": 50000,
       "style": "IPY_MODEL_51955ad1fde4498cb60ea7e8dde42529",
       "value": 50000
      }
     },
     "35811c91449341688a20304aa7547e4d": {
      "model_module": "@jupyter-widgets/controls",
      "model_module_version": "1.5.0",
      "model_name": "DescriptionStyleModel",
      "state": {
       "description_width": ""
      }
     },
     "35bf0b926fe24d19b9ba63f929a72501": {
      "model_module": "@jupyter-widgets/controls",
      "model_module_version": "1.5.0",
      "model_name": "HTMLModel",
      "state": {
       "layout": "IPY_MODEL_cd0eb970cefd43b0adaf0a7564b2ecd0",
       "style": "IPY_MODEL_e4579891ea36437c97ad5a88c2956dd6",
       "value": " 4285/4285 [09:35&lt;00:00,  7.44it/s]"
      }
     },
     "35c38573d66b40548e2f618a9caaaa3d": {
      "model_module": "@jupyter-widgets/base",
      "model_module_version": "1.2.0",
      "model_name": "LayoutModel",
      "state": {}
     },
     "35c7b4681d884022b3b053f7e284c333": {
      "model_module": "@jupyter-widgets/base",
      "model_module_version": "1.2.0",
      "model_name": "LayoutModel",
      "state": {}
     },
     "35d34de1a5dc4e9d8e85382c8ccd61a7": {
      "model_module": "@jupyter-widgets/controls",
      "model_module_version": "1.5.0",
      "model_name": "FloatProgressModel",
      "state": {
       "bar_style": "success",
       "description": "100%",
       "layout": "IPY_MODEL_f9bfc17ada3a40248898aa1caebe33a5",
       "max": 1429,
       "style": "IPY_MODEL_bd38319f660e461e9f2eef9a518c6079",
       "value": 1429
      }
     },
     "35d4a0ec0c4d426a813d5fb1e3f2be8a": {
      "model_module": "@jupyter-widgets/controls",
      "model_module_version": "1.5.0",
      "model_name": "HBoxModel",
      "state": {
       "children": [
        "IPY_MODEL_ad3fe6e1adcc47cab1ea5f0c89e1a421",
        "IPY_MODEL_97a78cacbfbd4e2d82415396c425fb11"
       ],
       "layout": "IPY_MODEL_30b333568dc04185accb90196a0c2576"
      }
     },
     "35f32398f32e498892e69b288eef33bc": {
      "model_module": "@jupyter-widgets/controls",
      "model_module_version": "1.5.0",
      "model_name": "FloatProgressModel",
      "state": {
       "bar_style": "success",
       "description": "100%",
       "layout": "IPY_MODEL_6afdcc9e6d15437e837433812f806ecd",
       "max": 4285,
       "style": "IPY_MODEL_9a5d9ba662914c649cc15e8cf96ad6cf",
       "value": 4285
      }
     },
     "35f36b8554394d508f079abe59ba0113": {
      "model_module": "@jupyter-widgets/controls",
      "model_module_version": "1.5.0",
      "model_name": "ProgressStyleModel",
      "state": {
       "description_width": "initial"
      }
     },
     "35f49a862541456caf7870dcbcc700f5": {
      "model_module": "@jupyter-widgets/controls",
      "model_module_version": "1.5.0",
      "model_name": "FloatProgressModel",
      "state": {
       "bar_style": "success",
       "description": "100%",
       "layout": "IPY_MODEL_7418ce9b0ab64d38843c23313caa391c",
       "max": 9237,
       "style": "IPY_MODEL_b4734eb2810646579d63c29f0d15fe89",
       "value": 9237
      }
     },
     "3605b09b5bbe4ae68dd054eca8095351": {
      "model_module": "@jupyter-widgets/controls",
      "model_module_version": "1.5.0",
      "model_name": "HBoxModel",
      "state": {
       "children": [
        "IPY_MODEL_09bc0d156d05443da6f3d2beded4a1e8",
        "IPY_MODEL_be0a6a56ba784a0ebba87b3e5f887d64"
       ],
       "layout": "IPY_MODEL_845e3d10f0f74a4ebd11813378776d0e"
      }
     },
     "365b88198b864ab3847e22d795d881fe": {
      "model_module": "@jupyter-widgets/controls",
      "model_module_version": "1.5.0",
      "model_name": "HBoxModel",
      "state": {
       "children": [
        "IPY_MODEL_51b7e3e35f5e4df1bf2d98f906c1f8c3",
        "IPY_MODEL_69ee06b2eff548539bcc33a951db9b5a"
       ],
       "layout": "IPY_MODEL_7034b2430090425580f05dcc696dcd97"
      }
     },
     "368d9fd66ff544579560fe0666d9d3e1": {
      "model_module": "@jupyter-widgets/base",
      "model_module_version": "1.2.0",
      "model_name": "LayoutModel",
      "state": {}
     },
     "36a67f7a1baf4582b473f7c703110a4e": {
      "model_module": "@jupyter-widgets/controls",
      "model_module_version": "1.5.0",
      "model_name": "DescriptionStyleModel",
      "state": {
       "description_width": ""
      }
     },
     "3731f3aac76248c8bb9034ffad1b015c": {
      "model_module": "@jupyter-widgets/controls",
      "model_module_version": "1.5.0",
      "model_name": "DescriptionStyleModel",
      "state": {
       "description_width": ""
      }
     },
     "37555b1c60884a3dbe282147bf019fa8": {
      "model_module": "@jupyter-widgets/base",
      "model_module_version": "1.2.0",
      "model_name": "LayoutModel",
      "state": {}
     },
     "376f4daa393344929fcf0ecf271d633c": {
      "model_module": "@jupyter-widgets/controls",
      "model_module_version": "1.5.0",
      "model_name": "HBoxModel",
      "state": {
       "children": [
        "IPY_MODEL_d12282c109cc465c9415e17b1b463448",
        "IPY_MODEL_9a85b8027fa84f799cfc2d8097f803d6"
       ],
       "layout": "IPY_MODEL_37dd42285a0d46e8be2f38af837367e1"
      }
     },
     "37d0a2bf684f4a11be2c79b26e4339af": {
      "model_module": "@jupyter-widgets/base",
      "model_module_version": "1.2.0",
      "model_name": "LayoutModel",
      "state": {}
     },
     "37dd42285a0d46e8be2f38af837367e1": {
      "model_module": "@jupyter-widgets/base",
      "model_module_version": "1.2.0",
      "model_name": "LayoutModel",
      "state": {}
     },
     "384146f6ef13438f84b7d9d716791b80": {
      "model_module": "@jupyter-widgets/base",
      "model_module_version": "1.2.0",
      "model_name": "LayoutModel",
      "state": {}
     },
     "38434be7c17f42789595f00da93ba4ea": {
      "model_module": "@jupyter-widgets/controls",
      "model_module_version": "1.5.0",
      "model_name": "FloatProgressModel",
      "state": {
       "bar_style": "success",
       "description": "100%",
       "layout": "IPY_MODEL_5aaf7d8df2de4ca983fa8d82cac59330",
       "max": 9237,
       "style": "IPY_MODEL_a7411fecce2b4c3cbabe54bf2724472a",
       "value": 9237
      }
     },
     "384d0dbc33d94ada8f491b61cec97c3d": {
      "model_module": "@jupyter-widgets/base",
      "model_module_version": "1.2.0",
      "model_name": "LayoutModel",
      "state": {}
     },
     "389dd8a9e8a04b2181a2804ad17820d1": {
      "model_module": "@jupyter-widgets/controls",
      "model_module_version": "1.5.0",
      "model_name": "ProgressStyleModel",
      "state": {
       "description_width": "initial"
      }
     },
     "38db537658ca4de0b0b7716d04338d65": {
      "model_module": "@jupyter-widgets/controls",
      "model_module_version": "1.5.0",
      "model_name": "HTMLModel",
      "state": {
       "layout": "IPY_MODEL_b020c1ebfe214284885710c7b2872dc9",
       "style": "IPY_MODEL_a22ee07931d742168ae60a62e9e94371",
       "value": " 9237/9237 [00:29&lt;00:00, 313.23it/s]"
      }
     },
     "39cc6b943c934635833046334f346994": {
      "model_module": "@jupyter-widgets/controls",
      "model_module_version": "1.5.0",
      "model_name": "DescriptionStyleModel",
      "state": {
       "description_width": ""
      }
     },
     "39d7068a8e5b4006a45aa27d33613fd8": {
      "model_module": "@jupyter-widgets/controls",
      "model_module_version": "1.5.0",
      "model_name": "ProgressStyleModel",
      "state": {
       "description_width": "initial"
      }
     },
     "3a56663132a1469b95cf158741fe5b84": {
      "model_module": "@jupyter-widgets/controls",
      "model_module_version": "1.5.0",
      "model_name": "HTMLModel",
      "state": {
       "layout": "IPY_MODEL_7647b22ea152417eb8cc813b1e8596e6",
       "style": "IPY_MODEL_abaafc97500149caad643183ece4ac61",
       "value": " 3571/3571 [08:04&lt;00:00,  7.38it/s]"
      }
     },
     "3a742baf861b4b038c56f6453850983f": {
      "model_module": "@jupyter-widgets/controls",
      "model_module_version": "1.5.0",
      "model_name": "HTMLModel",
      "state": {
       "layout": "IPY_MODEL_aea8d27bbcd449338a65df1d5c5eea61",
       "style": "IPY_MODEL_906ea11aed874f2d9dbb5286b31ad0f9",
       "value": " 2857/2857 [06:05&lt;00:00,  7.82it/s]"
      }
     },
     "3a83d657d56d4b338756cbef948bc497": {
      "model_module": "@jupyter-widgets/base",
      "model_module_version": "1.2.0",
      "model_name": "LayoutModel",
      "state": {}
     },
     "3b052015f0ca41f78e03cb6aad3a4cf7": {
      "model_module": "@jupyter-widgets/base",
      "model_module_version": "1.2.0",
      "model_name": "LayoutModel",
      "state": {}
     },
     "3b192fdde3bc464db4f699817db7e3e1": {
      "model_module": "@jupyter-widgets/controls",
      "model_module_version": "1.5.0",
      "model_name": "ProgressStyleModel",
      "state": {
       "description_width": "initial"
      }
     },
     "3b1c877dfd464f12adfed36df0ce282b": {
      "model_module": "@jupyter-widgets/base",
      "model_module_version": "1.2.0",
      "model_name": "LayoutModel",
      "state": {}
     },
     "3b5b7f53364b40e8b242ec9211543351": {
      "model_module": "@jupyter-widgets/base",
      "model_module_version": "1.2.0",
      "model_name": "LayoutModel",
      "state": {}
     },
     "3b69f948c59446e492f1cb515df43540": {
      "model_module": "@jupyter-widgets/controls",
      "model_module_version": "1.5.0",
      "model_name": "HBoxModel",
      "state": {
       "children": [
        "IPY_MODEL_bd0fa6fd990d4fc88fc4619dec8d63a2",
        "IPY_MODEL_38db537658ca4de0b0b7716d04338d65"
       ],
       "layout": "IPY_MODEL_c0c365190ddb43929202f225b0f6d69a"
      }
     },
     "3b92e0a8741b4d4aaf191f5f22fb6770": {
      "model_module": "@jupyter-widgets/controls",
      "model_module_version": "1.5.0",
      "model_name": "ProgressStyleModel",
      "state": {
       "description_width": "initial"
      }
     },
     "3b96298d72194d3dbbc95c2fb9dc7ec9": {
      "model_module": "@jupyter-widgets/base",
      "model_module_version": "1.2.0",
      "model_name": "LayoutModel",
      "state": {}
     },
     "3be5b8e4d4e840b588fec0265af67c8a": {
      "model_module": "@jupyter-widgets/controls",
      "model_module_version": "1.5.0",
      "model_name": "DescriptionStyleModel",
      "state": {
       "description_width": ""
      }
     },
     "3bede2a316b34c2785db539b8849e9c7": {
      "model_module": "@jupyter-widgets/controls",
      "model_module_version": "1.5.0",
      "model_name": "ProgressStyleModel",
      "state": {
       "description_width": "initial"
      }
     },
     "3c15c6b0b35b4831989e02016d899039": {
      "model_module": "@jupyter-widgets/base",
      "model_module_version": "1.2.0",
      "model_name": "LayoutModel",
      "state": {}
     },
     "3c2ffe6457ba4b67b5814a23e8895619": {
      "model_module": "@jupyter-widgets/controls",
      "model_module_version": "1.5.0",
      "model_name": "FloatProgressModel",
      "state": {
       "description": "  1%",
       "layout": "IPY_MODEL_49523ae566794478a57966d0e156c97f",
       "max": 49982,
       "style": "IPY_MODEL_51c1efcd88ae4a7bb7845c9f633573f1",
       "value": 292
      }
     },
     "3c3714a854e446b4ab44514241729d9d": {
      "model_module": "@jupyter-widgets/base",
      "model_module_version": "1.2.0",
      "model_name": "LayoutModel",
      "state": {}
     },
     "3c37dac73bfc44799b1139babc12c0be": {
      "model_module": "@jupyter-widgets/controls",
      "model_module_version": "1.5.0",
      "model_name": "ProgressStyleModel",
      "state": {
       "description_width": "initial"
      }
     },
     "3c62aec792c544e3aea418453a9b4846": {
      "model_module": "@jupyter-widgets/controls",
      "model_module_version": "1.5.0",
      "model_name": "FloatProgressModel",
      "state": {
       "bar_style": "success",
       "description": "100%",
       "layout": "IPY_MODEL_87f995624eb348c787ce92f8f27c6650",
       "max": 7140,
       "style": "IPY_MODEL_5f243e2664164a9199a5dd9737264456",
       "value": 7140
      }
     },
     "3d3a5afa99bf4a7e8f57bd02b94dc778": {
      "model_module": "@jupyter-widgets/controls",
      "model_module_version": "1.5.0",
      "model_name": "ProgressStyleModel",
      "state": {
       "description_width": "initial"
      }
     },
     "3d523aa5eeb749db8224849f7478aa53": {
      "model_module": "@jupyter-widgets/controls",
      "model_module_version": "1.5.0",
      "model_name": "ProgressStyleModel",
      "state": {
       "description_width": "initial"
      }
     },
     "3dfa1239f0844fcdaae42cc4b3d999ec": {
      "model_module": "@jupyter-widgets/controls",
      "model_module_version": "1.5.0",
      "model_name": "DescriptionStyleModel",
      "state": {
       "description_width": ""
      }
     },
     "3e0db6206cbc443394824e6c42c2f354": {
      "model_module": "@jupyter-widgets/controls",
      "model_module_version": "1.5.0",
      "model_name": "HBoxModel",
      "state": {
       "children": [
        "IPY_MODEL_9271582a50e84c1caa40fcc2eac88c22",
        "IPY_MODEL_8f0f2a9a30334d5da1d43b09cae0bd8d"
       ],
       "layout": "IPY_MODEL_28a8a45c7ad74ed4bf8602d01e7d8462"
      }
     },
     "3e3240af7a07450aa565382c37a5aa61": {
      "model_module": "@jupyter-widgets/controls",
      "model_module_version": "1.5.0",
      "model_name": "ProgressStyleModel",
      "state": {
       "description_width": "initial"
      }
     },
     "3e62d58a557947efa7de844bd6ba62f9": {
      "model_module": "@jupyter-widgets/controls",
      "model_module_version": "1.5.0",
      "model_name": "HBoxModel",
      "state": {
       "children": [
        "IPY_MODEL_4a41f8630b4f407ca6a245c8195a0201",
        "IPY_MODEL_0d294b270d494b8b9bfb079244edff9b"
       ],
       "layout": "IPY_MODEL_2f7befdc4023462d9ce74a2bfed318d1"
      }
     },
     "3e656371d3d94afdb5ef14773a612abf": {
      "model_module": "@jupyter-widgets/controls",
      "model_module_version": "1.5.0",
      "model_name": "FloatProgressModel",
      "state": {
       "bar_style": "success",
       "description": "100%",
       "layout": "IPY_MODEL_1955297da2854d7080d4732fdf21b084",
       "max": 1428,
       "style": "IPY_MODEL_f3d6f5214331437796186716c065a013",
       "value": 1428
      }
     },
     "3e8d6e3035fb4de6abe5d6206629e67f": {
      "model_module": "@jupyter-widgets/controls",
      "model_module_version": "1.5.0",
      "model_name": "HTMLModel",
      "state": {
       "layout": "IPY_MODEL_1b4c7ba97fe443aaa56aa8d3d5f98a58",
       "style": "IPY_MODEL_19bca3ea64ac40c39bdbc7b7127c0e41",
       "value": " 4284/4284 [10:07&lt;00:00,  7.05it/s]"
      }
     },
     "3e97c14a1dab40bc8bdf26f3a47fd044": {
      "model_module": "@jupyter-widgets/controls",
      "model_module_version": "1.5.0",
      "model_name": "HTMLModel",
      "state": {
       "layout": "IPY_MODEL_b748910cf8c7440c89773f00d4b9293c",
       "style": "IPY_MODEL_459959dd192e4d05b874b7868de47ff6",
       "value": " 9236/9236 [23:05&lt;00:00,  6.67it/s]"
      }
     },
     "3e98520887ba43728399f4f091536970": {
      "model_module": "@jupyter-widgets/controls",
      "model_module_version": "1.5.0",
      "model_name": "HBoxModel",
      "state": {
       "children": [
        "IPY_MODEL_c121c27f4da3452d8e7e4e203b16969b",
        "IPY_MODEL_3a742baf861b4b038c56f6453850983f"
       ],
       "layout": "IPY_MODEL_e0fac01c47bd4b328b3cb809b66ea705"
      }
     },
     "3ea2076cdbaa4b20bea10cbe9bd05cc7": {
      "model_module": "@jupyter-widgets/base",
      "model_module_version": "1.2.0",
      "model_name": "LayoutModel",
      "state": {}
     },
     "3eadaca927754234a26dbccd64d1ff3c": {
      "model_module": "@jupyter-widgets/controls",
      "model_module_version": "1.5.0",
      "model_name": "FloatProgressModel",
      "state": {
       "bar_style": "success",
       "description": "100%",
       "layout": "IPY_MODEL_9fddd03b0add4553be00077805547d21",
       "max": 9237,
       "style": "IPY_MODEL_1881cd6686a443fdaf5b51e37d0bbbca",
       "value": 9237
      }
     },
     "3eae81a801374d8aa168cfbc10dba4ed": {
      "model_module": "@jupyter-widgets/base",
      "model_module_version": "1.2.0",
      "model_name": "LayoutModel",
      "state": {}
     },
     "3f1070e77afa4419922075c224f923a1": {
      "model_module": "@jupyter-widgets/controls",
      "model_module_version": "1.5.0",
      "model_name": "ProgressStyleModel",
      "state": {
       "description_width": "initial"
      }
     },
     "3f1e5787307d4573b45706e5512cd69c": {
      "model_module": "@jupyter-widgets/controls",
      "model_module_version": "1.5.0",
      "model_name": "HBoxModel",
      "state": {
       "children": [
        "IPY_MODEL_adea7e7c8d28427198e0be738bf966d2",
        "IPY_MODEL_50a90821f5c64187b5eb1e7d5b87739d"
       ],
       "layout": "IPY_MODEL_5e96c5591f7b4341883916aabd8401aa"
      }
     },
     "3f91732b50604938bf31c4bad6dccf5e": {
      "model_module": "@jupyter-widgets/base",
      "model_module_version": "1.2.0",
      "model_name": "LayoutModel",
      "state": {}
     },
     "3fa598224914447984817128d75aab18": {
      "model_module": "@jupyter-widgets/controls",
      "model_module_version": "1.5.0",
      "model_name": "DescriptionStyleModel",
      "state": {
       "description_width": ""
      }
     },
     "3fb75cfdf67e4ba6a07644ad2754ec30": {
      "model_module": "@jupyter-widgets/controls",
      "model_module_version": "1.5.0",
      "model_name": "HBoxModel",
      "state": {
       "children": [
        "IPY_MODEL_b7d50907052445578b95363d35f9082f",
        "IPY_MODEL_528e95caa2324812813718734b12dda6"
       ],
       "layout": "IPY_MODEL_51862e2742084957ace25c4b3643da06"
      }
     },
     "3fe23952faa04c16be25187194450ac2": {
      "model_module": "@jupyter-widgets/controls",
      "model_module_version": "1.5.0",
      "model_name": "DescriptionStyleModel",
      "state": {
       "description_width": ""
      }
     },
     "401a4094e8914dd1bb1c94955bce3a73": {
      "model_module": "@jupyter-widgets/base",
      "model_module_version": "1.2.0",
      "model_name": "LayoutModel",
      "state": {}
     },
     "40204e7fc089422bbf1209ff7246034f": {
      "model_module": "@jupyter-widgets/controls",
      "model_module_version": "1.5.0",
      "model_name": "HBoxModel",
      "state": {
       "children": [
        "IPY_MODEL_d78ff8a7b4754f3cb8a69371d8e60539",
        "IPY_MODEL_42e1ab7742a442608a309cda8d6d06fb"
       ],
       "layout": "IPY_MODEL_e9f7eb6247844f7e9d39137b97d747b0"
      }
     },
     "402cb4ae611c4805b5f3efb4f79e80fb": {
      "model_module": "@jupyter-widgets/controls",
      "model_module_version": "1.5.0",
      "model_name": "FloatProgressModel",
      "state": {
       "bar_style": "success",
       "description": "100%",
       "max": 9237,
       "style": "IPY_MODEL_5e6eefba27e24f228a48f108c0e30ecb",
       "value": 9237
      }
     },
     "402d9073d4e548e78d66504c4642ef85": {
      "model_module": "@jupyter-widgets/controls",
      "model_module_version": "1.5.0",
      "model_name": "ProgressStyleModel",
      "state": {
       "description_width": "initial"
      }
     },
     "403548f5ac58496dbf570ceee8b4ea9d": {
      "model_module": "@jupyter-widgets/base",
      "model_module_version": "1.2.0",
      "model_name": "LayoutModel",
      "state": {}
     },
     "40442fc3f5824eb08c2478a35c77948f": {
      "model_module": "@jupyter-widgets/controls",
      "model_module_version": "1.5.0",
      "model_name": "HBoxModel",
      "state": {
       "children": [
        "IPY_MODEL_a9924f1dbda347508ddc69d20ec3f5d8",
        "IPY_MODEL_198e9937845f470caf0d1abfcdf67eee"
       ],
       "layout": "IPY_MODEL_72ace1fb781e43ceb73db51dba7c9ec7"
      }
     },
     "40efcbd179c348d9b81bf96418936d94": {
      "model_module": "@jupyter-widgets/controls",
      "model_module_version": "1.5.0",
      "model_name": "HTMLModel",
      "state": {
       "layout": "IPY_MODEL_dbfa5d709def499aa663e3ad234c6f41",
       "style": "IPY_MODEL_1a8a1319ec7d4f35a90b5c05c88e8294",
       "value": " 9237/9237 [10:41&lt;00:00, 14.40it/s]"
      }
     },
     "41116767966847d28b08b2ea5871752c": {
      "model_module": "@jupyter-widgets/base",
      "model_module_version": "1.2.0",
      "model_name": "LayoutModel",
      "state": {}
     },
     "413fe10e30b648eb9604d8e78fd1d974": {
      "model_module": "@jupyter-widgets/controls",
      "model_module_version": "1.5.0",
      "model_name": "ProgressStyleModel",
      "state": {
       "description_width": "initial"
      }
     },
     "4157c96fda38462fb950f3286ee236a2": {
      "model_module": "@jupyter-widgets/controls",
      "model_module_version": "1.5.0",
      "model_name": "FloatProgressModel",
      "state": {
       "bar_style": "success",
       "description": "100%",
       "layout": "IPY_MODEL_277b68c70e4d4037b41794307d8a32f0",
       "max": 7141,
       "style": "IPY_MODEL_1d0274bf29e44d969c3fb9a8217eeee9",
       "value": 7141
      }
     },
     "418acd7618f44b1db35950e9a6280f11": {
      "model_module": "@jupyter-widgets/base",
      "model_module_version": "1.2.0",
      "model_name": "LayoutModel",
      "state": {}
     },
     "418f5a6e2aec4521849f20c8d351fc6b": {
      "model_module": "@jupyter-widgets/base",
      "model_module_version": "1.2.0",
      "model_name": "LayoutModel",
      "state": {}
     },
     "41d6a1a8d6ac4aa98480b895280c7a0d": {
      "model_module": "@jupyter-widgets/controls",
      "model_module_version": "1.5.0",
      "model_name": "FloatProgressModel",
      "state": {
       "bar_style": "success",
       "description": "100%",
       "layout": "IPY_MODEL_821fe11c60cb400d8512789033fd82ba",
       "max": 9236,
       "style": "IPY_MODEL_eb23e3558552404686cf57194fd1b1d0",
       "value": 9236
      }
     },
     "41f43606c2b74b369c28d00f99b21c7c": {
      "model_module": "@jupyter-widgets/base",
      "model_module_version": "1.2.0",
      "model_name": "LayoutModel",
      "state": {}
     },
     "4221ce0fd1dc4e7688040f43d513246f": {
      "model_module": "@jupyter-widgets/controls",
      "model_module_version": "1.5.0",
      "model_name": "HBoxModel",
      "state": {
       "children": [
        "IPY_MODEL_91851b515ed943c7ab631c0e863bda4a",
        "IPY_MODEL_6f19fb01b977479196fdf2f7071e5b12"
       ],
       "layout": "IPY_MODEL_2fd1c602b2a54bc59deedf6d31104566"
      }
     },
     "425993aa6b1444d694acb2a3f2efe3e7": {
      "model_module": "@jupyter-widgets/controls",
      "model_module_version": "1.5.0",
      "model_name": "HBoxModel",
      "state": {
       "children": [
        "IPY_MODEL_402cb4ae611c4805b5f3efb4f79e80fb",
        "IPY_MODEL_13b3d86569704d42891e88acb567a7e4"
       ],
       "layout": "IPY_MODEL_0338e4401bae4b27a06afc87455ac448"
      }
     },
     "429ce41a716f468eb955b37dddb5bbbd": {
      "model_module": "@jupyter-widgets/base",
      "model_module_version": "1.2.0",
      "model_name": "LayoutModel",
      "state": {}
     },
     "42e1ab7742a442608a309cda8d6d06fb": {
      "model_module": "@jupyter-widgets/controls",
      "model_module_version": "1.5.0",
      "model_name": "HTMLModel",
      "state": {
       "layout": "IPY_MODEL_dddf6090fc25468b8ef3d929ed3e700b",
       "style": "IPY_MODEL_3fa598224914447984817128d75aab18",
       "value": " 9237/9237 [11:52&lt;00:00, 12.96it/s]"
      }
     },
     "42ff5d7436654780962466ce0a5bd8cb": {
      "model_module": "@jupyter-widgets/controls",
      "model_module_version": "1.5.0",
      "model_name": "ProgressStyleModel",
      "state": {
       "description_width": "initial"
      }
     },
     "430f0ed7890743d9b6e998c58aa9daac": {
      "model_module": "@jupyter-widgets/base",
      "model_module_version": "1.2.0",
      "model_name": "LayoutModel",
      "state": {}
     },
     "4344326ad1524ac7b547c191fe84795d": {
      "model_module": "@jupyter-widgets/base",
      "model_module_version": "1.2.0",
      "model_name": "LayoutModel",
      "state": {}
     },
     "4359cf74be914f1682bc3981e224ac40": {
      "model_module": "@jupyter-widgets/controls",
      "model_module_version": "1.5.0",
      "model_name": "HTMLModel",
      "state": {
       "layout": "IPY_MODEL_c0dc926f56004255a3b080ca9fa313bd",
       "style": "IPY_MODEL_fc30c6c824db4ab69e43f1c243cc3219",
       "value": " 9236/9236 [00:32&lt;00:00, 288.01it/s]"
      }
     },
     "436e20320a354580a2cd4f5878dc906f": {
      "model_module": "@jupyter-widgets/controls",
      "model_module_version": "1.5.0",
      "model_name": "FloatProgressModel",
      "state": {
       "bar_style": "success",
       "description": "100%",
       "layout": "IPY_MODEL_7f3301c6047740dbbd01b9b47260e16f",
       "max": 9236,
       "style": "IPY_MODEL_3b192fdde3bc464db4f699817db7e3e1",
       "value": 9236
      }
     },
     "4393489b3c64496a9fb4fae872964b82": {
      "model_module": "@jupyter-widgets/controls",
      "model_module_version": "1.5.0",
      "model_name": "FloatProgressModel",
      "state": {
       "bar_style": "danger",
       "layout": "IPY_MODEL_99aaa981f4954fe1b7ecc04efd7a9dc7",
       "max": 1,
       "style": "IPY_MODEL_81ef8f31e434425e8c12ed7238f168c1"
      }
     },
     "43dec149ed9442699d058b6c092fd221": {
      "model_module": "@jupyter-widgets/base",
      "model_module_version": "1.2.0",
      "model_name": "LayoutModel",
      "state": {}
     },
     "44130002045640cda4c08463a0b388b9": {
      "model_module": "@jupyter-widgets/controls",
      "model_module_version": "1.5.0",
      "model_name": "HTMLModel",
      "state": {
       "layout": "IPY_MODEL_b94671c0006b47c484188ce9aad01eed",
       "style": "IPY_MODEL_3731f3aac76248c8bb9034ffad1b015c",
       "value": " 9237/9237 [16:51&lt;00:00,  9.13it/s]"
      }
     },
     "44565bc4897a47d3944064a3e5c6d1c9": {
      "model_module": "@jupyter-widgets/controls",
      "model_module_version": "1.5.0",
      "model_name": "FloatProgressModel",
      "state": {
       "bar_style": "success",
       "description": "100%",
       "layout": "IPY_MODEL_a7f6b6e0f5e941d3b020cf175227c5bb",
       "max": 3571,
       "style": "IPY_MODEL_114b8ef7e7454810afaba39d3f6659a5",
       "value": 3571
      }
     },
     "44b3f31a552141809995f43a69cc0cd1": {
      "model_module": "@jupyter-widgets/base",
      "model_module_version": "1.2.0",
      "model_name": "LayoutModel",
      "state": {}
     },
     "44dbe4d36cee4bb39bcf84dc1aee4340": {
      "model_module": "@jupyter-widgets/base",
      "model_module_version": "1.2.0",
      "model_name": "LayoutModel",
      "state": {}
     },
     "44e5d23dff8a4cc7a7d35307f2df4ba3": {
      "model_module": "@jupyter-widgets/controls",
      "model_module_version": "1.5.0",
      "model_name": "DescriptionStyleModel",
      "state": {
       "description_width": ""
      }
     },
     "4501b6913acb4c9893f920376d40d4b4": {
      "model_module": "@jupyter-widgets/base",
      "model_module_version": "1.2.0",
      "model_name": "LayoutModel",
      "state": {}
     },
     "4571d16a9262405ba3b39d2487ec9ca9": {
      "model_module": "@jupyter-widgets/controls",
      "model_module_version": "1.5.0",
      "model_name": "DescriptionStyleModel",
      "state": {
       "description_width": ""
      }
     },
     "459959dd192e4d05b874b7868de47ff6": {
      "model_module": "@jupyter-widgets/controls",
      "model_module_version": "1.5.0",
      "model_name": "DescriptionStyleModel",
      "state": {
       "description_width": ""
      }
     },
     "45c33fc7d4a047258105cba061ee16d8": {
      "model_module": "@jupyter-widgets/controls",
      "model_module_version": "1.5.0",
      "model_name": "DescriptionStyleModel",
      "state": {
       "description_width": ""
      }
     },
     "45c81f09ebe14b36a81e732b8f6379e4": {
      "model_module": "@jupyter-widgets/base",
      "model_module_version": "1.2.0",
      "model_name": "LayoutModel",
      "state": {}
     },
     "45f3002460b2418ca56fe8adfa0c79c6": {
      "model_module": "@jupyter-widgets/controls",
      "model_module_version": "1.5.0",
      "model_name": "ProgressStyleModel",
      "state": {
       "description_width": "initial"
      }
     },
     "45fd4781708e41138ef7dae587c4cab7": {
      "model_module": "@jupyter-widgets/controls",
      "model_module_version": "1.5.0",
      "model_name": "HBoxModel",
      "state": {
       "children": [
        "IPY_MODEL_1ab31f7228394e40a72f6b7789e2c6c1",
        "IPY_MODEL_c82bb0367e3c48988e913af926f4aad6"
       ],
       "layout": "IPY_MODEL_bb67c570769647468a416ddab4338475"
      }
     },
     "4653b623198940009eb3b8a580c6bf11": {
      "model_module": "@jupyter-widgets/base",
      "model_module_version": "1.2.0",
      "model_name": "LayoutModel",
      "state": {}
     },
     "46722d3e64c84ea988979ae065b6fc35": {
      "model_module": "@jupyter-widgets/base",
      "model_module_version": "1.2.0",
      "model_name": "LayoutModel",
      "state": {}
     },
     "467473ed0159438e92b6509f859ff1d1": {
      "model_module": "@jupyter-widgets/controls",
      "model_module_version": "1.5.0",
      "model_name": "FloatProgressModel",
      "state": {
       "bar_style": "success",
       "description": "100%",
       "layout": "IPY_MODEL_cbef43ad8c21429e884ae31586c58507",
       "max": 9236,
       "style": "IPY_MODEL_cf64a7434f2f497c9edf57b5b56b2e88",
       "value": 9236
      }
     },
     "467cda6823bf4523b7a5a419cd39239a": {
      "model_module": "@jupyter-widgets/controls",
      "model_module_version": "1.5.0",
      "model_name": "HTMLModel",
      "state": {
       "layout": "IPY_MODEL_f0cac4a071024d75a6cace6ff505658a",
       "style": "IPY_MODEL_86417e4d0df34f75aaf8b866bc9de9e8",
       "value": " 17920/17920 [00:00&lt;00:00, 162397.11it/s]"
      }
     },
     "47034d21605e4d0583f7273adf9c0ea8": {
      "model_module": "@jupyter-widgets/base",
      "model_module_version": "1.2.0",
      "model_name": "LayoutModel",
      "state": {}
     },
     "471d07b7a8f64763ba60032f4110e2ec": {
      "model_module": "@jupyter-widgets/controls",
      "model_module_version": "1.5.0",
      "model_name": "FloatProgressModel",
      "state": {
       "bar_style": "success",
       "description": "100%",
       "layout": "IPY_MODEL_c8c63a86cc2448f5b39427128bb5d227",
       "max": 9237,
       "style": "IPY_MODEL_0df5972c643b4e3b8c05f68f6ca2ce7c",
       "value": 9237
      }
     },
     "4726a28b9322473f9d12e87a00b7703c": {
      "model_module": "@jupyter-widgets/base",
      "model_module_version": "1.2.0",
      "model_name": "LayoutModel",
      "state": {}
     },
     "477567ad1ce249448de4bc4abdbb1821": {
      "model_module": "@jupyter-widgets/base",
      "model_module_version": "1.2.0",
      "model_name": "LayoutModel",
      "state": {}
     },
     "47a0f8e7980c4446b2bf3f3397d42374": {
      "model_module": "@jupyter-widgets/controls",
      "model_module_version": "1.5.0",
      "model_name": "DescriptionStyleModel",
      "state": {
       "description_width": ""
      }
     },
     "47a90142f5b849a489b824425723689c": {
      "model_module": "@jupyter-widgets/base",
      "model_module_version": "1.2.0",
      "model_name": "LayoutModel",
      "state": {}
     },
     "47b073f686ea48188dbc39166dc8303b": {
      "model_module": "@jupyter-widgets/base",
      "model_module_version": "1.2.0",
      "model_name": "LayoutModel",
      "state": {}
     },
     "47db44e7f2f74f328a7c18249b5254f2": {
      "model_module": "@jupyter-widgets/controls",
      "model_module_version": "1.5.0",
      "model_name": "DescriptionStyleModel",
      "state": {
       "description_width": ""
      }
     },
     "47ec9a42158a4550aacf384c7488239a": {
      "model_module": "@jupyter-widgets/base",
      "model_module_version": "1.2.0",
      "model_name": "LayoutModel",
      "state": {}
     },
     "480f646a852e47cdab34480154a3b67a": {
      "model_module": "@jupyter-widgets/controls",
      "model_module_version": "1.5.0",
      "model_name": "HBoxModel",
      "state": {
       "children": [
        "IPY_MODEL_23ca8dea3f9d4b6d86a718cccd4eb6dc",
        "IPY_MODEL_c34f8b41c4df4ae8adf38120294e67ce"
       ],
       "layout": "IPY_MODEL_349594ed61d545ee94dd167a985fe0a6"
      }
     },
     "4876c7d783e3498182d5ba9e55f4ada4": {
      "model_module": "@jupyter-widgets/controls",
      "model_module_version": "1.5.0",
      "model_name": "ProgressStyleModel",
      "state": {
       "description_width": "initial"
      }
     },
     "4878e9ae1e044eef982205775dddccf3": {
      "model_module": "@jupyter-widgets/base",
      "model_module_version": "1.2.0",
      "model_name": "LayoutModel",
      "state": {}
     },
     "48edf32acc8e42c0b0ed33c7fb418c9a": {
      "model_module": "@jupyter-widgets/base",
      "model_module_version": "1.2.0",
      "model_name": "LayoutModel",
      "state": {}
     },
     "48fa27ed1b994834bf6e97b9da2578b7": {
      "model_module": "@jupyter-widgets/base",
      "model_module_version": "1.2.0",
      "model_name": "LayoutModel",
      "state": {}
     },
     "490421731c344f08b9ed92d8e158ce91": {
      "model_module": "@jupyter-widgets/base",
      "model_module_version": "1.2.0",
      "model_name": "LayoutModel",
      "state": {}
     },
     "49523ae566794478a57966d0e156c97f": {
      "model_module": "@jupyter-widgets/base",
      "model_module_version": "1.2.0",
      "model_name": "LayoutModel",
      "state": {}
     },
     "4957890ceaad4e849cc6fc7d9723fb75": {
      "model_module": "@jupyter-widgets/controls",
      "model_module_version": "1.5.0",
      "model_name": "HBoxModel",
      "state": {
       "children": [
        "IPY_MODEL_771b704c2a2b4ce3bb43064adde297b8",
        "IPY_MODEL_853cc1ffd2bf43b4a446b7fd9208a87c"
       ],
       "layout": "IPY_MODEL_c6ffb1b90f18438f8a375425ffc24bb3"
      }
     },
     "4966b68affa24d829b7591816cae0fe6": {
      "model_module": "@jupyter-widgets/controls",
      "model_module_version": "1.5.0",
      "model_name": "HBoxModel",
      "state": {
       "children": [
        "IPY_MODEL_4c5a9ac3f52a4dd5941ce1c30b9ccd20",
        "IPY_MODEL_88cd4b93491f436fabaeae2dbd9c2b08"
       ],
       "layout": "IPY_MODEL_17c3f32fb68645dc934e93bd4212435d"
      }
     },
     "497825eb1bff4e0e98626cd625f804f3": {
      "model_module": "@jupyter-widgets/controls",
      "model_module_version": "1.5.0",
      "model_name": "HTMLModel",
      "state": {
       "layout": "IPY_MODEL_64d2c1539769446ebc9a48237b330065",
       "style": "IPY_MODEL_26aaa7247b824a0d9d60ad0993bd6562",
       "value": " 9152/9152 [00:03&lt;00:00, 2825.30it/s]"
      }
     },
     "49cd60709d6f4921a59050831e7270a1": {
      "model_module": "@jupyter-widgets/controls",
      "model_module_version": "1.5.0",
      "model_name": "DescriptionStyleModel",
      "state": {
       "description_width": ""
      }
     },
     "49e97f83eab94f90aefd3f379e8f22d8": {
      "model_module": "@jupyter-widgets/controls",
      "model_module_version": "1.5.0",
      "model_name": "HBoxModel",
      "state": {
       "children": [
        "IPY_MODEL_f6e84dae2c2f4123845242152e2084ca",
        "IPY_MODEL_d59d53a0fec547caa12577e52660f542"
       ],
       "layout": "IPY_MODEL_d96f405fde7b4fd592d4df607a70fc20"
      }
     },
     "4a41f8630b4f407ca6a245c8195a0201": {
      "model_module": "@jupyter-widgets/controls",
      "model_module_version": "1.5.0",
      "model_name": "FloatProgressModel",
      "state": {
       "bar_style": "success",
       "description": "100%",
       "layout": "IPY_MODEL_384146f6ef13438f84b7d9d716791b80",
       "max": 2856,
       "style": "IPY_MODEL_76d777268b144f109ddd99134525ac87",
       "value": 2856
      }
     },
     "4a5c0f7765d24bd89ea91b4d34a74253": {
      "model_module": "@jupyter-widgets/controls",
      "model_module_version": "1.5.0",
      "model_name": "FloatProgressModel",
      "state": {
       "bar_style": "success",
       "description": "100%",
       "layout": "IPY_MODEL_efadaadd0a0c4ae7993437a938bd8e9a",
       "max": 9237,
       "style": "IPY_MODEL_f7a790430db146f299398e7a0ab9d1f3",
       "value": 9237
      }
     },
     "4a733a7925b5416ea0c9c6074a5d9a5b": {
      "model_module": "@jupyter-widgets/base",
      "model_module_version": "1.2.0",
      "model_name": "LayoutModel",
      "state": {}
     },
     "4a7f9ba4f9f94da993c08b9667de93b2": {
      "model_module": "@jupyter-widgets/controls",
      "model_module_version": "1.5.0",
      "model_name": "DescriptionStyleModel",
      "state": {
       "description_width": ""
      }
     },
     "4b3a3cf227b14694820fce19eaa93b7c": {
      "model_module": "@jupyter-widgets/base",
      "model_module_version": "1.2.0",
      "model_name": "LayoutModel",
      "state": {}
     },
     "4b7e14bccc8c490eb71d9da9e903d453": {
      "model_module": "@jupyter-widgets/controls",
      "model_module_version": "1.5.0",
      "model_name": "HBoxModel",
      "state": {
       "children": [
        "IPY_MODEL_d45d6bbdd6e040fd871e33a40a8fc701",
        "IPY_MODEL_f88ceb01810846849476bdbe762670f1"
       ],
       "layout": "IPY_MODEL_35c7b4681d884022b3b053f7e284c333"
      }
     },
     "4bbeee3b6a714796828a1d10892bb25d": {
      "model_module": "@jupyter-widgets/base",
      "model_module_version": "1.2.0",
      "model_name": "LayoutModel",
      "state": {}
     },
     "4bc589318b2d475e993c1e50b34dd6ae": {
      "model_module": "@jupyter-widgets/controls",
      "model_module_version": "1.5.0",
      "model_name": "ProgressStyleModel",
      "state": {
       "description_width": "initial"
      }
     },
     "4be9b33618a04abf920e6f9d0435f3ed": {
      "model_module": "@jupyter-widgets/controls",
      "model_module_version": "1.5.0",
      "model_name": "ProgressStyleModel",
      "state": {
       "description_width": "initial"
      }
     },
     "4c180019e14e4543a6afd338c6823a44": {
      "model_module": "@jupyter-widgets/base",
      "model_module_version": "1.2.0",
      "model_name": "LayoutModel",
      "state": {}
     },
     "4c5a9ac3f52a4dd5941ce1c30b9ccd20": {
      "model_module": "@jupyter-widgets/controls",
      "model_module_version": "1.5.0",
      "model_name": "FloatProgressModel",
      "state": {
       "bar_style": "success",
       "description": "100%",
       "layout": "IPY_MODEL_1ec10f9e79c142c682df7d65cc2d0a4d",
       "max": 9237,
       "style": "IPY_MODEL_61547b1a52d741619d664327882c071e",
       "value": 9237
      }
     },
     "4c621f7368814b1b87edf89a3fddc011": {
      "model_module": "@jupyter-widgets/controls",
      "model_module_version": "1.5.0",
      "model_name": "HBoxModel",
      "state": {
       "children": [
        "IPY_MODEL_024f404fb85c483da3e840dae32b6105",
        "IPY_MODEL_97f648ea1e4f4b83aefb6feff5a8ef91"
       ],
       "layout": "IPY_MODEL_8f2e41ba46a249019a9df250adc77e8b"
      }
     },
     "4cc2fbddbdd04fa591a36764e8438ad3": {
      "model_module": "@jupyter-widgets/controls",
      "model_module_version": "1.5.0",
      "model_name": "DescriptionStyleModel",
      "state": {
       "description_width": ""
      }
     },
     "4cd438313552413bac220209bf7d454f": {
      "model_module": "@jupyter-widgets/controls",
      "model_module_version": "1.5.0",
      "model_name": "DescriptionStyleModel",
      "state": {
       "description_width": ""
      }
     },
     "4d0983ac5926437ea5def736cc467cc1": {
      "model_module": "@jupyter-widgets/controls",
      "model_module_version": "1.5.0",
      "model_name": "FloatProgressModel",
      "state": {
       "bar_style": "success",
       "description": "100%",
       "layout": "IPY_MODEL_f55339345e6c40b9837fcbcf48434017",
       "max": 9237,
       "style": "IPY_MODEL_d7179276f48248f58487b5a44d102264",
       "value": 9237
      }
     },
     "4d3c4648f36a4d6390230d5b4eca3135": {
      "model_module": "@jupyter-widgets/base",
      "model_module_version": "1.2.0",
      "model_name": "LayoutModel",
      "state": {}
     },
     "4d68f77960d448d9b12a340fc3ab3ee6": {
      "model_module": "@jupyter-widgets/controls",
      "model_module_version": "1.5.0",
      "model_name": "HBoxModel",
      "state": {
       "children": [
        null,
        null
       ]
      }
     },
     "4d6c2ab2c55a4cd2b7adb12cef69f472": {
      "model_module": "@jupyter-widgets/controls",
      "model_module_version": "1.5.0",
      "model_name": "FloatProgressModel",
      "state": {
       "bar_style": "success",
       "description": "100%",
       "layout": "IPY_MODEL_e746bc6c9156469fa78dd9c1489ae0f0",
       "max": 9237,
       "style": "IPY_MODEL_e468bfbeee4746d89710748d846b018e",
       "value": 9237
      }
     },
     "4d6f464e5dc946c99ac679ed5cf0040a": {
      "model_module": "@jupyter-widgets/controls",
      "model_module_version": "1.5.0",
      "model_name": "FloatProgressModel",
      "state": {
       "bar_style": "success",
       "description": "100%",
       "layout": "IPY_MODEL_6845e71702bc4aae8510a0d8d03f7fd1",
       "max": 9237,
       "style": "IPY_MODEL_a0debfa0becb44f59fc5bc3cd3a795a9",
       "value": 9237
      }
     },
     "4da688e430cb437b8e922f6398589ed4": {
      "model_module": "@jupyter-widgets/controls",
      "model_module_version": "1.5.0",
      "model_name": "HBoxModel",
      "state": {
       "children": [
        "IPY_MODEL_34ff4aceb394492bb32a80774922904f",
        "IPY_MODEL_c5534e35edbb4e729fd34cc65d202c7a"
       ],
       "layout": "IPY_MODEL_c1f0e90330964b08b3616eb8490e4be9"
      }
     },
     "4dce822d37f04f679de88b08499575f6": {
      "model_module": "@jupyter-widgets/controls",
      "model_module_version": "1.5.0",
      "model_name": "HTMLModel",
      "state": {
       "layout": "IPY_MODEL_6a16723cb1924f69b657e4b72717a163",
       "style": "IPY_MODEL_dd685da3bbbf40018ad4d0770c434094",
       "value": " 9236/9236 [16:17&lt;00:00,  9.45it/s]"
      }
     },
     "4df874a5dc1946418e6697a9450b69de": {
      "model_module": "@jupyter-widgets/controls",
      "model_module_version": "1.5.0",
      "model_name": "HTMLModel",
      "state": {
       "layout": "IPY_MODEL_b5192f84b3fe4c0dbc71eb627394a4f9",
       "style": "IPY_MODEL_1a299abd9cbd4c02ad538c7d146ef1da",
       "value": " 10000/10000 [00:00&lt;00:00, 58496.74it/s]"
      }
     },
     "4dff32d283264fb7a52bf77fc085b956": {
      "model_module": "@jupyter-widgets/controls",
      "model_module_version": "1.5.0",
      "model_name": "HTMLModel",
      "state": {
       "layout": "IPY_MODEL_c4c3203554d6443b94302d7390c9dfec",
       "style": "IPY_MODEL_fd33a00984984f1a8e8d9bb0979650f9",
       "value": " 517401/517401 [01:31&lt;00:00, 5632.03it/s]"
      }
     },
     "4e25ef4d2fc844c98e9af1d7ddb7a28b": {
      "model_module": "@jupyter-widgets/base",
      "model_module_version": "1.2.0",
      "model_name": "LayoutModel",
      "state": {}
     },
     "4e55a055819c494cbee464a78b334ca1": {
      "model_module": "@jupyter-widgets/controls",
      "model_module_version": "1.5.0",
      "model_name": "DescriptionStyleModel",
      "state": {
       "description_width": ""
      }
     },
     "4ed78092d92d4dcfb4ac6e5b976c4956": {
      "model_module": "@jupyter-widgets/controls",
      "model_module_version": "1.5.0",
      "model_name": "HBoxModel",
      "state": {
       "children": [
        "IPY_MODEL_3577133da5154e45b56c636046dda243",
        "IPY_MODEL_a6e380bdd69f411ab1a1274455d896c4"
       ],
       "layout": "IPY_MODEL_261e5ee0fac34f5d8d948eabecffb91c"
      }
     },
     "4ed859f28e194b1690b0cf577bf6232f": {
      "model_module": "@jupyter-widgets/controls",
      "model_module_version": "1.5.0",
      "model_name": "HTMLModel",
      "state": {
       "layout": "IPY_MODEL_8703314db81f4f638c0c95e528452827",
       "style": "IPY_MODEL_1d2555540ed24b958fd0fc83cbd1d19b",
       "value": " 4284/4284 [10:19&lt;00:00,  6.91it/s]"
      }
     },
     "4f0ff20e2bda43f3b1d706cb5d47f8ba": {
      "model_module": "@jupyter-widgets/base",
      "model_module_version": "1.2.0",
      "model_name": "LayoutModel",
      "state": {}
     },
     "4f2e8571cd474420862269b24f5d9db8": {
      "model_module": "@jupyter-widgets/controls",
      "model_module_version": "1.5.0",
      "model_name": "HTMLModel",
      "state": {
       "layout": "IPY_MODEL_e82a59676bf84805beaaf18be58c050f",
       "style": "IPY_MODEL_172473debab84e7fa596c36b9148e870",
       "value": " 9237/9237 [20:13&lt;00:00,  7.61it/s]"
      }
     },
     "4f49de297fb2444fbf390dd8b1ba1207": {
      "model_module": "@jupyter-widgets/base",
      "model_module_version": "1.2.0",
      "model_name": "LayoutModel",
      "state": {}
     },
     "4f668d510c5c4f88ad3e17596a245f17": {
      "model_module": "@jupyter-widgets/controls",
      "model_module_version": "1.5.0",
      "model_name": "ProgressStyleModel",
      "state": {
       "description_width": "initial"
      }
     },
     "4fcc2720f7984c358d861641b6e3ce97": {
      "model_module": "@jupyter-widgets/controls",
      "model_module_version": "1.5.0",
      "model_name": "FloatProgressModel",
      "state": {
       "bar_style": "success",
       "description": "100%",
       "layout": "IPY_MODEL_ef5162a79a514f73a5743bbc51a60458",
       "max": 50000,
       "style": "IPY_MODEL_3e3240af7a07450aa565382c37a5aa61",
       "value": 50000
      }
     },
     "4fdd8d80744a4bbdaf638ce7cfe9b6a8": {
      "model_module": "@jupyter-widgets/controls",
      "model_module_version": "1.5.0",
      "model_name": "DescriptionStyleModel",
      "state": {
       "description_width": ""
      }
     },
     "5029a781db024072b096557c46705b12": {
      "model_module": "@jupyter-widgets/base",
      "model_module_version": "1.2.0",
      "model_name": "LayoutModel",
      "state": {}
     },
     "50a90821f5c64187b5eb1e7d5b87739d": {
      "model_module": "@jupyter-widgets/controls",
      "model_module_version": "1.5.0",
      "model_name": "HTMLModel",
      "state": {
       "layout": "IPY_MODEL_a9fe914194144bfdba7d18d6d0fe71a6",
       "style": "IPY_MODEL_7f06e7317a884e75b003d8ef5920d787",
       "value": " 29991/29991 [00:12&lt;00:00, 2325.15it/s]"
      }
     },
     "50be8691e7714b20b30e0004e949a95d": {
      "model_module": "@jupyter-widgets/controls",
      "model_module_version": "1.5.0",
      "model_name": "HTMLModel",
      "state": {
       "layout": "IPY_MODEL_37d0a2bf684f4a11be2c79b26e4339af",
       "style": "IPY_MODEL_da6a6eb1204c4fda958e23278f21cf26",
       "value": " 9237/9237 [00:29&lt;00:00, 315.07it/s]"
      }
     },
     "510565f06b8c465698297a3aa3966eaa": {
      "model_module": "@jupyter-widgets/controls",
      "model_module_version": "1.5.0",
      "model_name": "ProgressStyleModel",
      "state": {
       "description_width": "initial"
      }
     },
     "5107baf361804708a96db2f25881ccb1": {
      "model_module": "@jupyter-widgets/controls",
      "model_module_version": "1.5.0",
      "model_name": "ProgressStyleModel",
      "state": {
       "description_width": "initial"
      }
     },
     "5130be0231ed46eca3ffcd02cc7dd8e0": {
      "model_module": "@jupyter-widgets/controls",
      "model_module_version": "1.5.0",
      "model_name": "HTMLModel",
      "state": {
       "layout": "IPY_MODEL_82d4345ec40040cb94be930c9b257ded",
       "style": "IPY_MODEL_62ee58c6102b4a07a9e4bcb325b7d538",
       "value": " 9237/9237 [26:54&lt;00:00,  5.72it/s]"
      }
     },
     "51862e2742084957ace25c4b3643da06": {
      "model_module": "@jupyter-widgets/base",
      "model_module_version": "1.2.0",
      "model_name": "LayoutModel",
      "state": {}
     },
     "51955ad1fde4498cb60ea7e8dde42529": {
      "model_module": "@jupyter-widgets/controls",
      "model_module_version": "1.5.0",
      "model_name": "ProgressStyleModel",
      "state": {
       "description_width": "initial"
      }
     },
     "5199f767e18d4ae6bb1bda28f3b584d5": {
      "model_module": "@jupyter-widgets/base",
      "model_module_version": "1.2.0",
      "model_name": "LayoutModel",
      "state": {}
     },
     "51b7e3e35f5e4df1bf2d98f906c1f8c3": {
      "model_module": "@jupyter-widgets/controls",
      "model_module_version": "1.5.0",
      "model_name": "FloatProgressModel",
      "state": {
       "bar_style": "success",
       "description": "100%",
       "layout": "IPY_MODEL_6fff6c06bea44252a9f1b0bd76eca832",
       "max": 9237,
       "style": "IPY_MODEL_bea67a4c41314baaacfb338e867b9dfd",
       "value": 9237
      }
     },
     "51c1efcd88ae4a7bb7845c9f633573f1": {
      "model_module": "@jupyter-widgets/controls",
      "model_module_version": "1.5.0",
      "model_name": "ProgressStyleModel",
      "state": {
       "description_width": "initial"
      }
     },
     "51d1cb32dcb34635a94a3c5590cce270": {
      "model_module": "@jupyter-widgets/base",
      "model_module_version": "1.2.0",
      "model_name": "LayoutModel",
      "state": {}
     },
     "51f92a803f624dfeb83d5023d527b3f1": {
      "model_module": "@jupyter-widgets/controls",
      "model_module_version": "1.5.0",
      "model_name": "DescriptionStyleModel",
      "state": {
       "description_width": ""
      }
     },
     "5209245c09e147f5bd15e95427519995": {
      "model_module": "@jupyter-widgets/controls",
      "model_module_version": "1.5.0",
      "model_name": "HTMLModel",
      "state": {
       "layout": "IPY_MODEL_90164402a8d84e649343b37266758cad",
       "style": "IPY_MODEL_4cc2fbddbdd04fa591a36764e8438ad3",
       "value": " 9237/9237 [00:37&lt;00:00, 246.62it/s]"
      }
     },
     "52726ca0a0014453b817b21a0d172229": {
      "model_module": "@jupyter-widgets/controls",
      "model_module_version": "1.5.0",
      "model_name": "DescriptionStyleModel",
      "state": {
       "description_width": ""
      }
     },
     "5278519a561d4264997c979d11ade623": {
      "model_module": "@jupyter-widgets/controls",
      "model_module_version": "1.5.0",
      "model_name": "HTMLModel",
      "state": {
       "layout": "IPY_MODEL_6a42c36d6a7544ae8e494176abeb3e43",
       "style": "IPY_MODEL_f11c6cc290f94fff9778a66041a7b9e9",
       "value": " 1428/1428 [03:25&lt;00:00,  6.97it/s]"
      }
     },
     "528e95caa2324812813718734b12dda6": {
      "model_module": "@jupyter-widgets/controls",
      "model_module_version": "1.5.0",
      "model_name": "HTMLModel",
      "state": {
       "layout": "IPY_MODEL_b3a764f601da431f902622cc3c809a4a",
       "style": "IPY_MODEL_179c2353412249d9b085b083c81a075e",
       "value": " 9236/9236 [19:57&lt;00:00,  7.72it/s]"
      }
     },
     "529c5b22dcda42d3ab20f0bf0649bbef": {
      "model_module": "@jupyter-widgets/base",
      "model_module_version": "1.2.0",
      "model_name": "LayoutModel",
      "state": {}
     },
     "52d7472596fb45df90a8338474298510": {
      "model_module": "@jupyter-widgets/controls",
      "model_module_version": "1.5.0",
      "model_name": "HBoxModel",
      "state": {
       "children": [
        "IPY_MODEL_219aee8e8f1d4c4c81294426861f5ded",
        "IPY_MODEL_c897a1dc6ab641a3b47a204bb6ecccaf"
       ],
       "layout": "IPY_MODEL_9d356eccc01149a0acdd7e0062dc4557"
      }
     },
     "52e23886630241ad9b5f784535de6779": {
      "model_module": "@jupyter-widgets/controls",
      "model_module_version": "1.5.0",
      "model_name": "ProgressStyleModel",
      "state": {
       "description_width": "initial"
      }
     },
     "52e8408571f54f9d8ce8952d10ebbf9c": {
      "model_module": "@jupyter-widgets/base",
      "model_module_version": "1.2.0",
      "model_name": "LayoutModel",
      "state": {}
     },
     "5330d7c5ce234abfa0e15b7029fd1046": {
      "model_module": "@jupyter-widgets/controls",
      "model_module_version": "1.5.0",
      "model_name": "DescriptionStyleModel",
      "state": {
       "description_width": ""
      }
     },
     "533bee4fb4d04073922b6d0a0d12ddfd": {
      "model_module": "@jupyter-widgets/controls",
      "model_module_version": "1.5.0",
      "model_name": "HTMLModel",
      "state": {
       "layout": "IPY_MODEL_1512e09399924602bede1a9d59fd1857",
       "style": "IPY_MODEL_e5e671070f8943bbb44bf79900407a81",
       "value": " 7140/7140 [15:49&lt;00:00,  7.52it/s]"
      }
     },
     "5353cd70c9fa46ed9ceedae1cccc0491": {
      "model_module": "@jupyter-widgets/controls",
      "model_module_version": "1.5.0",
      "model_name": "FloatProgressModel",
      "state": {
       "bar_style": "success",
       "description": "100%",
       "layout": "IPY_MODEL_5f996f7b927348249976d0ac5cf48312",
       "max": 9237,
       "style": "IPY_MODEL_a1965d72f7544a8c90695534f7ee7028",
       "value": 9237
      }
     },
     "53820c1bf37e41a280288cf9173026ce": {
      "model_module": "@jupyter-widgets/base",
      "model_module_version": "1.2.0",
      "model_name": "LayoutModel",
      "state": {}
     },
     "53934afe8cb0451ab2ce23db27082af0": {
      "model_module": "@jupyter-widgets/base",
      "model_module_version": "1.2.0",
      "model_name": "LayoutModel",
      "state": {}
     },
     "5394563fc8e4480b965a13ab360036ea": {
      "model_module": "@jupyter-widgets/controls",
      "model_module_version": "1.5.0",
      "model_name": "ProgressStyleModel",
      "state": {
       "description_width": "initial"
      }
     },
     "539e473ee9c94c009924042f7502dada": {
      "model_module": "@jupyter-widgets/controls",
      "model_module_version": "1.5.0",
      "model_name": "FloatProgressModel",
      "state": {
       "bar_style": "success",
       "description": "100%",
       "layout": "IPY_MODEL_bb5720c9266f446c9f3c7eac0e806bf7",
       "max": 9237,
       "style": "IPY_MODEL_be0fb75290fc4aa9868406431ed67fa3",
       "value": 9237
      }
     },
     "53bbba94f4ba416fbff179b197b39b6e": {
      "model_module": "@jupyter-widgets/controls",
      "model_module_version": "1.5.0",
      "model_name": "ProgressStyleModel",
      "state": {
       "description_width": "initial"
      }
     },
     "53c431dc51d94cfc8be37dcea4a6623d": {
      "model_module": "@jupyter-widgets/controls",
      "model_module_version": "1.5.0",
      "model_name": "HTMLModel",
      "state": {
       "layout": "IPY_MODEL_aacb8a8e0c6d435096b018c3b146287a",
       "style": "IPY_MODEL_2674657ccaf24f4996b56b576186f3a0",
       "value": " 9237/9237 [00:37&lt;00:00, 247.23it/s]"
      }
     },
     "53cf7b520b3045648eafc54e1a6bb5df": {
      "model_module": "@jupyter-widgets/controls",
      "model_module_version": "1.5.0",
      "model_name": "DescriptionStyleModel",
      "state": {
       "description_width": ""
      }
     },
     "53d9bc74ea2f4977af39faf51e45d648": {
      "model_module": "@jupyter-widgets/controls",
      "model_module_version": "1.5.0",
      "model_name": "HTMLModel",
      "state": {
       "layout": "IPY_MODEL_e4432a42a1be456b94aa8254998929a4",
       "style": "IPY_MODEL_b8dcf1a06d9448078d0e4fbb97e8d435",
       "value": " 9237/9237 [00:31&lt;00:00, 295.65it/s]"
      }
     },
     "53f6b25ab5f149918858267a68d1ed72": {
      "model_module": "@jupyter-widgets/controls",
      "model_module_version": "1.5.0",
      "model_name": "ProgressStyleModel",
      "state": {
       "description_width": "initial"
      }
     },
     "541aa0d233544d3d962c44623c8c5d04": {
      "model_module": "@jupyter-widgets/controls",
      "model_module_version": "1.5.0",
      "model_name": "HTMLModel",
      "state": {
       "layout": "IPY_MODEL_58dd899347bf4451b2fd8953cb1a2b65",
       "style": "IPY_MODEL_58ab26d38d8d43d4b479e3886b93f08f",
       "value": " 17556/17556 [00:00&lt;00:00, 88597.56it/s]"
      }
     },
     "5441ae65195b4af49856b621d5d14197": {
      "model_module": "@jupyter-widgets/controls",
      "model_module_version": "1.5.0",
      "model_name": "HBoxModel",
      "state": {
       "children": [
        "IPY_MODEL_1898d4bc6a744a8c8eeee57c5b056196",
        "IPY_MODEL_619cf0ed6f3845f7946c73a150e3d725"
       ],
       "layout": "IPY_MODEL_872272a5b09a4efc9db8e9ebdb1861dc"
      }
     },
     "5453f13770db4797ad781a0f2bc93f3e": {
      "model_module": "@jupyter-widgets/controls",
      "model_module_version": "1.5.0",
      "model_name": "HTMLModel",
      "state": {
       "layout": "IPY_MODEL_91ef54d0de9347a4b6e7af526c312038",
       "style": "IPY_MODEL_1ed4a04a685b4860b02e6492745b45db",
       "value": " 9237/9237 [00:32&lt;00:00, 286.10it/s]"
      }
     },
     "54778582f9654579a2c60a48b762912e": {
      "model_module": "@jupyter-widgets/base",
      "model_module_version": "1.2.0",
      "model_name": "LayoutModel",
      "state": {}
     },
     "54fb804496ac47c69c0474e95bf01946": {
      "model_module": "@jupyter-widgets/controls",
      "model_module_version": "1.5.0",
      "model_name": "ProgressStyleModel",
      "state": {
       "description_width": "initial"
      }
     },
     "5548a5f9653143bf8e114e2a1c10fd0b": {
      "model_module": "@jupyter-widgets/controls",
      "model_module_version": "1.5.0",
      "model_name": "FloatProgressModel",
      "state": {
       "bar_style": "success",
       "description": "100%",
       "layout": "IPY_MODEL_f1e40b801e524509a388b7f86954213f",
       "max": 9236,
       "style": "IPY_MODEL_db1e639b7c4c44eda6d9d6d7faff37d5",
       "value": 9236
      }
     },
     "554cad64efc64d818cf2f36a31fc205f": {
      "model_module": "@jupyter-widgets/controls",
      "model_module_version": "1.5.0",
      "model_name": "FloatProgressModel",
      "state": {
       "bar_style": "success",
       "description": "100%",
       "layout": "IPY_MODEL_b5650f8860444b9cab1268f68ce28fb3",
       "max": 1428,
       "style": "IPY_MODEL_9667fbbc97ab402d94c7f3c201e386b1",
       "value": 1428
      }
     },
     "5595b875a28c40499652c82210314994": {
      "model_module": "@jupyter-widgets/controls",
      "model_module_version": "1.5.0",
      "model_name": "ProgressStyleModel",
      "state": {
       "description_width": "initial"
      }
     },
     "55f9319a5e8140ad92fc5afb8fa88aa5": {
      "model_module": "@jupyter-widgets/controls",
      "model_module_version": "1.5.0",
      "model_name": "HTMLModel",
      "state": {
       "layout": "IPY_MODEL_99e5534ef8da4f3394ec0e2fe1fa11ca",
       "style": "IPY_MODEL_a67aff636b124f1c9743e0e9e2adaecc",
       "value": " 9236/9236 [10:11&lt;00:00, 15.11it/s]"
      }
     },
     "5608c98f24404b1eaf4c18b2ee9311a5": {
      "model_module": "@jupyter-widgets/controls",
      "model_module_version": "1.5.0",
      "model_name": "DescriptionStyleModel",
      "state": {
       "description_width": ""
      }
     },
     "563f482dc4344484a9585af769a2e304": {
      "model_module": "@jupyter-widgets/base",
      "model_module_version": "1.2.0",
      "model_name": "LayoutModel",
      "state": {}
     },
     "5648084ecb5a4060a460d70cf0f40f6c": {
      "model_module": "@jupyter-widgets/base",
      "model_module_version": "1.2.0",
      "model_name": "LayoutModel",
      "state": {}
     },
     "568654ebc95b40f4978d092e0c6181cd": {
      "model_module": "@jupyter-widgets/controls",
      "model_module_version": "1.5.0",
      "model_name": "HBoxModel",
      "state": {
       "children": [
        "IPY_MODEL_b9bd415e37da4a4ba7e88ff8a0c62deb",
        "IPY_MODEL_c0eaea3d33cc437bb57e057758d91c7d"
       ],
       "layout": "IPY_MODEL_9e17d1c9f10d4a75b3de2217805edb42"
      }
     },
     "56bcb96585b04082b5903aa218601b66": {
      "model_module": "@jupyter-widgets/controls",
      "model_module_version": "1.5.0",
      "model_name": "FloatProgressModel",
      "state": {
       "bar_style": "success",
       "description": "100%",
       "layout": "IPY_MODEL_cd1f95cd5682429bbcbcb16058bc389b",
       "max": 40027,
       "style": "IPY_MODEL_79a7c7f1ba474d0f97f4abee876db4c9",
       "value": 40027
      }
     },
     "56d9d048444c41708b30611146a537aa": {
      "model_module": "@jupyter-widgets/base",
      "model_module_version": "1.2.0",
      "model_name": "LayoutModel",
      "state": {}
     },
     "56e08cc34c4f4455957abc5d4fd90f45": {
      "model_module": "@jupyter-widgets/base",
      "model_module_version": "1.2.0",
      "model_name": "LayoutModel",
      "state": {}
     },
     "5718d2a3c1634beeb5036005b455b4b7": {
      "model_module": "@jupyter-widgets/controls",
      "model_module_version": "1.5.0",
      "model_name": "HTMLModel",
      "state": {
       "layout": "IPY_MODEL_c6712d9b508842cfb1f1c0017667169c",
       "style": "IPY_MODEL_64197fa6464a4574a7d38b8a1c51281c",
       "value": " 40027/40027 [00:17&lt;00:00, 2283.80it/s]"
      }
     },
     "57215abc8b6f4c8fa88b5d0d6db5b4ee": {
      "model_module": "@jupyter-widgets/controls",
      "model_module_version": "1.5.0",
      "model_name": "ProgressStyleModel",
      "state": {
       "description_width": "initial"
      }
     },
     "576ee3a2b9a246299fbf7dfeebdfcd80": {
      "model_module": "@jupyter-widgets/base",
      "model_module_version": "1.2.0",
      "model_name": "LayoutModel",
      "state": {}
     },
     "579d26b917564d5ca47df40eafb84ab0": {
      "model_module": "@jupyter-widgets/controls",
      "model_module_version": "1.5.0",
      "model_name": "HBoxModel",
      "state": {
       "children": [
        "IPY_MODEL_047aaac0a15e4acaafb63e1c0d5fb1aa",
        "IPY_MODEL_d2187ff0e9c4461b863632d438e7ad87"
       ],
       "layout": "IPY_MODEL_a7917a915e43433eb074df0a73b9f052"
      }
     },
     "57a6ed69f046493f9d7424a4a2d927a0": {
      "model_module": "@jupyter-widgets/controls",
      "model_module_version": "1.5.0",
      "model_name": "FloatProgressModel",
      "state": {
       "bar_style": "success",
       "description": "100%",
       "layout": "IPY_MODEL_35633d9d85984e63a08039cd8ff953cf",
       "max": 9236,
       "style": "IPY_MODEL_748f4f8f873844f9b61eaa4221f4d2fa",
       "value": 9236
      }
     },
     "57cd53c2f69e4accab254d3e772cfc39": {
      "model_module": "@jupyter-widgets/base",
      "model_module_version": "1.2.0",
      "model_name": "LayoutModel",
      "state": {}
     },
     "58032171f0ce464e96434e00cf0cab90": {
      "model_module": "@jupyter-widgets/base",
      "model_module_version": "1.2.0",
      "model_name": "LayoutModel",
      "state": {}
     },
     "58067a4826d04a5294007a5d02863557": {
      "model_module": "@jupyter-widgets/base",
      "model_module_version": "1.2.0",
      "model_name": "LayoutModel",
      "state": {}
     },
     "58194845a4484900bf813c30359d696a": {
      "model_module": "@jupyter-widgets/controls",
      "model_module_version": "1.5.0",
      "model_name": "HTMLModel",
      "state": {
       "layout": "IPY_MODEL_a6bf1cfd354a4fc8a54da89ee9ccbdb0",
       "style": "IPY_MODEL_3493e40678f146d98ab5251bbd445aaf",
       "value": " 7140/7140 [15:56&lt;00:00,  7.46it/s]"
      }
     },
     "588e8c87b17d4bf2a33b73ff6d1cd79d": {
      "model_module": "@jupyter-widgets/base",
      "model_module_version": "1.2.0",
      "model_name": "LayoutModel",
      "state": {}
     },
     "588f21a149474d6a88598bcdf6f4d229": {
      "model_module": "@jupyter-widgets/controls",
      "model_module_version": "1.5.0",
      "model_name": "DescriptionStyleModel",
      "state": {
       "description_width": ""
      }
     },
     "58ab26d38d8d43d4b479e3886b93f08f": {
      "model_module": "@jupyter-widgets/controls",
      "model_module_version": "1.5.0",
      "model_name": "DescriptionStyleModel",
      "state": {
       "description_width": ""
      }
     },
     "58dd899347bf4451b2fd8953cb1a2b65": {
      "model_module": "@jupyter-widgets/base",
      "model_module_version": "1.2.0",
      "model_name": "LayoutModel",
      "state": {}
     },
     "5947f795d1ca45618f82f2c3a2290264": {
      "model_module": "@jupyter-widgets/base",
      "model_module_version": "1.2.0",
      "model_name": "LayoutModel",
      "state": {}
     },
     "595e64d07a9941d5b34d512c6cd4f6bc": {
      "model_module": "@jupyter-widgets/base",
      "model_module_version": "1.2.0",
      "model_name": "LayoutModel",
      "state": {}
     },
     "59626082a9c64c2194c69d474b944634": {
      "model_module": "@jupyter-widgets/controls",
      "model_module_version": "1.5.0",
      "model_name": "HTMLModel",
      "state": {
       "layout": "IPY_MODEL_8354971e36b94ddda7c4605d39501442",
       "style": "IPY_MODEL_96dc57b9edc744bb89f29d06666898d6",
       "value": " 40027/40027 [00:00&lt;00:00, 81931.69it/s]"
      }
     },
     "5964fef9882843d1a305d7a3d34691bf": {
      "model_module": "@jupyter-widgets/base",
      "model_module_version": "1.2.0",
      "model_name": "LayoutModel",
      "state": {}
     },
     "597cdac81c404ca0a5a54ca1ca8bc8b5": {
      "model_module": "@jupyter-widgets/base",
      "model_module_version": "1.2.0",
      "model_name": "LayoutModel",
      "state": {}
     },
     "59a5c0dec0e24665a8ddc9afc3a9c550": {
      "model_module": "@jupyter-widgets/controls",
      "model_module_version": "1.5.0",
      "model_name": "DescriptionStyleModel",
      "state": {
       "description_width": ""
      }
     },
     "59b99a4503dc451587adf316f5e14de0": {
      "model_module": "@jupyter-widgets/base",
      "model_module_version": "1.2.0",
      "model_name": "LayoutModel",
      "state": {}
     },
     "59be4c385286437eb759b92127b12512": {
      "model_module": "@jupyter-widgets/controls",
      "model_module_version": "1.5.0",
      "model_name": "HTMLModel",
      "state": {
       "layout": "IPY_MODEL_267c14809c654ee3aeaf99ddc4f5f7e9",
       "style": "IPY_MODEL_5bac10a91f92447bb04a90035a09b29a",
       "value": " 1428/1428 [03:06&lt;00:00,  7.66it/s]"
      }
     },
     "59cccf57ec44490aac834917f9e66bd2": {
      "model_module": "@jupyter-widgets/base",
      "model_module_version": "1.2.0",
      "model_name": "LayoutModel",
      "state": {}
     },
     "59e0d41ece714583940083b5a2ea0f09": {
      "model_module": "@jupyter-widgets/controls",
      "model_module_version": "1.5.0",
      "model_name": "FloatProgressModel",
      "state": {
       "bar_style": "success",
       "description": "100%",
       "layout": "IPY_MODEL_41116767966847d28b08b2ea5871752c",
       "max": 9152,
       "style": "IPY_MODEL_7b6bae6e82b7426792265235f1c3d968",
       "value": 9152
      }
     },
     "5a097c5b285f410686a09a25646cc1e8": {
      "model_module": "@jupyter-widgets/base",
      "model_module_version": "1.2.0",
      "model_name": "LayoutModel",
      "state": {}
     },
     "5a51731cec7c4502a0d183a49cec4992": {
      "model_module": "@jupyter-widgets/controls",
      "model_module_version": "1.5.0",
      "model_name": "ProgressStyleModel",
      "state": {
       "description_width": "initial"
      }
     },
     "5aaf7d8df2de4ca983fa8d82cac59330": {
      "model_module": "@jupyter-widgets/base",
      "model_module_version": "1.2.0",
      "model_name": "LayoutModel",
      "state": {}
     },
     "5ac78553e8f14cffb7b9f5ee115ff4f1": {
      "model_module": "@jupyter-widgets/base",
      "model_module_version": "1.2.0",
      "model_name": "LayoutModel",
      "state": {}
     },
     "5b40f19f70f04419afe6f6d92642c576": {
      "model_module": "@jupyter-widgets/base",
      "model_module_version": "1.2.0",
      "model_name": "LayoutModel",
      "state": {}
     },
     "5bac10a91f92447bb04a90035a09b29a": {
      "model_module": "@jupyter-widgets/controls",
      "model_module_version": "1.5.0",
      "model_name": "DescriptionStyleModel",
      "state": {
       "description_width": ""
      }
     },
     "5bfe51ae81464d9a9cae91ca172f0242": {
      "model_module": "@jupyter-widgets/base",
      "model_module_version": "1.2.0",
      "model_name": "LayoutModel",
      "state": {}
     },
     "5c67a4e932004ebdae38867cd70d6e3a": {
      "model_module": "@jupyter-widgets/base",
      "model_module_version": "1.2.0",
      "model_name": "LayoutModel",
      "state": {}
     },
     "5cbce3d5f85043bdb9d619ec7e84ab2f": {
      "model_module": "@jupyter-widgets/controls",
      "model_module_version": "1.5.0",
      "model_name": "FloatProgressModel",
      "state": {
       "bar_style": "success",
       "description": "100%",
       "layout": "IPY_MODEL_aba79ee90d934b5fab3596db7778bb00",
       "max": 10000,
       "style": "IPY_MODEL_0af60b1bc53d4993a4b01e8386debb2f",
       "value": 10000
      }
     },
     "5ce06a82ca294e45a9cd3206ce488632": {
      "model_module": "@jupyter-widgets/controls",
      "model_module_version": "1.5.0",
      "model_name": "DescriptionStyleModel",
      "state": {
       "description_width": ""
      }
     },
     "5cfa574c9fdb445fadd29186c57b98ab": {
      "model_module": "@jupyter-widgets/controls",
      "model_module_version": "1.5.0",
      "model_name": "DescriptionStyleModel",
      "state": {
       "description_width": ""
      }
     },
     "5cfecad558964c54882db29858bcd8d6": {
      "model_module": "@jupyter-widgets/base",
      "model_module_version": "1.2.0",
      "model_name": "LayoutModel",
      "state": {}
     },
     "5d00c085e47447f7a8dc9599a491298f": {
      "model_module": "@jupyter-widgets/controls",
      "model_module_version": "1.5.0",
      "model_name": "ProgressStyleModel",
      "state": {
       "description_width": "initial"
      }
     },
     "5d244fdf7b684ed3a3acafb4a208622e": {
      "model_module": "@jupyter-widgets/base",
      "model_module_version": "1.2.0",
      "model_name": "LayoutModel",
      "state": {}
     },
     "5dfa3b2b65a64785a98a7ef57f0df4ad": {
      "model_module": "@jupyter-widgets/controls",
      "model_module_version": "1.5.0",
      "model_name": "HTMLModel",
      "state": {
       "layout": "IPY_MODEL_c7af11785bc74573ae1dba4e01f64d7b",
       "style": "IPY_MODEL_f1fc4804be5c4a2885013267533d6659",
       "value": " 20000/20000 [06:35&lt;00:00, 50.63it/s]"
      }
     },
     "5e38906a885f4584b7c7dc4e5c187aa7": {
      "model_module": "@jupyter-widgets/controls",
      "model_module_version": "1.5.0",
      "model_name": "HTMLModel",
      "state": {
       "layout": "IPY_MODEL_56d9d048444c41708b30611146a537aa",
       "style": "IPY_MODEL_7d6faa4e8a564935b748a82868562fa0",
       "value": " 9237/9237 [10:13&lt;00:00, 15.05it/s]"
      }
     },
     "5e527aeb412246caa15eb3f65d3cdcd4": {
      "model_module": "@jupyter-widgets/controls",
      "model_module_version": "1.5.0",
      "model_name": "DescriptionStyleModel",
      "state": {
       "description_width": ""
      }
     },
     "5e6eefba27e24f228a48f108c0e30ecb": {
      "model_module": "@jupyter-widgets/controls",
      "model_module_version": "1.5.0",
      "model_name": "ProgressStyleModel",
      "state": {
       "description_width": "initial"
      }
     },
     "5e74df0574224b709ab8c8360f1e3a49": {
      "model_module": "@jupyter-widgets/controls",
      "model_module_version": "1.5.0",
      "model_name": "HBoxModel",
      "state": {
       "children": [
        "IPY_MODEL_96bf99cc4c854af3b86d18e6b7b08949",
        "IPY_MODEL_d315502adaa540b5a616ecbb227586f7"
       ],
       "layout": "IPY_MODEL_606a4d7f36c2476cbcb3b060df68e711"
      }
     },
     "5e96c5591f7b4341883916aabd8401aa": {
      "model_module": "@jupyter-widgets/base",
      "model_module_version": "1.2.0",
      "model_name": "LayoutModel",
      "state": {}
     },
     "5ec206f472d9408da6051598f21c085d": {
      "model_module": "@jupyter-widgets/controls",
      "model_module_version": "1.5.0",
      "model_name": "DescriptionStyleModel",
      "state": {
       "description_width": ""
      }
     },
     "5ee321ad5fee4c72a5db8e658f2ef10c": {
      "model_module": "@jupyter-widgets/controls",
      "model_module_version": "1.5.0",
      "model_name": "HBoxModel",
      "state": {
       "children": [
        "IPY_MODEL_471d07b7a8f64763ba60032f4110e2ec",
        "IPY_MODEL_5453f13770db4797ad781a0f2bc93f3e"
       ],
       "layout": "IPY_MODEL_9e66853dd2264020bd15747fc8334846"
      }
     },
     "5f243e2664164a9199a5dd9737264456": {
      "model_module": "@jupyter-widgets/controls",
      "model_module_version": "1.5.0",
      "model_name": "ProgressStyleModel",
      "state": {
       "description_width": "initial"
      }
     },
     "5f555f683abd4937a1d79aece26e3b6e": {
      "model_module": "@jupyter-widgets/controls",
      "model_module_version": "1.5.0",
      "model_name": "ProgressStyleModel",
      "state": {
       "description_width": "initial"
      }
     },
     "5f59c3019a5442c89c83f909678d8c9c": {
      "model_module": "@jupyter-widgets/controls",
      "model_module_version": "1.5.0",
      "model_name": "ProgressStyleModel",
      "state": {
       "description_width": "initial"
      }
     },
     "5f8d8e02b44a428580aa4681b4c16d53": {
      "model_module": "@jupyter-widgets/base",
      "model_module_version": "1.2.0",
      "model_name": "LayoutModel",
      "state": {}
     },
     "5f9285dc22c544469c5ce18d7a56f506": {
      "model_module": "@jupyter-widgets/base",
      "model_module_version": "1.2.0",
      "model_name": "LayoutModel",
      "state": {}
     },
     "5f996f7b927348249976d0ac5cf48312": {
      "model_module": "@jupyter-widgets/base",
      "model_module_version": "1.2.0",
      "model_name": "LayoutModel",
      "state": {}
     },
     "5fb29080d77544ffb2efa5125a4809d0": {
      "model_module": "@jupyter-widgets/controls",
      "model_module_version": "1.5.0",
      "model_name": "FloatProgressModel",
      "state": {
       "bar_style": "success",
       "description": "100%",
       "layout": "IPY_MODEL_a8c2fdae5ef34f9fb5b064cb8b528068",
       "max": 4284,
       "style": "IPY_MODEL_8ff0b323624642d595a409aa9ee085a0",
       "value": 4284
      }
     },
     "5fca3eac98414e8db44ce66e5846f306": {
      "model_module": "@jupyter-widgets/controls",
      "model_module_version": "1.5.0",
      "model_name": "HTMLModel",
      "state": {
       "layout": "IPY_MODEL_dd8b10b38c4841b5a5d249e288a61ee4",
       "style": "IPY_MODEL_1bfbafcd008c436284f5db7574fc2ba1",
       "value": " 9236/9236 [00:30&lt;00:00, 305.74it/s]"
      }
     },
     "6041acf9173c4768a61d8adada1e8c9b": {
      "model_module": "@jupyter-widgets/base",
      "model_module_version": "1.2.0",
      "model_name": "LayoutModel",
      "state": {}
     },
     "6045ea5847274dd1bc03acce59d9a41d": {
      "model_module": "@jupyter-widgets/controls",
      "model_module_version": "1.5.0",
      "model_name": "DescriptionStyleModel",
      "state": {
       "description_width": ""
      }
     },
     "6067ff33e23840638e2191e5ff53fb8e": {
      "model_module": "@jupyter-widgets/controls",
      "model_module_version": "1.5.0",
      "model_name": "HTMLModel",
      "state": {
       "layout": "IPY_MODEL_098ee4a07ace42b6b5c7522d9f7c3d62",
       "style": "IPY_MODEL_2c59633b676b4fd690a0229f163356db",
       "value": " 25000/25000 [08:53&lt;00:00, 46.87it/s]"
      }
     },
     "606a4d7f36c2476cbcb3b060df68e711": {
      "model_module": "@jupyter-widgets/base",
      "model_module_version": "1.2.0",
      "model_name": "LayoutModel",
      "state": {}
     },
     "608bae7efb4349a38dfebfa34a3fe2f4": {
      "model_module": "@jupyter-widgets/controls",
      "model_module_version": "1.5.0",
      "model_name": "HBoxModel",
      "state": {
       "children": [
        "IPY_MODEL_9e44d572ca6f46d6919db525e79a16b8",
        "IPY_MODEL_a3e57706a23140e380525e7857eab461"
       ],
       "layout": "IPY_MODEL_bcaabe4e8475419f80affa9366d9d170"
      }
     },
     "6116e9e232b84d809c83a8d018066e11": {
      "model_module": "@jupyter-widgets/controls",
      "model_module_version": "1.5.0",
      "model_name": "ProgressStyleModel",
      "state": {
       "description_width": "initial"
      }
     },
     "612b483a86ea4832b3247fa972300a4b": {
      "model_module": "@jupyter-widgets/controls",
      "model_module_version": "1.5.0",
      "model_name": "DescriptionStyleModel",
      "state": {
       "description_width": ""
      }
     },
     "61547b1a52d741619d664327882c071e": {
      "model_module": "@jupyter-widgets/controls",
      "model_module_version": "1.5.0",
      "model_name": "ProgressStyleModel",
      "state": {
       "description_width": "initial"
      }
     },
     "6172d165f71f4f0daea43f7bcde6c59b": {
      "model_module": "@jupyter-widgets/controls",
      "model_module_version": "1.5.0",
      "model_name": "HBoxModel",
      "state": {
       "children": [
        "IPY_MODEL_bccb99e4a07a4e7aa5e5db185880dd1c",
        "IPY_MODEL_40efcbd179c348d9b81bf96418936d94"
       ],
       "layout": "IPY_MODEL_3eae81a801374d8aa168cfbc10dba4ed"
      }
     },
     "619cf0ed6f3845f7946c73a150e3d725": {
      "model_module": "@jupyter-widgets/controls",
      "model_module_version": "1.5.0",
      "model_name": "HTMLModel",
      "state": {
       "layout": "IPY_MODEL_5947f795d1ca45618f82f2c3a2290264",
       "style": "IPY_MODEL_729ffab866dc48ff9f28f27f49c86000",
       "value": " 2856/2856 [06:02&lt;00:00,  7.88it/s]"
      }
     },
     "61cc413e466f492e9a46593da5123ca0": {
      "model_module": "@jupyter-widgets/controls",
      "model_module_version": "1.5.0",
      "model_name": "HTMLModel",
      "state": {
       "layout": "IPY_MODEL_6e96bb604178485893bce5c0b19961ef",
       "style": "IPY_MODEL_e03269872ce74afcbb35986e2e6674ed",
       "value": " 9237/9237 [14:31&lt;00:00, 10.60it/s]"
      }
     },
     "61dee777dfdf47d9806758208ea94a8d": {
      "model_module": "@jupyter-widgets/controls",
      "model_module_version": "1.5.0",
      "model_name": "HBoxModel",
      "state": {
       "children": [
        "IPY_MODEL_b7690357597a40f29dce480591d928fe",
        "IPY_MODEL_61cc413e466f492e9a46593da5123ca0"
       ],
       "layout": "IPY_MODEL_f284c26c9158433e87785ef93e7a2d5c"
      }
     },
     "622f7e72e7394e06a35654d5fffd3aa7": {
      "model_module": "@jupyter-widgets/controls",
      "model_module_version": "1.5.0",
      "model_name": "HBoxModel",
      "state": {
       "children": [
        "IPY_MODEL_aae078afa282455ca4adfdd267f87c8a",
        "IPY_MODEL_5e38906a885f4584b7c7dc4e5c187aa7"
       ],
       "layout": "IPY_MODEL_9bb2943e99e14a82b0353a0036b3a1ca"
      }
     },
     "62b292f8ba2445c49d668c8867e11eba": {
      "model_module": "@jupyter-widgets/controls",
      "model_module_version": "1.5.0",
      "model_name": "FloatProgressModel",
      "state": {
       "bar_style": "success",
       "description": "100%",
       "layout": "IPY_MODEL_7dbb1e199ce1419e9d94c85c06af718e",
       "max": 9237,
       "style": "IPY_MODEL_c72d8917219946669aac0fdca1f56c0f",
       "value": 9237
      }
     },
     "62d85b9fa24841a3a608ac47ed08399f": {
      "model_module": "@jupyter-widgets/base",
      "model_module_version": "1.2.0",
      "model_name": "LayoutModel",
      "state": {}
     },
     "62e36dc45fee4005b288d3ce92b8af65": {
      "model_module": "@jupyter-widgets/controls",
      "model_module_version": "1.5.0",
      "model_name": "HBoxModel",
      "state": {
       "children": [
        "IPY_MODEL_2e06496b85a0451f93fd1bad03d65522",
        "IPY_MODEL_e25e2965dc924566bd4cec20871486e3"
       ],
       "layout": "IPY_MODEL_877186339ce644e1a0d47eb1c1d7c0e4"
      }
     },
     "62ee58c6102b4a07a9e4bcb325b7d538": {
      "model_module": "@jupyter-widgets/controls",
      "model_module_version": "1.5.0",
      "model_name": "DescriptionStyleModel",
      "state": {
       "description_width": ""
      }
     },
     "6314a4cbb41e4381aa7d49f5e3437d6d": {
      "model_module": "@jupyter-widgets/base",
      "model_module_version": "1.2.0",
      "model_name": "LayoutModel",
      "state": {}
     },
     "631c4376a1874bdf849b8e5f7565fd05": {
      "model_module": "@jupyter-widgets/base",
      "model_module_version": "1.2.0",
      "model_name": "LayoutModel",
      "state": {}
     },
     "63b56123144543fd8bc20a504697ee0a": {
      "model_module": "@jupyter-widgets/controls",
      "model_module_version": "1.5.0",
      "model_name": "ProgressStyleModel",
      "state": {
       "description_width": "initial"
      }
     },
     "63b5d6498094427795d6d736291c0d82": {
      "model_module": "@jupyter-widgets/base",
      "model_module_version": "1.2.0",
      "model_name": "LayoutModel",
      "state": {}
     },
     "64197fa6464a4574a7d38b8a1c51281c": {
      "model_module": "@jupyter-widgets/controls",
      "model_module_version": "1.5.0",
      "model_name": "DescriptionStyleModel",
      "state": {
       "description_width": ""
      }
     },
     "6443a420452e498fae20828d683c636c": {
      "model_module": "@jupyter-widgets/base",
      "model_module_version": "1.2.0",
      "model_name": "LayoutModel",
      "state": {}
     },
     "64457a2bb93c497b8d0166888dfeabec": {
      "model_module": "@jupyter-widgets/base",
      "model_module_version": "1.2.0",
      "model_name": "LayoutModel",
      "state": {}
     },
     "64691b1f1b594a0bb8d24ffbe4c9d67b": {
      "model_module": "@jupyter-widgets/controls",
      "model_module_version": "1.5.0",
      "model_name": "DescriptionStyleModel",
      "state": {
       "description_width": ""
      }
     },
     "64ce67e6bc444d2eba43247852aa6c31": {
      "model_module": "@jupyter-widgets/base",
      "model_module_version": "1.2.0",
      "model_name": "LayoutModel",
      "state": {}
     },
     "64d2c1539769446ebc9a48237b330065": {
      "model_module": "@jupyter-widgets/base",
      "model_module_version": "1.2.0",
      "model_name": "LayoutModel",
      "state": {}
     },
     "65167de43c9a4cafae23527be1fd4fa1": {
      "model_module": "@jupyter-widgets/base",
      "model_module_version": "1.2.0",
      "model_name": "LayoutModel",
      "state": {}
     },
     "651bef49b3544688b534f43935043481": {
      "model_module": "@jupyter-widgets/controls",
      "model_module_version": "1.5.0",
      "model_name": "DescriptionStyleModel",
      "state": {
       "description_width": ""
      }
     },
     "6553e8c477094e42a2c3f5d00c1eaabd": {
      "model_module": "@jupyter-widgets/base",
      "model_module_version": "1.2.0",
      "model_name": "LayoutModel",
      "state": {}
     },
     "655c1093c24749d597df6534b09cddca": {
      "model_module": "@jupyter-widgets/controls",
      "model_module_version": "1.5.0",
      "model_name": "HBoxModel",
      "state": {
       "children": [
        "IPY_MODEL_5cbce3d5f85043bdb9d619ec7e84ab2f",
        "IPY_MODEL_4df874a5dc1946418e6697a9450b69de"
       ],
       "layout": "IPY_MODEL_94949b06ac634c5a8789c638268d57b0"
      }
     },
     "6577754ee2834289acfe849ba85d939d": {
      "model_module": "@jupyter-widgets/controls",
      "model_module_version": "1.5.0",
      "model_name": "ProgressStyleModel",
      "state": {
       "description_width": "initial"
      }
     },
     "657e9b901b324b6db51e2d9866ed30e2": {
      "model_module": "@jupyter-widgets/controls",
      "model_module_version": "1.5.0",
      "model_name": "HTMLModel",
      "state": {
       "layout": "IPY_MODEL_95fc3d9cf367463fba40681efe572b7e",
       "style": "IPY_MODEL_e7c3e732ad9e4c5cad86ebcecd18c01f",
       "value": " 2856/2856 [05:40&lt;00:00,  8.38it/s]"
      }
     },
     "65d0c79efe0a4e84abedb7ed3cd68f6f": {
      "model_module": "@jupyter-widgets/controls",
      "model_module_version": "1.5.0",
      "model_name": "HTMLModel",
      "state": {
       "layout": "IPY_MODEL_4344326ad1524ac7b547c191fe84795d",
       "style": "IPY_MODEL_d4ae8d313d184ff99f78fbaca105e62d",
       "value": " 9237/9237 [12:36&lt;00:00, 12.21it/s]"
      }
     },
     "65da1870bae2487395038dea01cdd90a": {
      "model_module": "@jupyter-widgets/base",
      "model_module_version": "1.2.0",
      "model_name": "LayoutModel",
      "state": {}
     },
     "65f05d0ff1d14aaa8acc0588e02c328a": {
      "model_module": "@jupyter-widgets/base",
      "model_module_version": "1.2.0",
      "model_name": "LayoutModel",
      "state": {}
     },
     "66123a0542db48ab8c54303dbe1b2afe": {
      "model_module": "@jupyter-widgets/base",
      "model_module_version": "1.2.0",
      "model_name": "LayoutModel",
      "state": {}
     },
     "661a11ca8d304df0aa0dcc72d13e21f0": {
      "model_module": "@jupyter-widgets/controls",
      "model_module_version": "1.5.0",
      "model_name": "HBoxModel",
      "state": {
       "children": [
        "IPY_MODEL_180249071ba444f7b15b4b1d0ac18ada",
        "IPY_MODEL_ef6530cf905d4dc1b109cea70bc57c1b"
       ],
       "layout": "IPY_MODEL_4726a28b9322473f9d12e87a00b7703c"
      }
     },
     "666431e507304a5ab6108d80c91198cd": {
      "model_module": "@jupyter-widgets/base",
      "model_module_version": "1.2.0",
      "model_name": "LayoutModel",
      "state": {}
     },
     "666ff3c8d21647418db65b279e544d6b": {
      "model_module": "@jupyter-widgets/base",
      "model_module_version": "1.2.0",
      "model_name": "LayoutModel",
      "state": {}
     },
     "668db582972b4526bca050facbfa58b1": {
      "model_module": "@jupyter-widgets/base",
      "model_module_version": "1.2.0",
      "model_name": "LayoutModel",
      "state": {}
     },
     "669669951a2c4c43a64e31d3b9587014": {
      "model_module": "@jupyter-widgets/controls",
      "model_module_version": "1.5.0",
      "model_name": "ProgressStyleModel",
      "state": {
       "description_width": "initial"
      }
     },
     "66b99f9db8d141eeafddbc4c72438b86": {
      "model_module": "@jupyter-widgets/base",
      "model_module_version": "1.2.0",
      "model_name": "LayoutModel",
      "state": {}
     },
     "66be870d9fec4582a7c348811c6da4b2": {
      "model_module": "@jupyter-widgets/controls",
      "model_module_version": "1.5.0",
      "model_name": "FloatProgressModel",
      "state": {
       "bar_style": "success",
       "description": "100%",
       "layout": "IPY_MODEL_368d9fd66ff544579560fe0666d9d3e1",
       "max": 4284,
       "style": "IPY_MODEL_6c9864e30f954be6ad6847a25bf22341",
       "value": 4284
      }
     },
     "66dd2ccf30304234b8a51c5580069b20": {
      "model_module": "@jupyter-widgets/controls",
      "model_module_version": "1.5.0",
      "model_name": "DescriptionStyleModel",
      "state": {
       "description_width": ""
      }
     },
     "66f15c788f5245688f3e8b3c1207d136": {
      "model_module": "@jupyter-widgets/controls",
      "model_module_version": "1.5.0",
      "model_name": "HTMLModel",
      "state": {
       "layout": "IPY_MODEL_3b96298d72194d3dbbc95c2fb9dc7ec9",
       "style": "IPY_MODEL_1281587166ba4bcc8c2ad22ee8cee0ec",
       "value": " 1428/1428 [03:02&lt;00:00,  7.85it/s]"
      }
     },
     "6710d5dba822421f8c8afce4ebf2424d": {
      "model_module": "@jupyter-widgets/controls",
      "model_module_version": "1.5.0",
      "model_name": "HBoxModel",
      "state": {
       "children": [
        "IPY_MODEL_62b292f8ba2445c49d668c8867e11eba",
        "IPY_MODEL_226b9627ca3648aeac991d011715fd42"
       ],
       "layout": "IPY_MODEL_5648084ecb5a4060a460d70cf0f40f6c"
      }
     },
     "671dd7311f8441e390fd718665aaa7d4": {
      "model_module": "@jupyter-widgets/controls",
      "model_module_version": "1.5.0",
      "model_name": "HBoxModel",
      "state": {
       "children": [
        "IPY_MODEL_a3a85673a22c49f0a60910ccf9a810aa",
        "IPY_MODEL_b5d37cb8282d45ff9a127cdae97cba2c"
       ],
       "layout": "IPY_MODEL_ee15ccd83cf44233a8e81ec5080dc55d"
      }
     },
     "674e368392a34c8bb51b3cc905b4a9af": {
      "model_module": "@jupyter-widgets/controls",
      "model_module_version": "1.5.0",
      "model_name": "DescriptionStyleModel",
      "state": {
       "description_width": ""
      }
     },
     "67dcdbe614ab4a0da440e447fe951a44": {
      "model_module": "@jupyter-widgets/controls",
      "model_module_version": "1.5.0",
      "model_name": "DescriptionStyleModel",
      "state": {
       "description_width": ""
      }
     },
     "6841835448584f2591824c7c4d1a7528": {
      "model_module": "@jupyter-widgets/controls",
      "model_module_version": "1.5.0",
      "model_name": "ProgressStyleModel",
      "state": {
       "description_width": "initial"
      }
     },
     "6845e71702bc4aae8510a0d8d03f7fd1": {
      "model_module": "@jupyter-widgets/base",
      "model_module_version": "1.2.0",
      "model_name": "LayoutModel",
      "state": {}
     },
     "684c39d9f7514d80b9baefc4f9a28120": {
      "model_module": "@jupyter-widgets/controls",
      "model_module_version": "1.5.0",
      "model_name": "HBoxModel",
      "state": {
       "children": [
        "IPY_MODEL_57a6ed69f046493f9d7424a4a2d927a0",
        "IPY_MODEL_fe9c7ffdbcf840838069d69d21016f95"
       ],
       "layout": "IPY_MODEL_a483c3981e9d432b8ac9fbab24f2822a"
      }
     },
     "6872d2868f494cdb94ed8d4b39196b19": {
      "model_module": "@jupyter-widgets/controls",
      "model_module_version": "1.5.0",
      "model_name": "FloatProgressModel",
      "state": {
       "bar_style": "success",
       "description": "100%",
       "layout": "IPY_MODEL_8899579ff36942d6a6900406f3312662",
       "max": 9237,
       "style": "IPY_MODEL_13a66df983ef4d6fa6aaa9a28f8a760c",
       "value": 9237
      }
     },
     "687b380243ea4f35bfbff912a5f2dd4a": {
      "model_module": "@jupyter-widgets/base",
      "model_module_version": "1.2.0",
      "model_name": "LayoutModel",
      "state": {}
     },
     "68d5f4d20a3d40d2ac0209ce51c74444": {
      "model_module": "@jupyter-widgets/base",
      "model_module_version": "1.2.0",
      "model_name": "LayoutModel",
      "state": {}
     },
     "68e66538dcc8470989d2d977bd66753c": {
      "model_module": "@jupyter-widgets/controls",
      "model_module_version": "1.5.0",
      "model_name": "ProgressStyleModel",
      "state": {
       "description_width": "initial"
      }
     },
     "68f08a1e80914eaea1abda8bf5bbdcd0": {
      "model_module": "@jupyter-widgets/controls",
      "model_module_version": "1.5.0",
      "model_name": "FloatProgressModel",
      "state": {
       "bar_style": "success",
       "description": "100%",
       "layout": "IPY_MODEL_1db7068efaa243ce8eb6e531f44dff99",
       "max": 9237,
       "style": "IPY_MODEL_1ceeb03dfa064127869abfa752e7b7dd",
       "value": 9237
      }
     },
     "692ae482a41541399716a92f413624e0": {
      "model_module": "@jupyter-widgets/base",
      "model_module_version": "1.2.0",
      "model_name": "LayoutModel",
      "state": {}
     },
     "694256b1a16948bcaa24b108ddfcc1da": {
      "model_module": "@jupyter-widgets/base",
      "model_module_version": "1.2.0",
      "model_name": "LayoutModel",
      "state": {}
     },
     "694d91b3ef7f49e286b4472152631b01": {
      "model_module": "@jupyter-widgets/base",
      "model_module_version": "1.2.0",
      "model_name": "LayoutModel",
      "state": {}
     },
     "6986c42d9f4f4d97b28da9d0b6fcdc26": {
      "model_module": "@jupyter-widgets/controls",
      "model_module_version": "1.5.0",
      "model_name": "FloatProgressModel",
      "state": {
       "bar_style": "success",
       "description": "100%",
       "layout": "IPY_MODEL_2606e15086114b6a93ca9234a380317f",
       "max": 4285,
       "style": "IPY_MODEL_3f1070e77afa4419922075c224f923a1",
       "value": 4285
      }
     },
     "698741c9d54c44ffadd52cebff331eb2": {
      "model_module": "@jupyter-widgets/controls",
      "model_module_version": "1.5.0",
      "model_name": "HBoxModel",
      "state": {
       "children": [
        "IPY_MODEL_c110461fa689456fa6d477aaa5e37496",
        "IPY_MODEL_22bc5388920643e2b8664462b844c700"
       ],
       "layout": "IPY_MODEL_d3346c6c03b641bc8d2a086839af4f7b"
      }
     },
     "698e679ecf3942d2aa40d2a2e5454493": {
      "model_module": "@jupyter-widgets/controls",
      "model_module_version": "1.5.0",
      "model_name": "DescriptionStyleModel",
      "state": {
       "description_width": ""
      }
     },
     "69e7f960ff5243a3bc9797e0ecae309a": {
      "model_module": "@jupyter-widgets/base",
      "model_module_version": "1.2.0",
      "model_name": "LayoutModel",
      "state": {}
     },
     "69ee06b2eff548539bcc33a951db9b5a": {
      "model_module": "@jupyter-widgets/controls",
      "model_module_version": "1.5.0",
      "model_name": "HTMLModel",
      "state": {
       "layout": "IPY_MODEL_692ae482a41541399716a92f413624e0",
       "style": "IPY_MODEL_07ef82a50d1f4e32a3b46430b7b8055b",
       "value": " 9237/9237 [16:18&lt;00:00,  9.44it/s]"
      }
     },
     "69f0d60bb43949d6a6ebe9e91cb5f4b7": {
      "model_module": "@jupyter-widgets/controls",
      "model_module_version": "1.5.0",
      "model_name": "ProgressStyleModel",
      "state": {
       "description_width": "initial"
      }
     },
     "69f9a6aaea8141e687e226716e1dd929": {
      "model_module": "@jupyter-widgets/controls",
      "model_module_version": "1.5.0",
      "model_name": "DescriptionStyleModel",
      "state": {
       "description_width": ""
      }
     },
     "6a14987d52bf4315908844d4a30ab86d": {
      "model_module": "@jupyter-widgets/base",
      "model_module_version": "1.2.0",
      "model_name": "LayoutModel",
      "state": {}
     },
     "6a16723cb1924f69b657e4b72717a163": {
      "model_module": "@jupyter-widgets/base",
      "model_module_version": "1.2.0",
      "model_name": "LayoutModel",
      "state": {}
     },
     "6a28f68b72aa45bfb0495e06dcd3b443": {
      "model_module": "@jupyter-widgets/base",
      "model_module_version": "1.2.0",
      "model_name": "LayoutModel",
      "state": {}
     },
     "6a34d8141f4b49639ba5b6011e2aef4a": {
      "model_module": "@jupyter-widgets/base",
      "model_module_version": "1.2.0",
      "model_name": "LayoutModel",
      "state": {}
     },
     "6a42c36d6a7544ae8e494176abeb3e43": {
      "model_module": "@jupyter-widgets/base",
      "model_module_version": "1.2.0",
      "model_name": "LayoutModel",
      "state": {}
     },
     "6a918c321f7f42198e3800ca8cdebb9a": {
      "model_module": "@jupyter-widgets/base",
      "model_module_version": "1.2.0",
      "model_name": "LayoutModel",
      "state": {}
     },
     "6aabf304ba5b4311b519225bacbe824f": {
      "model_module": "@jupyter-widgets/controls",
      "model_module_version": "1.5.0",
      "model_name": "DescriptionStyleModel",
      "state": {
       "description_width": ""
      }
     },
     "6ac2fee568a8469dab6bf5d644342c25": {
      "model_module": "@jupyter-widgets/controls",
      "model_module_version": "1.5.0",
      "model_name": "ProgressStyleModel",
      "state": {
       "description_width": "initial"
      }
     },
     "6af0506f678848038b9eb2bddb735367": {
      "model_module": "@jupyter-widgets/base",
      "model_module_version": "1.2.0",
      "model_name": "LayoutModel",
      "state": {}
     },
     "6afdcc9e6d15437e837433812f806ecd": {
      "model_module": "@jupyter-widgets/base",
      "model_module_version": "1.2.0",
      "model_name": "LayoutModel",
      "state": {}
     },
     "6b61069708304acba09c05c60397d8f4": {
      "model_module": "@jupyter-widgets/controls",
      "model_module_version": "1.5.0",
      "model_name": "DescriptionStyleModel",
      "state": {
       "description_width": ""
      }
     },
     "6b819d1a013a487d8adff62303642193": {
      "model_module": "@jupyter-widgets/controls",
      "model_module_version": "1.5.0",
      "model_name": "HBoxModel",
      "state": {
       "children": [
        "IPY_MODEL_78dc9a58fd414eb4a8638ab9f39ed2f3",
        "IPY_MODEL_a5a8ce55f1bb47a8864eb3d3cd7590a7"
       ],
       "layout": "IPY_MODEL_73d3e364e9894aafa7fd36f239b55e37"
      }
     },
     "6b8e82372e72443fa923a55a81048a40": {
      "model_module": "@jupyter-widgets/controls",
      "model_module_version": "1.5.0",
      "model_name": "HBoxModel",
      "state": {
       "children": [
        "IPY_MODEL_921388f1d23d45aca28d9b9f09dd8abf",
        "IPY_MODEL_afc8309af3cf465bb21109595ca92f1b"
       ],
       "layout": "IPY_MODEL_cf7864ed9ce548f39d6df78f4ea24e59"
      }
     },
     "6b909aa952414d59badadb5c523185f1": {
      "model_module": "@jupyter-widgets/controls",
      "model_module_version": "1.5.0",
      "model_name": "DescriptionStyleModel",
      "state": {
       "description_width": ""
      }
     },
     "6bcc09af1acf421cb6d5df59955fb975": {
      "model_module": "@jupyter-widgets/controls",
      "model_module_version": "1.5.0",
      "model_name": "DescriptionStyleModel",
      "state": {
       "description_width": ""
      }
     },
     "6bcfc3bc2e764f97a59804e17d34c396": {
      "model_module": "@jupyter-widgets/controls",
      "model_module_version": "1.5.0",
      "model_name": "HTMLModel",
      "state": {
       "layout": "IPY_MODEL_c5f7a44d0f4441349f1b9b7a1c23bb0b",
       "style": "IPY_MODEL_f0fc1484102048a6ad4c83f9d75dce1b",
       "value": " 50000/50000 [00:10&lt;00:00, 4755.28it/s]"
      }
     },
     "6bda2e05de8d45b6bab29bf2a3c35a7f": {
      "model_module": "@jupyter-widgets/controls",
      "model_module_version": "1.5.0",
      "model_name": "DescriptionStyleModel",
      "state": {
       "description_width": ""
      }
     },
     "6be6b90706504111bcdc83986195e460": {
      "model_module": "@jupyter-widgets/base",
      "model_module_version": "1.2.0",
      "model_name": "LayoutModel",
      "state": {}
     },
     "6c016152349346af9e82901e06d86ea8": {
      "model_module": "@jupyter-widgets/controls",
      "model_module_version": "1.5.0",
      "model_name": "DescriptionStyleModel",
      "state": {
       "description_width": ""
      }
     },
     "6c57f027fefb4bbc87a9e671781f3c28": {
      "model_module": "@jupyter-widgets/controls",
      "model_module_version": "1.5.0",
      "model_name": "FloatProgressModel",
      "state": {
       "bar_style": "success",
       "description": "100%",
       "layout": "IPY_MODEL_cc862497eea54211916f40d8d59187e8",
       "max": 1428,
       "style": "IPY_MODEL_6f608906b8544a92a0ecb5a39a5528e3",
       "value": 1428
      }
     },
     "6c6c3703861b4556a562ce3b3e0d64d4": {
      "model_module": "@jupyter-widgets/base",
      "model_module_version": "1.2.0",
      "model_name": "LayoutModel",
      "state": {}
     },
     "6c9864e30f954be6ad6847a25bf22341": {
      "model_module": "@jupyter-widgets/controls",
      "model_module_version": "1.5.0",
      "model_name": "ProgressStyleModel",
      "state": {
       "description_width": "initial"
      }
     },
     "6d1d57742b164ac7a796870aa7d21f71": {
      "model_module": "@jupyter-widgets/controls",
      "model_module_version": "1.5.0",
      "model_name": "ProgressStyleModel",
      "state": {
       "description_width": "initial"
      }
     },
     "6d28ef3102614666b40759f8e7fc54b4": {
      "model_module": "@jupyter-widgets/controls",
      "model_module_version": "1.5.0",
      "model_name": "ProgressStyleModel",
      "state": {
       "description_width": "initial"
      }
     },
     "6d2b002cde1b424dbf5fc5cbb3aa37f6": {
      "model_module": "@jupyter-widgets/base",
      "model_module_version": "1.2.0",
      "model_name": "LayoutModel",
      "state": {}
     },
     "6d2e129109f64f21800e13074b578cec": {
      "model_module": "@jupyter-widgets/base",
      "model_module_version": "1.2.0",
      "model_name": "LayoutModel",
      "state": {}
     },
     "6d782bca12e04903b0d0bb1262a3220a": {
      "model_module": "@jupyter-widgets/base",
      "model_module_version": "1.2.0",
      "model_name": "LayoutModel",
      "state": {}
     },
     "6de19192814e4e73afad4d80f0bdce9d": {
      "model_module": "@jupyter-widgets/controls",
      "model_module_version": "1.5.0",
      "model_name": "HTMLModel",
      "state": {
       "layout": "IPY_MODEL_b020127bb2f642b2acd06d0d5af91c6a",
       "style": "IPY_MODEL_d8e031439140490397306fdf23d71db7",
       "value": " 4284/4284 [10:20&lt;00:00,  6.91it/s]"
      }
     },
     "6dfa9247baa14c00af96e6bbea6b5326": {
      "model_module": "@jupyter-widgets/base",
      "model_module_version": "1.2.0",
      "model_name": "LayoutModel",
      "state": {}
     },
     "6e39eaa7f3da443f99b1e0f3e486a73f": {
      "model_module": "@jupyter-widgets/base",
      "model_module_version": "1.2.0",
      "model_name": "LayoutModel",
      "state": {}
     },
     "6e96bb604178485893bce5c0b19961ef": {
      "model_module": "@jupyter-widgets/base",
      "model_module_version": "1.2.0",
      "model_name": "LayoutModel",
      "state": {}
     },
     "6ec1caae52904976b5d3598c5c24d247": {
      "model_module": "@jupyter-widgets/controls",
      "model_module_version": "1.5.0",
      "model_name": "HBoxModel",
      "state": {
       "children": [
        "IPY_MODEL_467473ed0159438e92b6509f859ff1d1",
        "IPY_MODEL_c952763412834b1c92f064eefa3c316a"
       ],
       "layout": "IPY_MODEL_f0f3b547a4f040ed9dfbefeac8d041eb"
      }
     },
     "6ed21d711cc64b5f92ab60c7edf482ac": {
      "model_module": "@jupyter-widgets/controls",
      "model_module_version": "1.5.0",
      "model_name": "DescriptionStyleModel",
      "state": {
       "description_width": ""
      }
     },
     "6f19fb01b977479196fdf2f7071e5b12": {
      "model_module": "@jupyter-widgets/controls",
      "model_module_version": "1.5.0",
      "model_name": "HTMLModel",
      "state": {
       "layout": "IPY_MODEL_976acc53f88248d3b5ae33fa4774e54a",
       "style": "IPY_MODEL_8b535f4e79b9443d83e91e3787fbaa76",
       "value": " 4285/4285 [10:09&lt;00:00,  7.03it/s]"
      }
     },
     "6f608906b8544a92a0ecb5a39a5528e3": {
      "model_module": "@jupyter-widgets/controls",
      "model_module_version": "1.5.0",
      "model_name": "ProgressStyleModel",
      "state": {
       "description_width": "initial"
      }
     },
     "6f673e974d56400aa9ece1f9151e733d": {
      "model_module": "@jupyter-widgets/base",
      "model_module_version": "1.2.0",
      "model_name": "LayoutModel",
      "state": {}
     },
     "6f99a9283fc24f8fa0d9308b90a88b7c": {
      "model_module": "@jupyter-widgets/controls",
      "model_module_version": "1.5.0",
      "model_name": "HTMLModel",
      "state": {
       "layout": "IPY_MODEL_e77f1318768d4607a1faf68cba15fe74",
       "style": "IPY_MODEL_d9cf141f7e604ca0a6c0e4ad7ef2a187",
       "value": " 7140/7140 [16:39&lt;00:00,  7.14it/s]"
      }
     },
     "6fa17d34e06044528404251cbe8b541a": {
      "model_module": "@jupyter-widgets/base",
      "model_module_version": "1.2.0",
      "model_name": "LayoutModel",
      "state": {}
     },
     "6fba32a3ab17431e89ba70851a987823": {
      "model_module": "@jupyter-widgets/base",
      "model_module_version": "1.2.0",
      "model_name": "LayoutModel",
      "state": {}
     },
     "6fbc137f4ce94549b78a3b1d049b0b9e": {
      "model_module": "@jupyter-widgets/base",
      "model_module_version": "1.2.0",
      "model_name": "LayoutModel",
      "state": {}
     },
     "6fc91e015b0a47b6865af71ebcfd4783": {
      "model_module": "@jupyter-widgets/base",
      "model_module_version": "1.2.0",
      "model_name": "LayoutModel",
      "state": {}
     },
     "6fcc1f3440d147e39d16139b535a73e5": {
      "model_module": "@jupyter-widgets/base",
      "model_module_version": "1.2.0",
      "model_name": "LayoutModel",
      "state": {}
     },
     "6fff6c06bea44252a9f1b0bd76eca832": {
      "model_module": "@jupyter-widgets/base",
      "model_module_version": "1.2.0",
      "model_name": "LayoutModel",
      "state": {}
     },
     "701bb901a6e94369beae30ca9aeb35ec": {
      "model_module": "@jupyter-widgets/base",
      "model_module_version": "1.2.0",
      "model_name": "LayoutModel",
      "state": {}
     },
     "7026b2b12af54d08a6077900aacad440": {
      "model_module": "@jupyter-widgets/controls",
      "model_module_version": "1.5.0",
      "model_name": "HBoxModel",
      "state": {
       "children": [
        "IPY_MODEL_56bcb96585b04082b5903aa218601b66",
        "IPY_MODEL_5718d2a3c1634beeb5036005b455b4b7"
       ],
       "layout": "IPY_MODEL_94271898e535459d83a2ecbae4e454a1"
      }
     },
     "7034b2430090425580f05dcc696dcd97": {
      "model_module": "@jupyter-widgets/base",
      "model_module_version": "1.2.0",
      "model_name": "LayoutModel",
      "state": {}
     },
     "7067864e0be44434acdf83c9a14186f0": {
      "model_module": "@jupyter-widgets/controls",
      "model_module_version": "1.5.0",
      "model_name": "ProgressStyleModel",
      "state": {
       "description_width": "initial"
      }
     },
     "70ad32d8c061478881a8c1fd7324f8a1": {
      "model_module": "@jupyter-widgets/controls",
      "model_module_version": "1.5.0",
      "model_name": "HTMLModel",
      "state": {
       "layout": "IPY_MODEL_06aaadca716e457ab5b5185afb898d0c",
       "style": "IPY_MODEL_7173b433727d4e0690b71e2d7d221112",
       "value": " 9237/9237 [18:48&lt;00:00,  8.19it/s]"
      }
     },
     "70c57cde81284d14af1bdc2626949bd0": {
      "model_module": "@jupyter-widgets/base",
      "model_module_version": "1.2.0",
      "model_name": "LayoutModel",
      "state": {}
     },
     "712fd4e6269a4946bb6cfaf98f08cf4f": {
      "model_module": "@jupyter-widgets/controls",
      "model_module_version": "1.5.0",
      "model_name": "ProgressStyleModel",
      "state": {
       "description_width": "initial"
      }
     },
     "71418275908f4b5f8affef0fe4477006": {
      "model_module": "@jupyter-widgets/controls",
      "model_module_version": "1.5.0",
      "model_name": "DescriptionStyleModel",
      "state": {
       "description_width": ""
      }
     },
     "7153c6e394cc49c796fa646b768c3757": {
      "model_module": "@jupyter-widgets/base",
      "model_module_version": "1.2.0",
      "model_name": "LayoutModel",
      "state": {}
     },
     "716cc89548b348e4890b51769026ba3a": {
      "model_module": "@jupyter-widgets/controls",
      "model_module_version": "1.5.0",
      "model_name": "HTMLModel",
      "state": {
       "layout": "IPY_MODEL_45c81f09ebe14b36a81e732b8f6379e4",
       "style": "IPY_MODEL_e56c26f97fde431682d8e4b0eb385fa2",
       "value": " 9152/9152 [00:00&lt;00:00, 76476.12it/s]"
      }
     },
     "7173b433727d4e0690b71e2d7d221112": {
      "model_module": "@jupyter-widgets/controls",
      "model_module_version": "1.5.0",
      "model_name": "DescriptionStyleModel",
      "state": {
       "description_width": ""
      }
     },
     "71b648cd17d54025a33465a286ea5c2c": {
      "model_module": "@jupyter-widgets/controls",
      "model_module_version": "1.5.0",
      "model_name": "FloatProgressModel",
      "state": {
       "bar_style": "success",
       "description": "100%",
       "layout": "IPY_MODEL_2a73fd162faa413c8c15cc709f99ae63",
       "max": 9236,
       "style": "IPY_MODEL_f1e7f7b641454b45ae49a332d1fd53a4",
       "value": 9236
      }
     },
     "71bc72be2bc04702bdda7c0364b0320c": {
      "model_module": "@jupyter-widgets/controls",
      "model_module_version": "1.5.0",
      "model_name": "HTMLModel",
      "state": {
       "layout": "IPY_MODEL_d3f6656c95d74fefafa2eb8c23b69e78",
       "style": "IPY_MODEL_1974a19f856e4149862018b97cbbb65b",
       "value": " 9236/9236 [16:12&lt;00:00,  9.50it/s]"
      }
     },
     "71c962a9ce624590b7d0733e07172117": {
      "model_module": "@jupyter-widgets/base",
      "model_module_version": "1.2.0",
      "model_name": "LayoutModel",
      "state": {}
     },
     "71ed647232de4167a5dc86e68a831b5d": {
      "model_module": "@jupyter-widgets/base",
      "model_module_version": "1.2.0",
      "model_name": "LayoutModel",
      "state": {}
     },
     "720477cd02264e308d6eb2f028afdd5d": {
      "model_module": "@jupyter-widgets/controls",
      "model_module_version": "1.5.0",
      "model_name": "HTMLModel",
      "state": {
       "layout": "IPY_MODEL_a5fdb5b8a91f45a981fd3b90de0f85c1",
       "style": "IPY_MODEL_6aabf304ba5b4311b519225bacbe824f",
       "value": " 9237/9237 [00:32&lt;00:00, 283.18it/s]"
      }
     },
     "721926ee76ef4961935502ab9c510d0c": {
      "model_module": "@jupyter-widgets/base",
      "model_module_version": "1.2.0",
      "model_name": "LayoutModel",
      "state": {}
     },
     "723f243dce8c4cd0a6a4a0767d81b7aa": {
      "model_module": "@jupyter-widgets/controls",
      "model_module_version": "1.5.0",
      "model_name": "HTMLModel",
      "state": {
       "layout": "IPY_MODEL_fbd8dde4bccf4533ad3103fd48358270",
       "style": "IPY_MODEL_2486887e0ded4bb79e5ee0aee4ca9f84",
       "value": " 3570/3570 [08:04&lt;00:00,  7.37it/s]"
      }
     },
     "7246513b4c1d46a78c3f1deea28c9113": {
      "model_module": "@jupyter-widgets/base",
      "model_module_version": "1.2.0",
      "model_name": "LayoutModel",
      "state": {}
     },
     "729ffab866dc48ff9f28f27f49c86000": {
      "model_module": "@jupyter-widgets/controls",
      "model_module_version": "1.5.0",
      "model_name": "DescriptionStyleModel",
      "state": {
       "description_width": ""
      }
     },
     "72ace1fb781e43ceb73db51dba7c9ec7": {
      "model_module": "@jupyter-widgets/base",
      "model_module_version": "1.2.0",
      "model_name": "LayoutModel",
      "state": {}
     },
     "72d2e1b91c4747deac37900a7396dcd8": {
      "model_module": "@jupyter-widgets/controls",
      "model_module_version": "1.5.0",
      "model_name": "HBoxModel",
      "state": {
       "children": [
        "IPY_MODEL_c608662f9ec548cf8e18a4535f08d6c7",
        "IPY_MODEL_bc84ecdf94bd49b48f383fbf7fb7dbc0"
       ],
       "layout": "IPY_MODEL_7fb232d612f6440d96f5668fd833f2e2"
      }
     },
     "739187dff5ee4303a3f42f02570d1625": {
      "model_module": "@jupyter-widgets/base",
      "model_module_version": "1.2.0",
      "model_name": "LayoutModel",
      "state": {}
     },
     "739abc9e384049719f6c168e0832757f": {
      "model_module": "@jupyter-widgets/base",
      "model_module_version": "1.2.0",
      "model_name": "LayoutModel",
      "state": {}
     },
     "73a26f9474aa4a4f9858dbf9490d7221": {
      "model_module": "@jupyter-widgets/controls",
      "model_module_version": "1.5.0",
      "model_name": "ProgressStyleModel",
      "state": {
       "description_width": "initial"
      }
     },
     "73b2b783e0dd4121b1efd2b4764996d6": {
      "model_module": "@jupyter-widgets/base",
      "model_module_version": "1.2.0",
      "model_name": "LayoutModel",
      "state": {}
     },
     "73c847fa93d14839a16e02ad865fa988": {
      "model_module": "@jupyter-widgets/controls",
      "model_module_version": "1.5.0",
      "model_name": "FloatProgressModel",
      "state": {
       "bar_style": "success",
       "description": "100%",
       "layout": "IPY_MODEL_92ac244bfe8a4920b41da0f105e4f750",
       "max": 1429,
       "style": "IPY_MODEL_389dd8a9e8a04b2181a2804ad17820d1",
       "value": 1429
      }
     },
     "73d3e364e9894aafa7fd36f239b55e37": {
      "model_module": "@jupyter-widgets/base",
      "model_module_version": "1.2.0",
      "model_name": "LayoutModel",
      "state": {}
     },
     "73e192339737468fbab012f02f760a22": {
      "model_module": "@jupyter-widgets/controls",
      "model_module_version": "1.5.0",
      "model_name": "HTMLModel",
      "state": {
       "layout": "IPY_MODEL_5c67a4e932004ebdae38867cd70d6e3a",
       "style": "IPY_MODEL_f868845bc6d1417e9a5bdefa606cdfe5",
       "value": " 9237/9237 [32:53&lt;00:00,  4.68it/s]"
      }
     },
     "73ea60f2143847c6b97449c26c101b7a": {
      "model_module": "@jupyter-widgets/controls",
      "model_module_version": "1.5.0",
      "model_name": "DescriptionStyleModel",
      "state": {
       "description_width": ""
      }
     },
     "7418ce9b0ab64d38843c23313caa391c": {
      "model_module": "@jupyter-widgets/base",
      "model_module_version": "1.2.0",
      "model_name": "LayoutModel",
      "state": {}
     },
     "743ed3b1b81b4a5183a31ea10b815dda": {
      "model_module": "@jupyter-widgets/controls",
      "model_module_version": "1.5.0",
      "model_name": "FloatProgressModel",
      "state": {
       "bar_style": "success",
       "description": "100%",
       "layout": "IPY_MODEL_30b3449516b84b58a59a439ebd054222",
       "max": 517401,
       "style": "IPY_MODEL_5107baf361804708a96db2f25881ccb1",
       "value": 517401
      }
     },
     "7460eefeae7f49a287fe70d4a7ed6364": {
      "model_module": "@jupyter-widgets/controls",
      "model_module_version": "1.5.0",
      "model_name": "DescriptionStyleModel",
      "state": {
       "description_width": ""
      }
     },
     "7472287f4c4549f3a5baad2250775a09": {
      "model_module": "@jupyter-widgets/base",
      "model_module_version": "1.2.0",
      "model_name": "LayoutModel",
      "state": {}
     },
     "7473731357c741f28b9c8da148e4c67b": {
      "model_module": "@jupyter-widgets/controls",
      "model_module_version": "1.5.0",
      "model_name": "HBoxModel",
      "state": {
       "children": [
        "IPY_MODEL_fe4d489d468844eeb6be31738ee7ca68",
        "IPY_MODEL_4ed859f28e194b1690b0cf577bf6232f"
       ],
       "layout": "IPY_MODEL_2f38c6fabeb04c358a5fa3f33993a340"
      }
     },
     "748ba3db072b4533a1be1173ab371580": {
      "model_module": "@jupyter-widgets/controls",
      "model_module_version": "1.5.0",
      "model_name": "FloatProgressModel",
      "state": {
       "bar_style": "success",
       "description": "100%",
       "layout": "IPY_MODEL_0a05f2dbcc074a1fa104d5b8772c3df6",
       "max": 9999,
       "style": "IPY_MODEL_b1a3bb7efefe4463b23c77c0ffba518b",
       "value": 9999
      }
     },
     "748ed927838648b18d060a7f6d4f1adb": {
      "model_module": "@jupyter-widgets/base",
      "model_module_version": "1.2.0",
      "model_name": "LayoutModel",
      "state": {}
     },
     "748f4f8f873844f9b61eaa4221f4d2fa": {
      "model_module": "@jupyter-widgets/controls",
      "model_module_version": "1.5.0",
      "model_name": "ProgressStyleModel",
      "state": {
       "description_width": "initial"
      }
     },
     "74c1fa18f4784d2099296298469a9dd3": {
      "model_module": "@jupyter-widgets/controls",
      "model_module_version": "1.5.0",
      "model_name": "HBoxModel",
      "state": {
       "children": [
        "IPY_MODEL_1f5cd192a2c9427786a5a99af1c8eb4b",
        "IPY_MODEL_7fb90c2929784c189bed22a59bad50dc"
       ],
       "layout": "IPY_MODEL_f25defc19aa24c48a67dd2f16c9ae97c"
      }
     },
     "74d427e66ca541049bd25dc2742dd645": {
      "model_module": "@jupyter-widgets/base",
      "model_module_version": "1.2.0",
      "model_name": "LayoutModel",
      "state": {}
     },
     "752abd53efdf4ff4859a21e592bcf96c": {
      "model_module": "@jupyter-widgets/controls",
      "model_module_version": "1.5.0",
      "model_name": "DescriptionStyleModel",
      "state": {
       "description_width": ""
      }
     },
     "754054cb9126471eb51e42bc451383bb": {
      "model_module": "@jupyter-widgets/base",
      "model_module_version": "1.2.0",
      "model_name": "LayoutModel",
      "state": {}
     },
     "7545c04cf73748a3ad143916fbea4357": {
      "model_module": "@jupyter-widgets/controls",
      "model_module_version": "1.5.0",
      "model_name": "FloatProgressModel",
      "state": {
       "bar_style": "success",
       "description": "100%",
       "layout": "IPY_MODEL_f3556a21f40c4cfba0e531dfd40a6cf3",
       "max": 9236,
       "style": "IPY_MODEL_402d9073d4e548e78d66504c4642ef85",
       "value": 9236
      }
     },
     "7567325cb53040a5ac60739f3bb337f1": {
      "model_module": "@jupyter-widgets/base",
      "model_module_version": "1.2.0",
      "model_name": "LayoutModel",
      "state": {}
     },
     "75a84d1da12941ba9da9cecec930bad4": {
      "model_module": "@jupyter-widgets/controls",
      "model_module_version": "1.5.0",
      "model_name": "HTMLModel",
      "state": {
       "layout": "IPY_MODEL_c051e4ef950a4a9e861ab03fe3c6f6b7",
       "style": "IPY_MODEL_b4201fb3fa0d46f380bfc2b8fa12cbc2",
       "value": " 9236/9236 [00:34&lt;00:00, 269.83it/s]"
      }
     },
     "75f726ff9dd54df586b85761d7e0d64f": {
      "model_module": "@jupyter-widgets/base",
      "model_module_version": "1.2.0",
      "model_name": "LayoutModel",
      "state": {}
     },
     "7631893374724fe084fe5f4dd8a97fff": {
      "model_module": "@jupyter-widgets/base",
      "model_module_version": "1.2.0",
      "model_name": "LayoutModel",
      "state": {}
     },
     "7647b22ea152417eb8cc813b1e8596e6": {
      "model_module": "@jupyter-widgets/base",
      "model_module_version": "1.2.0",
      "model_name": "LayoutModel",
      "state": {}
     },
     "764be5faa67940ccb1918de0e401a13a": {
      "model_module": "@jupyter-widgets/controls",
      "model_module_version": "1.5.0",
      "model_name": "DescriptionStyleModel",
      "state": {
       "description_width": ""
      }
     },
     "765d156dc2ce4f7e878ef9630cb5092a": {
      "model_module": "@jupyter-widgets/controls",
      "model_module_version": "1.5.0",
      "model_name": "HBoxModel",
      "state": {
       "children": [
        "IPY_MODEL_3202770e3c7e4fc786a6295bc01d2a13",
        "IPY_MODEL_93a8162623f24a1ebf1340294fb1a0ac"
       ],
       "layout": "IPY_MODEL_9998db3210ef48cf9b8fa83dcc680792"
      }
     },
     "766d420bf58e446a9aa7b562d521194b": {
      "model_module": "@jupyter-widgets/controls",
      "model_module_version": "1.5.0",
      "model_name": "FloatProgressModel",
      "state": {
       "bar_style": "success",
       "description": "100%",
       "layout": "IPY_MODEL_34c1de4ce44144fabb1e5ae9bd653649",
       "max": 9152,
       "style": "IPY_MODEL_7067864e0be44434acdf83c9a14186f0",
       "value": 9152
      }
     },
     "76832fe56f5f4560814d75e39d0f74c5": {
      "model_module": "@jupyter-widgets/controls",
      "model_module_version": "1.5.0",
      "model_name": "FloatProgressModel",
      "state": {
       "bar_style": "success",
       "description": "100%",
       "layout": "IPY_MODEL_839a91c35be94ddeae2496a763911c51",
       "max": 19995,
       "style": "IPY_MODEL_2e9ddc46ba8f4ff9a470fe682279bbd3",
       "value": 19995
      }
     },
     "76b68b566db54505b2daeea68382621d": {
      "model_module": "@jupyter-widgets/controls",
      "model_module_version": "1.5.0",
      "model_name": "ProgressStyleModel",
      "state": {
       "description_width": "initial"
      }
     },
     "76c3f48639a14f1eba4a8cade008c6d3": {
      "model_module": "@jupyter-widgets/base",
      "model_module_version": "1.2.0",
      "model_name": "LayoutModel",
      "state": {}
     },
     "76c5bfa5b014434286aa10a71a53c2c7": {
      "model_module": "@jupyter-widgets/controls",
      "model_module_version": "1.5.0",
      "model_name": "FloatProgressModel",
      "state": {
       "bar_style": "success",
       "description": "100%",
       "layout": "IPY_MODEL_ab51746a08a74d16957275ccbc297e1d",
       "max": 4285,
       "style": "IPY_MODEL_160b883ca837440c9404bc9c1b8e68bb",
       "value": 4285
      }
     },
     "76d777268b144f109ddd99134525ac87": {
      "model_module": "@jupyter-widgets/controls",
      "model_module_version": "1.5.0",
      "model_name": "ProgressStyleModel",
      "state": {
       "description_width": "initial"
      }
     },
     "77124de5cf6f42b3b0ee0a2f6b8661d5": {
      "model_module": "@jupyter-widgets/controls",
      "model_module_version": "1.5.0",
      "model_name": "DescriptionStyleModel",
      "state": {
       "description_width": ""
      }
     },
     "771b704c2a2b4ce3bb43064adde297b8": {
      "model_module": "@jupyter-widgets/controls",
      "model_module_version": "1.5.0",
      "model_name": "FloatProgressModel",
      "state": {
       "bar_style": "success",
       "description": "100%",
       "layout": "IPY_MODEL_b1fd23e48323410b80f76b5da8f9269b",
       "max": 25000,
       "style": "IPY_MODEL_1ddce0c4379b417794d6c43ff3fcb8e3",
       "value": 25000
      }
     },
     "77532c78ce1a4cd1af1556eb7cef537b": {
      "model_module": "@jupyter-widgets/base",
      "model_module_version": "1.2.0",
      "model_name": "LayoutModel",
      "state": {}
     },
     "7765a22f581e45468cb05c130810e9ee": {
      "model_module": "@jupyter-widgets/controls",
      "model_module_version": "1.5.0",
      "model_name": "DescriptionStyleModel",
      "state": {
       "description_width": ""
      }
     },
     "77729e92cfe8468aad1b8482187fd64d": {
      "model_module": "@jupyter-widgets/controls",
      "model_module_version": "1.5.0",
      "model_name": "DescriptionStyleModel",
      "state": {
       "description_width": ""
      }
     },
     "777ab3a0c94d45289eab576c845245e8": {
      "model_module": "@jupyter-widgets/controls",
      "model_module_version": "1.5.0",
      "model_name": "FloatProgressModel",
      "state": {
       "bar_style": "success",
       "description": "100%",
       "layout": "IPY_MODEL_3c15c6b0b35b4831989e02016d899039",
       "max": 9237,
       "style": "IPY_MODEL_f2b6dcff723347a190c258b42137d3e6",
       "value": 9237
      }
     },
     "7786bf3fdaaf4330860345fbe432f96b": {
      "model_module": "@jupyter-widgets/controls",
      "model_module_version": "1.5.0",
      "model_name": "ProgressStyleModel",
      "state": {
       "description_width": "initial"
      }
     },
     "779a3e977b044b4db59c21d529d99a37": {
      "model_module": "@jupyter-widgets/controls",
      "model_module_version": "1.5.0",
      "model_name": "DescriptionStyleModel",
      "state": {
       "description_width": ""
      }
     },
     "77bcaf9f5eef4ee3b17dfe9f15298518": {
      "model_module": "@jupyter-widgets/controls",
      "model_module_version": "1.5.0",
      "model_name": "HBoxModel",
      "state": {
       "children": [
        "IPY_MODEL_0cc31ded12564a399dafbc8757a4c1ed",
        "IPY_MODEL_2961e5be70314218bd2b5bbf87939f14"
       ],
       "layout": "IPY_MODEL_efefeb95b5564020abded0098830fa8f"
      }
     },
     "77edb24f437646afa2f26cce10df6e17": {
      "model_module": "@jupyter-widgets/controls",
      "model_module_version": "1.5.0",
      "model_name": "ProgressStyleModel",
      "state": {
       "description_width": "initial"
      }
     },
     "78989bff66ee4ad1b7381695a493c5ad": {
      "model_module": "@jupyter-widgets/base",
      "model_module_version": "1.2.0",
      "model_name": "LayoutModel",
      "state": {}
     },
     "78b79ae8bae24713afaee89f11cba076": {
      "model_module": "@jupyter-widgets/controls",
      "model_module_version": "1.5.0",
      "model_name": "HBoxModel",
      "state": {
       "children": [
        "IPY_MODEL_24e864831dd64d6da375f7499ffc71e8",
        "IPY_MODEL_f4fb42bab0e7429a848e6f28c523c6e3"
       ],
       "layout": "IPY_MODEL_8bd27e740dc346c8a1580275e7594962"
      }
     },
     "78caafd3d1814d579f3664f7848f1f02": {
      "model_module": "@jupyter-widgets/controls",
      "model_module_version": "1.5.0",
      "model_name": "ProgressStyleModel",
      "state": {
       "description_width": "initial"
      }
     },
     "78dc9a58fd414eb4a8638ab9f39ed2f3": {
      "model_module": "@jupyter-widgets/controls",
      "model_module_version": "1.5.0",
      "model_name": "FloatProgressModel",
      "state": {
       "bar_style": "success",
       "description": "100%",
       "layout": "IPY_MODEL_44dbe4d36cee4bb39bcf84dc1aee4340",
       "max": 31893,
       "style": "IPY_MODEL_3bede2a316b34c2785db539b8849e9c7",
       "value": 31893
      }
     },
     "7931a60b561b472e8377fccc1909cb45": {
      "model_module": "@jupyter-widgets/controls",
      "model_module_version": "1.5.0",
      "model_name": "DescriptionStyleModel",
      "state": {
       "description_width": ""
      }
     },
     "7944c09ec7ef41c982bfe0ed86b13b8c": {
      "model_module": "@jupyter-widgets/controls",
      "model_module_version": "1.5.0",
      "model_name": "HBoxModel",
      "state": {
       "children": [
        "IPY_MODEL_c0b9a3655ab044f8bcdbb29119c6cfab",
        "IPY_MODEL_fa4b7fdfcb02440a8a645f0c1fdfad0d"
       ],
       "layout": "IPY_MODEL_5b40f19f70f04419afe6f6d92642c576"
      }
     },
     "7955444d51a14a4fbb3b17dd6cbe383e": {
      "model_module": "@jupyter-widgets/controls",
      "model_module_version": "1.5.0",
      "model_name": "FloatProgressModel",
      "state": {
       "bar_style": "success",
       "description": "100%",
       "layout": "IPY_MODEL_b91b84577c494b79aa552152b7311f7d",
       "max": 50000,
       "style": "IPY_MODEL_e434ae1a41ef44e0a2a053318358ce5e",
       "value": 50000
      }
     },
     "796a5f5930984293b07190d0d462365b": {
      "model_module": "@jupyter-widgets/base",
      "model_module_version": "1.2.0",
      "model_name": "LayoutModel",
      "state": {}
     },
     "796d1d772fd74f39aaf74664da271c12": {
      "model_module": "@jupyter-widgets/controls",
      "model_module_version": "1.5.0",
      "model_name": "HTMLModel",
      "state": {
       "layout": "IPY_MODEL_796a5f5930984293b07190d0d462365b",
       "style": "IPY_MODEL_11f5ac70ea564f12a8f04d64d7d29253",
       "value": " 9237/9237 [00:32&lt;00:00, 283.79it/s]"
      }
     },
     "7984b69d0f0a41d18a9a3ce2d359301f": {
      "model_module": "@jupyter-widgets/controls",
      "model_module_version": "1.5.0",
      "model_name": "FloatProgressModel",
      "state": {
       "bar_style": "success",
       "description": "100%",
       "layout": "IPY_MODEL_8d68e5aec10f45e8b1d8cda55e3a3ab2",
       "max": 9237,
       "style": "IPY_MODEL_d3c215c5056649d682167d3da2430d7f",
       "value": 9237
      }
     },
     "7996c1017d714c74a466d82a70e02295": {
      "model_module": "@jupyter-widgets/controls",
      "model_module_version": "1.5.0",
      "model_name": "HBoxModel",
      "state": {
       "children": [
        "IPY_MODEL_2e044e51ff5648b6b7cac594429408de",
        "IPY_MODEL_cd32f49d95cf495ea0e0b99c0602df34"
       ],
       "layout": "IPY_MODEL_d6f37dc15729443e80bb1762d8338cfe"
      }
     },
     "799724375847486c8e876213a3299944": {
      "model_module": "@jupyter-widgets/controls",
      "model_module_version": "1.5.0",
      "model_name": "HBoxModel",
      "state": {
       "children": [
        "IPY_MODEL_0828bce2a2f4474086e15d6d93a73964",
        "IPY_MODEL_3e8d6e3035fb4de6abe5d6206629e67f"
       ],
       "layout": "IPY_MODEL_ae2a6bfd47d54349a4e708acb9d739bb"
      }
     },
     "799d9c12f95e4bde96d437a7d7d0c2a7": {
      "model_module": "@jupyter-widgets/base",
      "model_module_version": "1.2.0",
      "model_name": "LayoutModel",
      "state": {}
     },
     "79a7c7f1ba474d0f97f4abee876db4c9": {
      "model_module": "@jupyter-widgets/controls",
      "model_module_version": "1.5.0",
      "model_name": "ProgressStyleModel",
      "state": {
       "description_width": "initial"
      }
     },
     "79d5e08d29254b908079a45f7479015c": {
      "model_module": "@jupyter-widgets/controls",
      "model_module_version": "1.5.0",
      "model_name": "DescriptionStyleModel",
      "state": {
       "description_width": ""
      }
     },
     "7a09c9e0c21a47ba9213e9dad465d40b": {
      "model_module": "@jupyter-widgets/controls",
      "model_module_version": "1.5.0",
      "model_name": "HTMLModel",
      "state": {
       "layout": "IPY_MODEL_b56cc9435b2c452097f9d83e33ef77a8",
       "style": "IPY_MODEL_ba0d0164f5984f0699566e509d98a4a1",
       "value": " 7141/7141 [17:07&lt;00:00,  6.95it/s]"
      }
     },
     "7a73a1d575c4493db3f20e3076bb9994": {
      "model_module": "@jupyter-widgets/controls",
      "model_module_version": "1.5.0",
      "model_name": "HBoxModel",
      "state": {
       "children": [
        "IPY_MODEL_9d535ec60d2f4dd2a192c0de521adfda",
        "IPY_MODEL_def234ee7f1040c7a4a32363b5f78bc3"
       ],
       "layout": "IPY_MODEL_65f05d0ff1d14aaa8acc0588e02c328a"
      }
     },
     "7aa69886e1f64600a094193b971e44b1": {
      "model_module": "@jupyter-widgets/controls",
      "model_module_version": "1.5.0",
      "model_name": "HTMLModel",
      "state": {
       "layout": "IPY_MODEL_a799514db29a40a1a12c67efbe34a047",
       "style": "IPY_MODEL_66dd2ccf30304234b8a51c5580069b20",
       "value": " 9237/9237 [15:26&lt;00:00,  9.97it/s]"
      }
     },
     "7af79256ea8141f1ab1f13318d96d3de": {
      "model_module": "@jupyter-widgets/controls",
      "model_module_version": "1.5.0",
      "model_name": "ProgressStyleModel",
      "state": {
       "description_width": "initial"
      }
     },
     "7afbcddeb92947e491fd17d11a1550b3": {
      "model_module": "@jupyter-widgets/controls",
      "model_module_version": "1.5.0",
      "model_name": "FloatProgressModel",
      "state": {
       "bar_style": "success",
       "description": "100%",
       "layout": "IPY_MODEL_d0dfc1008381434c96deadffd969550f",
       "max": 28577,
       "style": "IPY_MODEL_0b443d2a52b2408787cf6c89ff2bab99",
       "value": 28577
      }
     },
     "7b27ee9ccf8c4753a8abfa3d0607fccb": {
      "model_module": "@jupyter-widgets/controls",
      "model_module_version": "1.5.0",
      "model_name": "HTMLModel",
      "state": {
       "layout": "IPY_MODEL_a0129b3df49a4566b10a362cce9229d9",
       "style": "IPY_MODEL_69f9a6aaea8141e687e226716e1dd929",
       "value": " 27825/27825 [00:01&lt;00:00, 21700.36it/s]"
      }
     },
     "7b4c121ed74849abac4c11fe66c28225": {
      "model_module": "@jupyter-widgets/controls",
      "model_module_version": "1.5.0",
      "model_name": "DescriptionStyleModel",
      "state": {
       "description_width": ""
      }
     },
     "7b6bae6e82b7426792265235f1c3d968": {
      "model_module": "@jupyter-widgets/controls",
      "model_module_version": "1.5.0",
      "model_name": "ProgressStyleModel",
      "state": {
       "description_width": "initial"
      }
     },
     "7bf3d4bde3ca46aca935a65d99669ed6": {
      "model_module": "@jupyter-widgets/base",
      "model_module_version": "1.2.0",
      "model_name": "LayoutModel",
      "state": {}
     },
     "7c5980d5fd464e2b8b0fe8d219584878": {
      "model_module": "@jupyter-widgets/controls",
      "model_module_version": "1.5.0",
      "model_name": "HBoxModel",
      "state": {
       "children": [
        "IPY_MODEL_7afbcddeb92947e491fd17d11a1550b3",
        "IPY_MODEL_d49e6f9ca1364ddfba4052b209d782b4"
       ],
       "layout": "IPY_MODEL_ae02e72911594f8ab073caabc8de497f"
      }
     },
     "7c5c68692b3c4e6e9873d5e7b4ffdf46": {
      "model_module": "@jupyter-widgets/controls",
      "model_module_version": "1.5.0",
      "model_name": "HTMLModel",
      "state": {
       "layout": "IPY_MODEL_7e234d84d1f44c23936ed620f9d08ad2",
       "style": "IPY_MODEL_8e7c14ebb3a045b4a063d26f23d32ddc",
       "value": " 9237/9237 [00:29&lt;00:00, 310.55it/s]"
      }
     },
     "7c62746dda174d358fcda222d706b096": {
      "model_module": "@jupyter-widgets/controls",
      "model_module_version": "1.5.0",
      "model_name": "HBoxModel",
      "state": {
       "children": [
        "IPY_MODEL_fd0390acf5df433ea75b602fd17c56a0",
        "IPY_MODEL_75a84d1da12941ba9da9cecec930bad4"
       ],
       "layout": "IPY_MODEL_8ea062f55daa4411b001d7c0524adc3e"
      }
     },
     "7c71bc2f72a64f35a1bb345b83e52c4b": {
      "model_module": "@jupyter-widgets/base",
      "model_module_version": "1.2.0",
      "model_name": "LayoutModel",
      "state": {}
     },
     "7c9df1a4eb9149b0a2b0b04aefb1e1c6": {
      "model_module": "@jupyter-widgets/controls",
      "model_module_version": "1.5.0",
      "model_name": "HTMLModel",
      "state": {
       "layout": "IPY_MODEL_799d9c12f95e4bde96d437a7d7d0c2a7",
       "style": "IPY_MODEL_47a0f8e7980c4446b2bf3f3397d42374",
       "value": " 9236/9236 [00:36&lt;00:00, 251.12it/s]"
      }
     },
     "7cb15ff116b0411c82851662348f9d41": {
      "model_module": "@jupyter-widgets/controls",
      "model_module_version": "1.5.0",
      "model_name": "DescriptionStyleModel",
      "state": {
       "description_width": ""
      }
     },
     "7cb502ebeaa049d7aa7b4f6ce43c8fe8": {
      "model_module": "@jupyter-widgets/base",
      "model_module_version": "1.2.0",
      "model_name": "LayoutModel",
      "state": {}
     },
     "7ce02bad7f2349919a5d9fcd13b2f414": {
      "model_module": "@jupyter-widgets/base",
      "model_module_version": "1.2.0",
      "model_name": "LayoutModel",
      "state": {}
     },
     "7d6faa4e8a564935b748a82868562fa0": {
      "model_module": "@jupyter-widgets/controls",
      "model_module_version": "1.5.0",
      "model_name": "DescriptionStyleModel",
      "state": {
       "description_width": ""
      }
     },
     "7da7964e614d482caa1e9c20cab75f0e": {
      "model_module": "@jupyter-widgets/base",
      "model_module_version": "1.2.0",
      "model_name": "LayoutModel",
      "state": {}
     },
     "7dafa8fb8085449793adcbf8c304d9cc": {
      "model_module": "@jupyter-widgets/controls",
      "model_module_version": "1.5.0",
      "model_name": "HTMLModel",
      "state": {
       "layout": "IPY_MODEL_f84283351b1249c9a652df9028646387",
       "style": "IPY_MODEL_e8792940f367446e9f264fd41658fb25",
       "value": " 4284/4284 [10:24&lt;00:00,  6.86it/s]"
      }
     },
     "7dbb1e199ce1419e9d94c85c06af718e": {
      "model_module": "@jupyter-widgets/base",
      "model_module_version": "1.2.0",
      "model_name": "LayoutModel",
      "state": {}
     },
     "7dc4f3cf2e7c4773aadafcdbe53bf043": {
      "model_module": "@jupyter-widgets/controls",
      "model_module_version": "1.5.0",
      "model_name": "ProgressStyleModel",
      "state": {
       "description_width": "initial"
      }
     },
     "7dd246cf4ac34210962f9a35fb33b629": {
      "model_module": "@jupyter-widgets/base",
      "model_module_version": "1.2.0",
      "model_name": "LayoutModel",
      "state": {}
     },
     "7deca11e7ba44daba9a5c220c196a424": {
      "model_module": "@jupyter-widgets/controls",
      "model_module_version": "1.5.0",
      "model_name": "FloatProgressModel",
      "state": {
       "bar_style": "success",
       "description": "100%",
       "layout": "IPY_MODEL_95b960a365444312816d3e9fe246571b",
       "max": 10000,
       "style": "IPY_MODEL_296932d87df0417a8386c7b6c53ce124",
       "value": 10000
      }
     },
     "7e074e370d8243dab3713c27c951643a": {
      "model_module": "@jupyter-widgets/controls",
      "model_module_version": "1.5.0",
      "model_name": "DescriptionStyleModel",
      "state": {
       "description_width": ""
      }
     },
     "7e0c94aab9d8476d801649ede152763f": {
      "model_module": "@jupyter-widgets/controls",
      "model_module_version": "1.5.0",
      "model_name": "HBoxModel",
      "state": {
       "children": [
        "IPY_MODEL_c5384d1ab9b144338ed1e56f1b0568cc",
        "IPY_MODEL_7c5c68692b3c4e6e9873d5e7b4ffdf46"
       ],
       "layout": "IPY_MODEL_f8bf07dd7f364c4c9796de9fcc7f2cdb"
      }
     },
     "7e234d84d1f44c23936ed620f9d08ad2": {
      "model_module": "@jupyter-widgets/base",
      "model_module_version": "1.2.0",
      "model_name": "LayoutModel",
      "state": {}
     },
     "7e33e58d92934d38b33bcc547ea2a032": {
      "model_module": "@jupyter-widgets/base",
      "model_module_version": "1.2.0",
      "model_name": "LayoutModel",
      "state": {}
     },
     "7e5c609602ca433791344631233fdc08": {
      "model_module": "@jupyter-widgets/controls",
      "model_module_version": "1.5.0",
      "model_name": "FloatProgressModel",
      "state": {
       "bar_style": "success",
       "description": "100%",
       "layout": "IPY_MODEL_f83dbdf20e534be68de9b5f68dfd197d",
       "max": 9237,
       "style": "IPY_MODEL_f20e570f8e3d4807817c3dfdb4f9ee21",
       "value": 9237
      }
     },
     "7f06e7317a884e75b003d8ef5920d787": {
      "model_module": "@jupyter-widgets/controls",
      "model_module_version": "1.5.0",
      "model_name": "DescriptionStyleModel",
      "state": {
       "description_width": ""
      }
     },
     "7f3196cae66c44ecbb086296f33af0ca": {
      "model_module": "@jupyter-widgets/controls",
      "model_module_version": "1.5.0",
      "model_name": "ProgressStyleModel",
      "state": {
       "description_width": "initial"
      }
     },
     "7f3301c6047740dbbd01b9b47260e16f": {
      "model_module": "@jupyter-widgets/base",
      "model_module_version": "1.2.0",
      "model_name": "LayoutModel",
      "state": {}
     },
     "7f9175c853e84433aa35679791006fcf": {
      "model_module": "@jupyter-widgets/controls",
      "model_module_version": "1.5.0",
      "model_name": "FloatProgressModel",
      "state": {
       "bar_style": "success",
       "description": "100%",
       "layout": "IPY_MODEL_b490a38c7aa240daa384afa8663e66a4",
       "max": 9237,
       "style": "IPY_MODEL_ea71bcab3d8f4326bf78f4b5e885b629",
       "value": 9237
      }
     },
     "7fb232d612f6440d96f5668fd833f2e2": {
      "model_module": "@jupyter-widgets/base",
      "model_module_version": "1.2.0",
      "model_name": "LayoutModel",
      "state": {}
     },
     "7fb90c2929784c189bed22a59bad50dc": {
      "model_module": "@jupyter-widgets/controls",
      "model_module_version": "1.5.0",
      "model_name": "HTMLModel",
      "state": {
       "layout": "IPY_MODEL_929dd16a6f2d4d1d8d3e4f306ef13c62",
       "style": "IPY_MODEL_c97cfcc3de6641a396da421cf347e451",
       "value": " 7140/7140 [17:15&lt;00:00,  6.90it/s]"
      }
     },
     "7ff60da516b2441784af39e23d6e835a": {
      "model_module": "@jupyter-widgets/controls",
      "model_module_version": "1.5.0",
      "model_name": "FloatProgressModel",
      "state": {
       "bar_style": "success",
       "description": "100%",
       "layout": "IPY_MODEL_b0276290acd94fdf9aa3e27ba249ccc1",
       "max": 4284,
       "style": "IPY_MODEL_45f3002460b2418ca56fe8adfa0c79c6",
       "value": 4284
      }
     },
     "7ffb1bed682043c6a64512422de5af69": {
      "model_module": "@jupyter-widgets/controls",
      "model_module_version": "1.5.0",
      "model_name": "DescriptionStyleModel",
      "state": {
       "description_width": ""
      }
     },
     "805fa37d20b0434280e10560b4769c0c": {
      "model_module": "@jupyter-widgets/base",
      "model_module_version": "1.2.0",
      "model_name": "LayoutModel",
      "state": {}
     },
     "808614a7507e463aa0687092bc443296": {
      "model_module": "@jupyter-widgets/base",
      "model_module_version": "1.2.0",
      "model_name": "LayoutModel",
      "state": {}
     },
     "80a63dd177bd4db7984a28182c4431ec": {
      "model_module": "@jupyter-widgets/base",
      "model_module_version": "1.2.0",
      "model_name": "LayoutModel",
      "state": {}
     },
     "80a67b0c11da4bd18e0dabb5e74d453a": {
      "model_module": "@jupyter-widgets/base",
      "model_module_version": "1.2.0",
      "model_name": "LayoutModel",
      "state": {}
     },
     "80fa022e405548db96895cc9624c3bf8": {
      "model_module": "@jupyter-widgets/controls",
      "model_module_version": "1.5.0",
      "model_name": "ProgressStyleModel",
      "state": {
       "description_width": "initial"
      }
     },
     "815e0c6ac1554a41a22821522acf3f14": {
      "model_module": "@jupyter-widgets/controls",
      "model_module_version": "1.5.0",
      "model_name": "HTMLModel",
      "state": {
       "layout": "IPY_MODEL_7c71bc2f72a64f35a1bb345b83e52c4b",
       "style": "IPY_MODEL_f1165b1675d54247b6786bce26d4d6c1",
       "value": " 7140/7140 [16:27&lt;00:00,  7.23it/s]"
      }
     },
     "8162d33c93574fba9d818fb534443579": {
      "model_module": "@jupyter-widgets/controls",
      "model_module_version": "1.5.0",
      "model_name": "FloatProgressModel",
      "state": {
       "bar_style": "success",
       "description": "100%",
       "layout": "IPY_MODEL_418f5a6e2aec4521849f20c8d351fc6b",
       "max": 9237,
       "style": "IPY_MODEL_19d68a7fe93b46ad94d64b255da60394",
       "value": 9237
      }
     },
     "81ad93c409f54f699e9fd60842f2d051": {
      "model_module": "@jupyter-widgets/controls",
      "model_module_version": "1.5.0",
      "model_name": "HBoxModel",
      "state": {
       "children": [
        "IPY_MODEL_8bebc388e1a84642911e2acb2d6fc331",
        "IPY_MODEL_0d083e1acfe843dba50d41b55ddb1a41"
       ],
       "layout": "IPY_MODEL_7cb502ebeaa049d7aa7b4f6ce43c8fe8"
      }
     },
     "81c02fabe1404adebe8adac9880cfe05": {
      "model_module": "@jupyter-widgets/controls",
      "model_module_version": "1.5.0",
      "model_name": "ProgressStyleModel",
      "state": {
       "description_width": "initial"
      }
     },
     "81e4025740c346a697eacc27f04ec7eb": {
      "model_module": "@jupyter-widgets/controls",
      "model_module_version": "1.5.0",
      "model_name": "FloatProgressModel",
      "state": {
       "bar_style": "success",
       "description": "100%",
       "layout": "IPY_MODEL_e5d32ce91ac5440694b6c73da96c154f",
       "max": 9236,
       "style": "IPY_MODEL_413fe10e30b648eb9604d8e78fd1d974",
       "value": 9236
      }
     },
     "81ef8f31e434425e8c12ed7238f168c1": {
      "model_module": "@jupyter-widgets/controls",
      "model_module_version": "1.5.0",
      "model_name": "ProgressStyleModel",
      "state": {
       "description_width": "initial"
      }
     },
     "821f38364e7f43779dc59de2a128d603": {
      "model_module": "@jupyter-widgets/controls",
      "model_module_version": "1.5.0",
      "model_name": "ProgressStyleModel",
      "state": {
       "description_width": "initial"
      }
     },
     "821fe11c60cb400d8512789033fd82ba": {
      "model_module": "@jupyter-widgets/base",
      "model_module_version": "1.2.0",
      "model_name": "LayoutModel",
      "state": {}
     },
     "8239af2c8f864e6c96be339a2dd87d2a": {
      "model_module": "@jupyter-widgets/controls",
      "model_module_version": "1.5.0",
      "model_name": "HTMLModel",
      "state": {
       "layout": "IPY_MODEL_0cce21e1a57b431eb0958b7ed138f47f",
       "style": "IPY_MODEL_4a7f9ba4f9f94da993c08b9667de93b2",
       "value": " 9237/9237 [18:06&lt;00:00,  8.51it/s]"
      }
     },
     "825854e991a2465d9e8dc5a0b49ba7be": {
      "model_module": "@jupyter-widgets/controls",
      "model_module_version": "1.5.0",
      "model_name": "HTMLModel",
      "state": {
       "layout": "IPY_MODEL_fe180cf832c94a53b2766949d7196779",
       "style": "IPY_MODEL_2f112fcac63d48cea2c130794543a1a9",
       "value": " 19062/19062 [00:00&lt;00:00, 170363.27it/s]"
      }
     },
     "826069e5ae284adfa21a682c8d5d4f11": {
      "model_module": "@jupyter-widgets/controls",
      "model_module_version": "1.5.0",
      "model_name": "HBoxModel",
      "state": {
       "children": [
        "IPY_MODEL_35d34de1a5dc4e9d8e85382c8ccd61a7",
        "IPY_MODEL_87b57e5efea04411b086b0c50e29edd3"
       ],
       "layout": "IPY_MODEL_944912aa79094ed394938ac7e6d7889b"
      }
     },
     "826b33b3189f43459e3354a21ac5dc72": {
      "model_module": "@jupyter-widgets/controls",
      "model_module_version": "1.5.0",
      "model_name": "FloatProgressModel",
      "state": {
       "bar_style": "success",
       "description": "100%",
       "layout": "IPY_MODEL_bf2224514f6d4d8499280084282ae21a",
       "max": 9237,
       "style": "IPY_MODEL_821f38364e7f43779dc59de2a128d603",
       "value": 9237
      }
     },
     "82bef040597a4a6692141f1e58979618": {
      "model_module": "@jupyter-widgets/base",
      "model_module_version": "1.2.0",
      "model_name": "LayoutModel",
      "state": {}
     },
     "82cd7db93e6c4a6b829af88956e80989": {
      "model_module": "@jupyter-widgets/base",
      "model_module_version": "1.2.0",
      "model_name": "LayoutModel",
      "state": {}
     },
     "82d4345ec40040cb94be930c9b257ded": {
      "model_module": "@jupyter-widgets/base",
      "model_module_version": "1.2.0",
      "model_name": "LayoutModel",
      "state": {}
     },
     "8340cd0a8e8942598840f085fb5064c4": {
      "model_module": "@jupyter-widgets/controls",
      "model_module_version": "1.5.0",
      "model_name": "HTMLModel",
      "state": {
       "layout": "IPY_MODEL_d148758a2d874d2f84d38fd60a4911ab",
       "style": "IPY_MODEL_cf166775cdae41028c7eb61d1d016322",
       "value": " 50000/50000 [17:19&lt;00:00, 48.09it/s]"
      }
     },
     "8354971e36b94ddda7c4605d39501442": {
      "model_module": "@jupyter-widgets/base",
      "model_module_version": "1.2.0",
      "model_name": "LayoutModel",
      "state": {}
     },
     "835923d5ff3849149dd7799f3288bd56": {
      "model_module": "@jupyter-widgets/controls",
      "model_module_version": "1.5.0",
      "model_name": "HTMLModel",
      "state": {
       "layout": "IPY_MODEL_6d2e129109f64f21800e13074b578cec",
       "style": "IPY_MODEL_bf5fe6942c77440aa3d4322bff2d257c",
       "value": " 2857/2857 [06:26&lt;00:00,  7.40it/s]"
      }
     },
     "8376a2f9bf23448aa36fca42a4ac1eea": {
      "model_module": "@jupyter-widgets/controls",
      "model_module_version": "1.5.0",
      "model_name": "HBoxModel",
      "state": {
       "children": [
        "IPY_MODEL_d4eb7f6ab9654ce9a634acdbfd2ae153",
        "IPY_MODEL_d941d8b4638d4c90b0c60056948082a8"
       ],
       "layout": "IPY_MODEL_fbbfef2ad3354ea9a516ed4ddf0b1af5"
      }
     },
     "839635f207d846a8899cbfb83cdbeb41": {
      "model_module": "@jupyter-widgets/controls",
      "model_module_version": "1.5.0",
      "model_name": "ProgressStyleModel",
      "state": {
       "description_width": "initial"
      }
     },
     "839a49a08b8d4b8181b713b5d42b6686": {
      "model_module": "@jupyter-widgets/base",
      "model_module_version": "1.2.0",
      "model_name": "LayoutModel",
      "state": {}
     },
     "839a91c35be94ddeae2496a763911c51": {
      "model_module": "@jupyter-widgets/base",
      "model_module_version": "1.2.0",
      "model_name": "LayoutModel",
      "state": {}
     },
     "83cccc370a78402cae7d81992fbef51f": {
      "model_module": "@jupyter-widgets/controls",
      "model_module_version": "1.5.0",
      "model_name": "DescriptionStyleModel",
      "state": {
       "description_width": ""
      }
     },
     "83ff6c4b503543dca098382b269db20e": {
      "model_module": "@jupyter-widgets/controls",
      "model_module_version": "1.5.0",
      "model_name": "DescriptionStyleModel",
      "state": {
       "description_width": ""
      }
     },
     "84091aac12cc4a808bb3353613ad626a": {
      "model_module": "@jupyter-widgets/controls",
      "model_module_version": "1.5.0",
      "model_name": "DescriptionStyleModel",
      "state": {
       "description_width": ""
      }
     },
     "8416676437124fdb872685d2187f0d94": {
      "model_module": "@jupyter-widgets/base",
      "model_module_version": "1.2.0",
      "model_name": "LayoutModel",
      "state": {}
     },
     "841a161a683a4a5fafd2eb59802e6043": {
      "model_module": "@jupyter-widgets/controls",
      "model_module_version": "1.5.0",
      "model_name": "ProgressStyleModel",
      "state": {
       "description_width": "initial"
      }
     },
     "845a2f30c53849d8a754b177403741f9": {
      "model_module": "@jupyter-widgets/base",
      "model_module_version": "1.2.0",
      "model_name": "LayoutModel",
      "state": {}
     },
     "845e3d10f0f74a4ebd11813378776d0e": {
      "model_module": "@jupyter-widgets/base",
      "model_module_version": "1.2.0",
      "model_name": "LayoutModel",
      "state": {}
     },
     "8477d86d717a43c2ad6f951b9df3003a": {
      "model_module": "@jupyter-widgets/base",
      "model_module_version": "1.2.0",
      "model_name": "LayoutModel",
      "state": {}
     },
     "84c0fa9408a54c9888c4990c6c509ac0": {
      "model_module": "@jupyter-widgets/controls",
      "model_module_version": "1.5.0",
      "model_name": "DescriptionStyleModel",
      "state": {
       "description_width": ""
      }
     },
     "84cd8244a08549a093603a064793cbed": {
      "model_module": "@jupyter-widgets/controls",
      "model_module_version": "1.5.0",
      "model_name": "FloatProgressModel",
      "state": {
       "bar_style": "success",
       "description": "100%",
       "layout": "IPY_MODEL_82cd7db93e6c4a6b829af88956e80989",
       "max": 9236,
       "style": "IPY_MODEL_f5a6644e67364f5593c9309de9da03c8",
       "value": 9236
      }
     },
     "84e25ab9afa64fb1ab2bf85a34572430": {
      "model_module": "@jupyter-widgets/controls",
      "model_module_version": "1.5.0",
      "model_name": "ProgressStyleModel",
      "state": {
       "description_width": "initial"
      }
     },
     "850b05afa6c444e58b914bac1cd154a6": {
      "model_module": "@jupyter-widgets/base",
      "model_module_version": "1.2.0",
      "model_name": "LayoutModel",
      "state": {}
     },
     "8512746e343e4e25a9b8d8b7e73982af": {
      "model_module": "@jupyter-widgets/controls",
      "model_module_version": "1.5.0",
      "model_name": "FloatProgressModel",
      "state": {
       "bar_style": "success",
       "description": "100%",
       "layout": "IPY_MODEL_dfeb463a72794f3aa346cc65a7ef3d7b",
       "max": 18084,
       "style": "IPY_MODEL_80fa022e405548db96895cc9624c3bf8",
       "value": 18084
      }
     },
     "853cc1ffd2bf43b4a446b7fd9208a87c": {
      "model_module": "@jupyter-widgets/controls",
      "model_module_version": "1.5.0",
      "model_name": "HTMLModel",
      "state": {
       "layout": "IPY_MODEL_7567325cb53040a5ac60739f3bb337f1",
       "style": "IPY_MODEL_3dfa1239f0844fcdaae42cc4b3d999ec",
       "value": " 25000/25000 [08:58&lt;00:00, 46.40it/s]"
      }
     },
     "853e4d168aae4922a679df4df04778a1": {
      "model_module": "@jupyter-widgets/base",
      "model_module_version": "1.2.0",
      "model_name": "LayoutModel",
      "state": {}
     },
     "859ba248f1a4411c83ca4de9ca4a4202": {
      "model_module": "@jupyter-widgets/controls",
      "model_module_version": "1.5.0",
      "model_name": "HBoxModel",
      "state": {
       "children": [
        "IPY_MODEL_ec4e979a02e948ca934e5678965fe26e",
        "IPY_MODEL_a852584fea68449ab42b5f751d6e99cc"
       ],
       "layout": "IPY_MODEL_07e119895a6a4f3e928acb05460e24b2"
      }
     },
     "86417e4d0df34f75aaf8b866bc9de9e8": {
      "model_module": "@jupyter-widgets/controls",
      "model_module_version": "1.5.0",
      "model_name": "DescriptionStyleModel",
      "state": {
       "description_width": ""
      }
     },
     "86869b10c4ed40539023db57fddbb090": {
      "model_module": "@jupyter-widgets/controls",
      "model_module_version": "1.5.0",
      "model_name": "DescriptionStyleModel",
      "state": {
       "description_width": ""
      }
     },
     "86d7db7c649640d89b27a7eb30924624": {
      "model_module": "@jupyter-widgets/controls",
      "model_module_version": "1.5.0",
      "model_name": "DescriptionStyleModel",
      "state": {
       "description_width": ""
      }
     },
     "8703314db81f4f638c0c95e528452827": {
      "model_module": "@jupyter-widgets/base",
      "model_module_version": "1.2.0",
      "model_name": "LayoutModel",
      "state": {}
     },
     "87134762bf9c43b29140743214710d17": {
      "model_module": "@jupyter-widgets/controls",
      "model_module_version": "1.5.0",
      "model_name": "HTMLModel",
      "state": {
       "layout": "IPY_MODEL_5bfe51ae81464d9a9cae91ca172f0242",
       "style": "IPY_MODEL_16d94721ae894f0186650308b3c5b8da",
       "value": " 1428/1428 [03:21&lt;00:00,  7.07it/s]"
      }
     },
     "871a66a2a8894bcf92f9a36b5edf4cf2": {
      "model_module": "@jupyter-widgets/controls",
      "model_module_version": "1.5.0",
      "model_name": "FloatProgressModel",
      "state": {
       "bar_style": "success",
       "description": "100%",
       "layout": "IPY_MODEL_b1da0e4fb283442d94bd9b1ea497fe84",
       "max": 10000,
       "style": "IPY_MODEL_1ee065485dee42af8c679135070dcaf2",
       "value": 10000
      }
     },
     "872272a5b09a4efc9db8e9ebdb1861dc": {
      "model_module": "@jupyter-widgets/base",
      "model_module_version": "1.2.0",
      "model_name": "LayoutModel",
      "state": {}
     },
     "877186339ce644e1a0d47eb1c1d7c0e4": {
      "model_module": "@jupyter-widgets/base",
      "model_module_version": "1.2.0",
      "model_name": "LayoutModel",
      "state": {}
     },
     "879772cd06bc4003acfa1934445c8faf": {
      "model_module": "@jupyter-widgets/base",
      "model_module_version": "1.2.0",
      "model_name": "LayoutModel",
      "state": {}
     },
     "87b57e5efea04411b086b0c50e29edd3": {
      "model_module": "@jupyter-widgets/controls",
      "model_module_version": "1.5.0",
      "model_name": "HTMLModel",
      "state": {
       "layout": "IPY_MODEL_db1989440ad24f5885877bb0048c3c6b",
       "style": "IPY_MODEL_d2260a065eef489c81711099796f2bbe",
       "value": " 1429/1429 [03:23&lt;00:00,  7.01it/s]"
      }
     },
     "87b73b834f40453d9fc98c294a8181c9": {
      "model_module": "@jupyter-widgets/controls",
      "model_module_version": "1.5.0",
      "model_name": "DescriptionStyleModel",
      "state": {
       "description_width": ""
      }
     },
     "87c28fc28a674de0b55789e16595f645": {
      "model_module": "@jupyter-widgets/controls",
      "model_module_version": "1.5.0",
      "model_name": "DescriptionStyleModel",
      "state": {
       "description_width": ""
      }
     },
     "87f995624eb348c787ce92f8f27c6650": {
      "model_module": "@jupyter-widgets/base",
      "model_module_version": "1.2.0",
      "model_name": "LayoutModel",
      "state": {}
     },
     "880d6adcbe7d4eb1820616128ae944c1": {
      "model_module": "@jupyter-widgets/controls",
      "model_module_version": "1.5.0",
      "model_name": "ProgressStyleModel",
      "state": {
       "description_width": "initial"
      }
     },
     "8813c0b5ec764426afd820d6d7c323d3": {
      "model_module": "@jupyter-widgets/base",
      "model_module_version": "1.2.0",
      "model_name": "LayoutModel",
      "state": {}
     },
     "88584a47034f4b5dbebb7d42ec34e4bd": {
      "model_module": "@jupyter-widgets/base",
      "model_module_version": "1.2.0",
      "model_name": "LayoutModel",
      "state": {}
     },
     "88752425668e4e87aad1ebbee452c7ca": {
      "model_module": "@jupyter-widgets/base",
      "model_module_version": "1.2.0",
      "model_name": "LayoutModel",
      "state": {}
     },
     "88820b605cc241828321905516c1b1ed": {
      "model_module": "@jupyter-widgets/base",
      "model_module_version": "1.2.0",
      "model_name": "LayoutModel",
      "state": {}
     },
     "8890b1e3ec8142b28a7291ee009e9865": {
      "model_module": "@jupyter-widgets/base",
      "model_module_version": "1.2.0",
      "model_name": "LayoutModel",
      "state": {}
     },
     "8899579ff36942d6a6900406f3312662": {
      "model_module": "@jupyter-widgets/base",
      "model_module_version": "1.2.0",
      "model_name": "LayoutModel",
      "state": {}
     },
     "88cd4b93491f436fabaeae2dbd9c2b08": {
      "model_module": "@jupyter-widgets/controls",
      "model_module_version": "1.5.0",
      "model_name": "HTMLModel",
      "state": {
       "layout": "IPY_MODEL_6a918c321f7f42198e3800ca8cdebb9a",
       "style": "IPY_MODEL_9fb274fc9d664e72b0972b793f0b7844",
       "value": " 9237/9237 [00:36&lt;00:00, 251.07it/s]"
      }
     },
     "893c29469a9046a4a5c7bc75c8c0866c": {
      "model_module": "@jupyter-widgets/controls",
      "model_module_version": "1.5.0",
      "model_name": "HBoxModel",
      "state": {
       "children": [
        "IPY_MODEL_3c62aec792c544e3aea418453a9b4846",
        "IPY_MODEL_fa5bfc7dca2f466aaa5677e1846b9f7c"
       ],
       "layout": "IPY_MODEL_f6ddb449d41d40b786c4059b9d59d5a1"
      }
     },
     "89620226e31e4289a28ae2c6029d7691": {
      "model_module": "@jupyter-widgets/controls",
      "model_module_version": "1.5.0",
      "model_name": "HBoxModel",
      "state": {
       "children": [
        "IPY_MODEL_fa8af229147d43c682b7c50092158375",
        "IPY_MODEL_c2e3569d4d3044208ccff8097dc0f670"
       ],
       "layout": "IPY_MODEL_5cfecad558964c54882db29858bcd8d6"
      }
     },
     "8968c6251cc349f4b61db42e23c786b8": {
      "model_module": "@jupyter-widgets/base",
      "model_module_version": "1.2.0",
      "model_name": "LayoutModel",
      "state": {}
     },
     "898fa3cd4983479288e739b3b079fd10": {
      "model_module": "@jupyter-widgets/controls",
      "model_module_version": "1.5.0",
      "model_name": "ProgressStyleModel",
      "state": {
       "description_width": "initial"
      }
     },
     "89bb51a48b3d4e2f85b8989ff14e82d4": {
      "model_module": "@jupyter-widgets/base",
      "model_module_version": "1.2.0",
      "model_name": "LayoutModel",
      "state": {}
     },
     "8a1ff71ff6bc4fd78763e5b6723fb978": {
      "model_module": "@jupyter-widgets/controls",
      "model_module_version": "1.5.0",
      "model_name": "HBoxModel",
      "state": {
       "children": [
        "IPY_MODEL_34f32b0755284fb8a34406cf4aea6311",
        "IPY_MODEL_825854e991a2465d9e8dc5a0b49ba7be"
       ],
       "layout": "IPY_MODEL_8ab2008b130b4805b10405733216e16e"
      }
     },
     "8a3034cc56bf46f2b896508d809c226a": {
      "model_module": "@jupyter-widgets/controls",
      "model_module_version": "1.5.0",
      "model_name": "DescriptionStyleModel",
      "state": {
       "description_width": ""
      }
     },
     "8a3ea2d35ddc45b099e2948573723588": {
      "model_module": "@jupyter-widgets/controls",
      "model_module_version": "1.5.0",
      "model_name": "ProgressStyleModel",
      "state": {
       "description_width": "initial"
      }
     },
     "8a56654798e147c3ba9b8bfb80a4f79f": {
      "model_module": "@jupyter-widgets/controls",
      "model_module_version": "1.5.0",
      "model_name": "FloatProgressModel",
      "state": {
       "bar_style": "success",
       "description": "100%",
       "layout": "IPY_MODEL_739abc9e384049719f6c168e0832757f",
       "max": 9237,
       "style": "IPY_MODEL_aa408c0354914b318e05e7cfd93c3316",
       "value": 9237
      }
     },
     "8a64d2a0ea244c2b99c9ef2415eb9f01": {
      "model_module": "@jupyter-widgets/controls",
      "model_module_version": "1.5.0",
      "model_name": "DescriptionStyleModel",
      "state": {
       "description_width": ""
      }
     },
     "8aa12f286544498aa1d7990977697c1b": {
      "model_module": "@jupyter-widgets/controls",
      "model_module_version": "1.5.0",
      "model_name": "HBoxModel",
      "state": {
       "children": [
        "IPY_MODEL_35f32398f32e498892e69b288eef33bc",
        "IPY_MODEL_bac89c66b5c141ad8d24fa5682b3e8ca"
       ],
       "layout": "IPY_MODEL_47a90142f5b849a489b824425723689c"
      }
     },
     "8aa57988d9ac40c697b0b750de74ec07": {
      "model_module": "@jupyter-widgets/controls",
      "model_module_version": "1.5.0",
      "model_name": "FloatProgressModel",
      "state": {
       "bar_style": "success",
       "description": "100%",
       "layout": "IPY_MODEL_7dd246cf4ac34210962f9a35fb33b629",
       "max": 2857,
       "style": "IPY_MODEL_6577754ee2834289acfe849ba85d939d",
       "value": 2857
      }
     },
     "8ab2008b130b4805b10405733216e16e": {
      "model_module": "@jupyter-widgets/base",
      "model_module_version": "1.2.0",
      "model_name": "LayoutModel",
      "state": {}
     },
     "8ac6cd9cd4e6458f8bdf9d231c4608d8": {
      "model_module": "@jupyter-widgets/controls",
      "model_module_version": "1.5.0",
      "model_name": "HTMLModel",
      "state": {
       "layout": "IPY_MODEL_9072155f86314d5b8e1bc4ea01a5304f",
       "style": "IPY_MODEL_be2acaea9eb14639977990f0a02057f8",
       "value": " 9237/9237 [17:26&lt;00:00,  8.83it/s]"
      }
     },
     "8b0f00b108f44181aa4ba53150c2775a": {
      "model_module": "@jupyter-widgets/controls",
      "model_module_version": "1.5.0",
      "model_name": "HBoxModel",
      "state": {
       "children": [
        "IPY_MODEL_8cadc8f3c54842f4a0f281132d153fea",
        "IPY_MODEL_078baf4024714113924fcd99d2bf22f7"
       ],
       "layout": "IPY_MODEL_9556c4c874cb4cca9d9c8f492c16428a"
      }
     },
     "8b535f4e79b9443d83e91e3787fbaa76": {
      "model_module": "@jupyter-widgets/controls",
      "model_module_version": "1.5.0",
      "model_name": "DescriptionStyleModel",
      "state": {
       "description_width": ""
      }
     },
     "8b61d60d43664d3b8c9abc306a8ee67f": {
      "model_module": "@jupyter-widgets/controls",
      "model_module_version": "1.5.0",
      "model_name": "HTMLModel",
      "state": {
       "layout": "IPY_MODEL_9b927adcf0ef4a5f9b73c33655dfabfe",
       "style": "IPY_MODEL_59a5c0dec0e24665a8ddc9afc3a9c550",
       "value": " 4284/4284 [10:04&lt;00:00,  7.09it/s]"
      }
     },
     "8b696c4484a54e85b9c03b02523b3dec": {
      "model_module": "@jupyter-widgets/base",
      "model_module_version": "1.2.0",
      "model_name": "LayoutModel",
      "state": {}
     },
     "8baee2437dcc43d9b22c7fa8793ca07f": {
      "model_module": "@jupyter-widgets/controls",
      "model_module_version": "1.5.0",
      "model_name": "HTMLModel",
      "state": {
       "layout": "IPY_MODEL_94b2353460eb43a78369d9f9ac4055ad",
       "style": "IPY_MODEL_9fa37d267d6d4dcdb53ef4c40232def9",
       "value": " 9237/9237 [22:26&lt;00:00,  6.86it/s]"
      }
     },
     "8bd27e740dc346c8a1580275e7594962": {
      "model_module": "@jupyter-widgets/base",
      "model_module_version": "1.2.0",
      "model_name": "LayoutModel",
      "state": {}
     },
     "8bebc388e1a84642911e2acb2d6fc331": {
      "model_module": "@jupyter-widgets/controls",
      "model_module_version": "1.5.0",
      "model_name": "FloatProgressModel",
      "state": {
       "bar_style": "success",
       "description": "100%",
       "layout": "IPY_MODEL_6fc91e015b0a47b6865af71ebcfd4783",
       "max": 21580,
       "style": "IPY_MODEL_c4eeaf77efcb4939aa73c2d1a067b747",
       "value": 21580
      }
     },
     "8bf40842e3c4406990007775f23199bb": {
      "model_module": "@jupyter-widgets/controls",
      "model_module_version": "1.5.0",
      "model_name": "ProgressStyleModel",
      "state": {
       "description_width": "initial"
      }
     },
     "8bf9ce1d4030413d851e429dceaa0a74": {
      "model_module": "@jupyter-widgets/base",
      "model_module_version": "1.2.0",
      "model_name": "LayoutModel",
      "state": {}
     },
     "8c1ca328b31349428331383f1d7e1722": {
      "model_module": "@jupyter-widgets/controls",
      "model_module_version": "1.5.0",
      "model_name": "HBoxModel",
      "state": {
       "children": [
        "IPY_MODEL_4d6f464e5dc946c99ac679ed5cf0040a",
        "IPY_MODEL_70ad32d8c061478881a8c1fd7324f8a1"
       ],
       "layout": "IPY_MODEL_6c6c3703861b4556a562ce3b3e0d64d4"
      }
     },
     "8cadc8f3c54842f4a0f281132d153fea": {
      "model_module": "@jupyter-widgets/controls",
      "model_module_version": "1.5.0",
      "model_name": "FloatProgressModel",
      "state": {
       "bar_style": "success",
       "description": "100%",
       "layout": "IPY_MODEL_2c0bbb90f9024255b5451b25f06a5846",
       "max": 1428,
       "style": "IPY_MODEL_8bf40842e3c4406990007775f23199bb",
       "value": 1428
      }
     },
     "8cae0060fae74343be9aec6e5b5e4b2f": {
      "model_module": "@jupyter-widgets/controls",
      "model_module_version": "1.5.0",
      "model_name": "FloatProgressModel",
      "state": {
       "bar_style": "success",
       "description": "100%",
       "layout": "IPY_MODEL_6d782bca12e04903b0d0bb1262a3220a",
       "max": 9237,
       "style": "IPY_MODEL_69f0d60bb43949d6a6ebe9e91cb5f4b7",
       "value": 9237
      }
     },
     "8cb293d6851f446298f8da0a23906b75": {
      "model_module": "@jupyter-widgets/base",
      "model_module_version": "1.2.0",
      "model_name": "LayoutModel",
      "state": {}
     },
     "8cde6aa69a834f819f2897afb156895d": {
      "model_module": "@jupyter-widgets/base",
      "model_module_version": "1.2.0",
      "model_name": "LayoutModel",
      "state": {}
     },
     "8ce10fdf9a1549ad90cdd03da3e043ea": {
      "model_module": "@jupyter-widgets/controls",
      "model_module_version": "1.5.0",
      "model_name": "FloatProgressModel",
      "state": {
       "bar_style": "success",
       "description": "100%",
       "layout": "IPY_MODEL_48fa27ed1b994834bf6e97b9da2578b7",
       "max": 2857,
       "style": "IPY_MODEL_e405d5e4864243748a42989e7ad70e90",
       "value": 2857
      }
     },
     "8d1ccea7fde6450fa69004b472f1b7d1": {
      "model_module": "@jupyter-widgets/controls",
      "model_module_version": "1.5.0",
      "model_name": "ProgressStyleModel",
      "state": {
       "description_width": "initial"
      }
     },
     "8d25137bee084915a27221800b7bfa91": {
      "model_module": "@jupyter-widgets/controls",
      "model_module_version": "1.5.0",
      "model_name": "FloatProgressModel",
      "state": {
       "bar_style": "success",
       "description": "100%",
       "layout": "IPY_MODEL_a5467e30a5184d7ca5fbd7ed1758bdaf",
       "max": 9237,
       "style": "IPY_MODEL_6841835448584f2591824c7c4d1a7528",
       "value": 9237
      }
     },
     "8d68e5aec10f45e8b1d8cda55e3a3ab2": {
      "model_module": "@jupyter-widgets/base",
      "model_module_version": "1.2.0",
      "model_name": "LayoutModel",
      "state": {}
     },
     "8d844ffd9f4740d09891b79deef67a9a": {
      "model_module": "@jupyter-widgets/base",
      "model_module_version": "1.2.0",
      "model_name": "LayoutModel",
      "state": {}
     },
     "8d9744ad200d489cb599d092b66e960f": {
      "model_module": "@jupyter-widgets/controls",
      "model_module_version": "1.5.0",
      "model_name": "HBoxModel",
      "state": {
       "children": [
        "IPY_MODEL_d3558239fe114228b0f33241c77891ad",
        "IPY_MODEL_128d2e52075444828e3597ef7f22c9ce"
       ],
       "layout": "IPY_MODEL_a3f1c34db933408ba24080b7853c3f1f"
      }
     },
     "8e0fbc60f5ef4b1986514a53d1cbc2fb": {
      "model_module": "@jupyter-widgets/controls",
      "model_module_version": "1.5.0",
      "model_name": "HTMLModel",
      "state": {
       "layout": "IPY_MODEL_ccc5a1f97fbe4471a882fb0284069092",
       "style": "IPY_MODEL_0daaeae68e1146c287cc979c5681575e",
       "value": " 10000/10000 [04:27&lt;00:00, 37.43it/s]"
      }
     },
     "8e2b9af7d4234869a1afc94775f757ea": {
      "model_module": "@jupyter-widgets/controls",
      "model_module_version": "1.5.0",
      "model_name": "HBoxModel",
      "state": {
       "children": [
        "IPY_MODEL_76c5bfa5b014434286aa10a71a53c2c7",
        "IPY_MODEL_cbc1275d93594cdd8ed4b061d9afd77e"
       ],
       "layout": "IPY_MODEL_3f91732b50604938bf31c4bad6dccf5e"
      }
     },
     "8e4c1871e3214e509247abb2ca0a9bc2": {
      "model_module": "@jupyter-widgets/controls",
      "model_module_version": "1.5.0",
      "model_name": "HTMLModel",
      "state": {
       "layout": "IPY_MODEL_47034d21605e4d0583f7273adf9c0ea8",
       "style": "IPY_MODEL_efa0f2fb9d15446bad998abfb48bd05d",
       "value": " 9237/9237 [18:00&lt;00:00,  8.55it/s]"
      }
     },
     "8e66880ab7ce40d5af9c662bb427cc88": {
      "model_module": "@jupyter-widgets/base",
      "model_module_version": "1.2.0",
      "model_name": "LayoutModel",
      "state": {}
     },
     "8e74c3baca7f47fd875f748837420a33": {
      "model_module": "@jupyter-widgets/controls",
      "model_module_version": "1.5.0",
      "model_name": "FloatProgressModel",
      "state": {
       "bar_style": "success",
       "description": "100%",
       "layout": "IPY_MODEL_e2a66a488b2949ee9b592fb8c0c9b03d",
       "max": 12239,
       "style": "IPY_MODEL_7786bf3fdaaf4330860345fbe432f96b",
       "value": 12239
      }
     },
     "8e784e4491664e07b731f40874b35993": {
      "model_module": "@jupyter-widgets/controls",
      "model_module_version": "1.5.0",
      "model_name": "HBoxModel",
      "state": {
       "children": [
        "IPY_MODEL_4d6c2ab2c55a4cd2b7adb12cef69f472",
        "IPY_MODEL_2d59263ade1241a3ab23ac3f61993e51"
       ],
       "layout": "IPY_MODEL_a986800a761149b39af95b8263cefe20"
      }
     },
     "8e7c14ebb3a045b4a063d26f23d32ddc": {
      "model_module": "@jupyter-widgets/controls",
      "model_module_version": "1.5.0",
      "model_name": "DescriptionStyleModel",
      "state": {
       "description_width": ""
      }
     },
     "8e91b7480309456ea621524ee83ba4e3": {
      "model_module": "@jupyter-widgets/controls",
      "model_module_version": "1.5.0",
      "model_name": "DescriptionStyleModel",
      "state": {
       "description_width": ""
      }
     },
     "8ea062f55daa4411b001d7c0524adc3e": {
      "model_module": "@jupyter-widgets/base",
      "model_module_version": "1.2.0",
      "model_name": "LayoutModel",
      "state": {}
     },
     "8f0f2a9a30334d5da1d43b09cae0bd8d": {
      "model_module": "@jupyter-widgets/controls",
      "model_module_version": "1.5.0",
      "model_name": "HTMLModel",
      "state": {
       "layout": "IPY_MODEL_ca268d2bae9e45faa817ecca72eb6454",
       "style": "IPY_MODEL_1253eb1776ab41ac8727344dfba640dc",
       "value": " 9236/9236 [15:31&lt;00:00,  9.92it/s]"
      }
     },
     "8f24b5b5120448189b986733d8b8233d": {
      "model_module": "@jupyter-widgets/base",
      "model_module_version": "1.2.0",
      "model_name": "LayoutModel",
      "state": {}
     },
     "8f2e41ba46a249019a9df250adc77e8b": {
      "model_module": "@jupyter-widgets/base",
      "model_module_version": "1.2.0",
      "model_name": "LayoutModel",
      "state": {}
     },
     "8f3fc9ade93541d29d472b21b28a598e": {
      "model_module": "@jupyter-widgets/controls",
      "model_module_version": "1.5.0",
      "model_name": "HTMLModel",
      "state": {
       "layout": "IPY_MODEL_cd78dcc86c3140d78aca7d0d487c3591",
       "style": "IPY_MODEL_6bda2e05de8d45b6bab29bf2a3c35a7f",
       "value": " 16434/16434 [00:00&lt;00:00, 161311.83it/s]"
      }
     },
     "8f4ce181ab27415aa5d445cde0f2074c": {
      "model_module": "@jupyter-widgets/controls",
      "model_module_version": "1.5.0",
      "model_name": "HBoxModel",
      "state": {
       "children": [
        "IPY_MODEL_a9598db8461b49c3a6e727276b5d0ac6",
        "IPY_MODEL_9ae5089b7e1d4d3288660a64364209ec"
       ],
       "layout": "IPY_MODEL_8477d86d717a43c2ad6f951b9df3003a"
      }
     },
     "8f562dff5e5f4c56bcc3c8dba70f599f": {
      "model_module": "@jupyter-widgets/base",
      "model_module_version": "1.2.0",
      "model_name": "LayoutModel",
      "state": {}
     },
     "8f59026f7cef49009a1cee5c0c5cc392": {
      "model_module": "@jupyter-widgets/controls",
      "model_module_version": "1.5.0",
      "model_name": "HTMLModel",
      "state": {
       "layout": "IPY_MODEL_98de7f70d91f4cf3bc9de49bde7f0785",
       "style": "IPY_MODEL_e5717688945e4bdf883fbb76be8b499d",
       "value": " 4284/4284 [10:27&lt;00:00,  6.83it/s]"
      }
     },
     "8f69e20ba36943bb9fa857ab47555f3d": {
      "model_module": "@jupyter-widgets/controls",
      "model_module_version": "1.5.0",
      "model_name": "ProgressStyleModel",
      "state": {
       "description_width": "initial"
      }
     },
     "8f9d5ccd13404090b3341f132efe1ee8": {
      "model_module": "@jupyter-widgets/controls",
      "model_module_version": "1.5.0",
      "model_name": "HTMLModel",
      "state": {
       "layout": "IPY_MODEL_6443a420452e498fae20828d683c636c",
       "style": "IPY_MODEL_8a3034cc56bf46f2b896508d809c226a",
       "value": " 9236/9236 [11:55&lt;00:00, 12.90it/s]"
      }
     },
     "8fc5815c1a9243c5a775dff67580e0a2": {
      "model_module": "@jupyter-widgets/controls",
      "model_module_version": "1.5.0",
      "model_name": "HTMLModel",
      "state": {
       "layout": "IPY_MODEL_af586e1d85cf42e7afdaa25b7e649f3f",
       "style": "IPY_MODEL_588f21a149474d6a88598bcdf6f4d229",
       "value": " 9236/9236 [00:34&lt;00:00, 266.30it/s]"
      }
     },
     "8fde0c16b7184425b14ba0709ffe4bc4": {
      "model_module": "@jupyter-widgets/controls",
      "model_module_version": "1.5.0",
      "model_name": "DescriptionStyleModel",
      "state": {
       "description_width": ""
      }
     },
     "8ff0b323624642d595a409aa9ee085a0": {
      "model_module": "@jupyter-widgets/controls",
      "model_module_version": "1.5.0",
      "model_name": "ProgressStyleModel",
      "state": {
       "description_width": "initial"
      }
     },
     "8ffa8882e76140f6b4eed7753bf8be10": {
      "model_module": "@jupyter-widgets/base",
      "model_module_version": "1.2.0",
      "model_name": "LayoutModel",
      "state": {}
     },
     "90121fdb1e2b467a833e61c41c486070": {
      "model_module": "@jupyter-widgets/controls",
      "model_module_version": "1.5.0",
      "model_name": "HBoxModel",
      "state": {
       "children": [
        "IPY_MODEL_7deca11e7ba44daba9a5c220c196a424",
        "IPY_MODEL_e1b4b9dedeea4693984a9a65a20aa246"
       ],
       "layout": "IPY_MODEL_9bf95bdaff4e4c59b09ab01738a3564a"
      }
     },
     "90164402a8d84e649343b37266758cad": {
      "model_module": "@jupyter-widgets/base",
      "model_module_version": "1.2.0",
      "model_name": "LayoutModel",
      "state": {}
     },
     "906ea11aed874f2d9dbb5286b31ad0f9": {
      "model_module": "@jupyter-widgets/controls",
      "model_module_version": "1.5.0",
      "model_name": "DescriptionStyleModel",
      "state": {
       "description_width": ""
      }
     },
     "9072155f86314d5b8e1bc4ea01a5304f": {
      "model_module": "@jupyter-widgets/base",
      "model_module_version": "1.2.0",
      "model_name": "LayoutModel",
      "state": {}
     },
     "9072572b4bce45549fedb77a009a6433": {
      "model_module": "@jupyter-widgets/base",
      "model_module_version": "1.2.0",
      "model_name": "LayoutModel",
      "state": {}
     },
     "911efc1f8fdf47ea9f3f4a38dbb18f0d": {
      "model_module": "@jupyter-widgets/controls",
      "model_module_version": "1.5.0",
      "model_name": "ProgressStyleModel",
      "state": {
       "description_width": "initial"
      }
     },
     "913776a034d84a54a9ac591627ef2771": {
      "model_module": "@jupyter-widgets/controls",
      "model_module_version": "1.5.0",
      "model_name": "HBoxModel",
      "state": {
       "children": [
        "IPY_MODEL_305a9364810543f49b01578c8fa03d28",
        "IPY_MODEL_d249a08d79e74f658468d60ea98c32ca"
       ],
       "layout": "IPY_MODEL_ec96f0603abc443cabfb4b29b7b4a22e"
      }
     },
     "91851b515ed943c7ab631c0e863bda4a": {
      "model_module": "@jupyter-widgets/controls",
      "model_module_version": "1.5.0",
      "model_name": "FloatProgressModel",
      "state": {
       "bar_style": "success",
       "description": "100%",
       "layout": "IPY_MODEL_8bf9ce1d4030413d851e429dceaa0a74",
       "max": 4285,
       "style": "IPY_MODEL_54fb804496ac47c69c0474e95bf01946",
       "value": 4285
      }
     },
     "91c1929697a7487ab094b23dca9ce645": {
      "model_module": "@jupyter-widgets/controls",
      "model_module_version": "1.5.0",
      "model_name": "ProgressStyleModel",
      "state": {
       "description_width": "initial"
      }
     },
     "91ef54d0de9347a4b6e7af526c312038": {
      "model_module": "@jupyter-widgets/base",
      "model_module_version": "1.2.0",
      "model_name": "LayoutModel",
      "state": {}
     },
     "921388f1d23d45aca28d9b9f09dd8abf": {
      "model_module": "@jupyter-widgets/controls",
      "model_module_version": "1.5.0",
      "model_name": "FloatProgressModel",
      "state": {
       "bar_style": "success",
       "description": "100%",
       "layout": "IPY_MODEL_e947d208725e4f7b8b43a60d634637ea",
       "max": 9237,
       "style": "IPY_MODEL_aa2d1e1aba7f47a684c76727a76b123b",
       "value": 9237
      }
     },
     "9271582a50e84c1caa40fcc2eac88c22": {
      "model_module": "@jupyter-widgets/controls",
      "model_module_version": "1.5.0",
      "model_name": "FloatProgressModel",
      "state": {
       "bar_style": "success",
       "description": "100%",
       "layout": "IPY_MODEL_1dced9c3779e4538aef57428157009ab",
       "max": 9236,
       "style": "IPY_MODEL_0d1c70a84f544088bcde6ca52da8cfdb",
       "value": 9236
      }
     },
     "929dd16a6f2d4d1d8d3e4f306ef13c62": {
      "model_module": "@jupyter-widgets/base",
      "model_module_version": "1.2.0",
      "model_name": "LayoutModel",
      "state": {}
     },
     "92a73ccd1a3f4dc4932fc4c3a9aaa915": {
      "model_module": "@jupyter-widgets/controls",
      "model_module_version": "1.5.0",
      "model_name": "HBoxModel",
      "state": {
       "children": [
        "IPY_MODEL_1e38fc6f3f034598a54e53f0e83b556f",
        "IPY_MODEL_f7d7a3aa1b514ef280a9de665b6ef88d"
       ],
       "layout": "IPY_MODEL_a2bbeb0b03dd47a9b496441b4f70c4b2"
      }
     },
     "92ac244bfe8a4920b41da0f105e4f750": {
      "model_module": "@jupyter-widgets/base",
      "model_module_version": "1.2.0",
      "model_name": "LayoutModel",
      "state": {}
     },
     "93a8162623f24a1ebf1340294fb1a0ac": {
      "model_module": "@jupyter-widgets/controls",
      "model_module_version": "1.5.0",
      "model_name": "HTMLModel",
      "state": {
       "layout": "IPY_MODEL_89bb51a48b3d4e2f85b8989ff14e82d4",
       "style": "IPY_MODEL_0def2caca93246529a2df5be8f9eb625",
       "value": " 1428/1428 [03:24&lt;00:00,  6.99it/s]"
      }
     },
     "93c0131a44234038b8f12cd8e49123d4": {
      "model_module": "@jupyter-widgets/controls",
      "model_module_version": "1.5.0",
      "model_name": "FloatProgressModel",
      "state": {
       "bar_style": "success",
       "description": "100%",
       "layout": "IPY_MODEL_80a67b0c11da4bd18e0dabb5e74d453a",
       "max": 1428,
       "style": "IPY_MODEL_e9e8625075d24cf29e3987cff51dcfce",
       "value": 1428
      }
     },
     "93d402b285804af48c5fe571adff8d3d": {
      "model_module": "@jupyter-widgets/controls",
      "model_module_version": "1.5.0",
      "model_name": "DescriptionStyleModel",
      "state": {
       "description_width": ""
      }
     },
     "93dbc2f9db7349f7a7683e5537247f32": {
      "model_module": "@jupyter-widgets/base",
      "model_module_version": "1.2.0",
      "model_name": "LayoutModel",
      "state": {}
     },
     "941d0c8dc89d4698b36ca9051edcd821": {
      "model_module": "@jupyter-widgets/controls",
      "model_module_version": "1.5.0",
      "model_name": "HBoxModel",
      "state": {
       "children": [
        "IPY_MODEL_826b33b3189f43459e3354a21ac5dc72",
        "IPY_MODEL_2f879da3c37841bdac137d4f81f37d99"
       ],
       "layout": "IPY_MODEL_78989bff66ee4ad1b7381695a493c5ad"
      }
     },
     "94271898e535459d83a2ecbae4e454a1": {
      "model_module": "@jupyter-widgets/base",
      "model_module_version": "1.2.0",
      "model_name": "LayoutModel",
      "state": {}
     },
     "944912aa79094ed394938ac7e6d7889b": {
      "model_module": "@jupyter-widgets/base",
      "model_module_version": "1.2.0",
      "model_name": "LayoutModel",
      "state": {}
     },
     "944d9554acb44e1cbcba8b474293fef7": {
      "model_module": "@jupyter-widgets/base",
      "model_module_version": "1.2.0",
      "model_name": "LayoutModel",
      "state": {}
     },
     "9464a5a1e4a04457915ed9dead8c5295": {
      "model_module": "@jupyter-widgets/base",
      "model_module_version": "1.2.0",
      "model_name": "LayoutModel",
      "state": {}
     },
     "9470c5e1ba52456190b4dfdee38d26e4": {
      "model_module": "@jupyter-widgets/controls",
      "model_module_version": "1.5.0",
      "model_name": "FloatProgressModel",
      "state": {
       "bar_style": "success",
       "description": "100%",
       "layout": "IPY_MODEL_51d1cb32dcb34635a94a3c5590cce270",
       "max": 9237,
       "style": "IPY_MODEL_0acb1b05b2e94be49271e03638b32854",
       "value": 9237
      }
     },
     "947fda7cbcc24a6cb6d652783b95d5b4": {
      "model_module": "@jupyter-widgets/controls",
      "model_module_version": "1.5.0",
      "model_name": "ProgressStyleModel",
      "state": {
       "description_width": "initial"
      }
     },
     "94949b06ac634c5a8789c638268d57b0": {
      "model_module": "@jupyter-widgets/base",
      "model_module_version": "1.2.0",
      "model_name": "LayoutModel",
      "state": {}
     },
     "94a3ceb039e8446a9ced399f3e6da1a9": {
      "model_module": "@jupyter-widgets/controls",
      "model_module_version": "1.5.0",
      "model_name": "ProgressStyleModel",
      "state": {
       "description_width": "initial"
      }
     },
     "94b2353460eb43a78369d9f9ac4055ad": {
      "model_module": "@jupyter-widgets/base",
      "model_module_version": "1.2.0",
      "model_name": "LayoutModel",
      "state": {}
     },
     "951786ed8aab48baa6160826814ad6c8": {
      "model_module": "@jupyter-widgets/base",
      "model_module_version": "1.2.0",
      "model_name": "LayoutModel",
      "state": {}
     },
     "951b42756e37427480cdbb2d3ed20dbd": {
      "model_module": "@jupyter-widgets/controls",
      "model_module_version": "1.5.0",
      "model_name": "DescriptionStyleModel",
      "state": {
       "description_width": ""
      }
     },
     "953e6e86308c4b67af68268d83c6d555": {
      "model_module": "@jupyter-widgets/controls",
      "model_module_version": "1.5.0",
      "model_name": "FloatProgressModel",
      "state": {
       "bar_style": "success",
       "description": "100%",
       "layout": "IPY_MODEL_66123a0542db48ab8c54303dbe1b2afe",
       "max": 9237,
       "style": "IPY_MODEL_e00ea2de93a84552b50efd1b389742b0",
       "value": 9237
      }
     },
     "9556c4c874cb4cca9d9c8f492c16428a": {
      "model_module": "@jupyter-widgets/base",
      "model_module_version": "1.2.0",
      "model_name": "LayoutModel",
      "state": {}
     },
     "9576558948074639a60e2029d9734be2": {
      "model_module": "@jupyter-widgets/base",
      "model_module_version": "1.2.0",
      "model_name": "LayoutModel",
      "state": {}
     },
     "957e6361f6a44ba090c83682a525d99f": {
      "model_module": "@jupyter-widgets/base",
      "model_module_version": "1.2.0",
      "model_name": "LayoutModel",
      "state": {}
     },
     "95b960a365444312816d3e9fe246571b": {
      "model_module": "@jupyter-widgets/base",
      "model_module_version": "1.2.0",
      "model_name": "LayoutModel",
      "state": {}
     },
     "95d7863bc47c4a4da13a8c30223327b7": {
      "model_module": "@jupyter-widgets/controls",
      "model_module_version": "1.5.0",
      "model_name": "HBoxModel",
      "state": {
       "children": [
        "IPY_MODEL_098b8a49f59641fbabf4365b32f1fa11",
        "IPY_MODEL_8baee2437dcc43d9b22c7fa8793ca07f"
       ],
       "layout": "IPY_MODEL_8f562dff5e5f4c56bcc3c8dba70f599f"
      }
     },
     "95fc3d9cf367463fba40681efe572b7e": {
      "model_module": "@jupyter-widgets/base",
      "model_module_version": "1.2.0",
      "model_name": "LayoutModel",
      "state": {}
     },
     "9667fbbc97ab402d94c7f3c201e386b1": {
      "model_module": "@jupyter-widgets/controls",
      "model_module_version": "1.5.0",
      "model_name": "ProgressStyleModel",
      "state": {
       "description_width": "initial"
      }
     },
     "96bf99cc4c854af3b86d18e6b7b08949": {
      "model_module": "@jupyter-widgets/controls",
      "model_module_version": "1.5.0",
      "model_name": "FloatProgressModel",
      "state": {
       "bar_style": "success",
       "description": "100%",
       "layout": "IPY_MODEL_4c180019e14e4543a6afd338c6823a44",
       "max": 9237,
       "style": "IPY_MODEL_898fa3cd4983479288e739b3b079fd10",
       "value": 9237
      }
     },
     "96dc57b9edc744bb89f29d06666898d6": {
      "model_module": "@jupyter-widgets/controls",
      "model_module_version": "1.5.0",
      "model_name": "DescriptionStyleModel",
      "state": {
       "description_width": ""
      }
     },
     "971b28c52e224b9790b9235a46dce9dd": {
      "model_module": "@jupyter-widgets/base",
      "model_module_version": "1.2.0",
      "model_name": "LayoutModel",
      "state": {}
     },
     "9734bc4b3e0b45ac8fe4da3d0d843583": {
      "model_module": "@jupyter-widgets/base",
      "model_module_version": "1.2.0",
      "model_name": "LayoutModel",
      "state": {}
     },
     "973938b23c5942a8b75e01c404cd8f93": {
      "model_module": "@jupyter-widgets/controls",
      "model_module_version": "1.5.0",
      "model_name": "HTMLModel",
      "state": {
       "layout": "IPY_MODEL_6f673e974d56400aa9ece1f9151e733d",
       "style": "IPY_MODEL_5cfa574c9fdb445fadd29186c57b98ab",
       "value": " 9237/9237 [00:30&lt;00:00, 303.27it/s]"
      }
     },
     "976acc53f88248d3b5ae33fa4774e54a": {
      "model_module": "@jupyter-widgets/base",
      "model_module_version": "1.2.0",
      "model_name": "LayoutModel",
      "state": {}
     },
     "97734ea8b7524193910472bf30c9bb56": {
      "model_module": "@jupyter-widgets/controls",
      "model_module_version": "1.5.0",
      "model_name": "HBoxModel",
      "state": {
       "children": [
        "IPY_MODEL_03cb851523da4efeaf21f5e55defae4c",
        "IPY_MODEL_8fc5815c1a9243c5a775dff67580e0a2"
       ],
       "layout": "IPY_MODEL_401a4094e8914dd1bb1c94955bce3a73"
      }
     },
     "97a78cacbfbd4e2d82415396c425fb11": {
      "model_module": "@jupyter-widgets/controls",
      "model_module_version": "1.5.0",
      "model_name": "HTMLModel",
      "state": {
       "layout": "IPY_MODEL_b2ea252f264147ba8ca8d24b6441ccf5",
       "style": "IPY_MODEL_b0c60e0d1863477f894cb672400bd736",
       "value": " 3570/3570 [08:13&lt;00:00,  7.23it/s]"
      }
     },
     "97ec0dd756e74344b7af4457bf885877": {
      "model_module": "@jupyter-widgets/controls",
      "model_module_version": "1.5.0",
      "model_name": "HBoxModel",
      "state": {
       "children": [
        "IPY_MODEL_554cad64efc64d818cf2f36a31fc205f",
        "IPY_MODEL_db8cffa45f074dcc95f8f6b3ad1a5f3c"
       ],
       "layout": "IPY_MODEL_7ce02bad7f2349919a5d9fcd13b2f414"
      }
     },
     "97f648ea1e4f4b83aefb6feff5a8ef91": {
      "model_module": "@jupyter-widgets/controls",
      "model_module_version": "1.5.0",
      "model_name": "HTMLModel",
      "state": {
       "layout": "IPY_MODEL_a0bd9e711a7e48ddadabe327d8e6c0b0",
       "style": "IPY_MODEL_44e5d23dff8a4cc7a7d35307f2df4ba3",
       "value": " 9236/9236 [10:46&lt;00:00, 14.29it/s]"
      }
     },
     "98024df131b84d42a005ad3d6ccb90d3": {
      "model_module": "@jupyter-widgets/controls",
      "model_module_version": "1.5.0",
      "model_name": "HBoxModel",
      "state": {
       "children": [
        "IPY_MODEL_e9864c75511d43b59d675a883ae8e74c",
        "IPY_MODEL_aa8dbc82aafa494c9d46dadf60b6c80f"
       ],
       "layout": "IPY_MODEL_ae7951e0883a4c118d906a696a4267a8"
      }
     },
     "9838ebc2fac74fa6aac4c93f5e82fdb2": {
      "model_module": "@jupyter-widgets/base",
      "model_module_version": "1.2.0",
      "model_name": "LayoutModel",
      "state": {}
     },
     "989c56928fe745b6b6405b2f14562946": {
      "model_module": "@jupyter-widgets/controls",
      "model_module_version": "1.5.0",
      "model_name": "ProgressStyleModel",
      "state": {
       "description_width": "initial"
      }
     },
     "98de7f70d91f4cf3bc9de49bde7f0785": {
      "model_module": "@jupyter-widgets/base",
      "model_module_version": "1.2.0",
      "model_name": "LayoutModel",
      "state": {}
     },
     "9998db3210ef48cf9b8fa83dcc680792": {
      "model_module": "@jupyter-widgets/base",
      "model_module_version": "1.2.0",
      "model_name": "LayoutModel",
      "state": {}
     },
     "99aaa981f4954fe1b7ecc04efd7a9dc7": {
      "model_module": "@jupyter-widgets/base",
      "model_module_version": "1.2.0",
      "model_name": "LayoutModel",
      "state": {}
     },
     "99b04459dd5647dcb86fd4f9d70db4e5": {
      "model_module": "@jupyter-widgets/base",
      "model_module_version": "1.2.0",
      "model_name": "LayoutModel",
      "state": {}
     },
     "99e5534ef8da4f3394ec0e2fe1fa11ca": {
      "model_module": "@jupyter-widgets/base",
      "model_module_version": "1.2.0",
      "model_name": "LayoutModel",
      "state": {}
     },
     "9a22d2dde8d34b86a67f8a48e9599e1c": {
      "model_module": "@jupyter-widgets/base",
      "model_module_version": "1.2.0",
      "model_name": "LayoutModel",
      "state": {}
     },
     "9a550998cb6f437db44512e1d75540a4": {
      "model_module": "@jupyter-widgets/controls",
      "model_module_version": "1.5.0",
      "model_name": "HBoxModel",
      "state": {
       "children": [
        "IPY_MODEL_bdae9b37c20342ccbcf23981dbfa1805",
        "IPY_MODEL_d1621128d4d14291b299bfc36d0ca144"
       ],
       "layout": "IPY_MODEL_0e576b3b9c044347b25e40a092cf3e2c"
      }
     },
     "9a5d9ba662914c649cc15e8cf96ad6cf": {
      "model_module": "@jupyter-widgets/controls",
      "model_module_version": "1.5.0",
      "model_name": "ProgressStyleModel",
      "state": {
       "description_width": "initial"
      }
     },
     "9a72c99943ee4cd3941f70bc4d695e5e": {
      "model_module": "@jupyter-widgets/base",
      "model_module_version": "1.2.0",
      "model_name": "LayoutModel",
      "state": {}
     },
     "9a85b8027fa84f799cfc2d8097f803d6": {
      "model_module": "@jupyter-widgets/controls",
      "model_module_version": "1.5.0",
      "model_name": "HTMLModel",
      "state": {
       "layout": "IPY_MODEL_6fa17d34e06044528404251cbe8b541a",
       "style": "IPY_MODEL_1e0f3b4f83d34e608cd13fc49fc5f402",
       "value": " 25473/25473 [00:00&lt;00:00, 79221.66it/s]"
      }
     },
     "9abce92854794b60aaa54a39c0fd5926": {
      "model_module": "@jupyter-widgets/controls",
      "model_module_version": "1.5.0",
      "model_name": "FloatProgressModel",
      "state": {
       "bar_style": "success",
       "description": "100%",
       "layout": "IPY_MODEL_b58fa35920f74f2383a495b4991d4d94",
       "max": 9236,
       "style": "IPY_MODEL_5f59c3019a5442c89c83f909678d8c9c",
       "value": 9236
      }
     },
     "9ad25ee36c67498ba7212cfef3a2cf5e": {
      "model_module": "@jupyter-widgets/controls",
      "model_module_version": "1.5.0",
      "model_name": "FloatProgressModel",
      "state": {
       "bar_style": "success",
       "description": "100%",
       "layout": "IPY_MODEL_1d0c853450e84441b9a5ecb973b6d625",
       "max": 9237,
       "style": "IPY_MODEL_270d6cd1c5fb4b82aeb76e780db12ed9",
       "value": 9237
      }
     },
     "9ae5089b7e1d4d3288660a64364209ec": {
      "model_module": "@jupyter-widgets/controls",
      "model_module_version": "1.5.0",
      "model_name": "HTMLModel",
      "state": {
       "layout": "IPY_MODEL_9e9bfbe5813c49b5b555f392e270f747",
       "style": "IPY_MODEL_071b5482783841f59aa44abf39d830a0",
       "value": " 9237/9237 [18:21&lt;00:00,  8.39it/s]"
      }
     },
     "9b16cf1f091a4256851803fb24fbbd41": {
      "model_module": "@jupyter-widgets/controls",
      "model_module_version": "1.5.0",
      "model_name": "DescriptionStyleModel",
      "state": {
       "description_width": ""
      }
     },
     "9b2dc8041cfe4e4580b49624971d5cc1": {
      "model_module": "@jupyter-widgets/controls",
      "model_module_version": "1.5.0",
      "model_name": "ProgressStyleModel",
      "state": {
       "description_width": "initial"
      }
     },
     "9b3001211d9443648e723048c95fcc1f": {
      "model_module": "@jupyter-widgets/controls",
      "model_module_version": "1.5.0",
      "model_name": "HTMLModel",
      "state": {
       "layout": "IPY_MODEL_44b3f31a552141809995f43a69cc0cd1",
       "style": "IPY_MODEL_d24b0d1587c44a1192661aaacb98e4c3",
       "value": " 9236/9236 [17:30&lt;00:00,  8.79it/s]"
      }
     },
     "9b7cef973578419ea73696e78fd1e664": {
      "model_module": "@jupyter-widgets/controls",
      "model_module_version": "1.5.0",
      "model_name": "DescriptionStyleModel",
      "state": {
       "description_width": ""
      }
     },
     "9b927adcf0ef4a5f9b73c33655dfabfe": {
      "model_module": "@jupyter-widgets/base",
      "model_module_version": "1.2.0",
      "model_name": "LayoutModel",
      "state": {}
     },
     "9bb259ac141240dd9f9fc9dbd43f902d": {
      "model_module": "@jupyter-widgets/controls",
      "model_module_version": "1.5.0",
      "model_name": "HBoxModel",
      "state": {
       "children": [
        "IPY_MODEL_03c8a58424f743599093bd51330fd179",
        "IPY_MODEL_8f9d5ccd13404090b3341f132efe1ee8"
       ],
       "layout": "IPY_MODEL_70c57cde81284d14af1bdc2626949bd0"
      }
     },
     "9bb2943e99e14a82b0353a0036b3a1ca": {
      "model_module": "@jupyter-widgets/base",
      "model_module_version": "1.2.0",
      "model_name": "LayoutModel",
      "state": {}
     },
     "9bdd5b9425cf4de1b69d9cb7723a5569": {
      "model_module": "@jupyter-widgets/controls",
      "model_module_version": "1.5.0",
      "model_name": "ProgressStyleModel",
      "state": {
       "description_width": "initial"
      }
     },
     "9bee375b0b144549b92f6dd0c5b721b1": {
      "model_module": "@jupyter-widgets/controls",
      "model_module_version": "1.5.0",
      "model_name": "ProgressStyleModel",
      "state": {
       "description_width": "initial"
      }
     },
     "9bf95bdaff4e4c59b09ab01738a3564a": {
      "model_module": "@jupyter-widgets/base",
      "model_module_version": "1.2.0",
      "model_name": "LayoutModel",
      "state": {}
     },
     "9c0c0dcb06e641c0b2d7889dc319e41f": {
      "model_module": "@jupyter-widgets/base",
      "model_module_version": "1.2.0",
      "model_name": "LayoutModel",
      "state": {}
     },
     "9c5b90a80455489090d0933e2b4cdcb7": {
      "model_module": "@jupyter-widgets/controls",
      "model_module_version": "1.5.0",
      "model_name": "ProgressStyleModel",
      "state": {
       "description_width": "initial"
      }
     },
     "9d356eccc01149a0acdd7e0062dc4557": {
      "model_module": "@jupyter-widgets/base",
      "model_module_version": "1.2.0",
      "model_name": "LayoutModel",
      "state": {}
     },
     "9d5277d7d588414cb10715d8218d053e": {
      "model_module": "@jupyter-widgets/controls",
      "model_module_version": "1.5.0",
      "model_name": "DescriptionStyleModel",
      "state": {
       "description_width": ""
      }
     },
     "9d535ec60d2f4dd2a192c0de521adfda": {
      "model_module": "@jupyter-widgets/controls",
      "model_module_version": "1.5.0",
      "model_name": "FloatProgressModel",
      "state": {
       "bar_style": "success",
       "description": "100%",
       "layout": "IPY_MODEL_ed896f254cef4fe5a56588be2bbe38b6",
       "max": 9237,
       "style": "IPY_MODEL_d5f6400b4bd44f8fa9fd1bd712c2a180",
       "value": 9237
      }
     },
     "9df4166798384c2594cbb3ac7a3093be": {
      "model_module": "@jupyter-widgets/controls",
      "model_module_version": "1.5.0",
      "model_name": "FloatProgressModel",
      "state": {
       "bar_style": "success",
       "description": "100%",
       "layout": "IPY_MODEL_262fb6603dc04b3f95a9ad4ecf272501",
       "max": 9152,
       "style": "IPY_MODEL_5a51731cec7c4502a0d183a49cec4992",
       "value": 9152
      }
     },
     "9e147fe205cb4b93b84340c2e33273bf": {
      "model_module": "@jupyter-widgets/base",
      "model_module_version": "1.2.0",
      "model_name": "LayoutModel",
      "state": {}
     },
     "9e17d1c9f10d4a75b3de2217805edb42": {
      "model_module": "@jupyter-widgets/base",
      "model_module_version": "1.2.0",
      "model_name": "LayoutModel",
      "state": {}
     },
     "9e18b9c5988a4926a8060e3d39a403b3": {
      "model_module": "@jupyter-widgets/base",
      "model_module_version": "1.2.0",
      "model_name": "LayoutModel",
      "state": {}
     },
     "9e44d572ca6f46d6919db525e79a16b8": {
      "model_module": "@jupyter-widgets/controls",
      "model_module_version": "1.5.0",
      "model_name": "FloatProgressModel",
      "state": {
       "bar_style": "success",
       "description": "100%",
       "layout": "IPY_MODEL_35c38573d66b40548e2f618a9caaaa3d",
       "max": 9237,
       "style": "IPY_MODEL_94a3ceb039e8446a9ced399f3e6da1a9",
       "value": 9237
      }
     },
     "9e472c8c1e6a4119942cfde5d247bbf9": {
      "model_module": "@jupyter-widgets/controls",
      "model_module_version": "1.5.0",
      "model_name": "HTMLModel",
      "state": {
       "layout": "IPY_MODEL_69e7f960ff5243a3bc9797e0ecae309a",
       "style": "IPY_MODEL_c64f20d01dde496db44b5da8c897c0e9",
       "value": " 24993/24993 [00:03&lt;00:00, 7328.06it/s]"
      }
     },
     "9e654c01ff1549e0b5ca7d4da2d1f68b": {
      "model_module": "@jupyter-widgets/controls",
      "model_module_version": "1.5.0",
      "model_name": "FloatProgressModel",
      "state": {
       "bar_style": "success",
       "description": "100%",
       "layout": "IPY_MODEL_3400601ee5ac44aa9cc87dbc7378b2c5",
       "max": 9237,
       "style": "IPY_MODEL_cd35ea0b38254a34a58228e6a5461fce",
       "value": 9237
      }
     },
     "9e66853dd2264020bd15747fc8334846": {
      "model_module": "@jupyter-widgets/base",
      "model_module_version": "1.2.0",
      "model_name": "LayoutModel",
      "state": {}
     },
     "9e9bfbe5813c49b5b555f392e270f747": {
      "model_module": "@jupyter-widgets/base",
      "model_module_version": "1.2.0",
      "model_name": "LayoutModel",
      "state": {}
     },
     "9e9f8de0808841c3b84ba0c103edb87c": {
      "model_module": "@jupyter-widgets/base",
      "model_module_version": "1.2.0",
      "model_name": "LayoutModel",
      "state": {}
     },
     "9ef21e40c73f4846ac335dec21b01b67": {
      "model_module": "@jupyter-widgets/controls",
      "model_module_version": "1.5.0",
      "model_name": "ProgressStyleModel",
      "state": {
       "description_width": "initial"
      }
     },
     "9fa37d267d6d4dcdb53ef4c40232def9": {
      "model_module": "@jupyter-widgets/controls",
      "model_module_version": "1.5.0",
      "model_name": "DescriptionStyleModel",
      "state": {
       "description_width": ""
      }
     },
     "9fb274fc9d664e72b0972b793f0b7844": {
      "model_module": "@jupyter-widgets/controls",
      "model_module_version": "1.5.0",
      "model_name": "DescriptionStyleModel",
      "state": {
       "description_width": ""
      }
     },
     "9fc23692b7cc429ea681e37555908f50": {
      "model_module": "@jupyter-widgets/controls",
      "model_module_version": "1.5.0",
      "model_name": "FloatProgressModel",
      "state": {
       "bar_style": "success",
       "description": "100%",
       "layout": "IPY_MODEL_a385aa419f55447e818a7e7e847cb87b",
       "max": 9237,
       "style": "IPY_MODEL_68e66538dcc8470989d2d977bd66753c",
       "value": 9237
      }
     },
     "9fddd03b0add4553be00077805547d21": {
      "model_module": "@jupyter-widgets/base",
      "model_module_version": "1.2.0",
      "model_name": "LayoutModel",
      "state": {}
     },
     "9ff9bd2173be47dfb6e9cfab78c1bc48": {
      "model_module": "@jupyter-widgets/controls",
      "model_module_version": "1.5.0",
      "model_name": "DescriptionStyleModel",
      "state": {
       "description_width": ""
      }
     },
     "a0061a910877447480d3b4178d7d626d": {
      "model_module": "@jupyter-widgets/base",
      "model_module_version": "1.2.0",
      "model_name": "LayoutModel",
      "state": {}
     },
     "a0129b3df49a4566b10a362cce9229d9": {
      "model_module": "@jupyter-widgets/base",
      "model_module_version": "1.2.0",
      "model_name": "LayoutModel",
      "state": {}
     },
     "a016e4a6fe7f40158b959db6a72e8d70": {
      "model_module": "@jupyter-widgets/controls",
      "model_module_version": "1.5.0",
      "model_name": "FloatProgressModel",
      "state": {
       "bar_style": "success",
       "description": "100%",
       "layout": "IPY_MODEL_9072572b4bce45549fedb77a009a6433",
       "max": 9237,
       "style": "IPY_MODEL_fb9d45ee973e470a955e8c41fd284d5f",
       "value": 9237
      }
     },
     "a09d474c46a94a91bae01729f9aec05d": {
      "model_module": "@jupyter-widgets/base",
      "model_module_version": "1.2.0",
      "model_name": "LayoutModel",
      "state": {}
     },
     "a0a81981f12d4e118cf838851029a13c": {
      "model_module": "@jupyter-widgets/base",
      "model_module_version": "1.2.0",
      "model_name": "LayoutModel",
      "state": {}
     },
     "a0bd9e711a7e48ddadabe327d8e6c0b0": {
      "model_module": "@jupyter-widgets/base",
      "model_module_version": "1.2.0",
      "model_name": "LayoutModel",
      "state": {}
     },
     "a0debfa0becb44f59fc5bc3cd3a795a9": {
      "model_module": "@jupyter-widgets/controls",
      "model_module_version": "1.5.0",
      "model_name": "ProgressStyleModel",
      "state": {
       "description_width": "initial"
      }
     },
     "a0fc6badd30c409ab40268546412877f": {
      "model_module": "@jupyter-widgets/base",
      "model_module_version": "1.2.0",
      "model_name": "LayoutModel",
      "state": {}
     },
     "a1965d72f7544a8c90695534f7ee7028": {
      "model_module": "@jupyter-widgets/controls",
      "model_module_version": "1.5.0",
      "model_name": "ProgressStyleModel",
      "state": {
       "description_width": "initial"
      }
     },
     "a1b8e3ee5a6541a7b3105273e0cd5c1d": {
      "model_module": "@jupyter-widgets/base",
      "model_module_version": "1.2.0",
      "model_name": "LayoutModel",
      "state": {}
     },
     "a21f0adda504430f92d90d16af9d7839": {
      "model_module": "@jupyter-widgets/base",
      "model_module_version": "1.2.0",
      "model_name": "LayoutModel",
      "state": {}
     },
     "a22ee07931d742168ae60a62e9e94371": {
      "model_module": "@jupyter-widgets/controls",
      "model_module_version": "1.5.0",
      "model_name": "DescriptionStyleModel",
      "state": {
       "description_width": ""
      }
     },
     "a2722d2518d54c8d8900905a8bd12f11": {
      "model_module": "@jupyter-widgets/controls",
      "model_module_version": "1.5.0",
      "model_name": "HBoxModel",
      "state": {
       "children": [
        "IPY_MODEL_8d25137bee084915a27221800b7bfa91",
        "IPY_MODEL_e2b8921bacff4669842ab2ebe5029f37"
       ],
       "layout": "IPY_MODEL_e4dc9ba7766046d984239b2144469e8b"
      }
     },
     "a2a7b6a491ff4e29aebace286b609079": {
      "model_module": "@jupyter-widgets/controls",
      "model_module_version": "1.5.0",
      "model_name": "HTMLModel",
      "state": {
       "layout": "IPY_MODEL_e8e6d4443c6046eb8f733b156bd3292d",
       "style": "IPY_MODEL_fb2e0b3d2d2742969e9128e74a5e3333",
       "value": " 9237/9237 [15:13&lt;00:00, 10.11it/s]"
      }
     },
     "a2ba3d627a94416ca8f1c3f9ef22e166": {
      "model_module": "@jupyter-widgets/controls",
      "model_module_version": "1.5.0",
      "model_name": "FloatProgressModel",
      "state": {
       "bar_style": "success",
       "description": "100%",
       "layout": "IPY_MODEL_6fcc1f3440d147e39d16139b535a73e5",
       "max": 9237,
       "style": "IPY_MODEL_d39f8d2041ba430a8ceb2ff7e0dc3ff3",
       "value": 9237
      }
     },
     "a2bbeb0b03dd47a9b496441b4f70c4b2": {
      "model_module": "@jupyter-widgets/base",
      "model_module_version": "1.2.0",
      "model_name": "LayoutModel",
      "state": {}
     },
     "a2f44c58a00a4d2da3ec789f25c9d9cb": {
      "model_module": "@jupyter-widgets/base",
      "model_module_version": "1.2.0",
      "model_name": "LayoutModel",
      "state": {}
     },
     "a33ce9713d99486e857a1c7c058af9f1": {
      "model_module": "@jupyter-widgets/controls",
      "model_module_version": "1.5.0",
      "model_name": "ProgressStyleModel",
      "state": {
       "description_width": "initial"
      }
     },
     "a37b898863ac44ebaf3692784d581086": {
      "model_module": "@jupyter-widgets/controls",
      "model_module_version": "1.5.0",
      "model_name": "FloatProgressModel",
      "state": {
       "bar_style": "success",
       "description": "100%",
       "layout": "IPY_MODEL_805fa37d20b0434280e10560b4769c0c",
       "max": 9236,
       "style": "IPY_MODEL_6d28ef3102614666b40759f8e7fc54b4",
       "value": 9236
      }
     },
     "a37d0d05bf444cd6a1834839e1adee8a": {
      "model_module": "@jupyter-widgets/base",
      "model_module_version": "1.2.0",
      "model_name": "LayoutModel",
      "state": {}
     },
     "a383f828847c47f09ff929cdf5c7efee": {
      "model_module": "@jupyter-widgets/controls",
      "model_module_version": "1.5.0",
      "model_name": "HTMLModel",
      "state": {
       "layout": "IPY_MODEL_4f0ff20e2bda43f3b1d706cb5d47f8ba",
       "style": "IPY_MODEL_7e074e370d8243dab3713c27c951643a",
       "value": " 9237/9237 [00:28&lt;00:00, 321.65it/s]"
      }
     },
     "a385aa419f55447e818a7e7e847cb87b": {
      "model_module": "@jupyter-widgets/base",
      "model_module_version": "1.2.0",
      "model_name": "LayoutModel",
      "state": {}
     },
     "a3a85673a22c49f0a60910ccf9a810aa": {
      "model_module": "@jupyter-widgets/controls",
      "model_module_version": "1.5.0",
      "model_name": "FloatProgressModel",
      "state": {
       "bar_style": "success",
       "description": "100%",
       "layout": "IPY_MODEL_dde830514685485eb9c07a2d0c7e83f6",
       "max": 30000,
       "style": "IPY_MODEL_f71d6b2f26a04449a9fa6a53a283955d",
       "value": 30000
      }
     },
     "a3e57706a23140e380525e7857eab461": {
      "model_module": "@jupyter-widgets/controls",
      "model_module_version": "1.5.0",
      "model_name": "HTMLModel",
      "state": {
       "layout": "IPY_MODEL_477567ad1ce249448de4bc4abdbb1821",
       "style": "IPY_MODEL_f1535df76b6e426185c1d8605359a4e0",
       "value": " 9237/9237 [14:19&lt;00:00, 10.74it/s]"
      }
     },
     "a3f1c34db933408ba24080b7853c3f1f": {
      "model_module": "@jupyter-widgets/base",
      "model_module_version": "1.2.0",
      "model_name": "LayoutModel",
      "state": {}
     },
     "a44ffa4b90804e179bdacec1edf992cb": {
      "model_module": "@jupyter-widgets/base",
      "model_module_version": "1.2.0",
      "model_name": "LayoutModel",
      "state": {}
     },
     "a483c3981e9d432b8ac9fbab24f2822a": {
      "model_module": "@jupyter-widgets/base",
      "model_module_version": "1.2.0",
      "model_name": "LayoutModel",
      "state": {}
     },
     "a517eaff4d6e459aa83ffa7660aff712": {
      "model_module": "@jupyter-widgets/base",
      "model_module_version": "1.2.0",
      "model_name": "LayoutModel",
      "state": {}
     },
     "a5467e30a5184d7ca5fbd7ed1758bdaf": {
      "model_module": "@jupyter-widgets/base",
      "model_module_version": "1.2.0",
      "model_name": "LayoutModel",
      "state": {}
     },
     "a5a8ce55f1bb47a8864eb3d3cd7590a7": {
      "model_module": "@jupyter-widgets/controls",
      "model_module_version": "1.5.0",
      "model_name": "HTMLModel",
      "state": {
       "layout": "IPY_MODEL_c79c1dcbb16f43839ff02e51fd7e0cfd",
       "style": "IPY_MODEL_49cd60709d6f4921a59050831e7270a1",
       "value": " 31893/31893 [00:06&lt;00:00, 5021.90it/s]"
      }
     },
     "a5add2e20c5d4004a0d7e1712b7539c0": {
      "model_module": "@jupyter-widgets/controls",
      "model_module_version": "1.5.0",
      "model_name": "DescriptionStyleModel",
      "state": {
       "description_width": ""
      }
     },
     "a5d27695f8af496a82a17f041ddba4f0": {
      "model_module": "@jupyter-widgets/controls",
      "model_module_version": "1.5.0",
      "model_name": "HBoxModel",
      "state": {
       "children": [
        "IPY_MODEL_c01a33eae0db4ac4be4e253ed9e68cb6",
        "IPY_MODEL_e7102972b3904f328656f26e00ca148b"
       ],
       "layout": "IPY_MODEL_3191a3cf5c7545b8b570de67128bac9e"
      }
     },
     "a5fdb5b8a91f45a981fd3b90de0f85c1": {
      "model_module": "@jupyter-widgets/base",
      "model_module_version": "1.2.0",
      "model_name": "LayoutModel",
      "state": {}
     },
     "a6304c42109b4513ba42e01ec49b0020": {
      "model_module": "@jupyter-widgets/controls",
      "model_module_version": "1.5.0",
      "model_name": "FloatProgressModel",
      "state": {
       "bar_style": "success",
       "description": "100%",
       "layout": "IPY_MODEL_7472287f4c4549f3a5baad2250775a09",
       "max": 9237,
       "style": "IPY_MODEL_5d00c085e47447f7a8dc9599a491298f",
       "value": 9237
      }
     },
     "a67aff636b124f1c9743e0e9e2adaecc": {
      "model_module": "@jupyter-widgets/controls",
      "model_module_version": "1.5.0",
      "model_name": "DescriptionStyleModel",
      "state": {
       "description_width": ""
      }
     },
     "a67fe7417b9640f9b41ff920d34c34b1": {
      "model_module": "@jupyter-widgets/controls",
      "model_module_version": "1.5.0",
      "model_name": "HBoxModel",
      "state": {
       "children": [
        "IPY_MODEL_d317813617b946c1bc6c71308d2de2f2",
        "IPY_MODEL_03b14021a6da437cb599f974f4ad9217"
       ],
       "layout": "IPY_MODEL_4bbeee3b6a714796828a1d10892bb25d"
      }
     },
     "a6b894b388894677b975996e6d8b8a75": {
      "model_module": "@jupyter-widgets/controls",
      "model_module_version": "1.5.0",
      "model_name": "HTMLModel",
      "state": {
       "layout": "IPY_MODEL_f622385b1f654db592617f32d79e029b",
       "style": "IPY_MODEL_6bcc09af1acf421cb6d5df59955fb975",
       "value": " 9236/9236 [00:26&lt;00:00, 353.91it/s]"
      }
     },
     "a6bf1cfd354a4fc8a54da89ee9ccbdb0": {
      "model_module": "@jupyter-widgets/base",
      "model_module_version": "1.2.0",
      "model_name": "LayoutModel",
      "state": {}
     },
     "a6e380bdd69f411ab1a1274455d896c4": {
      "model_module": "@jupyter-widgets/controls",
      "model_module_version": "1.5.0",
      "model_name": "HTMLModel",
      "state": {
       "layout": "IPY_MODEL_fb89ea9b71bb478d8ce66f10ef5f5e47",
       "style": "IPY_MODEL_67dcdbe614ab4a0da440e447fe951a44",
       "value": " 50000/50000 [17:37&lt;00:00, 47.30it/s]"
      }
     },
     "a7411fecce2b4c3cbabe54bf2724472a": {
      "model_module": "@jupyter-widgets/controls",
      "model_module_version": "1.5.0",
      "model_name": "ProgressStyleModel",
      "state": {
       "description_width": "initial"
      }
     },
     "a7432529dc9140ff816c455507aa6a86": {
      "model_module": "@jupyter-widgets/controls",
      "model_module_version": "1.5.0",
      "model_name": "HBoxModel",
      "state": {
       "children": [
        "IPY_MODEL_66be870d9fec4582a7c348811c6da4b2",
        "IPY_MODEL_ab960d296d784d82976e7eef7ae53d9a"
       ],
       "layout": "IPY_MODEL_be821ebc30a74ac7bfbaea2fac96623d"
      }
     },
     "a7823d23753c4c8fac0a0b21044adf21": {
      "model_module": "@jupyter-widgets/base",
      "model_module_version": "1.2.0",
      "model_name": "LayoutModel",
      "state": {}
     },
     "a7917a915e43433eb074df0a73b9f052": {
      "model_module": "@jupyter-widgets/base",
      "model_module_version": "1.2.0",
      "model_name": "LayoutModel",
      "state": {}
     },
     "a799514db29a40a1a12c67efbe34a047": {
      "model_module": "@jupyter-widgets/base",
      "model_module_version": "1.2.0",
      "model_name": "LayoutModel",
      "state": {}
     },
     "a79ccfc900d048aea6e50328c1882cbb": {
      "model_module": "@jupyter-widgets/controls",
      "model_module_version": "1.5.0",
      "model_name": "HTMLModel",
      "state": {
       "layout": "IPY_MODEL_03b23b4982774ece8a92c011f10675e8",
       "style": "IPY_MODEL_7931a60b561b472e8377fccc1909cb45",
       "value": " 9237/9237 [15:20&lt;00:00, 10.04it/s]"
      }
     },
     "a7ae425176c34650b074013c210085ef": {
      "model_module": "@jupyter-widgets/controls",
      "model_module_version": "1.5.0",
      "model_name": "HBoxModel",
      "state": {
       "children": [
        "IPY_MODEL_e536181418a3405281d6dbf03e796120",
        "IPY_MODEL_5dfa3b2b65a64785a98a7ef57f0df4ad"
       ],
       "layout": "IPY_MODEL_25b6d2c566804b5a9c3ed4659df215e0"
      }
     },
     "a7d1ea73032c4e1b970a2851f0472cab": {
      "model_module": "@jupyter-widgets/controls",
      "model_module_version": "1.5.0",
      "model_name": "FloatProgressModel",
      "state": {
       "bar_style": "success",
       "description": "100%",
       "layout": "IPY_MODEL_c2110e17fcfa461c825cd5a29654c443",
       "max": 9237,
       "style": "IPY_MODEL_911efc1f8fdf47ea9f3f4a38dbb18f0d",
       "value": 9237
      }
     },
     "a7f6b6e0f5e941d3b020cf175227c5bb": {
      "model_module": "@jupyter-widgets/base",
      "model_module_version": "1.2.0",
      "model_name": "LayoutModel",
      "state": {}
     },
     "a811392968254d3ca692f4c8071099cf": {
      "model_module": "@jupyter-widgets/controls",
      "model_module_version": "1.5.0",
      "model_name": "FloatProgressModel",
      "state": {
       "bar_style": "success",
       "description": "100%",
       "layout": "IPY_MODEL_2dd4099710e547e68ffd0151d34a93c9",
       "max": 9236,
       "style": "IPY_MODEL_d032e5716c3d4b2cb1045c68a7423935",
       "value": 9236
      }
     },
     "a84e4ca5dbf04c8da4d3408fbe789904": {
      "model_module": "@jupyter-widgets/controls",
      "model_module_version": "1.5.0",
      "model_name": "ProgressStyleModel",
      "state": {
       "description_width": "initial"
      }
     },
     "a852584fea68449ab42b5f751d6e99cc": {
      "model_module": "@jupyter-widgets/controls",
      "model_module_version": "1.5.0",
      "model_name": "HTMLModel",
      "state": {
       "layout": "IPY_MODEL_e02ee90447dc4da68546f563510b4be9",
       "style": "IPY_MODEL_612b483a86ea4832b3247fa972300a4b",
       "value": " 1429/1429 [02:59&lt;00:00,  7.95it/s]"
      }
     },
     "a8c2fdae5ef34f9fb5b064cb8b528068": {
      "model_module": "@jupyter-widgets/base",
      "model_module_version": "1.2.0",
      "model_name": "LayoutModel",
      "state": {}
     },
     "a922539b796047a9b1b7c74003897419": {
      "model_module": "@jupyter-widgets/controls",
      "model_module_version": "1.5.0",
      "model_name": "HBoxModel",
      "state": {
       "children": [
        "IPY_MODEL_953e6e86308c4b67af68268d83c6d555",
        "IPY_MODEL_f8e8263fd5ca4221a7689c89b8ada6aa"
       ],
       "layout": "IPY_MODEL_631c4376a1874bdf849b8e5f7565fd05"
      }
     },
     "a9598db8461b49c3a6e727276b5d0ac6": {
      "model_module": "@jupyter-widgets/controls",
      "model_module_version": "1.5.0",
      "model_name": "FloatProgressModel",
      "state": {
       "bar_style": "success",
       "description": "100%",
       "layout": "IPY_MODEL_595e64d07a9941d5b34d512c6cd4f6bc",
       "max": 9237,
       "style": "IPY_MODEL_a84e4ca5dbf04c8da4d3408fbe789904",
       "value": 9237
      }
     },
     "a986800a761149b39af95b8263cefe20": {
      "model_module": "@jupyter-widgets/base",
      "model_module_version": "1.2.0",
      "model_name": "LayoutModel",
      "state": {}
     },
     "a9924f1dbda347508ddc69d20ec3f5d8": {
      "model_module": "@jupyter-widgets/controls",
      "model_module_version": "1.5.0",
      "model_name": "FloatProgressModel",
      "state": {
       "bar_style": "success",
       "description": "100%",
       "layout": "IPY_MODEL_db708542cc124df1b2db25f425c05cd6",
       "max": 10000,
       "style": "IPY_MODEL_6ac2fee568a8469dab6bf5d644342c25",
       "value": 10000
      }
     },
     "a9a9162fb10a4abe8222f5082a5d91a1": {
      "model_module": "@jupyter-widgets/controls",
      "model_module_version": "1.5.0",
      "model_name": "FloatProgressModel",
      "state": {
       "bar_style": "success",
       "description": "100%",
       "layout": "IPY_MODEL_8ffa8882e76140f6b4eed7753bf8be10",
       "max": 9236,
       "style": "IPY_MODEL_91c1929697a7487ab094b23dca9ce645",
       "value": 9236
      }
     },
     "a9c2efeaa0104623a2d6f613b9290f22": {
      "model_module": "@jupyter-widgets/base",
      "model_module_version": "1.2.0",
      "model_name": "LayoutModel",
      "state": {}
     },
     "a9fa16a4a7f24df8a39e6f82d1aa1678": {
      "model_module": "@jupyter-widgets/controls",
      "model_module_version": "1.5.0",
      "model_name": "HBoxModel",
      "state": {
       "children": [
        "IPY_MODEL_35f49a862541456caf7870dcbcc700f5",
        "IPY_MODEL_0d94be6d136e4a1e8cced7ee261cd712"
       ],
       "layout": "IPY_MODEL_fb6362e499754e298b0caa2145916383"
      }
     },
     "a9fe914194144bfdba7d18d6d0fe71a6": {
      "model_module": "@jupyter-widgets/base",
      "model_module_version": "1.2.0",
      "model_name": "LayoutModel",
      "state": {}
     },
     "aa11ac4fb3824858870aac4689bae9dc": {
      "model_module": "@jupyter-widgets/base",
      "model_module_version": "1.2.0",
      "model_name": "LayoutModel",
      "state": {}
     },
     "aa246b38023643d88be96809f4bdd911": {
      "model_module": "@jupyter-widgets/base",
      "model_module_version": "1.2.0",
      "model_name": "LayoutModel",
      "state": {}
     },
     "aa2d1e1aba7f47a684c76727a76b123b": {
      "model_module": "@jupyter-widgets/controls",
      "model_module_version": "1.5.0",
      "model_name": "ProgressStyleModel",
      "state": {
       "description_width": "initial"
      }
     },
     "aa408c0354914b318e05e7cfd93c3316": {
      "model_module": "@jupyter-widgets/controls",
      "model_module_version": "1.5.0",
      "model_name": "ProgressStyleModel",
      "state": {
       "description_width": "initial"
      }
     },
     "aa5b1d7b8bbb43eabd7efdc36adf117d": {
      "model_module": "@jupyter-widgets/controls",
      "model_module_version": "1.5.0",
      "model_name": "HTMLModel",
      "state": {
       "layout": "IPY_MODEL_172167383db045eb818d16bc6e3f8d28",
       "style": "IPY_MODEL_6b909aa952414d59badadb5c523185f1",
       "value": " 9237/9237 [09:20&lt;00:00, 16.49it/s]"
      }
     },
     "aa8c27f547ec4feb9db47deab1442c3d": {
      "model_module": "@jupyter-widgets/controls",
      "model_module_version": "1.5.0",
      "model_name": "FloatProgressModel",
      "state": {
       "bar_style": "success",
       "description": "100%",
       "layout": "IPY_MODEL_666ff3c8d21647418db65b279e544d6b",
       "max": 9236,
       "style": "IPY_MODEL_daa4c7a6270a42dfaa9b2367dc209576",
       "value": 9236
      }
     },
     "aa8dbc82aafa494c9d46dadf60b6c80f": {
      "model_module": "@jupyter-widgets/controls",
      "model_module_version": "1.5.0",
      "model_name": "HTMLModel",
      "state": {
       "layout": "IPY_MODEL_b8000bfa901d474da6e9e788af16b2ba",
       "style": "IPY_MODEL_3fe23952faa04c16be25187194450ac2",
       "value": " 9237/9237 [00:33&lt;00:00, 276.39it/s]"
      }
     },
     "aacb8a8e0c6d435096b018c3b146287a": {
      "model_module": "@jupyter-widgets/base",
      "model_module_version": "1.2.0",
      "model_name": "LayoutModel",
      "state": {}
     },
     "aadbe14f103349e0bdb07ba463d1b0f2": {
      "model_module": "@jupyter-widgets/base",
      "model_module_version": "1.2.0",
      "model_name": "LayoutModel",
      "state": {}
     },
     "aae078afa282455ca4adfdd267f87c8a": {
      "model_module": "@jupyter-widgets/controls",
      "model_module_version": "1.5.0",
      "model_name": "FloatProgressModel",
      "state": {
       "bar_style": "success",
       "description": "100%",
       "layout": "IPY_MODEL_418acd7618f44b1db35950e9a6280f11",
       "max": 9237,
       "style": "IPY_MODEL_841a161a683a4a5fafd2eb59802e6043",
       "value": 9237
      }
     },
     "ab00435fa0864f4f8ff07754046971e9": {
      "model_module": "@jupyter-widgets/controls",
      "model_module_version": "1.5.0",
      "model_name": "DescriptionStyleModel",
      "state": {
       "description_width": ""
      }
     },
     "ab28fc9ee70c4f00b05fc6d402848994": {
      "model_module": "@jupyter-widgets/controls",
      "model_module_version": "1.5.0",
      "model_name": "HTMLModel",
      "state": {
       "layout": "IPY_MODEL_6d2b002cde1b424dbf5fc5cbb3aa37f6",
       "style": "IPY_MODEL_87c28fc28a674de0b55789e16595f645",
       "value": " 9237/9237 [16:52&lt;00:00,  9.12it/s]"
      }
     },
     "ab32bddb6009499c9b6360aedaeb76f4": {
      "model_module": "@jupyter-widgets/base",
      "model_module_version": "1.2.0",
      "model_name": "LayoutModel",
      "state": {}
     },
     "ab51746a08a74d16957275ccbc297e1d": {
      "model_module": "@jupyter-widgets/base",
      "model_module_version": "1.2.0",
      "model_name": "LayoutModel",
      "state": {}
     },
     "ab76109514014af7bf70c48e76db1b90": {
      "model_module": "@jupyter-widgets/controls",
      "model_module_version": "1.5.0",
      "model_name": "FloatProgressModel",
      "state": {
       "bar_style": "success",
       "description": "100%",
       "layout": "IPY_MODEL_a7823d23753c4c8fac0a0b21044adf21",
       "max": 9237,
       "style": "IPY_MODEL_8a3ea2d35ddc45b099e2948573723588",
       "value": 9237
      }
     },
     "ab960d296d784d82976e7eef7ae53d9a": {
      "model_module": "@jupyter-widgets/controls",
      "model_module_version": "1.5.0",
      "model_name": "HTMLModel",
      "state": {
       "layout": "IPY_MODEL_15a70ee1e9da47789c5966ee4ed4d402",
       "style": "IPY_MODEL_71418275908f4b5f8affef0fe4477006",
       "value": " 4284/4284 [09:44&lt;00:00,  7.33it/s]"
      }
     },
     "aba79ee90d934b5fab3596db7778bb00": {
      "model_module": "@jupyter-widgets/base",
      "model_module_version": "1.2.0",
      "model_name": "LayoutModel",
      "state": {}
     },
     "abaafc97500149caad643183ece4ac61": {
      "model_module": "@jupyter-widgets/controls",
      "model_module_version": "1.5.0",
      "model_name": "DescriptionStyleModel",
      "state": {
       "description_width": ""
      }
     },
     "abae3096c62344bfb760c4727a7a80c3": {
      "model_module": "@jupyter-widgets/controls",
      "model_module_version": "1.5.0",
      "model_name": "DescriptionStyleModel",
      "state": {
       "description_width": ""
      }
     },
     "abc7dc8c60d245679046462619e3ad58": {
      "model_module": "@jupyter-widgets/controls",
      "model_module_version": "1.5.0",
      "model_name": "FloatProgressModel",
      "state": {
       "bar_style": "success",
       "description": "100%",
       "layout": "IPY_MODEL_56e08cc34c4f4455957abc5d4fd90f45",
       "max": 9237,
       "style": "IPY_MODEL_1a806410a65d45879d18211578e96014",
       "value": 9237
      }
     },
     "abe6b8befdd54c358588b003199abe76": {
      "model_module": "@jupyter-widgets/controls",
      "model_module_version": "1.5.0",
      "model_name": "HBoxModel",
      "state": {
       "children": [
        "IPY_MODEL_e15c7e25a19643f1b505a53f51a32f76",
        "IPY_MODEL_31934fd9928f4634ac7633965848b737"
       ],
       "layout": "IPY_MODEL_c04da2c8ab2b48ccbb0dddb67fb903b2"
      }
     },
     "ac2913af8f254b4ea778ac35200038c5": {
      "model_module": "@jupyter-widgets/controls",
      "model_module_version": "1.5.0",
      "model_name": "HBoxModel",
      "state": {
       "children": [
        "IPY_MODEL_68f08a1e80914eaea1abda8bf5bbdcd0",
        "IPY_MODEL_aa5b1d7b8bbb43eabd7efdc36adf117d"
       ],
       "layout": "IPY_MODEL_46722d3e64c84ea988979ae065b6fc35"
      }
     },
     "ac44dc7b3fd14930920f8e6c480faa6b": {
      "model_module": "@jupyter-widgets/base",
      "model_module_version": "1.2.0",
      "model_name": "LayoutModel",
      "state": {}
     },
     "ac54eea93f7b454c9f0e90ca232623d6": {
      "model_module": "@jupyter-widgets/controls",
      "model_module_version": "1.5.0",
      "model_name": "ProgressStyleModel",
      "state": {
       "description_width": "initial"
      }
     },
     "acaf4cd13d5b48d7b797cf7c8c9bf82c": {
      "model_module": "@jupyter-widgets/base",
      "model_module_version": "1.2.0",
      "model_name": "LayoutModel",
      "state": {}
     },
     "ad2dbe2f135e4382815cd6bb245eeba1": {
      "model_module": "@jupyter-widgets/base",
      "model_module_version": "1.2.0",
      "model_name": "LayoutModel",
      "state": {}
     },
     "ad3fe6e1adcc47cab1ea5f0c89e1a421": {
      "model_module": "@jupyter-widgets/controls",
      "model_module_version": "1.5.0",
      "model_name": "FloatProgressModel",
      "state": {
       "bar_style": "success",
       "description": "100%",
       "layout": "IPY_MODEL_a0fc6badd30c409ab40268546412877f",
       "max": 3570,
       "style": "IPY_MODEL_39d7068a8e5b4006a45aa27d33613fd8",
       "value": 3570
      }
     },
     "ad64228add1c4d8f9869214282ffe51e": {
      "model_module": "@jupyter-widgets/controls",
      "model_module_version": "1.5.0",
      "model_name": "HBoxModel",
      "state": {
       "children": [
        "IPY_MODEL_ad8b7b3654ac4cb696d70e5fef827a60",
        "IPY_MODEL_b1e0ee863f824d00810b94872d3d5a95"
       ],
       "layout": "IPY_MODEL_16a374df59d34cc4ac9a7e996fcc68f2"
      }
     },
     "ad8b7b3654ac4cb696d70e5fef827a60": {
      "model_module": "@jupyter-widgets/controls",
      "model_module_version": "1.5.0",
      "model_name": "FloatProgressModel",
      "state": {
       "bar_style": "success",
       "description": "100%",
       "layout": "IPY_MODEL_93dbc2f9db7349f7a7683e5537247f32",
       "max": 9237,
       "style": "IPY_MODEL_22c58772a3d247cca3be7a69a78f323f",
       "value": 9237
      }
     },
     "ad8cb2f80cb54e828720ebb4dcff2bf8": {
      "model_module": "@jupyter-widgets/base",
      "model_module_version": "1.2.0",
      "model_name": "LayoutModel",
      "state": {}
     },
     "ada53d67b40e4ca89cc7eef60b9534f6": {
      "model_module": "@jupyter-widgets/base",
      "model_module_version": "1.2.0",
      "model_name": "LayoutModel",
      "state": {}
     },
     "adaf27c3f4764e6581c1386d8a4589d2": {
      "model_module": "@jupyter-widgets/base",
      "model_module_version": "1.2.0",
      "model_name": "LayoutModel",
      "state": {}
     },
     "adea7e7c8d28427198e0be738bf966d2": {
      "model_module": "@jupyter-widgets/controls",
      "model_module_version": "1.5.0",
      "model_name": "FloatProgressModel",
      "state": {
       "bar_style": "success",
       "description": "100%",
       "layout": "IPY_MODEL_f5dac4fb4cbf40dbb63ff720a2db4576",
       "max": 29991,
       "style": "IPY_MODEL_07eba09418b84633af01d470925df62b",
       "value": 29991
      }
     },
     "ae02e72911594f8ab073caabc8de497f": {
      "model_module": "@jupyter-widgets/base",
      "model_module_version": "1.2.0",
      "model_name": "LayoutModel",
      "state": {}
     },
     "ae2a6bfd47d54349a4e708acb9d739bb": {
      "model_module": "@jupyter-widgets/base",
      "model_module_version": "1.2.0",
      "model_name": "LayoutModel",
      "state": {}
     },
     "ae3394c0462b4ee8b06766a1aa6096af": {
      "model_module": "@jupyter-widgets/controls",
      "model_module_version": "1.5.0",
      "model_name": "ProgressStyleModel",
      "state": {
       "description_width": "initial"
      }
     },
     "ae7951e0883a4c118d906a696a4267a8": {
      "model_module": "@jupyter-widgets/base",
      "model_module_version": "1.2.0",
      "model_name": "LayoutModel",
      "state": {}
     },
     "aea8d27bbcd449338a65df1d5c5eea61": {
      "model_module": "@jupyter-widgets/base",
      "model_module_version": "1.2.0",
      "model_name": "LayoutModel",
      "state": {}
     },
     "af3ef07fe1944f22ac7fc28cb8818bf4": {
      "model_module": "@jupyter-widgets/controls",
      "model_module_version": "1.5.0",
      "model_name": "DescriptionStyleModel",
      "state": {
       "description_width": ""
      }
     },
     "af586e1d85cf42e7afdaa25b7e649f3f": {
      "model_module": "@jupyter-widgets/base",
      "model_module_version": "1.2.0",
      "model_name": "LayoutModel",
      "state": {}
     },
     "afc8309af3cf465bb21109595ca92f1b": {
      "model_module": "@jupyter-widgets/controls",
      "model_module_version": "1.5.0",
      "model_name": "HTMLModel",
      "state": {
       "layout": "IPY_MODEL_9e18b9c5988a4926a8060e3d39a403b3",
       "style": "IPY_MODEL_5608c98f24404b1eaf4c18b2ee9311a5",
       "value": " 9237/9237 [15:46&lt;00:00,  9.75it/s]"
      }
     },
     "b020127bb2f642b2acd06d0d5af91c6a": {
      "model_module": "@jupyter-widgets/base",
      "model_module_version": "1.2.0",
      "model_name": "LayoutModel",
      "state": {}
     },
     "b020c1ebfe214284885710c7b2872dc9": {
      "model_module": "@jupyter-widgets/base",
      "model_module_version": "1.2.0",
      "model_name": "LayoutModel",
      "state": {}
     },
     "b0276290acd94fdf9aa3e27ba249ccc1": {
      "model_module": "@jupyter-widgets/base",
      "model_module_version": "1.2.0",
      "model_name": "LayoutModel",
      "state": {}
     },
     "b099a137cd49439bbe8aa0f4717162b2": {
      "model_module": "@jupyter-widgets/controls",
      "model_module_version": "1.5.0",
      "model_name": "FloatProgressModel",
      "state": {
       "bar_style": "success",
       "description": "100%",
       "layout": "IPY_MODEL_1595902dadec4d44b12b9f0be09d03bd",
       "max": 16434,
       "style": "IPY_MODEL_0c24653d798e4f21a0af8dac96904bb6",
       "value": 16434
      }
     },
     "b0c60e0d1863477f894cb672400bd736": {
      "model_module": "@jupyter-widgets/controls",
      "model_module_version": "1.5.0",
      "model_name": "DescriptionStyleModel",
      "state": {
       "description_width": ""
      }
     },
     "b0e1eb81fafe420ea95feb933f177a8c": {
      "model_module": "@jupyter-widgets/base",
      "model_module_version": "1.2.0",
      "model_name": "LayoutModel",
      "state": {}
     },
     "b11deb570ce1422ca6ca468b3dd4c6eb": {
      "model_module": "@jupyter-widgets/controls",
      "model_module_version": "1.5.0",
      "model_name": "HBoxModel",
      "state": {
       "children": [
        "IPY_MODEL_a811392968254d3ca692f4c8071099cf",
        "IPY_MODEL_a6b894b388894677b975996e6d8b8a75"
       ],
       "layout": "IPY_MODEL_e03b2c68e2874fb187781b6b2237bf36"
      }
     },
     "b13d90b710264bd2ad904394d0aa7f90": {
      "model_module": "@jupyter-widgets/controls",
      "model_module_version": "1.5.0",
      "model_name": "HBoxModel",
      "state": {
       "children": [
        "IPY_MODEL_bc83d1d01518418a8457a89a25344c45",
        "IPY_MODEL_1aaaa5dbfb6f41cca5d0825639cfcd6f"
       ],
       "layout": "IPY_MODEL_8416676437124fdb872685d2187f0d94"
      }
     },
     "b167f6eb35af4e54898f71d2af27289c": {
      "model_module": "@jupyter-widgets/controls",
      "model_module_version": "1.5.0",
      "model_name": "ProgressStyleModel",
      "state": {
       "description_width": "initial"
      }
     },
     "b18146ad313d45c8a2470e39ebe7dca5": {
      "model_module": "@jupyter-widgets/controls",
      "model_module_version": "1.5.0",
      "model_name": "HBoxModel",
      "state": {
       "children": [
        "IPY_MODEL_23cafa3fa89b40598dbb100e3c13686e",
        "IPY_MODEL_8f59026f7cef49009a1cee5c0c5cc392"
       ],
       "layout": "IPY_MODEL_47ec9a42158a4550aacf384c7488239a"
      }
     },
     "b19a310862484664b5fff82c15dcf332": {
      "model_module": "@jupyter-widgets/base",
      "model_module_version": "1.2.0",
      "model_name": "LayoutModel",
      "state": {}
     },
     "b1a3bb7efefe4463b23c77c0ffba518b": {
      "model_module": "@jupyter-widgets/controls",
      "model_module_version": "1.5.0",
      "model_name": "ProgressStyleModel",
      "state": {
       "description_width": "initial"
      }
     },
     "b1da0e4fb283442d94bd9b1ea497fe84": {
      "model_module": "@jupyter-widgets/base",
      "model_module_version": "1.2.0",
      "model_name": "LayoutModel",
      "state": {}
     },
     "b1e0ee863f824d00810b94872d3d5a95": {
      "model_module": "@jupyter-widgets/controls",
      "model_module_version": "1.5.0",
      "model_name": "HTMLModel",
      "state": {
       "layout": "IPY_MODEL_2df2941d4d6e4e4aafcaf1ccde821826",
       "style": "IPY_MODEL_52726ca0a0014453b817b21a0d172229",
       "value": " 9237/9237 [00:29&lt;00:00, 313.56it/s]"
      }
     },
     "b1fd23e48323410b80f76b5da8f9269b": {
      "model_module": "@jupyter-widgets/base",
      "model_module_version": "1.2.0",
      "model_name": "LayoutModel",
      "state": {}
     },
     "b1fef0e11f9f414784deb68d38ddcac6": {
      "model_module": "@jupyter-widgets/base",
      "model_module_version": "1.2.0",
      "model_name": "LayoutModel",
      "state": {}
     },
     "b21a6a6100b24e8eb9ea404c58a2a246": {
      "model_module": "@jupyter-widgets/controls",
      "model_module_version": "1.5.0",
      "model_name": "ProgressStyleModel",
      "state": {
       "description_width": "initial"
      }
     },
     "b250548a4f484c5babefda99d3bee857": {
      "model_module": "@jupyter-widgets/base",
      "model_module_version": "1.2.0",
      "model_name": "LayoutModel",
      "state": {}
     },
     "b2dff44ddf0d4cfe8a97075f2ea47ced": {
      "model_module": "@jupyter-widgets/base",
      "model_module_version": "1.2.0",
      "model_name": "LayoutModel",
      "state": {}
     },
     "b2e1f2283dca43c0a4b1cfef35dbbb89": {
      "model_module": "@jupyter-widgets/controls",
      "model_module_version": "1.5.0",
      "model_name": "DescriptionStyleModel",
      "state": {
       "description_width": ""
      }
     },
     "b2ea252f264147ba8ca8d24b6441ccf5": {
      "model_module": "@jupyter-widgets/base",
      "model_module_version": "1.2.0",
      "model_name": "LayoutModel",
      "state": {}
     },
     "b32c62ffdf7442418f6b238520a67d66": {
      "model_module": "@jupyter-widgets/controls",
      "model_module_version": "1.5.0",
      "model_name": "HTMLModel",
      "state": {
       "layout": "IPY_MODEL_16a33edf54b0447f9a1694d31574f6f2",
       "style": "IPY_MODEL_73ea60f2143847c6b97449c26c101b7a",
       "value": " 7140/7140 [17:02&lt;00:00,  6.98it/s]"
      }
     },
     "b365fe8098cc462bb9b64978231f7b64": {
      "model_module": "@jupyter-widgets/controls",
      "model_module_version": "1.5.0",
      "model_name": "ProgressStyleModel",
      "state": {
       "description_width": "initial"
      }
     },
     "b3a764f601da431f902622cc3c809a4a": {
      "model_module": "@jupyter-widgets/base",
      "model_module_version": "1.2.0",
      "model_name": "LayoutModel",
      "state": {}
     },
     "b3ffad1134734bdbbeb63f9262b77950": {
      "model_module": "@jupyter-widgets/base",
      "model_module_version": "1.2.0",
      "model_name": "LayoutModel",
      "state": {}
     },
     "b4201fb3fa0d46f380bfc2b8fa12cbc2": {
      "model_module": "@jupyter-widgets/controls",
      "model_module_version": "1.5.0",
      "model_name": "DescriptionStyleModel",
      "state": {
       "description_width": ""
      }
     },
     "b4734eb2810646579d63c29f0d15fe89": {
      "model_module": "@jupyter-widgets/controls",
      "model_module_version": "1.5.0",
      "model_name": "ProgressStyleModel",
      "state": {
       "description_width": "initial"
      }
     },
     "b476796eb9824b7295630859c3f5ca31": {
      "model_module": "@jupyter-widgets/controls",
      "model_module_version": "1.5.0",
      "model_name": "HTMLModel",
      "state": {
       "layout": "IPY_MODEL_8cb293d6851f446298f8da0a23906b75",
       "style": "IPY_MODEL_b889f19b39c6477fa8e4bf53d23b76aa",
       "value": " 30000/30000 [10:40&lt;00:00, 46.81it/s]"
      }
     },
     "b490a38c7aa240daa384afa8663e66a4": {
      "model_module": "@jupyter-widgets/base",
      "model_module_version": "1.2.0",
      "model_name": "LayoutModel",
      "state": {}
     },
     "b49a5ea7e7a74505ab3c224dc4fc994d": {
      "model_module": "@jupyter-widgets/base",
      "model_module_version": "1.2.0",
      "model_name": "LayoutModel",
      "state": {}
     },
     "b4d75133019a4ae995e3abd85aad9df1": {
      "model_module": "@jupyter-widgets/controls",
      "model_module_version": "1.5.0",
      "model_name": "HBoxModel",
      "state": {
       "children": [
        "IPY_MODEL_5353cd70c9fa46ed9ceedae1cccc0491",
        "IPY_MODEL_a383f828847c47f09ff929cdf5c7efee"
       ],
       "layout": "IPY_MODEL_43dec149ed9442699d058b6c092fd221"
      }
     },
     "b4da58ec081c47539d88140cfe8e353c": {
      "model_module": "@jupyter-widgets/controls",
      "model_module_version": "1.5.0",
      "model_name": "FloatProgressModel",
      "state": {
       "bar_style": "success",
       "description": "100%",
       "layout": "IPY_MODEL_57cd53c2f69e4accab254d3e772cfc39",
       "max": 40027,
       "style": "IPY_MODEL_3d3a5afa99bf4a7e8f57bd02b94dc778",
       "value": 40027
      }
     },
     "b4ffd6593cc14ec78646ddce7c7cbf7e": {
      "model_module": "@jupyter-widgets/base",
      "model_module_version": "1.2.0",
      "model_name": "LayoutModel",
      "state": {}
     },
     "b5192f84b3fe4c0dbc71eb627394a4f9": {
      "model_module": "@jupyter-widgets/base",
      "model_module_version": "1.2.0",
      "model_name": "LayoutModel",
      "state": {}
     },
     "b5368b1a861c49f4aaf0579f05f54cad": {
      "model_module": "@jupyter-widgets/base",
      "model_module_version": "1.2.0",
      "model_name": "LayoutModel",
      "state": {}
     },
     "b53e392371ce404aa2bbc737cb5627f2": {
      "model_module": "@jupyter-widgets/base",
      "model_module_version": "1.2.0",
      "model_name": "LayoutModel",
      "state": {}
     },
     "b55fed5041894035ac98672b82fbf0f4": {
      "model_module": "@jupyter-widgets/controls",
      "model_module_version": "1.5.0",
      "model_name": "HBoxModel",
      "state": {
       "children": [
        "IPY_MODEL_5548a5f9653143bf8e114e2a1c10fd0b",
        "IPY_MODEL_f5db4f328eea4331bf567e8e9df55ac9"
       ],
       "layout": "IPY_MODEL_fd85b960c6c54a6f82188a52e85eccfc"
      }
     },
     "b5650f8860444b9cab1268f68ce28fb3": {
      "model_module": "@jupyter-widgets/base",
      "model_module_version": "1.2.0",
      "model_name": "LayoutModel",
      "state": {}
     },
     "b56cc9435b2c452097f9d83e33ef77a8": {
      "model_module": "@jupyter-widgets/base",
      "model_module_version": "1.2.0",
      "model_name": "LayoutModel",
      "state": {}
     },
     "b56e8e1d0f1b4f12b9b3c70715a30ba4": {
      "model_module": "@jupyter-widgets/base",
      "model_module_version": "1.2.0",
      "model_name": "LayoutModel",
      "state": {}
     },
     "b58fa35920f74f2383a495b4991d4d94": {
      "model_module": "@jupyter-widgets/base",
      "model_module_version": "1.2.0",
      "model_name": "LayoutModel",
      "state": {}
     },
     "b5d37cb8282d45ff9a127cdae97cba2c": {
      "model_module": "@jupyter-widgets/controls",
      "model_module_version": "1.5.0",
      "model_name": "HTMLModel",
      "state": {
       "layout": "IPY_MODEL_db3b826c69fc4d8fb481aecd100bb917",
       "style": "IPY_MODEL_dae207d424f741489fc3aaa24e3ca821",
       "value": " 30000/30000 [10:55&lt;00:00, 45.77it/s]"
      }
     },
     "b6a86744c6c545e99bb99ddd274b4f89": {
      "model_module": "@jupyter-widgets/base",
      "model_module_version": "1.2.0",
      "model_name": "LayoutModel",
      "state": {}
     },
     "b6e21ac0daec4a87a18a866dc096c663": {
      "model_module": "@jupyter-widgets/controls",
      "model_module_version": "1.5.0",
      "model_name": "FloatProgressModel",
      "state": {
       "bar_style": "success",
       "description": "100%",
       "layout": "IPY_MODEL_c008be62ac8e4dc0afe6725ebd3e7064",
       "max": 9237,
       "style": "IPY_MODEL_57215abc8b6f4c8fa88b5d0d6db5b4ee",
       "value": 9237
      }
     },
     "b73f962c0e664c1ca878fa3736e3cf62": {
      "model_module": "@jupyter-widgets/base",
      "model_module_version": "1.2.0",
      "model_name": "LayoutModel",
      "state": {}
     },
     "b74055e798344ea9b94b35a4066e2180": {
      "model_module": "@jupyter-widgets/controls",
      "model_module_version": "1.5.0",
      "model_name": "HBoxModel",
      "state": {
       "children": [
        "IPY_MODEL_5fb29080d77544ffb2efa5125a4809d0",
        "IPY_MODEL_8b61d60d43664d3b8c9abc306a8ee67f"
       ],
       "layout": "IPY_MODEL_c2f5e61e2c444f5fa14d6d8a88bc4864"
      }
     },
     "b748910cf8c7440c89773f00d4b9293c": {
      "model_module": "@jupyter-widgets/base",
      "model_module_version": "1.2.0",
      "model_name": "LayoutModel",
      "state": {}
     },
     "b74ff6a278b3417392b3c012a43b2ec5": {
      "model_module": "@jupyter-widgets/controls",
      "model_module_version": "1.5.0",
      "model_name": "HBoxModel",
      "state": {
       "children": [
        "IPY_MODEL_d933cc94c07a4ee389cabbc893fd08ac",
        "IPY_MODEL_c00e01fdeead461f8caeb7a71356ee56"
       ],
       "layout": "IPY_MODEL_65da1870bae2487395038dea01cdd90a"
      }
     },
     "b7690357597a40f29dce480591d928fe": {
      "model_module": "@jupyter-widgets/controls",
      "model_module_version": "1.5.0",
      "model_name": "FloatProgressModel",
      "state": {
       "bar_style": "success",
       "description": "100%",
       "layout": "IPY_MODEL_687b380243ea4f35bfbff912a5f2dd4a",
       "max": 9237,
       "style": "IPY_MODEL_3b92e0a8741b4d4aaf191f5f22fb6770",
       "value": 9237
      }
     },
     "b7786d4c2f3a40fdb97e06510dc4046f": {
      "model_module": "@jupyter-widgets/base",
      "model_module_version": "1.2.0",
      "model_name": "LayoutModel",
      "state": {}
     },
     "b79bfd63172c4b2d855bda32dc0d0020": {
      "model_module": "@jupyter-widgets/controls",
      "model_module_version": "1.5.0",
      "model_name": "FloatProgressModel",
      "state": {
       "bar_style": "success",
       "description": "100%",
       "layout": "IPY_MODEL_31d2962ebe514cf5a577aafd80dcbceb",
       "max": 30000,
       "style": "IPY_MODEL_e5393d6f9a8d4ce29c21ec704952645c",
       "value": 30000
      }
     },
     "b7a8e9352d0e487f88a9186758264642": {
      "model_module": "@jupyter-widgets/controls",
      "model_module_version": "1.5.0",
      "model_name": "DescriptionStyleModel",
      "state": {
       "description_width": ""
      }
     },
     "b7d1cafe853f4ed28a85aae3cf0afb2a": {
      "model_module": "@jupyter-widgets/controls",
      "model_module_version": "1.5.0",
      "model_name": "ProgressStyleModel",
      "state": {
       "description_width": "initial"
      }
     },
     "b7d50907052445578b95363d35f9082f": {
      "model_module": "@jupyter-widgets/controls",
      "model_module_version": "1.5.0",
      "model_name": "FloatProgressModel",
      "state": {
       "bar_style": "success",
       "description": "100%",
       "layout": "IPY_MODEL_76c3f48639a14f1eba4a8cade008c6d3",
       "max": 9236,
       "style": "IPY_MODEL_4bc589318b2d475e993c1e50b34dd6ae",
       "value": 9236
      }
     },
     "b7d8f604fa7b4aa8996c189b09f24a1f": {
      "model_module": "@jupyter-widgets/controls",
      "model_module_version": "1.5.0",
      "model_name": "DescriptionStyleModel",
      "state": {
       "description_width": ""
      }
     },
     "b8000bfa901d474da6e9e788af16b2ba": {
      "model_module": "@jupyter-widgets/base",
      "model_module_version": "1.2.0",
      "model_name": "LayoutModel",
      "state": {}
     },
     "b809f101c26b462a91092b57998d3c26": {
      "model_module": "@jupyter-widgets/base",
      "model_module_version": "1.2.0",
      "model_name": "LayoutModel",
      "state": {}
     },
     "b889f19b39c6477fa8e4bf53d23b76aa": {
      "model_module": "@jupyter-widgets/controls",
      "model_module_version": "1.5.0",
      "model_name": "DescriptionStyleModel",
      "state": {
       "description_width": ""
      }
     },
     "b894448d3d154b9d8f0a8a107bc87bc2": {
      "model_module": "@jupyter-widgets/base",
      "model_module_version": "1.2.0",
      "model_name": "LayoutModel",
      "state": {}
     },
     "b8dcf1a06d9448078d0e4fbb97e8d435": {
      "model_module": "@jupyter-widgets/controls",
      "model_module_version": "1.5.0",
      "model_name": "DescriptionStyleModel",
      "state": {
       "description_width": ""
      }
     },
     "b91b84577c494b79aa552152b7311f7d": {
      "model_module": "@jupyter-widgets/base",
      "model_module_version": "1.2.0",
      "model_name": "LayoutModel",
      "state": {}
     },
     "b921caf496c94f97ac1bfda457dbe254": {
      "model_module": "@jupyter-widgets/base",
      "model_module_version": "1.2.0",
      "model_name": "LayoutModel",
      "state": {}
     },
     "b923d6f728c24969bc8b505c9cf4d887": {
      "model_module": "@jupyter-widgets/base",
      "model_module_version": "1.2.0",
      "model_name": "LayoutModel",
      "state": {}
     },
     "b94671c0006b47c484188ce9aad01eed": {
      "model_module": "@jupyter-widgets/base",
      "model_module_version": "1.2.0",
      "model_name": "LayoutModel",
      "state": {}
     },
     "b9bd415e37da4a4ba7e88ff8a0c62deb": {
      "model_module": "@jupyter-widgets/controls",
      "model_module_version": "1.5.0",
      "model_name": "FloatProgressModel",
      "state": {
       "bar_style": "success",
       "description": "100%",
       "layout": "IPY_MODEL_6a14987d52bf4315908844d4a30ab86d",
       "max": 20000,
       "style": "IPY_MODEL_b7d1cafe853f4ed28a85aae3cf0afb2a",
       "value": 20000
      }
     },
     "ba0d0164f5984f0699566e509d98a4a1": {
      "model_module": "@jupyter-widgets/controls",
      "model_module_version": "1.5.0",
      "model_name": "DescriptionStyleModel",
      "state": {
       "description_width": ""
      }
     },
     "ba3a2c055ed14af3b0b99d9bd772fedc": {
      "model_module": "@jupyter-widgets/base",
      "model_module_version": "1.2.0",
      "model_name": "LayoutModel",
      "state": {}
     },
     "ba70e9079de241f8abef0ad195a1c77d": {
      "model_module": "@jupyter-widgets/controls",
      "model_module_version": "1.5.0",
      "model_name": "ProgressStyleModel",
      "state": {
       "description_width": "initial"
      }
     },
     "bac89c66b5c141ad8d24fa5682b3e8ca": {
      "model_module": "@jupyter-widgets/controls",
      "model_module_version": "1.5.0",
      "model_name": "HTMLModel",
      "state": {
       "layout": "IPY_MODEL_f57a3cfe9ede48508c3b8ecc4fa84337",
       "style": "IPY_MODEL_ebddf8408f924213aaa951025b3da658",
       "value": " 4285/4285 [09:36&lt;00:00,  7.43it/s]"
      }
     },
     "bb24a144618445a7a030ef2db98d9c19": {
      "model_module": "@jupyter-widgets/base",
      "model_module_version": "1.2.0",
      "model_name": "LayoutModel",
      "state": {}
     },
     "bb5720c9266f446c9f3c7eac0e806bf7": {
      "model_module": "@jupyter-widgets/base",
      "model_module_version": "1.2.0",
      "model_name": "LayoutModel",
      "state": {}
     },
     "bb67c570769647468a416ddab4338475": {
      "model_module": "@jupyter-widgets/base",
      "model_module_version": "1.2.0",
      "model_name": "LayoutModel",
      "state": {}
     },
     "bbaac40dc21c4503bd22486ca2fab4b4": {
      "model_module": "@jupyter-widgets/base",
      "model_module_version": "1.2.0",
      "model_name": "LayoutModel",
      "state": {}
     },
     "bbea51c31b364ae3a4e8b05c05c0aa04": {
      "model_module": "@jupyter-widgets/controls",
      "model_module_version": "1.5.0",
      "model_name": "HBoxModel",
      "state": {
       "children": [
        "IPY_MODEL_d66b5d67a7ac4fcdb1f09106b8b2f7ae",
        "IPY_MODEL_0bf2c56492894fcbaf70a0f4b92d0807"
       ],
       "layout": "IPY_MODEL_f7be9bffe2374ec682b600ab1344c53c"
      }
     },
     "bbf97b6480584a9fb2981c0d1c86f7cb": {
      "model_module": "@jupyter-widgets/controls",
      "model_module_version": "1.5.0",
      "model_name": "FloatProgressModel",
      "state": {
       "bar_style": "success",
       "description": "100%",
       "layout": "IPY_MODEL_adaf27c3f4764e6581c1386d8a4589d2",
       "max": 9237,
       "style": "IPY_MODEL_8f69e20ba36943bb9fa857ab47555f3d",
       "value": 9237
      }
     },
     "bc0380b044a14aed96a8be736d35c1bf": {
      "model_module": "@jupyter-widgets/base",
      "model_module_version": "1.2.0",
      "model_name": "LayoutModel",
      "state": {}
     },
     "bc2573a848134beaab2feb549f788f45": {
      "model_module": "@jupyter-widgets/base",
      "model_module_version": "1.2.0",
      "model_name": "LayoutModel",
      "state": {}
     },
     "bc83d1d01518418a8457a89a25344c45": {
      "model_module": "@jupyter-widgets/controls",
      "model_module_version": "1.5.0",
      "model_name": "FloatProgressModel",
      "state": {
       "bar_style": "success",
       "description": "100%",
       "layout": "IPY_MODEL_7e33e58d92934d38b33bcc547ea2a032",
       "max": 9237,
       "style": "IPY_MODEL_25757e4721bb4ecf98c57d5862ed864b",
       "value": 9237
      }
     },
     "bc84ecdf94bd49b48f383fbf7fb7dbc0": {
      "model_module": "@jupyter-widgets/controls",
      "model_module_version": "1.5.0",
      "model_name": "HTMLModel",
      "state": {
       "layout": "IPY_MODEL_b73f962c0e664c1ca878fa3736e3cf62",
       "style": "IPY_MODEL_9d5277d7d588414cb10715d8218d053e",
       "value": " 9237/9237 [00:32&lt;00:00, 280.41it/s]"
      }
     },
     "bca56300a5d44cfeb5ddae30e798295b": {
      "model_module": "@jupyter-widgets/controls",
      "model_module_version": "1.5.0",
      "model_name": "HBoxModel",
      "state": {
       "children": [
        "IPY_MODEL_4157c96fda38462fb950f3286ee236a2",
        "IPY_MODEL_d287da6e851149f4974ec39ff2d75c3c"
       ],
       "layout": "IPY_MODEL_9a22d2dde8d34b86a67f8a48e9599e1c"
      }
     },
     "bcaabe4e8475419f80affa9366d9d170": {
      "model_module": "@jupyter-widgets/base",
      "model_module_version": "1.2.0",
      "model_name": "LayoutModel",
      "state": {}
     },
     "bcabfb8c37ba411ab86a59d885a269d0": {
      "model_module": "@jupyter-widgets/controls",
      "model_module_version": "1.5.0",
      "model_name": "FloatProgressModel",
      "state": {
       "bar_style": "success",
       "description": "100%",
       "layout": "IPY_MODEL_66b99f9db8d141eeafddbc4c72438b86",
       "max": 7140,
       "style": "IPY_MODEL_6116e9e232b84d809c83a8d018066e11",
       "value": 7140
      }
     },
     "bccb99e4a07a4e7aa5e5db185880dd1c": {
      "model_module": "@jupyter-widgets/controls",
      "model_module_version": "1.5.0",
      "model_name": "FloatProgressModel",
      "state": {
       "bar_style": "success",
       "description": "100%",
       "layout": "IPY_MODEL_588e8c87b17d4bf2a33b73ff6d1cd79d",
       "max": 9237,
       "style": "IPY_MODEL_8d1ccea7fde6450fa69004b472f1b7d1",
       "value": 9237
      }
     },
     "bd0fa6fd990d4fc88fc4619dec8d63a2": {
      "model_module": "@jupyter-widgets/controls",
      "model_module_version": "1.5.0",
      "model_name": "FloatProgressModel",
      "state": {
       "bar_style": "success",
       "description": "100%",
       "layout": "IPY_MODEL_8890b1e3ec8142b28a7291ee009e9865",
       "max": 9237,
       "style": "IPY_MODEL_0e501ac833f04667a867b471d7601896",
       "value": 9237
      }
     },
     "bd38319f660e461e9f2eef9a518c6079": {
      "model_module": "@jupyter-widgets/controls",
      "model_module_version": "1.5.0",
      "model_name": "ProgressStyleModel",
      "state": {
       "description_width": "initial"
      }
     },
     "bd73d81452a74ca7936c066880fad80f": {
      "model_module": "@jupyter-widgets/controls",
      "model_module_version": "1.5.0",
      "model_name": "HBoxModel",
      "state": {
       "children": [
        "IPY_MODEL_93c0131a44234038b8f12cd8e49123d4",
        "IPY_MODEL_20d7b16867b54f5fb53206fea5baa63b"
       ],
       "layout": "IPY_MODEL_fbed94e41b8647ba9fced480d038b641"
      }
     },
     "bdae9b37c20342ccbcf23981dbfa1805": {
      "model_module": "@jupyter-widgets/controls",
      "model_module_version": "1.5.0",
      "model_name": "FloatProgressModel",
      "state": {
       "bar_style": "success",
       "description": "100%",
       "layout": "IPY_MODEL_2231bcaf47ca47668c8cfde0e6463a80",
       "max": 29991,
       "style": "IPY_MODEL_010f867691ed4a33a7c5e34c5d5f7b5a",
       "value": 29991
      }
     },
     "bdec2ba61e3f45dcb62a94b045a88a17": {
      "model_module": "@jupyter-widgets/controls",
      "model_module_version": "1.5.0",
      "model_name": "HBoxModel",
      "state": {
       "children": [
        "IPY_MODEL_4393489b3c64496a9fb4fae872964b82",
        "IPY_MODEL_f7eec893f59b4c1c81f70677f51f5760"
       ],
       "layout": "IPY_MODEL_8e66880ab7ce40d5af9c662bb427cc88"
      }
     },
     "be018db49eec43fdb06eed8c3b284e1d": {
      "model_module": "@jupyter-widgets/base",
      "model_module_version": "1.2.0",
      "model_name": "LayoutModel",
      "state": {}
     },
     "be0a6a56ba784a0ebba87b3e5f887d64": {
      "model_module": "@jupyter-widgets/controls",
      "model_module_version": "1.5.0",
      "model_name": "HTMLModel",
      "state": {
       "layout": "IPY_MODEL_c5e4258a2f2c4761bec19ad0b1656777",
       "style": "IPY_MODEL_3526f9abcc984775a2bfba76c1a0087b",
       "value": " 3571/3571 [08:16&lt;00:00,  7.19it/s]"
      }
     },
     "be0fb75290fc4aa9868406431ed67fa3": {
      "model_module": "@jupyter-widgets/controls",
      "model_module_version": "1.5.0",
      "model_name": "ProgressStyleModel",
      "state": {
       "description_width": "initial"
      }
     },
     "be2acaea9eb14639977990f0a02057f8": {
      "model_module": "@jupyter-widgets/controls",
      "model_module_version": "1.5.0",
      "model_name": "DescriptionStyleModel",
      "state": {
       "description_width": ""
      }
     },
     "be300854da3044d78167382f50e41dc3": {
      "model_module": "@jupyter-widgets/controls",
      "model_module_version": "1.5.0",
      "model_name": "FloatProgressModel",
      "state": {
       "bar_style": "success",
       "description": "100%",
       "layout": "IPY_MODEL_808614a7507e463aa0687092bc443296",
       "max": 9236,
       "style": "IPY_MODEL_e97f94a620ff45fca96abe531699a1cf",
       "value": 9236
      }
     },
     "be398fc9ec9a4d2db054bcd7956e0d07": {
      "model_module": "@jupyter-widgets/base",
      "model_module_version": "1.2.0",
      "model_name": "LayoutModel",
      "state": {}
     },
     "be61c33dbffe4ae8a42db7162246ed07": {
      "model_module": "@jupyter-widgets/controls",
      "model_module_version": "1.5.0",
      "model_name": "HBoxModel",
      "state": {
       "children": [
        "IPY_MODEL_cfd4d2164a1845f8bfd88271a11c0bb4",
        "IPY_MODEL_815e0c6ac1554a41a22821522acf3f14"
       ],
       "layout": "IPY_MODEL_8f24b5b5120448189b986733d8b8233d"
      }
     },
     "be7dbd6f18b749fe83222e3dadcf1e0d": {
      "model_module": "@jupyter-widgets/controls",
      "model_module_version": "1.5.0",
      "model_name": "HBoxModel",
      "state": {
       "children": [
        "IPY_MODEL_7ff60da516b2441784af39e23d6e835a",
        "IPY_MODEL_1d57a64543e646f4ad8e548f9eb389f3"
       ],
       "layout": "IPY_MODEL_e2705883f8f34eb285d214e09ca1945b"
      }
     },
     "be821ebc30a74ac7bfbaea2fac96623d": {
      "model_module": "@jupyter-widgets/base",
      "model_module_version": "1.2.0",
      "model_name": "LayoutModel",
      "state": {}
     },
     "be84a2269a524ee589f5bd88cef1707d": {
      "model_module": "@jupyter-widgets/controls",
      "model_module_version": "1.5.0",
      "model_name": "DescriptionStyleModel",
      "state": {
       "description_width": ""
      }
     },
     "bea67a4c41314baaacfb338e867b9dfd": {
      "model_module": "@jupyter-widgets/controls",
      "model_module_version": "1.5.0",
      "model_name": "ProgressStyleModel",
      "state": {
       "description_width": "initial"
      }
     },
     "bf2224514f6d4d8499280084282ae21a": {
      "model_module": "@jupyter-widgets/base",
      "model_module_version": "1.2.0",
      "model_name": "LayoutModel",
      "state": {}
     },
     "bf4db3228f464050b832a67004397390": {
      "model_module": "@jupyter-widgets/base",
      "model_module_version": "1.2.0",
      "model_name": "LayoutModel",
      "state": {}
     },
     "bf53aa3efbf7494ab5c1bf1c89ea530c": {
      "model_module": "@jupyter-widgets/controls",
      "model_module_version": "1.5.0",
      "model_name": "FloatProgressModel",
      "state": {
       "bar_style": "success",
       "description": "100%",
       "layout": "IPY_MODEL_10281cb9faac485f89a1225de0877ff1",
       "max": 517256,
       "style": "IPY_MODEL_52e23886630241ad9b5f784535de6779",
       "value": 517256
      }
     },
     "bf5fe6942c77440aa3d4322bff2d257c": {
      "model_module": "@jupyter-widgets/controls",
      "model_module_version": "1.5.0",
      "model_name": "DescriptionStyleModel",
      "state": {
       "description_width": ""
      }
     },
     "bf60e58ab213488a9a1d917da1de49a2": {
      "model_module": "@jupyter-widgets/controls",
      "model_module_version": "1.5.0",
      "model_name": "HTMLModel",
      "state": {
       "layout": "IPY_MODEL_b3ffad1134734bdbbeb63f9262b77950",
       "style": "IPY_MODEL_21b3c97e415c4f74a231a0be2727072e",
       "value": " 9236/9236 [00:32&lt;00:00, 287.96it/s]"
      }
     },
     "bf78c61642d644a4a3f9d4b3656d1181": {
      "model_module": "@jupyter-widgets/controls",
      "model_module_version": "1.5.0",
      "model_name": "HTMLModel",
      "state": {
       "layout": "IPY_MODEL_f62fdce863064e2cb9e03d052dee3060",
       "style": "IPY_MODEL_06fa7124d3c946b9a958bb8f8b53569c",
       "value": " 9999/9999 [00:01&lt;00:00, 6533.99it/s]"
      }
     },
     "bff04ef44fc34216a19ebc0518f635a8": {
      "model_module": "@jupyter-widgets/controls",
      "model_module_version": "1.5.0",
      "model_name": "HTMLModel",
      "state": {
       "layout": "IPY_MODEL_b49a5ea7e7a74505ab3c224dc4fc994d",
       "style": "IPY_MODEL_77124de5cf6f42b3b0ee0a2f6b8661d5",
       "value": " 2857/2857 [06:10&lt;00:00,  7.72it/s]"
      }
     },
     "bff7ccba93564cecbce79665f2a68471": {
      "model_module": "@jupyter-widgets/controls",
      "model_module_version": "1.5.0",
      "model_name": "DescriptionStyleModel",
      "state": {
       "description_width": ""
      }
     },
     "c008be62ac8e4dc0afe6725ebd3e7064": {
      "model_module": "@jupyter-widgets/base",
      "model_module_version": "1.2.0",
      "model_name": "LayoutModel",
      "state": {}
     },
     "c00e01fdeead461f8caeb7a71356ee56": {
      "model_module": "@jupyter-widgets/controls",
      "model_module_version": "1.5.0",
      "model_name": "HTMLModel",
      "state": {
       "layout": "IPY_MODEL_88752425668e4e87aad1ebbee452c7ca",
       "style": "IPY_MODEL_64691b1f1b594a0bb8d24ffbe4c9d67b",
       "value": " 9237/9237 [00:27&lt;00:00, 340.18it/s]"
      }
     },
     "c01a33eae0db4ac4be4e253ed9e68cb6": {
      "model_module": "@jupyter-widgets/controls",
      "model_module_version": "1.5.0",
      "model_name": "FloatProgressModel",
      "state": {
       "bar_style": "success",
       "description": "100%",
       "layout": "IPY_MODEL_229f6e7c95fc41efadbdba94e86515e8",
       "max": 9236,
       "style": "IPY_MODEL_e3736873b6bb4b86ae2e4a3f864d3664",
       "value": 9236
      }
     },
     "c02e7e1eed4d4aa08c0b92e5f46d19e3": {
      "model_module": "@jupyter-widgets/base",
      "model_module_version": "1.2.0",
      "model_name": "LayoutModel",
      "state": {}
     },
     "c03d675ffe9749b8968ed1dd856b445d": {
      "model_module": "@jupyter-widgets/controls",
      "model_module_version": "1.5.0",
      "model_name": "DescriptionStyleModel",
      "state": {
       "description_width": ""
      }
     },
     "c04da2c8ab2b48ccbb0dddb67fb903b2": {
      "model_module": "@jupyter-widgets/base",
      "model_module_version": "1.2.0",
      "model_name": "LayoutModel",
      "state": {}
     },
     "c051e4ef950a4a9e861ab03fe3c6f6b7": {
      "model_module": "@jupyter-widgets/base",
      "model_module_version": "1.2.0",
      "model_name": "LayoutModel",
      "state": {}
     },
     "c0746ca0fcb54da88610910cd04f442d": {
      "model_module": "@jupyter-widgets/controls",
      "model_module_version": "1.5.0",
      "model_name": "HTMLModel",
      "state": {
       "layout": "IPY_MODEL_f3496b2c3e7f42269c6d73e277a29214",
       "style": "IPY_MODEL_099ee102de1c43fa8a0ea2ab15e980f3",
       "value": " 40027/40027 [00:10&lt;00:00, 3745.75it/s]"
      }
     },
     "c07567d6405a4e74bb1571bd3d895fea": {
      "model_module": "@jupyter-widgets/base",
      "model_module_version": "1.2.0",
      "model_name": "LayoutModel",
      "state": {}
     },
     "c07abe9245bd41c1a4fc09d8043f0da6": {
      "model_module": "@jupyter-widgets/base",
      "model_module_version": "1.2.0",
      "model_name": "LayoutModel",
      "state": {}
     },
     "c0b7daa714b44d89b9e00f630de3cb97": {
      "model_module": "@jupyter-widgets/controls",
      "model_module_version": "1.5.0",
      "model_name": "HBoxModel",
      "state": {
       "children": [
        "IPY_MODEL_766d420bf58e446a9aa7b562d521194b",
        "IPY_MODEL_716cc89548b348e4890b51769026ba3a"
       ],
       "layout": "IPY_MODEL_6dfa9247baa14c00af96e6bbea6b5326"
      }
     },
     "c0b9a3655ab044f8bcdbb29119c6cfab": {
      "model_module": "@jupyter-widgets/controls",
      "model_module_version": "1.5.0",
      "model_name": "FloatProgressModel",
      "state": {
       "bar_style": "success",
       "description": "100%",
       "layout": "IPY_MODEL_e3dd9c44dda44da389cd79c40c353a5b",
       "max": 3570,
       "style": "IPY_MODEL_1045962f3c2643dbb60ad99f6cfc15e2",
       "value": 3570
      }
     },
     "c0c365190ddb43929202f225b0f6d69a": {
      "model_module": "@jupyter-widgets/base",
      "model_module_version": "1.2.0",
      "model_name": "LayoutModel",
      "state": {}
     },
     "c0d27d4e2bdc428b8ea067452af1ae23": {
      "model_module": "@jupyter-widgets/controls",
      "model_module_version": "1.5.0",
      "model_name": "HTMLModel",
      "state": {
       "layout": "IPY_MODEL_f9b1e73eb4564e589fd953559fff972b",
       "style": "IPY_MODEL_a5add2e20c5d4004a0d7e1712b7539c0",
       "value": " 9237/9237 [14:14&lt;00:00, 10.81it/s]"
      }
     },
     "c0dc926f56004255a3b080ca9fa313bd": {
      "model_module": "@jupyter-widgets/base",
      "model_module_version": "1.2.0",
      "model_name": "LayoutModel",
      "state": {}
     },
     "c0eaea3d33cc437bb57e057758d91c7d": {
      "model_module": "@jupyter-widgets/controls",
      "model_module_version": "1.5.0",
      "model_name": "HTMLModel",
      "state": {
       "layout": "IPY_MODEL_b809f101c26b462a91092b57998d3c26",
       "style": "IPY_MODEL_c03d675ffe9749b8968ed1dd856b445d",
       "value": " 20000/20000 [00:00&lt;00:00, 85666.40it/s]"
      }
     },
     "c110461fa689456fa6d477aaa5e37496": {
      "model_module": "@jupyter-widgets/controls",
      "model_module_version": "1.5.0",
      "model_name": "FloatProgressModel",
      "state": {
       "bar_style": "success",
       "description": "100%",
       "layout": "IPY_MODEL_f2042cb2d16841eda89836d8954f3930",
       "max": 7140,
       "style": "IPY_MODEL_989c56928fe745b6b6405b2f14562946",
       "value": 7140
      }
     },
     "c121c27f4da3452d8e7e4e203b16969b": {
      "model_module": "@jupyter-widgets/controls",
      "model_module_version": "1.5.0",
      "model_name": "FloatProgressModel",
      "state": {
       "bar_style": "success",
       "description": "100%",
       "layout": "IPY_MODEL_6e39eaa7f3da443f99b1e0f3e486a73f",
       "max": 2857,
       "style": "IPY_MODEL_7f3196cae66c44ecbb086296f33af0ca",
       "value": 2857
      }
     },
     "c132e80f30484150b23cb367befb57c1": {
      "model_module": "@jupyter-widgets/base",
      "model_module_version": "1.2.0",
      "model_name": "LayoutModel",
      "state": {}
     },
     "c162174a6d714249a1ad5014def95c6b": {
      "model_module": "@jupyter-widgets/controls",
      "model_module_version": "1.5.0",
      "model_name": "HBoxModel",
      "state": {
       "children": [
        "IPY_MODEL_84cd8244a08549a093603a064793cbed",
        "IPY_MODEL_7c9df1a4eb9149b0a2b0b04aefb1e1c6"
       ],
       "layout": "IPY_MODEL_c132e80f30484150b23cb367befb57c1"
      }
     },
     "c16ff8f36cf64afea1c02200d25740a7": {
      "model_module": "@jupyter-widgets/controls",
      "model_module_version": "1.5.0",
      "model_name": "ProgressStyleModel",
      "state": {
       "description_width": "initial"
      }
     },
     "c183e00e2b574aa69013dbd02ed26be9": {
      "model_module": "@jupyter-widgets/base",
      "model_module_version": "1.2.0",
      "model_name": "LayoutModel",
      "state": {}
     },
     "c1a2731d08da430085082e52bb1562ce": {
      "model_module": "@jupyter-widgets/base",
      "model_module_version": "1.2.0",
      "model_name": "LayoutModel",
      "state": {}
     },
     "c1b4658e302548e0b117c7805f896515": {
      "model_module": "@jupyter-widgets/base",
      "model_module_version": "1.2.0",
      "model_name": "LayoutModel",
      "state": {}
     },
     "c1ba9031d80e4b28a1608e9bfc1e5eef": {
      "model_module": "@jupyter-widgets/base",
      "model_module_version": "1.2.0",
      "model_name": "LayoutModel",
      "state": {}
     },
     "c1c6d99b293144588e5efe164445dae1": {
      "model_module": "@jupyter-widgets/base",
      "model_module_version": "1.2.0",
      "model_name": "LayoutModel",
      "state": {}
     },
     "c1d7669f9f91413184fbae2a00ccf246": {
      "model_module": "@jupyter-widgets/controls",
      "model_module_version": "1.5.0",
      "model_name": "ProgressStyleModel",
      "state": {
       "description_width": "initial"
      }
     },
     "c1f0e90330964b08b3616eb8490e4be9": {
      "model_module": "@jupyter-widgets/base",
      "model_module_version": "1.2.0",
      "model_name": "LayoutModel",
      "state": {}
     },
     "c1f5fd3aaaf34878942cc4eae34d6c3b": {
      "model_module": "@jupyter-widgets/controls",
      "model_module_version": "1.5.0",
      "model_name": "HTMLModel",
      "state": {
       "layout": "IPY_MODEL_bbaac40dc21c4503bd22486ca2fab4b4",
       "style": "IPY_MODEL_674e368392a34c8bb51b3cc905b4a9af",
       "value": " 9237/9237 [00:31&lt;00:00, 288.89it/s]"
      }
     },
     "c20db435ce0b46f386cc2b67456ef85d": {
      "model_module": "@jupyter-widgets/controls",
      "model_module_version": "1.5.0",
      "model_name": "ProgressStyleModel",
      "state": {
       "description_width": "initial"
      }
     },
     "c2110e17fcfa461c825cd5a29654c443": {
      "model_module": "@jupyter-widgets/base",
      "model_module_version": "1.2.0",
      "model_name": "LayoutModel",
      "state": {}
     },
     "c2bcf4af75bb4458840489a2cc36655f": {
      "model_module": "@jupyter-widgets/base",
      "model_module_version": "1.2.0",
      "model_name": "LayoutModel",
      "state": {}
     },
     "c2e3569d4d3044208ccff8097dc0f670": {
      "model_module": "@jupyter-widgets/controls",
      "model_module_version": "1.5.0",
      "model_name": "HTMLModel",
      "state": {
       "layout": "IPY_MODEL_dcd5c143240442c88bae75d441cc5f7b",
       "style": "IPY_MODEL_779a3e977b044b4db59c21d529d99a37",
       "value": " 9237/9237 [00:35&lt;00:00, 262.03it/s]"
      }
     },
     "c2f5e61e2c444f5fa14d6d8a88bc4864": {
      "model_module": "@jupyter-widgets/base",
      "model_module_version": "1.2.0",
      "model_name": "LayoutModel",
      "state": {}
     },
     "c345610bd8dd44f3ab4d198f4f541b2f": {
      "model_module": "@jupyter-widgets/controls",
      "model_module_version": "1.5.0",
      "model_name": "DescriptionStyleModel",
      "state": {
       "description_width": ""
      }
     },
     "c34f8b41c4df4ae8adf38120294e67ce": {
      "model_module": "@jupyter-widgets/controls",
      "model_module_version": "1.5.0",
      "model_name": "HTMLModel",
      "state": {
       "layout": "IPY_MODEL_a44ffa4b90804e179bdacec1edf992cb",
       "style": "IPY_MODEL_abae3096c62344bfb760c4727a7a80c3",
       "value": " 9236/9236 [13:04&lt;00:00, 11.77it/s]"
      }
     },
     "c368a0efd7174e97b9f8974f35e963ce": {
      "model_module": "@jupyter-widgets/controls",
      "model_module_version": "1.5.0",
      "model_name": "HTMLModel",
      "state": {
       "layout": "IPY_MODEL_d6a74466a74144cbae90232399d33e79",
       "style": "IPY_MODEL_47db44e7f2f74f328a7c18249b5254f2",
       "value": " 4285/4285 [10:05&lt;00:00,  7.08it/s]"
      }
     },
     "c37c8ab5c9184683a6cb089117f950b1": {
      "model_module": "@jupyter-widgets/controls",
      "model_module_version": "1.5.0",
      "model_name": "FloatProgressModel",
      "state": {
       "bar_style": "success",
       "description": "100%",
       "layout": "IPY_MODEL_384d0dbc33d94ada8f491b61cec97c3d",
       "max": 1429,
       "style": "IPY_MODEL_77edb24f437646afa2f26cce10df6e17",
       "value": 1429
      }
     },
     "c39e554f7be44b9c8c185ebeaba5e713": {
      "model_module": "@jupyter-widgets/base",
      "model_module_version": "1.2.0",
      "model_name": "LayoutModel",
      "state": {}
     },
     "c3c7c3335df54bf2be6c7923a9b9accc": {
      "model_module": "@jupyter-widgets/base",
      "model_module_version": "1.2.0",
      "model_name": "LayoutModel",
      "state": {}
     },
     "c426bfbd817c4c328e8acc296c49f0bb": {
      "model_module": "@jupyter-widgets/controls",
      "model_module_version": "1.5.0",
      "model_name": "HTMLModel",
      "state": {
       "layout": "IPY_MODEL_ff67475e1ad141689eb515ea1326d886",
       "style": "IPY_MODEL_c345610bd8dd44f3ab4d198f4f541b2f",
       "value": " 9236/9236 [00:34&lt;00:00, 270.55it/s]"
      }
     },
     "c45e02f97003444f949a01732f44000e": {
      "model_module": "@jupyter-widgets/controls",
      "model_module_version": "1.5.0",
      "model_name": "ProgressStyleModel",
      "state": {
       "description_width": "initial"
      }
     },
     "c4690d49d3554fca92c70f151546cc69": {
      "model_module": "@jupyter-widgets/controls",
      "model_module_version": "1.5.0",
      "model_name": "HBoxModel",
      "state": {
       "children": [
        "IPY_MODEL_76832fe56f5f4560814d75e39d0f74c5",
        "IPY_MODEL_228738040104409d95f4f561a5b1fc3d"
       ],
       "layout": "IPY_MODEL_1e8a0060fb224439970ddaa50535f527"
      }
     },
     "c487944e0490434b865107b1729e7ba1": {
      "model_module": "@jupyter-widgets/base",
      "model_module_version": "1.2.0",
      "model_name": "LayoutModel",
      "state": {}
     },
     "c49de73eb0ad40beb080a95f73ecb2ad": {
      "model_module": "@jupyter-widgets/base",
      "model_module_version": "1.2.0",
      "model_name": "LayoutModel",
      "state": {}
     },
     "c4aa5fba1c1c41cc91d15ed271fb9b00": {
      "model_module": "@jupyter-widgets/controls",
      "model_module_version": "1.5.0",
      "model_name": "HBoxModel",
      "state": {
       "children": [
        "IPY_MODEL_436e20320a354580a2cd4f5878dc906f",
        "IPY_MODEL_4359cf74be914f1682bc3981e224ac40"
       ],
       "layout": "IPY_MODEL_1daa0040e02149c2b065a653911ca5c4"
      }
     },
     "c4ac0dfe81fd47c39401297b3993a8c9": {
      "model_module": "@jupyter-widgets/controls",
      "model_module_version": "1.5.0",
      "model_name": "HBoxModel",
      "state": {
       "children": [
        "IPY_MODEL_be300854da3044d78167382f50e41dc3",
        "IPY_MODEL_5fca3eac98414e8db44ce66e5846f306"
       ],
       "layout": "IPY_MODEL_ab32bddb6009499c9b6360aedaeb76f4"
      }
     },
     "c4c3203554d6443b94302d7390c9dfec": {
      "model_module": "@jupyter-widgets/base",
      "model_module_version": "1.2.0",
      "model_name": "LayoutModel",
      "state": {}
     },
     "c4eeaf77efcb4939aa73c2d1a067b747": {
      "model_module": "@jupyter-widgets/controls",
      "model_module_version": "1.5.0",
      "model_name": "ProgressStyleModel",
      "state": {
       "description_width": "initial"
      }
     },
     "c50f5ebc8de3433193989d082b1b06c9": {
      "model_module": "@jupyter-widgets/base",
      "model_module_version": "1.2.0",
      "model_name": "LayoutModel",
      "state": {}
     },
     "c511f9f4b3e94e7ebb70fb0ae6cd4d3c": {
      "model_module": "@jupyter-widgets/base",
      "model_module_version": "1.2.0",
      "model_name": "LayoutModel",
      "state": {}
     },
     "c534104dae0c4c86bc4cb1ddde5d800c": {
      "model_module": "@jupyter-widgets/controls",
      "model_module_version": "1.5.0",
      "model_name": "HTMLModel",
      "state": {
       "layout": "IPY_MODEL_4d3c4648f36a4d6390230d5b4eca3135",
       "style": "IPY_MODEL_86d7db7c649640d89b27a7eb30924624",
       "value": " 9237/9237 [00:32&lt;00:00, 284.36it/s]"
      }
     },
     "c5384d1ab9b144338ed1e56f1b0568cc": {
      "model_module": "@jupyter-widgets/controls",
      "model_module_version": "1.5.0",
      "model_name": "FloatProgressModel",
      "state": {
       "bar_style": "success",
       "description": "100%",
       "layout": "IPY_MODEL_350334521c0a41f58d1605b799c8cf88",
       "max": 9237,
       "style": "IPY_MODEL_7af79256ea8141f1ab1f13318d96d3de",
       "value": 9237
      }
     },
     "c54d7cf2ad4a4b47820c8b55191f6af4": {
      "model_module": "@jupyter-widgets/controls",
      "model_module_version": "1.5.0",
      "model_name": "DescriptionStyleModel",
      "state": {
       "description_width": ""
      }
     },
     "c5534e35edbb4e729fd34cc65d202c7a": {
      "model_module": "@jupyter-widgets/controls",
      "model_module_version": "1.5.0",
      "model_name": "HTMLModel",
      "state": {
       "layout": "IPY_MODEL_701bb901a6e94369beae30ca9aeb35ec",
       "style": "IPY_MODEL_af3ef07fe1944f22ac7fc28cb8818bf4",
       "value": " 7140/7140 [15:38&lt;00:00,  7.61it/s]"
      }
     },
     "c558248c5b9b47f286b1544df7fa9a04": {
      "model_module": "@jupyter-widgets/controls",
      "model_module_version": "1.5.0",
      "model_name": "HBoxModel",
      "state": {
       "children": [
        "IPY_MODEL_748ba3db072b4533a1be1173ab371580",
        "IPY_MODEL_bf78c61642d644a4a3f9d4b3656d1181"
       ],
       "layout": "IPY_MODEL_7631893374724fe084fe5f4dd8a97fff"
      }
     },
     "c5935684fdb54f51bf58ab42d6d8589c": {
      "model_module": "@jupyter-widgets/base",
      "model_module_version": "1.2.0",
      "model_name": "LayoutModel",
      "state": {}
     },
     "c5e4258a2f2c4761bec19ad0b1656777": {
      "model_module": "@jupyter-widgets/base",
      "model_module_version": "1.2.0",
      "model_name": "LayoutModel",
      "state": {}
     },
     "c5f7a44d0f4441349f1b9b7a1c23bb0b": {
      "model_module": "@jupyter-widgets/base",
      "model_module_version": "1.2.0",
      "model_name": "LayoutModel",
      "state": {}
     },
     "c608662f9ec548cf8e18a4535f08d6c7": {
      "model_module": "@jupyter-widgets/controls",
      "model_module_version": "1.5.0",
      "model_name": "FloatProgressModel",
      "state": {
       "bar_style": "success",
       "description": "100%",
       "layout": "IPY_MODEL_c511f9f4b3e94e7ebb70fb0ae6cd4d3c",
       "max": 9237,
       "style": "IPY_MODEL_07b648d4c00040aea49f2914ed79467a",
       "value": 9237
      }
     },
     "c60f95dde16c4e0a864acbd9f31e8c77": {
      "model_module": "@jupyter-widgets/controls",
      "model_module_version": "1.5.0",
      "model_name": "FloatProgressModel",
      "state": {
       "bar_style": "success",
       "description": "100%",
       "layout": "IPY_MODEL_ba3a2c055ed14af3b0b99d9bd772fedc",
       "max": 9236,
       "style": "IPY_MODEL_152a14aa91aa4f07a3bef63c9f7cfee7",
       "value": 9236
      }
     },
     "c64f20d01dde496db44b5da8c897c0e9": {
      "model_module": "@jupyter-widgets/controls",
      "model_module_version": "1.5.0",
      "model_name": "DescriptionStyleModel",
      "state": {
       "description_width": ""
      }
     },
     "c6712d9b508842cfb1f1c0017667169c": {
      "model_module": "@jupyter-widgets/base",
      "model_module_version": "1.2.0",
      "model_name": "LayoutModel",
      "state": {}
     },
     "c6968025311a4e2d8ac0b321f90b9e13": {
      "model_module": "@jupyter-widgets/base",
      "model_module_version": "1.2.0",
      "model_name": "LayoutModel",
      "state": {}
     },
     "c6ceec8bd24243f8bc4789820b85e75f": {
      "model_module": "@jupyter-widgets/base",
      "model_module_version": "1.2.0",
      "model_name": "LayoutModel",
      "state": {}
     },
     "c6e5bcd8c8c3468a99ec5f5ba39e7b02": {
      "model_module": "@jupyter-widgets/controls",
      "model_module_version": "1.5.0",
      "model_name": "FloatProgressModel",
      "state": {
       "bar_style": "success",
       "description": "100%",
       "layout": "IPY_MODEL_ec3a6532de414ce68133c2631e209de9",
       "max": 7140,
       "style": "IPY_MODEL_0767179c2fbc4f02a74544f1ac116b60",
       "value": 7140
      }
     },
     "c6ffb1b90f18438f8a375425ffc24bb3": {
      "model_module": "@jupyter-widgets/base",
      "model_module_version": "1.2.0",
      "model_name": "LayoutModel",
      "state": {}
     },
     "c72d8917219946669aac0fdca1f56c0f": {
      "model_module": "@jupyter-widgets/controls",
      "model_module_version": "1.5.0",
      "model_name": "ProgressStyleModel",
      "state": {
       "description_width": "initial"
      }
     },
     "c7839462a4fb4943a00c682eae758ad7": {
      "model_module": "@jupyter-widgets/base",
      "model_module_version": "1.2.0",
      "model_name": "LayoutModel",
      "state": {}
     },
     "c79c1dcbb16f43839ff02e51fd7e0cfd": {
      "model_module": "@jupyter-widgets/base",
      "model_module_version": "1.2.0",
      "model_name": "LayoutModel",
      "state": {}
     },
     "c7af11785bc74573ae1dba4e01f64d7b": {
      "model_module": "@jupyter-widgets/base",
      "model_module_version": "1.2.0",
      "model_name": "LayoutModel",
      "state": {}
     },
     "c82bb0367e3c48988e913af926f4aad6": {
      "model_module": "@jupyter-widgets/controls",
      "model_module_version": "1.5.0",
      "model_name": "HTMLModel",
      "state": {
       "layout": "IPY_MODEL_ad2dbe2f135e4382815cd6bb245eeba1",
       "style": "IPY_MODEL_1f24bc6f981246b782e6d3d0ab1fa994",
       "value": " 7140/7140 [17:27&lt;00:00,  6.82it/s]"
      }
     },
     "c83f1bd411ee4014a321a85fa893534e": {
      "model_module": "@jupyter-widgets/base",
      "model_module_version": "1.2.0",
      "model_name": "LayoutModel",
      "state": {}
     },
     "c867113e479d46599e38c4ef05abeaf9": {
      "model_module": "@jupyter-widgets/controls",
      "model_module_version": "1.5.0",
      "model_name": "DescriptionStyleModel",
      "state": {
       "description_width": ""
      }
     },
     "c897a1dc6ab641a3b47a204bb6ecccaf": {
      "model_module": "@jupyter-widgets/controls",
      "model_module_version": "1.5.0",
      "model_name": "HTMLModel",
      "state": {
       "layout": "IPY_MODEL_23529bca4bce440bb03fe18409eb7232",
       "style": "IPY_MODEL_e2e6c894925b4d65ac7a0d3286796d34",
       "value": " 27825/27825 [00:00&lt;00:00, 179281.76it/s]"
      }
     },
     "c8b3f4be1f5645e1bdd9fba2c9867a10": {
      "model_module": "@jupyter-widgets/controls",
      "model_module_version": "1.5.0",
      "model_name": "HBoxModel",
      "state": {
       "children": [
        "IPY_MODEL_8aa57988d9ac40c697b0b750de74ec07",
        "IPY_MODEL_bff04ef44fc34216a19ebc0518f635a8"
       ],
       "layout": "IPY_MODEL_2a2c0859e96b41b18a6f2fce5cbc6a8b"
      }
     },
     "c8c63a86cc2448f5b39427128bb5d227": {
      "model_module": "@jupyter-widgets/base",
      "model_module_version": "1.2.0",
      "model_name": "LayoutModel",
      "state": {}
     },
     "c8c85f4c55304504aa5a9795b7c85fac": {
      "model_module": "@jupyter-widgets/controls",
      "model_module_version": "1.5.0",
      "model_name": "ProgressStyleModel",
      "state": {
       "description_width": "initial"
      }
     },
     "c92f1eb66936486e93802fc804c08ab9": {
      "model_module": "@jupyter-widgets/controls",
      "model_module_version": "1.5.0",
      "model_name": "FloatProgressModel",
      "state": {
       "bar_style": "success",
       "description": "100%",
       "layout": "IPY_MODEL_77532c78ce1a4cd1af1556eb7cef537b",
       "max": 2856,
       "style": "IPY_MODEL_a33ce9713d99486e857a1c7c058af9f1",
       "value": 2856
      }
     },
     "c9309d62e007426f8d229d64dead8f33": {
      "model_module": "@jupyter-widgets/controls",
      "model_module_version": "1.5.0",
      "model_name": "ProgressStyleModel",
      "state": {
       "description_width": "initial"
      }
     },
     "c952763412834b1c92f064eefa3c316a": {
      "model_module": "@jupyter-widgets/controls",
      "model_module_version": "1.5.0",
      "model_name": "HTMLModel",
      "state": {
       "layout": "IPY_MODEL_dffe6b7b7c574b71a41ea2a0c562da60",
       "style": "IPY_MODEL_21a55f5a0a79421fa0f87bf4e3aeaee9",
       "value": " 9236/9236 [13:07&lt;00:00, 11.73it/s]"
      }
     },
     "c97ae872839041b19fed4248732602a9": {
      "model_module": "@jupyter-widgets/base",
      "model_module_version": "1.2.0",
      "model_name": "LayoutModel",
      "state": {}
     },
     "c97cfcc3de6641a396da421cf347e451": {
      "model_module": "@jupyter-widgets/controls",
      "model_module_version": "1.5.0",
      "model_name": "DescriptionStyleModel",
      "state": {
       "description_width": ""
      }
     },
     "c9ed115b2f86406c87c210eee6518b0d": {
      "model_module": "@jupyter-widgets/controls",
      "model_module_version": "1.5.0",
      "model_name": "FloatProgressModel",
      "state": {
       "bar_style": "success",
       "description": "100%",
       "layout": "IPY_MODEL_8d844ffd9f4740d09891b79deef67a9a",
       "max": 25000,
       "style": "IPY_MODEL_76b68b566db54505b2daeea68382621d",
       "value": 25000
      }
     },
     "ca268d2bae9e45faa817ecca72eb6454": {
      "model_module": "@jupyter-widgets/base",
      "model_module_version": "1.2.0",
      "model_name": "LayoutModel",
      "state": {}
     },
     "ca6f77bb70934db9ac45332cee3a6dc5": {
      "model_module": "@jupyter-widgets/controls",
      "model_module_version": "1.5.0",
      "model_name": "FloatProgressModel",
      "state": {
       "bar_style": "success",
       "description": "100%",
       "layout": "IPY_MODEL_490421731c344f08b9ed92d8e158ce91",
       "max": 30000,
       "style": "IPY_MODEL_d066b1fa830b4afd8d166727593796b2",
       "value": 30000
      }
     },
     "ca8f0c39528a43ba961e028fc70f4d63": {
      "model_module": "@jupyter-widgets/base",
      "model_module_version": "1.2.0",
      "model_name": "LayoutModel",
      "state": {}
     },
     "ca8f3a8dc5914d12ba3df70a484e5def": {
      "model_module": "@jupyter-widgets/base",
      "model_module_version": "1.2.0",
      "model_name": "LayoutModel",
      "state": {}
     },
     "cac9fb1b54964f66a8ddd30c1ef494ec": {
      "model_module": "@jupyter-widgets/controls",
      "model_module_version": "1.5.0",
      "model_name": "HBoxModel",
      "state": {
       "children": [
        "IPY_MODEL_bf53aa3efbf7494ab5c1bf1c89ea530c",
        "IPY_MODEL_039e2736de424b0fbc1e790d2ac829bc"
       ],
       "layout": "IPY_MODEL_b56e8e1d0f1b4f12b9b3c70715a30ba4"
      }
     },
     "cb42c2c8e4d74dad813ac5acabb40602": {
      "model_module": "@jupyter-widgets/controls",
      "model_module_version": "1.5.0",
      "model_name": "DescriptionStyleModel",
      "state": {
       "description_width": ""
      }
     },
     "cb54cf076369493f95885ca8d920c8b5": {
      "model_module": "@jupyter-widgets/base",
      "model_module_version": "1.2.0",
      "model_name": "LayoutModel",
      "state": {}
     },
     "cbc1275d93594cdd8ed4b061d9afd77e": {
      "model_module": "@jupyter-widgets/controls",
      "model_module_version": "1.5.0",
      "model_name": "HTMLModel",
      "state": {
       "layout": "IPY_MODEL_b6a86744c6c545e99bb99ddd274b4f89",
       "style": "IPY_MODEL_79d5e08d29254b908079a45f7479015c",
       "value": " 4285/4285 [10:04&lt;00:00,  7.08it/s]"
      }
     },
     "cbef43ad8c21429e884ae31586c58507": {
      "model_module": "@jupyter-widgets/base",
      "model_module_version": "1.2.0",
      "model_name": "LayoutModel",
      "state": {}
     },
     "cc2bb93433524dfebe4717dd5346c55f": {
      "model_module": "@jupyter-widgets/controls",
      "model_module_version": "1.5.0",
      "model_name": "HBoxModel",
      "state": {
       "children": [
        "IPY_MODEL_353f1451fe304a1e84e25f83d2ba0fa7",
        "IPY_MODEL_87134762bf9c43b29140743214710d17"
       ],
       "layout": "IPY_MODEL_17a1e582ac5648569ca8a0310c1a3fcb"
      }
     },
     "cc862497eea54211916f40d8d59187e8": {
      "model_module": "@jupyter-widgets/base",
      "model_module_version": "1.2.0",
      "model_name": "LayoutModel",
      "state": {}
     },
     "cc9ed2fd097f4b40a3b56f7e0f845eec": {
      "model_module": "@jupyter-widgets/controls",
      "model_module_version": "1.5.0",
      "model_name": "DescriptionStyleModel",
      "state": {
       "description_width": ""
      }
     },
     "ccc5a1f97fbe4471a882fb0284069092": {
      "model_module": "@jupyter-widgets/base",
      "model_module_version": "1.2.0",
      "model_name": "LayoutModel",
      "state": {}
     },
     "cd0eb970cefd43b0adaf0a7564b2ecd0": {
      "model_module": "@jupyter-widgets/base",
      "model_module_version": "1.2.0",
      "model_name": "LayoutModel",
      "state": {}
     },
     "cd1c523de77041e29a364e312e63e5c8": {
      "model_module": "@jupyter-widgets/controls",
      "model_module_version": "1.5.0",
      "model_name": "HBoxModel",
      "state": {
       "children": [
        "IPY_MODEL_d7559875d5cd40e890f720ae13d8fc2b",
        "IPY_MODEL_467cda6823bf4523b7a5a419cd39239a"
       ],
       "layout": "IPY_MODEL_e5abddc6913b49f7ac1534587800ed85"
      }
     },
     "cd1e5eb5fa024a1aa6ce92f25f940373": {
      "model_module": "@jupyter-widgets/base",
      "model_module_version": "1.2.0",
      "model_name": "LayoutModel",
      "state": {}
     },
     "cd1f95cd5682429bbcbcb16058bc389b": {
      "model_module": "@jupyter-widgets/base",
      "model_module_version": "1.2.0",
      "model_name": "LayoutModel",
      "state": {}
     },
     "cd32f49d95cf495ea0e0b99c0602df34": {
      "model_module": "@jupyter-widgets/controls",
      "model_module_version": "1.5.0",
      "model_name": "HTMLModel",
      "state": {
       "layout": "IPY_MODEL_839a49a08b8d4b8181b713b5d42b6686",
       "style": "IPY_MODEL_951b42756e37427480cdbb2d3ed20dbd",
       "value": " 50000/50000 [00:09&lt;00:00, 5386.55it/s]"
      }
     },
     "cd35ea0b38254a34a58228e6a5461fce": {
      "model_module": "@jupyter-widgets/controls",
      "model_module_version": "1.5.0",
      "model_name": "ProgressStyleModel",
      "state": {
       "description_width": "initial"
      }
     },
     "cd78dcc86c3140d78aca7d0d487c3591": {
      "model_module": "@jupyter-widgets/base",
      "model_module_version": "1.2.0",
      "model_name": "LayoutModel",
      "state": {}
     },
     "cdb8db9810274033b35b3bb73d36e03e": {
      "model_module": "@jupyter-widgets/controls",
      "model_module_version": "1.5.0",
      "model_name": "HTMLModel",
      "state": {
       "layout": "IPY_MODEL_944d9554acb44e1cbcba8b474293fef7",
       "style": "IPY_MODEL_86869b10c4ed40539023db57fddbb090",
       "value": " 30000/30000 [00:00&lt;00:00, 48984.65it/s]"
      }
     },
     "ce63936b20cb4aa6a0b0dc051d809a48": {
      "model_module": "@jupyter-widgets/controls",
      "model_module_version": "1.5.0",
      "model_name": "HBoxModel",
      "state": {
       "children": [
        "IPY_MODEL_871a66a2a8894bcf92f9a36b5edf4cf2",
        "IPY_MODEL_8e0fbc60f5ef4b1986514a53d1cbc2fb"
       ],
       "layout": "IPY_MODEL_f21e0129b22e48f58139807d44c26e83"
      }
     },
     "ce6c681bc16a49c1bf49beee8e40370c": {
      "model_module": "@jupyter-widgets/controls",
      "model_module_version": "1.5.0",
      "model_name": "FloatProgressModel",
      "state": {
       "bar_style": "success",
       "description": "100%",
       "layout": "IPY_MODEL_19a96368b9264e96929ca7cf04a5da0e",
       "max": 9237,
       "style": "IPY_MODEL_b167f6eb35af4e54898f71d2af27289c",
       "value": 9237
      }
     },
     "ce9a5a5807b741f3ac9cdb6bc71b86ec": {
      "model_module": "@jupyter-widgets/controls",
      "model_module_version": "1.5.0",
      "model_name": "HTMLModel",
      "state": {
       "layout": "IPY_MODEL_d79f9dbfb3cc4ff28fbbdb8539741b61",
       "style": "IPY_MODEL_7cb15ff116b0411c82851662348f9d41",
       "value": " 1429/1429 [03:21&lt;00:00,  7.11it/s]"
      }
     },
     "ceab68cb7be84d8e8dd85e063b1531cd": {
      "model_module": "@jupyter-widgets/controls",
      "model_module_version": "1.5.0",
      "model_name": "DescriptionStyleModel",
      "state": {
       "description_width": ""
      }
     },
     "cedad042a9e645d68652e7ea76666541": {
      "model_module": "@jupyter-widgets/base",
      "model_module_version": "1.2.0",
      "model_name": "LayoutModel",
      "state": {}
     },
     "cf166775cdae41028c7eb61d1d016322": {
      "model_module": "@jupyter-widgets/controls",
      "model_module_version": "1.5.0",
      "model_name": "DescriptionStyleModel",
      "state": {
       "description_width": ""
      }
     },
     "cf64a7434f2f497c9edf57b5b56b2e88": {
      "model_module": "@jupyter-widgets/controls",
      "model_module_version": "1.5.0",
      "model_name": "ProgressStyleModel",
      "state": {
       "description_width": "initial"
      }
     },
     "cf7864ed9ce548f39d6df78f4ea24e59": {
      "model_module": "@jupyter-widgets/base",
      "model_module_version": "1.2.0",
      "model_name": "LayoutModel",
      "state": {}
     },
     "cfd4d2164a1845f8bfd88271a11c0bb4": {
      "model_module": "@jupyter-widgets/controls",
      "model_module_version": "1.5.0",
      "model_name": "FloatProgressModel",
      "state": {
       "bar_style": "success",
       "description": "100%",
       "layout": "IPY_MODEL_eefb632686c941d3aa8faa07fbcd59e5",
       "max": 7140,
       "style": "IPY_MODEL_dbd8d6b61402447cb21c758ece65f861",
       "value": 7140
      }
     },
     "cfdf9e7f43a14a98adafcd9bcc610f8f": {
      "model_module": "@jupyter-widgets/controls",
      "model_module_version": "1.5.0",
      "model_name": "ProgressStyleModel",
      "state": {
       "description_width": "initial"
      }
     },
     "d032e5716c3d4b2cb1045c68a7423935": {
      "model_module": "@jupyter-widgets/controls",
      "model_module_version": "1.5.0",
      "model_name": "ProgressStyleModel",
      "state": {
       "description_width": "initial"
      }
     },
     "d03da6d8f5d547868261e3fa7f6ddd6e": {
      "model_module": "@jupyter-widgets/controls",
      "model_module_version": "1.5.0",
      "model_name": "HTMLModel",
      "state": {
       "layout": "IPY_MODEL_cb54cf076369493f95885ca8d920c8b5",
       "style": "IPY_MODEL_b7a8e9352d0e487f88a9186758264642",
       "value": " 9236/9236 [30:53&lt;00:00,  4.98it/s]"
      }
     },
     "d057df1a362e42ca8441cae56a7b98b4": {
      "model_module": "@jupyter-widgets/controls",
      "model_module_version": "1.5.0",
      "model_name": "DescriptionStyleModel",
      "state": {
       "description_width": ""
      }
     },
     "d066b1fa830b4afd8d166727593796b2": {
      "model_module": "@jupyter-widgets/controls",
      "model_module_version": "1.5.0",
      "model_name": "ProgressStyleModel",
      "state": {
       "description_width": "initial"
      }
     },
     "d079fedfc25f4bbab9f011b292eee1b0": {
      "model_module": "@jupyter-widgets/controls",
      "model_module_version": "1.5.0",
      "model_name": "HBoxModel",
      "state": {
       "children": [
        "IPY_MODEL_8ce10fdf9a1549ad90cdd03da3e043ea",
        "IPY_MODEL_835923d5ff3849149dd7799f3288bd56"
       ],
       "layout": "IPY_MODEL_a9c2efeaa0104623a2d6f613b9290f22"
      }
     },
     "d084d37bbfbc4af8995ab5f5476a2af7": {
      "model_module": "@jupyter-widgets/controls",
      "model_module_version": "1.5.0",
      "model_name": "HBoxModel",
      "state": {
       "children": [
        "IPY_MODEL_bcabfb8c37ba411ab86a59d885a269d0",
        "IPY_MODEL_58194845a4484900bf813c30359d696a"
       ],
       "layout": "IPY_MODEL_850b05afa6c444e58b914bac1cd154a6"
      }
     },
     "d0dfc1008381434c96deadffd969550f": {
      "model_module": "@jupyter-widgets/base",
      "model_module_version": "1.2.0",
      "model_name": "LayoutModel",
      "state": {}
     },
     "d0ef43c513c443319340908ce29fd5ce": {
      "model_module": "@jupyter-widgets/base",
      "model_module_version": "1.2.0",
      "model_name": "LayoutModel",
      "state": {}
     },
     "d12282c109cc465c9415e17b1b463448": {
      "model_module": "@jupyter-widgets/controls",
      "model_module_version": "1.5.0",
      "model_name": "FloatProgressModel",
      "state": {
       "bar_style": "success",
       "description": "100%",
       "layout": "IPY_MODEL_c1b4658e302548e0b117c7805f896515",
       "max": 25473,
       "style": "IPY_MODEL_0af90e578f88414fb3782891a97c8370",
       "value": 25473
      }
     },
     "d12d9e06d31d4ba5b4fdf87eb04e0b2b": {
      "model_module": "@jupyter-widgets/controls",
      "model_module_version": "1.5.0",
      "model_name": "ProgressStyleModel",
      "state": {
       "description_width": "initial"
      }
     },
     "d148758a2d874d2f84d38fd60a4911ab": {
      "model_module": "@jupyter-widgets/base",
      "model_module_version": "1.2.0",
      "model_name": "LayoutModel",
      "state": {}
     },
     "d1621128d4d14291b299bfc36d0ca144": {
      "model_module": "@jupyter-widgets/controls",
      "model_module_version": "1.5.0",
      "model_name": "HTMLModel",
      "state": {
       "layout": "IPY_MODEL_e5282f17e41442c497c47763abfea119",
       "style": "IPY_MODEL_6b61069708304acba09c05c60397d8f4",
       "value": " 29991/29991 [00:03&lt;00:00, 7498.56it/s]"
      }
     },
     "d1a0fd5c4d704bc2bdfa8d9698acd643": {
      "model_module": "@jupyter-widgets/controls",
      "model_module_version": "1.5.0",
      "model_name": "ProgressStyleModel",
      "state": {
       "description_width": "initial"
      }
     },
     "d2187ff0e9c4461b863632d438e7ad87": {
      "model_module": "@jupyter-widgets/controls",
      "model_module_version": "1.5.0",
      "model_name": "HTMLModel",
      "state": {
       "layout": "IPY_MODEL_32bdd801d9d441d1b0f21c65a632a7d2",
       "style": "IPY_MODEL_30ebae57f7af445eb4fc18612d0a9bf0",
       "value": " 1429/1429 [03:02&lt;00:00,  7.85it/s]"
      }
     },
     "d219e2ec43804fe09d7ae1db175188a0": {
      "model_module": "@jupyter-widgets/controls",
      "model_module_version": "1.5.0",
      "model_name": "FloatProgressModel",
      "state": {
       "bar_style": "success",
       "description": "100%",
       "layout": "IPY_MODEL_5d244fdf7b684ed3a3acafb4a208622e",
       "max": 50000,
       "style": "IPY_MODEL_4f668d510c5c4f88ad3e17596a245f17",
       "value": 50000
      }
     },
     "d2260a065eef489c81711099796f2bbe": {
      "model_module": "@jupyter-widgets/controls",
      "model_module_version": "1.5.0",
      "model_name": "DescriptionStyleModel",
      "state": {
       "description_width": ""
      }
     },
     "d249a08d79e74f658468d60ea98c32ca": {
      "model_module": "@jupyter-widgets/controls",
      "model_module_version": "1.5.0",
      "model_name": "HTMLModel",
      "state": {
       "layout": "IPY_MODEL_64ce67e6bc444d2eba43247852aa6c31",
       "style": "IPY_MODEL_1c0ff3973ee94c65af4c9cc3fdac83ea",
       "value": " 25473/25473 [00:00&lt;00:00, 80613.26it/s]"
      }
     },
     "d24b0d1587c44a1192661aaacb98e4c3": {
      "model_module": "@jupyter-widgets/controls",
      "model_module_version": "1.5.0",
      "model_name": "DescriptionStyleModel",
      "state": {
       "description_width": ""
      }
     },
     "d27d47e13282499aa159c199a9fadf8e": {
      "model_module": "@jupyter-widgets/controls",
      "model_module_version": "1.5.0",
      "model_name": "HBoxModel",
      "state": {
       "children": [
        "IPY_MODEL_f8c6766f8a35455aa4cea1119ed5f711",
        "IPY_MODEL_d820d5f24a1f440c9fc58d9e637c45fc"
       ],
       "layout": "IPY_MODEL_2ed5455cde6746b89b907690d1835c91"
      }
     },
     "d2821de0833e446dbc2859ed97066500": {
      "model_module": "@jupyter-widgets/base",
      "model_module_version": "1.2.0",
      "model_name": "LayoutModel",
      "state": {}
     },
     "d287da6e851149f4974ec39ff2d75c3c": {
      "model_module": "@jupyter-widgets/controls",
      "model_module_version": "1.5.0",
      "model_name": "HTMLModel",
      "state": {
       "layout": "IPY_MODEL_2d15b8be08f34f97aaffeb380b1f8456",
       "style": "IPY_MODEL_c54d7cf2ad4a4b47820c8b55191f6af4",
       "value": " 7141/7141 [16:00&lt;00:00,  7.44it/s]"
      }
     },
     "d315502adaa540b5a616ecbb227586f7": {
      "model_module": "@jupyter-widgets/controls",
      "model_module_version": "1.5.0",
      "model_name": "HTMLModel",
      "state": {
       "layout": "IPY_MODEL_a21f0adda504430f92d90d16af9d7839",
       "style": "IPY_MODEL_f37950de62ed4b6185cc88d072a06cd8",
       "value": " 9237/9237 [00:37&lt;00:00, 249.47it/s]"
      }
     },
     "d317813617b946c1bc6c71308d2de2f2": {
      "model_module": "@jupyter-widgets/controls",
      "model_module_version": "1.5.0",
      "model_name": "FloatProgressModel",
      "state": {
       "bar_style": "success",
       "description": "100%",
       "layout": "IPY_MODEL_6af0506f678848038b9eb2bddb735367",
       "max": 1429,
       "style": "IPY_MODEL_b365fe8098cc462bb9b64978231f7b64",
       "value": 1429
      }
     },
     "d31e3cd2905642a9a16054f0fe744912": {
      "model_module": "@jupyter-widgets/controls",
      "model_module_version": "1.5.0",
      "model_name": "DescriptionStyleModel",
      "state": {
       "description_width": ""
      }
     },
     "d3346c6c03b641bc8d2a086839af4f7b": {
      "model_module": "@jupyter-widgets/base",
      "model_module_version": "1.2.0",
      "model_name": "LayoutModel",
      "state": {}
     },
     "d3394164cb66423e850baf2964f70805": {
      "model_module": "@jupyter-widgets/controls",
      "model_module_version": "1.5.0",
      "model_name": "DescriptionStyleModel",
      "state": {
       "description_width": ""
      }
     },
     "d3558239fe114228b0f33241c77891ad": {
      "model_module": "@jupyter-widgets/controls",
      "model_module_version": "1.5.0",
      "model_name": "FloatProgressModel",
      "state": {
       "bar_style": "success",
       "description": "100%",
       "layout": "IPY_MODEL_243db179abc14baa8cd9421ee18a1fd3",
       "max": 50000,
       "style": "IPY_MODEL_947fda7cbcc24a6cb6d652783b95d5b4",
       "value": 50000
      }
     },
     "d39f8d2041ba430a8ceb2ff7e0dc3ff3": {
      "model_module": "@jupyter-widgets/controls",
      "model_module_version": "1.5.0",
      "model_name": "ProgressStyleModel",
      "state": {
       "description_width": "initial"
      }
     },
     "d3b5a89d5b7349ffa3b329db8219cb8b": {
      "model_module": "@jupyter-widgets/controls",
      "model_module_version": "1.5.0",
      "model_name": "HBoxModel",
      "state": {
       "children": [
        "IPY_MODEL_9e654c01ff1549e0b5ca7d4da2d1f68b",
        "IPY_MODEL_0b50926f8b1748e1a747d24ea7f50296"
       ],
       "layout": "IPY_MODEL_aa11ac4fb3824858870aac4689bae9dc"
      }
     },
     "d3c215c5056649d682167d3da2430d7f": {
      "model_module": "@jupyter-widgets/controls",
      "model_module_version": "1.5.0",
      "model_name": "ProgressStyleModel",
      "state": {
       "description_width": "initial"
      }
     },
     "d3d45e99418e47d98106c578e3585da0": {
      "model_module": "@jupyter-widgets/base",
      "model_module_version": "1.2.0",
      "model_name": "LayoutModel",
      "state": {}
     },
     "d3f6656c95d74fefafa2eb8c23b69e78": {
      "model_module": "@jupyter-widgets/base",
      "model_module_version": "1.2.0",
      "model_name": "LayoutModel",
      "state": {}
     },
     "d416384abd42447a826d78f155af841e": {
      "model_module": "@jupyter-widgets/controls",
      "model_module_version": "1.5.0",
      "model_name": "DescriptionStyleModel",
      "state": {
       "description_width": ""
      }
     },
     "d439b1e666b9477b8b10ce21ea3edea9": {
      "model_module": "@jupyter-widgets/controls",
      "model_module_version": "1.5.0",
      "model_name": "FloatProgressModel",
      "state": {
       "bar_style": "success",
       "description": "100%",
       "layout": "IPY_MODEL_37555b1c60884a3dbe282147bf019fa8",
       "max": 9236,
       "style": "IPY_MODEL_e4bf8aa248e64accb4003cca108a1c36",
       "value": 9236
      }
     },
     "d45d6bbdd6e040fd871e33a40a8fc701": {
      "model_module": "@jupyter-widgets/controls",
      "model_module_version": "1.5.0",
      "model_name": "FloatProgressModel",
      "state": {
       "bar_style": "success",
       "description": "100%",
       "layout": "IPY_MODEL_c39e554f7be44b9c8c185ebeaba5e713",
       "max": 9237,
       "style": "IPY_MODEL_2aa7872f116941adae13b6e8e2bc22cb",
       "value": 9237
      }
     },
     "d45d6cb8b88a4dbe87a703a124e77b50": {
      "model_module": "@jupyter-widgets/controls",
      "model_module_version": "1.5.0",
      "model_name": "FloatProgressModel",
      "state": {
       "bar_style": "success",
       "description": "100%",
       "layout": "IPY_MODEL_6a28f68b72aa45bfb0495e06dcd3b443",
       "max": 12975,
       "style": "IPY_MODEL_d12d9e06d31d4ba5b4fdf87eb04e0b2b",
       "value": 12975
      }
     },
     "d49e6f9ca1364ddfba4052b209d782b4": {
      "model_module": "@jupyter-widgets/controls",
      "model_module_version": "1.5.0",
      "model_name": "HTMLModel",
      "state": {
       "layout": "IPY_MODEL_739187dff5ee4303a3f42f02570d1625",
       "style": "IPY_MODEL_5ce06a82ca294e45a9cd3206ce488632",
       "value": " 28577/28577 [00:18&lt;00:00, 1578.70it/s]"
      }
     },
     "d4ae8d313d184ff99f78fbaca105e62d": {
      "model_module": "@jupyter-widgets/controls",
      "model_module_version": "1.5.0",
      "model_name": "DescriptionStyleModel",
      "state": {
       "description_width": ""
      }
     },
     "d4bdd1f7bf664dd2b15407b3edecbc52": {
      "model_module": "@jupyter-widgets/controls",
      "model_module_version": "1.5.0",
      "model_name": "HBoxModel",
      "state": {
       "children": [
        "IPY_MODEL_a6304c42109b4513ba42e01ec49b0020",
        "IPY_MODEL_720477cd02264e308d6eb2f028afdd5d"
       ],
       "layout": "IPY_MODEL_754054cb9126471eb51e42bc451383bb"
      }
     },
     "d4eb7f6ab9654ce9a634acdbfd2ae153": {
      "model_module": "@jupyter-widgets/controls",
      "model_module_version": "1.5.0",
      "model_name": "FloatProgressModel",
      "state": {
       "bar_style": "success",
       "description": "100%",
       "layout": "IPY_MODEL_a37d0d05bf444cd6a1834839e1adee8a",
       "max": 15506,
       "style": "IPY_MODEL_c20db435ce0b46f386cc2b67456ef85d",
       "value": 15506
      }
     },
     "d5056b678c3b4cdd8aba21748e143cf3": {
      "model_module": "@jupyter-widgets/controls",
      "model_module_version": "1.5.0",
      "model_name": "HTMLModel",
      "state": {
       "layout": "IPY_MODEL_9e9f8de0808841c3b84ba0c103edb87c",
       "style": "IPY_MODEL_ddd5af985c4743e5892075fdaf8fb84a",
       "value": " 9237/9237 [00:31&lt;00:00, 295.78it/s]"
      }
     },
     "d517ee6fc0f44d22af3f36133edd0e86": {
      "model_module": "@jupyter-widgets/controls",
      "model_module_version": "1.5.0",
      "model_name": "FloatProgressModel",
      "state": {
       "bar_style": "success",
       "description": "100%",
       "layout": "IPY_MODEL_226cc3258f894d02927f600f3c754f75",
       "max": 9237,
       "style": "IPY_MODEL_df8a127a8c034f4497cc9f0f1d4a0138",
       "value": 9237
      }
     },
     "d53c4bc2004f4df5baa82fdb910e0198": {
      "model_module": "@jupyter-widgets/base",
      "model_module_version": "1.2.0",
      "model_name": "LayoutModel",
      "state": {}
     },
     "d590f3af549547c289a87d7007947199": {
      "model_module": "@jupyter-widgets/base",
      "model_module_version": "1.2.0",
      "model_name": "LayoutModel",
      "state": {}
     },
     "d59d53a0fec547caa12577e52660f542": {
      "model_module": "@jupyter-widgets/controls",
      "model_module_version": "1.5.0",
      "model_name": "HTMLModel",
      "state": {
       "layout": "IPY_MODEL_2eede89959c143e19db118cce9cb150d",
       "style": "IPY_MODEL_be84a2269a524ee589f5bd88cef1707d",
       "value": " 30000/30000 [00:00&lt;00:00, 56623.11it/s]"
      }
     },
     "d5a6383952d5417896eb2b3d37d407e3": {
      "model_module": "@jupyter-widgets/base",
      "model_module_version": "1.2.0",
      "model_name": "LayoutModel",
      "state": {}
     },
     "d5f6400b4bd44f8fa9fd1bd712c2a180": {
      "model_module": "@jupyter-widgets/controls",
      "model_module_version": "1.5.0",
      "model_name": "ProgressStyleModel",
      "state": {
       "description_width": "initial"
      }
     },
     "d66b5d67a7ac4fcdb1f09106b8b2f7ae": {
      "model_module": "@jupyter-widgets/controls",
      "model_module_version": "1.5.0",
      "model_name": "FloatProgressModel",
      "state": {
       "bar_style": "success",
       "description": "100%",
       "layout": "IPY_MODEL_bc2573a848134beaab2feb549f788f45",
       "max": 9237,
       "style": "IPY_MODEL_669669951a2c4c43a64e31d3b9587014",
       "value": 9237
      }
     },
     "d682f8e09c4a45628a79ac13efcecd1f": {
      "model_module": "@jupyter-widgets/controls",
      "model_module_version": "1.5.0",
      "model_name": "HBoxModel",
      "state": {
       "children": [
        "IPY_MODEL_73c847fa93d14839a16e02ad865fa988",
        "IPY_MODEL_ce9a5a5807b741f3ac9cdb6bc71b86ec"
       ],
       "layout": "IPY_MODEL_694d91b3ef7f49e286b4472152631b01"
      }
     },
     "d6a74466a74144cbae90232399d33e79": {
      "model_module": "@jupyter-widgets/base",
      "model_module_version": "1.2.0",
      "model_name": "LayoutModel",
      "state": {}
     },
     "d6f37dc15729443e80bb1762d8338cfe": {
      "model_module": "@jupyter-widgets/base",
      "model_module_version": "1.2.0",
      "model_name": "LayoutModel",
      "state": {}
     },
     "d7111a2195544a11b3aa380220a8678d": {
      "model_module": "@jupyter-widgets/controls",
      "model_module_version": "1.5.0",
      "model_name": "FloatProgressModel",
      "state": {
       "bar_style": "success",
       "description": "100%",
       "layout": "IPY_MODEL_88584a47034f4b5dbebb7d42ec34e4bd",
       "max": 9237,
       "style": "IPY_MODEL_c16ff8f36cf64afea1c02200d25740a7",
       "value": 9237
      }
     },
     "d7179276f48248f58487b5a44d102264": {
      "model_module": "@jupyter-widgets/controls",
      "model_module_version": "1.5.0",
      "model_name": "ProgressStyleModel",
      "state": {
       "description_width": "initial"
      }
     },
     "d74f805eb2e040bb8f7fbcd1442136f6": {
      "model_module": "@jupyter-widgets/controls",
      "model_module_version": "1.5.0",
      "model_name": "HBoxModel",
      "state": {
       "children": [
        "IPY_MODEL_f2cefdc0388545b88f44bf79da37b91f",
        "IPY_MODEL_c0d27d4e2bdc428b8ea067452af1ae23"
       ],
       "layout": "IPY_MODEL_597cdac81c404ca0a5a54ca1ca8bc8b5"
      }
     },
     "d7506d2a685a426f90ce276358d112e0": {
      "model_module": "@jupyter-widgets/controls",
      "model_module_version": "1.5.0",
      "model_name": "DescriptionStyleModel",
      "state": {
       "description_width": ""
      }
     },
     "d7559875d5cd40e890f720ae13d8fc2b": {
      "model_module": "@jupyter-widgets/controls",
      "model_module_version": "1.5.0",
      "model_name": "FloatProgressModel",
      "state": {
       "bar_style": "success",
       "description": "100%",
       "layout": "IPY_MODEL_f4c1994769e348a3ae27f8f6b6f6d3ce",
       "max": 17920,
       "style": "IPY_MODEL_e3cdf6c3e4a74d1aabd42e4357f190e7",
       "value": 17920
      }
     },
     "d761748bc3784acfa7a0510d004a3393": {
      "model_module": "@jupyter-widgets/base",
      "model_module_version": "1.2.0",
      "model_name": "LayoutModel",
      "state": {}
     },
     "d78ff8a7b4754f3cb8a69371d8e60539": {
      "model_module": "@jupyter-widgets/controls",
      "model_module_version": "1.5.0",
      "model_name": "FloatProgressModel",
      "state": {
       "bar_style": "success",
       "description": "100%",
       "layout": "IPY_MODEL_576ee3a2b9a246299fbf7dfeebdfcd80",
       "max": 9237,
       "style": "IPY_MODEL_13ee856e7e78483f8802ff648b9b7453",
       "value": 9237
      }
     },
     "d797b5c7bd2641efb5eb37c56d41e61b": {
      "model_module": "@jupyter-widgets/base",
      "model_module_version": "1.2.0",
      "model_name": "LayoutModel",
      "state": {}
     },
     "d79f9dbfb3cc4ff28fbbdb8539741b61": {
      "model_module": "@jupyter-widgets/base",
      "model_module_version": "1.2.0",
      "model_name": "LayoutModel",
      "state": {}
     },
     "d7ca1b0399fd4ba09fdf8f1a8e2ee884": {
      "model_module": "@jupyter-widgets/controls",
      "model_module_version": "1.5.0",
      "model_name": "ProgressStyleModel",
      "state": {
       "description_width": "initial"
      }
     },
     "d7e43a27c26849af8ffd699f5231ff33": {
      "model_module": "@jupyter-widgets/controls",
      "model_module_version": "1.5.0",
      "model_name": "ProgressStyleModel",
      "state": {
       "description_width": "initial"
      }
     },
     "d808bdfb9c554e318adbea9b4d4fd148": {
      "model_module": "@jupyter-widgets/base",
      "model_module_version": "1.2.0",
      "model_name": "LayoutModel",
      "state": {}
     },
     "d81178797ef6430db0d458f3f71a397a": {
      "model_module": "@jupyter-widgets/controls",
      "model_module_version": "1.5.0",
      "model_name": "HBoxModel",
      "state": {
       "children": [
        "IPY_MODEL_9fc23692b7cc429ea681e37555908f50",
        "IPY_MODEL_c534104dae0c4c86bc4cb1ddde5d800c"
       ],
       "layout": "IPY_MODEL_b0e1eb81fafe420ea95feb933f177a8c"
      }
     },
     "d820d5f24a1f440c9fc58d9e637c45fc": {
      "model_module": "@jupyter-widgets/controls",
      "model_module_version": "1.5.0",
      "model_name": "HTMLModel",
      "state": {
       "layout": "IPY_MODEL_2402ec2dd300426bb4beeb7877aa6606",
       "style": "IPY_MODEL_2cbd3c6977d44625ba5a66ab7a12afb9",
       "value": " 16977/16977 [00:00&lt;00:00, 78033.97it/s]"
      }
     },
     "d8b77dd8342743668a38e67c1ebde6cb": {
      "model_module": "@jupyter-widgets/base",
      "model_module_version": "1.2.0",
      "model_name": "LayoutModel",
      "state": {}
     },
     "d8e031439140490397306fdf23d71db7": {
      "model_module": "@jupyter-widgets/controls",
      "model_module_version": "1.5.0",
      "model_name": "DescriptionStyleModel",
      "state": {
       "description_width": ""
      }
     },
     "d925e0d4f96e4e22aff7e470f6dbbab6": {
      "model_module": "@jupyter-widgets/controls",
      "model_module_version": "1.5.0",
      "model_name": "HTMLModel",
      "state": {
       "layout": "IPY_MODEL_b5368b1a861c49f4aaf0579f05f54cad",
       "style": "IPY_MODEL_eb36f49a2a624dfe9fbcbf068a7249e7",
       "value": " 9237/9237 [00:32&lt;00:00, 282.68it/s]"
      }
     },
     "d933cc94c07a4ee389cabbc893fd08ac": {
      "model_module": "@jupyter-widgets/controls",
      "model_module_version": "1.5.0",
      "model_name": "FloatProgressModel",
      "state": {
       "bar_style": "success",
       "description": "100%",
       "layout": "IPY_MODEL_6553e8c477094e42a2c3f5d00c1eaabd",
       "max": 9237,
       "style": "IPY_MODEL_1499ae871c634b4e87a486330bc15e47",
       "value": 9237
      }
     },
     "d941d8b4638d4c90b0c60056948082a8": {
      "model_module": "@jupyter-widgets/controls",
      "model_module_version": "1.5.0",
      "model_name": "HTMLModel",
      "state": {
       "layout": "IPY_MODEL_fb7c2d34e5c24713a6dfce5acce2b3ac",
       "style": "IPY_MODEL_53cf7b520b3045648eafc54e1a6bb5df",
       "value": " 15506/15506 [00:00&lt;00:00, 80490.99it/s]"
      }
     },
     "d944439443fb4f808583311b3272ee3a": {
      "model_module": "@jupyter-widgets/base",
      "model_module_version": "1.2.0",
      "model_name": "LayoutModel",
      "state": {}
     },
     "d964c9b31ae3475a8a42834ab90dd626": {
      "model_module": "@jupyter-widgets/controls",
      "model_module_version": "1.5.0",
      "model_name": "HBoxModel",
      "state": {
       "children": [
        "IPY_MODEL_db143e7bc3564223933993766f795bff",
        "IPY_MODEL_fbabe7f7719643bfa897eeb2d8d98204"
       ],
       "layout": "IPY_MODEL_63b5d6498094427795d6d736291c0d82"
      }
     },
     "d96f405fde7b4fd592d4df607a70fc20": {
      "model_module": "@jupyter-widgets/base",
      "model_module_version": "1.2.0",
      "model_name": "LayoutModel",
      "state": {}
     },
     "d9a0c125c67940c9b7aa5f55bf5f5ccc": {
      "model_module": "@jupyter-widgets/base",
      "model_module_version": "1.2.0",
      "model_name": "LayoutModel",
      "state": {}
     },
     "d9b0d4c5ba154cc7b199e8583a740b2f": {
      "model_module": "@jupyter-widgets/controls",
      "model_module_version": "1.5.0",
      "model_name": "ProgressStyleModel",
      "state": {
       "description_width": "initial"
      }
     },
     "d9cf141f7e604ca0a6c0e4ad7ef2a187": {
      "model_module": "@jupyter-widgets/controls",
      "model_module_version": "1.5.0",
      "model_name": "DescriptionStyleModel",
      "state": {
       "description_width": ""
      }
     },
     "d9f4b5dd5f9948e5bad85a06d0272207": {
      "model_module": "@jupyter-widgets/controls",
      "model_module_version": "1.5.0",
      "model_name": "HBoxModel",
      "state": {
       "children": [
        "IPY_MODEL_d219e2ec43804fe09d7ae1db175188a0",
        "IPY_MODEL_8340cd0a8e8942598840f085fb5064c4"
       ],
       "layout": "IPY_MODEL_41f43606c2b74b369c28d00f99b21c7c"
      }
     },
     "da5e770c29f0417593bf703e18012976": {
      "model_module": "@jupyter-widgets/controls",
      "model_module_version": "1.5.0",
      "model_name": "HBoxModel",
      "state": {
       "children": [
        "IPY_MODEL_0e43df49f5d04394964f1581ca770be3",
        "IPY_MODEL_8ac6cd9cd4e6458f8bdf9d231c4608d8"
       ],
       "layout": "IPY_MODEL_4e25ef4d2fc844c98e9af1d7ddb7a28b"
      }
     },
     "da6a6eb1204c4fda958e23278f21cf26": {
      "model_module": "@jupyter-widgets/controls",
      "model_module_version": "1.5.0",
      "model_name": "DescriptionStyleModel",
      "state": {
       "description_width": ""
      }
     },
     "daa4c7a6270a42dfaa9b2367dc209576": {
      "model_module": "@jupyter-widgets/controls",
      "model_module_version": "1.5.0",
      "model_name": "ProgressStyleModel",
      "state": {
       "description_width": "initial"
      }
     },
     "dae207d424f741489fc3aaa24e3ca821": {
      "model_module": "@jupyter-widgets/controls",
      "model_module_version": "1.5.0",
      "model_name": "DescriptionStyleModel",
      "state": {
       "description_width": ""
      }
     },
     "db143e7bc3564223933993766f795bff": {
      "model_module": "@jupyter-widgets/controls",
      "model_module_version": "1.5.0",
      "model_name": "FloatProgressModel",
      "state": {
       "bar_style": "success",
       "description": "100%",
       "layout": "IPY_MODEL_ca8f0c39528a43ba961e028fc70f4d63",
       "max": 3571,
       "style": "IPY_MODEL_6d1d57742b164ac7a796870aa7d21f71",
       "value": 3571
      }
     },
     "db1989440ad24f5885877bb0048c3c6b": {
      "model_module": "@jupyter-widgets/base",
      "model_module_version": "1.2.0",
      "model_name": "LayoutModel",
      "state": {}
     },
     "db1e639b7c4c44eda6d9d6d7faff37d5": {
      "model_module": "@jupyter-widgets/controls",
      "model_module_version": "1.5.0",
      "model_name": "ProgressStyleModel",
      "state": {
       "description_width": "initial"
      }
     },
     "db3b826c69fc4d8fb481aecd100bb917": {
      "model_module": "@jupyter-widgets/base",
      "model_module_version": "1.2.0",
      "model_name": "LayoutModel",
      "state": {}
     },
     "db708542cc124df1b2db25f425c05cd6": {
      "model_module": "@jupyter-widgets/base",
      "model_module_version": "1.2.0",
      "model_name": "LayoutModel",
      "state": {}
     },
     "db8cad12475544b882435f0fcaab6877": {
      "model_module": "@jupyter-widgets/controls",
      "model_module_version": "1.5.0",
      "model_name": "HTMLModel",
      "state": {
       "layout": "IPY_MODEL_042a67ecbb7b42138ac4b4fe6408c5ea",
       "style": "IPY_MODEL_c867113e479d46599e38c4ef05abeaf9",
       "value": " 9237/9237 [16:47&lt;00:00,  9.16it/s]"
      }
     },
     "db8cffa45f074dcc95f8f6b3ad1a5f3c": {
      "model_module": "@jupyter-widgets/controls",
      "model_module_version": "1.5.0",
      "model_name": "HTMLModel",
      "state": {
       "layout": "IPY_MODEL_8968c6251cc349f4b61db42e23c786b8",
       "style": "IPY_MODEL_752abd53efdf4ff4859a21e592bcf96c",
       "value": " 1428/1428 [03:01&lt;00:00,  7.86it/s]"
      }
     },
     "dbd8d6b61402447cb21c758ece65f861": {
      "model_module": "@jupyter-widgets/controls",
      "model_module_version": "1.5.0",
      "model_name": "ProgressStyleModel",
      "state": {
       "description_width": "initial"
      }
     },
     "dbe5c00fe553454ca0fadf9f9751f14a": {
      "model_module": "@jupyter-widgets/controls",
      "model_module_version": "1.5.0",
      "model_name": "DescriptionStyleModel",
      "state": {
       "description_width": ""
      }
     },
     "dbfa5d709def499aa663e3ad234c6f41": {
      "model_module": "@jupyter-widgets/base",
      "model_module_version": "1.2.0",
      "model_name": "LayoutModel",
      "state": {}
     },
     "dcd5c143240442c88bae75d441cc5f7b": {
      "model_module": "@jupyter-widgets/base",
      "model_module_version": "1.2.0",
      "model_name": "LayoutModel",
      "state": {}
     },
     "dd10f6017a0c42d9b427097eca026fa3": {
      "model_module": "@jupyter-widgets/base",
      "model_module_version": "1.2.0",
      "model_name": "LayoutModel",
      "state": {}
     },
     "dd45cdeea2c243a582d653b685788b5a": {
      "model_module": "@jupyter-widgets/base",
      "model_module_version": "1.2.0",
      "model_name": "LayoutModel",
      "state": {}
     },
     "dd685da3bbbf40018ad4d0770c434094": {
      "model_module": "@jupyter-widgets/controls",
      "model_module_version": "1.5.0",
      "model_name": "DescriptionStyleModel",
      "state": {
       "description_width": ""
      }
     },
     "dd8b10b38c4841b5a5d249e288a61ee4": {
      "model_module": "@jupyter-widgets/base",
      "model_module_version": "1.2.0",
      "model_name": "LayoutModel",
      "state": {}
     },
     "ddd5af985c4743e5892075fdaf8fb84a": {
      "model_module": "@jupyter-widgets/controls",
      "model_module_version": "1.5.0",
      "model_name": "DescriptionStyleModel",
      "state": {
       "description_width": ""
      }
     },
     "dddf6090fc25468b8ef3d929ed3e700b": {
      "model_module": "@jupyter-widgets/base",
      "model_module_version": "1.2.0",
      "model_name": "LayoutModel",
      "state": {}
     },
     "dde830514685485eb9c07a2d0c7e83f6": {
      "model_module": "@jupyter-widgets/base",
      "model_module_version": "1.2.0",
      "model_name": "LayoutModel",
      "state": {}
     },
     "de5f7fe8a25641cd8446ffdbdd6d9fe4": {
      "model_module": "@jupyter-widgets/base",
      "model_module_version": "1.2.0",
      "model_name": "LayoutModel",
      "state": {}
     },
     "de62d6cae70f41b08fdbe4a26a876039": {
      "model_module": "@jupyter-widgets/controls",
      "model_module_version": "1.5.0",
      "model_name": "HBoxModel",
      "state": {
       "children": [
        "IPY_MODEL_2eed297644f8404b846df693e61930e0",
        "IPY_MODEL_dfa2518610f94caf8a9ab2d7c425c737"
       ],
       "layout": "IPY_MODEL_d9a0c125c67940c9b7aa5f55bf5f5ccc"
      }
     },
     "de7a1e214fe746e89fa28280204d5c93": {
      "model_module": "@jupyter-widgets/controls",
      "model_module_version": "1.5.0",
      "model_name": "HBoxModel",
      "state": {
       "children": [
        "IPY_MODEL_a9a9162fb10a4abe8222f5082a5d91a1",
        "IPY_MODEL_bf60e58ab213488a9a1d917da1de49a2"
       ],
       "layout": "IPY_MODEL_0f3f6cec6311453e9874357b2989ddbd"
      }
     },
     "deb5ea385a07412a9ea6f52a5850d018": {
      "model_module": "@jupyter-widgets/controls",
      "model_module_version": "1.5.0",
      "model_name": "HTMLModel",
      "state": {
       "layout": "IPY_MODEL_5f9285dc22c544469c5ce18d7a56f506",
       "style": "IPY_MODEL_0361a817acc244c09f0389ce7ac569a0",
       "value": " 9237/9237 [15:44&lt;00:00,  9.78it/s]"
      }
     },
     "dede2c82e1714157931612173ae41191": {
      "model_module": "@jupyter-widgets/base",
      "model_module_version": "1.2.0",
      "model_name": "LayoutModel",
      "state": {}
     },
     "def234ee7f1040c7a4a32363b5f78bc3": {
      "model_module": "@jupyter-widgets/controls",
      "model_module_version": "1.5.0",
      "model_name": "HTMLModel",
      "state": {
       "layout": "IPY_MODEL_fcefd98f966440fdb0969c8a144b48cf",
       "style": "IPY_MODEL_7765a22f581e45468cb05c130810e9ee",
       "value": " 9237/9237 [19:38&lt;00:00,  7.84it/s]"
      }
     },
     "def5ddc9bae345a3b6ba64fd67d3c311": {
      "model_module": "@jupyter-widgets/base",
      "model_module_version": "1.2.0",
      "model_name": "LayoutModel",
      "state": {}
     },
     "df58d34d65c1432688e80befaa31b163": {
      "model_module": "@jupyter-widgets/controls",
      "model_module_version": "1.5.0",
      "model_name": "HBoxModel",
      "state": {
       "children": [
        "IPY_MODEL_15a943ab797445ffb5debc2a1cb3b580",
        "IPY_MODEL_7dafa8fb8085449793adcbf8c304d9cc"
       ],
       "layout": "IPY_MODEL_e5685673eda149e3b6dc2927a891701e"
      }
     },
     "df7a1663fdc241dbaf8fe0a76faeaa6f": {
      "model_module": "@jupyter-widgets/controls",
      "model_module_version": "1.5.0",
      "model_name": "FloatProgressModel",
      "state": {
       "bar_style": "success",
       "description": "100%",
       "layout": "IPY_MODEL_58032171f0ce464e96434e00cf0cab90",
       "max": 49982,
       "style": "IPY_MODEL_022707806ea14bf9945e07432f6c8374",
       "value": 49982
      }
     },
     "df8504e2c349453e832d08de91d78d3d": {
      "model_module": "@jupyter-widgets/controls",
      "model_module_version": "1.5.0",
      "model_name": "HBoxModel",
      "state": {
       "children": [
        "IPY_MODEL_9470c5e1ba52456190b4dfdee38d26e4",
        "IPY_MODEL_796d1d772fd74f39aaf74664da271c12"
       ],
       "layout": "IPY_MODEL_c1ba9031d80e4b28a1608e9bfc1e5eef"
      }
     },
     "df8a127a8c034f4497cc9f0f1d4a0138": {
      "model_module": "@jupyter-widgets/controls",
      "model_module_version": "1.5.0",
      "model_name": "ProgressStyleModel",
      "state": {
       "description_width": "initial"
      }
     },
     "df9f6b6f9ffa4e319267150e77d59170": {
      "model_module": "@jupyter-widgets/controls",
      "model_module_version": "1.5.0",
      "model_name": "ProgressStyleModel",
      "state": {
       "description_width": "initial"
      }
     },
     "dfa2518610f94caf8a9ab2d7c425c737": {
      "model_module": "@jupyter-widgets/controls",
      "model_module_version": "1.5.0",
      "model_name": "HTMLModel",
      "state": {
       "layout": "IPY_MODEL_0730e207deb440999ee59b49d39c37a8",
       "style": "IPY_MODEL_0d38d9c1a0e1472caf43d24b807d1650",
       "value": " 9236/9236 [00:30&lt;00:00, 302.77it/s]"
      }
     },
     "dfeb463a72794f3aa346cc65a7ef3d7b": {
      "model_module": "@jupyter-widgets/base",
      "model_module_version": "1.2.0",
      "model_name": "LayoutModel",
      "state": {}
     },
     "dffe6b7b7c574b71a41ea2a0c562da60": {
      "model_module": "@jupyter-widgets/base",
      "model_module_version": "1.2.0",
      "model_name": "LayoutModel",
      "state": {}
     },
     "e00ea2de93a84552b50efd1b389742b0": {
      "model_module": "@jupyter-widgets/controls",
      "model_module_version": "1.5.0",
      "model_name": "ProgressStyleModel",
      "state": {
       "description_width": "initial"
      }
     },
     "e02ee90447dc4da68546f563510b4be9": {
      "model_module": "@jupyter-widgets/base",
      "model_module_version": "1.2.0",
      "model_name": "LayoutModel",
      "state": {}
     },
     "e03269872ce74afcbb35986e2e6674ed": {
      "model_module": "@jupyter-widgets/controls",
      "model_module_version": "1.5.0",
      "model_name": "DescriptionStyleModel",
      "state": {
       "description_width": ""
      }
     },
     "e03b2c68e2874fb187781b6b2237bf36": {
      "model_module": "@jupyter-widgets/base",
      "model_module_version": "1.2.0",
      "model_name": "LayoutModel",
      "state": {}
     },
     "e06aeb3fd6f5459c81b33d7d53e20038": {
      "model_module": "@jupyter-widgets/controls",
      "model_module_version": "1.5.0",
      "model_name": "HBoxModel",
      "state": {
       "children": [
        "IPY_MODEL_8a56654798e147c3ba9b8bfb80a4f79f",
        "IPY_MODEL_1d2dad8a92df40c4886b827d052d6f20"
       ],
       "layout": "IPY_MODEL_c6ceec8bd24243f8bc4789820b85e75f"
      }
     },
     "e07ba197152241f8a8ef35b0a06ccb3c": {
      "model_module": "@jupyter-widgets/controls",
      "model_module_version": "1.5.0",
      "model_name": "HBoxModel",
      "state": {
       "children": [
        "IPY_MODEL_777ab3a0c94d45289eab576c845245e8",
        "IPY_MODEL_325d574f91404fc7afea7446b3a51107"
       ],
       "layout": "IPY_MODEL_853e4d168aae4922a679df4df04778a1"
      }
     },
     "e0f7aa2267604554849917e98965d2ec": {
      "model_module": "@jupyter-widgets/controls",
      "model_module_version": "1.5.0",
      "model_name": "HBoxModel",
      "state": {
       "children": [
        "IPY_MODEL_6872d2868f494cdb94ed8d4b39196b19",
        "IPY_MODEL_1a6a45e459d84b8da13762e6a578e430"
       ],
       "layout": "IPY_MODEL_5a097c5b285f410686a09a25646cc1e8"
      }
     },
     "e0fac01c47bd4b328b3cb809b66ea705": {
      "model_module": "@jupyter-widgets/base",
      "model_module_version": "1.2.0",
      "model_name": "LayoutModel",
      "state": {}
     },
     "e15c7e25a19643f1b505a53f51a32f76": {
      "model_module": "@jupyter-widgets/controls",
      "model_module_version": "1.5.0",
      "model_name": "FloatProgressModel",
      "state": {
       "bar_style": "success",
       "description": "100%",
       "layout": "IPY_MODEL_58067a4826d04a5294007a5d02863557",
       "max": 9237,
       "style": "IPY_MODEL_e9e9a3d9a54f4be19e91be221eac6307",
       "value": 9237
      }
     },
     "e15c9ec718374045af65f1037b47c4b5": {
      "model_module": "@jupyter-widgets/controls",
      "model_module_version": "1.5.0",
      "model_name": "HBoxModel",
      "state": {
       "children": [
        "IPY_MODEL_a37b898863ac44ebaf3692784d581086",
        "IPY_MODEL_c426bfbd817c4c328e8acc296c49f0bb"
       ],
       "layout": "IPY_MODEL_c07567d6405a4e74bb1571bd3d895fea"
      }
     },
     "e1b4b9dedeea4693984a9a65a20aa246": {
      "model_module": "@jupyter-widgets/controls",
      "model_module_version": "1.5.0",
      "model_name": "HTMLModel",
      "state": {
       "layout": "IPY_MODEL_3ea2076cdbaa4b20bea10cbe9bd05cc7",
       "style": "IPY_MODEL_ab00435fa0864f4f8ff07754046971e9",
       "value": " 10000/10000 [03:29&lt;00:00, 47.78it/s]"
      }
     },
     "e1d50d7c3cb24be49e8cb39256029cf2": {
      "model_module": "@jupyter-widgets/controls",
      "model_module_version": "1.5.0",
      "model_name": "HTMLModel",
      "state": {
       "layout": "IPY_MODEL_c02e7e1eed4d4aa08c0b92e5f46d19e3",
       "style": "IPY_MODEL_168cbb39376247fab8c15e9f97f44be8",
       "value": " 9152/9152 [00:08&lt;00:00, 1072.58it/s]"
      }
     },
     "e235f587ad2d4ff8890cd5b494407c98": {
      "model_module": "@jupyter-widgets/controls",
      "model_module_version": "1.5.0",
      "model_name": "HBoxModel",
      "state": {
       "children": [
        "IPY_MODEL_19e4d72000cc4e46a316522a4a9a8b0c",
        "IPY_MODEL_5130be0231ed46eca3ffcd02cc7dd8e0"
       ],
       "layout": "IPY_MODEL_e286999e4911437e975b666ffff1ae68"
      }
     },
     "e25e2965dc924566bd4cec20871486e3": {
      "model_module": "@jupyter-widgets/controls",
      "model_module_version": "1.5.0",
      "model_name": "HTMLModel",
      "state": {
       "layout": "IPY_MODEL_8813c0b5ec764426afd820d6d7c323d3",
       "style": "IPY_MODEL_0e5dc42ba6d64242b6f7a751bcfb3041",
       "value": " 28577/28577 [00:01&lt;00:00, 17956.84it/s]"
      }
     },
     "e2705883f8f34eb285d214e09ca1945b": {
      "model_module": "@jupyter-widgets/base",
      "model_module_version": "1.2.0",
      "model_name": "LayoutModel",
      "state": {}
     },
     "e286999e4911437e975b666ffff1ae68": {
      "model_module": "@jupyter-widgets/base",
      "model_module_version": "1.2.0",
      "model_name": "LayoutModel",
      "state": {}
     },
     "e2a66a488b2949ee9b592fb8c0c9b03d": {
      "model_module": "@jupyter-widgets/base",
      "model_module_version": "1.2.0",
      "model_name": "LayoutModel",
      "state": {}
     },
     "e2b8921bacff4669842ab2ebe5029f37": {
      "model_module": "@jupyter-widgets/controls",
      "model_module_version": "1.5.0",
      "model_name": "HTMLModel",
      "state": {
       "layout": "IPY_MODEL_0314a6603c5f4049b7ffe4f808ced339",
       "style": "IPY_MODEL_9b16cf1f091a4256851803fb24fbbd41",
       "value": " 9237/9237 [00:33&lt;00:00, 278.19it/s]"
      }
     },
     "e2e6c894925b4d65ac7a0d3286796d34": {
      "model_module": "@jupyter-widgets/controls",
      "model_module_version": "1.5.0",
      "model_name": "DescriptionStyleModel",
      "state": {
       "description_width": ""
      }
     },
     "e3736873b6bb4b86ae2e4a3f864d3664": {
      "model_module": "@jupyter-widgets/controls",
      "model_module_version": "1.5.0",
      "model_name": "ProgressStyleModel",
      "state": {
       "description_width": "initial"
      }
     },
     "e375060951be4f138401dae0db6d02e8": {
      "model_module": "@jupyter-widgets/controls",
      "model_module_version": "1.5.0",
      "model_name": "HTMLModel",
      "state": {
       "layout": "IPY_MODEL_73b2b783e0dd4121b1efd2b4764996d6",
       "style": "IPY_MODEL_36a67f7a1baf4582b473f7c703110a4e",
       "value": " 3570/3570 [08:47&lt;00:00,  6.77it/s]"
      }
     },
     "e37991da7f7541209b675d3d8f7dd055": {
      "model_module": "@jupyter-widgets/controls",
      "model_module_version": "1.5.0",
      "model_name": "HBoxModel",
      "state": {
       "children": [
        "IPY_MODEL_7f9175c853e84433aa35679791006fcf",
        "IPY_MODEL_973938b23c5942a8b75e01c404cd8f93"
       ],
       "layout": "IPY_MODEL_cd1e5eb5fa024a1aa6ce92f25f940373"
      }
     },
     "e3cdf6c3e4a74d1aabd42e4357f190e7": {
      "model_module": "@jupyter-widgets/controls",
      "model_module_version": "1.5.0",
      "model_name": "ProgressStyleModel",
      "state": {
       "description_width": "initial"
      }
     },
     "e3dd9c44dda44da389cd79c40c353a5b": {
      "model_module": "@jupyter-widgets/base",
      "model_module_version": "1.2.0",
      "model_name": "LayoutModel",
      "state": {}
     },
     "e405d5e4864243748a42989e7ad70e90": {
      "model_module": "@jupyter-widgets/controls",
      "model_module_version": "1.5.0",
      "model_name": "ProgressStyleModel",
      "state": {
       "description_width": "initial"
      }
     },
     "e434ae1a41ef44e0a2a053318358ce5e": {
      "model_module": "@jupyter-widgets/controls",
      "model_module_version": "1.5.0",
      "model_name": "ProgressStyleModel",
      "state": {
       "description_width": "initial"
      }
     },
     "e4432a42a1be456b94aa8254998929a4": {
      "model_module": "@jupyter-widgets/base",
      "model_module_version": "1.2.0",
      "model_name": "LayoutModel",
      "state": {}
     },
     "e4579891ea36437c97ad5a88c2956dd6": {
      "model_module": "@jupyter-widgets/controls",
      "model_module_version": "1.5.0",
      "model_name": "DescriptionStyleModel",
      "state": {
       "description_width": ""
      }
     },
     "e468bfbeee4746d89710748d846b018e": {
      "model_module": "@jupyter-widgets/controls",
      "model_module_version": "1.5.0",
      "model_name": "ProgressStyleModel",
      "state": {
       "description_width": "initial"
      }
     },
     "e4bf8aa248e64accb4003cca108a1c36": {
      "model_module": "@jupyter-widgets/controls",
      "model_module_version": "1.5.0",
      "model_name": "ProgressStyleModel",
      "state": {
       "description_width": "initial"
      }
     },
     "e4dc9ba7766046d984239b2144469e8b": {
      "model_module": "@jupyter-widgets/base",
      "model_module_version": "1.2.0",
      "model_name": "LayoutModel",
      "state": {}
     },
     "e4e691ecc1d348f8a9b2992ad24da863": {
      "model_module": "@jupyter-widgets/base",
      "model_module_version": "1.2.0",
      "model_name": "LayoutModel",
      "state": {}
     },
     "e5282f17e41442c497c47763abfea119": {
      "model_module": "@jupyter-widgets/base",
      "model_module_version": "1.2.0",
      "model_name": "LayoutModel",
      "state": {}
     },
     "e536181418a3405281d6dbf03e796120": {
      "model_module": "@jupyter-widgets/controls",
      "model_module_version": "1.5.0",
      "model_name": "FloatProgressModel",
      "state": {
       "bar_style": "success",
       "description": "100%",
       "layout": "IPY_MODEL_5f8d8e02b44a428580aa4681b4c16d53",
       "max": 20000,
       "style": "IPY_MODEL_9c5b90a80455489090d0933e2b4cdcb7",
       "value": 20000
      }
     },
     "e5393d6f9a8d4ce29c21ec704952645c": {
      "model_module": "@jupyter-widgets/controls",
      "model_module_version": "1.5.0",
      "model_name": "ProgressStyleModel",
      "state": {
       "description_width": "initial"
      }
     },
     "e54d4a43d15742b8b59404ef6a81ba9d": {
      "model_module": "@jupyter-widgets/controls",
      "model_module_version": "1.5.0",
      "model_name": "ProgressStyleModel",
      "state": {
       "description_width": "initial"
      }
     },
     "e5561f28a8e04ab9b1afd43c92ad52cc": {
      "model_module": "@jupyter-widgets/controls",
      "model_module_version": "1.5.0",
      "model_name": "HBoxModel",
      "state": {
       "children": [
        "IPY_MODEL_1a46352198eb4472985b4eaa9092873b",
        "IPY_MODEL_533bee4fb4d04073922b6d0a0d12ddfd"
       ],
       "layout": "IPY_MODEL_f4c1b770696d4376b8d7eee38159b16e"
      }
     },
     "e5685673eda149e3b6dc2927a891701e": {
      "model_module": "@jupyter-widgets/base",
      "model_module_version": "1.2.0",
      "model_name": "LayoutModel",
      "state": {}
     },
     "e56c26f97fde431682d8e4b0eb385fa2": {
      "model_module": "@jupyter-widgets/controls",
      "model_module_version": "1.5.0",
      "model_name": "DescriptionStyleModel",
      "state": {
       "description_width": ""
      }
     },
     "e5717688945e4bdf883fbb76be8b499d": {
      "model_module": "@jupyter-widgets/controls",
      "model_module_version": "1.5.0",
      "model_name": "DescriptionStyleModel",
      "state": {
       "description_width": ""
      }
     },
     "e580426699784f5e9da5a45977d5c5d9": {
      "model_module": "@jupyter-widgets/controls",
      "model_module_version": "1.5.0",
      "model_name": "ProgressStyleModel",
      "state": {
       "description_width": "initial"
      }
     },
     "e5abddc6913b49f7ac1534587800ed85": {
      "model_module": "@jupyter-widgets/base",
      "model_module_version": "1.2.0",
      "model_name": "LayoutModel",
      "state": {}
     },
     "e5d32ce91ac5440694b6c73da96c154f": {
      "model_module": "@jupyter-widgets/base",
      "model_module_version": "1.2.0",
      "model_name": "LayoutModel",
      "state": {}
     },
     "e5e671070f8943bbb44bf79900407a81": {
      "model_module": "@jupyter-widgets/controls",
      "model_module_version": "1.5.0",
      "model_name": "DescriptionStyleModel",
      "state": {
       "description_width": ""
      }
     },
     "e5f3ba4ae55543ceaee85963872a311e": {
      "model_module": "@jupyter-widgets/base",
      "model_module_version": "1.2.0",
      "model_name": "LayoutModel",
      "state": {}
     },
     "e5f7fcef48014a4ca53a3345e501a37c": {
      "model_module": "@jupyter-widgets/controls",
      "model_module_version": "1.5.0",
      "model_name": "HBoxModel",
      "state": {
       "children": [
        "IPY_MODEL_ed122ff763b848ecbe7b547a3192a309",
        "IPY_MODEL_59be4c385286437eb759b92127b12512"
       ],
       "layout": "IPY_MODEL_75f726ff9dd54df586b85761d7e0d64f"
      }
     },
     "e7102972b3904f328656f26e00ca148b": {
      "model_module": "@jupyter-widgets/controls",
      "model_module_version": "1.5.0",
      "model_name": "HTMLModel",
      "state": {
       "layout": "IPY_MODEL_563f482dc4344484a9585af769a2e304",
       "style": "IPY_MODEL_45c33fc7d4a047258105cba061ee16d8",
       "value": " 9236/9236 [10:05&lt;00:00, 15.25it/s]"
      }
     },
     "e711d457c4634400bfbdba02d144a5f9": {
      "model_module": "@jupyter-widgets/base",
      "model_module_version": "1.2.0",
      "model_name": "LayoutModel",
      "state": {}
     },
     "e7410f43d42449d19e90cc2410d6ef55": {
      "model_module": "@jupyter-widgets/base",
      "model_module_version": "1.2.0",
      "model_name": "LayoutModel",
      "state": {}
     },
     "e746bc6c9156469fa78dd9c1489ae0f0": {
      "model_module": "@jupyter-widgets/base",
      "model_module_version": "1.2.0",
      "model_name": "LayoutModel",
      "state": {}
     },
     "e74743bae56248389a50ffc13839e015": {
      "model_module": "@jupyter-widgets/base",
      "model_module_version": "1.2.0",
      "model_name": "LayoutModel",
      "state": {}
     },
     "e75f81d4dd7544748e91a63592f22427": {
      "model_module": "@jupyter-widgets/controls",
      "model_module_version": "1.5.0",
      "model_name": "HBoxModel",
      "state": {
       "children": [
        "IPY_MODEL_0817fe12e55a431cbcb419c4fc193f54",
        "IPY_MODEL_b32c62ffdf7442418f6b238520a67d66"
       ],
       "layout": "IPY_MODEL_4f49de297fb2444fbf390dd8b1ba1207"
      }
     },
     "e77f1318768d4607a1faf68cba15fe74": {
      "model_module": "@jupyter-widgets/base",
      "model_module_version": "1.2.0",
      "model_name": "LayoutModel",
      "state": {}
     },
     "e79a7be2e4584bcbbb63ca99fcdae8c0": {
      "model_module": "@jupyter-widgets/controls",
      "model_module_version": "1.5.0",
      "model_name": "HTMLModel",
      "state": {
       "layout": "IPY_MODEL_a0a81981f12d4e118cf838851029a13c",
       "style": "IPY_MODEL_8e91b7480309456ea621524ee83ba4e3",
       "value": " 1429/1429 [03:25&lt;00:00,  6.96it/s]"
      }
     },
     "e7c3e732ad9e4c5cad86ebcecd18c01f": {
      "model_module": "@jupyter-widgets/controls",
      "model_module_version": "1.5.0",
      "model_name": "DescriptionStyleModel",
      "state": {
       "description_width": ""
      }
     },
     "e7fa3ea0a9b246d08dbdb07528d624b3": {
      "model_module": "@jupyter-widgets/controls",
      "model_module_version": "1.5.0",
      "model_name": "HBoxModel",
      "state": {
       "children": [
        "IPY_MODEL_743ed3b1b81b4a5183a31ea10b815dda",
        "IPY_MODEL_4dff32d283264fb7a52bf77fc085b956"
       ],
       "layout": "IPY_MODEL_29a9b7dae74c4b71a1fe278db2da0e01"
      }
     },
     "e823475eefb043469503b980bba3441a": {
      "model_module": "@jupyter-widgets/controls",
      "model_module_version": "1.5.0",
      "model_name": "HTMLModel",
      "state": {
       "layout": "IPY_MODEL_196a41f33c184656921e18b9688853f4",
       "style": "IPY_MODEL_764be5faa67940ccb1918de0e401a13a",
       "value": " 49982/49982 [00:33&lt;00:00, 1473.91it/s]"
      }
     },
     "e82a59676bf84805beaaf18be58c050f": {
      "model_module": "@jupyter-widgets/base",
      "model_module_version": "1.2.0",
      "model_name": "LayoutModel",
      "state": {}
     },
     "e8792940f367446e9f264fd41658fb25": {
      "model_module": "@jupyter-widgets/controls",
      "model_module_version": "1.5.0",
      "model_name": "DescriptionStyleModel",
      "state": {
       "description_width": ""
      }
     },
     "e8936607bbb846668abac59675bd64f2": {
      "model_module": "@jupyter-widgets/controls",
      "model_module_version": "1.5.0",
      "model_name": "HBoxModel",
      "state": {
       "children": [
        "IPY_MODEL_259a0f4c087942c09f3d721252ab525d",
        "IPY_MODEL_c0746ca0fcb54da88610910cd04f442d"
       ],
       "layout": "IPY_MODEL_e5f3ba4ae55543ceaee85963872a311e"
      }
     },
     "e8a9998e6cbe49d1ac8678da4180b2db": {
      "model_module": "@jupyter-widgets/controls",
      "model_module_version": "1.5.0",
      "model_name": "HBoxModel",
      "state": {
       "children": [
        "IPY_MODEL_bbf97b6480584a9fb2981c0d1c86f7cb",
        "IPY_MODEL_7aa69886e1f64600a094193b971e44b1"
       ],
       "layout": "IPY_MODEL_2cc85a64c13e4a3f93627c66f6595671"
      }
     },
     "e8b00f93a24d4dd3a73b0aaaa45fbd5d": {
      "model_module": "@jupyter-widgets/controls",
      "model_module_version": "1.5.0",
      "model_name": "ProgressStyleModel",
      "state": {
       "description_width": "initial"
      }
     },
     "e8e6d4443c6046eb8f733b156bd3292d": {
      "model_module": "@jupyter-widgets/base",
      "model_module_version": "1.2.0",
      "model_name": "LayoutModel",
      "state": {}
     },
     "e947d208725e4f7b8b43a60d634637ea": {
      "model_module": "@jupyter-widgets/base",
      "model_module_version": "1.2.0",
      "model_name": "LayoutModel",
      "state": {}
     },
     "e97f94a620ff45fca96abe531699a1cf": {
      "model_module": "@jupyter-widgets/controls",
      "model_module_version": "1.5.0",
      "model_name": "ProgressStyleModel",
      "state": {
       "description_width": "initial"
      }
     },
     "e9864c75511d43b59d675a883ae8e74c": {
      "model_module": "@jupyter-widgets/controls",
      "model_module_version": "1.5.0",
      "model_name": "FloatProgressModel",
      "state": {
       "bar_style": "success",
       "description": "100%",
       "layout": "IPY_MODEL_2a0b64a9f40740b3a69f07fb65aee38e",
       "max": 9237,
       "style": "IPY_MODEL_2512ac0255c847c09f81da4be5e86c25",
       "value": 9237
      }
     },
     "e9b2f6f0408447c1b5886e9cc1a675da": {
      "model_module": "@jupyter-widgets/controls",
      "model_module_version": "1.5.0",
      "model_name": "HBoxModel",
      "state": {
       "children": [
        "IPY_MODEL_a2ba3d627a94416ca8f1c3f9ef22e166",
        "IPY_MODEL_ab28fc9ee70c4f00b05fc6d402848994"
       ],
       "layout": "IPY_MODEL_2b84a5b4547b4b578e39058a770d6bc9"
      }
     },
     "e9e8625075d24cf29e3987cff51dcfce": {
      "model_module": "@jupyter-widgets/controls",
      "model_module_version": "1.5.0",
      "model_name": "ProgressStyleModel",
      "state": {
       "description_width": "initial"
      }
     },
     "e9e9a3d9a54f4be19e91be221eac6307": {
      "model_module": "@jupyter-widgets/controls",
      "model_module_version": "1.5.0",
      "model_name": "ProgressStyleModel",
      "state": {
       "description_width": "initial"
      }
     },
     "e9f7eb6247844f7e9d39137b97d747b0": {
      "model_module": "@jupyter-widgets/base",
      "model_module_version": "1.2.0",
      "model_name": "LayoutModel",
      "state": {}
     },
     "ea51e18d24ff484babd1b30cff5ac437": {
      "model_module": "@jupyter-widgets/base",
      "model_module_version": "1.2.0",
      "model_name": "LayoutModel",
      "state": {}
     },
     "ea71bcab3d8f4326bf78f4b5e885b629": {
      "model_module": "@jupyter-widgets/controls",
      "model_module_version": "1.5.0",
      "model_name": "ProgressStyleModel",
      "state": {
       "description_width": "initial"
      }
     },
     "ea7cbd9989fc47858d2c1893beb793f6": {
      "model_module": "@jupyter-widgets/controls",
      "model_module_version": "1.5.0",
      "model_name": "HBoxModel",
      "state": {
       "children": [
        "IPY_MODEL_f39f144e59b94c0e9034c87acf5def8e",
        "IPY_MODEL_0ca78f3bb300429398d4741f19cd319b"
       ],
       "layout": "IPY_MODEL_3b052015f0ca41f78e03cb6aad3a4cf7"
      }
     },
     "eaa198ecd69f4133b1ff00891f1f5c1c": {
      "model_module": "@jupyter-widgets/base",
      "model_module_version": "1.2.0",
      "model_name": "LayoutModel",
      "state": {}
     },
     "eb23e3558552404686cf57194fd1b1d0": {
      "model_module": "@jupyter-widgets/controls",
      "model_module_version": "1.5.0",
      "model_name": "ProgressStyleModel",
      "state": {
       "description_width": "initial"
      }
     },
     "eb36f49a2a624dfe9fbcbf068a7249e7": {
      "model_module": "@jupyter-widgets/controls",
      "model_module_version": "1.5.0",
      "model_name": "DescriptionStyleModel",
      "state": {
       "description_width": ""
      }
     },
     "eb4c3cb3dd71414fb6fde9fee096c735": {
      "model_module": "@jupyter-widgets/controls",
      "model_module_version": "1.5.0",
      "model_name": "HBoxModel",
      "state": {
       "children": [
        "IPY_MODEL_a016e4a6fe7f40158b959db6a72e8d70",
        "IPY_MODEL_53d9bc74ea2f4977af39faf51e45d648"
       ],
       "layout": "IPY_MODEL_d0ef43c513c443319340908ce29fd5ce"
      }
     },
     "eb6049a7b5954d36b1c07ccbd538661e": {
      "model_module": "@jupyter-widgets/controls",
      "model_module_version": "1.5.0",
      "model_name": "HBoxModel",
      "state": {
       "children": [
        "IPY_MODEL_f61bf4048d354e68b65192ec1156ad54",
        "IPY_MODEL_7b27ee9ccf8c4753a8abfa3d0607fccb"
       ],
       "layout": "IPY_MODEL_24f45916129e42e49cf9d9fee0968684"
      }
     },
     "eb962537fc1a47318027f132f1134448": {
      "model_module": "@jupyter-widgets/controls",
      "model_module_version": "1.5.0",
      "model_name": "HBoxModel",
      "state": {
       "children": [
        "IPY_MODEL_eefdd8c9b2e64df4bbcdc1f1eb8c217c",
        "IPY_MODEL_c368a0efd7174e97b9f8974f35e963ce"
       ],
       "layout": "IPY_MODEL_fed33d1efa5c494789f637dc8999406d"
      }
     },
     "ebc3af82b7164a9197cb20370d1ef396": {
      "model_module": "@jupyter-widgets/base",
      "model_module_version": "1.2.0",
      "model_name": "LayoutModel",
      "state": {}
     },
     "ebddf8408f924213aaa951025b3da658": {
      "model_module": "@jupyter-widgets/controls",
      "model_module_version": "1.5.0",
      "model_name": "DescriptionStyleModel",
      "state": {
       "description_width": ""
      }
     },
     "ec0d9b8f156540488c64a477672741c5": {
      "model_module": "@jupyter-widgets/controls",
      "model_module_version": "1.5.0",
      "model_name": "FloatProgressModel",
      "state": {
       "bar_style": "success",
       "description": "100%",
       "layout": "IPY_MODEL_245c86bc110246508d87a48c0100e22a",
       "max": 4285,
       "style": "IPY_MODEL_84e25ab9afa64fb1ab2bf85a34572430",
       "value": 4285
      }
     },
     "ec3a6532de414ce68133c2631e209de9": {
      "model_module": "@jupyter-widgets/base",
      "model_module_version": "1.2.0",
      "model_name": "LayoutModel",
      "state": {}
     },
     "ec4e979a02e948ca934e5678965fe26e": {
      "model_module": "@jupyter-widgets/controls",
      "model_module_version": "1.5.0",
      "model_name": "FloatProgressModel",
      "state": {
       "bar_style": "success",
       "description": "100%",
       "layout": "IPY_MODEL_acaf4cd13d5b48d7b797cf7c8c9bf82c",
       "max": 1429,
       "style": "IPY_MODEL_222958204e004b47b867c7040bf4613e",
       "value": 1429
      }
     },
     "ec931ddf5fb146c0b1bc49e71791d5cf": {
      "model_module": "@jupyter-widgets/controls",
      "model_module_version": "1.5.0",
      "model_name": "DescriptionStyleModel",
      "state": {
       "description_width": ""
      }
     },
     "ec96f0603abc443cabfb4b29b7b4a22e": {
      "model_module": "@jupyter-widgets/base",
      "model_module_version": "1.2.0",
      "model_name": "LayoutModel",
      "state": {}
     },
     "ecf31ac53c444e2292c2f1d47b30f10a": {
      "model_module": "@jupyter-widgets/base",
      "model_module_version": "1.2.0",
      "model_name": "LayoutModel",
      "state": {}
     },
     "ed122ff763b848ecbe7b547a3192a309": {
      "model_module": "@jupyter-widgets/controls",
      "model_module_version": "1.5.0",
      "model_name": "FloatProgressModel",
      "state": {
       "bar_style": "success",
       "description": "100%",
       "layout": "IPY_MODEL_4878e9ae1e044eef982205775dddccf3",
       "max": 1428,
       "style": "IPY_MODEL_839635f207d846a8899cbfb83cdbeb41",
       "value": 1428
      }
     },
     "ed6279fa1fef48699581e5ef8a5ecf87": {
      "model_module": "@jupyter-widgets/base",
      "model_module_version": "1.2.0",
      "model_name": "LayoutModel",
      "state": {}
     },
     "ed896f254cef4fe5a56588be2bbe38b6": {
      "model_module": "@jupyter-widgets/base",
      "model_module_version": "1.2.0",
      "model_name": "LayoutModel",
      "state": {}
     },
     "edb3a9ec3d9b4884ae3defa6a7a02ffb": {
      "model_module": "@jupyter-widgets/controls",
      "model_module_version": "1.5.0",
      "model_name": "ProgressStyleModel",
      "state": {
       "description_width": "initial"
      }
     },
     "ee15ccd83cf44233a8e81ec5080dc55d": {
      "model_module": "@jupyter-widgets/base",
      "model_module_version": "1.2.0",
      "model_name": "LayoutModel",
      "state": {}
     },
     "ee5acbe32cf74086bee59e0a64997b05": {
      "model_module": "@jupyter-widgets/controls",
      "model_module_version": "1.5.0",
      "model_name": "HBoxModel",
      "state": {
       "children": [
        "IPY_MODEL_b099a137cd49439bbe8aa0f4717162b2",
        "IPY_MODEL_8f3fc9ade93541d29d472b21b28a598e"
       ],
       "layout": "IPY_MODEL_d5a6383952d5417896eb2b3d37d407e3"
      }
     },
     "eeb2719413dc4c20b01586613e81fc73": {
      "model_module": "@jupyter-widgets/controls",
      "model_module_version": "1.5.0",
      "model_name": "HBoxModel",
      "state": {
       "children": [
        "IPY_MODEL_71b648cd17d54025a33465a286ea5c2c",
        "IPY_MODEL_09e5e997eeba4683b2d14d938b13e804"
       ],
       "layout": "IPY_MODEL_c3c7c3335df54bf2be6c7923a9b9accc"
      }
     },
     "eefb632686c941d3aa8faa07fbcd59e5": {
      "model_module": "@jupyter-widgets/base",
      "model_module_version": "1.2.0",
      "model_name": "LayoutModel",
      "state": {}
     },
     "eefdd8c9b2e64df4bbcdc1f1eb8c217c": {
      "model_module": "@jupyter-widgets/controls",
      "model_module_version": "1.5.0",
      "model_name": "FloatProgressModel",
      "state": {
       "bar_style": "success",
       "description": "100%",
       "layout": "IPY_MODEL_e7410f43d42449d19e90cc2410d6ef55",
       "max": 4285,
       "style": "IPY_MODEL_e8b00f93a24d4dd3a73b0aaaa45fbd5d",
       "value": 4285
      }
     },
     "eeff9c05f87f41ee8f3d9b84ae42afdb": {
      "model_module": "@jupyter-widgets/controls",
      "model_module_version": "1.5.0",
      "model_name": "HBoxModel",
      "state": {
       "children": [
        "IPY_MODEL_3c2ffe6457ba4b67b5814a23e8895619",
        "IPY_MODEL_2abc3255b2b644329ab67164f471e9c2"
       ],
       "layout": "IPY_MODEL_b250548a4f484c5babefda99d3bee857"
      }
     },
     "ef5162a79a514f73a5743bbc51a60458": {
      "model_module": "@jupyter-widgets/base",
      "model_module_version": "1.2.0",
      "model_name": "LayoutModel",
      "state": {}
     },
     "ef6530cf905d4dc1b109cea70bc57c1b": {
      "model_module": "@jupyter-widgets/controls",
      "model_module_version": "1.5.0",
      "model_name": "HTMLModel",
      "state": {
       "layout": "IPY_MODEL_2b4022dfc67842aeb413161da5355684",
       "style": "IPY_MODEL_b7d8f604fa7b4aa8996c189b09f24a1f",
       "value": " 9237/9237 [00:34&lt;00:00, 270.58it/s]"
      }
     },
     "efa0f2fb9d15446bad998abfb48bd05d": {
      "model_module": "@jupyter-widgets/controls",
      "model_module_version": "1.5.0",
      "model_name": "DescriptionStyleModel",
      "state": {
       "description_width": ""
      }
     },
     "efadaadd0a0c4ae7993437a938bd8e9a": {
      "model_module": "@jupyter-widgets/base",
      "model_module_version": "1.2.0",
      "model_name": "LayoutModel",
      "state": {}
     },
     "efde86fc75814c7188e064491037814f": {
      "model_module": "@jupyter-widgets/controls",
      "model_module_version": "1.5.0",
      "model_name": "DescriptionStyleModel",
      "state": {
       "description_width": ""
      }
     },
     "efefeb95b5564020abded0098830fa8f": {
      "model_module": "@jupyter-widgets/base",
      "model_module_version": "1.2.0",
      "model_name": "LayoutModel",
      "state": {}
     },
     "effe09b23f304d769113f9d5fe143c1e": {
      "model_module": "@jupyter-widgets/controls",
      "model_module_version": "1.5.0",
      "model_name": "DescriptionStyleModel",
      "state": {
       "description_width": ""
      }
     },
     "f0035d2700dd4f7bb9b8de50090cbc29": {
      "model_module": "@jupyter-widgets/controls",
      "model_module_version": "1.5.0",
      "model_name": "FloatProgressModel",
      "state": {
       "bar_style": "success",
       "description": "100%",
       "layout": "IPY_MODEL_dd10f6017a0c42d9b427097eca026fa3",
       "max": 9237,
       "style": "IPY_MODEL_73a26f9474aa4a4f9858dbf9490d7221",
       "value": 9237
      }
     },
     "f01eb659b40c4a71aacab046cf21d491": {
      "model_module": "@jupyter-widgets/base",
      "model_module_version": "1.2.0",
      "model_name": "LayoutModel",
      "state": {}
     },
     "f06aac0eb30f4c4e8e5ef0deea1ea056": {
      "model_module": "@jupyter-widgets/controls",
      "model_module_version": "1.5.0",
      "model_name": "HBoxModel",
      "state": {
       "children": [
        "IPY_MODEL_1e889535b4b14d77a6e3cd91016ca8c6",
        "IPY_MODEL_723f243dce8c4cd0a6a4a0767d81b7aa"
       ],
       "layout": "IPY_MODEL_ca8f3a8dc5914d12ba3df70a484e5def"
      }
     },
     "f0bfae75e24e4ab9b66dada0af605678": {
      "model_module": "@jupyter-widgets/controls",
      "model_module_version": "1.5.0",
      "model_name": "FloatProgressModel",
      "state": {
       "bar_style": "success",
       "description": "100%",
       "layout": "IPY_MODEL_9e147fe205cb4b93b84340c2e33273bf",
       "max": 9237,
       "style": "IPY_MODEL_c45e02f97003444f949a01732f44000e",
       "value": 9237
      }
     },
     "f0c3e86aa10a423aa6af1a46c93671d2": {
      "model_module": "@jupyter-widgets/controls",
      "model_module_version": "1.5.0",
      "model_name": "HBoxModel",
      "state": {
       "children": [
        "IPY_MODEL_d7111a2195544a11b3aa380220a8678d",
        "IPY_MODEL_5209245c09e147f5bd15e95427519995"
       ],
       "layout": "IPY_MODEL_2c677789a1394a84afb381b7cfe1619d"
      }
     },
     "f0cac4a071024d75a6cace6ff505658a": {
      "model_module": "@jupyter-widgets/base",
      "model_module_version": "1.2.0",
      "model_name": "LayoutModel",
      "state": {}
     },
     "f0f3b547a4f040ed9dfbefeac8d041eb": {
      "model_module": "@jupyter-widgets/base",
      "model_module_version": "1.2.0",
      "model_name": "LayoutModel",
      "state": {}
     },
     "f0fc1484102048a6ad4c83f9d75dce1b": {
      "model_module": "@jupyter-widgets/controls",
      "model_module_version": "1.5.0",
      "model_name": "DescriptionStyleModel",
      "state": {
       "description_width": ""
      }
     },
     "f1165b1675d54247b6786bce26d4d6c1": {
      "model_module": "@jupyter-widgets/controls",
      "model_module_version": "1.5.0",
      "model_name": "DescriptionStyleModel",
      "state": {
       "description_width": ""
      }
     },
     "f11bbb19c6f9459b82f50ccaf56eade7": {
      "model_module": "@jupyter-widgets/controls",
      "model_module_version": "1.5.0",
      "model_name": "DescriptionStyleModel",
      "state": {
       "description_width": ""
      }
     },
     "f11c6cc290f94fff9778a66041a7b9e9": {
      "model_module": "@jupyter-widgets/controls",
      "model_module_version": "1.5.0",
      "model_name": "DescriptionStyleModel",
      "state": {
       "description_width": ""
      }
     },
     "f1535df76b6e426185c1d8605359a4e0": {
      "model_module": "@jupyter-widgets/controls",
      "model_module_version": "1.5.0",
      "model_name": "DescriptionStyleModel",
      "state": {
       "description_width": ""
      }
     },
     "f16c1c59010045f58dc259af77cdc66a": {
      "model_module": "@jupyter-widgets/base",
      "model_module_version": "1.2.0",
      "model_name": "LayoutModel",
      "state": {}
     },
     "f1b434a58aeb43c19836ca1ef6b4e011": {
      "model_module": "@jupyter-widgets/base",
      "model_module_version": "1.2.0",
      "model_name": "LayoutModel",
      "state": {}
     },
     "f1e40b801e524509a388b7f86954213f": {
      "model_module": "@jupyter-widgets/base",
      "model_module_version": "1.2.0",
      "model_name": "LayoutModel",
      "state": {}
     },
     "f1e7f7b641454b45ae49a332d1fd53a4": {
      "model_module": "@jupyter-widgets/controls",
      "model_module_version": "1.5.0",
      "model_name": "ProgressStyleModel",
      "state": {
       "description_width": "initial"
      }
     },
     "f1e9da15287a41a4855c0dda180c31fc": {
      "model_module": "@jupyter-widgets/controls",
      "model_module_version": "1.5.0",
      "model_name": "HBoxModel",
      "state": {
       "children": [
        "IPY_MODEL_034950567c61400680f19eff491c7cf1",
        "IPY_MODEL_e375060951be4f138401dae0db6d02e8"
       ],
       "layout": "IPY_MODEL_b53e392371ce404aa2bbc737cb5627f2"
      }
     },
     "f1fc4804be5c4a2885013267533d6659": {
      "model_module": "@jupyter-widgets/controls",
      "model_module_version": "1.5.0",
      "model_name": "DescriptionStyleModel",
      "state": {
       "description_width": ""
      }
     },
     "f200e9e09f60481a89d6787e0853221d": {
      "model_module": "@jupyter-widgets/base",
      "model_module_version": "1.2.0",
      "model_name": "LayoutModel",
      "state": {}
     },
     "f2042cb2d16841eda89836d8954f3930": {
      "model_module": "@jupyter-widgets/base",
      "model_module_version": "1.2.0",
      "model_name": "LayoutModel",
      "state": {}
     },
     "f20e570f8e3d4807817c3dfdb4f9ee21": {
      "model_module": "@jupyter-widgets/controls",
      "model_module_version": "1.5.0",
      "model_name": "ProgressStyleModel",
      "state": {
       "description_width": "initial"
      }
     },
     "f21e0129b22e48f58139807d44c26e83": {
      "model_module": "@jupyter-widgets/base",
      "model_module_version": "1.2.0",
      "model_name": "LayoutModel",
      "state": {}
     },
     "f25defc19aa24c48a67dd2f16c9ae97c": {
      "model_module": "@jupyter-widgets/base",
      "model_module_version": "1.2.0",
      "model_name": "LayoutModel",
      "state": {}
     },
     "f284c26c9158433e87785ef93e7a2d5c": {
      "model_module": "@jupyter-widgets/base",
      "model_module_version": "1.2.0",
      "model_name": "LayoutModel",
      "state": {}
     },
     "f28ca100f15349108bf5e6d7165f03a4": {
      "model_module": "@jupyter-widgets/base",
      "model_module_version": "1.2.0",
      "model_name": "LayoutModel",
      "state": {}
     },
     "f294c440984c40a5b9767728b85e9a5b": {
      "model_module": "@jupyter-widgets/controls",
      "model_module_version": "1.5.0",
      "model_name": "ProgressStyleModel",
      "state": {
       "description_width": "initial"
      }
     },
     "f29794410b954abfa9545759dfae06b1": {
      "model_module": "@jupyter-widgets/controls",
      "model_module_version": "1.5.0",
      "model_name": "HBoxModel",
      "state": {
       "children": [
        "IPY_MODEL_d439b1e666b9477b8b10ce21ea3edea9",
        "IPY_MODEL_71bc72be2bc04702bdda7c0364b0320c"
       ],
       "layout": "IPY_MODEL_5029a781db024072b096557c46705b12"
      }
     },
     "f2ae6c51eac84417adb0984d6cedb55d": {
      "model_module": "@jupyter-widgets/controls",
      "model_module_version": "1.5.0",
      "model_name": "HBoxModel",
      "state": {
       "children": [
        "IPY_MODEL_9abce92854794b60aaa54a39c0fd5926",
        "IPY_MODEL_55f9319a5e8140ad92fc5afb8fa88aa5"
       ],
       "layout": "IPY_MODEL_6041acf9173c4768a61d8adada1e8c9b"
      }
     },
     "f2b6dcff723347a190c258b42137d3e6": {
      "model_module": "@jupyter-widgets/controls",
      "model_module_version": "1.5.0",
      "model_name": "ProgressStyleModel",
      "state": {
       "description_width": "initial"
      }
     },
     "f2cefdc0388545b88f44bf79da37b91f": {
      "model_module": "@jupyter-widgets/controls",
      "model_module_version": "1.5.0",
      "model_name": "FloatProgressModel",
      "state": {
       "bar_style": "success",
       "description": "100%",
       "layout": "IPY_MODEL_a0061a910877447480d3b4178d7d626d",
       "max": 9237,
       "style": "IPY_MODEL_23d283c6b1154039a8dba75fd5ab2c91",
       "value": 9237
      }
     },
     "f31d34cf0c374359ab377c93e6a817ee": {
      "model_module": "@jupyter-widgets/controls",
      "model_module_version": "1.5.0",
      "model_name": "HBoxModel",
      "state": {
       "children": [
        "IPY_MODEL_4fcc2720f7984c358d861641b6e3ce97",
        "IPY_MODEL_6bcfc3bc2e764f97a59804e17d34c396"
       ],
       "layout": "IPY_MODEL_aa246b38023643d88be96809f4bdd911"
      }
     },
     "f3496b2c3e7f42269c6d73e277a29214": {
      "model_module": "@jupyter-widgets/base",
      "model_module_version": "1.2.0",
      "model_name": "LayoutModel",
      "state": {}
     },
     "f34cf82653e046169f2037ca607e5e5e": {
      "model_module": "@jupyter-widgets/base",
      "model_module_version": "1.2.0",
      "model_name": "LayoutModel",
      "state": {}
     },
     "f3556a21f40c4cfba0e531dfd40a6cf3": {
      "model_module": "@jupyter-widgets/base",
      "model_module_version": "1.2.0",
      "model_name": "LayoutModel",
      "state": {}
     },
     "f3702355652d4d26a5dca8737e615e98": {
      "model_module": "@jupyter-widgets/controls",
      "model_module_version": "1.5.0",
      "model_name": "HBoxModel",
      "state": {
       "children": [
        "IPY_MODEL_8e74c3baca7f47fd875f748837420a33",
        "IPY_MODEL_fda4003dcfcd4af2b7bfde337c44d812"
       ],
       "layout": "IPY_MODEL_1435edd25e42461db009dbef3b5c50b1"
      }
     },
     "f37950de62ed4b6185cc88d072a06cd8": {
      "model_module": "@jupyter-widgets/controls",
      "model_module_version": "1.5.0",
      "model_name": "DescriptionStyleModel",
      "state": {
       "description_width": ""
      }
     },
     "f38020f9a2654b3d843c8693c071f1d4": {
      "model_module": "@jupyter-widgets/controls",
      "model_module_version": "1.5.0",
      "model_name": "HTMLModel",
      "state": {
       "layout": "IPY_MODEL_b1fef0e11f9f414784deb68d38ddcac6",
       "style": "IPY_MODEL_8fde0c16b7184425b14ba0709ffe4bc4",
       "value": " 27825/27825 [00:00&lt;00:00, 179969.88it/s]"
      }
     },
     "f39f144e59b94c0e9034c87acf5def8e": {
      "model_module": "@jupyter-widgets/controls",
      "model_module_version": "1.5.0",
      "model_name": "FloatProgressModel",
      "state": {
       "bar_style": "success",
       "description": "100%",
       "layout": "IPY_MODEL_be018db49eec43fdb06eed8c3b284e1d",
       "max": 2856,
       "style": "IPY_MODEL_3c37dac73bfc44799b1139babc12c0be",
       "value": 2856
      }
     },
     "f3bce6299b5d4442a5a7b25075286009": {
      "model_module": "@jupyter-widgets/base",
      "model_module_version": "1.2.0",
      "model_name": "LayoutModel",
      "state": {}
     },
     "f3d6f5214331437796186716c065a013": {
      "model_module": "@jupyter-widgets/controls",
      "model_module_version": "1.5.0",
      "model_name": "ProgressStyleModel",
      "state": {
       "description_width": "initial"
      }
     },
     "f42029dc38ee439d9ef78dd4a40ba19c": {
      "model_module": "@jupyter-widgets/controls",
      "model_module_version": "1.5.0",
      "model_name": "HBoxModel",
      "state": {
       "children": [
        "IPY_MODEL_8162d33c93574fba9d818fb534443579",
        "IPY_MODEL_4f2e8571cd474420862269b24f5d9db8"
       ],
       "layout": "IPY_MODEL_65167de43c9a4cafae23527be1fd4fa1"
      }
     },
     "f453222df1724158a9a4c913e74f101e": {
      "model_module": "@jupyter-widgets/base",
      "model_module_version": "1.2.0",
      "model_name": "LayoutModel",
      "state": {}
     },
     "f4c1994769e348a3ae27f8f6b6f6d3ce": {
      "model_module": "@jupyter-widgets/base",
      "model_module_version": "1.2.0",
      "model_name": "LayoutModel",
      "state": {}
     },
     "f4c1b770696d4376b8d7eee38159b16e": {
      "model_module": "@jupyter-widgets/base",
      "model_module_version": "1.2.0",
      "model_name": "LayoutModel",
      "state": {}
     },
     "f4fb42bab0e7429a848e6f28c523c6e3": {
      "model_module": "@jupyter-widgets/controls",
      "model_module_version": "1.5.0",
      "model_name": "HTMLModel",
      "state": {
       "layout": "IPY_MODEL_4501b6913acb4c9893f920376d40d4b4",
       "style": "IPY_MODEL_1708746194414a2eaf79d1322868ccee",
       "value": " 9236/9236 [25:02&lt;00:00,  6.15it/s]"
      }
     },
     "f52a8a8f8df348828f290496e86ad7b0": {
      "model_module": "@jupyter-widgets/controls",
      "model_module_version": "1.5.0",
      "model_name": "HTMLModel",
      "state": {
       "layout": "IPY_MODEL_335c08b931cd4845b57ee5b0d4768754",
       "style": "IPY_MODEL_4e55a055819c494cbee464a78b334ca1",
       "value": " 49982/49982 [00:05&lt;00:00, 9319.02it/s]"
      }
     },
     "f55339345e6c40b9837fcbcf48434017": {
      "model_module": "@jupyter-widgets/base",
      "model_module_version": "1.2.0",
      "model_name": "LayoutModel",
      "state": {}
     },
     "f57a3cfe9ede48508c3b8ecc4fa84337": {
      "model_module": "@jupyter-widgets/base",
      "model_module_version": "1.2.0",
      "model_name": "LayoutModel",
      "state": {}
     },
     "f5974008bebb45f68e1226a9a6d56495": {
      "model_module": "@jupyter-widgets/controls",
      "model_module_version": "1.5.0",
      "model_name": "FloatProgressModel",
      "state": {
       "bar_style": "success",
       "description": "100%",
       "layout": "IPY_MODEL_59cccf57ec44490aac834917f9e66bd2",
       "max": 517401,
       "style": "IPY_MODEL_4876c7d783e3498182d5ba9e55f4ada4",
       "value": 517401
      }
     },
     "f59c0499446a43378341cbd1015d4adc": {
      "model_module": "@jupyter-widgets/controls",
      "model_module_version": "1.5.0",
      "model_name": "HBoxModel",
      "state": {
       "children": [
        "IPY_MODEL_f0bfae75e24e4ab9b66dada0af605678",
        "IPY_MODEL_50be8691e7714b20b30e0004e949a95d"
       ],
       "layout": "IPY_MODEL_a09d474c46a94a91bae01729f9aec05d"
      }
     },
     "f5a06dc78ef84209be99bc1c1a0c22a4": {
      "model_module": "@jupyter-widgets/base",
      "model_module_version": "1.2.0",
      "model_name": "LayoutModel",
      "state": {}
     },
     "f5a6644e67364f5593c9309de9da03c8": {
      "model_module": "@jupyter-widgets/controls",
      "model_module_version": "1.5.0",
      "model_name": "ProgressStyleModel",
      "state": {
       "description_width": "initial"
      }
     },
     "f5dac4fb4cbf40dbb63ff720a2db4576": {
      "model_module": "@jupyter-widgets/base",
      "model_module_version": "1.2.0",
      "model_name": "LayoutModel",
      "state": {}
     },
     "f5db4f328eea4331bf567e8e9df55ac9": {
      "model_module": "@jupyter-widgets/controls",
      "model_module_version": "1.5.0",
      "model_name": "HTMLModel",
      "state": {
       "layout": "IPY_MODEL_4b3a3cf227b14694820fce19eaa93b7c",
       "style": "IPY_MODEL_698e679ecf3942d2aa40d2a2e5454493",
       "value": " 9236/9236 [00:32&lt;00:00, 281.48it/s]"
      }
     },
     "f61bf4048d354e68b65192ec1156ad54": {
      "model_module": "@jupyter-widgets/controls",
      "model_module_version": "1.5.0",
      "model_name": "FloatProgressModel",
      "state": {
       "bar_style": "success",
       "description": "100%",
       "layout": "IPY_MODEL_e74743bae56248389a50ffc13839e015",
       "max": 27825,
       "style": "IPY_MODEL_0b4270848ca04abd9f04df6742252bb6",
       "value": 27825
      }
     },
     "f622385b1f654db592617f32d79e029b": {
      "model_module": "@jupyter-widgets/base",
      "model_module_version": "1.2.0",
      "model_name": "LayoutModel",
      "state": {}
     },
     "f62fdce863064e2cb9e03d052dee3060": {
      "model_module": "@jupyter-widgets/base",
      "model_module_version": "1.2.0",
      "model_name": "LayoutModel",
      "state": {}
     },
     "f664fd3a359f46b48be9c50a72701aad": {
      "model_module": "@jupyter-widgets/controls",
      "model_module_version": "1.5.0",
      "model_name": "HBoxModel",
      "state": {
       "children": [
        "IPY_MODEL_ab76109514014af7bf70c48e76db1b90",
        "IPY_MODEL_c1f5fd3aaaf34878942cc4eae34d6c3b"
       ],
       "layout": "IPY_MODEL_9a72c99943ee4cd3941f70bc4d695e5e"
      }
     },
     "f6b145bd8c154027af6f591afee21fc6": {
      "model_module": "@jupyter-widgets/controls",
      "model_module_version": "1.5.0",
      "model_name": "DescriptionStyleModel",
      "state": {
       "description_width": ""
      }
     },
     "f6ddb449d41d40b786c4059b9d59d5a1": {
      "model_module": "@jupyter-widgets/base",
      "model_module_version": "1.2.0",
      "model_name": "LayoutModel",
      "state": {}
     },
     "f6e84dae2c2f4123845242152e2084ca": {
      "model_module": "@jupyter-widgets/controls",
      "model_module_version": "1.5.0",
      "model_name": "FloatProgressModel",
      "state": {
       "bar_style": "success",
       "description": "100%",
       "layout": "IPY_MODEL_1c5c48c353824880afbbff874efe37d7",
       "max": 30000,
       "style": "IPY_MODEL_42ff5d7436654780962466ce0a5bd8cb",
       "value": 30000
      }
     },
     "f71d6b2f26a04449a9fa6a53a283955d": {
      "model_module": "@jupyter-widgets/controls",
      "model_module_version": "1.5.0",
      "model_name": "ProgressStyleModel",
      "state": {
       "description_width": "initial"
      }
     },
     "f7a790430db146f299398e7a0ab9d1f3": {
      "model_module": "@jupyter-widgets/controls",
      "model_module_version": "1.5.0",
      "model_name": "ProgressStyleModel",
      "state": {
       "description_width": "initial"
      }
     },
     "f7be9bffe2374ec682b600ab1344c53c": {
      "model_module": "@jupyter-widgets/base",
      "model_module_version": "1.2.0",
      "model_name": "LayoutModel",
      "state": {}
     },
     "f7d7a3aa1b514ef280a9de665b6ef88d": {
      "model_module": "@jupyter-widgets/controls",
      "model_module_version": "1.5.0",
      "model_name": "HTMLModel",
      "state": {
       "layout": "IPY_MODEL_d8b77dd8342743668a38e67c1ebde6cb",
       "style": "IPY_MODEL_84c0fa9408a54c9888c4990c6c509ac0",
       "value": " 9237/9237 [13:27&lt;00:00, 11.44it/s]"
      }
     },
     "f7eec893f59b4c1c81f70677f51f5760": {
      "model_module": "@jupyter-widgets/controls",
      "model_module_version": "1.5.0",
      "model_name": "HTMLModel",
      "state": {
       "layout": "IPY_MODEL_8cde6aa69a834f819f2897afb156895d",
       "style": "IPY_MODEL_7b4c121ed74849abac4c11fe66c28225",
       "value": " 0/? [00:00&lt;?, ?it/s]"
      }
     },
     "f83dbdf20e534be68de9b5f68dfd197d": {
      "model_module": "@jupyter-widgets/base",
      "model_module_version": "1.2.0",
      "model_name": "LayoutModel",
      "state": {}
     },
     "f84283351b1249c9a652df9028646387": {
      "model_module": "@jupyter-widgets/base",
      "model_module_version": "1.2.0",
      "model_name": "LayoutModel",
      "state": {}
     },
     "f868845bc6d1417e9a5bdefa606cdfe5": {
      "model_module": "@jupyter-widgets/controls",
      "model_module_version": "1.5.0",
      "model_name": "DescriptionStyleModel",
      "state": {
       "description_width": ""
      }
     },
     "f88ceb01810846849476bdbe762670f1": {
      "model_module": "@jupyter-widgets/controls",
      "model_module_version": "1.5.0",
      "model_name": "HTMLModel",
      "state": {
       "layout": "IPY_MODEL_25767a9f713a40e1afa31e98c4748971",
       "style": "IPY_MODEL_93d402b285804af48c5fe571adff8d3d",
       "value": " 9237/9237 [28:11&lt;00:00,  5.46it/s]"
      }
     },
     "f8bf07dd7f364c4c9796de9fcc7f2cdb": {
      "model_module": "@jupyter-widgets/base",
      "model_module_version": "1.2.0",
      "model_name": "LayoutModel",
      "state": {}
     },
     "f8c6766f8a35455aa4cea1119ed5f711": {
      "model_module": "@jupyter-widgets/controls",
      "model_module_version": "1.5.0",
      "model_name": "FloatProgressModel",
      "state": {
       "bar_style": "success",
       "description": "100%",
       "layout": "IPY_MODEL_bf4db3228f464050b832a67004397390",
       "max": 16977,
       "style": "IPY_MODEL_9ef21e40c73f4846ac335dec21b01b67",
       "value": 16977
      }
     },
     "f8e8263fd5ca4221a7689c89b8ada6aa": {
      "model_module": "@jupyter-widgets/controls",
      "model_module_version": "1.5.0",
      "model_name": "HTMLModel",
      "state": {
       "layout": "IPY_MODEL_9838ebc2fac74fa6aac4c93f5e82fdb2",
       "style": "IPY_MODEL_4571d16a9262405ba3b39d2487ec9ca9",
       "value": " 9237/9237 [00:31&lt;00:00, 290.43it/s]"
      }
     },
     "f9b1e73eb4564e589fd953559fff972b": {
      "model_module": "@jupyter-widgets/base",
      "model_module_version": "1.2.0",
      "model_name": "LayoutModel",
      "state": {}
     },
     "f9bfc17ada3a40248898aa1caebe33a5": {
      "model_module": "@jupyter-widgets/base",
      "model_module_version": "1.2.0",
      "model_name": "LayoutModel",
      "state": {}
     },
     "f9cadd1b08d94d6c83b5a35b9a631a6d": {
      "model_module": "@jupyter-widgets/controls",
      "model_module_version": "1.5.0",
      "model_name": "HTMLModel",
      "state": {
       "layout": "IPY_MODEL_694256b1a16948bcaa24b108ddfcc1da",
       "style": "IPY_MODEL_174016754f24403b9d0da426f4f1fc23",
       "value": " 9152/9152 [00:00&lt;00:00, 62633.83it/s]"
      }
     },
     "f9e8c3da473c4bbfb64ebdd4007a4283": {
      "model_module": "@jupyter-widgets/controls",
      "model_module_version": "1.5.0",
      "model_name": "ProgressStyleModel",
      "state": {
       "description_width": "initial"
      }
     },
     "fa07e22ea7074a70a398b674f1dba2b3": {
      "model_module": "@jupyter-widgets/controls",
      "model_module_version": "1.5.0",
      "model_name": "HBoxModel",
      "state": {
       "children": [
        "IPY_MODEL_30b316cba2b74338b4107a67cac3b059",
        "IPY_MODEL_03595601b1bb430bbb9d24a69b21cd7d"
       ],
       "layout": "IPY_MODEL_1c3be64f0d62463f937bf2cdd912704f"
      }
     },
     "fa0ef408782e43af905c3b55bd5e0964": {
      "model_module": "@jupyter-widgets/controls",
      "model_module_version": "1.5.0",
      "model_name": "ProgressStyleModel",
      "state": {
       "description_width": "initial"
      }
     },
     "fa4b7fdfcb02440a8a645f0c1fdfad0d": {
      "model_module": "@jupyter-widgets/controls",
      "model_module_version": "1.5.0",
      "model_name": "HTMLModel",
      "state": {
       "layout": "IPY_MODEL_4653b623198940009eb3b8a580c6bf11",
       "style": "IPY_MODEL_d416384abd42447a826d78f155af841e",
       "value": " 3570/3570 [07:53&lt;00:00,  7.55it/s]"
      }
     },
     "fa5bfc7dca2f466aaa5677e1846b9f7c": {
      "model_module": "@jupyter-widgets/controls",
      "model_module_version": "1.5.0",
      "model_name": "HTMLModel",
      "state": {
       "layout": "IPY_MODEL_53934afe8cb0451ab2ce23db27082af0",
       "style": "IPY_MODEL_4cd438313552413bac220209bf7d454f",
       "value": " 7140/7140 [17:02&lt;00:00,  6.98it/s]"
      }
     },
     "fa76523c05ee4b68a9f3481cc8bfba06": {
      "model_module": "@jupyter-widgets/controls",
      "model_module_version": "1.5.0",
      "model_name": "HTMLModel",
      "state": {
       "layout": "IPY_MODEL_ad8cb2f80cb54e828720ebb4dcff2bf8",
       "style": "IPY_MODEL_35811c91449341688a20304aa7547e4d",
       "value": " 9237/9237 [00:35&lt;00:00, 260.47it/s]"
      }
     },
     "fa8af229147d43c682b7c50092158375": {
      "model_module": "@jupyter-widgets/controls",
      "model_module_version": "1.5.0",
      "model_name": "FloatProgressModel",
      "state": {
       "bar_style": "success",
       "description": "100%",
       "layout": "IPY_MODEL_88820b605cc241828321905516c1b1ed",
       "max": 9237,
       "style": "IPY_MODEL_9bdd5b9425cf4de1b69d9cb7723a5569",
       "value": 9237
      }
     },
     "fa9fc6aa0a3a47a799dfa7bf3e1f9ada": {
      "model_module": "@jupyter-widgets/controls",
      "model_module_version": "1.5.0",
      "model_name": "HBoxModel",
      "state": {
       "children": [
        "IPY_MODEL_fac01f3bfe0b48ad9fce1d933c7fd09e",
        "IPY_MODEL_f38020f9a2654b3d843c8693c071f1d4"
       ],
       "layout": "IPY_MODEL_06e17f3ffe5d4ef78ed61082d6954caf"
      }
     },
     "fab86ad5f658452fb499476ed3c85a29": {
      "model_module": "@jupyter-widgets/controls",
      "model_module_version": "1.5.0",
      "model_name": "FloatProgressModel",
      "state": {
       "bar_style": "success",
       "description": "100%",
       "layout": "IPY_MODEL_c49de73eb0ad40beb080a95f73ecb2ad",
       "max": 9152,
       "style": "IPY_MODEL_edb3a9ec3d9b4884ae3defa6a7a02ffb",
       "value": 9152
      }
     },
     "fac01f3bfe0b48ad9fce1d933c7fd09e": {
      "model_module": "@jupyter-widgets/controls",
      "model_module_version": "1.5.0",
      "model_name": "FloatProgressModel",
      "state": {
       "bar_style": "success",
       "description": "100%",
       "layout": "IPY_MODEL_b19a310862484664b5fff82c15dcf332",
       "max": 27825,
       "style": "IPY_MODEL_880d6adcbe7d4eb1820616128ae944c1",
       "value": 27825
      }
     },
     "fad44dabda844654ba76e82f3e179898": {
      "model_module": "@jupyter-widgets/controls",
      "model_module_version": "1.5.0",
      "model_name": "DescriptionStyleModel",
      "state": {
       "description_width": ""
      }
     },
     "fb2e0b3d2d2742969e9128e74a5e3333": {
      "model_module": "@jupyter-widgets/controls",
      "model_module_version": "1.5.0",
      "model_name": "DescriptionStyleModel",
      "state": {
       "description_width": ""
      }
     },
     "fb6362e499754e298b0caa2145916383": {
      "model_module": "@jupyter-widgets/base",
      "model_module_version": "1.2.0",
      "model_name": "LayoutModel",
      "state": {}
     },
     "fb7c2d34e5c24713a6dfce5acce2b3ac": {
      "model_module": "@jupyter-widgets/base",
      "model_module_version": "1.2.0",
      "model_name": "LayoutModel",
      "state": {}
     },
     "fb89ea9b71bb478d8ce66f10ef5f5e47": {
      "model_module": "@jupyter-widgets/base",
      "model_module_version": "1.2.0",
      "model_name": "LayoutModel",
      "state": {}
     },
     "fb9d45ee973e470a955e8c41fd284d5f": {
      "model_module": "@jupyter-widgets/controls",
      "model_module_version": "1.5.0",
      "model_name": "ProgressStyleModel",
      "state": {
       "description_width": "initial"
      }
     },
     "fbabe7f7719643bfa897eeb2d8d98204": {
      "model_module": "@jupyter-widgets/controls",
      "model_module_version": "1.5.0",
      "model_name": "HTMLModel",
      "state": {
       "layout": "IPY_MODEL_957e6361f6a44ba090c83682a525d99f",
       "style": "IPY_MODEL_d31e3cd2905642a9a16054f0fe744912",
       "value": " 3571/3571 [08:01&lt;00:00,  7.41it/s]"
      }
     },
     "fbbfef2ad3354ea9a516ed4ddf0b1af5": {
      "model_module": "@jupyter-widgets/base",
      "model_module_version": "1.2.0",
      "model_name": "LayoutModel",
      "state": {}
     },
     "fbd8dde4bccf4533ad3103fd48358270": {
      "model_module": "@jupyter-widgets/base",
      "model_module_version": "1.2.0",
      "model_name": "LayoutModel",
      "state": {}
     },
     "fbe969840ea744c6875a75807fd4d99e": {
      "model_module": "@jupyter-widgets/controls",
      "model_module_version": "1.5.0",
      "model_name": "HBoxModel",
      "state": {
       "children": [
        "IPY_MODEL_c9ed115b2f86406c87c210eee6518b0d",
        "IPY_MODEL_6067ff33e23840638e2191e5ff53fb8e"
       ],
       "layout": "IPY_MODEL_6a34d8141f4b49639ba5b6011e2aef4a"
      }
     },
     "fbed94e41b8647ba9fced480d038b641": {
      "model_module": "@jupyter-widgets/base",
      "model_module_version": "1.2.0",
      "model_name": "LayoutModel",
      "state": {}
     },
     "fc30c6c824db4ab69e43f1c243cc3219": {
      "model_module": "@jupyter-widgets/controls",
      "model_module_version": "1.5.0",
      "model_name": "DescriptionStyleModel",
      "state": {
       "description_width": ""
      }
     },
     "fc3c202487cf415f9eaceaa0322db1a8": {
      "model_module": "@jupyter-widgets/controls",
      "model_module_version": "1.5.0",
      "model_name": "HTMLModel",
      "state": {
       "layout": "IPY_MODEL_2759adfecc09417a899f8abfc10d8935",
       "style": "IPY_MODEL_d3394164cb66423e850baf2964f70805",
       "value": " 9236/9236 [34:20&lt;00:00,  4.48it/s]"
      }
     },
     "fc72006340e94760ae8c1594a2e25a23": {
      "model_module": "@jupyter-widgets/controls",
      "model_module_version": "1.5.0",
      "model_name": "HBoxModel",
      "state": {
       "children": [
        "IPY_MODEL_21061a18e5a344718fada27aee99d97c",
        "IPY_MODEL_541aa0d233544d3d962c44623c8c5d04"
       ],
       "layout": "IPY_MODEL_d797b5c7bd2641efb5eb37c56d41e61b"
      }
     },
     "fcb921f126284aeeb76eeacb596727f3": {
      "model_module": "@jupyter-widgets/base",
      "model_module_version": "1.2.0",
      "model_name": "LayoutModel",
      "state": {}
     },
     "fcefd98f966440fdb0969c8a144b48cf": {
      "model_module": "@jupyter-widgets/base",
      "model_module_version": "1.2.0",
      "model_name": "LayoutModel",
      "state": {}
     },
     "fd0390acf5df433ea75b602fd17c56a0": {
      "model_module": "@jupyter-widgets/controls",
      "model_module_version": "1.5.0",
      "model_name": "FloatProgressModel",
      "state": {
       "bar_style": "success",
       "description": "100%",
       "layout": "IPY_MODEL_05490c60de414021a14b73b7defacb18",
       "max": 9236,
       "style": "IPY_MODEL_c8c85f4c55304504aa5a9795b7c85fac",
       "value": 9236
      }
     },
     "fd33a00984984f1a8e8d9bb0979650f9": {
      "model_module": "@jupyter-widgets/controls",
      "model_module_version": "1.5.0",
      "model_name": "DescriptionStyleModel",
      "state": {
       "description_width": ""
      }
     },
     "fd5545dd19424b699708d3d218c2ea1d": {
      "model_module": "@jupyter-widgets/controls",
      "model_module_version": "1.5.0",
      "model_name": "FloatProgressModel",
      "state": {
       "bar_style": "success",
       "description": "100%",
       "layout": "IPY_MODEL_222180adb6544d5a9039af7b67986ffc",
       "max": 7141,
       "style": "IPY_MODEL_510565f06b8c465698297a3aa3966eaa",
       "value": 7141
      }
     },
     "fd8187e98eaf4eecb56d261a59d4f39b": {
      "model_module": "@jupyter-widgets/controls",
      "model_module_version": "1.5.0",
      "model_name": "ProgressStyleModel",
      "state": {
       "description_width": "initial"
      }
     },
     "fd85b960c6c54a6f82188a52e85eccfc": {
      "model_module": "@jupyter-widgets/base",
      "model_module_version": "1.2.0",
      "model_name": "LayoutModel",
      "state": {}
     },
     "fda4003dcfcd4af2b7bfde337c44d812": {
      "model_module": "@jupyter-widgets/controls",
      "model_module_version": "1.5.0",
      "model_name": "HTMLModel",
      "state": {
       "layout": "IPY_MODEL_8b696c4484a54e85b9c03b02523b3dec",
       "style": "IPY_MODEL_cb42c2c8e4d74dad813ac5acabb40602",
       "value": " 12239/12239 [00:00&lt;00:00, 68619.83it/s]"
      }
     },
     "fe180cf832c94a53b2766949d7196779": {
      "model_module": "@jupyter-widgets/base",
      "model_module_version": "1.2.0",
      "model_name": "LayoutModel",
      "state": {}
     },
     "fe1c450291c04b5b9bbbce780c9a11f2": {
      "model_module": "@jupyter-widgets/controls",
      "model_module_version": "1.5.0",
      "model_name": "HBoxModel",
      "state": {
       "children": [
        "IPY_MODEL_7955444d51a14a4fbb3b17dd6cbe383e",
        "IPY_MODEL_1006a2af2b114849a8eee8bae5d17977"
       ],
       "layout": "IPY_MODEL_ff2208088ff047aba50b33ff78b0fd65"
      }
     },
     "fe2953f55de54ed589793dc43a9fd619": {
      "model_module": "@jupyter-widgets/base",
      "model_module_version": "1.2.0",
      "model_name": "LayoutModel",
      "state": {}
     },
     "fe4d489d468844eeb6be31738ee7ca68": {
      "model_module": "@jupyter-widgets/controls",
      "model_module_version": "1.5.0",
      "model_name": "FloatProgressModel",
      "state": {
       "bar_style": "success",
       "description": "100%",
       "layout": "IPY_MODEL_2add8c0f95d44003aa0562123f7ea242",
       "max": 4284,
       "style": "IPY_MODEL_2db41edac3b44b70985059e757891c2b",
       "value": 4284
      }
     },
     "fe9c7ffdbcf840838069d69d21016f95": {
      "model_module": "@jupyter-widgets/controls",
      "model_module_version": "1.5.0",
      "model_name": "HTMLModel",
      "state": {
       "layout": "IPY_MODEL_1f6babf404fd4137963381f86a597866",
       "style": "IPY_MODEL_3be5b8e4d4e840b588fec0265af67c8a",
       "value": " 9236/9236 [11:20&lt;00:00, 13.57it/s]"
      }
     },
     "fed33d1efa5c494789f637dc8999406d": {
      "model_module": "@jupyter-widgets/base",
      "model_module_version": "1.2.0",
      "model_name": "LayoutModel",
      "state": {}
     },
     "feee71a5af054b5aa7bc4dc715a1dbbb": {
      "model_module": "@jupyter-widgets/controls",
      "model_module_version": "1.5.0",
      "model_name": "HBoxModel",
      "state": {
       "children": [
        "IPY_MODEL_a7d1ea73032c4e1b970a2851f0472cab",
        "IPY_MODEL_44130002045640cda4c08463a0b388b9"
       ],
       "layout": "IPY_MODEL_82bef040597a4a6692141f1e58979618"
      }
     },
     "fef8129346b54444bb728a2f515c96b7": {
      "model_module": "@jupyter-widgets/controls",
      "model_module_version": "1.5.0",
      "model_name": "HBoxModel",
      "state": {
       "children": [
        "IPY_MODEL_7984b69d0f0a41d18a9a3ce2d359301f",
        "IPY_MODEL_65d0c79efe0a4e84abedb7ed3cd68f6f"
       ],
       "layout": "IPY_MODEL_20de91c4825b46fba4c93eaf5bf8ac17"
      }
     },
     "ff2208088ff047aba50b33ff78b0fd65": {
      "model_module": "@jupyter-widgets/base",
      "model_module_version": "1.2.0",
      "model_name": "LayoutModel",
      "state": {}
     },
     "ff67475e1ad141689eb515ea1326d886": {
      "model_module": "@jupyter-widgets/base",
      "model_module_version": "1.2.0",
      "model_name": "LayoutModel",
      "state": {}
     },
     "ffeba4770bce481c9886a867d1b1af36": {
      "model_module": "@jupyter-widgets/base",
      "model_module_version": "1.2.0",
      "model_name": "LayoutModel",
      "state": {}
     }
    },
    "version_major": 2,
    "version_minor": 0
   }
  }
 },
 "nbformat": 4,
 "nbformat_minor": 2
}
