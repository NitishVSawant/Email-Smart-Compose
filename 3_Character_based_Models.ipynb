{
 "cells": [
  {
   "cell_type": "code",
   "execution_count": 0,
   "metadata": {
    "colab": {},
    "colab_type": "code",
    "id": "d6W1O4UJcuAE"
   },
   "outputs": [],
   "source": [
    "#Import libraries\n",
    "import warnings\n",
    "warnings.filterwarnings(\"ignore\")\n",
    "import numpy as np\n",
    "import pandas as pd\n",
    "import re\n",
    "import joblib\n",
    "import pickle\n",
    "import datetime\n",
    "import random\n",
    "import os\n",
    "import matplotlib.pyplot as plt\n",
    "import matplotlib.ticker as ticker\n",
    "%matplotlib inline\n",
    "import seaborn as sns\n",
    "from tqdm import tqdm\n",
    "import tensorflow as tf\n",
    "from tensorflow.keras.layers import Embedding,LSTM,Dropout,Dense\n",
    "from tensorflow.keras.callbacks import ModelCheckpoint,ReduceLROnPlateau,EarlyStopping,TensorBoard,LearningRateScheduler\n",
    "from nltk.translate import bleu_score"
   ]
  },
  {
   "cell_type": "markdown",
   "metadata": {},
   "source": [
    "<h1 style=\"font-size:35px\"><center>Encoder Decoder Model"
   ]
  },
  {
   "cell_type": "code",
   "execution_count": 0,
   "metadata": {
    "colab": {
     "base_uri": "https://localhost:8080/",
     "height": 222
    },
    "colab_type": "code",
    "id": "zp7DConlnKPW",
    "outputId": "9afa9237-c077-4016-c789-73803ea580ac"
   },
   "outputs": [
    {
     "name": "stdout",
     "output_type": "stream",
     "text": [
      "--2020-06-08 04:28:05--  https://doc-14-ak-docs.googleusercontent.com/docs/securesc/qbvov0hd66fbepcf5v8uge9fuarie7t4/0d1l8r7lvb03s30i0dca615to39oqlp5/1591590450000/02963250765125473783/02963250765125473783/1jW765FL46OCyM0yBYXzhLrcUpSbZEZUz?e=download&authuser=1\n",
      "Resolving doc-14-ak-docs.googleusercontent.com (doc-14-ak-docs.googleusercontent.com)... 74.125.195.132, 2607:f8b0:400e:c09::84\n",
      "Connecting to doc-14-ak-docs.googleusercontent.com (doc-14-ak-docs.googleusercontent.com)|74.125.195.132|:443... connected.\n",
      "HTTP request sent, awaiting response... 200 OK\n",
      "Length: unspecified [application/octet-stream]\n",
      "Saving to: ‘char_encoded_data’\n",
      "\n",
      "\r",
      "char_encoded_data       [<=>                 ]       0  --.-KB/s               \r",
      "char_encoded_data       [ <=>                ]   4.01M  14.4MB/s               \r",
      "char_encoded_data       [  <=>               ]   8.12M  27.7MB/s    in 0.3s    \n",
      "\n",
      "2020-06-08 04:28:06 (27.7 MB/s) - ‘char_encoded_data’ saved [8514266]\n",
      "\n"
     ]
    }
   ],
   "source": [
    "!wget --header=\"Host: doc-14-ak-docs.googleusercontent.com\" --header=\"User-Agent: Mozilla/5.0 (Windows NT 10.0; Win64; x64) AppleWebKit/537.36 (KHTML, like Gecko) Chrome/83.0.4103.97 Safari/537.36\" --header=\"Accept: text/html,application/xhtml+xml,application/xml;q=0.9,image/webp,image/apng,*/*;q=0.8,application/signed-exchange;v=b3;q=0.9\" --header=\"Accept-Language: en-IN,en-GB;q=0.9,en-US;q=0.8,en;q=0.7\" --header=\"Referer: https://drive.google.com/drive/u/1/folders/1kcnuBLEiI2SFWWZhGFK3ba-Vwbbt0LmE\" --header=\"Cookie: AUTH_hsr61oqao0sqa2rdskku1n6gcr67pomr=02963250765125473783|1591590300000|u7dhk7aivpt8lc34m2ada26ut0lhkduc; _ga=GA1.2.1509677474.1591248567\" --header=\"Connection: keep-alive\" \"https://doc-14-ak-docs.googleusercontent.com/docs/securesc/qbvov0hd66fbepcf5v8uge9fuarie7t4/0d1l8r7lvb03s30i0dca615to39oqlp5/1591590450000/02963250765125473783/02963250765125473783/1jW765FL46OCyM0yBYXzhLrcUpSbZEZUz?e=download&authuser=1\" -c -O 'char_encoded_data'"
   ]
  },
  {
   "cell_type": "markdown",
   "metadata": {
    "colab_type": "text",
    "id": "c5JLhjfZ0XEz"
   },
   "source": [
    "<h1>1. Read Featurized data</h1> \n",
    "<h2>(Refer Character Featurization Section 3 of 2_Data_Preparation.ipynb)</h2> "
   ]
  },
  {
   "cell_type": "code",
   "execution_count": 0,
   "metadata": {
    "colab": {},
    "colab_type": "code",
    "id": "AnTFvgjaWx8o"
   },
   "outputs": [],
   "source": [
    "[X_train_padded_docs,y_train_padded_docs,X_val_padded_docs,y_val_padded_docs,\n",
    "                                             embedding_matrix,tokenizer] = joblib.load('char_encoded_data')"
   ]
  },
  {
   "cell_type": "markdown",
   "metadata": {
    "colab_type": "text",
    "id": "xjB44o3q0XHp"
   },
   "source": [
    "<h1>2. Encoder Decoder Model"
   ]
  },
  {
   "cell_type": "markdown",
   "metadata": {
    "colab_type": "text",
    "id": "icMEwKexcuC2"
   },
   "source": [
    "<h2>2.1. Encoder Model"
   ]
  },
  {
   "cell_type": "code",
   "execution_count": 0,
   "metadata": {
    "colab": {},
    "colab_type": "code",
    "id": "wgtZmDqYcuC6"
   },
   "outputs": [],
   "source": [
    "#Encoder class\n",
    "class Encoder(tf.keras.layers.Layer):\n",
    "    def __init__(self, vocab_size, embedding_dim,embedding_matrix,enc_units,**kwargs):\n",
    "        super(Encoder,self).__init__(**kwargs)\n",
    "        self.vocab_size = vocab_size\n",
    "        self.embedding_dim = embedding_dim\n",
    "        self.enc_units = enc_units\n",
    "        self.embedding = Embedding(input_dim=self.vocab_size, output_dim=self.embedding_dim, weights=[embedding_matrix],\n",
    "                                   mask_zero=True,name='Encoder_Embedding')\n",
    "        self.lstm = LSTM(self.enc_units,return_sequences=True,return_state=True,name='Encoder_LSTM',dropout=0.33)\n",
    "\n",
    "    def call(self, x):\n",
    "        x = self.embedding(x)\n",
    "        \n",
    "        #state_c = Cell state output of last time step\n",
    "        encoder_outputs, _, state_c = self.lstm(x)\n",
    "        \n",
    "        #Take average of encoder_outputs\n",
    "        hidden = tf.reduce_mean(encoder_outputs,1)\n",
    "        \n",
    "        return hidden, state_c"
   ]
  },
  {
   "cell_type": "code",
   "execution_count": 6,
   "metadata": {
    "colab": {
     "base_uri": "https://localhost:8080/",
     "height": 34
    },
    "colab_type": "code",
    "id": "uc064MCCcuC_",
    "outputId": "2ec31460-85e5-4573-c3ea-e93d4bc325a3"
   },
   "outputs": [
    {
     "name": "stdout",
     "output_type": "stream",
     "text": [
      "Vocab size: 30\n"
     ]
    }
   ],
   "source": [
    "vocab_size = len(tokenizer.word_index) + 1\n",
    "print('Vocab size:',vocab_size)"
   ]
  },
  {
   "cell_type": "code",
   "execution_count": 7,
   "metadata": {
    "colab": {
     "base_uri": "https://localhost:8080/",
     "height": 84
    },
    "colab_type": "code",
    "id": "P_xpJvvccuDE",
    "outputId": "b09a9dd1-8da4-45b1-8a55-ef03d9a326a6"
   },
   "outputs": [
    {
     "name": "stdout",
     "output_type": "stream",
     "text": [
      "Shape of batch input data (batch_size,sequence length): (32, 132)\n",
      "Shape of batch output data (batch_size,sequence length): (32, 132)\n",
      "Shape of average hidden state output (batch_size,units): (32, 256)\n",
      "Shape of average memory state output (batch_size,units): (32, 256)\n"
     ]
    }
   ],
   "source": [
    "#Create encoder object\n",
    "BATCH_SIZE = 32\n",
    "encoder = Encoder(vocab_size=vocab_size,embedding_dim=300,embedding_matrix=embedding_matrix,\n",
    "                  enc_units=256,name='Encoder')\n",
    "\n",
    "#Sample input to encoder\n",
    "example_input_batch, example_target_batch = X_train_padded_docs[:BATCH_SIZE], y_train_padded_docs[:BATCH_SIZE]\n",
    "print('Shape of batch input data (batch_size,sequence length):',example_input_batch.shape)\n",
    "print('Shape of batch output data (batch_size,sequence length):',example_target_batch.shape)\n",
    "\n",
    "#Genearte sample hidden state from encoder object\n",
    "sample_hidden_output, sample_cell_output = encoder(example_input_batch)\n",
    "print('Shape of average hidden state output (batch_size,units):',sample_hidden_output.shape)\n",
    "print('Shape of average memory state output (batch_size,units):',sample_cell_output.shape)"
   ]
  },
  {
   "cell_type": "markdown",
   "metadata": {
    "colab_type": "text",
    "id": "VWTi0DbhcuDf"
   },
   "source": [
    "<h2>2.2. Decoder Model"
   ]
  },
  {
   "cell_type": "code",
   "execution_count": 0,
   "metadata": {
    "colab": {},
    "colab_type": "code",
    "id": "lxVxxpnbcuDg"
   },
   "outputs": [],
   "source": [
    "class Decoder(tf.keras.layers.Layer):\n",
    "    def __init__(self, vocab_size, embedding_dim,embedding_matrix,dec_units,**kwargs):\n",
    "        super(Decoder, self).__init__(**kwargs)\n",
    "        self.vocab_size = vocab_size\n",
    "        self.embedding_dim = embedding_dim\n",
    "        self.dec_units = dec_units\n",
    "        self.embedding = tf.keras.layers.Embedding(input_dim=self.vocab_size, output_dim=self.embedding_dim,\n",
    "                                            weights=[embedding_matrix],mask_zero=True,name='Decoder_Embedding')\n",
    "        self.lstm = tf.keras.layers.LSTM(self.dec_units,return_sequences=True,return_state=True,name='Decoder_LSTM',dropout=0.33)\n",
    "        self.batch_norm = BatchNormalization()\n",
    "        \n",
    "    def call(self, x, hidden, cell):\n",
    "        # x shape after passing through embedding == (batch_size, 1, embedding_dim)\n",
    "        x = self.embedding(x)\n",
    "        \n",
    "        # passing the concatenated vector to the LSTM\n",
    "        lstm_output, state_h, state_c = self.lstm(x,initial_state=[hidden,cell])\n",
    "        \n",
    "        #Normalise output\n",
    "        lstm_output = self.batch_norm(lstm_output)\n",
    "        \n",
    "        return lstm_output,state_h,state_c"
   ]
  },
  {
   "cell_type": "code",
   "execution_count": 9,
   "metadata": {
    "colab": {
     "base_uri": "https://localhost:8080/",
     "height": 101
    },
    "colab_type": "code",
    "id": "b9pinu5acuDv",
    "outputId": "72e523a9-0980-4de8-956e-081183b2e18b"
   },
   "outputs": [
    {
     "name": "stdout",
     "output_type": "stream",
     "text": [
      "Decoder:\n",
      "Shape of decoder input (batch_size,sequence_length): (32, 132)\n",
      "Shape of decoder output (batch_size,sequence_length,units): (32, 132, 256)\n",
      "Shape of decoder hidden state output (batch_size,units): (32, 256)\n",
      "Shape of decoder memory state output (batch_size,units): (32, 256)\n"
     ]
    }
   ],
   "source": [
    "#Initialise one step decoder\n",
    "BATCH_SIZE = 32\n",
    "dec = Decoder(vocab_size=vocab_size,embedding_dim=300,embedding_matrix=embedding_matrix,dec_units=256)\n",
    "\n",
    "#Geneate sample output and hidden states from decoder object\n",
    "sample_output_dec,sample_hidden_output_dec,sample_cell_output_dec = dec(example_target_batch,sample_hidden_output,\n",
    "                                                                        sample_cell_output)\n",
    "print('Decoder:')\n",
    "print('Shape of decoder input (batch_size,sequence_length):',example_target_batch.shape)\n",
    "print('Shape of decoder output (batch_size,sequence_length,units):',sample_output_dec.shape)\n",
    "print('Shape of decoder hidden state output (batch_size,units):',sample_hidden_output_dec.shape)\n",
    "print('Shape of decoder memory state output (batch_size,units):',sample_cell_output_dec.shape)"
   ]
  },
  {
   "cell_type": "markdown",
   "metadata": {
    "colab_type": "text",
    "id": "n3JlgiLdcuEM"
   },
   "source": [
    "<h2>2.3. Loss function"
   ]
  },
  {
   "cell_type": "code",
   "execution_count": 0,
   "metadata": {
    "colab": {},
    "colab_type": "code",
    "id": "7DTKipswcuEN"
   },
   "outputs": [],
   "source": [
    "loss_object = tf.keras.losses.SparseCategoricalCrossentropy(from_logits=True, reduction='none')"
   ]
  },
  {
   "cell_type": "code",
   "execution_count": 0,
   "metadata": {
    "colab": {},
    "colab_type": "code",
    "id": "GHe4U-qBcuER"
   },
   "outputs": [],
   "source": [
    "def loss_function(real, pred):\n",
    "    \n",
    "    #Identify zeros in real tensor/Creating masking tensor\n",
    "    mask = tf.math.logical_not(tf.math.equal(real, 0))\n",
    "    #Calculate log loss for each class\n",
    "    loss_ = loss_object(real, pred)\n",
    "    #Change data type of mask\n",
    "    mask = tf.cast(mask, dtype=loss_.dtype)\n",
    "    #Calculate loss considering masking\n",
    "    loss_ *= mask\n",
    "\n",
    "    return tf.reduce_mean(loss_)"
   ]
  },
  {
   "cell_type": "markdown",
   "metadata": {
    "colab_type": "text",
    "id": "c2qlauC-cuET"
   },
   "source": [
    "<h2>2.4. Model"
   ]
  },
  {
   "cell_type": "code",
   "execution_count": 0,
   "metadata": {
    "colab": {},
    "colab_type": "code",
    "id": "EDQubxhQcuEU"
   },
   "outputs": [],
   "source": [
    "class Encoder_Decoder_Model(tf.keras.models.Model):\n",
    "    def __init__(self, vocab_size,embedding_dim,embedding_matrix,units,**kwargs):\n",
    "        super(Encoder_Decoder_Model,self).__init__(**kwargs)\n",
    "        self.encoder = Encoder(vocab_size=vocab_size, embedding_dim=embedding_dim,embedding_matrix=embedding_matrix,\n",
    "                               enc_units=units,name='Encoder_layer')\n",
    "        self.decoder = Decoder(vocab_size=vocab_size, embedding_dim=embedding_dim,embedding_matrix=embedding_matrix,\n",
    "                               dec_units=units,name='Decoder_layer')\n",
    "        self.drop = Dropout(0.2,name='Dropout')\n",
    "        self.dense = Dense(vocab_size,name='Output_layer')\n",
    "        \n",
    "    def call(self, inputs):\n",
    "        #Inputs will contain encoder input and decoder input\n",
    "        #Separate encoder and decoder inputs\n",
    "        encoder_inputs, decoder_inputs = inputs[0], inputs[1]\n",
    "        \n",
    "        #Genearte output and hidden states from encoder object\n",
    "        enc_hidden_output, enc_cell_output = self.encoder(encoder_inputs)\n",
    "\n",
    "        #Generate output from decoder\n",
    "        #Initialise hidden states of decoder with hidden states of encoder\n",
    "        decoder_outputs,_,_ = self.decoder(decoder_inputs,enc_hidden_output,enc_cell_output)\n",
    "        \n",
    "        #Dropout\n",
    "        decoder_outputs = self.drop(decoder_outputs)\n",
    "        \n",
    "        #Shape of outputs = (batch_size,timesteps,vocab_size)\n",
    "        outputs = self.dense(decoder_outputs)\n",
    "        \n",
    "        return outputs"
   ]
  },
  {
   "cell_type": "markdown",
   "metadata": {
    "colab_type": "text",
    "id": "IcrEYcmlL7H6"
   },
   "source": [
    "<h2>2.5. Model Evaluation"
   ]
  },
  {
   "cell_type": "code",
   "execution_count": 0,
   "metadata": {
    "colab": {},
    "colab_type": "code",
    "id": "WBKLoKUbL7H7"
   },
   "outputs": [],
   "source": [
    "#Function returns texts from a sequence\n",
    "def get_text_from_seq(sequence,tokenizer):\n",
    "    sent =''\n",
    "    for i in sequence:\n",
    "        if i!=0:\n",
    "            sent+=tokenizer.index_word[i]\n",
    "    return sent"
   ]
  },
  {
   "cell_type": "code",
   "execution_count": 0,
   "metadata": {
    "colab": {},
    "colab_type": "code",
    "id": "ZQ_KwVRdL7H_"
   },
   "outputs": [],
   "source": [
    "#Function to get bleu score for a sentence\n",
    "def get_bleu_score(enc_dec_model,input_seq,expected_output_seq):\n",
    "    \n",
    "    input_max_length = X_train_padded_docs.shape[1]\n",
    "    output_max_length = y_train_padded_docs.shape[1]\n",
    "    \n",
    "    #Get output from encoder\n",
    "    enc_hidden,enc_cell = enc_dec_model.layers[0](input_seq.reshape(1,input_max_length))\n",
    "    \n",
    "    #Boundary case for decoder\n",
    "    dec_input = tf.expand_dims([tokenizer.word_index['#']], 1)\n",
    "    dec_hidden = enc_hidden\n",
    "    dec_cell = enc_cell\n",
    "    \n",
    "    #Predicted output sequence\n",
    "    #Add '#' (start) token to output sequence\n",
    "    output_seq = [tokenizer.word_index['#']]\n",
    "    \n",
    "    #The model will start predicting after start token, hence max_length is subtracted by 1\n",
    "    for i in range(output_max_length-1):\n",
    "        #Get prediction from decoder\n",
    "        dec_output,dec_hidden,dec_cell = enc_dec_model.layers[1](dec_input,dec_hidden,dec_cell)\n",
    "        \n",
    "        #Get prediction from dense layer\n",
    "        #Shape == (batch_size,timestep,vocab_size) == (1,1,30)\n",
    "        outputs = enc_dec_model.layers[3](dec_output)\n",
    "        \n",
    "        #Extract predicted id from decoder output\n",
    "        key = np.argmax(outputs.numpy().reshape(-1))\n",
    "        \n",
    "        output_seq.append(key)\n",
    "        \n",
    "        if tokenizer.index_word[key] == '*':\n",
    "            #Get texts from input sentence\n",
    "            input_sent = get_text_from_seq(input_seq,tokenizer)\n",
    "            #Get texts from sequence for actual sentence\n",
    "            actual = get_text_from_seq(expected_output_seq,tokenizer)\n",
    "            #Get texts from sequence for predicted sentence\n",
    "            prediction = get_text_from_seq(output_seq,tokenizer)\n",
    "            return input_sent,actual,prediction,bleu_score.sentence_bleu([actual.split()],prediction.split())\n",
    "        \n",
    "        #Make current decoder output as decoder input for next time step\n",
    "        dec_input = tf.expand_dims([key], 0)\n",
    "    \n",
    "    input_sent = get_text_from_seq(input_seq,tokenizer)\n",
    "    actual = get_text_from_seq(expected_output_seq,tokenizer)\n",
    "    prediction = get_text_from_seq(output_seq,tokenizer)\n",
    "    return input_sent,actual,prediction,bleu_score.sentence_bleu([actual.split()],prediction.split())"
   ]
  },
  {
   "cell_type": "markdown",
   "metadata": {
    "colab_type": "text",
    "id": "A6naCdjvcuEa"
   },
   "source": [
    "<h1>3. Model Training"
   ]
  },
  {
   "cell_type": "code",
   "execution_count": 0,
   "metadata": {
    "colab": {},
    "colab_type": "code",
    "id": "5TTqWUC8cuEa"
   },
   "outputs": [],
   "source": [
    "#Set Parameters\n",
    "vocab_size = len(tokenizer.word_index) + 1  \n",
    "#Encoding and decoding Embedding layer dimension\n",
    "embedding_dim = 300\n",
    "#Encoding and decoding LSTM layer units\n",
    "units = 256\n",
    "\n",
    "#Initialise object for Model class\n",
    "model = Encoder_Decoder_Model(vocab_size,embedding_dim,embedding_matrix,units,name='Encoder_Decoder_Model')"
   ]
  },
  {
   "cell_type": "code",
   "execution_count": 16,
   "metadata": {
    "colab": {
     "base_uri": "https://localhost:8080/",
     "height": 286
    },
    "colab_type": "code",
    "id": "PKDJZOJDcuEc",
    "outputId": "dab4afa5-b3fc-495e-c122-3df4ae3561d5"
   },
   "outputs": [
    {
     "name": "stdout",
     "output_type": "stream",
     "text": [
      "Model: \"Encoder_Decoder_Model\"\n",
      "_________________________________________________________________\n",
      "Layer (type)                 Output Shape              Param #   \n",
      "=================================================================\n",
      "Encoder_layer (Encoder)      multiple                  579368    \n",
      "_________________________________________________________________\n",
      "Decoder_layer (Decoder)      multiple                  580392    \n",
      "_________________________________________________________________\n",
      "Dropout (Dropout)            multiple                  0         \n",
      "_________________________________________________________________\n",
      "Output_layer (Dense)         multiple                  7710      \n",
      "=================================================================\n",
      "Total params: 1,167,470\n",
      "Trainable params: 1,166,958\n",
      "Non-trainable params: 512\n",
      "_________________________________________________________________\n"
     ]
    }
   ],
   "source": [
    "#Max sequence length = 166 for input sentence\n",
    "#Max sequence length = (166-1) for output sentence, 1 is subtracted because '*' (end) token should not be give input to decoder\n",
    "model.build(input_shape=[(None,X_train_padded_docs.shape[0]),(None,y_train_padded_docs.shape[0])])\n",
    "model.summary()"
   ]
  },
  {
   "cell_type": "code",
   "execution_count": 0,
   "metadata": {
    "colab": {},
    "colab_type": "code",
    "id": "20CwK6Chcj1d"
   },
   "outputs": [],
   "source": [
    "def data_generator(X,y,BATCH_SIZE,shuffle=True):\n",
    "    dataset = tf.data.Dataset.from_tensor_slices((X, y))\n",
    "    if shuffle:\n",
    "        dataset = dataset.shuffle(len(X)).batch(BATCH_SIZE,drop_remainder=True)\n",
    "    else:\n",
    "        dataset = dataset.batch(BATCH_SIZE,drop_remainder=True)\n",
    "    dataset = dataset.prefetch(buffer_size=tf.data.experimental.AUTOTUNE)\n",
    "    return dataset"
   ]
  },
  {
   "cell_type": "code",
   "execution_count": 0,
   "metadata": {
    "colab": {},
    "colab_type": "code",
    "id": "lEn_0bp2cuEf"
   },
   "outputs": [],
   "source": [
    "#Create folder to save model weights\n",
    "if not os.path.isdir('model_save'):\n",
    "    os.makedirs('model_save')"
   ]
  },
  {
   "cell_type": "code",
   "execution_count": 0,
   "metadata": {
    "colab": {},
    "colab_type": "code",
    "id": "EsXuVDsV0XIU"
   },
   "outputs": [],
   "source": [
    "# Clear any logs from previous runs\n",
    "!rm -rf ./logs/"
   ]
  },
  {
   "cell_type": "code",
   "execution_count": 20,
   "metadata": {
    "colab": {
     "base_uri": "https://localhost:8080/",
     "height": 1000
    },
    "colab_type": "code",
    "id": "tyKYm6yocuEm",
    "outputId": "de615eed-cf1a-494d-860e-bee2e4a7e162",
    "scrolled": false
   },
   "outputs": [
    {
     "name": "stdout",
     "output_type": "stream",
     "text": [
      "Epoch 1/30\n",
      "424/424 [==============================] - ETA: 0s - loss: 0.4803\n",
      "Epoch 00001: loss improved from inf to 0.48030, saving model to model_save/weights-01-0.4803.hdf5\n",
      "424/424 [==============================] - 72s 170ms/step - loss: 0.4803 - val_loss: 0.3392\n",
      "Epoch 2/30\n",
      "424/424 [==============================] - ETA: 0s - loss: 0.3773\n",
      "Epoch 00002: loss improved from 0.48030 to 0.37729, saving model to model_save/weights-02-0.3773.hdf5\n",
      "424/424 [==============================] - 71s 166ms/step - loss: 0.3773 - val_loss: 0.2849\n",
      "Epoch 3/30\n",
      "424/424 [==============================] - ETA: 0s - loss: 0.3418\n",
      "Epoch 00003: loss improved from 0.37729 to 0.34185, saving model to model_save/weights-03-0.3418.hdf5\n",
      "424/424 [==============================] - 71s 167ms/step - loss: 0.3418 - val_loss: 0.2627\n",
      "Epoch 4/30\n",
      "424/424 [==============================] - ETA: 0s - loss: 0.3199\n",
      "Epoch 00004: loss improved from 0.34185 to 0.31985, saving model to model_save/weights-04-0.3199.hdf5\n",
      "424/424 [==============================] - 71s 167ms/step - loss: 0.3199 - val_loss: 0.2469\n",
      "Epoch 5/30\n",
      "424/424 [==============================] - ETA: 0s - loss: 0.3027\n",
      "Epoch 00005: loss improved from 0.31985 to 0.30271, saving model to model_save/weights-05-0.3027.hdf5\n",
      "424/424 [==============================] - 71s 167ms/step - loss: 0.3027 - val_loss: 0.2335\n",
      "Epoch 6/30\n",
      "424/424 [==============================] - ETA: 0s - loss: 0.2888\n",
      "Epoch 00006: loss improved from 0.30271 to 0.28881, saving model to model_save/weights-06-0.2888.hdf5\n",
      "424/424 [==============================] - 71s 167ms/step - loss: 0.2888 - val_loss: 0.2235\n",
      "Epoch 7/30\n",
      "424/424 [==============================] - ETA: 0s - loss: 0.2776\n",
      "Epoch 00007: loss improved from 0.28881 to 0.27757, saving model to model_save/weights-07-0.2776.hdf5\n",
      "424/424 [==============================] - 71s 167ms/step - loss: 0.2776 - val_loss: 0.2153\n",
      "Epoch 8/30\n",
      "424/424 [==============================] - ETA: 0s - loss: 0.2690\n",
      "Epoch 00008: loss improved from 0.27757 to 0.26895, saving model to model_save/weights-08-0.2690.hdf5\n",
      "424/424 [==============================] - 71s 167ms/step - loss: 0.2690 - val_loss: 0.2098\n",
      "Epoch 9/30\n",
      "424/424 [==============================] - ETA: 0s - loss: 0.2623\n",
      "Epoch 00009: loss improved from 0.26895 to 0.26226, saving model to model_save/weights-09-0.2623.hdf5\n",
      "424/424 [==============================] - 71s 167ms/step - loss: 0.2623 - val_loss: 0.2068\n",
      "Epoch 10/30\n",
      "424/424 [==============================] - ETA: 0s - loss: 0.2569\n",
      "Epoch 00010: loss improved from 0.26226 to 0.25685, saving model to model_save/weights-10-0.2569.hdf5\n",
      "424/424 [==============================] - 71s 167ms/step - loss: 0.2569 - val_loss: 0.2040\n",
      "Epoch 11/30\n",
      "424/424 [==============================] - ETA: 0s - loss: 0.2524\n",
      "Epoch 00011: loss improved from 0.25685 to 0.25244, saving model to model_save/weights-11-0.2524.hdf5\n",
      "424/424 [==============================] - 71s 166ms/step - loss: 0.2524 - val_loss: 0.2020\n",
      "Epoch 12/30\n",
      "424/424 [==============================] - ETA: 0s - loss: 0.2488\n",
      "Epoch 00012: loss improved from 0.25244 to 0.24876, saving model to model_save/weights-12-0.2488.hdf5\n",
      "424/424 [==============================] - 71s 167ms/step - loss: 0.2488 - val_loss: 0.1998\n",
      "Epoch 13/30\n",
      "424/424 [==============================] - ETA: 0s - loss: 0.2454\n",
      "Epoch 00013: loss improved from 0.24876 to 0.24541, saving model to model_save/weights-13-0.2454.hdf5\n",
      "424/424 [==============================] - 71s 167ms/step - loss: 0.2454 - val_loss: 0.1989\n",
      "Epoch 14/30\n",
      "424/424 [==============================] - ETA: 0s - loss: 0.2429\n",
      "Epoch 00014: loss improved from 0.24541 to 0.24286, saving model to model_save/weights-14-0.2429.hdf5\n",
      "424/424 [==============================] - 71s 167ms/step - loss: 0.2429 - val_loss: 0.1968\n",
      "Epoch 15/30\n",
      "424/424 [==============================] - ETA: 0s - loss: 0.2407\n",
      "Epoch 00015: loss improved from 0.24286 to 0.24072, saving model to model_save/weights-15-0.2407.hdf5\n",
      "424/424 [==============================] - 71s 167ms/step - loss: 0.2407 - val_loss: 0.1962\n",
      "Epoch 16/30\n",
      "424/424 [==============================] - ETA: 0s - loss: 0.2388\n",
      "Epoch 00016: loss improved from 0.24072 to 0.23882, saving model to model_save/weights-16-0.2388.hdf5\n",
      "424/424 [==============================] - 71s 167ms/step - loss: 0.2388 - val_loss: 0.1958\n",
      "Epoch 17/30\n",
      "424/424 [==============================] - ETA: 0s - loss: 0.2372\n",
      "Epoch 00017: loss improved from 0.23882 to 0.23723, saving model to model_save/weights-17-0.2372.hdf5\n",
      "424/424 [==============================] - 71s 167ms/step - loss: 0.2372 - val_loss: 0.1949\n",
      "Epoch 18/30\n",
      "424/424 [==============================] - ETA: 0s - loss: 0.2360\n",
      "Epoch 00018: loss improved from 0.23723 to 0.23595, saving model to model_save/weights-18-0.2360.hdf5\n",
      "424/424 [==============================] - 71s 167ms/step - loss: 0.2360 - val_loss: 0.1946\n",
      "Epoch 19/30\n",
      "424/424 [==============================] - ETA: 0s - loss: 0.2353\n",
      "Epoch 00019: loss improved from 0.23595 to 0.23529, saving model to model_save/weights-19-0.2353.hdf5\n",
      "424/424 [==============================] - 71s 167ms/step - loss: 0.2353 - val_loss: 0.1941\n",
      "Epoch 20/30\n",
      "424/424 [==============================] - ETA: 0s - loss: 0.2342\n",
      "Epoch 00020: loss improved from 0.23529 to 0.23420, saving model to model_save/weights-20-0.2342.hdf5\n",
      "424/424 [==============================] - 71s 166ms/step - loss: 0.2342 - val_loss: 0.1942\n",
      "Epoch 21/30\n",
      "424/424 [==============================] - ETA: 0s - loss: 0.2329\n",
      "Epoch 00021: loss improved from 0.23420 to 0.23288, saving model to model_save/weights-21-0.2329.hdf5\n",
      "424/424 [==============================] - 71s 167ms/step - loss: 0.2329 - val_loss: 0.1928\n",
      "Epoch 22/30\n",
      "424/424 [==============================] - ETA: 0s - loss: 0.2320\n",
      "Epoch 00022: loss improved from 0.23288 to 0.23200, saving model to model_save/weights-22-0.2320.hdf5\n",
      "424/424 [==============================] - 71s 167ms/step - loss: 0.2320 - val_loss: 0.1943\n",
      "Epoch 23/30\n",
      "424/424 [==============================] - ETA: 0s - loss: 0.2331\n",
      "Epoch 00023: loss did not improve from 0.23200\n",
      "424/424 [==============================] - 71s 166ms/step - loss: 0.2331 - val_loss: 0.1948\n",
      "Epoch 24/30\n",
      "424/424 [==============================] - ETA: 0s - loss: 0.2332\n",
      "Epoch 00024: loss did not improve from 0.23200\n",
      "424/424 [==============================] - 71s 167ms/step - loss: 0.2332 - val_loss: 0.1947\n",
      "Epoch 25/30\n",
      "424/424 [==============================] - ETA: 0s - loss: 0.2323\n",
      "Epoch 00025: loss did not improve from 0.23200\n",
      "424/424 [==============================] - 71s 167ms/step - loss: 0.2323 - val_loss: 0.1942\n",
      "Epoch 26/30\n",
      "424/424 [==============================] - ETA: 0s - loss: 0.2321\n",
      "Epoch 00026: loss did not improve from 0.23200\n",
      "424/424 [==============================] - 71s 167ms/step - loss: 0.2321 - val_loss: 0.1980\n",
      "Epoch 27/30\n",
      "424/424 [==============================] - ETA: 0s - loss: 0.2330\n",
      "Epoch 00027: loss did not improve from 0.23200\n",
      "424/424 [==============================] - 71s 167ms/step - loss: 0.2330 - val_loss: 0.1959\n",
      "Epoch 28/30\n",
      "424/424 [==============================] - ETA: 0s - loss: 0.2301\n",
      "Epoch 00028: loss improved from 0.23200 to 0.23006, saving model to model_save/weights-28-0.2301.hdf5\n",
      "424/424 [==============================] - 71s 166ms/step - loss: 0.2301 - val_loss: 0.1929\n",
      "Epoch 29/30\n",
      "424/424 [==============================] - ETA: 0s - loss: 0.2285\n",
      "Epoch 00029: loss improved from 0.23006 to 0.22847, saving model to model_save/weights-29-0.2285.hdf5\n",
      "424/424 [==============================] - 71s 167ms/step - loss: 0.2285 - val_loss: 0.1931\n",
      "Epoch 30/30\n",
      "424/424 [==============================] - ETA: 0s - loss: 0.2277\n",
      "Epoch 00030: loss improved from 0.22847 to 0.22770, saving model to model_save/weights-30-0.2277.hdf5\n",
      "424/424 [==============================] - 71s 167ms/step - loss: 0.2277 - val_loss: 0.1930\n"
     ]
    }
   ],
   "source": [
    "tf.keras.backend.clear_session()\n",
    "\n",
    "#Set Parameters\n",
    "BATCH_SIZE = 512\n",
    "epochs = 30\n",
    "\n",
    "#Model compile\n",
    "model.compile(optimizer=tf.keras.optimizers.Adam(0.01),loss=loss_function)\n",
    "\n",
    "#Save intermediate model callback\n",
    "filepath=\"model_save/weights-{epoch:02d}-{loss:.4f}.hdf5\"\n",
    "checkpoint = ModelCheckpoint(filepath=filepath, monitor='loss', verbose=1, save_best_only=True, mode='min')\n",
    "\n",
    "#Tensorboard\n",
    "log_dir=\"logs/\" + datetime.datetime.now().strftime(\"%Y%m%d-%H%M%S\")\n",
    "tensorboard_callback = TensorBoard(log_dir=log_dir,histogram_freq=1, write_graph=True)\n",
    "\n",
    "#Stop training if val_loss does not decrease in last 8 epochs\n",
    "terminate_loss = EarlyStopping(monitor='loss',patience=8,verbose=1,mode='min',restore_best_weights=False)\n",
    "\n",
    "#Callback list\n",
    "callback_list=[checkpoint,tensorboard_callback,terminate_loss]\n",
    "\n",
    "#Generate data\n",
    "train = data_generator((X_train_padded_docs,y_train_padded_docs[:,:-1]),y_train_padded_docs[:,1:],BATCH_SIZE=BATCH_SIZE,\n",
    "                       shuffle=True)\n",
    "val = data_generator((X_val_padded_docs,y_val_padded_docs[:,:-1]),y_val_padded_docs[:,1:],BATCH_SIZE=BATCH_SIZE,shuffle=False)\n",
    "\n",
    "#Train model\n",
    "history1 = model.fit(train,epochs=epochs,validation_data=val,callbacks=callback_list)"
   ]
  },
  {
   "cell_type": "code",
   "execution_count": 21,
   "metadata": {
    "colab": {
     "base_uri": "https://localhost:8080/",
     "height": 34
    },
    "colab_type": "code",
    "id": "ekrJhdiEjOG5",
    "outputId": "b6edb364-d90f-419c-ebce-c01a34938b4a"
   },
   "outputs": [
    {
     "data": {
      "text/plain": [
       "['history1']"
      ]
     },
     "execution_count": 21,
     "metadata": {
      "tags": []
     },
     "output_type": "execute_result"
    }
   ],
   "source": [
    "joblib.dump(history1.history,'history1')"
   ]
  },
  {
   "cell_type": "code",
   "execution_count": 0,
   "metadata": {
    "colab": {},
    "colab_type": "code",
    "id": "Mrd7PRmjcuEp"
   },
   "outputs": [],
   "source": [
    "#Save weights\n",
    "model.save_weights('best_model1.h5')"
   ]
  },
  {
   "cell_type": "code",
   "execution_count": 23,
   "metadata": {
    "colab": {
     "base_uri": "https://localhost:8080/",
     "height": 34
    },
    "colab_type": "code",
    "id": "7ObOhaJazQcU",
    "outputId": "866a4b50-f921-4f6d-db91-ff7668c73f11"
   },
   "outputs": [
    {
     "name": "stdout",
     "output_type": "stream",
     "text": [
      "425/425 [==============================] - 24s 56ms/step - loss: 0.2084\n"
     ]
    }
   ],
   "source": [
    "train_parameters = model.evaluate([X_train_padded_docs,y_train_padded_docs[:,:-1]],y_train_padded_docs[:,1:],\n",
    "                                  verbose=1,batch_size=BATCH_SIZE)"
   ]
  },
  {
   "cell_type": "code",
   "execution_count": 24,
   "metadata": {
    "colab": {
     "base_uri": "https://localhost:8080/",
     "height": 34
    },
    "colab_type": "code",
    "id": "dOq7_Vm-zjIM",
    "outputId": "ccc743c8-9418-4433-c3fa-076f499b9a0e"
   },
   "outputs": [
    {
     "name": "stdout",
     "output_type": "stream",
     "text": [
      "63/63 [==============================] - 3s 55ms/step - loss: 0.1928\n"
     ]
    }
   ],
   "source": [
    "val_parameters = model.evaluate([X_val_padded_docs,y_val_padded_docs[:,:-1]],y_val_padded_docs[:,1:],\n",
    "                                 verbose=1,batch_size=BATCH_SIZE)"
   ]
  },
  {
   "cell_type": "code",
   "execution_count": 0,
   "metadata": {
    "colab": {},
    "colab_type": "code",
    "id": "bt-hIXlo7fBQ"
   },
   "outputs": [],
   "source": [
    "#Load weights\n",
    "model.load_weights('best_model1.h5')"
   ]
  },
  {
   "cell_type": "code",
   "execution_count": 26,
   "metadata": {
    "colab": {
     "base_uri": "https://localhost:8080/",
     "height": 1000
    },
    "colab_type": "code",
    "id": "PuzDUjQbjOHK",
    "outputId": "054a4026-1086-455d-9fa9-28cbbf25cbc5",
    "scrolled": false
   },
   "outputs": [
    {
     "name": "stdout",
     "output_type": "stream",
     "text": [
      "Epoch 1/30\n",
      "424/424 [==============================] - ETA: 0s - loss: 0.2159\n",
      "Epoch 00001: loss improved from inf to 0.21585, saving model to model_save/weights-01-0.2159.hdf5\n",
      "424/424 [==============================] - 73s 171ms/step - loss: 0.2159 - val_loss: 0.1818\n",
      "Epoch 2/30\n",
      "424/424 [==============================] - ETA: 0s - loss: 0.2116\n",
      "Epoch 00002: loss improved from 0.21585 to 0.21163, saving model to model_save/weights-02-0.2116.hdf5\n",
      "424/424 [==============================] - 70s 166ms/step - loss: 0.2116 - val_loss: 0.1806\n",
      "Epoch 3/30\n",
      "424/424 [==============================] - ETA: 0s - loss: 0.2099\n",
      "Epoch 00003: loss improved from 0.21163 to 0.20990, saving model to model_save/weights-03-0.2099.hdf5\n",
      "424/424 [==============================] - 71s 166ms/step - loss: 0.2099 - val_loss: 0.1799\n",
      "Epoch 4/30\n",
      "424/424 [==============================] - ETA: 0s - loss: 0.2087\n",
      "Epoch 00004: loss improved from 0.20990 to 0.20869, saving model to model_save/weights-04-0.2087.hdf5\n",
      "424/424 [==============================] - 71s 167ms/step - loss: 0.2087 - val_loss: 0.1793\n",
      "Epoch 5/30\n",
      "424/424 [==============================] - ETA: 0s - loss: 0.2075\n",
      "Epoch 00005: loss improved from 0.20869 to 0.20753, saving model to model_save/weights-05-0.2075.hdf5\n",
      "424/424 [==============================] - 71s 166ms/step - loss: 0.2075 - val_loss: 0.1790\n",
      "Epoch 6/30\n",
      "424/424 [==============================] - ETA: 0s - loss: 0.2067\n",
      "Epoch 00006: loss improved from 0.20753 to 0.20673, saving model to model_save/weights-06-0.2067.hdf5\n",
      "424/424 [==============================] - 71s 166ms/step - loss: 0.2067 - val_loss: 0.1785\n",
      "Epoch 7/30\n",
      "424/424 [==============================] - ETA: 0s - loss: 0.2059\n",
      "Epoch 00007: loss improved from 0.20673 to 0.20590, saving model to model_save/weights-07-0.2059.hdf5\n",
      "424/424 [==============================] - 71s 166ms/step - loss: 0.2059 - val_loss: 0.1783\n",
      "Epoch 8/30\n",
      "424/424 [==============================] - ETA: 0s - loss: 0.2052\n",
      "Epoch 00008: loss improved from 0.20590 to 0.20521, saving model to model_save/weights-08-0.2052.hdf5\n",
      "424/424 [==============================] - 71s 167ms/step - loss: 0.2052 - val_loss: 0.1780\n",
      "Epoch 9/30\n",
      "424/424 [==============================] - ETA: 0s - loss: 0.2045\n",
      "Epoch 00009: loss improved from 0.20521 to 0.20451, saving model to model_save/weights-09-0.2045.hdf5\n",
      "424/424 [==============================] - 71s 167ms/step - loss: 0.2045 - val_loss: 0.1779\n",
      "Epoch 10/30\n",
      "424/424 [==============================] - ETA: 0s - loss: 0.2039\n",
      "Epoch 00010: loss improved from 0.20451 to 0.20391, saving model to model_save/weights-10-0.2039.hdf5\n",
      "424/424 [==============================] - 70s 166ms/step - loss: 0.2039 - val_loss: 0.1776\n",
      "Epoch 11/30\n",
      "424/424 [==============================] - ETA: 0s - loss: 0.2033\n",
      "Epoch 00011: loss improved from 0.20391 to 0.20327, saving model to model_save/weights-11-0.2033.hdf5\n",
      "424/424 [==============================] - 71s 166ms/step - loss: 0.2033 - val_loss: 0.1775\n",
      "Epoch 12/30\n",
      "424/424 [==============================] - ETA: 0s - loss: 0.2027\n",
      "Epoch 00012: loss improved from 0.20327 to 0.20274, saving model to model_save/weights-12-0.2027.hdf5\n",
      "424/424 [==============================] - 70s 166ms/step - loss: 0.2027 - val_loss: 0.1773\n",
      "Epoch 13/30\n",
      "424/424 [==============================] - ETA: 0s - loss: 0.2022\n",
      "Epoch 00013: loss improved from 0.20274 to 0.20223, saving model to model_save/weights-13-0.2022.hdf5\n",
      "424/424 [==============================] - 70s 166ms/step - loss: 0.2022 - val_loss: 0.1772\n",
      "Epoch 14/30\n",
      "424/424 [==============================] - ETA: 0s - loss: 0.2016\n",
      "Epoch 00014: loss improved from 0.20223 to 0.20164, saving model to model_save/weights-14-0.2016.hdf5\n",
      "424/424 [==============================] - 71s 167ms/step - loss: 0.2016 - val_loss: 0.1770\n",
      "Epoch 15/30\n",
      "424/424 [==============================] - ETA: 0s - loss: 0.2011\n",
      "Epoch 00015: loss improved from 0.20164 to 0.20112, saving model to model_save/weights-15-0.2011.hdf5\n",
      "424/424 [==============================] - 71s 166ms/step - loss: 0.2011 - val_loss: 0.1769\n",
      "Epoch 16/30\n",
      "424/424 [==============================] - ETA: 0s - loss: 0.2007\n",
      "Epoch 00016: loss improved from 0.20112 to 0.20065, saving model to model_save/weights-16-0.2007.hdf5\n",
      "424/424 [==============================] - 70s 166ms/step - loss: 0.2007 - val_loss: 0.1767\n",
      "Epoch 17/30\n",
      "424/424 [==============================] - ETA: 0s - loss: 0.2002\n",
      "Epoch 00017: loss improved from 0.20065 to 0.20020, saving model to model_save/weights-17-0.2002.hdf5\n",
      "424/424 [==============================] - 70s 166ms/step - loss: 0.2002 - val_loss: 0.1766\n",
      "Epoch 18/30\n",
      "424/424 [==============================] - ETA: 0s - loss: 0.1997\n",
      "Epoch 00018: loss improved from 0.20020 to 0.19972, saving model to model_save/weights-18-0.1997.hdf5\n",
      "424/424 [==============================] - 71s 167ms/step - loss: 0.1997 - val_loss: 0.1765\n",
      "Epoch 19/30\n",
      "424/424 [==============================] - ETA: 0s - loss: 0.1992\n",
      "Epoch 00019: loss improved from 0.19972 to 0.19920, saving model to model_save/weights-19-0.1992.hdf5\n",
      "424/424 [==============================] - 71s 166ms/step - loss: 0.1992 - val_loss: 0.1762\n",
      "Epoch 20/30\n",
      "424/424 [==============================] - ETA: 0s - loss: 0.1988\n",
      "Epoch 00020: loss improved from 0.19920 to 0.19882, saving model to model_save/weights-20-0.1988.hdf5\n",
      "424/424 [==============================] - 70s 166ms/step - loss: 0.1988 - val_loss: 0.1762\n",
      "Epoch 21/30\n",
      "424/424 [==============================] - ETA: 0s - loss: 0.1984\n",
      "Epoch 00021: loss improved from 0.19882 to 0.19840, saving model to model_save/weights-21-0.1984.hdf5\n",
      "424/424 [==============================] - 70s 166ms/step - loss: 0.1984 - val_loss: 0.1761\n",
      "Epoch 22/30\n",
      "424/424 [==============================] - ETA: 0s - loss: 0.1979\n",
      "Epoch 00022: loss improved from 0.19840 to 0.19792, saving model to model_save/weights-22-0.1979.hdf5\n",
      "424/424 [==============================] - 71s 167ms/step - loss: 0.1979 - val_loss: 0.1760\n",
      "Epoch 23/30\n",
      "424/424 [==============================] - ETA: 0s - loss: 0.1976\n",
      "Epoch 00023: loss improved from 0.19792 to 0.19756, saving model to model_save/weights-23-0.1976.hdf5\n",
      "424/424 [==============================] - 70s 166ms/step - loss: 0.1976 - val_loss: 0.1760\n",
      "Epoch 24/30\n",
      "424/424 [==============================] - ETA: 0s - loss: 0.1972\n",
      "Epoch 00024: loss improved from 0.19756 to 0.19717, saving model to model_save/weights-24-0.1972.hdf5\n",
      "424/424 [==============================] - 71s 166ms/step - loss: 0.1972 - val_loss: 0.1759\n",
      "Epoch 25/30\n",
      "424/424 [==============================] - ETA: 0s - loss: 0.1967\n",
      "Epoch 00025: loss improved from 0.19717 to 0.19672, saving model to model_save/weights-25-0.1967.hdf5\n",
      "424/424 [==============================] - 71s 166ms/step - loss: 0.1967 - val_loss: 0.1757\n",
      "Epoch 26/30\n",
      "424/424 [==============================] - ETA: 0s - loss: 0.1963\n",
      "Epoch 00026: loss improved from 0.19672 to 0.19634, saving model to model_save/weights-26-0.1963.hdf5\n",
      "424/424 [==============================] - 70s 166ms/step - loss: 0.1963 - val_loss: 0.1758\n",
      "Epoch 27/30\n",
      "424/424 [==============================] - ETA: 0s - loss: 0.1959\n",
      "Epoch 00027: loss improved from 0.19634 to 0.19591, saving model to model_save/weights-27-0.1959.hdf5\n",
      "424/424 [==============================] - 71s 167ms/step - loss: 0.1959 - val_loss: 0.1757\n",
      "Epoch 28/30\n",
      "424/424 [==============================] - ETA: 0s - loss: 0.1956\n",
      "Epoch 00028: loss improved from 0.19591 to 0.19561, saving model to model_save/weights-28-0.1956.hdf5\n",
      "424/424 [==============================] - 70s 166ms/step - loss: 0.1956 - val_loss: 0.1758\n",
      "Epoch 29/30\n",
      "424/424 [==============================] - ETA: 0s - loss: 0.1952\n",
      "Epoch 00029: loss improved from 0.19561 to 0.19521, saving model to model_save/weights-29-0.1952.hdf5\n",
      "424/424 [==============================] - 70s 166ms/step - loss: 0.1952 - val_loss: 0.1756\n",
      "Epoch 30/30\n",
      "424/424 [==============================] - ETA: 0s - loss: 0.1948\n",
      "Epoch 00030: loss improved from 0.19521 to 0.19483, saving model to model_save/weights-30-0.1948.hdf5\n",
      "424/424 [==============================] - 70s 166ms/step - loss: 0.1948 - val_loss: 0.1756\n"
     ]
    }
   ],
   "source": [
    "tf.keras.backend.clear_session()\n",
    "\n",
    "#Set Parameters\n",
    "BATCH_SIZE = 512\n",
    "epochs = 30\n",
    "\n",
    "#Model compile\n",
    "model.compile(optimizer=tf.keras.optimizers.Adam(0.001),loss=loss_function)\n",
    "\n",
    "#Save intermediate model callback\n",
    "filepath=\"model_save/weights-{epoch:02d}-{loss:.4f}.hdf5\"\n",
    "checkpoint = ModelCheckpoint(filepath=filepath, monitor='loss', verbose=1, save_best_only=True, mode='min')\n",
    "\n",
    "#Tensorboard\n",
    "log_dir=\"logs/\" + datetime.datetime.now().strftime(\"%Y%m%d-%H%M%S\")\n",
    "tensorboard_callback = TensorBoard(log_dir=log_dir,histogram_freq=1, write_graph=True)\n",
    "\n",
    "#Callback list\n",
    "callback_list=[checkpoint,tensorboard_callback]\n",
    "\n",
    "#Generate data\n",
    "train = data_generator((X_train_padded_docs,y_train_padded_docs[:,:-1]),y_train_padded_docs[:,1:],BATCH_SIZE=BATCH_SIZE,\n",
    "                       shuffle=True)\n",
    "val = data_generator((X_val_padded_docs,y_val_padded_docs[:,:-1]),y_val_padded_docs[:,1:],BATCH_SIZE=BATCH_SIZE,shuffle=False)\n",
    "\n",
    "#Train model\n",
    "history2 = model.fit(train,epochs=epochs,validation_data=val,callbacks=callback_list)"
   ]
  },
  {
   "cell_type": "code",
   "execution_count": 27,
   "metadata": {
    "colab": {
     "base_uri": "https://localhost:8080/",
     "height": 34
    },
    "colab_type": "code",
    "id": "BxxR261FjOHM",
    "outputId": "e48ea5e4-1705-4b56-9362-1812cab4d446"
   },
   "outputs": [
    {
     "data": {
      "text/plain": [
       "['history2']"
      ]
     },
     "execution_count": 27,
     "metadata": {
      "tags": []
     },
     "output_type": "execute_result"
    }
   ],
   "source": [
    "joblib.dump(history2.history,'history2')"
   ]
  },
  {
   "cell_type": "code",
   "execution_count": 0,
   "metadata": {
    "colab": {},
    "colab_type": "code",
    "id": "lUmGIJwFIdCL"
   },
   "outputs": [],
   "source": [
    "#Save weights\n",
    "model.save_weights('best_model2.h5')"
   ]
  },
  {
   "cell_type": "code",
   "execution_count": 0,
   "metadata": {
    "colab": {},
    "colab_type": "code",
    "id": "Gx1rwYWBIh6M"
   },
   "outputs": [],
   "source": [
    "#Save weights\n",
    "model.load_weights('best_model2.h5')"
   ]
  },
  {
   "cell_type": "code",
   "execution_count": 30,
   "metadata": {
    "colab": {
     "base_uri": "https://localhost:8080/",
     "height": 1000
    },
    "colab_type": "code",
    "id": "feLMRaTXjOHS",
    "outputId": "838fa20c-f155-4e3b-e71a-02ba9a6f8a1c",
    "scrolled": false
   },
   "outputs": [
    {
     "name": "stdout",
     "output_type": "stream",
     "text": [
      "Epoch 1/50\n",
      "424/424 [==============================] - ETA: 0s - loss: 0.1945\n",
      "Epoch 00001: loss improved from inf to 0.19454, saving model to model_save/weights-01-0.1945.hdf5\n",
      "424/424 [==============================] - 72s 171ms/step - loss: 0.1945 - val_loss: 0.1755\n",
      "Epoch 2/50\n",
      "424/424 [==============================] - ETA: 0s - loss: 0.1941\n",
      "Epoch 00002: loss improved from 0.19454 to 0.19413, saving model to model_save/weights-02-0.1941.hdf5\n",
      "424/424 [==============================] - 71s 167ms/step - loss: 0.1941 - val_loss: 0.1754\n",
      "Epoch 3/50\n",
      "424/424 [==============================] - ETA: 0s - loss: 0.1938\n",
      "Epoch 00003: loss improved from 0.19413 to 0.19377, saving model to model_save/weights-03-0.1938.hdf5\n",
      "424/424 [==============================] - 71s 167ms/step - loss: 0.1938 - val_loss: 0.1755\n",
      "Epoch 4/50\n",
      "424/424 [==============================] - ETA: 0s - loss: 0.1934\n",
      "Epoch 00004: loss improved from 0.19377 to 0.19339, saving model to model_save/weights-04-0.1934.hdf5\n",
      "424/424 [==============================] - 71s 167ms/step - loss: 0.1934 - val_loss: 0.1755\n",
      "Epoch 5/50\n",
      "424/424 [==============================] - ETA: 0s - loss: 0.1931\n",
      "Epoch 00005: loss improved from 0.19339 to 0.19306, saving model to model_save/weights-05-0.1931.hdf5\n",
      "424/424 [==============================] - 71s 167ms/step - loss: 0.1931 - val_loss: 0.1754\n",
      "Epoch 6/50\n",
      "424/424 [==============================] - ETA: 0s - loss: 0.1927\n",
      "Epoch 00006: loss improved from 0.19306 to 0.19269, saving model to model_save/weights-06-0.1927.hdf5\n",
      "424/424 [==============================] - 71s 167ms/step - loss: 0.1927 - val_loss: 0.1753\n",
      "Epoch 7/50\n",
      "424/424 [==============================] - ETA: 0s - loss: 0.1925\n",
      "Epoch 00007: loss improved from 0.19269 to 0.19248, saving model to model_save/weights-07-0.1925.hdf5\n",
      "424/424 [==============================] - 71s 168ms/step - loss: 0.1925 - val_loss: 0.1754\n",
      "Epoch 8/50\n",
      "424/424 [==============================] - ETA: 0s - loss: 0.1920\n",
      "Epoch 00008: loss improved from 0.19248 to 0.19204, saving model to model_save/weights-08-0.1920.hdf5\n",
      "424/424 [==============================] - 71s 168ms/step - loss: 0.1920 - val_loss: 0.1753\n",
      "Epoch 9/50\n",
      "424/424 [==============================] - ETA: 0s - loss: 0.1918\n",
      "Epoch 00009: loss improved from 0.19204 to 0.19177, saving model to model_save/weights-09-0.1918.hdf5\n",
      "424/424 [==============================] - 71s 168ms/step - loss: 0.1918 - val_loss: 0.1754\n",
      "Epoch 10/50\n",
      "424/424 [==============================] - ETA: 0s - loss: 0.1914\n",
      "Epoch 00010: loss improved from 0.19177 to 0.19141, saving model to model_save/weights-10-0.1914.hdf5\n",
      "424/424 [==============================] - 71s 168ms/step - loss: 0.1914 - val_loss: 0.1753\n",
      "Epoch 11/50\n",
      "424/424 [==============================] - ETA: 0s - loss: 0.1911\n",
      "Epoch 00011: loss improved from 0.19141 to 0.19109, saving model to model_save/weights-11-0.1911.hdf5\n",
      "424/424 [==============================] - 71s 168ms/step - loss: 0.1911 - val_loss: 0.1753\n",
      "Epoch 12/50\n",
      "424/424 [==============================] - ETA: 0s - loss: 0.1908\n",
      "Epoch 00012: loss improved from 0.19109 to 0.19078, saving model to model_save/weights-12-0.1908.hdf5\n",
      "424/424 [==============================] - 71s 168ms/step - loss: 0.1908 - val_loss: 0.1752\n",
      "Epoch 13/50\n",
      "424/424 [==============================] - ETA: 0s - loss: 0.1904\n",
      "Epoch 00013: loss improved from 0.19078 to 0.19044, saving model to model_save/weights-13-0.1904.hdf5\n",
      "424/424 [==============================] - 71s 168ms/step - loss: 0.1904 - val_loss: 0.1753\n",
      "Epoch 14/50\n",
      "424/424 [==============================] - ETA: 0s - loss: 0.1901\n",
      "Epoch 00014: loss improved from 0.19044 to 0.19012, saving model to model_save/weights-14-0.1901.hdf5\n",
      "424/424 [==============================] - 71s 167ms/step - loss: 0.1901 - val_loss: 0.1754\n",
      "Epoch 15/50\n",
      "424/424 [==============================] - ETA: 0s - loss: 0.1898\n",
      "Epoch 00015: loss improved from 0.19012 to 0.18982, saving model to model_save/weights-15-0.1898.hdf5\n",
      "424/424 [==============================] - 71s 167ms/step - loss: 0.1898 - val_loss: 0.1753\n",
      "Epoch 16/50\n",
      "424/424 [==============================] - ETA: 0s - loss: 0.1894\n",
      "Epoch 00016: loss improved from 0.18982 to 0.18945, saving model to model_save/weights-16-0.1894.hdf5\n",
      "424/424 [==============================] - 71s 167ms/step - loss: 0.1894 - val_loss: 0.1753\n",
      "Epoch 17/50\n",
      "424/424 [==============================] - ETA: 0s - loss: 0.1892\n",
      "Epoch 00017: loss improved from 0.18945 to 0.18921, saving model to model_save/weights-17-0.1892.hdf5\n",
      "424/424 [==============================] - 71s 168ms/step - loss: 0.1892 - val_loss: 0.1753\n",
      "Epoch 18/50\n",
      "424/424 [==============================] - ETA: 0s - loss: 0.1888\n",
      "Epoch 00018: loss improved from 0.18921 to 0.18883, saving model to model_save/weights-18-0.1888.hdf5\n",
      "424/424 [==============================] - 71s 167ms/step - loss: 0.1888 - val_loss: 0.1755\n",
      "Epoch 19/50\n",
      "424/424 [==============================] - ETA: 0s - loss: 0.1886\n",
      "Epoch 00019: loss improved from 0.18883 to 0.18860, saving model to model_save/weights-19-0.1886.hdf5\n",
      "424/424 [==============================] - 71s 167ms/step - loss: 0.1886 - val_loss: 0.1752\n",
      "Epoch 20/50\n",
      "424/424 [==============================] - ETA: 0s - loss: 0.1882\n",
      "Epoch 00020: loss improved from 0.18860 to 0.18821, saving model to model_save/weights-20-0.1882.hdf5\n",
      "424/424 [==============================] - 71s 167ms/step - loss: 0.1882 - val_loss: 0.1756\n",
      "Epoch 21/50\n",
      "424/424 [==============================] - ETA: 0s - loss: 0.1879\n",
      "Epoch 00021: loss improved from 0.18821 to 0.18790, saving model to model_save/weights-21-0.1879.hdf5\n",
      "424/424 [==============================] - 71s 167ms/step - loss: 0.1879 - val_loss: 0.1753\n",
      "Epoch 22/50\n",
      "424/424 [==============================] - ETA: 0s - loss: 0.1876\n",
      "Epoch 00022: loss improved from 0.18790 to 0.18761, saving model to model_save/weights-22-0.1876.hdf5\n",
      "424/424 [==============================] - 71s 168ms/step - loss: 0.1876 - val_loss: 0.1753\n",
      "Epoch 23/50\n",
      "424/424 [==============================] - ETA: 0s - loss: 0.1873\n",
      "Epoch 00023: loss improved from 0.18761 to 0.18733, saving model to model_save/weights-23-0.1873.hdf5\n",
      "424/424 [==============================] - 71s 168ms/step - loss: 0.1873 - val_loss: 0.1752\n",
      "Epoch 24/50\n",
      "424/424 [==============================] - ETA: 0s - loss: 0.1870\n",
      "Epoch 00024: loss improved from 0.18733 to 0.18701, saving model to model_save/weights-24-0.1870.hdf5\n",
      "424/424 [==============================] - 71s 167ms/step - loss: 0.1870 - val_loss: 0.1754\n",
      "Epoch 25/50\n",
      "424/424 [==============================] - ETA: 0s - loss: 0.1868\n",
      "Epoch 00025: loss improved from 0.18701 to 0.18677, saving model to model_save/weights-25-0.1868.hdf5\n",
      "424/424 [==============================] - 71s 167ms/step - loss: 0.1868 - val_loss: 0.1755\n",
      "Epoch 26/50\n",
      "424/424 [==============================] - ETA: 0s - loss: 0.1864\n",
      "Epoch 00026: loss improved from 0.18677 to 0.18640, saving model to model_save/weights-26-0.1864.hdf5\n",
      "424/424 [==============================] - 71s 167ms/step - loss: 0.1864 - val_loss: 0.1756\n",
      "Epoch 27/50\n",
      "424/424 [==============================] - ETA: 0s - loss: 0.1862\n",
      "Epoch 00027: loss improved from 0.18640 to 0.18619, saving model to model_save/weights-27-0.1862.hdf5\n",
      "424/424 [==============================] - 71s 167ms/step - loss: 0.1862 - val_loss: 0.1754\n",
      "Epoch 28/50\n",
      "424/424 [==============================] - ETA: 0s - loss: 0.1858\n",
      "Epoch 00028: loss improved from 0.18619 to 0.18585, saving model to model_save/weights-28-0.1858.hdf5\n",
      "424/424 [==============================] - 71s 167ms/step - loss: 0.1858 - val_loss: 0.1756\n",
      "Epoch 29/50\n",
      "424/424 [==============================] - ETA: 0s - loss: 0.1856\n",
      "Epoch 00029: loss improved from 0.18585 to 0.18560, saving model to model_save/weights-29-0.1856.hdf5\n",
      "424/424 [==============================] - 71s 167ms/step - loss: 0.1856 - val_loss: 0.1755\n",
      "Epoch 30/50\n",
      "424/424 [==============================] - ETA: 0s - loss: 0.1853\n",
      "Epoch 00030: loss improved from 0.18560 to 0.18527, saving model to model_save/weights-30-0.1853.hdf5\n",
      "424/424 [==============================] - 71s 167ms/step - loss: 0.1853 - val_loss: 0.1755\n",
      "Epoch 31/50\n",
      "424/424 [==============================] - ETA: 0s - loss: 0.1851\n",
      "Epoch 00031: loss improved from 0.18527 to 0.18505, saving model to model_save/weights-31-0.1851.hdf5\n",
      "424/424 [==============================] - 71s 167ms/step - loss: 0.1851 - val_loss: 0.1755\n",
      "Epoch 32/50\n",
      "424/424 [==============================] - ETA: 0s - loss: 0.1846\n",
      "Epoch 00032: loss improved from 0.18505 to 0.18462, saving model to model_save/weights-32-0.1846.hdf5\n",
      "424/424 [==============================] - 71s 167ms/step - loss: 0.1846 - val_loss: 0.1755\n",
      "Epoch 33/50\n",
      "424/424 [==============================] - ETA: 0s - loss: 0.1844\n",
      "Epoch 00033: loss improved from 0.18462 to 0.18438, saving model to model_save/weights-33-0.1844.hdf5\n",
      "424/424 [==============================] - 71s 167ms/step - loss: 0.1844 - val_loss: 0.1755\n",
      "Epoch 34/50\n",
      "424/424 [==============================] - ETA: 0s - loss: 0.1841\n",
      "Epoch 00034: loss improved from 0.18438 to 0.18410, saving model to model_save/weights-34-0.1841.hdf5\n",
      "424/424 [==============================] - 71s 168ms/step - loss: 0.1841 - val_loss: 0.1756\n",
      "Epoch 35/50\n",
      "424/424 [==============================] - ETA: 0s - loss: 0.1838\n",
      "Epoch 00035: loss improved from 0.18410 to 0.18377, saving model to model_save/weights-35-0.1838.hdf5\n",
      "424/424 [==============================] - 71s 167ms/step - loss: 0.1838 - val_loss: 0.1759\n",
      "Epoch 36/50\n",
      "424/424 [==============================] - ETA: 0s - loss: 0.1835\n",
      "Epoch 00036: loss improved from 0.18377 to 0.18349, saving model to model_save/weights-36-0.1835.hdf5\n",
      "424/424 [==============================] - 71s 167ms/step - loss: 0.1835 - val_loss: 0.1757\n",
      "Epoch 37/50\n",
      "424/424 [==============================] - ETA: 0s - loss: 0.1832\n",
      "Epoch 00037: loss improved from 0.18349 to 0.18320, saving model to model_save/weights-37-0.1832.hdf5\n",
      "424/424 [==============================] - 71s 167ms/step - loss: 0.1832 - val_loss: 0.1758\n",
      "Epoch 38/50\n",
      "424/424 [==============================] - ETA: 0s - loss: 0.1829\n",
      "Epoch 00038: loss improved from 0.18320 to 0.18291, saving model to model_save/weights-38-0.1829.hdf5\n",
      "424/424 [==============================] - 71s 167ms/step - loss: 0.1829 - val_loss: 0.1757\n",
      "Epoch 39/50\n",
      "424/424 [==============================] - ETA: 0s - loss: 0.1827\n",
      "Epoch 00039: loss improved from 0.18291 to 0.18267, saving model to model_save/weights-39-0.1827.hdf5\n",
      "424/424 [==============================] - 71s 167ms/step - loss: 0.1827 - val_loss: 0.1758\n",
      "Epoch 40/50\n",
      "424/424 [==============================] - ETA: 0s - loss: 0.1824\n",
      "Epoch 00040: loss improved from 0.18267 to 0.18244, saving model to model_save/weights-40-0.1824.hdf5\n",
      "424/424 [==============================] - 71s 167ms/step - loss: 0.1824 - val_loss: 0.1756\n",
      "Epoch 41/50\n",
      "424/424 [==============================] - ETA: 0s - loss: 0.1822\n",
      "Epoch 00041: loss improved from 0.18244 to 0.18217, saving model to model_save/weights-41-0.1822.hdf5\n",
      "424/424 [==============================] - 71s 167ms/step - loss: 0.1822 - val_loss: 0.1760\n",
      "Epoch 42/50\n",
      "424/424 [==============================] - ETA: 0s - loss: 0.1818\n",
      "Epoch 00042: loss improved from 0.18217 to 0.18185, saving model to model_save/weights-42-0.1818.hdf5\n",
      "424/424 [==============================] - 71s 167ms/step - loss: 0.1818 - val_loss: 0.1758\n",
      "Epoch 43/50\n",
      "424/424 [==============================] - ETA: 0s - loss: 0.1815\n",
      "Epoch 00043: loss improved from 0.18185 to 0.18154, saving model to model_save/weights-43-0.1815.hdf5\n",
      "424/424 [==============================] - 71s 168ms/step - loss: 0.1815 - val_loss: 0.1758\n",
      "Epoch 44/50\n",
      "424/424 [==============================] - ETA: 0s - loss: 0.1812\n",
      "Epoch 00044: loss improved from 0.18154 to 0.18123, saving model to model_save/weights-44-0.1812.hdf5\n",
      "424/424 [==============================] - 71s 168ms/step - loss: 0.1812 - val_loss: 0.1759\n",
      "Epoch 45/50\n",
      "424/424 [==============================] - ETA: 0s - loss: 0.1810\n",
      "Epoch 00045: loss improved from 0.18123 to 0.18100, saving model to model_save/weights-45-0.1810.hdf5\n",
      "424/424 [==============================] - 71s 168ms/step - loss: 0.1810 - val_loss: 0.1759\n",
      "Epoch 46/50\n",
      "424/424 [==============================] - ETA: 0s - loss: 0.1808\n",
      "Epoch 00046: loss improved from 0.18100 to 0.18078, saving model to model_save/weights-46-0.1808.hdf5\n",
      "424/424 [==============================] - 71s 167ms/step - loss: 0.1808 - val_loss: 0.1761\n",
      "Epoch 47/50\n",
      "424/424 [==============================] - ETA: 0s - loss: 0.1804\n",
      "Epoch 00047: loss improved from 0.18078 to 0.18042, saving model to model_save/weights-47-0.1804.hdf5\n",
      "424/424 [==============================] - 71s 168ms/step - loss: 0.1804 - val_loss: 0.1760\n",
      "Epoch 48/50\n",
      "424/424 [==============================] - ETA: 0s - loss: 0.1802\n",
      "Epoch 00048: loss improved from 0.18042 to 0.18023, saving model to model_save/weights-48-0.1802.hdf5\n",
      "424/424 [==============================] - 71s 168ms/step - loss: 0.1802 - val_loss: 0.1758\n",
      "Epoch 49/50\n",
      "424/424 [==============================] - ETA: 0s - loss: 0.1799\n",
      "Epoch 00049: loss improved from 0.18023 to 0.17991, saving model to model_save/weights-49-0.1799.hdf5\n",
      "424/424 [==============================] - 71s 168ms/step - loss: 0.1799 - val_loss: 0.1763\n",
      "Epoch 50/50\n",
      "424/424 [==============================] - ETA: 0s - loss: 0.1797\n",
      "Epoch 00050: loss improved from 0.17991 to 0.17967, saving model to model_save/weights-50-0.1797.hdf5\n",
      "424/424 [==============================] - 71s 167ms/step - loss: 0.1797 - val_loss: 0.1763\n"
     ]
    }
   ],
   "source": [
    "tf.keras.backend.clear_session()\n",
    "\n",
    "#Set Parameters\n",
    "BATCH_SIZE = 512\n",
    "epochs = 50\n",
    "\n",
    "#Model compile\n",
    "model.compile(optimizer=tf.keras.optimizers.Adam(0.001),loss=loss_function)\n",
    "\n",
    "#Save intermediate model callback\n",
    "filepath=\"model_save/weights-{epoch:02d}-{loss:.4f}.hdf5\"\n",
    "checkpoint = ModelCheckpoint(filepath=filepath, monitor='loss', verbose=1, save_best_only=True, mode='min')\n",
    "\n",
    "#Tensorboard\n",
    "log_dir=\"logs/\" + datetime.datetime.now().strftime(\"%Y%m%d-%H%M%S\")\n",
    "tensorboard_callback = TensorBoard(log_dir=log_dir,histogram_freq=1, write_graph=True)\n",
    "\n",
    "#Callback list\n",
    "callback_list=[checkpoint,tensorboard_callback]\n",
    "\n",
    "#Generate data\n",
    "train = data_generator((X_train_padded_docs,y_train_padded_docs[:,:-1]),y_train_padded_docs[:,1:],BATCH_SIZE=BATCH_SIZE,\n",
    "                       shuffle=True)\n",
    "val = data_generator((X_val_padded_docs,y_val_padded_docs[:,:-1]),y_val_padded_docs[:,1:],BATCH_SIZE=BATCH_SIZE,shuffle=False)\n",
    "\n",
    "#Train model\n",
    "history3 = model.fit(train,epochs=epochs,validation_data=val,callbacks=callback_list)"
   ]
  },
  {
   "cell_type": "code",
   "execution_count": 31,
   "metadata": {
    "colab": {
     "base_uri": "https://localhost:8080/",
     "height": 34
    },
    "colab_type": "code",
    "id": "1Z98ZWfFIQy5",
    "outputId": "daa45fe4-3581-4c7d-8c35-e523c7dff747"
   },
   "outputs": [
    {
     "data": {
      "text/plain": [
       "['history3']"
      ]
     },
     "execution_count": 31,
     "metadata": {
      "tags": []
     },
     "output_type": "execute_result"
    }
   ],
   "source": [
    "joblib.dump(history3.history,'history3')"
   ]
  },
  {
   "cell_type": "code",
   "execution_count": 0,
   "metadata": {
    "colab": {},
    "colab_type": "code",
    "id": "NAht63JTbf4M"
   },
   "outputs": [],
   "source": [
    "#Save weights\n",
    "model.save_weights('best_model3.h5')"
   ]
  },
  {
   "cell_type": "code",
   "execution_count": 0,
   "metadata": {
    "colab": {},
    "colab_type": "code",
    "id": "DPsKE7Yvbf4X"
   },
   "outputs": [],
   "source": [
    "#Save weights\n",
    "model.load_weights('best_model3.h5')"
   ]
  },
  {
   "cell_type": "code",
   "execution_count": 34,
   "metadata": {
    "colab": {
     "base_uri": "https://localhost:8080/",
     "height": 1000
    },
    "colab_type": "code",
    "id": "-lkupW8Ebf4a",
    "outputId": "8b54516e-bca8-4c13-cbfc-8ea89f9cc101",
    "scrolled": false
   },
   "outputs": [
    {
     "name": "stdout",
     "output_type": "stream",
     "text": [
      "Epoch 1/30\n",
      "424/424 [==============================] - ETA: 0s - loss: 0.1795\n",
      "Epoch 00001: loss improved from inf to 0.17945, saving model to model_save/weights-01-0.1795.hdf5\n",
      "424/424 [==============================] - 72s 169ms/step - loss: 0.1795 - val_loss: 0.1761\n",
      "Epoch 2/30\n",
      "424/424 [==============================] - ETA: 0s - loss: 0.1791\n",
      "Epoch 00002: loss improved from 0.17945 to 0.17907, saving model to model_save/weights-02-0.1791.hdf5\n",
      "424/424 [==============================] - 70s 166ms/step - loss: 0.1791 - val_loss: 0.1764\n",
      "Epoch 3/30\n",
      "424/424 [==============================] - ETA: 0s - loss: 0.1788\n",
      "Epoch 00003: loss improved from 0.17907 to 0.17883, saving model to model_save/weights-03-0.1788.hdf5\n",
      "424/424 [==============================] - 70s 165ms/step - loss: 0.1788 - val_loss: 0.1764\n",
      "Epoch 4/30\n",
      "424/424 [==============================] - ETA: 0s - loss: 0.1786\n",
      "Epoch 00004: loss improved from 0.17883 to 0.17858, saving model to model_save/weights-04-0.1786.hdf5\n",
      "424/424 [==============================] - 70s 166ms/step - loss: 0.1786 - val_loss: 0.1765\n",
      "Epoch 5/30\n",
      "424/424 [==============================] - ETA: 0s - loss: 0.1783\n",
      "Epoch 00005: loss improved from 0.17858 to 0.17832, saving model to model_save/weights-05-0.1783.hdf5\n",
      "424/424 [==============================] - 70s 165ms/step - loss: 0.1783 - val_loss: 0.1767\n",
      "Epoch 6/30\n",
      "424/424 [==============================] - ETA: 0s - loss: 0.1781\n",
      "Epoch 00006: loss improved from 0.17832 to 0.17812, saving model to model_save/weights-06-0.1781.hdf5\n",
      "424/424 [==============================] - 70s 165ms/step - loss: 0.1781 - val_loss: 0.1766\n",
      "Epoch 7/30\n",
      "424/424 [==============================] - ETA: 0s - loss: 0.1779\n",
      "Epoch 00007: loss improved from 0.17812 to 0.17788, saving model to model_save/weights-07-0.1779.hdf5\n",
      "424/424 [==============================] - 70s 166ms/step - loss: 0.1779 - val_loss: 0.1765\n",
      "Epoch 8/30\n",
      "424/424 [==============================] - ETA: 0s - loss: 0.1776\n",
      "Epoch 00008: loss improved from 0.17788 to 0.17762, saving model to model_save/weights-08-0.1776.hdf5\n",
      "424/424 [==============================] - 70s 166ms/step - loss: 0.1776 - val_loss: 0.1766\n",
      "Epoch 9/30\n",
      "424/424 [==============================] - ETA: 0s - loss: 0.1772\n",
      "Epoch 00009: loss improved from 0.17762 to 0.17724, saving model to model_save/weights-09-0.1772.hdf5\n",
      "424/424 [==============================] - 70s 166ms/step - loss: 0.1772 - val_loss: 0.1770\n",
      "Epoch 10/30\n",
      "424/424 [==============================] - ETA: 0s - loss: 0.1771\n",
      "Epoch 00010: loss improved from 0.17724 to 0.17712, saving model to model_save/weights-10-0.1771.hdf5\n",
      "424/424 [==============================] - 70s 166ms/step - loss: 0.1771 - val_loss: 0.1768\n",
      "Epoch 11/30\n",
      "424/424 [==============================] - ETA: 0s - loss: 0.1769\n",
      "Epoch 00011: loss improved from 0.17712 to 0.17687, saving model to model_save/weights-11-0.1769.hdf5\n",
      "424/424 [==============================] - 70s 166ms/step - loss: 0.1769 - val_loss: 0.1769\n",
      "Epoch 12/30\n",
      "424/424 [==============================] - ETA: 0s - loss: 0.1766\n",
      "Epoch 00012: loss improved from 0.17687 to 0.17659, saving model to model_save/weights-12-0.1766.hdf5\n",
      "424/424 [==============================] - 70s 166ms/step - loss: 0.1766 - val_loss: 0.1772\n",
      "Epoch 13/30\n",
      "424/424 [==============================] - ETA: 0s - loss: 0.1763\n",
      "Epoch 00013: loss improved from 0.17659 to 0.17634, saving model to model_save/weights-13-0.1763.hdf5\n",
      "424/424 [==============================] - 70s 166ms/step - loss: 0.1763 - val_loss: 0.1772\n",
      "Epoch 14/30\n",
      "424/424 [==============================] - ETA: 0s - loss: 0.1760\n",
      "Epoch 00014: loss improved from 0.17634 to 0.17602, saving model to model_save/weights-14-0.1760.hdf5\n",
      "424/424 [==============================] - 70s 166ms/step - loss: 0.1760 - val_loss: 0.1773\n",
      "Epoch 15/30\n",
      "424/424 [==============================] - ETA: 0s - loss: 0.1758\n",
      "Epoch 00015: loss improved from 0.17602 to 0.17580, saving model to model_save/weights-15-0.1758.hdf5\n",
      "424/424 [==============================] - 70s 165ms/step - loss: 0.1758 - val_loss: 0.1772\n",
      "Epoch 16/30\n",
      "424/424 [==============================] - ETA: 0s - loss: 0.1756\n",
      "Epoch 00016: loss improved from 0.17580 to 0.17560, saving model to model_save/weights-16-0.1756.hdf5\n",
      "424/424 [==============================] - 70s 165ms/step - loss: 0.1756 - val_loss: 0.1775\n",
      "Epoch 17/30\n",
      "424/424 [==============================] - ETA: 0s - loss: 0.1753\n",
      "Epoch 00017: loss improved from 0.17560 to 0.17528, saving model to model_save/weights-17-0.1753.hdf5\n",
      "424/424 [==============================] - 70s 166ms/step - loss: 0.1753 - val_loss: 0.1775\n",
      "Epoch 18/30\n",
      "424/424 [==============================] - ETA: 0s - loss: 0.1751\n",
      "Epoch 00018: loss improved from 0.17528 to 0.17508, saving model to model_save/weights-18-0.1751.hdf5\n",
      "424/424 [==============================] - 70s 165ms/step - loss: 0.1751 - val_loss: 0.1774\n",
      "Epoch 19/30\n",
      "424/424 [==============================] - ETA: 0s - loss: 0.1749\n",
      "Epoch 00019: loss improved from 0.17508 to 0.17487, saving model to model_save/weights-19-0.1749.hdf5\n",
      "424/424 [==============================] - 70s 165ms/step - loss: 0.1749 - val_loss: 0.1774\n",
      "Epoch 20/30\n",
      "424/424 [==============================] - ETA: 0s - loss: 0.1746\n",
      "Epoch 00020: loss improved from 0.17487 to 0.17455, saving model to model_save/weights-20-0.1746.hdf5\n",
      "424/424 [==============================] - 70s 166ms/step - loss: 0.1746 - val_loss: 0.1776\n",
      "Epoch 21/30\n",
      "424/424 [==============================] - ETA: 0s - loss: 0.1744\n",
      "Epoch 00021: loss improved from 0.17455 to 0.17438, saving model to model_save/weights-21-0.1744.hdf5\n",
      "424/424 [==============================] - 70s 166ms/step - loss: 0.1744 - val_loss: 0.1778\n",
      "Epoch 22/30\n",
      "424/424 [==============================] - ETA: 0s - loss: 0.1741\n",
      "Epoch 00022: loss improved from 0.17438 to 0.17410, saving model to model_save/weights-22-0.1741.hdf5\n",
      "424/424 [==============================] - 70s 165ms/step - loss: 0.1741 - val_loss: 0.1779\n",
      "Epoch 23/30\n",
      "424/424 [==============================] - ETA: 0s - loss: 0.1739\n",
      "Epoch 00023: loss improved from 0.17410 to 0.17390, saving model to model_save/weights-23-0.1739.hdf5\n",
      "424/424 [==============================] - 70s 166ms/step - loss: 0.1739 - val_loss: 0.1780\n",
      "Epoch 24/30\n",
      "424/424 [==============================] - ETA: 0s - loss: 0.1736\n",
      "Epoch 00024: loss improved from 0.17390 to 0.17360, saving model to model_save/weights-24-0.1736.hdf5\n",
      "424/424 [==============================] - 70s 166ms/step - loss: 0.1736 - val_loss: 0.1777\n",
      "Epoch 25/30\n",
      "424/424 [==============================] - ETA: 0s - loss: 0.1734\n",
      "Epoch 00025: loss improved from 0.17360 to 0.17338, saving model to model_save/weights-25-0.1734.hdf5\n",
      "424/424 [==============================] - 70s 166ms/step - loss: 0.1734 - val_loss: 0.1781\n",
      "Epoch 26/30\n",
      "424/424 [==============================] - ETA: 0s - loss: 0.1732\n",
      "Epoch 00026: loss improved from 0.17338 to 0.17317, saving model to model_save/weights-26-0.1732.hdf5\n",
      "424/424 [==============================] - 70s 166ms/step - loss: 0.1732 - val_loss: 0.1782\n",
      "Epoch 27/30\n",
      "424/424 [==============================] - ETA: 0s - loss: 0.1729\n",
      "Epoch 00027: loss improved from 0.17317 to 0.17287, saving model to model_save/weights-27-0.1729.hdf5\n",
      "424/424 [==============================] - 70s 166ms/step - loss: 0.1729 - val_loss: 0.1782\n",
      "Epoch 28/30\n",
      "424/424 [==============================] - ETA: 0s - loss: 0.1727\n",
      "Epoch 00028: loss improved from 0.17287 to 0.17270, saving model to model_save/weights-28-0.1727.hdf5\n",
      "424/424 [==============================] - 70s 166ms/step - loss: 0.1727 - val_loss: 0.1783\n",
      "Epoch 29/30\n",
      "424/424 [==============================] - ETA: 0s - loss: 0.1724\n",
      "Epoch 00029: loss improved from 0.17270 to 0.17239, saving model to model_save/weights-29-0.1724.hdf5\n",
      "424/424 [==============================] - 70s 165ms/step - loss: 0.1724 - val_loss: 0.1783\n",
      "Epoch 30/30\n",
      "424/424 [==============================] - ETA: 0s - loss: 0.1722\n",
      "Epoch 00030: loss improved from 0.17239 to 0.17221, saving model to model_save/weights-30-0.1722.hdf5\n",
      "424/424 [==============================] - 70s 166ms/step - loss: 0.1722 - val_loss: 0.1785\n"
     ]
    }
   ],
   "source": [
    "tf.keras.backend.clear_session()\n",
    "#Set Parameters\n",
    "BATCH_SIZE = 512\n",
    "epochs = 30\n",
    "\n",
    "#Model compile\n",
    "model.compile(optimizer=tf.keras.optimizers.Adam(0.001),loss=loss_function)\n",
    "\n",
    "#Save intermediate model callback\n",
    "filepath=\"model_save/weights-{epoch:02d}-{loss:.4f}.hdf5\"\n",
    "checkpoint = ModelCheckpoint(filepath=filepath, monitor='loss', verbose=1, save_best_only=True, mode='min')\n",
    "\n",
    "callback_list=[checkpoint]\n",
    "\n",
    "#Generate data\n",
    "train = data_generator((X_train_padded_docs,y_train_padded_docs[:,:-1]),y_train_padded_docs[:,1:],\n",
    "                       BATCH_SIZE=BATCH_SIZE,shuffle=True)\n",
    "val = data_generator((X_val_padded_docs,y_val_padded_docs[:,:-1]),y_val_padded_docs[:,1:],BATCH_SIZE=BATCH_SIZE,shuffle=False)\n",
    "\n",
    "#Train model\n",
    "history4 = model.fit(train,epochs=epochs,validation_data=val,callbacks=callback_list)"
   ]
  },
  {
   "cell_type": "code",
   "execution_count": 35,
   "metadata": {
    "colab": {
     "base_uri": "https://localhost:8080/",
     "height": 34
    },
    "colab_type": "code",
    "id": "gx1s-6jqIRDi",
    "outputId": "ddd11c46-7015-4009-c63b-ee3cace35b2f"
   },
   "outputs": [
    {
     "data": {
      "text/plain": [
       "['history4']"
      ]
     },
     "execution_count": 35,
     "metadata": {
      "tags": []
     },
     "output_type": "execute_result"
    }
   ],
   "source": [
    "joblib.dump(history4.history,'history4')"
   ]
  },
  {
   "cell_type": "code",
   "execution_count": 0,
   "metadata": {
    "colab": {},
    "colab_type": "code",
    "id": "fuCZDcc2IQ9_"
   },
   "outputs": [],
   "source": [
    "#Save weights\n",
    "model.save_weights('best_model4.h5')"
   ]
  },
  {
   "cell_type": "code",
   "execution_count": 37,
   "metadata": {
    "colab": {
     "base_uri": "https://localhost:8080/",
     "height": 857
    },
    "colab_type": "code",
    "id": "WZn7ndQga-dx",
    "outputId": "92a849ae-7550-4717-9dbd-b3fec96044f7"
   },
   "outputs": [
    {
     "name": "stdout",
     "output_type": "stream",
     "text": [
      "Epoch 1/15\n",
      "424/424 [==============================] - ETA: 0s - loss: 0.1713\n",
      "Epoch 00001: loss improved from inf to 0.17130, saving model to model_save/weights-01-0.1713.hdf5\n",
      "424/424 [==============================] - 72s 171ms/step - loss: 0.1713 - val_loss: 0.1770 - lr: 1.0000e-04\n",
      "Epoch 2/15\n",
      "424/424 [==============================] - ETA: 0s - loss: 0.1704\n",
      "Epoch 00002: loss improved from 0.17130 to 0.17041, saving model to model_save/weights-02-0.1704.hdf5\n",
      "424/424 [==============================] - 70s 166ms/step - loss: 0.1704 - val_loss: 0.1769 - lr: 1.0000e-04\n",
      "Epoch 3/15\n",
      "424/424 [==============================] - ETA: 0s - loss: 0.1702\n",
      "Epoch 00003: loss improved from 0.17041 to 0.17021, saving model to model_save/weights-03-0.1702.hdf5\n",
      "\n",
      "Epoch 00003: ReduceLROnPlateau reducing learning rate to 8.999999772640876e-05.\n",
      "424/424 [==============================] - 70s 165ms/step - loss: 0.1702 - val_loss: 0.1769 - lr: 1.0000e-04\n",
      "Epoch 4/15\n",
      "424/424 [==============================] - ETA: 0s - loss: 0.1701\n",
      "Epoch 00004: loss improved from 0.17021 to 0.17006, saving model to model_save/weights-04-0.1701.hdf5\n",
      "424/424 [==============================] - 70s 165ms/step - loss: 0.1701 - val_loss: 0.1770 - lr: 9.0000e-05\n",
      "Epoch 5/15\n",
      "424/424 [==============================] - ETA: 0s - loss: 0.1700\n",
      "Epoch 00005: loss improved from 0.17006 to 0.17005, saving model to model_save/weights-05-0.1700.hdf5\n",
      "\n",
      "Epoch 00005: ReduceLROnPlateau reducing learning rate to 8.100000122794882e-05.\n",
      "424/424 [==============================] - 70s 165ms/step - loss: 0.1700 - val_loss: 0.1771 - lr: 9.0000e-05\n",
      "Epoch 6/15\n",
      "424/424 [==============================] - ETA: 0s - loss: 0.1699\n",
      "Epoch 00006: loss improved from 0.17005 to 0.16994, saving model to model_save/weights-06-0.1699.hdf5\n",
      "424/424 [==============================] - 70s 165ms/step - loss: 0.1699 - val_loss: 0.1771 - lr: 8.1000e-05\n",
      "Epoch 7/15\n",
      "424/424 [==============================] - ETA: 0s - loss: 0.1699\n",
      "Epoch 00007: loss improved from 0.16994 to 0.16994, saving model to model_save/weights-07-0.1699.hdf5\n",
      "\n",
      "Epoch 00007: ReduceLROnPlateau reducing learning rate to 7.289999848580919e-05.\n",
      "424/424 [==============================] - 70s 166ms/step - loss: 0.1699 - val_loss: 0.1771 - lr: 8.1000e-05\n",
      "Epoch 8/15\n",
      "424/424 [==============================] - ETA: 0s - loss: 0.1700\n",
      "Epoch 00008: loss did not improve from 0.16994\n",
      "424/424 [==============================] - 70s 166ms/step - loss: 0.1700 - val_loss: 0.1772 - lr: 7.2900e-05\n",
      "Epoch 9/15\n",
      "424/424 [==============================] - ETA: 0s - loss: 0.1699\n",
      "Epoch 00009: loss improved from 0.16994 to 0.16987, saving model to model_save/weights-09-0.1699.hdf5\n",
      "\n",
      "Epoch 00009: ReduceLROnPlateau reducing learning rate to 6.56100019114092e-05.\n",
      "424/424 [==============================] - 70s 165ms/step - loss: 0.1699 - val_loss: 0.1771 - lr: 7.2900e-05\n",
      "Epoch 10/15\n",
      "424/424 [==============================] - ETA: 0s - loss: 0.1699\n",
      "Epoch 00010: loss did not improve from 0.16987\n",
      "Restoring model weights from the end of the best epoch.\n",
      "424/424 [==============================] - 70s 166ms/step - loss: 0.1699 - val_loss: 0.1771 - lr: 6.5610e-05\n",
      "Epoch 00010: early stopping\n"
     ]
    }
   ],
   "source": [
    "tf.keras.backend.clear_session()\n",
    "#Set Parameters\n",
    "BATCH_SIZE = 512\n",
    "epochs = 15\n",
    "\n",
    "#Model compile\n",
    "model.compile(optimizer=tf.keras.optimizers.RMSprop(0.0001),loss=loss_function)\n",
    "\n",
    "#Save intermediate model callback\n",
    "filepath=\"model_save/weights-{epoch:02d}-{loss:.4f}.hdf5\"\n",
    "checkpoint = ModelCheckpoint(filepath=filepath, monitor='loss', verbose=1, save_best_only=True, mode='min')\n",
    "\n",
    "#Reduce learning rate by 10% if validation loss does not decrease from last 2 epochs\n",
    "reduce_lr = ReduceLROnPlateau(monitor='val_loss', factor=0.9, verbose=1, patience=2,min_lr=0.00001)\n",
    "\n",
    "#Stop training if val_loss does not decrease in last 8 epochs\n",
    "terminate = EarlyStopping(monitor='val_loss',patience=8,verbose=1,mode='min',restore_best_weights=True)\n",
    "\n",
    "callback_list=[checkpoint,reduce_lr,terminate]\n",
    "\n",
    "#Generate data\n",
    "train = data_generator((X_train_padded_docs,y_train_padded_docs[:,:-1]),y_train_padded_docs[:,1:],\n",
    "                       BATCH_SIZE=BATCH_SIZE,shuffle=True)\n",
    "val = data_generator((X_val_padded_docs,y_val_padded_docs[:,:-1]),y_val_padded_docs[:,1:],BATCH_SIZE=BATCH_SIZE,shuffle=False)\n",
    "\n",
    "#Train model\n",
    "history5 = model.fit(train,epochs=epochs,validation_data=val,callbacks=callback_list)"
   ]
  },
  {
   "cell_type": "code",
   "execution_count": 38,
   "metadata": {
    "colab": {
     "base_uri": "https://localhost:8080/",
     "height": 34
    },
    "colab_type": "code",
    "id": "-5xuuYlea-cD",
    "outputId": "74adbcc6-dea6-4c20-bd69-24a1a14d8e83"
   },
   "outputs": [
    {
     "data": {
      "text/plain": [
       "['history5']"
      ]
     },
     "execution_count": 38,
     "metadata": {
      "tags": []
     },
     "output_type": "execute_result"
    }
   ],
   "source": [
    "joblib.dump(history5.history,'history5')"
   ]
  },
  {
   "cell_type": "code",
   "execution_count": 0,
   "metadata": {
    "colab": {},
    "colab_type": "code",
    "id": "2AeUY01ya-ZN"
   },
   "outputs": [],
   "source": [
    "#Save weights\n",
    "model.save_weights('best_model5.h5')"
   ]
  },
  {
   "cell_type": "code",
   "execution_count": 40,
   "metadata": {
    "colab": {
     "base_uri": "https://localhost:8080/",
     "height": 34
    },
    "colab_type": "code",
    "id": "ArybbQ8hT20t",
    "outputId": "bcb7a919-e2ce-4c44-f2d8-1a60529cb0f4"
   },
   "outputs": [
    {
     "name": "stdout",
     "output_type": "stream",
     "text": [
      "425/425 [==============================] - 24s 56ms/step - loss: 0.1489\n"
     ]
    }
   ],
   "source": [
    "train_parameters = model.evaluate([X_train_padded_docs,y_train_padded_docs[:,:-1]],y_train_padded_docs[:,1:],\n",
    "                                  verbose=1,batch_size=BATCH_SIZE)"
   ]
  },
  {
   "cell_type": "code",
   "execution_count": 41,
   "metadata": {
    "colab": {
     "base_uri": "https://localhost:8080/",
     "height": 34
    },
    "colab_type": "code",
    "id": "a3nA1ZjeT20x",
    "outputId": "7eebad5a-2c01-4a1a-976b-b78a8cb38d07"
   },
   "outputs": [
    {
     "name": "stdout",
     "output_type": "stream",
     "text": [
      "63/63 [==============================] - 3s 55ms/step - loss: 0.1768\n"
     ]
    }
   ],
   "source": [
    "val_parameters = model.evaluate([X_val_padded_docs,y_val_padded_docs[:,:-1]],y_val_padded_docs[:,1:],\n",
    "                                 verbose=1,batch_size=BATCH_SIZE)"
   ]
  },
  {
   "cell_type": "code",
   "execution_count": 0,
   "metadata": {
    "colab": {},
    "colab_type": "code",
    "id": "sqNXppQdRtZI"
   },
   "outputs": [],
   "source": [
    "h1 = joblib.load('history1')\n",
    "h2 = joblib.load('history2')\n",
    "h3 = joblib.load('history3')\n",
    "h4 = joblib.load('history4')\n",
    "h5 = joblib.load('history5')"
   ]
  },
  {
   "cell_type": "code",
   "execution_count": 0,
   "metadata": {
    "colab": {},
    "colab_type": "code",
    "id": "JRv5nhtcRyaz"
   },
   "outputs": [],
   "source": [
    "loss = h1['loss']+h2['loss']+h3['loss']+h4['loss']+h5['loss']\n",
    "val_loss = h1['val_loss']+h2['val_loss']+h3['val_loss']+h4['val_loss']+h5['val_loss']"
   ]
  },
  {
   "cell_type": "code",
   "execution_count": 44,
   "metadata": {
    "colab": {
     "base_uri": "https://localhost:8080/",
     "height": 312
    },
    "colab_type": "code",
    "id": "-3JnSRmPRyZL",
    "outputId": "1f575173-5300-4f9a-8e31-379e32e21825"
   },
   "outputs": [
    {
     "data": {
      "text/plain": [
       "Text(0.5, 1.0, 'Loss Vs No of epochs')"
      ]
     },
     "execution_count": 44,
     "metadata": {
      "tags": []
     },
     "output_type": "execute_result"
    },
    {
     "data": {
      "image/png": "[encoded data removed]",
      "text/plain": [
       "<Figure size 432x288 with 1 Axes>"
      ]
     },
     "metadata": {
      "needs_background": "light",
      "tags": []
     },
     "output_type": "display_data"
    }
   ],
   "source": [
    "plt.plot(loss,label='Training loss')\n",
    "plt.plot(val_loss, label='Validation loss')\n",
    "plt.legend()\n",
    "plt.grid()\n",
    "plt.xlabel('No of epochs')\n",
    "plt.ylabel('Loss')\n",
    "plt.title('Loss Vs No of epochs')"
   ]
  },
  {
   "cell_type": "code",
   "execution_count": 0,
   "metadata": {
    "colab": {},
    "colab_type": "code",
    "id": "mvvc3q93L7In"
   },
   "outputs": [],
   "source": [
    "#Generate 1000 random samples from train and val data\n",
    "#Train data\n",
    "train_index = []\n",
    "for i in range(X_train_padded_docs.shape[0]):\n",
    "    if np.count_nonzero(X_train_padded_docs[i]!=0)>70:\n",
    "        train_index.append(i)\n",
    "train_index = random.sample(train_index,1000)\n",
    "\n",
    "#Validation data\n",
    "#Train data\n",
    "val_index = []\n",
    "for i in range(X_val_padded_docs.shape[0]):\n",
    "    if np.count_nonzero(X_val_padded_docs[i]!=0)>70:\n",
    "        val_index.append(i)\n",
    "val_index = random.sample(val_index,1000)"
   ]
  },
  {
   "cell_type": "code",
   "execution_count": 62,
   "metadata": {
    "colab": {
     "base_uri": "https://localhost:8080/",
     "height": 738,
     "referenced_widgets": [
      "3cf2f8e430254d94be82b2be91b5a371",
      "d442c81f5a164f3f88b14979fdcf0667",
      "12101f81f0534cf3a5a7fa56b928ec35",
      "fe13d92887dc4fe9b3c66874ccfb1524",
      "13d19626343b4384babd116f222a603f",
      "1b95b38bf4584deb8b4798a0e6d3fe33",
      "3ded593da51549b59af267610944fa43",
      "ee66e4045deb4451a5254ecf9d48f6c5"
     ]
    },
    "colab_type": "code",
    "id": "muqMywldL7Iq",
    "outputId": "c02c5939-0899-4cac-b1ce-29398cac4f53",
    "scrolled": false
   },
   "outputs": [
    {
     "data": {
      "application/vnd.jupyter.widget-view+json": {
       "model_id": "3cf2f8e430254d94be82b2be91b5a371",
       "version_major": 2,
       "version_minor": 0
      },
      "text/plain": [
       "HBox(children=(FloatProgress(value=1.0, bar_style='info', max=1.0), HTML(value='')))"
      ]
     },
     "metadata": {
      "tags": []
     },
     "output_type": "display_data"
    },
    {
     "name": "stdout",
     "output_type": "stream",
     "text": [
      "Input sentence: # this website will reduce training costs and increase availability of training t *\n",
      "Actual words: # o all employees *\n",
      "Predicted words: # o the company *\n",
      "------------------------------------------------------------------------------------------\n",
      "Input sentence: # i will not assume that you want to play unless you send me a confirmation ema *\n",
      "Actual words: # il *\n",
      "Predicted words: # il *\n",
      "------------------------------------------------------------------------------------------\n",
      "Input sentence: # i have attached the bill for your review but a more detailed analysis wi *\n",
      "Actual words: # ll follow *\n",
      "Predicted words: # th the conference *\n",
      "------------------------------------------------------------------------------------------\n",
      "Input sentence: # first thank you all for your hard work this last week and in advance for the next we *\n",
      "Actual words: # eks to come *\n",
      "Predicted words: # ek *\n",
      "------------------------------------------------------------------------------------------\n",
      "Input sentence: # i would like to have several participants from our team in this first *\n",
      "Actual words: #  session *\n",
      "Predicted words: #  things *\n",
      "------------------------------------------------------------------------------------------\n",
      "Input sentence: # please do not hesitate to contact me directly if you need any further infor *\n",
      "Actual words: # mation from me *\n",
      "Predicted words: # mation *\n",
      "------------------------------------------------------------------------------------------\n",
      "Input sentence: # he is ready and willing to be here any day we have something to discuss with h *\n",
      "Actual words: # im *\n",
      "Predicted words: # ave the conference *\n",
      "------------------------------------------------------------------------------------------\n",
      "Input sentence: # if we decide so to use the floor we could get this done within a coupl *\n",
      "Actual words: # e of weeks at most *\n",
      "Predicted words: # e of days *\n",
      "------------------------------------------------------------------------------------------\n",
      "Input sentence: # were very busy at work and will continue to be so through the rest  *\n",
      "Actual words: # of the year *\n",
      "Predicted words: # of the day *\n",
      "------------------------------------------------------------------------------------------\n",
      "Input sentence: # please feel free to contact me if you have any questions or need any assistance prior  *\n",
      "Actual words: # to your trip *\n",
      "Predicted words: # the attached *\n",
      "------------------------------------------------------------------------------------------\n",
      "\n"
     ]
    }
   ],
   "source": [
    "#For train data, actual and predicted words\n",
    "train_bleu_list = []\n",
    "counter = 0\n",
    "for i,j in tqdm(zip(X_train_padded_docs[train_index,:],y_train_padded_docs[train_index,:])):\n",
    "    counter+=1\n",
    "    inp, a, p, bleu = get_bleu_score(model,i,j)\n",
    "    train_bleu_list.append(bleu)\n",
    "    #Print some actual and predicted words\n",
    "    if counter%100==0:\n",
    "        print('Input sentence:',inp)\n",
    "        print('Actual words:',a)\n",
    "        print('Predicted words:',p)\n",
    "        print(90*'-')"
   ]
  },
  {
   "cell_type": "code",
   "execution_count": 63,
   "metadata": {
    "colab": {
     "base_uri": "https://localhost:8080/",
     "height": 738,
     "referenced_widgets": [
      "9fd5aa186a974f40a00840972e67520d",
      "59542b89f1174c56a093027d76e8e8d5",
      "51c7998555644ecaa1e853dbd1d58f54",
      "14c69cf8a247444e9d6268179d523402",
      "89648b655e3c4fa6ac72e2b1ca2e74cb",
      "55f5855c3de446cfa5096f59fdbb6d17",
      "656e9181e931444299b9878e4a779047",
      "5cb2539fb5bf4236a74b0672ae5aa886"
     ]
    },
    "colab_type": "code",
    "id": "o2B9_PCSL7Is",
    "outputId": "7e5c62ae-719a-438c-801c-85e7ce4750b6"
   },
   "outputs": [
    {
     "data": {
      "application/vnd.jupyter.widget-view+json": {
       "model_id": "9fd5aa186a974f40a00840972e67520d",
       "version_major": 2,
       "version_minor": 0
      },
      "text/plain": [
       "HBox(children=(FloatProgress(value=1.0, bar_style='info', max=1.0), HTML(value='')))"
      ]
     },
     "metadata": {
      "tags": []
     },
     "output_type": "display_data"
    },
    {
     "name": "stdout",
     "output_type": "stream",
     "text": [
      "Input sentence: # also prepare to have your markets covered when you leave the office ear *\n",
      "Actual words: # ly *\n",
      "Predicted words: # liest convenience *\n",
      "------------------------------------------------------------------------------------------\n",
      "Input sentence: # they want to answer the customer within a week so they will need this informat *\n",
      "Actual words: # ion at least by early next week *\n",
      "Predicted words: # ion *\n",
      "------------------------------------------------------------------------------------------\n",
      "Input sentence: # a hard copy would be much appreciated but if need be please send vi *\n",
      "Actual words: # a email *\n",
      "Predicted words: # ew *\n",
      "------------------------------------------------------------------------------------------\n",
      "Input sentence: # i understand that you are busy so please take your time in getting back with the requested inform *\n",
      "Actual words: # ation *\n",
      "Predicted words: # ation *\n",
      "------------------------------------------------------------------------------------------\n",
      "Input sentence: # for full program details and to register please visit our website ww *\n",
      "Actual words: # w *\n",
      "Predicted words: # w *\n",
      "------------------------------------------------------------------------------------------\n",
      "Input sentence: # we then began to discuss what we needed to have and what was already present in the cu *\n",
      "Actual words: # rrent system *\n",
      "Predicted words: # rrent *\n",
      "------------------------------------------------------------------------------------------\n",
      "Input sentence: # if you have any questions or comments about this new report do not hesitate to bring *\n",
      "Actual words: #  them to my attention *\n",
      "Predicted words: #  the attached *\n",
      "------------------------------------------------------------------------------------------\n",
      "Input sentence: # they want to answer the customer within a week so they will need this information at least  *\n",
      "Actual words: # by early next week *\n",
      "Predicted words: # the company *\n",
      "------------------------------------------------------------------------------------------\n",
      "Input sentence: # please use both files when considering my performance for the whole yea *\n",
      "Actual words: # r *\n",
      "Predicted words: # r *\n",
      "------------------------------------------------------------------------------------------\n",
      "Input sentence: # we will continue to bring you valuable offers on the products and services tha *\n",
      "Actual words: # t interest you most *\n",
      "Predicted words: # t we can *\n",
      "------------------------------------------------------------------------------------------\n",
      "\n"
     ]
    }
   ],
   "source": [
    "#For validation data actual and predicted words\n",
    "val_bleu_list = []\n",
    "counter = 0\n",
    "for i,j in tqdm(zip(X_val_padded_docs[val_index,:],y_val_padded_docs[val_index,:])):\n",
    "    counter+=1\n",
    "    inp, a, p, bleu = get_bleu_score(model,i,j)\n",
    "    val_bleu_list.append(bleu)\n",
    "    #Print some actual and predicted words\n",
    "    if counter%100==0:\n",
    "        print('Input sentence:',inp)\n",
    "        print('Actual words:',a)\n",
    "        print('Predicted words:',p)\n",
    "        print(90*'-')"
   ]
  },
  {
   "cell_type": "code",
   "execution_count": 64,
   "metadata": {
    "colab": {
     "base_uri": "https://localhost:8080/",
     "height": 50
    },
    "colab_type": "code",
    "id": "EvU7rH7IL7Iy",
    "outputId": "348f79be-d524-41df-a9df-227d9da2dca0"
   },
   "outputs": [
    {
     "name": "stdout",
     "output_type": "stream",
     "text": [
      "BLEU Score for train data of 1000 samples: 0.698\n",
      "BLEU Score for validation data of 1000 samples: 0.689\n"
     ]
    }
   ],
   "source": [
    "#Average BLEU Score for sentences\n",
    "print('BLEU Score for train data of 1000 samples:',np.round(sum(train_bleu_list)/len(train_bleu_list),3))\n",
    "print('BLEU Score for validation data of 1000 samples:',np.round(sum(val_bleu_list)/len(val_bleu_list),3))"
   ]
  },
  {
   "cell_type": "markdown",
   "metadata": {
    "colab_type": "text",
    "id": "0xqdMoy5cuFl"
   },
   "source": [
    "<h1>4. Predictions"
   ]
  },
  {
   "cell_type": "code",
   "execution_count": 0,
   "metadata": {
    "colab": {},
    "colab_type": "code",
    "id": "WgjJobuUcuFl"
   },
   "outputs": [],
   "source": [
    "def predict_sentence(enc_dec_model,input_sentence):\n",
    "    \n",
    "    #Maximum sequence length for input and target sentence\n",
    "    input_max_length = X_train_padded_docs.shape[1]\n",
    "    output_max_length = y_train_padded_docs.shape[1]\n",
    "\n",
    "    input_sentence = '# ' + input_sentence + ' *'\n",
    "    \n",
    "    #Convert texts to sequences\n",
    "    sent = tokenizer.texts_to_sequences([input_sentence])\n",
    "    #Pad data\n",
    "    sent = tf.keras.preprocessing.sequence.pad_sequences(sent,maxlen=input_max_length,padding='post')\n",
    "    \n",
    "    #print('Encoder input shape (batch_size,sequence length):',sent.shape)\n",
    "    enc_hidden,enc_cell = enc_dec_model.layers[0](sent)\n",
    "    #print('Encoder hidden state shape (batch_size,units):',enc_hidden.shape)\n",
    "    #print('Encoder cell state shape (batch_size,units):',enc_cell.shape)\n",
    "    #print(90*'-')\n",
    "    \n",
    "    #Boundary case\n",
    "    dec_input = tf.expand_dims([tokenizer.word_index['#']], 1)\n",
    "    dec_hidden = enc_hidden\n",
    "    dec_cell = enc_cell\n",
    "    #print('Decoder input shape (batch_size,1):',dec_input.shape)\n",
    "    #print('Decoder hidden state shape (batch_size,units):',dec_hidden.shape)\n",
    "    #print('Decoder cell state shape (batch_size,units):',dec_cell.shape)\n",
    "    output_sent = ''\n",
    "    \n",
    "    for i in range(output_max_length-1):\n",
    "        #Get prediction from onestep_decoder\n",
    "        dec_output,dec_hidden,dec_cell = enc_dec_model.layers[1](dec_input,dec_hidden,dec_cell)\n",
    "        #print('Decoder output shape (batch_size,vocab_size):',dec_output.shape)\n",
    "        #print('Decoder hidden state shape (batch_size,units):',dec_hidden.shape)\n",
    "        #print('Decoder cell state shape (batch_size,units):',dec_cell.shape)\n",
    "    \n",
    "        #Get prediction from dense layer\n",
    "        #Shape == (batch_size,timestep,vocab_size) == (1,1,30)\n",
    "        outputs = enc_dec_model.layers[3](dec_output)\n",
    "        \n",
    "        #Extract predicted id from decoder output\n",
    "        key = np.argmax(outputs.numpy().reshape(-1))\n",
    "        \n",
    "        #Get word corresponding to index\n",
    "        output_sent+=tokenizer.index_word[key]\n",
    "        \n",
    "        if tokenizer.index_word[key] == '*':\n",
    "            return output_sent\n",
    "        \n",
    "        #Make current decoder output as decoder input for next time step\n",
    "        dec_input = tf.expand_dims([key], 0)\n",
    "    \n",
    "    return output_sent"
   ]
  },
  {
   "cell_type": "code",
   "execution_count": 65,
   "metadata": {
    "colab": {
     "base_uri": "https://localhost:8080/",
     "height": 34
    },
    "colab_type": "code",
    "id": "tbVttk15Wx-m",
    "outputId": "1a032a0d-cf06-47af-d15a-a960d8be0dd8"
   },
   "outputs": [
    {
     "data": {
      "text/plain": [
       "'  the conference call *'"
      ]
     },
     "execution_count": 65,
     "metadata": {
      "tags": []
     },
     "output_type": "execute_result"
    }
   ],
   "source": [
    "predict_sentence(model,'thank you for')"
   ]
  },
  {
   "cell_type": "code",
   "execution_count": 51,
   "metadata": {
    "colab": {
     "base_uri": "https://localhost:8080/",
     "height": 34
    },
    "colab_type": "code",
    "id": "Fi7OT3XCWx-t",
    "outputId": "a406fd76-c430-4a46-d8f4-5402863b1e50"
   },
   "outputs": [
    {
     "data": {
      "text/plain": [
       "'  will be a good time *'"
      ]
     },
     "execution_count": 51,
     "metadata": {
      "tags": []
     },
     "output_type": "execute_result"
    }
   ],
   "source": [
    "predict_sentence(model,'hope it')"
   ]
  },
  {
   "cell_type": "code",
   "execution_count": 66,
   "metadata": {
    "colab": {
     "base_uri": "https://localhost:8080/",
     "height": 34
    },
    "colab_type": "code",
    "id": "dysFablEWx-w",
    "outputId": "7e9a2d37-de02-476f-b258-d95f1c41bfd1"
   },
   "outputs": [
    {
     "data": {
      "text/plain": [
       "'  me a call *'"
      ]
     },
     "execution_count": 66,
     "metadata": {
      "tags": []
     },
     "output_type": "execute_result"
    }
   ],
   "source": [
    "predict_sentence(model,'can you give')"
   ]
  },
  {
   "cell_type": "code",
   "execution_count": 53,
   "metadata": {
    "colab": {
     "base_uri": "https://localhost:8080/",
     "height": 34
    },
    "colab_type": "code",
    "id": "DIgD44y6Wx-0",
    "outputId": "bedd011b-b713-46fe-86cc-ded13fe43f6d"
   },
   "outputs": [
    {
     "data": {
      "text/plain": [
       "'  a call if you have any questions or comments *'"
      ]
     },
     "execution_count": 53,
     "metadata": {
      "tags": []
     },
     "output_type": "execute_result"
    }
   ],
   "source": [
    "predict_sentence(model,'give me')"
   ]
  },
  {
   "cell_type": "code",
   "execution_count": 54,
   "metadata": {
    "colab": {
     "base_uri": "https://localhost:8080/",
     "height": 34
    },
    "colab_type": "code",
    "id": "jbug0uI7Wx-3",
    "outputId": "44073241-b41b-420c-cf00-a60820a0e82d"
   },
   "outputs": [
    {
     "data": {
      "text/plain": [
       "' able to discuss this *'"
      ]
     },
     "execution_count": 54,
     "metadata": {
      "tags": []
     },
     "output_type": "execute_result"
    }
   ],
   "source": [
    "predict_sentence(model,'are you avail')"
   ]
  },
  {
   "cell_type": "markdown",
   "metadata": {},
   "source": [
    "<h1 style=\"font-size:35px\"><center>Encoder Decoder Attention Model"
   ]
  },
  {
   "cell_type": "code",
   "execution_count": 0,
   "metadata": {
    "colab": {
     "base_uri": "https://localhost:8080/",
     "height": 222
    },
    "colab_type": "code",
    "id": "Mth7qnVvxDaZ",
    "outputId": "26590d14-eca1-4226-9c4d-073355d30cf5"
   },
   "outputs": [
    {
     "name": "stdout",
     "output_type": "stream",
     "text": [
      "--2020-06-05 04:43:21--  https://doc-08-44-docs.googleusercontent.com/docs/securesc/oik9lo733t355n1nglla0cdlqj79umtt/tv4k6lhqh609hsumjakcisnk9ol47fpj/1591332150000/02963250765125473783/00136369994752382157/1AdAgXbmDo9eDellva8bClMYUsiH5LNo4?e=download&authuser=0\n",
      "Resolving doc-08-44-docs.googleusercontent.com (doc-08-44-docs.googleusercontent.com)... 64.233.184.132, 2a00:1450:400c:c0b::84\n",
      "Connecting to doc-08-44-docs.googleusercontent.com (doc-08-44-docs.googleusercontent.com)|64.233.184.132|:443... connected.\n",
      "HTTP request sent, awaiting response... 200 OK\n",
      "Length: unspecified [application/octet-stream]\n",
      "Saving to: ‘char_encoded_data’\n",
      "\n",
      "char_encoded_data       [   <=>              ]  44.83M  52.1MB/s    in 0.9s    \n",
      "\n",
      "2020-06-05 04:43:23 (52.1 MB/s) - ‘char_encoded_data’ saved [47013427]\n",
      "\n"
     ]
    }
   ],
   "source": [
    "!wget --header=\"Host: doc-08-44-docs.googleusercontent.com\" --header=\"User-Agent: Mozilla/5.0 (Windows NT 10.0; Win64; x64) AppleWebKit/537.36 (KHTML, like Gecko) Chrome/83.0.4103.61 Safari/537.36\" --header=\"Accept: text/html,application/xhtml+xml,application/xml;q=0.9,image/webp,image/apng,*/*;q=0.8,application/signed-exchange;v=b3;q=0.9\" --header=\"Accept-Language: en-IN,en-GB;q=0.9,en-US;q=0.8,en;q=0.7\" --header=\"Referer: https://drive.google.com/drive/u/0/folders/1Lze5wKSp2c3rurUo8iet5RgNygcOyW1Z\" --header=\"Cookie: AUTH_bfhjrtscq695ib7edi83p6bfm42sd929=00136369994752382157|1591332075000|khsiv584fse14fsp6qp1a1iov04jc9gc; _ga=GA1.2.1509677474.1591248567; _gid=GA1.2.195823905.1591248567\" --header=\"Connection: keep-alive\" \"https://doc-08-44-docs.googleusercontent.com/docs/securesc/oik9lo733t355n1nglla0cdlqj79umtt/tv4k6lhqh609hsumjakcisnk9ol47fpj/1591332150000/02963250765125473783/00136369994752382157/1AdAgXbmDo9eDellva8bClMYUsiH5LNo4?e=download&authuser=0\" -c -O 'char_encoded_data'"
   ]
  },
  {
   "cell_type": "markdown",
   "metadata": {
    "colab_type": "text",
    "id": "OPcS3aGjw8KV"
   },
   "source": [
    "<h1>1. Read Featurized data</h1> \n",
    "<h2>(Refer Character Featurization Section 3 of 2_Data_Preparation.ipynb)</h2> "
   ]
  },
  {
   "cell_type": "code",
   "execution_count": 0,
   "metadata": {
    "colab": {},
    "colab_type": "code",
    "id": "iDfzcCAIcuCy"
   },
   "outputs": [],
   "source": [
    "[X_train_padded_docs,y_train_padded_docs,X_val_padded_docs,y_val_padded_docs,\n",
    "                                             embedding_matrix,tokenizer] = joblib.load('char_encoded_data')"
   ]
  },
  {
   "cell_type": "markdown",
   "metadata": {
    "colab_type": "text",
    "id": "1gi9gVXkcuCy"
   },
   "source": [
    "<h1>2. Define Model Architecture"
   ]
  },
  {
   "cell_type": "markdown",
   "metadata": {
    "colab_type": "text",
    "id": "icMEwKexcuC2"
   },
   "source": [
    "<h2>2.1. Encoder Model"
   ]
  },
  {
   "cell_type": "code",
   "execution_count": 0,
   "metadata": {
    "colab": {},
    "colab_type": "code",
    "id": "wgtZmDqYcuC6"
   },
   "outputs": [],
   "source": [
    "#Encoder class\n",
    "class Encoder(tf.keras.layers.Layer):\n",
    "    def __init__(self, vocab_size, embedding_dim,embedding_matrix,enc_units,**kwargs):\n",
    "        super(Encoder,self).__init__(**kwargs)\n",
    "        self.vocab_size = vocab_size\n",
    "        self.embedding_dim = embedding_dim\n",
    "        self.enc_units = enc_units\n",
    "        self.embedding = Embedding(input_dim=self.vocab_size, output_dim=self.embedding_dim,weights=[embedding_matrix],\n",
    "                                   mask_zero=True,name='Encoder_Embedding_layer')\n",
    "        self.lstm = LSTM(self.enc_units,return_sequences=True,return_state=True,name='Encoder_LSTM',dropout=0.33)\n",
    "\n",
    "    def call(self, x):\n",
    "        x = self.embedding(x)\n",
    "        #state_h = Hidden state output of last time step (Output of last time step)\n",
    "        #state_c = Cell state output of last time step\n",
    "        lstm_out, state_h, state_c = self.lstm(x)\n",
    "        return lstm_out, state_h, state_c"
   ]
  },
  {
   "cell_type": "code",
   "execution_count": 4,
   "metadata": {
    "colab": {
     "base_uri": "https://localhost:8080/",
     "height": 34
    },
    "colab_type": "code",
    "id": "uc064MCCcuC_",
    "outputId": "eac03827-57d5-4e59-e511-59e01cfea2a2"
   },
   "outputs": [
    {
     "name": "stdout",
     "output_type": "stream",
     "text": [
      "Vocab size: 30\n"
     ]
    }
   ],
   "source": [
    "vocab_size = len(tokenizer.word_index) + 1\n",
    "print('Vocab size:',vocab_size)"
   ]
  },
  {
   "cell_type": "code",
   "execution_count": 5,
   "metadata": {
    "colab": {
     "base_uri": "https://localhost:8080/",
     "height": 101
    },
    "colab_type": "code",
    "id": "P_xpJvvccuDE",
    "outputId": "9112eee7-8115-4c6f-a592-2e385780b4a8"
   },
   "outputs": [
    {
     "name": "stdout",
     "output_type": "stream",
     "text": [
      "Shape of batch input data (batch_size,sequence length): (32, 53)\n",
      "Shape of batch output data (batch_size,sequence length): (32, 53)\n",
      "Shape of encoder output (batch_size,sequence length,units): (32, 53, 128)\n",
      "Shape of hidden state output of last time step (batch_size,units): (32, 128)\n",
      "Shape of memory state output of last time step (batch_size,units): (32, 128)\n"
     ]
    }
   ],
   "source": [
    "#Create encoder object\n",
    "BATCH_SIZE = 32\n",
    "encoder = Encoder(vocab_size=vocab_size,embedding_dim=300,embedding_matrix=embedding_matrix,\n",
    "                  enc_units=128,name='Encoder')\n",
    "\n",
    "#Get data from data generator\n",
    "example_input_batch, example_target_batch = X_train_padded_docs[:BATCH_SIZE], y_train_padded_docs[:BATCH_SIZE]\n",
    "print('Shape of batch input data (batch_size,sequence length):',example_input_batch.shape)\n",
    "print('Shape of batch output data (batch_size,sequence length):',example_target_batch.shape)\n",
    "\n",
    "#Genearte sample ouptput and hidden state from encoder object\n",
    "sample_output, sample_hidden_output, sample_cell_output = encoder(example_input_batch)\n",
    "print('Shape of encoder output (batch_size,sequence length,units):',sample_output.shape)\n",
    "print('Shape of hidden state output of last time step (batch_size,units):',sample_hidden_output.shape)\n",
    "print('Shape of memory state output of last time step (batch_size,units):',sample_cell_output.shape)"
   ]
  },
  {
   "cell_type": "markdown",
   "metadata": {
    "colab_type": "text",
    "id": "dGFLsbQOcuDJ"
   },
   "source": [
    "<h2>2.2. Attention layer</h2>"
   ]
  },
  {
   "cell_type": "markdown",
   "metadata": {
    "colab_type": "text",
    "id": "Rp9SoJz2cuDK"
   },
   "source": [
    "For a particular time step of Decoder, the attention layer takes the output from the encoder (output at all time steps) and decoder output (hidden state output of decoder) at previous time step and computes the context vector. The context vector concatenated with the decoder output of previous time step is given as an input to the decoder for the current time step."
   ]
  },
  {
   "cell_type": "code",
   "execution_count": 0,
   "metadata": {
    "colab": {},
    "colab_type": "code",
    "id": "KMN95hW8w8Kv"
   },
   "outputs": [],
   "source": [
    "class BahdanauAttention(tf.keras.layers.Layer):\n",
    "    def __init__(self,units):\n",
    "        super(BahdanauAttention,self).__init__()\n",
    "        self.units = units\n",
    "        self.W1 = Dense(units)\n",
    "        self.W2 = Dense(units)\n",
    "        self.V = Dense(1)\n",
    "        \n",
    "    def call(self, hs, ht):\n",
    "        #hs = Encoder output at all time steps\n",
    "        #ht = Decoder output at last time step (Hidden state output of decoder at last time step)\n",
    "        #Add time axis to ht, this is done to perform broadcast addition along time axis to calculate score\n",
    "        #hs shape == (batch size,max_length,hidden size)\n",
    "        #ht shape == (batch size,hidden size)\n",
    "        #ht_with_time_axis shape == (batch size,1,hidden size)\n",
    "        ht_with_time_axis = tf.expand_dims(ht, axis=1)\n",
    "        \n",
    "        #score shape == (batch size, max_length, 1)\n",
    "        score = self.V(tf.nn.tanh(self.W1(ht_with_time_axis) + self.W2(hs)))\n",
    "        \n",
    "        #Softmaxing the scores to get attention weights (alpha's)\n",
    "        #attention_weights shape == (batch size, max_length, 1)\n",
    "        attention_weights = tf.nn.softmax(score, axis=1)\n",
    "\n",
    "        #Get context vector\n",
    "        #context_vector shape after sum == (batch_size, hidden_size)\n",
    "        context_vector = attention_weights * hs\n",
    "        context_vector = tf.reduce_sum(context_vector, axis=1)\n",
    "\n",
    "        return context_vector, attention_weights"
   ]
  },
  {
   "cell_type": "code",
   "execution_count": 7,
   "metadata": {
    "colab": {
     "base_uri": "https://localhost:8080/",
     "height": 50
    },
    "colab_type": "code",
    "id": "uw8EUNgXw8Kz",
    "outputId": "133614ae-920b-4a6b-e382-e89f0f431210"
   },
   "outputs": [
    {
     "name": "stdout",
     "output_type": "stream",
     "text": [
      "Shape of context vector (batch_size,units): (32, 128)\n",
      "Shape of attention weights (batch_size,sequence length,1): (32, 53, 1)\n"
     ]
    }
   ],
   "source": [
    "#Initalise Attention\n",
    "attention_layer = BahdanauAttention(units=128)\n",
    "sample_context_vector, sample_attention_weights = attention_layer(sample_output,sample_hidden_output)\n",
    "print('Shape of context vector (batch_size,units):',sample_context_vector.shape)\n",
    "print('Shape of attention weights (batch_size,sequence length,1):',sample_attention_weights.shape)"
   ]
  },
  {
   "cell_type": "markdown",
   "metadata": {
    "colab_type": "text",
    "id": "VWTi0DbhcuDf"
   },
   "source": [
    "<h2>2.3. Decoder Model"
   ]
  },
  {
   "cell_type": "markdown",
   "metadata": {
    "colab_type": "text",
    "id": "zOymahJ7cuDg"
   },
   "source": [
    "<h3>2.3.1. One Step Decoder"
   ]
  },
  {
   "cell_type": "code",
   "execution_count": 0,
   "metadata": {
    "colab": {},
    "colab_type": "code",
    "id": "lxVxxpnbcuDg"
   },
   "outputs": [],
   "source": [
    "class OneStepDecoder(tf.keras.layers.Layer):\n",
    "    def __init__(self, vocab_size, embedding_dim,embedding_matrix,dec_units,att_units):\n",
    "        super(OneStepDecoder, self).__init__()\n",
    "        self.attention = BahdanauAttention(units=att_units)\n",
    "        self.embedding = Embedding(input_dim=vocab_size, output_dim=embedding_dim,weights=[embedding_matrix],mask_zero=True,\n",
    "                                   name='Decoder_Embedding_layer')\n",
    "        self.lstm = LSTM(dec_units,return_sequences=False,return_state=True,name='Decoder_LSTM',dropout=0.33)\n",
    "        self.drop = Dropout(0.2)\n",
    "        self.fc = Dense(vocab_size)\n",
    "        \n",
    "    def call(self, x, hidden, cell, enc_output):\n",
    "        #enc_output shape == (batch_size, max_length, hidden_size)\n",
    "        context_vector, attention_weights = self.attention(enc_output,hidden)\n",
    "\n",
    "        # x shape after passing through embedding == (batch_size, 1, embedding_dim)\n",
    "        x = self.embedding(x)\n",
    "        \n",
    "        # x shape after concatenation == (batch_size, 1, embedding_dim + hidden_size)\n",
    "        x = tf.concat([tf.expand_dims(context_vector, 1), x], axis=-1)\n",
    "        \n",
    "        # passing the concatenated vector to the LSTM\n",
    "        output, state_h, state_c = self.lstm(x,initial_state=[hidden,cell])\n",
    "        \n",
    "        # output shape == (batch_size, vocab)\n",
    "        x = self.fc(output)\n",
    "\n",
    "        return x, state_h, state_c, attention_weights"
   ]
  },
  {
   "cell_type": "code",
   "execution_count": 9,
   "metadata": {
    "colab": {
     "base_uri": "https://localhost:8080/",
     "height": 101
    },
    "colab_type": "code",
    "id": "b9pinu5acuDv",
    "outputId": "9f23779a-5b4e-459e-a8bd-8b96498444db"
   },
   "outputs": [
    {
     "name": "stdout",
     "output_type": "stream",
     "text": [
      "One Step Decoder with Attention:\n",
      "Shape of decoder output (batch_size,vocab_size): (32, 30)\n",
      "Shape of decoder hidden state output (batch_size,units): (32, 128)\n",
      "Shape of decoder memory state output (batch_size,units): (32, 128)\n",
      "Shape of attention weights (batch_size,sequence length,1): (32, 53, 1)\n"
     ]
    }
   ],
   "source": [
    "#Initialise one step decoder with attention\n",
    "BATCH_SIZE = 32\n",
    "osd = OneStepDecoder(vocab_size=vocab_size,embedding_dim=300,embedding_matrix=embedding_matrix,dec_units=128,att_units=128)\n",
    "\n",
    "#Input to decoder for first time step\n",
    "dec_input = tf.expand_dims([tokenizer.word_index['#']] * BATCH_SIZE, 1)\n",
    "\n",
    "#Geneate sample output, hidden states and attention weights from decoder object\n",
    "sample_output_dec,sample_hidden_output_dec,sample_cell_output_dec,sample_attention_weights = osd(dec_input,\n",
    "                                                                                                 sample_hidden_output, \n",
    "                                                                                                 sample_cell_output,\n",
    "                                                                                                 sample_output)\n",
    "print('One Step Decoder with Attention:')\n",
    "print('Shape of decoder output (batch_size,vocab_size):',sample_output_dec.shape)\n",
    "print('Shape of decoder hidden state output (batch_size,units):',sample_hidden_output_dec.shape)\n",
    "print('Shape of decoder memory state output (batch_size,units):',sample_cell_output_dec.shape)\n",
    "print('Shape of attention weights (batch_size,sequence length,1):',sample_attention_weights.shape)"
   ]
  },
  {
   "cell_type": "markdown",
   "metadata": {
    "colab_type": "text",
    "id": "4ZxADS2EcuD8"
   },
   "source": [
    "<h3>2.3.2. Decoder for Training"
   ]
  },
  {
   "cell_type": "code",
   "execution_count": 0,
   "metadata": {
    "colab": {},
    "colab_type": "code",
    "id": "RiG649pXcuD9"
   },
   "outputs": [],
   "source": [
    "class Decoder(tf.keras.layers.Layer):\n",
    "    def __init__(self, vocab_size, embedding_dim,embedding_matrix,dec_units,att_units,**kwargs):\n",
    "        super(Decoder, self).__init__(**kwargs)\n",
    "        self.vocab_size = vocab_size\n",
    "        self.embedding_dim = embedding_dim\n",
    "        self.dec_units = dec_units\n",
    "        self.att_units = att_units\n",
    "        self.onestep_decoder = OneStepDecoder(vocab_size=self.vocab_size,embedding_dim=self.embedding_dim,\n",
    "                                              embedding_matrix=embedding_matrix,\n",
    "                                              dec_units=self.dec_units,\n",
    "                                              att_units=self.att_units)\n",
    "        \n",
    "    #@tf.function\n",
    "    def call(self,decoder_input,decoder_hidden_state,decoder_cell_state,encoder_outputs):\n",
    "        \n",
    "        #Decoder must output words after <start> token hence sequence length is reduced by 1\n",
    "        all_outputs = tf.TensorArray(tf.float32,size=decoder_input.shape[1]-1,name='Output_arrays')\n",
    "        \n",
    "        #Initialise the hidden and cell states of decoder\n",
    "        hidden_output_dec = decoder_hidden_state\n",
    "        cell_output_dec = decoder_cell_state\n",
    "        \n",
    "        #for each timestep in decoder input (output after <start> token)\n",
    "        for timestep in range(decoder_input.shape[1]-1):\n",
    "            #Get the output, hidden states from one step decoder\n",
    "            output_dec,hidden_output_dec,cell_output_dec,_ = self.onestep_decoder(decoder_input[:,timestep:timestep+1],\n",
    "                                                                                  hidden_output_dec,cell_output_dec,\n",
    "                                                                                  encoder_outputs)\n",
    "            \n",
    "            #output_dec shape == (batch_size,vocab_size)\n",
    "            #Storing all outputs\n",
    "            all_outputs = all_outputs.write(timestep,output_dec)\n",
    "        #all_outputs shape after stacking == (timestep-1,batch_size,vocab_size)\n",
    "        #all_outputs shape after transpose == (batch_size,timestep-1,vocab_size)\n",
    "        all_outputs = tf.transpose(all_outputs.stack(),[1,0,2])\n",
    "        \n",
    "        return all_outputs"
   ]
  },
  {
   "cell_type": "code",
   "execution_count": 11,
   "metadata": {
    "colab": {
     "base_uri": "https://localhost:8080/",
     "height": 67
    },
    "colab_type": "code",
    "id": "yBIUAdeTcuEB",
    "outputId": "9fef7b77-67cf-4ba8-8ad1-f8f63ce8d768"
   },
   "outputs": [
    {
     "name": "stdout",
     "output_type": "stream",
     "text": [
      "Decoder with Attention:\n",
      "Shape of decoder input (batch_size,sequence length): (32, 53)\n",
      "Shape of decoder output (batch_size,sequence length-1,vocab_size): (32, 52, 30)\n"
     ]
    }
   ],
   "source": [
    "#Initialise decoder\n",
    "decoder = Decoder(vocab_size=vocab_size,embedding_dim=300,embedding_matrix=embedding_matrix,dec_units=128,att_units=128)\n",
    "\n",
    "#Generate output from decoder\n",
    "all_outputs = decoder(example_target_batch,sample_hidden_output,sample_cell_output,sample_output)\n",
    "print('Decoder with Attention:')\n",
    "print('Shape of decoder input (batch_size,sequence length):',example_target_batch.shape)\n",
    "print('Shape of decoder output (batch_size,sequence length-1,vocab_size):',all_outputs.shape)"
   ]
  },
  {
   "cell_type": "markdown",
   "metadata": {
    "colab_type": "text",
    "id": "n3JlgiLdcuEM"
   },
   "source": [
    "<h2>2.4. Loss function"
   ]
  },
  {
   "cell_type": "code",
   "execution_count": 0,
   "metadata": {
    "colab": {},
    "colab_type": "code",
    "id": "7DTKipswcuEN"
   },
   "outputs": [],
   "source": [
    "loss_object = tf.keras.losses.SparseCategoricalCrossentropy(from_logits=True, reduction='none')"
   ]
  },
  {
   "cell_type": "code",
   "execution_count": 0,
   "metadata": {
    "colab": {},
    "colab_type": "code",
    "id": "GHe4U-qBcuER"
   },
   "outputs": [],
   "source": [
    "def loss_function(real, pred):\n",
    "    \n",
    "    #Identify zeros in real tensor/Creating masking tensor\n",
    "    mask = tf.math.logical_not(tf.math.equal(real, 0))\n",
    "    #Calculate log loss for each class\n",
    "    loss_ = loss_object(real, pred)\n",
    "    #Change data type of mask\n",
    "    mask = tf.cast(mask, dtype=loss_.dtype)\n",
    "    #Calculate loss considering masking\n",
    "    loss_ *= mask\n",
    "\n",
    "    return tf.reduce_mean(loss_)"
   ]
  },
  {
   "cell_type": "markdown",
   "metadata": {
    "colab_type": "text",
    "id": "c2qlauC-cuET"
   },
   "source": [
    "<h2>2.5. Model"
   ]
  },
  {
   "cell_type": "code",
   "execution_count": 0,
   "metadata": {
    "colab": {},
    "colab_type": "code",
    "id": "EDQubxhQcuEU"
   },
   "outputs": [],
   "source": [
    "class Encoder_Decoder_Attention_Model(tf.keras.models.Model):\n",
    "    def __init__(self, vocab_size,embedding_dim,embedding_matrix,units,att_units,**kwargs):\n",
    "        super(Encoder_Decoder_Attention_Model,self).__init__(**kwargs)\n",
    "        self.encoder = Encoder(vocab_size=vocab_size, embedding_dim=embedding_dim,embedding_matrix=embedding_matrix,\n",
    "                               enc_units=units,name='Encoder_layer')\n",
    "        self.decoder = Decoder(vocab_size=vocab_size, embedding_dim=embedding_dim,embedding_matrix=embedding_matrix,\n",
    "                               dec_units=units,att_units=att_units,\n",
    "                               name='Decoder_layer')\n",
    "        \n",
    "    def call(self, inputs):\n",
    "        #Inputs will contain encoder input and decoder input\n",
    "        #Separate encoder and decoder inputs\n",
    "        encoder_inputs, decoder_inputs = inputs[0], inputs[1]\n",
    "        \n",
    "        #Genearte output and hidden states from encoder object\n",
    "        encoder_outputs, enc_hidden_output, enc_cell_output = self.encoder(encoder_inputs)\n",
    "\n",
    "        #Generate output from decoder\n",
    "        #Initialise hidden states of decoder with hidden states of encoder\n",
    "        all_outputs = self.decoder(decoder_inputs,enc_hidden_output,enc_cell_output,encoder_outputs)\n",
    "        \n",
    "        return all_outputs"
   ]
  },
  {
   "cell_type": "markdown",
   "metadata": {
    "colab_type": "text",
    "id": "IcrEYcmlL7H6"
   },
   "source": [
    "<h2>2.6. Model Evaluation"
   ]
  },
  {
   "cell_type": "code",
   "execution_count": 0,
   "metadata": {
    "colab": {},
    "colab_type": "code",
    "id": "WBKLoKUbL7H7"
   },
   "outputs": [],
   "source": [
    "#Function returns texts from a sequence\n",
    "def get_text_from_seq(sequence,tokenizer):\n",
    "    sent =''\n",
    "    for i in sequence:\n",
    "        if i!=0:\n",
    "            sent+=tokenizer.index_word[i]\n",
    "    return sent"
   ]
  },
  {
   "cell_type": "code",
   "execution_count": 0,
   "metadata": {
    "colab": {},
    "colab_type": "code",
    "id": "ZQ_KwVRdL7H_"
   },
   "outputs": [],
   "source": [
    "#Function to get bleu score for a sentence\n",
    "def get_bleu_score(enc_dec_model,input_seq,expected_output_seq):\n",
    "    \n",
    "    inp_max_length = X_train_padded_docs.shape[1]\n",
    "    out_max_length = y_train_padded_docs.shape[1]\n",
    "    \n",
    "    #Get output from encoder\n",
    "    enc_outputs,enc_hidden,enc_cell = enc_dec_model.layers[0](input_seq.reshape(1,inp_max_length))\n",
    "    \n",
    "    #Boundary case for decoder\n",
    "    dec_input = tf.expand_dims([tokenizer.word_index['#']], 1)\n",
    "    dec_hidden = enc_hidden\n",
    "    dec_cell = enc_cell\n",
    "    \n",
    "    #Predicted output sequence\n",
    "    #Add <start> token to output sequence\n",
    "    output_seq = [tokenizer.word_index['#']]\n",
    "    \n",
    "    #The model will start predicting after start token, hence max_length is subtracted by 1\n",
    "    for i in range(out_max_length-1):\n",
    "        #Get prediction from onestep_decoder\n",
    "        dec_output,dec_hidden,dec_cell,_ = enc_dec_model.layers[1].onestep_decoder(dec_input,dec_hidden,\n",
    "                                                                                               dec_cell,enc_outputs)\n",
    "        \n",
    "        #Extract predicted id from decoder output\n",
    "        key = tf.argmax(dec_output[0]).numpy()\n",
    "        \n",
    "        output_seq.append(key)\n",
    "        \n",
    "        if tokenizer.index_word[key] == '*':\n",
    "            #Get texts from input sentence\n",
    "            input_sent = get_text_from_seq(input_seq,tokenizer)\n",
    "            #Get texts from sequence for actual sentence\n",
    "            actual = get_text_from_seq(expected_output_seq,tokenizer)\n",
    "            #Get texts from sequence for predicted sentence\n",
    "            prediction = get_text_from_seq(output_seq,tokenizer)\n",
    "            return input_sent,actual,prediction,bleu_score.sentence_bleu([actual.split()],prediction.split())\n",
    "        \n",
    "        #Make current decoder output as decoder input for next time step\n",
    "        dec_input = tf.expand_dims([key], 0)\n",
    "    \n",
    "    input_sent = get_text_from_seq(input_seq,tokenizer)\n",
    "    actual = get_text_from_seq(expected_output_seq,tokenizer)\n",
    "    prediction = get_text_from_seq(output_seq,tokenizer)\n",
    "    return input_sent,actual,prediction,bleu_score.sentence_bleu([actual.split()],prediction.split())"
   ]
  },
  {
   "cell_type": "markdown",
   "metadata": {
    "colab_type": "text",
    "id": "A6naCdjvcuEa"
   },
   "source": [
    "<h1>3. Model Training"
   ]
  },
  {
   "cell_type": "code",
   "execution_count": 0,
   "metadata": {
    "colab": {},
    "colab_type": "code",
    "id": "5TTqWUC8cuEa"
   },
   "outputs": [],
   "source": [
    "#Set Parameters\n",
    "vocab_size = len(tokenizer.word_index) + 1  \n",
    "\n",
    "#Encoding and decoding Embedding layer dimension\n",
    "embedding_dim = 300\n",
    "\n",
    "#Encoding and decoding LSTM layer units\n",
    "units = 128\n",
    "att_units = 32\n",
    "\n",
    "#Initialise object for Model class\n",
    "model = Encoder_Decoder_Attention_Model(vocab_size,embedding_dim,embedding_matrix,units,att_units,\n",
    "                                        name='Encoder_Decoder_Attention_Model')"
   ]
  },
  {
   "cell_type": "code",
   "execution_count": 18,
   "metadata": {
    "colab": {
     "base_uri": "https://localhost:8080/",
     "height": 218
    },
    "colab_type": "code",
    "id": "PKDJZOJDcuEc",
    "outputId": "7189f005-5b49-49eb-ed9d-5843ae40634c"
   },
   "outputs": [
    {
     "name": "stdout",
     "output_type": "stream",
     "text": [
      "Model: \"Encoder_Decoder_Attention_Model\"\n",
      "_________________________________________________________________\n",
      "Layer (type)                 Output Shape              Param #   \n",
      "=================================================================\n",
      "Encoder_layer (Encoder)      multiple                  228648    \n",
      "_________________________________________________________________\n",
      "Decoder_layer (Decoder)      multiple                  306343    \n",
      "=================================================================\n",
      "Total params: 534,991\n",
      "Trainable params: 534,991\n",
      "Non-trainable params: 0\n",
      "_________________________________________________________________\n"
     ]
    }
   ],
   "source": [
    "#Max sequence length for input and output sentence\n",
    "model.build(input_shape=[(None,X_train_padded_docs.shape[1]),(None,y_train_padded_docs.shape[1])])\n",
    "model.summary()"
   ]
  },
  {
   "cell_type": "code",
   "execution_count": 0,
   "metadata": {
    "colab": {},
    "colab_type": "code",
    "id": "20CwK6Chcj1d"
   },
   "outputs": [],
   "source": [
    "def data_generator(X,y,BATCH_SIZE,shuffle=True):\n",
    "    dataset = tf.data.Dataset.from_tensor_slices((X, y))\n",
    "    if shuffle:\n",
    "        dataset = dataset.shuffle(len(X)).batch(BATCH_SIZE,drop_remainder=True)\n",
    "    else:\n",
    "        dataset = dataset.batch(BATCH_SIZE,drop_remainder=True)\n",
    "    dataset = dataset.prefetch(buffer_size=tf.data.experimental.AUTOTUNE)\n",
    "    return dataset"
   ]
  },
  {
   "cell_type": "code",
   "execution_count": 0,
   "metadata": {
    "colab": {},
    "colab_type": "code",
    "id": "lEn_0bp2cuEf"
   },
   "outputs": [],
   "source": [
    "#Create folder to save model weights\n",
    "if not os.path.isdir('model_save'):\n",
    "    os.makedirs('model_save')"
   ]
  },
  {
   "cell_type": "code",
   "execution_count": 0,
   "metadata": {
    "colab": {},
    "colab_type": "code",
    "id": "EsXuVDsV0XIU"
   },
   "outputs": [],
   "source": [
    "# Clear any logs from previous runs\n",
    "!rm -rf ./logs/"
   ]
  },
  {
   "cell_type": "code",
   "execution_count": 22,
   "metadata": {
    "colab": {
     "base_uri": "https://localhost:8080/",
     "height": 689
    },
    "colab_type": "code",
    "id": "tyKYm6yocuEm",
    "outputId": "3b36de56-07b4-4658-9cd6-2f0f932e65e1",
    "scrolled": false
   },
   "outputs": [
    {
     "name": "stdout",
     "output_type": "stream",
     "text": [
      "Epoch 1/10\n",
      "209/209 [==============================] - ETA: 0s - loss: 0.7767\n",
      "Epoch 00001: loss improved from inf to 0.77665, saving model to model_save/weights-01-0.7767.hdf5\n",
      "209/209 [==============================] - 148s 706ms/step - loss: 0.7767 - val_loss: 0.4650\n",
      "Epoch 2/10\n",
      "209/209 [==============================] - ETA: 0s - loss: 0.5602\n",
      "Epoch 00002: loss improved from 0.77665 to 0.56016, saving model to model_save/weights-02-0.5602.hdf5\n",
      "209/209 [==============================] - 124s 593ms/step - loss: 0.5602 - val_loss: 0.3880\n",
      "Epoch 3/10\n",
      "209/209 [==============================] - ETA: 0s - loss: 0.4899\n",
      "Epoch 00003: loss improved from 0.56016 to 0.48995, saving model to model_save/weights-03-0.4899.hdf5\n",
      "209/209 [==============================] - 124s 592ms/step - loss: 0.4899 - val_loss: 0.3557\n",
      "Epoch 4/10\n",
      "209/209 [==============================] - ETA: 0s - loss: 0.4537\n",
      "Epoch 00004: loss improved from 0.48995 to 0.45367, saving model to model_save/weights-04-0.4537.hdf5\n",
      "209/209 [==============================] - 124s 594ms/step - loss: 0.4537 - val_loss: 0.3411\n",
      "Epoch 5/10\n",
      "209/209 [==============================] - ETA: 0s - loss: 0.4311\n",
      "Epoch 00005: loss improved from 0.45367 to 0.43113, saving model to model_save/weights-05-0.4311.hdf5\n",
      "209/209 [==============================] - 124s 593ms/step - loss: 0.4311 - val_loss: 0.3313\n",
      "Epoch 6/10\n",
      "209/209 [==============================] - ETA: 0s - loss: 0.4152\n",
      "Epoch 00006: loss improved from 0.43113 to 0.41523, saving model to model_save/weights-06-0.4152.hdf5\n",
      "209/209 [==============================] - 123s 590ms/step - loss: 0.4152 - val_loss: 0.3242\n",
      "Epoch 7/10\n",
      "209/209 [==============================] - ETA: 0s - loss: 0.4025\n",
      "Epoch 00007: loss improved from 0.41523 to 0.40245, saving model to model_save/weights-07-0.4025.hdf5\n",
      "209/209 [==============================] - 123s 591ms/step - loss: 0.4025 - val_loss: 0.3206\n",
      "Epoch 8/10\n",
      "209/209 [==============================] - ETA: 0s - loss: 0.3934\n",
      "Epoch 00008: loss improved from 0.40245 to 0.39337, saving model to model_save/weights-08-0.3934.hdf5\n",
      "209/209 [==============================] - 124s 592ms/step - loss: 0.3934 - val_loss: 0.3190\n",
      "Epoch 9/10\n",
      "209/209 [==============================] - ETA: 0s - loss: 0.3853\n",
      "Epoch 00009: loss improved from 0.39337 to 0.38531, saving model to model_save/weights-09-0.3853.hdf5\n",
      "209/209 [==============================] - 123s 590ms/step - loss: 0.3853 - val_loss: 0.3145\n",
      "Epoch 10/10\n",
      "209/209 [==============================] - ETA: 0s - loss: 0.3787\n",
      "Epoch 00010: loss improved from 0.38531 to 0.37872, saving model to model_save/weights-10-0.3787.hdf5\n",
      "209/209 [==============================] - 123s 590ms/step - loss: 0.3787 - val_loss: 0.3132\n"
     ]
    }
   ],
   "source": [
    "tf.keras.backend.clear_session()\n",
    "\n",
    "#Set Parameters\n",
    "BATCH_SIZE = 512\n",
    "epochs = 10\n",
    "\n",
    "#Model compile\n",
    "model.compile(optimizer=tf.keras.optimizers.Adam(0.01),loss=loss_function)\n",
    "\n",
    "#Save intermediate model callback\n",
    "filepath=\"model_save/weights-{epoch:02d}-{loss:.4f}.hdf5\"\n",
    "checkpoint = ModelCheckpoint(filepath=filepath, monitor='loss', verbose=1, save_best_only=True, mode='min')\n",
    "\n",
    "#Tensorboard\n",
    "log_dir=\"logs/\" + datetime.datetime.now().strftime(\"%Y%m%d-%H%M%S\")\n",
    "tensorboard_callback = TensorBoard(log_dir=log_dir,histogram_freq=1, write_graph=True)\n",
    "\n",
    "#Callback list\n",
    "callback_list = [checkpoint,tensorboard_callback]\n",
    "\n",
    "#Data generator\n",
    "train = data_generator((X_train_padded_docs,y_train_padded_docs),y_train_padded_docs[:,1:],\n",
    "                       BATCH_SIZE=BATCH_SIZE,shuffle=True)\n",
    "val = data_generator((X_val_padded_docs,y_val_padded_docs),y_val_padded_docs[:,1:],BATCH_SIZE=BATCH_SIZE,shuffle=False)\n",
    "\n",
    "#Train model\n",
    "history1 = model.fit(train,epochs=epochs,validation_data=val,callbacks=callback_list)"
   ]
  },
  {
   "cell_type": "code",
   "execution_count": 23,
   "metadata": {
    "colab": {
     "base_uri": "https://localhost:8080/",
     "height": 34
    },
    "colab_type": "code",
    "id": "yXcw8dC73Pie",
    "outputId": "cb84bbaa-fa61-4383-a600-15540eb1058a"
   },
   "outputs": [
    {
     "data": {
      "text/plain": [
       "['history1']"
      ]
     },
     "execution_count": 23,
     "metadata": {
      "tags": []
     },
     "output_type": "execute_result"
    }
   ],
   "source": [
    "joblib.dump(history1.history,'history1')"
   ]
  },
  {
   "cell_type": "code",
   "execution_count": 0,
   "metadata": {
    "colab": {},
    "colab_type": "code",
    "id": "Mrd7PRmjcuEp"
   },
   "outputs": [],
   "source": [
    "#Save weights\n",
    "model.save_weights('best_model1.h5')"
   ]
  },
  {
   "cell_type": "code",
   "execution_count": 25,
   "metadata": {
    "colab": {
     "base_uri": "https://localhost:8080/",
     "height": 34
    },
    "colab_type": "code",
    "id": "7ObOhaJazQcU",
    "outputId": "a6dafdc6-bca7-4787-f23c-bb53769821ac"
   },
   "outputs": [
    {
     "name": "stdout",
     "output_type": "stream",
     "text": [
      "210/210 [==============================] - 42s 201ms/step - loss: 0.3632\n"
     ]
    }
   ],
   "source": [
    "train_parameters = model.evaluate([X_train_padded_docs,y_train_padded_docs],y_train_padded_docs[:,1:],\n",
    "                                  verbose=1,batch_size=BATCH_SIZE)"
   ]
  },
  {
   "cell_type": "code",
   "execution_count": 26,
   "metadata": {
    "colab": {
     "base_uri": "https://localhost:8080/",
     "height": 34
    },
    "colab_type": "code",
    "id": "dOq7_Vm-zjIM",
    "outputId": "8481528a-f211-4267-ee6f-dfd6432a8c94"
   },
   "outputs": [
    {
     "name": "stdout",
     "output_type": "stream",
     "text": [
      "29/29 [==============================] - 6s 196ms/step - loss: 0.3129\n"
     ]
    }
   ],
   "source": [
    "val_parameters = model.evaluate([X_val_padded_docs,y_val_padded_docs],y_val_padded_docs[:,1:],\n",
    "                                 verbose=1,batch_size=BATCH_SIZE)"
   ]
  },
  {
   "cell_type": "code",
   "execution_count": 0,
   "metadata": {
    "colab": {},
    "colab_type": "code",
    "id": "bt-hIXlo7fBQ"
   },
   "outputs": [],
   "source": [
    "#Load weights\n",
    "model.load_weights('best_model1.h5')"
   ]
  },
  {
   "cell_type": "code",
   "execution_count": 28,
   "metadata": {
    "colab": {
     "base_uri": "https://localhost:8080/",
     "height": 726
    },
    "colab_type": "code",
    "id": "vUZp41FB3Piv",
    "outputId": "28a37a24-ff65-458c-d5ad-3e1d7c00b9bb"
   },
   "outputs": [
    {
     "name": "stdout",
     "output_type": "stream",
     "text": [
      "Epoch 1/10\n",
      "  2/209 [..............................] - ETA: 7:30 - loss: 0.3942WARNING:tensorflow:Method (on_train_batch_end) is slow compared to the batch update (1.928715). Check your callbacks.\n",
      "209/209 [==============================] - ETA: 0s - loss: 0.3756\n",
      "Epoch 00001: loss improved from 0.37872 to 0.37559, saving model to model_save/weights-01-0.3756.hdf5\n",
      "209/209 [==============================] - 150s 717ms/step - loss: 0.3756 - val_loss: 0.3126\n",
      "Epoch 2/10\n",
      "209/209 [==============================] - ETA: 0s - loss: 0.3670\n",
      "Epoch 00002: loss improved from 0.37559 to 0.36695, saving model to model_save/weights-02-0.3670.hdf5\n",
      "209/209 [==============================] - 123s 589ms/step - loss: 0.3670 - val_loss: 0.3126\n",
      "Epoch 3/10\n",
      "209/209 [==============================] - ETA: 0s - loss: 0.3616\n",
      "Epoch 00003: loss improved from 0.36695 to 0.36157, saving model to model_save/weights-03-0.3616.hdf5\n",
      "209/209 [==============================] - 124s 592ms/step - loss: 0.3616 - val_loss: 0.3134\n",
      "Epoch 4/10\n",
      "209/209 [==============================] - ETA: 0s - loss: 0.3578\n",
      "Epoch 00004: loss improved from 0.36157 to 0.35783, saving model to model_save/weights-04-0.3578.hdf5\n",
      "209/209 [==============================] - 124s 592ms/step - loss: 0.3578 - val_loss: 0.3162\n",
      "Epoch 5/10\n",
      "209/209 [==============================] - ETA: 0s - loss: 0.3542\n",
      "Epoch 00005: loss improved from 0.35783 to 0.35417, saving model to model_save/weights-05-0.3542.hdf5\n",
      "209/209 [==============================] - 124s 593ms/step - loss: 0.3542 - val_loss: 0.3153\n",
      "Epoch 6/10\n",
      "209/209 [==============================] - ETA: 0s - loss: 0.3513\n",
      "Epoch 00006: loss improved from 0.35417 to 0.35133, saving model to model_save/weights-06-0.3513.hdf5\n",
      "209/209 [==============================] - 124s 592ms/step - loss: 0.3513 - val_loss: 0.3152\n",
      "Epoch 7/10\n",
      "209/209 [==============================] - ETA: 0s - loss: 0.3488\n",
      "Epoch 00007: loss improved from 0.35133 to 0.34880, saving model to model_save/weights-07-0.3488.hdf5\n",
      "209/209 [==============================] - 124s 594ms/step - loss: 0.3488 - val_loss: 0.3161\n",
      "Epoch 8/10\n",
      "209/209 [==============================] - ETA: 0s - loss: 0.3464\n",
      "Epoch 00008: loss improved from 0.34880 to 0.34644, saving model to model_save/weights-08-0.3464.hdf5\n",
      "209/209 [==============================] - 124s 595ms/step - loss: 0.3464 - val_loss: 0.3169\n",
      "Epoch 9/10\n",
      "209/209 [==============================] - ETA: 0s - loss: 0.3438\n",
      "Epoch 00009: loss improved from 0.34644 to 0.34378, saving model to model_save/weights-09-0.3438.hdf5\n",
      "209/209 [==============================] - 124s 594ms/step - loss: 0.3438 - val_loss: 0.3188\n",
      "Epoch 10/10\n",
      "209/209 [==============================] - ETA: 0s - loss: 0.3415\n",
      "Epoch 00010: loss improved from 0.34378 to 0.34152, saving model to model_save/weights-10-0.3415.hdf5\n",
      "209/209 [==============================] - 124s 593ms/step - loss: 0.3415 - val_loss: 0.3163\n"
     ]
    }
   ],
   "source": [
    "tf.keras.backend.clear_session()\n",
    "\n",
    "#Set Parameters\n",
    "BATCH_SIZE = 512\n",
    "epochs = 10\n",
    "\n",
    "#Model compile\n",
    "model.compile(optimizer=tf.keras.optimizers.Adam(0.01),loss=loss_function)\n",
    "\n",
    "#Save intermediate model callback\n",
    "filepath=\"model_save/weights-{epoch:02d}-{loss:.4f}.hdf5\"\n",
    "checkpoint = ModelCheckpoint(filepath=filepath, monitor='loss', verbose=1, save_best_only=True, mode='min')\n",
    "\n",
    "#Tensorboard\n",
    "log_dir=\"logs/\" + datetime.datetime.now().strftime(\"%Y%m%d-%H%M%S\")\n",
    "tensorboard_callback = TensorBoard(log_dir=log_dir,histogram_freq=1, write_graph=True)\n",
    "\n",
    "#Data generator\n",
    "train = data_generator((X_train_padded_docs,y_train_padded_docs),y_train_padded_docs[:,1:],BATCH_SIZE=BATCH_SIZE,shuffle=True)\n",
    "val = data_generator((X_val_padded_docs,y_val_padded_docs),y_val_padded_docs[:,1:],BATCH_SIZE=BATCH_SIZE,shuffle=False)\n",
    "\n",
    "#Train model\n",
    "history2 = model.fit(train,epochs=epochs,validation_data=val,callbacks=callback_list)"
   ]
  },
  {
   "cell_type": "code",
   "execution_count": 29,
   "metadata": {
    "colab": {
     "base_uri": "https://localhost:8080/",
     "height": 34
    },
    "colab_type": "code",
    "id": "vjXvi7q13Piy",
    "outputId": "30197ae8-95cc-4029-e83c-be3d66097e4d"
   },
   "outputs": [
    {
     "data": {
      "text/plain": [
       "['history2']"
      ]
     },
     "execution_count": 29,
     "metadata": {
      "tags": []
     },
     "output_type": "execute_result"
    }
   ],
   "source": [
    "joblib.dump(history2.history,'history2')"
   ]
  },
  {
   "cell_type": "code",
   "execution_count": 0,
   "metadata": {
    "colab": {},
    "colab_type": "code",
    "id": "EGq6nEVf3Pi1"
   },
   "outputs": [],
   "source": [
    "#Save weights\n",
    "model.save_weights('best_model2.h5')"
   ]
  },
  {
   "cell_type": "code",
   "execution_count": 0,
   "metadata": {
    "colab": {},
    "colab_type": "code",
    "id": "2M3_GIicwlsP"
   },
   "outputs": [],
   "source": [
    "model.load_weights('best_model2.h5')"
   ]
  },
  {
   "cell_type": "code",
   "execution_count": 32,
   "metadata": {
    "colab": {
     "base_uri": "https://localhost:8080/",
     "height": 1000
    },
    "colab_type": "code",
    "id": "zhfZx9hrVAvW",
    "outputId": "7510c375-c22b-4af7-dcec-61528b9703c7"
   },
   "outputs": [
    {
     "name": "stdout",
     "output_type": "stream",
     "text": [
      "Epoch 1/30\n",
      "  2/209 [..............................] - ETA: 5:51 - loss: 0.3552WARNING:tensorflow:Method (on_train_batch_end) is slow compared to the batch update (1.450427). Check your callbacks.\n",
      "209/209 [==============================] - ETA: 0s - loss: 0.3253\n",
      "Epoch 00001: loss improved from inf to 0.32529, saving model to model_save/weights-01-0.3253.hdf5\n",
      "209/209 [==============================] - 151s 721ms/step - loss: 0.3253 - val_loss: 0.2953\n",
      "Epoch 2/30\n",
      "209/209 [==============================] - ETA: 0s - loss: 0.3130\n",
      "Epoch 00002: loss improved from 0.32529 to 0.31297, saving model to model_save/weights-02-0.3130.hdf5\n",
      "209/209 [==============================] - 125s 596ms/step - loss: 0.3130 - val_loss: 0.2938\n",
      "Epoch 3/30\n",
      "209/209 [==============================] - ETA: 0s - loss: 0.3086\n",
      "Epoch 00003: loss improved from 0.31297 to 0.30855, saving model to model_save/weights-03-0.3086.hdf5\n",
      "209/209 [==============================] - 124s 596ms/step - loss: 0.3086 - val_loss: 0.2929\n",
      "Epoch 4/30\n",
      "209/209 [==============================] - ETA: 0s - loss: 0.3054\n",
      "Epoch 00004: loss improved from 0.30855 to 0.30543, saving model to model_save/weights-04-0.3054.hdf5\n",
      "209/209 [==============================] - 125s 596ms/step - loss: 0.3054 - val_loss: 0.2927\n",
      "Epoch 5/30\n",
      "209/209 [==============================] - ETA: 0s - loss: 0.3029\n",
      "Epoch 00005: loss improved from 0.30543 to 0.30287, saving model to model_save/weights-05-0.3029.hdf5\n",
      "209/209 [==============================] - 125s 596ms/step - loss: 0.3029 - val_loss: 0.2926\n",
      "Epoch 6/30\n",
      "209/209 [==============================] - ETA: 0s - loss: 0.3011\n",
      "Epoch 00006: loss improved from 0.30287 to 0.30107, saving model to model_save/weights-06-0.3011.hdf5\n",
      "209/209 [==============================] - 125s 596ms/step - loss: 0.3011 - val_loss: 0.2924\n",
      "Epoch 7/30\n",
      "209/209 [==============================] - ETA: 0s - loss: 0.2991\n",
      "Epoch 00007: loss improved from 0.30107 to 0.29914, saving model to model_save/weights-07-0.2991.hdf5\n",
      "209/209 [==============================] - 125s 597ms/step - loss: 0.2991 - val_loss: 0.2923\n",
      "Epoch 8/30\n",
      "209/209 [==============================] - ETA: 0s - loss: 0.2974\n",
      "Epoch 00008: loss improved from 0.29914 to 0.29740, saving model to model_save/weights-08-0.2974.hdf5\n",
      "209/209 [==============================] - 125s 597ms/step - loss: 0.2974 - val_loss: 0.2923\n",
      "Epoch 9/30\n",
      "209/209 [==============================] - ETA: 0s - loss: 0.2958\n",
      "Epoch 00009: loss improved from 0.29740 to 0.29585, saving model to model_save/weights-09-0.2958.hdf5\n",
      "209/209 [==============================] - 125s 598ms/step - loss: 0.2958 - val_loss: 0.2921\n",
      "Epoch 10/30\n",
      "209/209 [==============================] - ETA: 0s - loss: 0.2944\n",
      "Epoch 00010: loss improved from 0.29585 to 0.29439, saving model to model_save/weights-10-0.2944.hdf5\n",
      "209/209 [==============================] - 125s 597ms/step - loss: 0.2944 - val_loss: 0.2922\n",
      "Epoch 11/30\n",
      "209/209 [==============================] - ETA: 0s - loss: 0.2930\n",
      "Epoch 00011: loss improved from 0.29439 to 0.29305, saving model to model_save/weights-11-0.2930.hdf5\n",
      "209/209 [==============================] - 125s 598ms/step - loss: 0.2930 - val_loss: 0.2920\n",
      "Epoch 12/30\n",
      "209/209 [==============================] - ETA: 0s - loss: 0.2916\n",
      "Epoch 00012: loss improved from 0.29305 to 0.29157, saving model to model_save/weights-12-0.2916.hdf5\n",
      "209/209 [==============================] - 124s 594ms/step - loss: 0.2916 - val_loss: 0.2924\n",
      "Epoch 13/30\n",
      "209/209 [==============================] - ETA: 0s - loss: 0.2905\n",
      "Epoch 00013: loss improved from 0.29157 to 0.29050, saving model to model_save/weights-13-0.2905.hdf5\n",
      "209/209 [==============================] - 124s 595ms/step - loss: 0.2905 - val_loss: 0.2923\n",
      "Epoch 14/30\n",
      "209/209 [==============================] - ETA: 0s - loss: 0.2894\n",
      "Epoch 00014: loss improved from 0.29050 to 0.28939, saving model to model_save/weights-14-0.2894.hdf5\n",
      "209/209 [==============================] - 125s 596ms/step - loss: 0.2894 - val_loss: 0.2924\n",
      "Epoch 15/30\n",
      "209/209 [==============================] - ETA: 0s - loss: 0.2882\n",
      "Epoch 00015: loss improved from 0.28939 to 0.28825, saving model to model_save/weights-15-0.2882.hdf5\n",
      "209/209 [==============================] - 125s 599ms/step - loss: 0.2882 - val_loss: 0.2924\n",
      "Epoch 16/30\n",
      "209/209 [==============================] - ETA: 0s - loss: 0.2872\n",
      "Epoch 00016: loss improved from 0.28825 to 0.28722, saving model to model_save/weights-16-0.2872.hdf5\n",
      "209/209 [==============================] - 125s 596ms/step - loss: 0.2872 - val_loss: 0.2925\n",
      "Epoch 17/30\n",
      "209/209 [==============================] - ETA: 0s - loss: 0.2860\n",
      "Epoch 00017: loss improved from 0.28722 to 0.28600, saving model to model_save/weights-17-0.2860.hdf5\n",
      "209/209 [==============================] - 125s 596ms/step - loss: 0.2860 - val_loss: 0.2927\n",
      "Epoch 18/30\n",
      "209/209 [==============================] - ETA: 0s - loss: 0.2852\n",
      "Epoch 00018: loss improved from 0.28600 to 0.28516, saving model to model_save/weights-18-0.2852.hdf5\n",
      "209/209 [==============================] - 125s 596ms/step - loss: 0.2852 - val_loss: 0.2929\n",
      "Epoch 19/30\n",
      "209/209 [==============================] - ETA: 0s - loss: 0.2841\n",
      "Epoch 00019: loss improved from 0.28516 to 0.28406, saving model to model_save/weights-19-0.2841.hdf5\n",
      "Restoring model weights from the end of the best epoch.\n",
      "209/209 [==============================] - 125s 600ms/step - loss: 0.2841 - val_loss: 0.2930\n",
      "Epoch 00019: early stopping\n"
     ]
    }
   ],
   "source": [
    "tf.keras.backend.clear_session()\n",
    "\n",
    "#Set Parameters\n",
    "BATCH_SIZE = 512\n",
    "epochs = 30\n",
    "\n",
    "#Model compile\n",
    "model.compile(optimizer=tf.keras.optimizers.Adam(0.001),loss=loss_function)\n",
    "\n",
    "#Save intermediate model callback\n",
    "filepath=\"model_save/weights-{epoch:02d}-{loss:.4f}.hdf5\"\n",
    "checkpoint = ModelCheckpoint(filepath=filepath, monitor='loss', verbose=1, save_best_only=True, mode='min')\n",
    "\n",
    "#Stop training if val_loss does not decrease in last 8 epochs\n",
    "terminate = EarlyStopping(monitor='val_loss',patience=8,verbose=1,mode='min',restore_best_weights=True)\n",
    "\n",
    "#Tensorboard\n",
    "log_dir=\"logs/\" + datetime.datetime.now().strftime(\"%Y%m%d-%H%M%S\")\n",
    "tensorboard_callback = TensorBoard(log_dir=log_dir,histogram_freq=1, write_graph=True)\n",
    "\n",
    "#Callback list\n",
    "callback_list = [checkpoint,terminate,tensorboard_callback]\n",
    "\n",
    "#Data generator\n",
    "train = data_generator((X_train_padded_docs,y_train_padded_docs),y_train_padded_docs[:,1:],BATCH_SIZE=BATCH_SIZE,shuffle=True)\n",
    "val = data_generator((X_val_padded_docs,y_val_padded_docs),y_val_padded_docs[:,1:],BATCH_SIZE=BATCH_SIZE,shuffle=False)\n",
    "\n",
    "#Train model\n",
    "history3 = model.fit(train,epochs=epochs,validation_data=val,callbacks=callback_list)"
   ]
  },
  {
   "cell_type": "code",
   "execution_count": 33,
   "metadata": {
    "colab": {
     "base_uri": "https://localhost:8080/",
     "height": 34
    },
    "colab_type": "code",
    "id": "170_lQosVAtq",
    "outputId": "abd93835-42da-47c8-9c08-60fbf787ba3b"
   },
   "outputs": [
    {
     "data": {
      "text/plain": [
       "['history3']"
      ]
     },
     "execution_count": 33,
     "metadata": {
      "tags": []
     },
     "output_type": "execute_result"
    }
   ],
   "source": [
    "joblib.dump(history3.history,'history3')"
   ]
  },
  {
   "cell_type": "code",
   "execution_count": 0,
   "metadata": {
    "colab": {},
    "colab_type": "code",
    "id": "oIQ5qtfgVAsN"
   },
   "outputs": [],
   "source": [
    "#Save weights\n",
    "model.save_weights('best_model3.h5')"
   ]
  },
  {
   "cell_type": "code",
   "execution_count": 35,
   "metadata": {
    "colab": {
     "base_uri": "https://localhost:8080/",
     "height": 1000
    },
    "colab_type": "code",
    "id": "OkAh1RN45D2A",
    "outputId": "f86cc43b-041a-4f6f-8d62-1fe5cfed59b4"
   },
   "outputs": [
    {
     "name": "stdout",
     "output_type": "stream",
     "text": [
      "Epoch 1/30\n",
      "  2/209 [..............................] - ETA: 6:00 - loss: 0.3154WARNING:tensorflow:Method (on_train_batch_end) is slow compared to the batch update (1.493787). Check your callbacks.\n",
      "209/209 [==============================] - ETA: 0s - loss: 0.2884\n",
      "Epoch 00001: loss improved from inf to 0.28844, saving model to model_save/weights-01-0.2884.hdf5\n",
      "209/209 [==============================] - 151s 722ms/step - loss: 0.2884 - val_loss: 0.2911 - lr: 1.0000e-04\n",
      "Epoch 2/30\n",
      "209/209 [==============================] - ETA: 0s - loss: 0.2871\n",
      "Epoch 00002: loss improved from 0.28844 to 0.28713, saving model to model_save/weights-02-0.2871.hdf5\n",
      "209/209 [==============================] - 125s 596ms/step - loss: 0.2871 - val_loss: 0.2909 - lr: 1.0000e-04\n",
      "Epoch 3/30\n",
      "209/209 [==============================] - ETA: 0s - loss: 0.2867\n",
      "Epoch 00003: loss improved from 0.28713 to 0.28666, saving model to model_save/weights-03-0.2867.hdf5\n",
      "209/209 [==============================] - 125s 597ms/step - loss: 0.2867 - val_loss: 0.2908 - lr: 1.0000e-04\n",
      "Epoch 4/30\n",
      "209/209 [==============================] - ETA: 0s - loss: 0.2863\n",
      "Epoch 00004: loss improved from 0.28666 to 0.28630, saving model to model_save/weights-04-0.2863.hdf5\n",
      "209/209 [==============================] - 125s 596ms/step - loss: 0.2863 - val_loss: 0.2908 - lr: 1.0000e-04\n",
      "Epoch 5/30\n",
      "209/209 [==============================] - ETA: 0s - loss: 0.2859\n",
      "Epoch 00005: loss improved from 0.28630 to 0.28593, saving model to model_save/weights-05-0.2859.hdf5\n",
      "209/209 [==============================] - 125s 597ms/step - loss: 0.2859 - val_loss: 0.2908 - lr: 1.0000e-04\n",
      "Epoch 6/30\n",
      "209/209 [==============================] - ETA: 0s - loss: 0.2856\n",
      "Epoch 00006: loss improved from 0.28593 to 0.28560, saving model to model_save/weights-06-0.2856.hdf5\n",
      "\n",
      "Epoch 00006: ReduceLROnPlateau reducing learning rate to 8.999999772640876e-05.\n",
      "209/209 [==============================] - 125s 597ms/step - loss: 0.2856 - val_loss: 0.2908 - lr: 1.0000e-04\n",
      "Epoch 7/30\n",
      "209/209 [==============================] - ETA: 0s - loss: 0.2856\n",
      "Epoch 00007: loss improved from 0.28560 to 0.28559, saving model to model_save/weights-07-0.2856.hdf5\n",
      "209/209 [==============================] - 126s 601ms/step - loss: 0.2856 - val_loss: 0.2908 - lr: 9.0000e-05\n",
      "Epoch 8/30\n",
      "209/209 [==============================] - ETA: 0s - loss: 0.2854\n",
      "Epoch 00008: loss improved from 0.28559 to 0.28543, saving model to model_save/weights-08-0.2854.hdf5\n",
      "\n",
      "Epoch 00008: ReduceLROnPlateau reducing learning rate to 8.100000122794882e-05.\n",
      "209/209 [==============================] - 125s 598ms/step - loss: 0.2854 - val_loss: 0.2908 - lr: 9.0000e-05\n",
      "Epoch 9/30\n",
      "209/209 [==============================] - ETA: 0s - loss: 0.2852\n",
      "Epoch 00009: loss improved from 0.28543 to 0.28518, saving model to model_save/weights-09-0.2852.hdf5\n",
      "209/209 [==============================] - 126s 603ms/step - loss: 0.2852 - val_loss: 0.2907 - lr: 8.1000e-05\n",
      "Epoch 10/30\n",
      "209/209 [==============================] - ETA: 0s - loss: 0.2852\n",
      "Epoch 00010: loss did not improve from 0.28518\n",
      "\n",
      "Epoch 00010: ReduceLROnPlateau reducing learning rate to 7.289999848580919e-05.\n",
      "209/209 [==============================] - 125s 599ms/step - loss: 0.2852 - val_loss: 0.2907 - lr: 8.1000e-05\n",
      "Epoch 11/30\n",
      "209/209 [==============================] - ETA: 0s - loss: 0.2849\n",
      "Epoch 00011: loss improved from 0.28518 to 0.28490, saving model to model_save/weights-11-0.2849.hdf5\n",
      "209/209 [==============================] - 125s 597ms/step - loss: 0.2849 - val_loss: 0.2907 - lr: 7.2900e-05\n",
      "Epoch 12/30\n",
      "209/209 [==============================] - ETA: 0s - loss: 0.2847\n",
      "Epoch 00012: loss improved from 0.28490 to 0.28472, saving model to model_save/weights-12-0.2847.hdf5\n",
      "\n",
      "Epoch 00012: ReduceLROnPlateau reducing learning rate to 6.56100019114092e-05.\n",
      "209/209 [==============================] - 125s 597ms/step - loss: 0.2847 - val_loss: 0.2907 - lr: 7.2900e-05\n",
      "Epoch 13/30\n",
      "209/209 [==============================] - ETA: 0s - loss: 0.2845\n",
      "Epoch 00013: loss improved from 0.28472 to 0.28453, saving model to model_save/weights-13-0.2845.hdf5\n",
      "209/209 [==============================] - 125s 599ms/step - loss: 0.2845 - val_loss: 0.2907 - lr: 6.5610e-05\n",
      "Epoch 14/30\n",
      "209/209 [==============================] - ETA: 0s - loss: 0.2845\n",
      "Epoch 00014: loss improved from 0.28453 to 0.28452, saving model to model_save/weights-14-0.2845.hdf5\n",
      "\n",
      "Epoch 00014: ReduceLROnPlateau reducing learning rate to 5.904900172026828e-05.\n",
      "209/209 [==============================] - 126s 604ms/step - loss: 0.2845 - val_loss: 0.2907 - lr: 6.5610e-05\n",
      "Epoch 15/30\n",
      "209/209 [==============================] - ETA: 0s - loss: 0.2844\n",
      "Epoch 00015: loss improved from 0.28452 to 0.28438, saving model to model_save/weights-15-0.2844.hdf5\n",
      "209/209 [==============================] - 126s 602ms/step - loss: 0.2844 - val_loss: 0.2907 - lr: 5.9049e-05\n",
      "Epoch 16/30\n",
      "209/209 [==============================] - ETA: 0s - loss: 0.2843\n",
      "Epoch 00016: loss improved from 0.28438 to 0.28429, saving model to model_save/weights-16-0.2843.hdf5\n",
      "\n",
      "Epoch 00016: ReduceLROnPlateau reducing learning rate to 5.314410154824145e-05.\n",
      "209/209 [==============================] - 126s 602ms/step - loss: 0.2843 - val_loss: 0.2907 - lr: 5.9049e-05\n",
      "Epoch 17/30\n",
      "209/209 [==============================] - ETA: 0s - loss: 0.2842\n",
      "Epoch 00017: loss improved from 0.28429 to 0.28420, saving model to model_save/weights-17-0.2842.hdf5\n",
      "209/209 [==============================] - 126s 602ms/step - loss: 0.2842 - val_loss: 0.2908 - lr: 5.3144e-05\n",
      "Epoch 18/30\n",
      "209/209 [==============================] - ETA: 0s - loss: 0.2842\n",
      "Epoch 00018: loss improved from 0.28420 to 0.28419, saving model to model_save/weights-18-0.2842.hdf5\n",
      "\n",
      "Epoch 00018: ReduceLROnPlateau reducing learning rate to 4.7829690083744934e-05.\n",
      "209/209 [==============================] - 126s 602ms/step - loss: 0.2842 - val_loss: 0.2907 - lr: 5.3144e-05\n",
      "Epoch 19/30\n",
      "209/209 [==============================] - ETA: 0s - loss: 0.2841\n",
      "Epoch 00019: loss improved from 0.28419 to 0.28406, saving model to model_save/weights-19-0.2841.hdf5\n",
      "209/209 [==============================] - 125s 598ms/step - loss: 0.2841 - val_loss: 0.2908 - lr: 4.7830e-05\n",
      "Epoch 20/30\n",
      "209/209 [==============================] - ETA: 0s - loss: 0.2839\n",
      "Epoch 00020: loss improved from 0.28406 to 0.28393, saving model to model_save/weights-20-0.2839.hdf5\n",
      "\n",
      "Epoch 00020: ReduceLROnPlateau reducing learning rate to 4.304672074795235e-05.\n",
      "Restoring model weights from the end of the best epoch.\n",
      "209/209 [==============================] - 125s 599ms/step - loss: 0.2839 - val_loss: 0.2907 - lr: 4.7830e-05\n",
      "Epoch 00020: early stopping\n"
     ]
    }
   ],
   "source": [
    "tf.keras.backend.clear_session()\n",
    "\n",
    "#Set Parameters\n",
    "BATCH_SIZE = 512\n",
    "epochs = 30\n",
    "\n",
    "#Model compile\n",
    "model.compile(optimizer=tf.keras.optimizers.RMSprop(0.0001),loss=loss_function)\n",
    "\n",
    "#Save intermediate model callback\n",
    "filepath=\"model_save/weights-{epoch:02d}-{loss:.4f}.hdf5\"\n",
    "checkpoint = ModelCheckpoint(filepath=filepath, monitor='loss', verbose=1, save_best_only=True, mode='min')\n",
    "\n",
    "#Reduce learning rate by 10% if validation loss does not decrease from last 2 epochs\n",
    "reduce_lr = ReduceLROnPlateau(monitor='val_loss', factor=0.9, verbose=1, patience=2,min_lr=0.00001)\n",
    "\n",
    "#Stop training if val_loss does not decrease in last 8 epochs\n",
    "terminate = EarlyStopping(monitor='val_loss',patience=8,verbose=1,mode='min',restore_best_weights=True)\n",
    "\n",
    "#Tensorboard\n",
    "log_dir=\"logs/\" + datetime.datetime.now().strftime(\"%Y%m%d-%H%M%S\")\n",
    "tensorboard_callback = TensorBoard(log_dir=log_dir,histogram_freq=1, write_graph=True)\n",
    "\n",
    "#Callback list\n",
    "callback_list = [checkpoint,reduce_lr,terminate,tensorboard_callback]\n",
    "\n",
    "#Data generator\n",
    "train = data_generator((X_train_padded_docs,y_train_padded_docs),y_train_padded_docs[:,1:],BATCH_SIZE=BATCH_SIZE,shuffle=True)\n",
    "val = data_generator((X_val_padded_docs,y_val_padded_docs),y_val_padded_docs[:,1:],BATCH_SIZE=BATCH_SIZE,shuffle=False)\n",
    "\n",
    "#Train model\n",
    "history4 = model.fit(train,epochs=epochs,validation_data=val,callbacks=callback_list)"
   ]
  },
  {
   "cell_type": "code",
   "execution_count": 36,
   "metadata": {
    "colab": {
     "base_uri": "https://localhost:8080/",
     "height": 34
    },
    "colab_type": "code",
    "id": "5bWxWJqb5Dzs",
    "outputId": "52663655-1a06-4d74-aea1-ce45ede1dc8f"
   },
   "outputs": [
    {
     "data": {
      "text/plain": [
       "['history4']"
      ]
     },
     "execution_count": 36,
     "metadata": {
      "tags": []
     },
     "output_type": "execute_result"
    }
   ],
   "source": [
    "joblib.dump(history4.history,'history4')"
   ]
  },
  {
   "cell_type": "code",
   "execution_count": 0,
   "metadata": {
    "colab": {},
    "colab_type": "code",
    "id": "7H1cTYu75Duh"
   },
   "outputs": [],
   "source": [
    "#Save weights\n",
    "model.save_weights('best_model4.h5')"
   ]
  },
  {
   "cell_type": "code",
   "execution_count": 0,
   "metadata": {
    "colab": {},
    "colab_type": "code",
    "id": "sqNXppQdRtZI"
   },
   "outputs": [],
   "source": [
    "h1 = joblib.load('history1')\n",
    "h2 = joblib.load('history2')\n",
    "h3 = joblib.load('history3')\n",
    "h4 = joblib.load('history4')"
   ]
  },
  {
   "cell_type": "code",
   "execution_count": 0,
   "metadata": {
    "colab": {},
    "colab_type": "code",
    "id": "JRv5nhtcRyaz"
   },
   "outputs": [],
   "source": [
    "loss = h1['loss']+h2['loss']+h3['loss']+h4['loss']\n",
    "val_loss = h1['val_loss']+h2['val_loss']+h3['val_loss']+h4['val_loss']"
   ]
  },
  {
   "cell_type": "code",
   "execution_count": 41,
   "metadata": {
    "colab": {
     "base_uri": "https://localhost:8080/",
     "height": 312
    },
    "colab_type": "code",
    "id": "-3JnSRmPRyZL",
    "outputId": "b386976c-3706-45e8-ea0a-80b89aea296a"
   },
   "outputs": [
    {
     "data": {
      "text/plain": [
       "Text(0.5, 1.0, 'Loss Vs No of epochs')"
      ]
     },
     "execution_count": 41,
     "metadata": {
      "tags": []
     },
     "output_type": "execute_result"
    },
    {
     "data": {
      "image/png": "[encoded data removed]",
      "text/plain": [
       "<Figure size 432x288 with 1 Axes>"
      ]
     },
     "metadata": {
      "needs_background": "light",
      "tags": []
     },
     "output_type": "display_data"
    }
   ],
   "source": [
    "plt.plot(loss,label='Training loss')\n",
    "plt.plot(val_loss, label='Validation loss')\n",
    "plt.legend()\n",
    "plt.grid()\n",
    "plt.xlabel('No of epochs')\n",
    "plt.ylabel('Loss')\n",
    "plt.title('Loss Vs No of epochs')"
   ]
  },
  {
   "cell_type": "code",
   "execution_count": 0,
   "metadata": {
    "colab": {},
    "colab_type": "code",
    "id": "mvvc3q93L7In"
   },
   "outputs": [],
   "source": [
    "#Generate 1000 random samples from train and val data\n",
    "#Train data\n",
    "train_index = []\n",
    "for i in range(X_train_padded_docs.shape[0]):\n",
    "    if np.count_nonzero(X_train_padded_docs[i]!=0)>10:\n",
    "        train_index.append(i)\n",
    "train_index = random.sample(train_index,1000)\n",
    "\n",
    "#Validation data\n",
    "#Train data\n",
    "val_index = []\n",
    "for i in range(X_val_padded_docs.shape[0]):\n",
    "    if np.count_nonzero(X_val_padded_docs[i]!=0)>10:\n",
    "        val_index.append(i)\n",
    "val_index = random.sample(val_index,1000)"
   ]
  },
  {
   "cell_type": "code",
   "execution_count": 68,
   "metadata": {
    "colab": {
     "base_uri": "https://localhost:8080/",
     "height": 706
    },
    "colab_type": "code",
    "id": "muqMywldL7Iq",
    "outputId": "7d9bacf5-9ed7-4c6a-d24d-9ed165af77fa",
    "scrolled": false
   },
   "outputs": [
    {
     "name": "stderr",
     "output_type": "stream",
     "text": [
      "101it [00:17,  6.68it/s]"
     ]
    },
    {
     "name": "stdout",
     "output_type": "stream",
     "text": [
      "Input sentence: # again any questions comm *\n",
      "Actual words: # ents concerns let me know *\n",
      "Predicted words: # ents concerns *\n",
      "------------------------------------------------------------------------------------------\n"
     ]
    },
    {
     "name": "stderr",
     "output_type": "stream",
     "text": [
      "199it [00:35,  3.33it/s]"
     ]
    },
    {
     "name": "stdout",
     "output_type": "stream",
     "text": [
      "Input sentence: # please contact me with any concern *\n",
      "Actual words: # s or questions *\n",
      "Predicted words: # s *\n",
      "------------------------------------------------------------------------------------------\n"
     ]
    },
    {
     "name": "stderr",
     "output_type": "stream",
     "text": [
      "300it [00:55,  5.20it/s]"
     ]
    },
    {
     "name": "stdout",
     "output_type": "stream",
     "text": [
      "Input sentence: # do not worry about having *\n",
      "Actual words: #  to have a gift ready *\n",
      "Predicted words: #  to have a great *\n",
      "------------------------------------------------------------------------------------------\n"
     ]
    },
    {
     "name": "stderr",
     "output_type": "stream",
     "text": [
      "400it [01:13,  4.96it/s]"
     ]
    },
    {
     "name": "stdout",
     "output_type": "stream",
     "text": [
      "Input sentence: # i have all his  *\n",
      "Actual words: # information if you need it *\n",
      "Predicted words: # sure you are coming *\n",
      "------------------------------------------------------------------------------------------\n"
     ]
    },
    {
     "name": "stderr",
     "output_type": "stream",
     "text": [
      "501it [01:30,  5.44it/s]"
     ]
    },
    {
     "name": "stdout",
     "output_type": "stream",
     "text": [
      "Input sentence: # under the ap *\n",
      "Actual words: # propriate desk of course *\n",
      "Predicted words: # preciated to the company *\n",
      "------------------------------------------------------------------------------------------\n"
     ]
    },
    {
     "name": "stderr",
     "output_type": "stream",
     "text": [
      "600it [01:47,  6.95it/s]"
     ]
    },
    {
     "name": "stdout",
     "output_type": "stream",
     "text": [
      "Input sentence: # we are trying to  *\n",
      "Actual words: # schedule this gas for today *\n",
      "Predicted words: # the morning *\n",
      "------------------------------------------------------------------------------------------\n"
     ]
    },
    {
     "name": "stderr",
     "output_type": "stream",
     "text": [
      "700it [02:06,  4.61it/s]"
     ]
    },
    {
     "name": "stdout",
     "output_type": "stream",
     "text": [
      "Input sentence: # there never w *\n",
      "Actual words: # as any deregulation *\n",
      "Predicted words: # e have a good time *\n",
      "------------------------------------------------------------------------------------------\n"
     ]
    },
    {
     "name": "stderr",
     "output_type": "stream",
     "text": [
      "801it [02:25,  6.55it/s]"
     ]
    },
    {
     "name": "stdout",
     "output_type": "stream",
     "text": [
      "Input sentence: # please let me know how this works for y *\n",
      "Actual words: # ou *\n",
      "Predicted words: # ou *\n",
      "------------------------------------------------------------------------------------------\n"
     ]
    },
    {
     "name": "stderr",
     "output_type": "stream",
     "text": [
      "900it [02:43,  5.16it/s]"
     ]
    },
    {
     "name": "stdout",
     "output_type": "stream",
     "text": [
      "Input sentence: # great that he could come over *\n",
      "Actual words: #  and visit *\n",
      "Predicted words: #  the problems *\n",
      "------------------------------------------------------------------------------------------\n"
     ]
    },
    {
     "name": "stderr",
     "output_type": "stream",
     "text": [
      "1000it [03:04,  5.43it/s]"
     ]
    },
    {
     "name": "stdout",
     "output_type": "stream",
     "text": [
      "Input sentence: # let me know if you ha *\n",
      "Actual words: # ve comments or concerns *\n",
      "Predicted words: # ve any questions *\n",
      "------------------------------------------------------------------------------------------\n"
     ]
    },
    {
     "name": "stderr",
     "output_type": "stream",
     "text": [
      "\n"
     ]
    }
   ],
   "source": [
    "#For train data, actual and predicted words\n",
    "train_bleu_list = []\n",
    "counter = 0\n",
    "for i,j in tqdm(zip(X_train_padded_docs[train_index,:],y_train_padded_docs[train_index,:])):\n",
    "    counter+=1\n",
    "    inp, a, p, bleu = get_bleu_score(model,i,j)\n",
    "    train_bleu_list.append(bleu)\n",
    "    #Print some actual and predicted words\n",
    "    if counter%100==0:\n",
    "        print('Input sentence:',inp)\n",
    "        print('Actual words:',a)\n",
    "        print('Predicted words:',p)\n",
    "        print(90*'-')"
   ]
  },
  {
   "cell_type": "code",
   "execution_count": 69,
   "metadata": {
    "colab": {
     "base_uri": "https://localhost:8080/",
     "height": 706
    },
    "colab_type": "code",
    "id": "o2B9_PCSL7Is",
    "outputId": "388790e1-d71e-45ad-8dd0-bdae8e38ab10"
   },
   "outputs": [
    {
     "name": "stderr",
     "output_type": "stream",
     "text": [
      "100it [00:16,  6.05it/s]"
     ]
    },
    {
     "name": "stdout",
     "output_type": "stream",
     "text": [
      "Input sentence: # we apologize for the late distribution th *\n",
      "Actual words: # is month *\n",
      "Predicted words: # e past *\n",
      "------------------------------------------------------------------------------------------\n"
     ]
    },
    {
     "name": "stderr",
     "output_type": "stream",
     "text": [
      "201it [00:32,  8.35it/s]"
     ]
    },
    {
     "name": "stdout",
     "output_type": "stream",
     "text": [
      "Input sentence: # i am not asking for approva *\n",
      "Actual words: # l to do this *\n",
      "Predicted words: # ted *\n",
      "------------------------------------------------------------------------------------------\n"
     ]
    },
    {
     "name": "stderr",
     "output_type": "stream",
     "text": [
      "300it [00:49,  4.04it/s]"
     ]
    },
    {
     "name": "stdout",
     "output_type": "stream",
     "text": [
      "Input sentence: # i definitely *\n",
      "Actual words: #  need to meet some new people *\n",
      "Predicted words: #  they are the past on the same *\n",
      "------------------------------------------------------------------------------------------\n"
     ]
    },
    {
     "name": "stderr",
     "output_type": "stream",
     "text": [
      "401it [01:07,  6.10it/s]"
     ]
    },
    {
     "name": "stdout",
     "output_type": "stream",
     "text": [
      "Input sentence: # i will have her cont *\n",
      "Actual words: # act you later today *\n",
      "Predicted words: # inue to you *\n",
      "------------------------------------------------------------------------------------------\n"
     ]
    },
    {
     "name": "stderr",
     "output_type": "stream",
     "text": [
      "502it [01:24,  6.65it/s]"
     ]
    },
    {
     "name": "stdout",
     "output_type": "stream",
     "text": [
      "Input sentence: # we will not accept such orders or i *\n",
      "Actual words: # nstructions *\n",
      "Predicted words: # n the online *\n",
      "------------------------------------------------------------------------------------------\n"
     ]
    },
    {
     "name": "stderr",
     "output_type": "stream",
     "text": [
      "600it [01:42,  6.14it/s]"
     ]
    },
    {
     "name": "stdout",
     "output_type": "stream",
     "text": [
      "Input sentence: # let me know the final reso *\n",
      "Actual words: # lution on this one *\n",
      "Predicted words: # lve *\n",
      "------------------------------------------------------------------------------------------\n"
     ]
    },
    {
     "name": "stderr",
     "output_type": "stream",
     "text": [
      "701it [01:59,  6.03it/s]"
     ]
    },
    {
     "name": "stdout",
     "output_type": "stream",
     "text": [
      "Input sentence: # after that j *\n",
      "Actual words: # ust enjoy the games *\n",
      "Predicted words: # ust story *\n",
      "------------------------------------------------------------------------------------------\n"
     ]
    },
    {
     "name": "stderr",
     "output_type": "stream",
     "text": [
      "801it [02:16,  5.87it/s]"
     ]
    },
    {
     "name": "stdout",
     "output_type": "stream",
     "text": [
      "Input sentence: # thanks so much for all your help an *\n",
      "Actual words: # d hard work *\n",
      "Predicted words: # d suggestions *\n",
      "------------------------------------------------------------------------------------------\n"
     ]
    },
    {
     "name": "stderr",
     "output_type": "stream",
     "text": [
      "901it [02:33,  5.20it/s]"
     ]
    },
    {
     "name": "stdout",
     "output_type": "stream",
     "text": [
      "Input sentence: # i received this and thought it w *\n",
      "Actual words: # as great *\n",
      "Predicted words: # ill be a completed *\n",
      "------------------------------------------------------------------------------------------\n"
     ]
    },
    {
     "name": "stderr",
     "output_type": "stream",
     "text": [
      "1000it [02:49,  5.89it/s]"
     ]
    },
    {
     "name": "stdout",
     "output_type": "stream",
     "text": [
      "Input sentence: # that is exactly what we are lookin *\n",
      "Actual words: # g for *\n",
      "Predicted words: # g *\n",
      "------------------------------------------------------------------------------------------\n"
     ]
    },
    {
     "name": "stderr",
     "output_type": "stream",
     "text": [
      "\n"
     ]
    }
   ],
   "source": [
    "#For validation data actual and predicted words\n",
    "val_bleu_list = []\n",
    "counter = 0\n",
    "for i,j in tqdm(zip(X_val_padded_docs[val_index,:],y_val_padded_docs[val_index,:])):\n",
    "    counter+=1\n",
    "    inp, a, p, bleu = get_bleu_score(model,i,j)\n",
    "    val_bleu_list.append(bleu)\n",
    "    #Print some actual and predicted words\n",
    "    if counter%100==0:\n",
    "        print('Input sentence:',inp)\n",
    "        print('Actual words:',a)\n",
    "        print('Predicted words:',p)\n",
    "        print(90*'-')"
   ]
  },
  {
   "cell_type": "code",
   "execution_count": 70,
   "metadata": {
    "colab": {
     "base_uri": "https://localhost:8080/",
     "height": 50
    },
    "colab_type": "code",
    "id": "EvU7rH7IL7Iy",
    "outputId": "845aabb6-e7e4-424d-d86f-02ec012bf77c"
   },
   "outputs": [
    {
     "name": "stdout",
     "output_type": "stream",
     "text": [
      "BLEU Score for train data of 1000 samples: 0.649\n",
      "BLEU Score for validation data of 1000 samples: 0.653\n"
     ]
    }
   ],
   "source": [
    "#Average BLEU Score for sentences\n",
    "print('BLEU Score for train data of 1000 samples:',np.round(sum(train_bleu_list)/len(train_bleu_list),3))\n",
    "print('BLEU Score for validation data of 1000 samples:',np.round(sum(val_bleu_list)/len(val_bleu_list),3))"
   ]
  },
  {
   "cell_type": "markdown",
   "metadata": {
    "colab_type": "text",
    "id": "0xqdMoy5cuFl"
   },
   "source": [
    "<h1>4. Predictions"
   ]
  },
  {
   "cell_type": "code",
   "execution_count": 0,
   "metadata": {
    "colab": {},
    "colab_type": "code",
    "id": "WgjJobuUcuFl"
   },
   "outputs": [],
   "source": [
    "def predict_sentence(enc_dec_model,input_sentence):\n",
    "    \n",
    "    #Maximum sequence length for input and target sentence\n",
    "    inp_max_length = X_train_padded_docs.shape[1]\n",
    "    out_max_length = y_train_padded_docs.shape[1]\n",
    "    \n",
    "    #Attention plot\n",
    "    attention_plot = np.zeros((inp_max_length,out_max_length))\n",
    "    \n",
    "    input_sentence = '# ' + input_sentence + ' *'\n",
    "    \n",
    "    #Convert texts to sequences\n",
    "    sent = tokenizer.texts_to_sequences([input_sentence])\n",
    "    #Pad data\n",
    "    sent = tf.keras.preprocessing.sequence.pad_sequences(sent,maxlen=inp_max_length,padding='post')\n",
    "    \n",
    "    #print('Encoder input shape (batch_size,sequence length):',sent.shape)\n",
    "    enc_outputs,enc_hidden,enc_cell = enc_dec_model.layers[0](sent)\n",
    "    #print('Encoder output shape (batch_size,sequence lengths,units):',enc_outputs.shape)\n",
    "    #print('Encoder hidden state shape (batch_size,units):',enc_hidden.shape)\n",
    "    #print('Encoder cell state shape (batch_size,units):',enc_cell.shape)\n",
    "    #print(90*'-')\n",
    "    \n",
    "    #Boundary case\n",
    "    dec_input = tf.expand_dims([tokenizer.word_index['#']], 1)\n",
    "    dec_hidden = enc_hidden\n",
    "    dec_cell = enc_cell\n",
    "    #print('Decoder input shape (batch_size,1):',dec_input.shape)\n",
    "    #print('Decoder hidden state shape (batch_size,units):',dec_hidden.shape)\n",
    "    #print('Decoder cell state shape (batch_size,units):',dec_cell.shape)\n",
    "    output_sent = ''\n",
    "    \n",
    "    for i in range(out_max_length-1):\n",
    "        #Get prediction from onestep_decoder\n",
    "        dec_output,dec_hidden,dec_cell,attention_weights = enc_dec_model.layers[1].onestep_decoder(dec_input,dec_hidden,\n",
    "                                                                                               dec_cell,enc_outputs)\n",
    "        #print('Decoder output shape (batch_size,vocab_size):',dec_output.shape)\n",
    "        #print('Decoder hidden state shape (batch_size,units):',dec_hidden.shape)\n",
    "        #print('Decoder cell state shape (batch_size,units):',dec_cell.shape)\n",
    "    \n",
    "        #Storing attention weights\n",
    "        attention_weights = tf.reshape(attention_weights,(-1,))\n",
    "        attention_plot[i] = attention_weights.numpy()\n",
    "        \n",
    "        #Extract predicted id from decoder output\n",
    "        key = tf.argmax(dec_output[0]).numpy()\n",
    "        #Get word corresponding to index\n",
    "        output_sent+=tokenizer.index_word[key]+''\n",
    "        \n",
    "        if tokenizer.index_word[key] == '*':\n",
    "            return output_sent,input_sentence,attention_plot\n",
    "        \n",
    "        #Make current decoder output as decoder input for next time step\n",
    "        dec_input = tf.expand_dims([key], 0)\n",
    "    \n",
    "    return output_sent,input_sentence,attention_plot"
   ]
  },
  {
   "cell_type": "code",
   "execution_count": 0,
   "metadata": {
    "colab": {},
    "colab_type": "code",
    "id": "bmtMX13TcuFn"
   },
   "outputs": [],
   "source": [
    "#https://www.tensorflow.org/tutorials/text/nmt_with_attention#write_the_encoder_and_decoder_model\n",
    "# function for plotting the attention weights\n",
    "def plot_attention(attention, sentence, predicted_sentence):\n",
    "    fig = plt.figure(figsize=(5,5))\n",
    "    ax = fig.add_subplot(1, 1, 1)\n",
    "    ax.matshow(attention, cmap='viridis')\n",
    "\n",
    "    fontdict = {'fontsize': 14}\n",
    "\n",
    "    ax.set_xticklabels([''] + sentence, fontdict=fontdict)\n",
    "    ax.set_yticklabels([''] + predicted_sentence, fontdict=fontdict)\n",
    "\n",
    "    ax.xaxis.set_major_locator(ticker.MultipleLocator(1))\n",
    "    ax.yaxis.set_major_locator(ticker.MultipleLocator(1))\n",
    "\n",
    "    plt.show()"
   ]
  },
  {
   "cell_type": "code",
   "execution_count": 0,
   "metadata": {
    "colab": {},
    "colab_type": "code",
    "id": "dcbDDFYHcuFp"
   },
   "outputs": [],
   "source": [
    "def generate_sentence(enc_dec_model,input_sentence):\n",
    "    #Get prediction from model\n",
    "    result,sentence,attention_plot = predict_sentence(enc_dec_model,input_sentence)\n",
    "    print('Input sentence:',sentence)\n",
    "    print('Predicted words:',result)\n",
    "    #Plot Attention plots\n",
    "    attention_plot = attention_plot[:len(list(result)),:len(list(sentence))]\n",
    "    plot_attention(attention_plot, list(sentence), list(result))"
   ]
  },
  {
   "cell_type": "code",
   "execution_count": 82,
   "metadata": {
    "colab": {
     "base_uri": "https://localhost:8080/",
     "height": 361
    },
    "colab_type": "code",
    "id": "GtnPdEIjcuFr",
    "outputId": "30200a09-790f-4d6f-d628-dc798038e32b"
   },
   "outputs": [
    {
     "name": "stdout",
     "output_type": "stream",
     "text": [
      "Input sentence: # thank you *\n",
      "Predicted words:   this weekend *\n"
     ]
    },
    {
     "data": {
      "image/png": "[encoded data removed]",
      "text/plain": [
       "<Figure size 360x360 with 1 Axes>"
      ]
     },
     "metadata": {
      "needs_background": "light",
      "tags": []
     },
     "output_type": "display_data"
    }
   ],
   "source": [
    "input_sentence = 'thank you'\n",
    "generate_sentence(model,input_sentence)"
   ]
  },
  {
   "cell_type": "code",
   "execution_count": 83,
   "metadata": {
    "colab": {
     "base_uri": "https://localhost:8080/",
     "height": 361
    },
    "colab_type": "code",
    "id": "U_HUiAXnL7KI",
    "outputId": "ff0e778b-4d32-43b4-8f0a-6469888cb345"
   },
   "outputs": [
    {
     "name": "stdout",
     "output_type": "stream",
     "text": [
      "Input sentence: # hope it *\n",
      "Predicted words:   is a while you soon *\n"
     ]
    },
    {
     "data": {
      "image/png": "[encoded data removed]",
      "text/plain": [
       "<Figure size 360x360 with 1 Axes>"
      ]
     },
     "metadata": {
      "needs_background": "light",
      "tags": []
     },
     "output_type": "display_data"
    }
   ],
   "source": [
    "input_sentence = 'hope it'\n",
    "generate_sentence(model,input_sentence)"
   ]
  },
  {
   "cell_type": "code",
   "execution_count": 84,
   "metadata": {
    "colab": {
     "base_uri": "https://localhost:8080/",
     "height": 362
    },
    "colab_type": "code",
    "id": "PrX2R0r1L7KL",
    "outputId": "1f0b891b-2fe2-4a44-b26e-2f18525d343c"
   },
   "outputs": [
    {
     "name": "stdout",
     "output_type": "stream",
     "text": [
      "Input sentence: # can you *\n",
      "Predicted words:   have any questions or concerns *\n"
     ]
    },
    {
     "data": {
      "image/png": "[encoded data removed]",
      "text/plain": [
       "<Figure size 360x360 with 1 Axes>"
      ]
     },
     "metadata": {
      "needs_background": "light",
      "tags": []
     },
     "output_type": "display_data"
    }
   ],
   "source": [
    "input_sentence = 'can you'\n",
    "generate_sentence(model,input_sentence)"
   ]
  },
  {
   "cell_type": "code",
   "execution_count": 85,
   "metadata": {
    "colab": {
     "base_uri": "https://localhost:8080/",
     "height": 362
    },
    "colab_type": "code",
    "id": "99K45xZzB-OR",
    "outputId": "9705be2a-d6b0-48be-9b0c-3d4dd5c55a7f"
   },
   "outputs": [
    {
     "name": "stdout",
     "output_type": "stream",
     "text": [
      "Input sentence: # give me *\n",
      "Predicted words:   a call if you need anything *\n"
     ]
    },
    {
     "data": {
      "image/png": "[encoded data removed]",
      "text/plain": [
       "<Figure size 360x360 with 1 Axes>"
      ]
     },
     "metadata": {
      "needs_background": "light",
      "tags": []
     },
     "output_type": "display_data"
    }
   ],
   "source": [
    "input_sentence = 'give me'\n",
    "generate_sentence(model,input_sentence)"
   ]
  },
  {
   "cell_type": "code",
   "execution_count": 86,
   "metadata": {
    "colab": {
     "base_uri": "https://localhost:8080/",
     "height": 362
    },
    "colab_type": "code",
    "id": "AfloCp7zB-G7",
    "outputId": "14d46af0-bf39-46b8-a591-8cb6f019593e"
   },
   "outputs": [
    {
     "name": "stdout",
     "output_type": "stream",
     "text": [
      "Input sentence: # are you avail *\n",
      "Predicted words:  able to assistance in the morning *\n"
     ]
    },
    {
     "data": {
      "image/png": "[encoded data removed]",
      "text/plain": [
       "<Figure size 360x360 with 1 Axes>"
      ]
     },
     "metadata": {
      "needs_background": "light",
      "tags": []
     },
     "output_type": "display_data"
    }
   ],
   "source": [
    "input_sentence = 'are you avail'\n",
    "generate_sentence(model,input_sentence)"
   ]
  },
  {
   "cell_type": "code",
   "execution_count": 0,
   "metadata": {
    "colab": {},
    "colab_type": "code",
    "id": "h0cyugfe7UYz"
   },
   "outputs": [],
   "source": []
  }
 ],
 "metadata": {
  "accelerator": "GPU",
  "colab": {
   "collapsed_sections": [],
   "name": "2_Encoder_Decoder_Attention_Model.ipynb",
   "provenance": []
  },
  "kernelspec": {
   "display_name": "Python 3",
   "language": "python",
   "name": "python3"
  },
  "language_info": {
   "codemirror_mode": {
    "name": "ipython",
    "version": 3
   },
   "file_extension": ".py",
   "mimetype": "text/x-python",
   "name": "python",
   "nbconvert_exporter": "python",
   "pygments_lexer": "ipython3",
   "version": "3.7.0"
  }
 },
 "nbformat": 4,
 "nbformat_minor": 1
}
