{
 "cells": [
  {
   "cell_type": "code",
   "execution_count": 0,
   "metadata": {
    "colab": {},
    "colab_type": "code",
    "id": "d6W1O4UJcuAE"
   },
   "outputs": [],
   "source": [
    "#Import libraries\n",
    "import warnings\n",
    "warnings.filterwarnings(\"ignore\")\n",
    "import numpy as np\n",
    "import pandas as pd\n",
    "import re\n",
    "import joblib\n",
    "import pickle\n",
    "import datetime\n",
    "import random\n",
    "import os\n",
    "import matplotlib.pyplot as plt\n",
    "import matplotlib.ticker as ticker\n",
    "%matplotlib inline\n",
    "import seaborn as sns\n",
    "from tqdm.notebook import tqdm\n",
    "import tensorflow as tf\n",
    "from tensorflow.keras.layers import Embedding,LSTM,Dense,BatchNormalization,Dropout\n",
    "from tensorflow.keras.callbacks import ModelCheckpoint,ReduceLROnPlateau,EarlyStopping,TensorBoard,LearningRateScheduler\n",
    "from nltk.translate import bleu_score"
   ]
  },
  {
   "cell_type": "markdown",
   "metadata": {},
   "source": [
    "<h1 style=\"font-size:35px\"><center>Encoder Decoder Model"
   ]
  },
  {
   "cell_type": "code",
   "execution_count": 0,
   "metadata": {
    "colab": {
     "base_uri": "https://localhost:8080/",
     "height": 222
    },
    "colab_type": "code",
    "id": "1NO2MKm2vbcb",
    "outputId": "089599d8-58e0-4ce9-dc89-7729ae8f45ef"
   },
   "outputs": [
    {
     "name": "stdout",
     "output_type": "stream",
     "text": [
      "--2020-06-08 21:57:26--  https://doc-0c-4g-docs.googleusercontent.com/docs/securesc/oik9lo733t355n1nglla0cdlqj79umtt/ehk8e924a2ltko8e12d28qusuc9agoer/1591653375000/00136369994752382157/00136369994752382157/16WsaIFQ3eMopsTJtclGqj4jSlyITPFx5?e=download&authuser=0&nonce=ik8omm9uggl20&user=00136369994752382157&hash=1sg7b7uhncfiv9ctkbq68jk0tcprr0rp\n",
      "Resolving doc-0c-4g-docs.googleusercontent.com (doc-0c-4g-docs.googleusercontent.com)... 74.125.128.132, 2a00:1450:4013:c02::84\n",
      "Connecting to doc-0c-4g-docs.googleusercontent.com (doc-0c-4g-docs.googleusercontent.com)|74.125.128.132|:443... connected.\n",
      "HTTP request sent, awaiting response... 200 OK\n",
      "Length: unspecified [application/octet-stream]\n",
      "Saving to: ‘encoded_data’\n",
      "\n",
      "\r",
      "encoded_data            [<=>                 ]       0  --.-KB/s               \r",
      "encoded_data            [ <=>                ]   4.01M  6.38MB/s               \r",
      "encoded_data            [  <=>               ]   7.08M  11.1MB/s    in 0.6s    \n",
      "\n",
      "2020-06-08 21:57:29 (11.1 MB/s) - ‘encoded_data’ saved [7426606]\n",
      "\n"
     ]
    }
   ],
   "source": [
    "!wget --header=\"Host: doc-0c-4g-docs.googleusercontent.com\" --header=\"User-Agent: Mozilla/5.0 (Windows NT 10.0; Win64; x64) AppleWebKit/537.36 (KHTML, like Gecko) Chrome/83.0.4103.97 Safari/537.36\" --header=\"Accept: text/html,application/xhtml+xml,application/xml;q=0.9,image/webp,image/apng,*/*;q=0.8,application/signed-exchange;v=b3;q=0.9\" --header=\"Accept-Language: en-IN,en-GB;q=0.9,en-US;q=0.8,en;q=0.7\" --header=\"Referer: https://drive.google.com/drive/u/0/folders/1Nz-Vq0RhziotMAesPgnisN_Ti9HNQ51f\" --header=\"Cookie: AUTH_bfhjrtscq695ib7edi83p6bfm42sd929_nonce=ik8omm9uggl20; _ga=GA1.2.1509677474.1591248567\" --header=\"Connection: keep-alive\" \"https://doc-0c-4g-docs.googleusercontent.com/docs/securesc/oik9lo733t355n1nglla0cdlqj79umtt/ehk8e924a2ltko8e12d28qusuc9agoer/1591653375000/00136369994752382157/00136369994752382157/16WsaIFQ3eMopsTJtclGqj4jSlyITPFx5?e=download&authuser=0&nonce=ik8omm9uggl20&user=00136369994752382157&hash=1sg7b7uhncfiv9ctkbq68jk0tcprr0rp\" -c -O 'encoded_data'"
   ]
  },
  {
   "cell_type": "markdown",
   "metadata": {
    "colab_type": "text",
    "id": "c5JLhjfZ0XEz"
   },
   "source": [
    "<h1>1. Read Featurized data</h1> \n",
    "<h2>(Refer Word Featurization Section 3 of 2_Data_Featurization.ipynb)</h2> "
   ]
  },
  {
   "cell_type": "code",
   "execution_count": 0,
   "metadata": {
    "colab": {},
    "colab_type": "code",
    "id": "AnTFvgjaWx8o"
   },
   "outputs": [],
   "source": [
    "[X_train_padded_docs,y_train_padded_docs,X_val_padded_docs,y_val_padded_docs,inp_embedding_matrix,\n",
    "                             out_embedding_matrix,inp_tokenizer,out_tokenizer] = joblib.load('encoded_data')"
   ]
  },
  {
   "cell_type": "markdown",
   "metadata": {
    "colab_type": "text",
    "id": "xjB44o3q0XHp"
   },
   "source": [
    "<h1>2. Modelling"
   ]
  },
  {
   "cell_type": "markdown",
   "metadata": {
    "colab_type": "text",
    "id": "icMEwKexcuC2"
   },
   "source": [
    "<h2>2.1. Encoder Model"
   ]
  },
  {
   "cell_type": "code",
   "execution_count": 0,
   "metadata": {
    "colab": {},
    "colab_type": "code",
    "id": "wgtZmDqYcuC6"
   },
   "outputs": [],
   "source": [
    "#Encoder class\n",
    "class Encoder(tf.keras.layers.Layer):\n",
    "    def __init__(self, vocab_size, embedding_dim,embedding_matrix,enc_units,**kwargs):\n",
    "        super(Encoder,self).__init__(**kwargs)\n",
    "        self.vocab_size = vocab_size\n",
    "        self.embedding_dim = embedding_dim\n",
    "        self.enc_units = enc_units\n",
    "        self.embedding = Embedding(input_dim=self.vocab_size, output_dim=self.embedding_dim, weights=[embedding_matrix],\n",
    "                                   mask_zero=True,name='Encoder_Embedding',trainable=False)\n",
    "        self.lstm = LSTM(self.enc_units,return_sequences=True,return_state=True,name='Encoder_LSTM',dropout=0.33)\n",
    "\n",
    "    def call(self, x):\n",
    "        x = self.embedding(x)\n",
    "        \n",
    "        #state_c = Cell state output of last time step\n",
    "        encoder_outputs, _, state_c = self.lstm(x)\n",
    "\n",
    "        #Take average of encoder_outputs\n",
    "        hidden = tf.reduce_mean(encoder_outputs,1)\n",
    "        \n",
    "        return hidden, state_c"
   ]
  },
  {
   "cell_type": "code",
   "execution_count": 4,
   "metadata": {
    "colab": {
     "base_uri": "https://localhost:8080/",
     "height": 34
    },
    "colab_type": "code",
    "id": "uc064MCCcuC_",
    "outputId": "03f356f1-9764-477c-938a-db7d7f797269"
   },
   "outputs": [
    {
     "name": "stdout",
     "output_type": "stream",
     "text": [
      "Input Vocab size: 1470\n"
     ]
    }
   ],
   "source": [
    "inp_vocab_size = len(inp_tokenizer.word_index) + 1\n",
    "print('Input Vocab size:',inp_vocab_size)"
   ]
  },
  {
   "cell_type": "code",
   "execution_count": 5,
   "metadata": {
    "colab": {
     "base_uri": "https://localhost:8080/",
     "height": 84
    },
    "colab_type": "code",
    "id": "P_xpJvvccuDE",
    "outputId": "ad16f054-d816-430e-fea3-4b2db17bf41d"
   },
   "outputs": [
    {
     "name": "stdout",
     "output_type": "stream",
     "text": [
      "Shape of batch input data (batch_size,sequence length): (32, 23)\n",
      "Shape of batch output data (batch_size,sequence length): (32, 23)\n",
      "Shape of average hidden state output (batch_size,units): (32, 256)\n",
      "Shape of average memory state output (batch_size,units): (32, 256)\n"
     ]
    }
   ],
   "source": [
    "#Create encoder object\n",
    "BATCH_SIZE = 32\n",
    "encoder = Encoder(vocab_size=inp_vocab_size,embedding_dim=300,embedding_matrix=inp_embedding_matrix,\n",
    "                  enc_units=256,name='Encoder')\n",
    "\n",
    "#Sample input to encoder\n",
    "example_input_batch, example_target_batch = X_train_padded_docs[:BATCH_SIZE], y_train_padded_docs[:BATCH_SIZE]\n",
    "print('Shape of batch input data (batch_size,sequence length):',example_input_batch.shape)\n",
    "print('Shape of batch output data (batch_size,sequence length):',example_target_batch.shape)\n",
    "\n",
    "#Genearte sample hidden state from encoder object\n",
    "sample_hidden_output, sample_cell_output = encoder(example_input_batch)\n",
    "print('Shape of average hidden state output (batch_size,units):',sample_hidden_output.shape)\n",
    "print('Shape of average memory state output (batch_size,units):',sample_cell_output.shape)"
   ]
  },
  {
   "cell_type": "markdown",
   "metadata": {
    "colab_type": "text",
    "id": "VWTi0DbhcuDf"
   },
   "source": [
    "<h2>2.2. Decoder Model"
   ]
  },
  {
   "cell_type": "code",
   "execution_count": 0,
   "metadata": {
    "colab": {},
    "colab_type": "code",
    "id": "lxVxxpnbcuDg"
   },
   "outputs": [],
   "source": [
    "class Decoder(tf.keras.layers.Layer):\n",
    "    def __init__(self, vocab_size, embedding_dim,embedding_matrix,dec_units,**kwargs):\n",
    "        super(Decoder, self).__init__(**kwargs)\n",
    "        self.vocab_size = vocab_size\n",
    "        self.embedding_dim = embedding_dim\n",
    "        self.dec_units = dec_units\n",
    "        self.embedding = tf.keras.layers.Embedding(input_dim=self.vocab_size, output_dim=self.embedding_dim,\n",
    "                                            weights=[embedding_matrix],mask_zero=True,name='Decoder_Embedding',trainable=False)\n",
    "        self.lstm = tf.keras.layers.LSTM(self.dec_units,return_sequences=True,return_state=True,name='Decoder_LSTM',\n",
    "                                         dropout=0.33)\n",
    "        self.batch_norm = BatchNormalization()\n",
    "        \n",
    "    def call(self, x, hidden, cell):\n",
    "        # x shape after passing through embedding == (batch_size, 1, embedding_dim)\n",
    "        x = self.embedding(x)\n",
    "        \n",
    "        # passing the concatenated vector to the LSTM\n",
    "        lstm_output, state_h, state_c = self.lstm(x,initial_state=[hidden,cell])\n",
    "        \n",
    "        #Normalise output\n",
    "        lstm_output = self.batch_norm(lstm_output)\n",
    "        \n",
    "        return lstm_output,state_h,state_c"
   ]
  },
  {
   "cell_type": "code",
   "execution_count": 7,
   "metadata": {
    "colab": {
     "base_uri": "https://localhost:8080/",
     "height": 34
    },
    "colab_type": "code",
    "id": "MwzqwDHZWx9H",
    "outputId": "621107c6-c964-48d9-e319-9cd66041db9d"
   },
   "outputs": [
    {
     "name": "stdout",
     "output_type": "stream",
     "text": [
      "Output Vocab size: 1469\n"
     ]
    }
   ],
   "source": [
    "out_vocab_size = len(out_tokenizer.word_index) + 1\n",
    "print('Output Vocab size:',out_vocab_size)"
   ]
  },
  {
   "cell_type": "code",
   "execution_count": 8,
   "metadata": {
    "colab": {
     "base_uri": "https://localhost:8080/",
     "height": 101
    },
    "colab_type": "code",
    "id": "b9pinu5acuDv",
    "outputId": "03165dea-09b1-4e3e-d38a-85cd797552a7"
   },
   "outputs": [
    {
     "name": "stdout",
     "output_type": "stream",
     "text": [
      "Decoder:\n",
      "Shape of decoder input (batch_size,sequence_length): (32, 23)\n",
      "Shape of decoder output (batch_size,sequence_length,units): (32, 23, 256)\n",
      "Shape of decoder hidden state output (batch_size,units): (32, 256)\n",
      "Shape of decoder memory state output (batch_size,units): (32, 256)\n"
     ]
    }
   ],
   "source": [
    "#Initialise one step decoder\n",
    "BATCH_SIZE = 32\n",
    "dec = Decoder(vocab_size=out_vocab_size,embedding_dim=300,embedding_matrix=out_embedding_matrix,dec_units=256)\n",
    "\n",
    "#Geneate sample output and hidden states from decoder object\n",
    "sample_output_dec,sample_hidden_output_dec,sample_cell_output_dec = dec(example_target_batch,sample_hidden_output,\n",
    "                                                                        sample_cell_output)\n",
    "print('Decoder:')\n",
    "print('Shape of decoder input (batch_size,sequence_length):',example_target_batch.shape)\n",
    "print('Shape of decoder output (batch_size,sequence_length,units):',sample_output_dec.shape)\n",
    "print('Shape of decoder hidden state output (batch_size,units):',sample_hidden_output_dec.shape)\n",
    "print('Shape of decoder memory state output (batch_size,units):',sample_cell_output_dec.shape)"
   ]
  },
  {
   "cell_type": "markdown",
   "metadata": {
    "colab_type": "text",
    "id": "c2qlauC-cuET"
   },
   "source": [
    "<h2>2.3. Model"
   ]
  },
  {
   "cell_type": "code",
   "execution_count": 0,
   "metadata": {
    "colab": {},
    "colab_type": "code",
    "id": "EDQubxhQcuEU"
   },
   "outputs": [],
   "source": [
    "class Encoder_Decoder_Model(tf.keras.models.Model):\n",
    "    def __init__(self, inp_vocab_size,out_vocab_size,embedding_dim,inp_embedding_matrix,out_embedding_matrix,units,**kwargs):\n",
    "        super(Encoder_Decoder_Model,self).__init__(**kwargs)\n",
    "        self.encoder = Encoder(vocab_size=inp_vocab_size, embedding_dim=embedding_dim,embedding_matrix=inp_embedding_matrix,\n",
    "                               enc_units=units,name='Encoder_layer')\n",
    "        self.decoder = Decoder(vocab_size=out_vocab_size, embedding_dim=embedding_dim,embedding_matrix=out_embedding_matrix,\n",
    "                               dec_units=units,name='Decoder_layer')\n",
    "        self.drop = Dropout(0.2,name='Dropout')\n",
    "        self.dense = Dense(out_vocab_size,name='Output_layer')\n",
    "        \n",
    "    def call(self, inputs):\n",
    "        #Inputs will contain encoder input and decoder input\n",
    "        #Separate encoder and decoder inputs\n",
    "        encoder_inputs, decoder_inputs = inputs[0], inputs[1]\n",
    "        \n",
    "        #Genearte output and hidden states from encoder object\n",
    "        enc_hidden_output, enc_cell_output = self.encoder(encoder_inputs)\n",
    "\n",
    "        #Generate output from decoder\n",
    "        #Initialise hidden states of decoder with hidden states of encoder\n",
    "        decoder_outputs,_,_ = self.decoder(decoder_inputs,enc_hidden_output,enc_cell_output)\n",
    "\n",
    "        #Dropout\n",
    "        decoder_outputs = self.drop(decoder_outputs)\n",
    "        \n",
    "        #Shape of outputs = (batch_size,timesteps,vocab_size)\n",
    "        outputs = self.dense(decoder_outputs)\n",
    "        \n",
    "        return outputs"
   ]
  },
  {
   "cell_type": "markdown",
   "metadata": {
    "colab_type": "text",
    "id": "n3JlgiLdcuEM"
   },
   "source": [
    "<h2>2.4. Loss function"
   ]
  },
  {
   "cell_type": "code",
   "execution_count": 0,
   "metadata": {
    "colab": {},
    "colab_type": "code",
    "id": "7DTKipswcuEN"
   },
   "outputs": [],
   "source": [
    "loss_object = tf.keras.losses.SparseCategoricalCrossentropy(from_logits=True, reduction='none')"
   ]
  },
  {
   "cell_type": "code",
   "execution_count": 0,
   "metadata": {
    "colab": {},
    "colab_type": "code",
    "id": "GHe4U-qBcuER"
   },
   "outputs": [],
   "source": [
    "def loss_function(real, pred):\n",
    "    \n",
    "    #Identify zeros in real tensor/Creating masking tensor\n",
    "    mask = tf.math.logical_not(tf.math.equal(real, 0))\n",
    "    #Calculate log loss for each class\n",
    "    loss_ = loss_object(real, pred)\n",
    "    #Change data type of mask\n",
    "    mask = tf.cast(mask, dtype=loss_.dtype)\n",
    "    #Calculate loss considering masking\n",
    "    loss_ *= mask\n",
    "\n",
    "    return tf.reduce_mean(loss_)"
   ]
  },
  {
   "cell_type": "markdown",
   "metadata": {
    "colab_type": "text",
    "id": "IcrEYcmlL7H6"
   },
   "source": [
    "<h2>2.5. Model Evaluation"
   ]
  },
  {
   "cell_type": "code",
   "execution_count": 0,
   "metadata": {
    "colab": {},
    "colab_type": "code",
    "id": "WBKLoKUbL7H7"
   },
   "outputs": [],
   "source": [
    "#Function returns texts from a sequence\n",
    "def get_text_from_seq(sequence,tokenizer):\n",
    "    sent =''\n",
    "    for i in sequence:\n",
    "        if i!=0:\n",
    "            sent+=tokenizer.index_word[i]+' '\n",
    "    return sent"
   ]
  },
  {
   "cell_type": "code",
   "execution_count": 0,
   "metadata": {
    "colab": {},
    "colab_type": "code",
    "id": "ZQ_KwVRdL7H_"
   },
   "outputs": [],
   "source": [
    "#Function to get bleu score for a sentence\n",
    "def get_bleu_score(enc_dec_model,input_seq,expected_output_seq):\n",
    "    \n",
    "    input_max_length = X_train_padded_docs.shape[1]\n",
    "    output_max_length = y_train_padded_docs.shape[1]\n",
    "    \n",
    "    #Get output from encoder\n",
    "    enc_hidden,enc_cell = enc_dec_model.layers[0](input_seq.reshape(1,input_max_length))\n",
    "    \n",
    "    #Boundary case for decoder\n",
    "    dec_input = tf.expand_dims([out_tokenizer.word_index['<start>']], 1)\n",
    "    dec_hidden = enc_hidden\n",
    "    dec_cell = enc_cell\n",
    "    \n",
    "    #Predicted output sequence\n",
    "    #Add <start> token to output sequence\n",
    "    output_seq = [out_tokenizer.word_index['<start>']]\n",
    "    \n",
    "    #The model will start predicting after start token, hence max_length is subtracted by 1\n",
    "    for i in range(output_max_length-1):\n",
    "        #Get prediction from decoder\n",
    "        dec_output,dec_hidden,dec_cell = enc_dec_model.layers[1](dec_input,dec_hidden,dec_cell)\n",
    "        \n",
    "        #Get prediction from dense layer\n",
    "        #Shape == (batch_size,timestep,vocab_size) == (1,1,vocab_size)\n",
    "        outputs = enc_dec_model.layers[3](dec_output)\n",
    "        \n",
    "        #Extract predicted id from decoder output\n",
    "        key = np.argmax(outputs.numpy().reshape(-1))\n",
    "        \n",
    "        output_seq.append(key)\n",
    "        \n",
    "        if out_tokenizer.index_word[key] == '<end>':\n",
    "            #Get texts from input sentence\n",
    "            input_sent = get_text_from_seq(input_seq,inp_tokenizer)\n",
    "            #Get texts from sequence for actual sentence\n",
    "            actual = get_text_from_seq(expected_output_seq,out_tokenizer)\n",
    "            #Get texts from sequence for predicted sentence\n",
    "            prediction = get_text_from_seq(output_seq,out_tokenizer)\n",
    "            return input_sent,actual,prediction,bleu_score.sentence_bleu([actual.split()],prediction.split())\n",
    "        \n",
    "        #Make current decoder output as decoder input for next time step\n",
    "        dec_input = tf.expand_dims([key], 0)\n",
    "    \n",
    "    input_sent = get_text_from_seq(input_seq,inp_tokenizer)\n",
    "    actual = get_text_from_seq(expected_output_seq,out_tokenizer)\n",
    "    prediction = get_text_from_seq(output_seq,out_tokenizer)\n",
    "    return input_sent,actual,prediction,bleu_score.sentence_bleu([actual.split()],prediction.split())"
   ]
  },
  {
   "cell_type": "markdown",
   "metadata": {
    "colab_type": "text",
    "id": "A6naCdjvcuEa"
   },
   "source": [
    "<h1>3. Model Training"
   ]
  },
  {
   "cell_type": "code",
   "execution_count": 0,
   "metadata": {
    "colab": {},
    "colab_type": "code",
    "id": "5TTqWUC8cuEa"
   },
   "outputs": [],
   "source": [
    "#Set Parameters\n",
    "inp_vocab_size = len(inp_tokenizer.word_index) + 1  \n",
    "out_vocab_size = len(out_tokenizer.word_index) + 1 \n",
    "#Encoding and decoding Embedding layer dimension\n",
    "embedding_dim = 300\n",
    "#Encoding and decoding LSTM layer units\n",
    "units = 256\n",
    "\n",
    "#Initialise object for Model class\n",
    "model = Encoder_Decoder_Model(inp_vocab_size,out_vocab_size,embedding_dim,inp_embedding_matrix,\n",
    "                              out_embedding_matrix,units,name='Encoder_Decoder_Model')"
   ]
  },
  {
   "cell_type": "code",
   "execution_count": 15,
   "metadata": {
    "colab": {
     "base_uri": "https://localhost:8080/",
     "height": 286
    },
    "colab_type": "code",
    "id": "PKDJZOJDcuEc",
    "outputId": "b998c250-4c19-4936-af06-728ab284c819"
   },
   "outputs": [
    {
     "name": "stdout",
     "output_type": "stream",
     "text": [
      "Model: \"Encoder_Decoder_Model\"\n",
      "_________________________________________________________________\n",
      "Layer (type)                 Output Shape              Param #   \n",
      "=================================================================\n",
      "Encoder_layer (Encoder)      multiple                  1011368   \n",
      "_________________________________________________________________\n",
      "Decoder_layer (Decoder)      multiple                  1012092   \n",
      "_________________________________________________________________\n",
      "Dropout (Dropout)            multiple                  0         \n",
      "_________________________________________________________________\n",
      "Output_layer (Dense)         multiple                  377533    \n",
      "=================================================================\n",
      "Total params: 2,400,993\n",
      "Trainable params: 1,518,781\n",
      "Non-trainable params: 882,212\n",
      "_________________________________________________________________\n"
     ]
    }
   ],
   "source": [
    "#Max sequence length for input = max_length\n",
    "#Max sequence length for output = max_length-1, 1 is subtracted because <end> token should not be give input to decoder\n",
    "model.build(input_shape=[(None,X_train_padded_docs.shape[1]),(None,y_train_padded_docs.shape[1]-1)])\n",
    "model.summary()"
   ]
  },
  {
   "cell_type": "code",
   "execution_count": 0,
   "metadata": {
    "colab": {},
    "colab_type": "code",
    "id": "20CwK6Chcj1d"
   },
   "outputs": [],
   "source": [
    "def data_generator(X,y,BATCH_SIZE,shuffle=True):\n",
    "    dataset = tf.data.Dataset.from_tensor_slices((X, y))\n",
    "    if shuffle:\n",
    "        dataset = dataset.shuffle(len(X)).batch(BATCH_SIZE,drop_remainder=True)\n",
    "    else:\n",
    "        dataset = dataset.batch(BATCH_SIZE,drop_remainder=True)\n",
    "    dataset = dataset.prefetch(buffer_size=tf.data.experimental.AUTOTUNE)\n",
    "    return dataset"
   ]
  },
  {
   "cell_type": "code",
   "execution_count": 0,
   "metadata": {
    "colab": {},
    "colab_type": "code",
    "id": "lEn_0bp2cuEf"
   },
   "outputs": [],
   "source": [
    "#Create folder to save model weights\n",
    "if not os.path.isdir('model_save'):\n",
    "    os.makedirs('model_save')"
   ]
  },
  {
   "cell_type": "code",
   "execution_count": 0,
   "metadata": {
    "colab": {},
    "colab_type": "code",
    "id": "EsXuVDsV0XIU"
   },
   "outputs": [],
   "source": [
    "# Clear any logs from previous runs\n",
    "!rm -rf ./logs/"
   ]
  },
  {
   "cell_type": "code",
   "execution_count": 0,
   "metadata": {
    "colab": {
     "base_uri": "https://localhost:8080/",
     "height": 1000
    },
    "colab_type": "code",
    "id": "tyKYm6yocuEm",
    "outputId": "c7f48e9a-98fc-4cf0-ccf2-3673a85bf1d1",
    "scrolled": false
   },
   "outputs": [
    {
     "name": "stdout",
     "output_type": "stream",
     "text": [
      "Epoch 1/30\n",
      "642/642 [==============================] - ETA: 0s - loss: 1.1773\n",
      "Epoch 00001: loss improved from inf to 1.17735, saving model to model_save/weights-01-1.1773.hdf5\n",
      "642/642 [==============================] - 92s 143ms/step - loss: 1.1773 - val_loss: 0.9229 - lr: 0.0100\n",
      "Epoch 2/30\n",
      "642/642 [==============================] - ETA: 0s - loss: 1.0271\n",
      "Epoch 00002: loss improved from 1.17735 to 1.02706, saving model to model_save/weights-02-1.0271.hdf5\n",
      "642/642 [==============================] - 90s 140ms/step - loss: 1.0271 - val_loss: 0.8842 - lr: 0.0100\n",
      "Epoch 3/30\n",
      "642/642 [==============================] - ETA: 0s - loss: 0.9819\n",
      "Epoch 00003: loss improved from 1.02706 to 0.98189, saving model to model_save/weights-03-0.9819.hdf5\n",
      "642/642 [==============================] - 90s 140ms/step - loss: 0.9819 - val_loss: 0.8740 - lr: 0.0100\n",
      "Epoch 4/30\n",
      "642/642 [==============================] - ETA: 0s - loss: 0.9552\n",
      "Epoch 00004: loss improved from 0.98189 to 0.95522, saving model to model_save/weights-04-0.9552.hdf5\n",
      "642/642 [==============================] - 90s 140ms/step - loss: 0.9552 - val_loss: 0.8668 - lr: 0.0100\n",
      "Epoch 5/30\n",
      "642/642 [==============================] - ETA: 0s - loss: 0.9367\n",
      "Epoch 00005: loss improved from 0.95522 to 0.93671, saving model to model_save/weights-05-0.9367.hdf5\n",
      "642/642 [==============================] - 90s 140ms/step - loss: 0.9367 - val_loss: 0.8642 - lr: 0.0100\n",
      "Epoch 6/30\n",
      "642/642 [==============================] - ETA: 0s - loss: 0.9228\n",
      "Epoch 00006: loss improved from 0.93671 to 0.92279, saving model to model_save/weights-06-0.9228.hdf5\n",
      "642/642 [==============================] - 90s 140ms/step - loss: 0.9228 - val_loss: 0.8636 - lr: 0.0100\n",
      "Epoch 7/30\n",
      "642/642 [==============================] - ETA: 0s - loss: 0.9121\n",
      "Epoch 00007: loss improved from 0.92279 to 0.91211, saving model to model_save/weights-07-0.9121.hdf5\n",
      "642/642 [==============================] - 90s 140ms/step - loss: 0.9121 - val_loss: 0.8624 - lr: 0.0100\n",
      "Epoch 8/30\n",
      "642/642 [==============================] - ETA: 0s - loss: 0.9030\n",
      "Epoch 00008: loss improved from 0.91211 to 0.90300, saving model to model_save/weights-08-0.9030.hdf5\n",
      "642/642 [==============================] - 90s 140ms/step - loss: 0.9030 - val_loss: 0.8624 - lr: 0.0100\n",
      "Epoch 9/30\n",
      "642/642 [==============================] - ETA: 0s - loss: 0.8955\n",
      "Epoch 00009: loss improved from 0.90300 to 0.89550, saving model to model_save/weights-09-0.8955.hdf5\n",
      "\n",
      "Epoch 00009: ReduceLROnPlateau reducing learning rate to 0.008999999798834325.\n",
      "642/642 [==============================] - 90s 140ms/step - loss: 0.8955 - val_loss: 0.8643 - lr: 0.0100\n",
      "Epoch 10/30\n",
      "642/642 [==============================] - ETA: 0s - loss: 0.8835\n",
      "Epoch 00010: loss improved from 0.89550 to 0.88355, saving model to model_save/weights-10-0.8835.hdf5\n",
      "642/642 [==============================] - 90s 140ms/step - loss: 0.8835 - val_loss: 0.8648 - lr: 0.0090\n",
      "Epoch 11/30\n",
      "642/642 [==============================] - ETA: 0s - loss: 0.8778\n",
      "Epoch 00011: loss improved from 0.88355 to 0.87780, saving model to model_save/weights-11-0.8778.hdf5\n",
      "\n",
      "Epoch 00011: ReduceLROnPlateau reducing learning rate to 0.008099999651312828.\n",
      "642/642 [==============================] - 90s 140ms/step - loss: 0.8778 - val_loss: 0.8657 - lr: 0.0090\n",
      "Epoch 12/30\n",
      "642/642 [==============================] - ETA: 0s - loss: 0.8681\n",
      "Epoch 00012: loss improved from 0.87780 to 0.86810, saving model to model_save/weights-12-0.8681.hdf5\n",
      "642/642 [==============================] - 89s 139ms/step - loss: 0.8681 - val_loss: 0.8653 - lr: 0.0081\n",
      "Epoch 13/30\n",
      "642/642 [==============================] - ETA: 0s - loss: 0.8637\n",
      "Epoch 00013: loss improved from 0.86810 to 0.86365, saving model to model_save/weights-13-0.8637.hdf5\n",
      "\n",
      "Epoch 00013: ReduceLROnPlateau reducing learning rate to 0.007289999350905419.\n",
      "642/642 [==============================] - 89s 139ms/step - loss: 0.8637 - val_loss: 0.8655 - lr: 0.0081\n",
      "Epoch 14/30\n",
      "642/642 [==============================] - ETA: 0s - loss: 0.8550\n",
      "Epoch 00014: loss improved from 0.86365 to 0.85495, saving model to model_save/weights-14-0.8550.hdf5\n",
      "642/642 [==============================] - 89s 138ms/step - loss: 0.8550 - val_loss: 0.8671 - lr: 0.0073\n",
      "Epoch 15/30\n",
      "642/642 [==============================] - ETA: 0s - loss: 0.8509\n",
      "Epoch 00015: loss improved from 0.85495 to 0.85087, saving model to model_save/weights-15-0.8509.hdf5\n",
      "\n",
      "Epoch 00015: ReduceLROnPlateau reducing learning rate to 0.006560999248176813.\n",
      "Restoring model weights from the end of the best epoch.\n",
      "642/642 [==============================] - 89s 139ms/step - loss: 0.8509 - val_loss: 0.8677 - lr: 0.0073\n",
      "Epoch 00015: early stopping\n"
     ]
    }
   ],
   "source": [
    "tf.keras.backend.clear_session()\n",
    "\n",
    "#Set Parameters\n",
    "BATCH_SIZE = 512\n",
    "epochs = 30\n",
    "\n",
    "#Model compile\n",
    "model.compile(optimizer=tf.keras.optimizers.Adam(0.01),loss=loss_function)\n",
    "\n",
    "#Save intermediate model callback\n",
    "filepath=\"model_save/weights-{epoch:02d}-{loss:.4f}.hdf5\"\n",
    "checkpoint = ModelCheckpoint(filepath=filepath, monitor='loss', verbose=1, save_best_only=True, mode='min')\n",
    "\n",
    "#Reduce learning rate by 10% if validation loss does not decrease from last 2 epochs\n",
    "reduce_lr = ReduceLROnPlateau(monitor='val_loss', factor=0.9, verbose=1, patience=2,min_lr=0.00001)\n",
    "\n",
    "#Stop training if val_loss does not decrease in last 8 epochs\n",
    "terminate = EarlyStopping(monitor='val_loss',patience=8,verbose=1,mode='min',restore_best_weights=True)\n",
    "\n",
    "#Tensorboard\n",
    "log_dir=\"logs/\" + datetime.datetime.now().strftime(\"%Y%m%d-%H%M%S\")\n",
    "tensorboard_callback = TensorBoard(log_dir=log_dir,histogram_freq=1, write_graph=True)\n",
    "\n",
    "#Callback list\n",
    "callback_list = [checkpoint,reduce_lr,terminate,tensorboard_callback]\n",
    "\n",
    "#Generate data\n",
    "train = data_generator((X_train_padded_docs,y_train_padded_docs[:,:-1]),y_train_padded_docs[:,1:],BATCH_SIZE=BATCH_SIZE,\n",
    "                       shuffle=True)\n",
    "val = data_generator((X_val_padded_docs,y_val_padded_docs[:,:-1]),y_val_padded_docs[:,1:],BATCH_SIZE=BATCH_SIZE,shuffle=False)\n",
    "\n",
    "#Train model\n",
    "history1 = model.fit(train,epochs=epochs,validation_data=val,callbacks=callback_list)"
   ]
  },
  {
   "cell_type": "code",
   "execution_count": 0,
   "metadata": {
    "colab": {
     "base_uri": "https://localhost:8080/",
     "height": 34
    },
    "colab_type": "code",
    "id": "1Xe0AHTrEPTK",
    "outputId": "a6f202e0-3f10-4fe3-fdd7-188d8178e8c7"
   },
   "outputs": [
    {
     "data": {
      "text/plain": [
       "['history1']"
      ]
     },
     "execution_count": 21,
     "metadata": {
      "tags": []
     },
     "output_type": "execute_result"
    }
   ],
   "source": [
    "joblib.dump(history1.history,'history1')"
   ]
  },
  {
   "cell_type": "code",
   "execution_count": 0,
   "metadata": {
    "colab": {},
    "colab_type": "code",
    "id": "Mrd7PRmjcuEp"
   },
   "outputs": [],
   "source": [
    "#Save weights\n",
    "model.save_weights('best_model1.h5')"
   ]
  },
  {
   "cell_type": "code",
   "execution_count": 0,
   "metadata": {
    "colab": {
     "base_uri": "https://localhost:8080/",
     "height": 34
    },
    "colab_type": "code",
    "id": "7ObOhaJazQcU",
    "outputId": "da03bd2c-1659-4e37-eb9f-4709c93613b2"
   },
   "outputs": [
    {
     "name": "stdout",
     "output_type": "stream",
     "text": [
      "643/643 [==============================] - 32s 50ms/step - loss: 0.8201\n"
     ]
    }
   ],
   "source": [
    "train_parameters = model.evaluate([X_train_padded_docs,y_train_padded_docs[:,:-1]],y_train_padded_docs[:,1:],\n",
    "                                  verbose=1,batch_size=BATCH_SIZE)"
   ]
  },
  {
   "cell_type": "code",
   "execution_count": 0,
   "metadata": {
    "colab": {
     "base_uri": "https://localhost:8080/",
     "height": 34
    },
    "colab_type": "code",
    "id": "dOq7_Vm-zjIM",
    "outputId": "78e596fb-2fce-448c-d8d9-6cc3b204537b"
   },
   "outputs": [
    {
     "name": "stdout",
     "output_type": "stream",
     "text": [
      "120/120 [==============================] - 6s 51ms/step - loss: 0.8627\n"
     ]
    }
   ],
   "source": [
    "val_parameters = model.evaluate([X_val_padded_docs,y_val_padded_docs[:,:-1]],y_val_padded_docs[:,1:],\n",
    "                                 verbose=1,batch_size=BATCH_SIZE)"
   ]
  },
  {
   "cell_type": "code",
   "execution_count": 0,
   "metadata": {
    "colab": {},
    "colab_type": "code",
    "id": "bt-hIXlo7fBQ"
   },
   "outputs": [],
   "source": [
    "#Load weights\n",
    "model.load_weights('best_model1.h5')"
   ]
  },
  {
   "cell_type": "code",
   "execution_count": 0,
   "metadata": {
    "colab": {
     "base_uri": "https://localhost:8080/",
     "height": 1000
    },
    "colab_type": "code",
    "id": "kumpzV1LEPTb",
    "outputId": "fcca0bf1-373d-4fa6-af48-1cc6c9348e03"
   },
   "outputs": [
    {
     "name": "stdout",
     "output_type": "stream",
     "text": [
      "Epoch 1/20\n",
      "  2/642 [..............................] - ETA: 2:11 - loss: 0.8565WARNING:tensorflow:Method (on_train_batch_end) is slow compared to the batch update (0.138014). Check your callbacks.\n",
      "642/642 [==============================] - ETA: 0s - loss: 0.8659\n",
      "Epoch 00001: loss improved from inf to 0.86594, saving model to model_save/weights-01-0.8659.hdf5\n",
      "642/642 [==============================] - 91s 142ms/step - loss: 0.8659 - val_loss: 0.8472 - lr: 0.0010\n",
      "Epoch 2/20\n",
      "642/642 [==============================] - ETA: 0s - loss: 0.8528\n",
      "Epoch 00002: loss improved from 0.86594 to 0.85278, saving model to model_save/weights-02-0.8528.hdf5\n",
      "642/642 [==============================] - 89s 139ms/step - loss: 0.8528 - val_loss: 0.8452 - lr: 0.0010\n",
      "Epoch 3/20\n",
      "642/642 [==============================] - ETA: 0s - loss: 0.8466\n",
      "Epoch 00003: loss improved from 0.85278 to 0.84657, saving model to model_save/weights-03-0.8466.hdf5\n",
      "642/642 [==============================] - 89s 139ms/step - loss: 0.8466 - val_loss: 0.8447 - lr: 0.0010\n",
      "Epoch 4/20\n",
      "642/642 [==============================] - ETA: 0s - loss: 0.8421\n",
      "Epoch 00004: loss improved from 0.84657 to 0.84213, saving model to model_save/weights-04-0.8421.hdf5\n",
      "642/642 [==============================] - 89s 139ms/step - loss: 0.8421 - val_loss: 0.8447 - lr: 0.0010\n",
      "Epoch 5/20\n",
      "642/642 [==============================] - ETA: 0s - loss: 0.8382\n",
      "Epoch 00005: loss improved from 0.84213 to 0.83825, saving model to model_save/weights-05-0.8382.hdf5\n",
      "642/642 [==============================] - 89s 139ms/step - loss: 0.8382 - val_loss: 0.8445 - lr: 0.0010\n",
      "Epoch 6/20\n",
      "642/642 [==============================] - ETA: 0s - loss: 0.8348\n",
      "Epoch 00006: loss improved from 0.83825 to 0.83484, saving model to model_save/weights-06-0.8348.hdf5\n",
      "642/642 [==============================] - 89s 139ms/step - loss: 0.8348 - val_loss: 0.8448 - lr: 0.0010\n",
      "Epoch 7/20\n",
      "642/642 [==============================] - ETA: 0s - loss: 0.8319\n",
      "Epoch 00007: loss improved from 0.83484 to 0.83186, saving model to model_save/weights-07-0.8319.hdf5\n",
      "\n",
      "Epoch 00007: ReduceLROnPlateau reducing learning rate to 0.0009000000427477062.\n",
      "642/642 [==============================] - 89s 138ms/step - loss: 0.8319 - val_loss: 0.8451 - lr: 0.0010\n",
      "Epoch 8/20\n",
      "642/642 [==============================] - ETA: 0s - loss: 0.8282\n",
      "Epoch 00008: loss improved from 0.83186 to 0.82820, saving model to model_save/weights-08-0.8282.hdf5\n",
      "642/642 [==============================] - 89s 139ms/step - loss: 0.8282 - val_loss: 0.8455 - lr: 9.0000e-04\n",
      "Epoch 9/20\n",
      "642/642 [==============================] - ETA: 0s - loss: 0.8259\n",
      "Epoch 00009: loss improved from 0.82820 to 0.82587, saving model to model_save/weights-09-0.8259.hdf5\n",
      "\n",
      "Epoch 00009: ReduceLROnPlateau reducing learning rate to 0.0008100000384729356.\n",
      "642/642 [==============================] - 89s 139ms/step - loss: 0.8259 - val_loss: 0.8456 - lr: 9.0000e-04\n",
      "Epoch 10/20\n",
      "642/642 [==============================] - ETA: 0s - loss: 0.8229\n",
      "Epoch 00010: loss improved from 0.82587 to 0.82286, saving model to model_save/weights-10-0.8229.hdf5\n",
      "642/642 [==============================] - 89s 138ms/step - loss: 0.8229 - val_loss: 0.8458 - lr: 8.1000e-04\n",
      "Epoch 11/20\n",
      "642/642 [==============================] - ETA: 0s - loss: 0.8207\n",
      "Epoch 00011: loss improved from 0.82286 to 0.82073, saving model to model_save/weights-11-0.8207.hdf5\n",
      "\n",
      "Epoch 00011: ReduceLROnPlateau reducing learning rate to 0.0007290000503417104.\n",
      "642/642 [==============================] - 89s 138ms/step - loss: 0.8207 - val_loss: 0.8465 - lr: 8.1000e-04\n",
      "Epoch 12/20\n",
      "642/642 [==============================] - ETA: 0s - loss: 0.8179\n",
      "Epoch 00012: loss improved from 0.82073 to 0.81786, saving model to model_save/weights-12-0.8179.hdf5\n",
      "642/642 [==============================] - 89s 138ms/step - loss: 0.8179 - val_loss: 0.8468 - lr: 7.2900e-04\n",
      "Epoch 13/20\n",
      "642/642 [==============================] - ETA: 0s - loss: 0.8161\n",
      "Epoch 00013: loss improved from 0.81786 to 0.81612, saving model to model_save/weights-13-0.8161.hdf5\n",
      "\n",
      "Epoch 00013: ReduceLROnPlateau reducing learning rate to 0.0006561000715009868.\n",
      "642/642 [==============================] - 89s 139ms/step - loss: 0.8161 - val_loss: 0.8471 - lr: 7.2900e-04\n",
      "Epoch 14/20\n",
      "642/642 [==============================] - ETA: 0s - loss: 0.8138\n",
      "Epoch 00014: loss improved from 0.81612 to 0.81380, saving model to model_save/weights-14-0.8138.hdf5\n",
      "642/642 [==============================] - 89s 138ms/step - loss: 0.8138 - val_loss: 0.8477 - lr: 6.5610e-04\n",
      "Epoch 15/20\n",
      "642/642 [==============================] - ETA: 0s - loss: 0.8124\n",
      "Epoch 00015: loss improved from 0.81380 to 0.81237, saving model to model_save/weights-15-0.8124.hdf5\n",
      "\n",
      "Epoch 00015: ReduceLROnPlateau reducing learning rate to 0.0005904900433961303.\n",
      "642/642 [==============================] - 89s 138ms/step - loss: 0.8124 - val_loss: 0.8485 - lr: 6.5610e-04\n",
      "Epoch 16/20\n",
      "642/642 [==============================] - ETA: 0s - loss: 0.8100\n",
      "Epoch 00016: loss improved from 0.81237 to 0.81000, saving model to model_save/weights-16-0.8100.hdf5\n",
      "642/642 [==============================] - 89s 139ms/step - loss: 0.8100 - val_loss: 0.8487 - lr: 5.9049e-04\n",
      "Epoch 17/20\n",
      "642/642 [==============================] - ETA: 0s - loss: 0.8087\n",
      "Epoch 00017: loss improved from 0.81000 to 0.80871, saving model to model_save/weights-17-0.8087.hdf5\n",
      "\n",
      "Epoch 00017: ReduceLROnPlateau reducing learning rate to 0.0005314410547725857.\n",
      "642/642 [==============================] - 89s 139ms/step - loss: 0.8087 - val_loss: 0.8489 - lr: 5.9049e-04\n",
      "Epoch 00017: early stopping\n"
     ]
    }
   ],
   "source": [
    "tf.keras.backend.clear_session()\n",
    "\n",
    "#Set Parameters\n",
    "BATCH_SIZE = 512\n",
    "epochs = 20\n",
    "\n",
    "#Model compile\n",
    "model.compile(optimizer=tf.keras.optimizers.Adam(0.001),loss=loss_function)\n",
    "\n",
    "#Save intermediate model callback\n",
    "filepath=\"model_save/weights-{epoch:02d}-{loss:.4f}.hdf5\"\n",
    "checkpoint = ModelCheckpoint(filepath=filepath, monitor='loss', verbose=1, save_best_only=True, mode='min')\n",
    "\n",
    "#Reduce learning rate by 10% if validation loss does not decrease from last 2 epochs\n",
    "reduce_lr = ReduceLROnPlateau(monitor='val_loss', factor=0.9, verbose=1, patience=2,min_lr=0.00001)\n",
    "\n",
    "#Stop training if val_loss does not decrease in last 12 epochs\n",
    "terminate = EarlyStopping(monitor='val_loss',patience=12,verbose=1,mode='min',restore_best_weights=False)\n",
    "\n",
    "#Tensorboard\n",
    "log_dir=\"logs/\" + datetime.datetime.now().strftime(\"%Y%m%d-%H%M%S\")\n",
    "tensorboard_callback = TensorBoard(log_dir=log_dir,histogram_freq=1, write_graph=True)\n",
    "\n",
    "#Callback list\n",
    "callback_list = [checkpoint,reduce_lr,terminate,tensorboard_callback]\n",
    "\n",
    "#Generate data\n",
    "train = data_generator((X_train_padded_docs,y_train_padded_docs[:,:-1]),y_train_padded_docs[:,1:],BATCH_SIZE=BATCH_SIZE,\n",
    "                       shuffle=True)\n",
    "val = data_generator((X_val_padded_docs,y_val_padded_docs[:,:-1]),y_val_padded_docs[:,1:],BATCH_SIZE=BATCH_SIZE,shuffle=False)\n",
    "\n",
    "#Train model\n",
    "history2 = model.fit(train,epochs=epochs,validation_data=val,callbacks=callback_list)"
   ]
  },
  {
   "cell_type": "code",
   "execution_count": 0,
   "metadata": {
    "colab": {
     "base_uri": "https://localhost:8080/",
     "height": 34
    },
    "colab_type": "code",
    "id": "TrublRKQEPTd",
    "outputId": "1508d333-69ec-446d-b275-9f0b991f510b"
   },
   "outputs": [
    {
     "data": {
      "text/plain": [
       "['history2']"
      ]
     },
     "execution_count": 27,
     "metadata": {
      "tags": []
     },
     "output_type": "execute_result"
    }
   ],
   "source": [
    "joblib.dump(history2.history,'history2')"
   ]
  },
  {
   "cell_type": "code",
   "execution_count": 0,
   "metadata": {
    "colab": {},
    "colab_type": "code",
    "id": "Y1HujhSgEPTj"
   },
   "outputs": [],
   "source": [
    "#Save weights\n",
    "model.save_weights('best_model2.h5')"
   ]
  },
  {
   "cell_type": "code",
   "execution_count": 0,
   "metadata": {
    "colab": {},
    "colab_type": "code",
    "id": "Bnn6eR1SEPTl"
   },
   "outputs": [],
   "source": [
    "#Load weights\n",
    "model.load_weights('best_model2.h5')"
   ]
  },
  {
   "cell_type": "code",
   "execution_count": 0,
   "metadata": {
    "colab": {
     "base_uri": "https://localhost:8080/",
     "height": 1000
    },
    "colab_type": "code",
    "id": "IIDYqv0iEPTs",
    "outputId": "613dfef5-f249-4a6c-f080-406b4df3ef7b",
    "scrolled": false
   },
   "outputs": [
    {
     "name": "stdout",
     "output_type": "stream",
     "text": [
      "Epoch 1/30\n",
      "642/642 [==============================] - ETA: 0s - loss: 0.8031\n",
      "Epoch 00001: loss improved from inf to 0.80306, saving model to model_save/weights-01-0.8031.hdf5\n",
      "642/642 [==============================] - 91s 143ms/step - loss: 0.8031 - val_loss: 0.8466 - lr: 1.0000e-04\n",
      "Epoch 2/30\n",
      "642/642 [==============================] - ETA: 0s - loss: 0.8028\n",
      "Epoch 00002: loss improved from 0.80306 to 0.80282, saving model to model_save/weights-02-0.8028.hdf5\n",
      "642/642 [==============================] - 89s 139ms/step - loss: 0.8028 - val_loss: 0.8459 - lr: 1.0000e-04\n",
      "Epoch 3/30\n",
      "642/642 [==============================] - ETA: 0s - loss: 0.8027\n",
      "Epoch 00003: loss improved from 0.80282 to 0.80274, saving model to model_save/weights-03-0.8027.hdf5\n",
      "642/642 [==============================] - 89s 139ms/step - loss: 0.8027 - val_loss: 0.8457 - lr: 1.0000e-04\n",
      "Epoch 4/30\n",
      "642/642 [==============================] - ETA: 0s - loss: 0.8029\n",
      "Epoch 00004: loss did not improve from 0.80274\n",
      "642/642 [==============================] - 89s 139ms/step - loss: 0.8029 - val_loss: 0.8454 - lr: 1.0000e-04\n",
      "Epoch 5/30\n",
      "642/642 [==============================] - ETA: 0s - loss: 0.8034\n",
      "Epoch 00005: loss did not improve from 0.80274\n",
      "642/642 [==============================] - 89s 139ms/step - loss: 0.8034 - val_loss: 0.8450 - lr: 1.0000e-04\n",
      "Epoch 6/30\n",
      "642/642 [==============================] - ETA: 0s - loss: 0.8042\n",
      "Epoch 00006: loss did not improve from 0.80274\n",
      "642/642 [==============================] - 89s 139ms/step - loss: 0.8042 - val_loss: 0.8447 - lr: 1.0000e-04\n",
      "Epoch 7/30\n",
      "642/642 [==============================] - ETA: 0s - loss: 0.8044\n",
      "Epoch 00007: loss did not improve from 0.80274\n",
      "642/642 [==============================] - 89s 139ms/step - loss: 0.8044 - val_loss: 0.8445 - lr: 1.0000e-04\n",
      "Epoch 8/30\n",
      "642/642 [==============================] - ETA: 0s - loss: 0.8048\n",
      "Epoch 00008: loss did not improve from 0.80274\n",
      "642/642 [==============================] - 90s 140ms/step - loss: 0.8048 - val_loss: 0.8443 - lr: 1.0000e-04\n",
      "Epoch 9/30\n",
      "642/642 [==============================] - ETA: 0s - loss: 0.8055\n",
      "Epoch 00009: loss did not improve from 0.80274\n",
      "642/642 [==============================] - 90s 140ms/step - loss: 0.8055 - val_loss: 0.8444 - lr: 1.0000e-04\n",
      "Epoch 10/30\n",
      "642/642 [==============================] - ETA: 0s - loss: 0.8060\n",
      "Epoch 00010: loss did not improve from 0.80274\n",
      "\n",
      "Epoch 00010: ReduceLROnPlateau reducing learning rate to 8.999999772640876e-05.\n",
      "642/642 [==============================] - 89s 139ms/step - loss: 0.8060 - val_loss: 0.8442 - lr: 1.0000e-04\n",
      "Epoch 11/30\n",
      "642/642 [==============================] - ETA: 0s - loss: 0.8068\n",
      "Epoch 00011: loss did not improve from 0.80274\n",
      "642/642 [==============================] - 89s 139ms/step - loss: 0.8068 - val_loss: 0.8440 - lr: 9.0000e-05\n",
      "Epoch 12/30\n",
      "642/642 [==============================] - ETA: 0s - loss: 0.8071\n",
      "Epoch 00012: loss did not improve from 0.80274\n",
      "642/642 [==============================] - 89s 139ms/step - loss: 0.8071 - val_loss: 0.8440 - lr: 9.0000e-05\n",
      "Epoch 13/30\n",
      "642/642 [==============================] - ETA: 0s - loss: 0.8076\n",
      "Epoch 00013: loss did not improve from 0.80274\n",
      "\n",
      "Epoch 00013: ReduceLROnPlateau reducing learning rate to 8.100000122794882e-05.\n",
      "642/642 [==============================] - 89s 139ms/step - loss: 0.8076 - val_loss: 0.8440 - lr: 9.0000e-05\n",
      "Epoch 14/30\n",
      "642/642 [==============================] - ETA: 0s - loss: 0.8085\n",
      "Epoch 00014: loss did not improve from 0.80274\n",
      "642/642 [==============================] - 90s 139ms/step - loss: 0.8085 - val_loss: 0.8439 - lr: 8.1000e-05\n",
      "Epoch 15/30\n",
      "642/642 [==============================] - ETA: 0s - loss: 0.8087\n",
      "Epoch 00015: loss did not improve from 0.80274\n",
      "642/642 [==============================] - 89s 139ms/step - loss: 0.8087 - val_loss: 0.8439 - lr: 8.1000e-05\n",
      "Epoch 16/30\n",
      "642/642 [==============================] - ETA: 0s - loss: 0.8092\n",
      "Epoch 00016: loss did not improve from 0.80274\n",
      "\n",
      "Epoch 00016: ReduceLROnPlateau reducing learning rate to 7.289999848580919e-05.\n",
      "642/642 [==============================] - 89s 139ms/step - loss: 0.8092 - val_loss: 0.8440 - lr: 8.1000e-05\n",
      "Epoch 17/30\n",
      "642/642 [==============================] - ETA: 0s - loss: 0.8101\n",
      "Epoch 00017: loss did not improve from 0.80274\n",
      "642/642 [==============================] - 89s 139ms/step - loss: 0.8101 - val_loss: 0.8439 - lr: 7.2900e-05\n",
      "Epoch 18/30\n",
      "642/642 [==============================] - ETA: 0s - loss: 0.8106\n",
      "Epoch 00018: loss did not improve from 0.80274\n",
      "\n",
      "Epoch 00018: ReduceLROnPlateau reducing learning rate to 6.56100019114092e-05.\n",
      "642/642 [==============================] - 89s 139ms/step - loss: 0.8106 - val_loss: 0.8439 - lr: 7.2900e-05\n",
      "Epoch 19/30\n",
      "642/642 [==============================] - ETA: 0s - loss: 0.8108\n",
      "Epoch 00019: loss did not improve from 0.80274\n",
      "642/642 [==============================] - 89s 139ms/step - loss: 0.8108 - val_loss: 0.8439 - lr: 6.5610e-05\n",
      "Epoch 20/30\n",
      "642/642 [==============================] - ETA: 0s - loss: 0.8116\n",
      "Epoch 00020: loss did not improve from 0.80274\n",
      "\n",
      "Epoch 00020: ReduceLROnPlateau reducing learning rate to 5.904900172026828e-05.\n",
      "642/642 [==============================] - 89s 139ms/step - loss: 0.8116 - val_loss: 0.8439 - lr: 6.5610e-05\n",
      "Epoch 21/30\n",
      "642/642 [==============================] - ETA: 0s - loss: 0.8118\n",
      "Epoch 00021: loss did not improve from 0.80274\n",
      "642/642 [==============================] - 89s 139ms/step - loss: 0.8118 - val_loss: 0.8439 - lr: 5.9049e-05\n",
      "Epoch 22/30\n",
      "642/642 [==============================] - ETA: 0s - loss: 0.8123\n",
      "Epoch 00022: loss did not improve from 0.80274\n",
      "\n",
      "Epoch 00022: ReduceLROnPlateau reducing learning rate to 5.314410154824145e-05.\n",
      "642/642 [==============================] - 89s 139ms/step - loss: 0.8123 - val_loss: 0.8441 - lr: 5.9049e-05\n",
      "Epoch 23/30\n",
      "642/642 [==============================] - ETA: 0s - loss: 0.8129\n",
      "Epoch 00023: loss did not improve from 0.80274\n",
      "642/642 [==============================] - 89s 139ms/step - loss: 0.8129 - val_loss: 0.8441 - lr: 5.3144e-05\n",
      "Epoch 24/30\n",
      "642/642 [==============================] - ETA: 0s - loss: 0.8134\n",
      "Epoch 00024: loss did not improve from 0.80274\n",
      "\n",
      "Epoch 00024: ReduceLROnPlateau reducing learning rate to 4.7829690083744934e-05.\n",
      "642/642 [==============================] - 89s 139ms/step - loss: 0.8134 - val_loss: 0.8441 - lr: 5.3144e-05\n",
      "Epoch 25/30\n",
      "642/642 [==============================] - ETA: 0s - loss: 0.8136\n",
      "Epoch 00025: loss did not improve from 0.80274\n",
      "642/642 [==============================] - 89s 139ms/step - loss: 0.8136 - val_loss: 0.8441 - lr: 4.7830e-05\n",
      "Epoch 26/30\n",
      "642/642 [==============================] - ETA: 0s - loss: 0.8143\n",
      "Epoch 00026: loss did not improve from 0.80274\n",
      "\n",
      "Epoch 00026: ReduceLROnPlateau reducing learning rate to 4.304672074795235e-05.\n",
      "Restoring model weights from the end of the best epoch.\n",
      "642/642 [==============================] - 89s 139ms/step - loss: 0.8143 - val_loss: 0.8441 - lr: 4.7830e-05\n",
      "Epoch 00026: early stopping\n"
     ]
    }
   ],
   "source": [
    "tf.keras.backend.clear_session()\n",
    "\n",
    "#Set Parameters\n",
    "BATCH_SIZE = 512\n",
    "epochs = 30\n",
    "\n",
    "#Model compile\n",
    "model.compile(optimizer=tf.keras.optimizers.RMSprop(0.0001),loss=loss_function)\n",
    "\n",
    "#Save intermediate model callback\n",
    "filepath=\"model_save/weights-{epoch:02d}-{loss:.4f}.hdf5\"\n",
    "checkpoint = ModelCheckpoint(filepath=filepath, monitor='loss', verbose=1, save_best_only=True, mode='min')\n",
    "\n",
    "#Reduce learning rate by 10% if validation loss does not decrease from last 2 epochs\n",
    "reduce_lr = ReduceLROnPlateau(monitor='val_loss', factor=0.9, verbose=1, patience=2,min_lr=0.00001)\n",
    "\n",
    "#Stop training if val_loss does not decrease in last 12 epochs\n",
    "terminate = EarlyStopping(monitor='val_loss',patience=12,verbose=1,mode='min',restore_best_weights=True)\n",
    "\n",
    "#Tensorboard\n",
    "log_dir=\"logs/\" + datetime.datetime.now().strftime(\"%Y%m%d-%H%M%S\")\n",
    "tensorboard_callback = TensorBoard(log_dir=log_dir,histogram_freq=1, write_graph=True)\n",
    "\n",
    "#Callback list\n",
    "callback_list = [checkpoint,reduce_lr,terminate,tensorboard_callback]\n",
    "\n",
    "#Generate data\n",
    "train = data_generator((X_train_padded_docs,y_train_padded_docs[:,:-1]),y_train_padded_docs[:,1:],BATCH_SIZE=BATCH_SIZE,\n",
    "                       shuffle=True)\n",
    "val = data_generator((X_val_padded_docs,y_val_padded_docs[:,:-1]),y_val_padded_docs[:,1:],BATCH_SIZE=BATCH_SIZE,shuffle=False)\n",
    "\n",
    "#Train model\n",
    "history3 = model.fit(train,epochs=epochs,validation_data=val,callbacks=callback_list)"
   ]
  },
  {
   "cell_type": "code",
   "execution_count": 0,
   "metadata": {
    "colab": {
     "base_uri": "https://localhost:8080/",
     "height": 34
    },
    "colab_type": "code",
    "id": "S49NiQJHEPTv",
    "outputId": "50e5c968-0e68-4707-9902-a6c2b23c2913"
   },
   "outputs": [
    {
     "data": {
      "text/plain": [
       "['history3']"
      ]
     },
     "execution_count": 31,
     "metadata": {
      "tags": []
     },
     "output_type": "execute_result"
    }
   ],
   "source": [
    "joblib.dump(history3.history,'history3')"
   ]
  },
  {
   "cell_type": "code",
   "execution_count": 0,
   "metadata": {
    "colab": {},
    "colab_type": "code",
    "id": "4ben7LIgEPTz"
   },
   "outputs": [],
   "source": [
    "#Save weights\n",
    "model.save_weights('best_model3.h5')"
   ]
  },
  {
   "cell_type": "code",
   "execution_count": 0,
   "metadata": {
    "colab": {},
    "colab_type": "code",
    "id": "BemqyciZEPT2"
   },
   "outputs": [],
   "source": [
    "#Load weights\n",
    "model.load_weights('best_model3.h5')"
   ]
  },
  {
   "cell_type": "code",
   "execution_count": 0,
   "metadata": {
    "colab": {},
    "colab_type": "code",
    "id": "7sa2ll5JYguT"
   },
   "outputs": [],
   "source": [
    "h1 = joblib.load('history1')\n",
    "h2 = joblib.load('history2')\n",
    "h3 = joblib.load('history3')"
   ]
  },
  {
   "cell_type": "code",
   "execution_count": 0,
   "metadata": {
    "colab": {},
    "colab_type": "code",
    "id": "_xl1NWqsYguW"
   },
   "outputs": [],
   "source": [
    "loss = h1['loss']+h2['loss']+h3['loss']\n",
    "val_loss = h1['val_loss']+h2['val_loss']+h3['val_loss']"
   ]
  },
  {
   "cell_type": "code",
   "execution_count": 0,
   "metadata": {
    "colab": {},
    "colab_type": "code",
    "id": "zES1qW6XYguZ",
    "outputId": "bd6ab8b3-b0b2-4da4-a9bf-193cd62c0d4b"
   },
   "outputs": [
    {
     "data": {
      "text/plain": [
       "Text(0.5, 1.0, 'Loss Vs No of epochs')"
      ]
     },
     "execution_count": 6,
     "metadata": {
      "tags": []
     },
     "output_type": "execute_result"
    },
    {
     "data": {
      "image/png": "[encoded data removed]",
      "text/plain": [
       "<Figure size 432x288 with 1 Axes>"
      ]
     },
     "metadata": {
      "needs_background": "light",
      "tags": []
     },
     "output_type": "display_data"
    }
   ],
   "source": [
    "plt.plot(loss,label='Training loss')\n",
    "plt.plot(val_loss, label='Validation loss')\n",
    "plt.legend()\n",
    "plt.grid()\n",
    "plt.xlabel('No of epochs')\n",
    "plt.ylabel('Loss')\n",
    "plt.title('Loss Vs No of epochs')"
   ]
  },
  {
   "cell_type": "code",
   "execution_count": 0,
   "metadata": {
    "colab": {},
    "colab_type": "code",
    "id": "mvvc3q93L7In"
   },
   "outputs": [],
   "source": [
    "#Generate 1000 random samples from train and val data\n",
    "#Train data\n",
    "train_index = []\n",
    "for i in range(X_train_padded_docs.shape[0]):\n",
    "    if np.count_nonzero(X_train_padded_docs[i]!=0)>14:\n",
    "        train_index.append(i)\n",
    "train_index = random.sample(train_index,1000)\n",
    "\n",
    "#Validation data\n",
    "#Train data\n",
    "val_index = []\n",
    "for i in range(X_val_padded_docs.shape[0]):\n",
    "    if np.count_nonzero(X_val_padded_docs[i]!=0)>14:\n",
    "        val_index.append(i)\n",
    "val_index = random.sample(val_index,1000)"
   ]
  },
  {
   "cell_type": "code",
   "execution_count": 24,
   "metadata": {
    "colab": {
     "base_uri": "https://localhost:8080/",
     "height": 738,
     "referenced_widgets": [
      "71f3488b8aa84ddc99185c9da46d6bf7",
      "f3069b67e0ce47e4a5a1dd90d7576239",
      "8a9ee09cf1f0497fbf160f641045ca96",
      "265b920a4cb74bcab6b5ed5412967016",
      "aee3ff0a9fd042f786f138df9b26264e",
      "42d34c6298e744d084d2ae9cf5440528",
      "e4efcc22f53b47ee8038532e176563ed",
      "d3783f14ab52470fb674de28734f2505"
     ]
    },
    "colab_type": "code",
    "id": "muqMywldL7Iq",
    "outputId": "9ad3c27b-1be7-4458-9775-64180223fda4",
    "scrolled": false
   },
   "outputs": [
    {
     "data": {
      "application/vnd.jupyter.widget-view+json": {
       "model_id": "71f3488b8aa84ddc99185c9da46d6bf7",
       "version_major": 2,
       "version_minor": 0
      },
      "text/plain": [
       "HBox(children=(FloatProgress(value=1.0, bar_style='info', max=1.0), HTML(value='')))"
      ]
     },
     "metadata": {
      "tags": []
     },
     "output_type": "display_data"
    },
    {
     "name": "stdout",
     "output_type": "stream",
     "text": [
      "Input sentence: <start> with the things that happened a couple of weeks ago our travel has <end> \n",
      "Actual words: <start> been put off for a while <end> \n",
      "Predicted words: <start> been very helpful <end> \n",
      "------------------------------------------------------------------------------------------\n",
      "Input sentence: <start> the tickets are at my house but you are free to stop by and pick them up at your <end> \n",
      "Actual words: <start> convenience <end> \n",
      "Predicted words: <start> convenience <end> \n",
      "------------------------------------------------------------------------------------------\n",
      "Input sentence: <start> of course we are trying to avoid any commercial risks associated with marketing <end> \n",
      "Actual words: <start> this power <end> \n",
      "Predicted words: <start> and services <end> \n",
      "------------------------------------------------------------------------------------------\n",
      "Input sentence: <start> make sure it is sent as soon as you read it or your wish will not <end> \n",
      "Actual words: <start> come true <end> \n",
      "Predicted words: <start> be able to attend <end> \n",
      "------------------------------------------------------------------------------------------\n",
      "Input sentence: <start> please review the agreement and give any one of us a call here in credit if you have any <end> \n",
      "Actual words: <start> questions <end> \n",
      "Predicted words: <start> questions <end> \n",
      "------------------------------------------------------------------------------------------\n",
      "Input sentence: <start> the company will use the funding for international expansion and to further develop its <end> \n",
      "Actual words: <start> business and information technology operations <end> \n",
      "Predicted words: <start> technology and marketing <end> \n",
      "------------------------------------------------------------------------------------------\n",
      "Input sentence: <start> please see me or send me an email if you are interested and we will make <end> \n",
      "Actual words: <start> scheduling arrangements <end> \n",
      "Predicted words: <start> it <end> \n",
      "------------------------------------------------------------------------------------------\n",
      "Input sentence: <start> you can always check the web site to see if there are other <end> \n",
      "Actual words: <start> areas you may be interested in <end> \n",
      "Predicted words: <start> things <end> \n",
      "------------------------------------------------------------------------------------------\n",
      "Input sentence: <start> everyone should have access to this and if you do not know how <end> \n",
      "Actual words: <start> to load these files let me know <end> \n",
      "Predicted words: <start> we can do it <end> \n",
      "------------------------------------------------------------------------------------------\n",
      "Input sentence: <start> if you need me to do anything else in order for this to happen let <end> \n",
      "Actual words: <start> me know <end> \n",
      "Predicted words: <start> me know <end> \n",
      "------------------------------------------------------------------------------------------\n",
      "\n"
     ]
    }
   ],
   "source": [
    "#For train data, actual and predicted words\n",
    "train_bleu_list = []\n",
    "counter = 0\n",
    "for i,j in tqdm(zip(X_train_padded_docs[train_index,:],y_train_padded_docs[train_index,:])):\n",
    "    counter+=1\n",
    "    inp, a, p, bleu = get_bleu_score(model,i,j)\n",
    "    train_bleu_list.append(bleu)\n",
    "    #Print some actual and predicted words\n",
    "    if counter%100==0:\n",
    "        print('Input sentence:',inp)\n",
    "        print('Actual words:',a)\n",
    "        print('Predicted words:',p)\n",
    "        print(90*'-')"
   ]
  },
  {
   "cell_type": "code",
   "execution_count": 25,
   "metadata": {
    "colab": {
     "base_uri": "https://localhost:8080/",
     "height": 738,
     "referenced_widgets": [
      "fd37cc5d5d1e487e89d4e824c03756ae",
      "487a4bfe9ebc4e4497e156ed2377656f",
      "8b25a98f83664b5b9ff072334597c5cc",
      "3a16837624894c68bb214685f9a66bc4",
      "a60bc83bc60244b095e0b3f96412c342",
      "e6dbe328a0eb4ff8b633a9ef3ba6363f",
      "239cfdfc526d4060b2b80bafaa8d8116",
      "08b2a31dbbbe41e1961e6e377881ae18"
     ]
    },
    "colab_type": "code",
    "id": "o2B9_PCSL7Is",
    "outputId": "4fcb930a-f814-4485-8851-f267515d2ec4"
   },
   "outputs": [
    {
     "data": {
      "application/vnd.jupyter.widget-view+json": {
       "model_id": "fd37cc5d5d1e487e89d4e824c03756ae",
       "version_major": 2,
       "version_minor": 0
      },
      "text/plain": [
       "HBox(children=(FloatProgress(value=1.0, bar_style='info', max=1.0), HTML(value='')))"
      ]
     },
     "metadata": {
      "tags": []
     },
     "output_type": "display_data"
    },
    {
     "name": "stdout",
     "output_type": "stream",
     "text": [
      "Input sentence: <start> we are going to have to push back the meeting to review the model if that <end> \n",
      "Actual words: <start> ok <end> \n",
      "Predicted words: <start> is what you want to do <end> \n",
      "------------------------------------------------------------------------------------------\n",
      "Input sentence: <start> and they pay me to worry about things that can go wrong in <end> \n",
      "Actual words: <start> construction <end> \n",
      "Predicted words: <start> the system <end> \n",
      "------------------------------------------------------------------------------------------\n",
      "Input sentence: <start> please feel free to send this information to other friends and family who <end> \n",
      "Actual words: <start> may be interested <end> \n",
      "Predicted words: <start> might be interested in the group <end> \n",
      "------------------------------------------------------------------------------------------\n",
      "Input sentence: <start> you know we begin to believe that there is something we can do to <end> \n",
      "Actual words: <start> stay safe <end> \n",
      "Predicted words: <start> do <end> \n",
      "------------------------------------------------------------------------------------------\n",
      "Input sentence: <start> i am going to get more details on these separate requests but wanted your <end> \n",
      "Actual words: <start> initial interest level <end> \n",
      "Predicted words: <start> input <end> \n",
      "------------------------------------------------------------------------------------------\n",
      "Input sentence: <start> we are requested to send the letter right away so would appreciate your prompt <end> \n",
      "Actual words: <start> response <end> \n",
      "Predicted words: <start> response <end> \n",
      "------------------------------------------------------------------------------------------\n",
      "Input sentence: <start> we know you are busy we appreciate the consideration and above all we wish you well in the weeks <end> \n",
      "Actual words: <start> ahead <end> \n",
      "Predicted words: <start> of the meeting <end> \n",
      "------------------------------------------------------------------------------------------\n",
      "Input sentence: <start> please give me a call when you get this so we can pick a time to discuss <end> \n",
      "Actual words: <start> the project further <end> \n",
      "Predicted words: <start> this <end> \n",
      "------------------------------------------------------------------------------------------\n",
      "Input sentence: <start> i thank you in advance and hope that we can pull something together in the next few <end> \n",
      "Actual words: <start> weeks <end> \n",
      "Predicted words: <start> days <end> \n",
      "------------------------------------------------------------------------------------------\n",
      "Input sentence: <start> thank you again for your assistance with these issues and we look forward to receiving your <end> \n",
      "Actual words: <start> letter <end> \n",
      "Predicted words: <start> comments <end> \n",
      "------------------------------------------------------------------------------------------\n",
      "\n"
     ]
    }
   ],
   "source": [
    "#For validation data actual and predicted words\n",
    "val_bleu_list = []\n",
    "counter = 0\n",
    "for i,j in tqdm(zip(X_val_padded_docs[val_index,:],y_val_padded_docs[val_index,:])):\n",
    "    counter+=1\n",
    "    inp, a, p, bleu = get_bleu_score(model,i,j)\n",
    "    val_bleu_list.append(bleu)\n",
    "    #Print some actual and predicted words\n",
    "    if counter%100==0:\n",
    "        print('Input sentence:',inp)\n",
    "        print('Actual words:',a)\n",
    "        print('Predicted words:',p)\n",
    "        print(90*'-')"
   ]
  },
  {
   "cell_type": "code",
   "execution_count": 26,
   "metadata": {
    "colab": {
     "base_uri": "https://localhost:8080/",
     "height": 50
    },
    "colab_type": "code",
    "id": "EvU7rH7IL7Iy",
    "outputId": "98d57f68-9d78-4476-f582-2891844c671d"
   },
   "outputs": [
    {
     "name": "stdout",
     "output_type": "stream",
     "text": [
      "BLEU Score for train data of 1000 samples: 0.715\n",
      "BLEU Score for validation data of 1000 samples: 0.699\n"
     ]
    }
   ],
   "source": [
    "#Average BLEU Score for sentences\n",
    "print('BLEU Score for train data of 1000 samples:',np.round(sum(train_bleu_list)/len(train_bleu_list),3))\n",
    "print('BLEU Score for validation data of 1000 samples:',np.round(sum(val_bleu_list)/len(val_bleu_list),3))"
   ]
  },
  {
   "cell_type": "markdown",
   "metadata": {
    "colab_type": "text",
    "id": "0xqdMoy5cuFl"
   },
   "source": [
    "<h1>4. Predictions"
   ]
  },
  {
   "cell_type": "code",
   "execution_count": 0,
   "metadata": {
    "colab": {},
    "colab_type": "code",
    "id": "WgjJobuUcuFl"
   },
   "outputs": [],
   "source": [
    "def predict_sentence(enc_dec_model,input_sentence):\n",
    "    \n",
    "    #Maximum sequence length for input and target sentence\n",
    "    input_max_length = X_train_padded_docs.shape[1]\n",
    "    output_max_length = y_train_padded_docs.shape[1]\n",
    "\n",
    "    input_sentence = '<start> ' + input_sentence + ' <end>'\n",
    "    \n",
    "    #Convert texts to sequences\n",
    "    sent = inp_tokenizer.texts_to_sequences([input_sentence])\n",
    "    #Pad data\n",
    "    sent = tf.keras.preprocessing.sequence.pad_sequences(sent,maxlen=input_max_length,padding='post')\n",
    "    \n",
    "    #print('Encoder input shape (batch_size,sequence length):',sent.shape)\n",
    "    enc_hidden,enc_cell = enc_dec_model.layers[0](sent)\n",
    "    #print('Encoder hidden state shape (batch_size,units):',enc_hidden.shape)\n",
    "    #print('Encoder cell state shape (batch_size,units):',enc_cell.shape)\n",
    "    #print(90*'-')\n",
    "    \n",
    "    #Boundary case\n",
    "    dec_input = tf.expand_dims([out_tokenizer.word_index['<start>']], 1)\n",
    "    dec_hidden = enc_hidden\n",
    "    dec_cell = enc_cell\n",
    "    #print('Decoder input shape (batch_size,1):',dec_input.shape)\n",
    "    #print('Decoder hidden state shape (batch_size,units):',dec_hidden.shape)\n",
    "    #print('Decoder cell state shape (batch_size,units):',dec_cell.shape)\n",
    "    output_sent = ''\n",
    "    \n",
    "    for i in range(output_max_length-1):\n",
    "        #Get prediction from onestep_decoder\n",
    "        dec_output,dec_hidden,dec_cell = enc_dec_model.layers[1](dec_input,dec_hidden,dec_cell)\n",
    "        #print('Decoder output shape (batch_size,vocab_size):',dec_output.shape)\n",
    "        #print('Decoder hidden state shape (batch_size,units):',dec_hidden.shape)\n",
    "        #print('Decoder cell state shape (batch_size,units):',dec_cell.shape)\n",
    "    \n",
    "        #Get prediction from dense layer\n",
    "        #Shape == (batch_size,timestep,vocab_size) == (1,1,vocab_size)\n",
    "        outputs = enc_dec_model.layers[3](dec_output)\n",
    "        \n",
    "        #Extract predicted id from decoder output\n",
    "        key = np.argmax(outputs.numpy().reshape(-1))\n",
    "        \n",
    "        #Get word corresponding to index\n",
    "        output_sent+=out_tokenizer.index_word[key]+' '\n",
    "        \n",
    "        if out_tokenizer.index_word[key] == '<end>':\n",
    "            return output_sent\n",
    "        \n",
    "        #Make current decoder output as decoder input for next time step\n",
    "        dec_input = tf.expand_dims([key], 0)\n",
    "    \n",
    "    return output_sent"
   ]
  },
  {
   "cell_type": "code",
   "execution_count": 0,
   "metadata": {
    "colab": {
     "base_uri": "https://localhost:8080/",
     "height": 34
    },
    "colab_type": "code",
    "id": "tbVttk15Wx-m",
    "outputId": "fc21860b-32da-479c-c7c6-438f6f4fafa8"
   },
   "outputs": [
    {
     "data": {
      "text/plain": [
       "'the way <end> '"
      ]
     },
     "execution_count": 60,
     "metadata": {
      "tags": []
     },
     "output_type": "execute_result"
    }
   ],
   "source": [
    "predict_sentence(model,'where is')"
   ]
  },
  {
   "cell_type": "code",
   "execution_count": 0,
   "metadata": {
    "colab": {
     "base_uri": "https://localhost:8080/",
     "height": 34
    },
    "colab_type": "code",
    "id": "Fi7OT3XCWx-t",
    "outputId": "f1fd62e7-b597-4d50-8e63-3370b490c68b"
   },
   "outputs": [
    {
     "data": {
      "text/plain": [
       "'best way to get together <end> '"
      ]
     },
     "execution_count": 61,
     "metadata": {
      "tags": []
     },
     "output_type": "execute_result"
    }
   ],
   "source": [
    "predict_sentence(model,'when will the')"
   ]
  },
  {
   "cell_type": "code",
   "execution_count": 0,
   "metadata": {
    "colab": {
     "base_uri": "https://localhost:8080/",
     "height": 34
    },
    "colab_type": "code",
    "id": "dysFablEWx-w",
    "outputId": "8aff8c8a-ad55-40c5-c6ec-06345002c070"
   },
   "outputs": [
    {
     "data": {
      "text/plain": [
       "'good weekend <end> '"
      ]
     },
     "execution_count": 62,
     "metadata": {
      "tags": []
     },
     "output_type": "execute_result"
    }
   ],
   "source": [
    "predict_sentence(model,'have a')"
   ]
  },
  {
   "cell_type": "code",
   "execution_count": 0,
   "metadata": {
    "colab": {
     "base_uri": "https://localhost:8080/",
     "height": 34
    },
    "colab_type": "code",
    "id": "DIgD44y6Wx-0",
    "outputId": "54839c5c-b50b-48e6-bce3-6a59f96ccb0c"
   },
   "outputs": [
    {
     "data": {
      "text/plain": [
       "'new date is the same <end> '"
      ]
     },
     "execution_count": 67,
     "metadata": {
      "tags": []
     },
     "output_type": "execute_result"
    }
   ],
   "source": [
    "predict_sentence(model,'ensure the')"
   ]
  },
  {
   "cell_type": "code",
   "execution_count": 0,
   "metadata": {
    "colab": {
     "base_uri": "https://localhost:8080/",
     "height": 34
    },
    "colab_type": "code",
    "id": "jbug0uI7Wx-3",
    "outputId": "49124f98-4c50-4041-b48a-30a711227558"
   },
   "outputs": [
    {
     "data": {
      "text/plain": [
       "'you for your time and consideration <end> '"
      ]
     },
     "execution_count": 69,
     "metadata": {
      "tags": []
     },
     "output_type": "execute_result"
    }
   ],
   "source": [
    "predict_sentence(model,'thank')"
   ]
  },
  {
   "cell_type": "markdown",
   "metadata": {},
   "source": [
    "<h1 style=\"font-size:35px\"><center>Encoder Decoder Attention Model"
   ]
  },
  {
   "cell_type": "code",
   "execution_count": 2,
   "metadata": {
    "colab": {
     "base_uri": "https://localhost:8080/",
     "height": 222
    },
    "colab_type": "code",
    "id": "9xrQi-N9MPy0",
    "outputId": "f5be2b06-4aa5-46a0-b341-2d675bb56734"
   },
   "outputs": [
    {
     "name": "stdout",
     "output_type": "stream",
     "text": [
      "--2020-06-09 09:33:35--  https://doc-0o-ak-docs.googleusercontent.com/docs/securesc/qbvov0hd66fbepcf5v8uge9fuarie7t4/pb164rsi80irjfu5iub508823718ee9q/1591695150000/02963250765125473783/02963250765125473783/1ZQRWKkDbx1agHPIzaX-3L9UgfpPBboQi?e=download&authuser=1&nonce=tc3g03pp0suqo&user=02963250765125473783&hash=a8ftsob7vg8c9oues2uo1rm6ap6i7g77\n",
      "Resolving doc-0o-ak-docs.googleusercontent.com (doc-0o-ak-docs.googleusercontent.com)... 74.125.203.132, 2404:6800:4008:c03::84\n",
      "Connecting to doc-0o-ak-docs.googleusercontent.com (doc-0o-ak-docs.googleusercontent.com)|74.125.203.132|:443... connected.\n",
      "HTTP request sent, awaiting response... 200 OK\n",
      "Length: unspecified [application/octet-stream]\n",
      "Saving to: ‘encoded_data’\n",
      "\n",
      "\r",
      "encoded_data            [<=>                 ]       0  --.-KB/s               \r",
      "encoded_data            [ <=>                ]   7.08M  --.-KB/s    in 0.1s    \n",
      "\n",
      "2020-06-09 09:33:36 (55.0 MB/s) - ‘encoded_data’ saved [7426606]\n",
      "\n"
     ]
    }
   ],
   "source": [
    "!wget --header=\"Host: doc-0o-ak-docs.googleusercontent.com\" --header=\"User-Agent: Mozilla/5.0 (Windows NT 10.0; Win64; x64) AppleWebKit/537.36 (KHTML, like Gecko) Chrome/83.0.4103.97 Safari/537.36\" --header=\"Accept: text/html,application/xhtml+xml,application/xml;q=0.9,image/webp,image/apng,*/*;q=0.8,application/signed-exchange;v=b3;q=0.9\" --header=\"Accept-Language: en-IN,en-GB;q=0.9,en-US;q=0.8,en;q=0.7\" --header=\"Referer: https://drive.google.com/drive/u/1/folders/1Nz-Vq0RhziotMAesPgnisN_Ti9HNQ51f\" --header=\"Cookie: AUTH_hsr61oqao0sqa2rdskku1n6gcr67pomr_nonce=tc3g03pp0suqo; _ga=GA1.2.1509677474.1591248567\" --header=\"Connection: keep-alive\" \"https://doc-0o-ak-docs.googleusercontent.com/docs/securesc/qbvov0hd66fbepcf5v8uge9fuarie7t4/pb164rsi80irjfu5iub508823718ee9q/1591695150000/02963250765125473783/02963250765125473783/1ZQRWKkDbx1agHPIzaX-3L9UgfpPBboQi?e=download&authuser=1&nonce=tc3g03pp0suqo&user=02963250765125473783&hash=a8ftsob7vg8c9oues2uo1rm6ap6i7g77\" -c -O 'encoded_data'"
   ]
  },
  {
   "cell_type": "markdown",
   "metadata": {
    "colab_type": "text",
    "id": "c5JLhjfZ0XEz"
   },
   "source": [
    "<h1>1. Read Featurized data</h1> \n",
    "<h2>(Refer Word Featurization Section 3 of 2_Data_Preparation.ipynb)</h2> "
   ]
  },
  {
   "cell_type": "code",
   "execution_count": 0,
   "metadata": {
    "colab": {},
    "colab_type": "code",
    "id": "AnTFvgjaWx8o"
   },
   "outputs": [],
   "source": [
    "[X_train_padded_docs,y_train_padded_docs,X_val_padded_docs,y_val_padded_docs,inp_embedding_matrix,\n",
    "                             out_embedding_matrix,inp_tokenizer,out_tokenizer] = joblib.load('encoded_data')"
   ]
  },
  {
   "cell_type": "markdown",
   "metadata": {
    "colab_type": "text",
    "id": "1gi9gVXkcuCy"
   },
   "source": [
    "<h1>2. Define Model Architecture"
   ]
  },
  {
   "cell_type": "markdown",
   "metadata": {
    "colab_type": "text",
    "id": "icMEwKexcuC2"
   },
   "source": [
    "<h2>2.1. Encoder Model"
   ]
  },
  {
   "cell_type": "code",
   "execution_count": 0,
   "metadata": {
    "colab": {},
    "colab_type": "code",
    "id": "wgtZmDqYcuC6"
   },
   "outputs": [],
   "source": [
    "#Encoder class\n",
    "class Encoder(tf.keras.layers.Layer):\n",
    "    def __init__(self, vocab_size, embedding_dim,embedding_matrix,enc_units,**kwargs):\n",
    "        super(Encoder,self).__init__(**kwargs)\n",
    "        self.vocab_size = vocab_size\n",
    "        self.embedding_dim = embedding_dim\n",
    "        self.enc_units = enc_units\n",
    "        self.embedding = Embedding(input_dim=self.vocab_size, output_dim=self.embedding_dim,weights=[embedding_matrix],\n",
    "                                   mask_zero=True,name='Encoder_Embedding_layer',trainable=False)\n",
    "        self.lstm = LSTM(self.enc_units,return_sequences=True,return_state=True,name='Encoder_LSTM')\n",
    "\n",
    "    def call(self, x):\n",
    "        x = self.embedding(x)\n",
    "        #state_h = Hidden state output of last time step (Output of last time step)\n",
    "        #state_c = Cell state output of last time step\n",
    "        lstm_out, state_h, state_c = self.lstm(x)\n",
    "        return lstm_out, state_h, state_c"
   ]
  },
  {
   "cell_type": "code",
   "execution_count": 5,
   "metadata": {
    "colab": {
     "base_uri": "https://localhost:8080/",
     "height": 34
    },
    "colab_type": "code",
    "id": "uc064MCCcuC_",
    "outputId": "4855ec73-7784-4c67-83bf-65916f291e29"
   },
   "outputs": [
    {
     "name": "stdout",
     "output_type": "stream",
     "text": [
      "Input data Vocab size: 1470\n"
     ]
    }
   ],
   "source": [
    "input_vocab_size = len(inp_tokenizer.word_index) + 1\n",
    "print('Input data Vocab size:',input_vocab_size)"
   ]
  },
  {
   "cell_type": "code",
   "execution_count": 6,
   "metadata": {
    "colab": {
     "base_uri": "https://localhost:8080/",
     "height": 101
    },
    "colab_type": "code",
    "id": "P_xpJvvccuDE",
    "outputId": "aeebd4ea-372f-44cb-99b7-01b529fc837d"
   },
   "outputs": [
    {
     "name": "stdout",
     "output_type": "stream",
     "text": [
      "Shape of batch input data (batch_size,sequence length): (32, 23)\n",
      "Shape of batch output data (batch_size,sequence length): (32, 23)\n",
      "Shape of encoder output (batch_size,sequence length,units): (32, 23, 256)\n",
      "Shape of hidden state output of last time step (batch_size,units): (32, 256)\n",
      "Shape of memory state output of last time step (batch_size,units): (32, 256)\n"
     ]
    }
   ],
   "source": [
    "#Create encoder object\n",
    "BATCH_SIZE = 32\n",
    "encoder = Encoder(vocab_size=input_vocab_size,embedding_dim=300,embedding_matrix=inp_embedding_matrix,\n",
    "                  enc_units=256,name='Encoder')\n",
    "\n",
    "#Get data from data generator\n",
    "example_input_batch, example_target_batch = X_train_padded_docs[:BATCH_SIZE], y_train_padded_docs[:BATCH_SIZE]\n",
    "print('Shape of batch input data (batch_size,sequence length):',example_input_batch.shape)\n",
    "print('Shape of batch output data (batch_size,sequence length):',example_target_batch.shape)\n",
    "\n",
    "#Genearte sample ouptput and hidden state from encoder object\n",
    "sample_output, sample_hidden_output, sample_cell_output = encoder(example_input_batch)\n",
    "print('Shape of encoder output (batch_size,sequence length,units):',sample_output.shape)\n",
    "print('Shape of hidden state output of last time step (batch_size,units):',sample_hidden_output.shape)\n",
    "print('Shape of memory state output of last time step (batch_size,units):',sample_cell_output.shape)"
   ]
  },
  {
   "cell_type": "markdown",
   "metadata": {
    "colab_type": "text",
    "id": "dGFLsbQOcuDJ"
   },
   "source": [
    "<h2>2.2. Attention layer</h2>"
   ]
  },
  {
   "cell_type": "markdown",
   "metadata": {
    "colab_type": "text",
    "id": "Rp9SoJz2cuDK"
   },
   "source": [
    "For a particular time step of Decoder, the attention layer takes the output from the encoder (output at all time steps) and decoder output (hidden state output of decoder) at previous time step and computes the context vector. The context vector concatenated with the decoder output of previous time step is given as an input to the decoder for the current time step."
   ]
  },
  {
   "cell_type": "code",
   "execution_count": 0,
   "metadata": {
    "colab": {},
    "colab_type": "code",
    "id": "KMN95hW8w8Kv"
   },
   "outputs": [],
   "source": [
    "class BahdanauAttention(tf.keras.layers.Layer):\n",
    "    def __init__(self,units):\n",
    "        super(BahdanauAttention,self).__init__()\n",
    "        self.units = units\n",
    "        self.W1 = Dense(units)\n",
    "        self.W2 = Dense(units)\n",
    "        self.V = Dense(1)\n",
    "        \n",
    "    def call(self, hs, ht):\n",
    "        #hs = Encoder output at all time steps\n",
    "        #ht = Decoder output at last time step (Hidden state output of decoder at last time step)\n",
    "        #Add time axis to ht, this is done to perform broadcast addition along time axis to calculate score\n",
    "        #hs shape == (batch size,max_length,hidden size)\n",
    "        #ht shape == (batch size,hidden size)\n",
    "        #ht_with_time_axis shape == (batch size,1,hidden size)\n",
    "        ht_with_time_axis = tf.expand_dims(ht, axis=1)\n",
    "        \n",
    "        #score shape == (batch size, max_length, 1)\n",
    "        score = self.V(tf.nn.tanh(self.W1(ht_with_time_axis) + self.W2(hs)))\n",
    "        \n",
    "        #Softmaxing the scores to get attention weights (alpha's)\n",
    "        #attention_weights shape == (batch size, max_length, 1)\n",
    "        attention_weights = tf.nn.softmax(score, axis=1)\n",
    "\n",
    "        #Get context vector\n",
    "        #context_vector shape after sum == (batch_size, hidden_size)\n",
    "        context_vector = attention_weights * hs\n",
    "        context_vector = tf.reduce_sum(context_vector, axis=1)\n",
    "\n",
    "        return context_vector, attention_weights"
   ]
  },
  {
   "cell_type": "code",
   "execution_count": 8,
   "metadata": {
    "colab": {
     "base_uri": "https://localhost:8080/",
     "height": 50
    },
    "colab_type": "code",
    "id": "uw8EUNgXw8Kz",
    "outputId": "f821caa8-cb21-4990-f811-a9fc35d76fa3"
   },
   "outputs": [
    {
     "name": "stdout",
     "output_type": "stream",
     "text": [
      "Shape of context vector (batch_size,units): (32, 256)\n",
      "Shape of attention weights (batch_size,sequence length,1): (32, 23, 1)\n"
     ]
    }
   ],
   "source": [
    "#Initalise Attention\n",
    "attention_layer = BahdanauAttention(units=128)\n",
    "sample_context_vector, sample_attention_weights = attention_layer(sample_output,sample_hidden_output)\n",
    "print('Shape of context vector (batch_size,units):',sample_context_vector.shape)\n",
    "print('Shape of attention weights (batch_size,sequence length,1):',sample_attention_weights.shape)"
   ]
  },
  {
   "cell_type": "markdown",
   "metadata": {
    "colab_type": "text",
    "id": "VWTi0DbhcuDf"
   },
   "source": [
    "<h2>2.3. Decoder Model"
   ]
  },
  {
   "cell_type": "markdown",
   "metadata": {
    "colab_type": "text",
    "id": "zOymahJ7cuDg"
   },
   "source": [
    "<h3>2.3.1. One Step Decoder"
   ]
  },
  {
   "cell_type": "code",
   "execution_count": 0,
   "metadata": {
    "colab": {},
    "colab_type": "code",
    "id": "lxVxxpnbcuDg"
   },
   "outputs": [],
   "source": [
    "class OneStepDecoder(tf.keras.layers.Layer):\n",
    "    def __init__(self, vocab_size, embedding_dim,embedding_matrix,dec_units,att_units):\n",
    "        super(OneStepDecoder, self).__init__()\n",
    "        self.attention = BahdanauAttention(units=att_units)\n",
    "        self.embedding = Embedding(input_dim=vocab_size, output_dim=embedding_dim,weights=[embedding_matrix],mask_zero=True,\n",
    "                                   name='Decoder_Embedding_layer',trainable=False)\n",
    "        self.lstm = LSTM(dec_units,return_sequences=False,return_state=True,name='Decoder_LSTM',dropout=0.33)\n",
    "        self.fc = Dense(vocab_size)\n",
    "        \n",
    "    def call(self, x, hidden, cell, enc_output):\n",
    "        #enc_output shape == (batch_size, max_length, hidden_size)\n",
    "        context_vector, attention_weights = self.attention(enc_output,hidden)\n",
    "\n",
    "        # x shape after passing through embedding == (batch_size, 1, embedding_dim)\n",
    "        x = self.embedding(x)\n",
    "        \n",
    "        # x shape after concatenation == (batch_size, 1, embedding_dim + hidden_size)\n",
    "        x = tf.concat([tf.expand_dims(context_vector, 1), x], axis=-1)\n",
    "        \n",
    "        # passing the concatenated vector to the LSTM\n",
    "        output, state_h, state_c = self.lstm(x,initial_state=[hidden,cell])\n",
    "        \n",
    "        # output shape == (batch_size, vocab)\n",
    "        x = self.fc(output)\n",
    "\n",
    "        return x, state_h, state_c, attention_weights"
   ]
  },
  {
   "cell_type": "code",
   "execution_count": 10,
   "metadata": {
    "colab": {
     "base_uri": "https://localhost:8080/",
     "height": 34
    },
    "colab_type": "code",
    "id": "0Qhm_VdocuDr",
    "outputId": "7a71aa27-6b10-425b-86b0-dfcfa640e13d"
   },
   "outputs": [
    {
     "name": "stdout",
     "output_type": "stream",
     "text": [
      "Output data Vocab size: 1469\n"
     ]
    }
   ],
   "source": [
    "output_vocab_size = len(out_tokenizer.word_index) + 1\n",
    "print('Output data Vocab size:',output_vocab_size)"
   ]
  },
  {
   "cell_type": "code",
   "execution_count": 11,
   "metadata": {
    "colab": {
     "base_uri": "https://localhost:8080/",
     "height": 101
    },
    "colab_type": "code",
    "id": "b9pinu5acuDv",
    "outputId": "3e214f80-d704-4ac7-e2c6-da2cfc33d04e"
   },
   "outputs": [
    {
     "name": "stdout",
     "output_type": "stream",
     "text": [
      "One Step Decoder with Attention:\n",
      "Shape of decoder output (batch_size,vocab_size): (32, 1469)\n",
      "Shape of decoder hidden state output (batch_size,units): (32, 256)\n",
      "Shape of decoder memory state output (batch_size,units): (32, 256)\n",
      "Shape of attention weights (batch_size,sequence length,1): (32, 23, 1)\n"
     ]
    }
   ],
   "source": [
    "#Initialise one step decoder with attention\n",
    "BATCH_SIZE = 32\n",
    "osd = OneStepDecoder(vocab_size=output_vocab_size,embedding_dim=300,embedding_matrix=out_embedding_matrix,\n",
    "                     dec_units=256,att_units=128)\n",
    "\n",
    "#Input to decoder for first time step\n",
    "dec_input = tf.expand_dims([out_tokenizer.word_index['<start>']] * BATCH_SIZE, 1)\n",
    "\n",
    "#Geneate sample output, hidden states and attention weights from decoder object\n",
    "sample_output_dec,sample_hidden_output_dec,sample_cell_output_dec,sample_attention_weights = osd(dec_input,\n",
    "                                                                                                 sample_hidden_output, \n",
    "                                                                                                 sample_cell_output,\n",
    "                                                                                                 sample_output)\n",
    "print('One Step Decoder with Attention:')\n",
    "print('Shape of decoder output (batch_size,vocab_size):',sample_output_dec.shape)\n",
    "print('Shape of decoder hidden state output (batch_size,units):',sample_hidden_output_dec.shape)\n",
    "print('Shape of decoder memory state output (batch_size,units):',sample_cell_output_dec.shape)\n",
    "print('Shape of attention weights (batch_size,sequence length,1):',sample_attention_weights.shape)"
   ]
  },
  {
   "cell_type": "markdown",
   "metadata": {
    "colab_type": "text",
    "id": "4ZxADS2EcuD8"
   },
   "source": [
    "<h3>2.3.2. Decoder for Training"
   ]
  },
  {
   "cell_type": "code",
   "execution_count": 0,
   "metadata": {
    "colab": {},
    "colab_type": "code",
    "id": "RiG649pXcuD9"
   },
   "outputs": [],
   "source": [
    "class Decoder(tf.keras.layers.Layer):\n",
    "    def __init__(self, vocab_size, embedding_dim,embedding_matrix,dec_units,att_units,**kwargs):\n",
    "        super(Decoder, self).__init__(**kwargs)\n",
    "        self.vocab_size = vocab_size\n",
    "        self.embedding_dim = embedding_dim\n",
    "        self.dec_units = dec_units\n",
    "        self.att_units = att_units\n",
    "        self.onestep_decoder = OneStepDecoder(vocab_size=self.vocab_size,embedding_dim=self.embedding_dim,\n",
    "                                              embedding_matrix=embedding_matrix,\n",
    "                                              dec_units=self.dec_units,\n",
    "                                              att_units=self.att_units)\n",
    "        \n",
    "    #@tf.function\n",
    "    def call(self,decoder_input,decoder_hidden_state,decoder_cell_state,encoder_outputs):\n",
    "        \n",
    "        #Decoder must output words after <start> token hence sequence length is reduced by 1\n",
    "        all_outputs = tf.TensorArray(tf.float32,size=decoder_input.shape[1]-1,name='Output_arrays')\n",
    "        \n",
    "        #Initialise the hidden and cell states of decoder\n",
    "        hidden_output_dec = decoder_hidden_state\n",
    "        cell_output_dec = decoder_cell_state\n",
    "        \n",
    "        #for each timestep in decoder input (output after <start> token)\n",
    "        for timestep in range(decoder_input.shape[1]-1):\n",
    "            #Get the output, hidden states from one step decoder\n",
    "            output_dec,hidden_output_dec,cell_output_dec,_ = self.onestep_decoder(decoder_input[:,timestep:timestep+1],\n",
    "                                                                                  hidden_output_dec,cell_output_dec,\n",
    "                                                                                  encoder_outputs)\n",
    "            \n",
    "            #output_dec shape == (batch_size,vocab_size)\n",
    "            #Storing all outputs\n",
    "            all_outputs = all_outputs.write(timestep,output_dec)\n",
    "        #all_outputs shape after stacking == (timestep-1,batch_size,vocab_size)\n",
    "        #all_outputs shape after transpose == (batch_size,timestep-1,vocab_size)\n",
    "        all_outputs = tf.transpose(all_outputs.stack(),[1,0,2])\n",
    "        \n",
    "        return all_outputs"
   ]
  },
  {
   "cell_type": "code",
   "execution_count": 13,
   "metadata": {
    "colab": {
     "base_uri": "https://localhost:8080/",
     "height": 67
    },
    "colab_type": "code",
    "id": "yBIUAdeTcuEB",
    "outputId": "dee8416d-0c59-40a0-fc59-86ab70cbeca2"
   },
   "outputs": [
    {
     "name": "stdout",
     "output_type": "stream",
     "text": [
      "Decoder with Attention:\n",
      "Shape of decoder input (batch_size,sequence length): (32, 23)\n",
      "Shape of decoder output (batch_size,sequence length-1,vocab_size): (32, 22, 1469)\n"
     ]
    }
   ],
   "source": [
    "#Initialise decoder\n",
    "decoder = Decoder(vocab_size=output_vocab_size,embedding_dim=300,embedding_matrix=out_embedding_matrix,\n",
    "                  dec_units=256,att_units=128)\n",
    "\n",
    "#Generate output from decoder\n",
    "all_outputs = decoder(example_target_batch,sample_hidden_output,sample_cell_output,sample_output)\n",
    "print('Decoder with Attention:')\n",
    "print('Shape of decoder input (batch_size,sequence length):',example_target_batch.shape)\n",
    "print('Shape of decoder output (batch_size,sequence length-1,vocab_size):',all_outputs.shape)"
   ]
  },
  {
   "cell_type": "markdown",
   "metadata": {
    "colab_type": "text",
    "id": "n3JlgiLdcuEM"
   },
   "source": [
    "<h2>2.4. Loss function"
   ]
  },
  {
   "cell_type": "code",
   "execution_count": 0,
   "metadata": {
    "colab": {},
    "colab_type": "code",
    "id": "7DTKipswcuEN"
   },
   "outputs": [],
   "source": [
    "loss_object = tf.keras.losses.SparseCategoricalCrossentropy(from_logits=True, reduction='none')"
   ]
  },
  {
   "cell_type": "code",
   "execution_count": 0,
   "metadata": {
    "colab": {},
    "colab_type": "code",
    "id": "GHe4U-qBcuER"
   },
   "outputs": [],
   "source": [
    "def loss_function(real, pred):\n",
    "    \n",
    "    #Identify zeros in real tensor/Creating masking tensor\n",
    "    mask = tf.math.logical_not(tf.math.equal(real, 0))\n",
    "    #Calculate log loss for each class\n",
    "    loss_ = loss_object(real, pred)\n",
    "    #Change data type of mask\n",
    "    mask = tf.cast(mask, dtype=loss_.dtype)\n",
    "    #Calculate loss considering masking\n",
    "    loss_ *= mask\n",
    "\n",
    "    return tf.reduce_mean(loss_)"
   ]
  },
  {
   "cell_type": "markdown",
   "metadata": {
    "colab_type": "text",
    "id": "c2qlauC-cuET"
   },
   "source": [
    "<h2>2.5. Model"
   ]
  },
  {
   "cell_type": "code",
   "execution_count": 0,
   "metadata": {
    "colab": {},
    "colab_type": "code",
    "id": "EDQubxhQcuEU"
   },
   "outputs": [],
   "source": [
    "class Encoder_Decoder_Attention_Model(tf.keras.models.Model):\n",
    "    def __init__(self, input_vocab_size,output_vocab_size,embedding_dim,enc_embedding_matrix,dec_embedding_matrix,units,\n",
    "                 att_units,**kwargs):\n",
    "        super(Encoder_Decoder_Attention_Model,self).__init__(**kwargs)\n",
    "        self.encoder = Encoder(vocab_size=input_vocab_size, embedding_dim=embedding_dim,embedding_matrix=enc_embedding_matrix,\n",
    "                               enc_units=units,name='Encoder_layer')\n",
    "        self.decoder = Decoder(vocab_size=output_vocab_size, embedding_dim=embedding_dim,embedding_matrix=dec_embedding_matrix,\n",
    "                               dec_units=units,att_units=att_units,name='Decoder_layer')\n",
    "        \n",
    "    def call(self, inputs):\n",
    "        #Inputs will contain encoder input and decoder input\n",
    "        #Separate encoder and decoder inputs\n",
    "        encoder_inputs, decoder_inputs = inputs[0], inputs[1]\n",
    "        \n",
    "        #Genearte output and hidden states from encoder object\n",
    "        encoder_outputs, enc_hidden_output, enc_cell_output = self.encoder(encoder_inputs)\n",
    "\n",
    "        #Generate output from decoder\n",
    "        #Initialise hidden states of decoder with hidden states of encoder\n",
    "        all_outputs = self.decoder(decoder_inputs,enc_hidden_output,enc_cell_output,encoder_outputs)\n",
    "        \n",
    "        return all_outputs"
   ]
  },
  {
   "cell_type": "markdown",
   "metadata": {
    "colab_type": "text",
    "id": "IcrEYcmlL7H6"
   },
   "source": [
    "<h2>2.6. Model Evaluation"
   ]
  },
  {
   "cell_type": "code",
   "execution_count": 0,
   "metadata": {
    "colab": {},
    "colab_type": "code",
    "id": "WBKLoKUbL7H7"
   },
   "outputs": [],
   "source": [
    "#Function returns texts from a sequence\n",
    "def get_text_from_seq(sequence,tokenizer):\n",
    "    sent =''\n",
    "    for i in sequence:\n",
    "        if i!=0:\n",
    "            sent+=tokenizer.index_word[i]+' '\n",
    "    return sent"
   ]
  },
  {
   "cell_type": "code",
   "execution_count": 0,
   "metadata": {
    "colab": {},
    "colab_type": "code",
    "id": "ZQ_KwVRdL7H_"
   },
   "outputs": [],
   "source": [
    "#Function to get bleu score for a sentence\n",
    "def get_bleu_score(enc_dec_model,input_seq,expected_output_seq):\n",
    "    \n",
    "    inp_max_length = X_train_padded_docs.shape[1]\n",
    "    out_max_length = y_train_padded_docs.shape[1]\n",
    "    \n",
    "    #Get output from encoder\n",
    "    enc_outputs,enc_hidden,enc_cell = enc_dec_model.layers[0](input_seq.reshape(1,inp_max_length))\n",
    "    \n",
    "    #Boundary case for decoder\n",
    "    dec_input = tf.expand_dims([out_tokenizer.word_index['<start>']], 1)\n",
    "    dec_hidden = enc_hidden\n",
    "    dec_cell = enc_cell\n",
    "    \n",
    "    #Predicted output sequence\n",
    "    #Add <start> token to output sequence\n",
    "    output_seq = [out_tokenizer.word_index['<start>']]\n",
    "    \n",
    "    #The model will start predicting after start token, hence max_length is subtracted by 1\n",
    "    for i in range(out_max_length-1):\n",
    "        #Get prediction from onestep_decoder\n",
    "        dec_output,dec_hidden,dec_cell,_ = enc_dec_model.layers[1].onestep_decoder(dec_input,dec_hidden,dec_cell,enc_outputs)\n",
    "        \n",
    "        #Extract predicted id from decoder output\n",
    "        key = tf.argmax(dec_output[0]).numpy()\n",
    "        \n",
    "        output_seq.append(key)\n",
    "        \n",
    "        if out_tokenizer.index_word[key] == '<end>':\n",
    "            #Get texts from input sentence\n",
    "            input_sent = get_text_from_seq(input_seq,out_tokenizer)\n",
    "            #Get texts from sequence for actual sentence\n",
    "            actual = get_text_from_seq(expected_output_seq,out_tokenizer)\n",
    "            #Get texts from sequence for predicted sentence\n",
    "            prediction = get_text_from_seq(output_seq,out_tokenizer)\n",
    "            return input_sent,actual,prediction,bleu_score.sentence_bleu([actual.split()],prediction.split())\n",
    "        \n",
    "        #Make current decoder output as decoder input for next time step\n",
    "        dec_input = tf.expand_dims([key], 0)\n",
    "    \n",
    "    input_sent = get_text_from_seq(input_seq,out_tokenizer)\n",
    "    actual = get_text_from_seq(expected_output_seq,out_tokenizer)\n",
    "    prediction = get_text_from_seq(output_seq,out_tokenizer)\n",
    "    return input_sent,actual,prediction,bleu_score.sentence_bleu([actual.split()],prediction.split())"
   ]
  },
  {
   "cell_type": "markdown",
   "metadata": {
    "colab_type": "text",
    "id": "A6naCdjvcuEa"
   },
   "source": [
    "<h1>3. Model Training"
   ]
  },
  {
   "cell_type": "code",
   "execution_count": 0,
   "metadata": {
    "colab": {},
    "colab_type": "code",
    "id": "5TTqWUC8cuEa"
   },
   "outputs": [],
   "source": [
    "#Set Parameters\n",
    "input_vocab_size = len(inp_tokenizer.word_index) + 1  \n",
    "output_vocab_size = len(out_tokenizer.word_index) + 1  \n",
    "#Encoding and decoding Embedding layer dimension\n",
    "embedding_dim = 300\n",
    "enc_embedding_matrix = inp_embedding_matrix\n",
    "dec_embedding_matrix = out_embedding_matrix\n",
    "#Encoding and decoding LSTM layer units\n",
    "units = 128\n",
    "att_units = units\n",
    "\n",
    "#Initialise object for Model class\n",
    "model = Encoder_Decoder_Attention_Model(input_vocab_size,output_vocab_size,embedding_dim,enc_embedding_matrix,\n",
    "                                        dec_embedding_matrix,units,att_units,name='Encoder_Decoder_Attention_Model')"
   ]
  },
  {
   "cell_type": "code",
   "execution_count": 54,
   "metadata": {
    "colab": {
     "base_uri": "https://localhost:8080/",
     "height": 218
    },
    "colab_type": "code",
    "id": "PKDJZOJDcuEc",
    "outputId": "7c669838-dafd-4384-e5f8-473c75ee2306"
   },
   "outputs": [
    {
     "name": "stdout",
     "output_type": "stream",
     "text": [
      "Model: \"Encoder_Decoder_Attention_Model\"\n",
      "_________________________________________________________________\n",
      "Layer (type)                 Output Shape              Param #   \n",
      "=================================================================\n",
      "Encoder_layer (Encoder)      multiple                  660648    \n",
      "_________________________________________________________________\n",
      "Decoder_layer (Decoder)      multiple                  948538    \n",
      "=================================================================\n",
      "Total params: 1,609,186\n",
      "Trainable params: 727,486\n",
      "Non-trainable params: 881,700\n",
      "_________________________________________________________________\n"
     ]
    }
   ],
   "source": [
    "#Max sequence length\n",
    "model.build(input_shape=[(None,X_train_padded_docs.shape[1]),(None,y_train_padded_docs.shape[1])])\n",
    "model.summary()"
   ]
  },
  {
   "cell_type": "code",
   "execution_count": 0,
   "metadata": {
    "colab": {},
    "colab_type": "code",
    "id": "20CwK6Chcj1d"
   },
   "outputs": [],
   "source": [
    "def data_generator(X,y,BATCH_SIZE,shuffle=True):\n",
    "    dataset = tf.data.Dataset.from_tensor_slices((X, y))\n",
    "    if shuffle:\n",
    "        dataset = dataset.shuffle(len(X)).batch(BATCH_SIZE,drop_remainder=True)\n",
    "    else:\n",
    "        dataset = dataset.batch(BATCH_SIZE,drop_remainder=True)\n",
    "    dataset = dataset.prefetch(buffer_size=tf.data.experimental.AUTOTUNE)\n",
    "    return dataset"
   ]
  },
  {
   "cell_type": "code",
   "execution_count": 0,
   "metadata": {
    "colab": {},
    "colab_type": "code",
    "id": "lEn_0bp2cuEf"
   },
   "outputs": [],
   "source": [
    "#Create folder to save model weights\n",
    "if not os.path.isdir('model_save'):\n",
    "    os.makedirs('model_save')"
   ]
  },
  {
   "cell_type": "code",
   "execution_count": 0,
   "metadata": {
    "colab": {},
    "colab_type": "code",
    "id": "EsXuVDsV0XIU"
   },
   "outputs": [],
   "source": [
    "# Clear any logs from previous runs\n",
    "!rm -rf ./logs/"
   ]
  },
  {
   "cell_type": "code",
   "execution_count": 57,
   "metadata": {
    "colab": {
     "base_uri": "https://localhost:8080/",
     "height": 726
    },
    "colab_type": "code",
    "id": "tyKYm6yocuEm",
    "outputId": "cc85a573-83cb-4c48-a122-8f56df91cc30",
    "scrolled": false
   },
   "outputs": [
    {
     "name": "stdout",
     "output_type": "stream",
     "text": [
      "Epoch 1/10\n",
      "  2/642 [..............................] - ETA: 7:52 - loss: 1.9430WARNING:tensorflow:Method (on_train_batch_end) is slow compared to the batch update (0.623773). Check your callbacks.\n",
      "642/642 [==============================] - ETA: 0s - loss: 1.2220\n",
      "Epoch 00001: loss improved from inf to 1.22204, saving model to model_save/weights-01-1.2220.hdf5\n",
      "642/642 [==============================] - 190s 296ms/step - loss: 1.2220 - val_loss: 0.9487\n",
      "Epoch 2/10\n",
      "642/642 [==============================] - ETA: 0s - loss: 1.0319\n",
      "Epoch 00002: loss improved from 1.22204 to 1.03190, saving model to model_save/weights-02-1.0319.hdf5\n",
      "642/642 [==============================] - 179s 278ms/step - loss: 1.0319 - val_loss: 0.9070\n",
      "Epoch 3/10\n",
      "642/642 [==============================] - ETA: 0s - loss: 0.9832\n",
      "Epoch 00003: loss improved from 1.03190 to 0.98319, saving model to model_save/weights-03-0.9832.hdf5\n",
      "642/642 [==============================] - 179s 279ms/step - loss: 0.9832 - val_loss: 0.8954\n",
      "Epoch 4/10\n",
      "642/642 [==============================] - ETA: 0s - loss: 0.9560\n",
      "Epoch 00004: loss improved from 0.98319 to 0.95603, saving model to model_save/weights-04-0.9560.hdf5\n",
      "642/642 [==============================] - 179s 278ms/step - loss: 0.9560 - val_loss: 0.8926\n",
      "Epoch 5/10\n",
      "642/642 [==============================] - ETA: 0s - loss: 0.9384\n",
      "Epoch 00005: loss improved from 0.95603 to 0.93839, saving model to model_save/weights-05-0.9384.hdf5\n",
      "642/642 [==============================] - 179s 279ms/step - loss: 0.9384 - val_loss: 0.8935\n",
      "Epoch 6/10\n",
      "642/642 [==============================] - ETA: 0s - loss: 0.9253\n",
      "Epoch 00006: loss improved from 0.93839 to 0.92527, saving model to model_save/weights-06-0.9253.hdf5\n",
      "642/642 [==============================] - 179s 278ms/step - loss: 0.9253 - val_loss: 0.8943\n",
      "Epoch 7/10\n",
      "642/642 [==============================] - ETA: 0s - loss: 0.9152\n",
      "Epoch 00007: loss improved from 0.92527 to 0.91517, saving model to model_save/weights-07-0.9152.hdf5\n",
      "642/642 [==============================] - 178s 278ms/step - loss: 0.9152 - val_loss: 0.8968\n",
      "Epoch 8/10\n",
      "642/642 [==============================] - ETA: 0s - loss: 0.9073\n",
      "Epoch 00008: loss improved from 0.91517 to 0.90730, saving model to model_save/weights-08-0.9073.hdf5\n",
      "642/642 [==============================] - 179s 278ms/step - loss: 0.9073 - val_loss: 0.8981\n",
      "Epoch 9/10\n",
      "642/642 [==============================] - ETA: 0s - loss: 0.9004\n",
      "Epoch 00009: loss improved from 0.90730 to 0.90042, saving model to model_save/weights-09-0.9004.hdf5\n",
      "642/642 [==============================] - 178s 278ms/step - loss: 0.9004 - val_loss: 0.9014\n",
      "Epoch 10/10\n",
      "642/642 [==============================] - ETA: 0s - loss: 0.8949\n",
      "Epoch 00010: loss improved from 0.90042 to 0.89490, saving model to model_save/weights-10-0.8949.hdf5\n",
      "642/642 [==============================] - 179s 279ms/step - loss: 0.8949 - val_loss: 0.9030\n"
     ]
    }
   ],
   "source": [
    "tf.keras.backend.clear_session()\n",
    "\n",
    "#Set Parameters\n",
    "BATCH_SIZE = 512\n",
    "epochs = 10\n",
    "\n",
    "#Model compile\n",
    "model.compile(optimizer=tf.keras.optimizers.Adam(0.01),loss=loss_function)\n",
    "\n",
    "#Save intermediate model callback\n",
    "filepath=\"model_save/weights-{epoch:02d}-{loss:.4f}.hdf5\"\n",
    "checkpoint = ModelCheckpoint(filepath=filepath, monitor='loss', verbose=1, save_best_only=True, mode='min')\n",
    "\n",
    "#Tensorboard\n",
    "log_dir=\"logs/\" + datetime.datetime.now().strftime(\"%Y%m%d-%H%M%S\")\n",
    "tensorboard_callback = TensorBoard(log_dir=log_dir,histogram_freq=1, write_graph=True)\n",
    "\n",
    "#Callback list\n",
    "callback_list=[checkpoint,tensorboard_callback]\n",
    "\n",
    "#Generate data\n",
    "train = data_generator((X_train_padded_docs,y_train_padded_docs),y_train_padded_docs[:,1:],BATCH_SIZE=BATCH_SIZE,\n",
    "                       shuffle=True)\n",
    "val = data_generator((X_val_padded_docs,y_val_padded_docs),y_val_padded_docs[:,1:],BATCH_SIZE=BATCH_SIZE,shuffle=False)\n",
    "\n",
    "#Train model\n",
    "history1 = model.fit(train,epochs=epochs,validation_data=val,callbacks=callback_list)"
   ]
  },
  {
   "cell_type": "code",
   "execution_count": 58,
   "metadata": {
    "colab": {
     "base_uri": "https://localhost:8080/",
     "height": 34
    },
    "colab_type": "code",
    "id": "fxEF9HIIMEUP",
    "outputId": "807cb646-3ce2-4ffe-dd3a-1414467433a1"
   },
   "outputs": [
    {
     "data": {
      "text/plain": [
       "['history1']"
      ]
     },
     "execution_count": 58,
     "metadata": {
      "tags": []
     },
     "output_type": "execute_result"
    }
   ],
   "source": [
    "joblib.dump(history1.history,'history1')"
   ]
  },
  {
   "cell_type": "code",
   "execution_count": 0,
   "metadata": {
    "colab": {},
    "colab_type": "code",
    "id": "Mrd7PRmjcuEp"
   },
   "outputs": [],
   "source": [
    "#Save weights\n",
    "model.save_weights('best_model1.h5')"
   ]
  },
  {
   "cell_type": "code",
   "execution_count": 60,
   "metadata": {
    "colab": {
     "base_uri": "https://localhost:8080/",
     "height": 34
    },
    "colab_type": "code",
    "id": "7ObOhaJazQcU",
    "outputId": "b5416c3e-dd7c-4647-ba90-60009c5ca33d"
   },
   "outputs": [
    {
     "name": "stdout",
     "output_type": "stream",
     "text": [
      "643/643 [==============================] - 61s 95ms/step - loss: 0.8313\n"
     ]
    }
   ],
   "source": [
    "train_parameters = model.evaluate([X_train_padded_docs,y_train_padded_docs],y_train_padded_docs[:,1:],\n",
    "                                  verbose=1,batch_size=BATCH_SIZE)"
   ]
  },
  {
   "cell_type": "code",
   "execution_count": 61,
   "metadata": {
    "colab": {
     "base_uri": "https://localhost:8080/",
     "height": 34
    },
    "colab_type": "code",
    "id": "dOq7_Vm-zjIM",
    "outputId": "d9f48d62-494f-46cc-f099-284a5688babf"
   },
   "outputs": [
    {
     "name": "stdout",
     "output_type": "stream",
     "text": [
      "120/120 [==============================] - 11s 95ms/step - loss: 0.9034\n"
     ]
    }
   ],
   "source": [
    "val_parameters = model.evaluate([X_val_padded_docs,y_val_padded_docs],y_val_padded_docs[:,1:],verbose=1,batch_size=BATCH_SIZE)"
   ]
  },
  {
   "cell_type": "code",
   "execution_count": 0,
   "metadata": {
    "colab": {},
    "colab_type": "code",
    "id": "bt-hIXlo7fBQ"
   },
   "outputs": [],
   "source": [
    "#Load weights\n",
    "model.load_weights('best_model1.h5')"
   ]
  },
  {
   "cell_type": "code",
   "execution_count": 63,
   "metadata": {
    "colab": {
     "base_uri": "https://localhost:8080/",
     "height": 1000
    },
    "colab_type": "code",
    "id": "lhEUJAIwRj5J",
    "outputId": "abbd84e0-8aa4-4209-c9c1-0e47182625f7"
   },
   "outputs": [
    {
     "name": "stdout",
     "output_type": "stream",
     "text": [
      "Epoch 1/20\n",
      "  2/642 [..............................] - ETA: 10:52 - loss: 0.8452WARNING:tensorflow:Method (on_train_batch_end) is slow compared to the batch update (0.904714). Check your callbacks.\n",
      "642/642 [==============================] - ETA: 0s - loss: 0.8532\n",
      "Epoch 00001: loss improved from inf to 0.85317, saving model to model_save/weights-01-0.8532.hdf5\n",
      "642/642 [==============================] - 189s 295ms/step - loss: 0.8532 - val_loss: 0.8859 - lr: 0.0010\n",
      "Epoch 2/20\n",
      "642/642 [==============================] - ETA: 0s - loss: 0.8416\n",
      "Epoch 00002: loss improved from 0.85317 to 0.84157, saving model to model_save/weights-02-0.8416.hdf5\n",
      "642/642 [==============================] - 177s 276ms/step - loss: 0.8416 - val_loss: 0.8847 - lr: 0.0010\n",
      "Epoch 3/20\n",
      "642/642 [==============================] - ETA: 0s - loss: 0.8370\n",
      "Epoch 00003: loss improved from 0.84157 to 0.83702, saving model to model_save/weights-03-0.8370.hdf5\n",
      "642/642 [==============================] - 178s 277ms/step - loss: 0.8370 - val_loss: 0.8845 - lr: 0.0010\n",
      "Epoch 4/20\n",
      "642/642 [==============================] - ETA: 0s - loss: 0.8340\n",
      "Epoch 00004: loss improved from 0.83702 to 0.83399, saving model to model_save/weights-04-0.8340.hdf5\n",
      "642/642 [==============================] - 178s 278ms/step - loss: 0.8340 - val_loss: 0.8842 - lr: 0.0010\n",
      "Epoch 5/20\n",
      "642/642 [==============================] - ETA: 0s - loss: 0.8315\n",
      "Epoch 00005: loss improved from 0.83399 to 0.83151, saving model to model_save/weights-05-0.8315.hdf5\n",
      "642/642 [==============================] - 178s 278ms/step - loss: 0.8315 - val_loss: 0.8842 - lr: 0.0010\n",
      "Epoch 6/20\n",
      "642/642 [==============================] - ETA: 0s - loss: 0.8294\n",
      "Epoch 00006: loss improved from 0.83151 to 0.82943, saving model to model_save/weights-06-0.8294.hdf5\n",
      "\n",
      "Epoch 00006: ReduceLROnPlateau reducing learning rate to 0.0009000000427477062.\n",
      "642/642 [==============================] - 178s 278ms/step - loss: 0.8294 - val_loss: 0.8848 - lr: 0.0010\n",
      "Epoch 7/20\n",
      "642/642 [==============================] - ETA: 0s - loss: 0.8269\n",
      "Epoch 00007: loss improved from 0.82943 to 0.82691, saving model to model_save/weights-07-0.8269.hdf5\n",
      "642/642 [==============================] - 178s 277ms/step - loss: 0.8269 - val_loss: 0.8847 - lr: 9.0000e-04\n",
      "Epoch 8/20\n",
      "642/642 [==============================] - ETA: 0s - loss: 0.8254\n",
      "Epoch 00008: loss improved from 0.82691 to 0.82536, saving model to model_save/weights-08-0.8254.hdf5\n",
      "\n",
      "Epoch 00008: ReduceLROnPlateau reducing learning rate to 0.0008100000384729356.\n",
      "642/642 [==============================] - 178s 278ms/step - loss: 0.8254 - val_loss: 0.8851 - lr: 9.0000e-04\n",
      "Epoch 9/20\n",
      "642/642 [==============================] - ETA: 0s - loss: 0.8235\n",
      "Epoch 00009: loss improved from 0.82536 to 0.82346, saving model to model_save/weights-09-0.8235.hdf5\n",
      "642/642 [==============================] - 178s 278ms/step - loss: 0.8235 - val_loss: 0.8852 - lr: 8.1000e-04\n",
      "Epoch 10/20\n",
      "642/642 [==============================] - ETA: 0s - loss: 0.8222\n",
      "Epoch 00010: loss improved from 0.82346 to 0.82216, saving model to model_save/weights-10-0.8222.hdf5\n",
      "\n",
      "Epoch 00010: ReduceLROnPlateau reducing learning rate to 0.0007290000503417104.\n",
      "642/642 [==============================] - 178s 278ms/step - loss: 0.8222 - val_loss: 0.8854 - lr: 8.1000e-04\n",
      "Epoch 11/20\n",
      "642/642 [==============================] - ETA: 0s - loss: 0.8206\n",
      "Epoch 00011: loss improved from 0.82216 to 0.82063, saving model to model_save/weights-11-0.8206.hdf5\n",
      "642/642 [==============================] - 178s 278ms/step - loss: 0.8206 - val_loss: 0.8856 - lr: 7.2900e-04\n",
      "Epoch 12/20\n",
      "642/642 [==============================] - ETA: 0s - loss: 0.8193\n",
      "Epoch 00012: loss improved from 0.82063 to 0.81931, saving model to model_save/weights-12-0.8193.hdf5\n",
      "\n",
      "Epoch 00012: ReduceLROnPlateau reducing learning rate to 0.0006561000715009868.\n",
      "642/642 [==============================] - 179s 278ms/step - loss: 0.8193 - val_loss: 0.8859 - lr: 7.2900e-04\n",
      "Epoch 13/20\n",
      "642/642 [==============================] - ETA: 0s - loss: 0.8178\n",
      "Epoch 00013: loss improved from 0.81931 to 0.81779, saving model to model_save/weights-13-0.8178.hdf5\n",
      "Restoring model weights from the end of the best epoch.\n",
      "642/642 [==============================] - 179s 278ms/step - loss: 0.8178 - val_loss: 0.8859 - lr: 6.5610e-04\n",
      "Epoch 00013: early stopping\n"
     ]
    }
   ],
   "source": [
    "tf.keras.backend.clear_session()\n",
    "\n",
    "#Set Parameters\n",
    "BATCH_SIZE = 512\n",
    "epochs = 20\n",
    "\n",
    "#Model compile\n",
    "model.compile(optimizer=tf.keras.optimizers.Adam(0.001),loss=loss_function)\n",
    "\n",
    "#Save intermediate model callback\n",
    "filepath=\"model_save/weights-{epoch:02d}-{loss:.4f}.hdf5\"\n",
    "checkpoint = ModelCheckpoint(filepath=filepath, monitor='loss', verbose=1, save_best_only=True, mode='min')\n",
    "\n",
    "#Reduce learning rate by 10% if validation loss does not decrease from last 2 epochs\n",
    "reduce_lr = ReduceLROnPlateau(monitor='val_loss', factor=0.9, verbose=1, patience=2,min_lr=0.00001)\n",
    "\n",
    "#Stop training if val_loss does not decrease in last 8 epochs\n",
    "terminate = EarlyStopping(monitor='val_loss',patience=8,verbose=1,mode='min',restore_best_weights=True)\n",
    "\n",
    "#Tensorboard\n",
    "log_dir=\"logs/\" + datetime.datetime.now().strftime(\"%Y%m%d-%H%M%S\")\n",
    "tensorboard_callback = TensorBoard(log_dir=log_dir,histogram_freq=1, write_graph=True)\n",
    "\n",
    "#Callback list\n",
    "callback_list=[checkpoint,reduce_lr,terminate,tensorboard_callback]\n",
    "\n",
    "#Generate data\n",
    "train = data_generator((X_train_padded_docs,y_train_padded_docs),y_train_padded_docs[:,1:],BATCH_SIZE=BATCH_SIZE,\n",
    "                       shuffle=True)\n",
    "val = data_generator((X_val_padded_docs,y_val_padded_docs),y_val_padded_docs[:,1:],BATCH_SIZE=BATCH_SIZE,shuffle=False)\n",
    "\n",
    "#Train model\n",
    "history2 = model.fit(train,epochs=epochs,validation_data=val,callbacks=callback_list)"
   ]
  },
  {
   "cell_type": "code",
   "execution_count": 64,
   "metadata": {
    "colab": {
     "base_uri": "https://localhost:8080/",
     "height": 34
    },
    "colab_type": "code",
    "id": "GDFgO6WlRj27",
    "outputId": "70f730ee-f747-48e9-e79b-8faa2fbd849e"
   },
   "outputs": [
    {
     "data": {
      "text/plain": [
       "['history2']"
      ]
     },
     "execution_count": 64,
     "metadata": {
      "tags": []
     },
     "output_type": "execute_result"
    }
   ],
   "source": [
    "joblib.dump(history2.history,'history2')"
   ]
  },
  {
   "cell_type": "code",
   "execution_count": 0,
   "metadata": {
    "colab": {},
    "colab_type": "code",
    "id": "yBtgPKhtRjyo"
   },
   "outputs": [],
   "source": [
    "#Save weights\n",
    "model.save_weights('best_model2.h5')"
   ]
  },
  {
   "cell_type": "code",
   "execution_count": 0,
   "metadata": {
    "colab": {},
    "colab_type": "code",
    "id": "PqO7ZdNzbML7"
   },
   "outputs": [],
   "source": [
    "h1 = joblib.load('history1')\n",
    "h2 = joblib.load('history2')"
   ]
  },
  {
   "cell_type": "code",
   "execution_count": 0,
   "metadata": {
    "colab": {},
    "colab_type": "code",
    "id": "uGKGMZ1fbML_"
   },
   "outputs": [],
   "source": [
    "loss = h1['loss']+h2['loss']\n",
    "val_loss = h1['val_loss']+h2['val_loss']"
   ]
  },
  {
   "cell_type": "code",
   "execution_count": 68,
   "metadata": {
    "colab": {
     "base_uri": "https://localhost:8080/",
     "height": 312
    },
    "colab_type": "code",
    "id": "21qTt3XkbMMC",
    "outputId": "bbd7e534-edf0-45b2-90e1-7bac87beb32a"
   },
   "outputs": [
    {
     "data": {
      "text/plain": [
       "Text(0.5, 1.0, 'Loss Vs No of epochs')"
      ]
     },
     "execution_count": 68,
     "metadata": {
      "tags": []
     },
     "output_type": "execute_result"
    },
    {
     "data": {
      "image/png": "[encoded data removed]",
      "text/plain": [
       "<Figure size 432x288 with 1 Axes>"
      ]
     },
     "metadata": {
      "needs_background": "light",
      "tags": []
     },
     "output_type": "display_data"
    }
   ],
   "source": [
    "plt.plot(loss,label='Training loss')\n",
    "plt.plot(val_loss, label='Validation loss')\n",
    "plt.legend()\n",
    "plt.grid()\n",
    "plt.xlabel('No of epochs')\n",
    "plt.ylabel('Loss')\n",
    "plt.title('Loss Vs No of epochs')"
   ]
  },
  {
   "cell_type": "code",
   "execution_count": 0,
   "metadata": {
    "colab": {},
    "colab_type": "code",
    "id": "mvvc3q93L7In"
   },
   "outputs": [],
   "source": [
    "#Generate 1000 random samples from train and val data\n",
    "#Train data\n",
    "train_index = []\n",
    "for i in range(X_train_padded_docs.shape[0]):\n",
    "    if np.count_nonzero(X_train_padded_docs[i]!=0)>14:\n",
    "        train_index.append(i)\n",
    "train_index = random.sample(train_index,1000)\n",
    "\n",
    "#Validation data\n",
    "#Train data\n",
    "val_index = []\n",
    "for i in range(X_val_padded_docs.shape[0]):\n",
    "    if np.count_nonzero(X_val_padded_docs[i]!=0)>14:\n",
    "        val_index.append(i)\n",
    "val_index = random.sample(val_index,1000)"
   ]
  },
  {
   "cell_type": "code",
   "execution_count": 70,
   "metadata": {
    "colab": {
     "base_uri": "https://localhost:8080/",
     "height": 738,
     "referenced_widgets": [
      "4765040db6644918bf8d8d17610d3833",
      "61a2d100efc94eb1ba80b2bc475654b6",
      "a5a73251d1a145708f46fad92d1518d6",
      "6eb8c28131a64099baa192b4491e9fe8",
      "09087bc7ff5c4e7c92b50b9fc1ad3ab0",
      "5a841e55fbb04f0a8441f9815557e842",
      "e1fb58c1987e4cb6b523866d9bfde3e2",
      "18892b9e056b47db90486c5c05fb1094"
     ]
    },
    "colab_type": "code",
    "id": "muqMywldL7Iq",
    "outputId": "8aee9aba-572a-4f63-f5f8-fb3cb49e033c",
    "scrolled": false
   },
   "outputs": [
    {
     "data": {
      "application/vnd.jupyter.widget-view+json": {
       "model_id": "4765040db6644918bf8d8d17610d3833",
       "version_major": 2,
       "version_minor": 0
      },
      "text/plain": [
       "HBox(children=(FloatProgress(value=1.0, bar_style='info', max=1.0), HTML(value='')))"
      ]
     },
     "metadata": {
      "tags": []
     },
     "output_type": "display_data"
    },
    {
     "name": "stdout",
     "output_type": "stream",
     "text": [
      "Input sentence: <start> in issue manage see development review in service not for you set end call that <end> \n",
      "Actual words: <start> day <end> \n",
      "Predicted words: <start> matter <end> \n",
      "------------------------------------------------------------------------------------------\n",
      "Input sentence: <start> the of changes look you to you it in our out as this change <end> \n",
      "Actual words: <start> few days <end> \n",
      "Predicted words: <start> few days <end> \n",
      "------------------------------------------------------------------------------------------\n",
      "Input sentence: <start> together with back has provided me further look your have for be www was is <end> \n",
      "Actual words: <start> will work with your schedules <end> \n",
      "Predicted words: <start> what you think <end> \n",
      "------------------------------------------------------------------------------------------\n",
      "Input sentence: <start> me questions if chance you please and to it are them information appropriate on this just removed on <end> \n",
      "Actual words: <start> course <end> \n",
      "Predicted words: <start> this <end> \n",
      "------------------------------------------------------------------------------------------\n",
      "Input sentence: <start> later you they there name you week know you to comments an is this idea to <end> \n",
      "Actual words: <start> asked for yesterday <end> \n",
      "Predicted words: <start> need <end> \n",
      "------------------------------------------------------------------------------------------\n",
      "Input sentence: <start> the it then this great on this world on comment that get will us help you <end> \n",
      "Actual words: <start> use <end> \n",
      "Predicted words: <start> use the system <end> \n",
      "------------------------------------------------------------------------------------------\n",
      "Input sentence: <start> more is in input that up we wholesale you all or cost expand <end> \n",
      "Actual words: <start> regarding this item <end> \n",
      "Predicted words: <start> using the list <end> \n",
      "------------------------------------------------------------------------------------------\n",
      "Input sentence: <start> like soon this bonds then not this means site network to generation you one <end> \n",
      "Actual words: <start> customers <end> \n",
      "Predicted words: <start> books <end> \n",
      "------------------------------------------------------------------------------------------\n",
      "Input sentence: <start> hesitate call any attend me please change possible to party or worked yesterday <end> \n",
      "Actual words: <start> and we will fix it that day <end> \n",
      "Predicted words: <start> comments <end> \n",
      "------------------------------------------------------------------------------------------\n",
      "Input sentence: <start> this at not fix soon document call proposal today a determined you hearing this <end> \n",
      "Actual words: <start> plant <end> \n",
      "Predicted words: <start> whole car <end> \n",
      "------------------------------------------------------------------------------------------\n",
      "\n"
     ]
    }
   ],
   "source": [
    "#For train data, actual and predicted words\n",
    "train_bleu_list = []\n",
    "counter = 0\n",
    "for i,j in tqdm(zip(X_train_padded_docs[train_index,:],y_train_padded_docs[train_index,:])):\n",
    "    counter+=1\n",
    "    inp, a, p, bleu = get_bleu_score(model,i,j)\n",
    "    train_bleu_list.append(bleu)\n",
    "    #Print some actual and predicted words\n",
    "    if counter%100==0:\n",
    "        print('Input sentence:',inp)\n",
    "        print('Actual words:',a)\n",
    "        print('Predicted words:',p)\n",
    "        print(90*'-')"
   ]
  },
  {
   "cell_type": "code",
   "execution_count": 71,
   "metadata": {
    "colab": {
     "base_uri": "https://localhost:8080/",
     "height": 738,
     "referenced_widgets": [
      "57314bd304444fddb34efc5c4785ddef",
      "ebb4942c411049a78ed94f60270cfeb4",
      "628c199ac0124cddadeb0556ccf394c7",
      "35d2359d4d8944f996a6e67d3c11daa2",
      "8061559e609d49c586e773e467916ddc",
      "9dbf5c1ee20f4b1a8a1e6ecf39473f8b",
      "ca4df88be882418b83e4998f3924706e",
      "b8b379f0bb994549a450e107bb22d0c5"
     ]
    },
    "colab_type": "code",
    "id": "o2B9_PCSL7Is",
    "outputId": "bb4d7f2f-75ab-4b72-aaf4-1808e1e27e90"
   },
   "outputs": [
    {
     "data": {
      "application/vnd.jupyter.widget-view+json": {
       "model_id": "57314bd304444fddb34efc5c4785ddef",
       "version_major": 2,
       "version_minor": 0
      },
      "text/plain": [
       "HBox(children=(FloatProgress(value=1.0, bar_style='info', max=1.0), HTML(value='')))"
      ]
     },
     "metadata": {
      "tags": []
     },
     "output_type": "display_data"
    },
    {
     "name": "stdout",
     "output_type": "stream",
     "text": [
      "Input sentence: <start> link know loss complete move to of at you register any as this bad clearly <end> \n",
      "Actual words: <start> when you check out <end> \n",
      "Predicted words: <start> and let me know if you have any questions <end> \n",
      "------------------------------------------------------------------------------------------\n",
      "Input sentence: <start> service is each give comments to tomorrow when what number not in coming are possible can is as <end> \n",
      "Actual words: <start> town <end> \n",
      "Predicted words: <start> the office <end> \n",
      "------------------------------------------------------------------------------------------\n",
      "Input sentence: <start> the process that back on to but it support then know today to hold this <end> \n",
      "Actual words: <start> group <end> \n",
      "Predicted words: <start> link below <end> \n",
      "------------------------------------------------------------------------------------------\n",
      "Input sentence: <start> the needed look that and get it always them sure a will we make <end> \n",
      "Actual words: <start> than happy to answer them <end> \n",
      "Predicted words: <start> than happy to discuss <end> \n",
      "------------------------------------------------------------------------------------------\n",
      "Input sentence: <start> link know loss complete move to of at you register any as this bad clearly today to too <end> \n",
      "Actual words: <start> out <end> \n",
      "Predicted words: <start> it <end> \n",
      "------------------------------------------------------------------------------------------\n",
      "Input sentence: <start> this going now this than with by you we received not website reports your helps <end> \n",
      "Actual words: <start> its corporate growth <end> \n",
      "Predicted words: <start> its technology and for marketing <end> \n",
      "------------------------------------------------------------------------------------------\n",
      "Input sentence: <start> and to tomorrow me about for or around list there that a let changes <end> \n",
      "Actual words: <start> this to the banks <end> \n",
      "Predicted words: <start> out to me <end> \n",
      "------------------------------------------------------------------------------------------\n",
      "Input sentence: <start> the volume do very find appears your can soon by you about to in <end> \n",
      "Actual words: <start> call <end> \n",
      "Predicted words: <start> call <end> \n",
      "------------------------------------------------------------------------------------------\n",
      "Input sentence: <start> the discuss that so addition of we opinion doing database your our from you <end> \n",
      "Actual words: <start> hearing from you <end> \n",
      "Predicted words: <start> your feedback <end> \n",
      "------------------------------------------------------------------------------------------\n",
      "Input sentence: <start> the volume you her find appears your attached head if you during was might information <end> \n",
      "Actual words: <start> the other <end> \n",
      "Predicted words: <start> if you want to go <end> \n",
      "------------------------------------------------------------------------------------------\n",
      "\n"
     ]
    }
   ],
   "source": [
    "#For validation data actual and predicted words\n",
    "val_bleu_list = []\n",
    "counter = 0\n",
    "for i,j in tqdm(zip(X_val_padded_docs[val_index,:],y_val_padded_docs[val_index,:])):\n",
    "    counter+=1\n",
    "    inp, a, p, bleu = get_bleu_score(model,i,j)\n",
    "    val_bleu_list.append(bleu)\n",
    "    #Print some actual and predicted words\n",
    "    if counter%100==0:\n",
    "        print('Input sentence:',inp)\n",
    "        print('Actual words:',a)\n",
    "        print('Predicted words:',p)\n",
    "        print(90*'-')"
   ]
  },
  {
   "cell_type": "code",
   "execution_count": 72,
   "metadata": {
    "colab": {
     "base_uri": "https://localhost:8080/",
     "height": 50
    },
    "colab_type": "code",
    "id": "EvU7rH7IL7Iy",
    "outputId": "f30ad2c9-7a55-49a6-dfb2-e72e58d1ee0f"
   },
   "outputs": [
    {
     "name": "stdout",
     "output_type": "stream",
     "text": [
      "BLEU Score for train data of 1000 samples: 0.7\n",
      "BLEU Score for validation data of 1000 samples: 0.694\n"
     ]
    }
   ],
   "source": [
    "#Average BLEU Score for sentences\n",
    "print('BLEU Score for train data of 1000 samples:',np.round(sum(train_bleu_list)/len(train_bleu_list),3))\n",
    "print('BLEU Score for validation data of 1000 samples:',np.round(sum(val_bleu_list)/len(val_bleu_list),3))"
   ]
  },
  {
   "cell_type": "markdown",
   "metadata": {
    "colab_type": "text",
    "id": "0xqdMoy5cuFl"
   },
   "source": [
    "<h1>4. Predictions"
   ]
  },
  {
   "cell_type": "code",
   "execution_count": 0,
   "metadata": {
    "colab": {},
    "colab_type": "code",
    "id": "WgjJobuUcuFl"
   },
   "outputs": [],
   "source": [
    "def predict_sentence(enc_dec_model,input_sentence):\n",
    "    \n",
    "    #Maximum sequence length for input and target sentence\n",
    "    inp_max_length = X_train_padded_docs.shape[1]\n",
    "    out_max_length = y_train_padded_docs.shape[1]\n",
    "    \n",
    "    #Attention plot\n",
    "    attention_plot = np.zeros((inp_max_length,out_max_length))\n",
    "    \n",
    "    input_sentence = '<start> ' + input_sentence + ' <end>'\n",
    "    \n",
    "    #Convert texts to sequences\n",
    "    sent = inp_tokenizer.texts_to_sequences([input_sentence])\n",
    "    #Pad data\n",
    "    sent = tf.keras.preprocessing.sequence.pad_sequences(sent,maxlen=inp_max_length,padding='post')\n",
    "    \n",
    "    #print('Encoder input shape (batch_size,sequence length):',sent.shape)\n",
    "    enc_outputs,enc_hidden,enc_cell = enc_dec_model.layers[0](sent)\n",
    "    #print('Encoder output shape (batch_size,sequence lengths,units):',enc_outputs.shape)\n",
    "    #print('Encoder hidden state shape (batch_size,units):',enc_hidden.shape)\n",
    "    #print('Encoder cell state shape (batch_size,units):',enc_cell.shape)\n",
    "    #print(90*'-')\n",
    "    \n",
    "    #Boundary case\n",
    "    dec_input = tf.expand_dims([out_tokenizer.word_index['<start>']], 1)\n",
    "    dec_hidden = enc_hidden\n",
    "    dec_cell = enc_cell\n",
    "    #print('Decoder input shape (batch_size,1):',dec_input.shape)\n",
    "    #print('Decoder hidden state shape (batch_size,units):',dec_hidden.shape)\n",
    "    #print('Decoder cell state shape (batch_size,units):',dec_cell.shape)\n",
    "    output_sent = ''\n",
    "    \n",
    "    for i in range(out_max_length-1):\n",
    "        #Get prediction from onestep_decoder\n",
    "        dec_output,dec_hidden,dec_cell,attention_weights = enc_dec_model.layers[1].onestep_decoder(dec_input,dec_hidden,\n",
    "                                                                                               dec_cell,enc_outputs)\n",
    "        #print('Decoder output shape (batch_size,vocab_size):',dec_output.shape)\n",
    "        #print('Decoder hidden state shape (batch_size,units):',dec_hidden.shape)\n",
    "        #print('Decoder cell state shape (batch_size,units):',dec_cell.shape)\n",
    "    \n",
    "        #Storing attention weights\n",
    "        attention_weights = tf.reshape(attention_weights,(-1,))\n",
    "        attention_plot[i] = attention_weights.numpy()\n",
    "        \n",
    "        #Extract predicted id from decoder output\n",
    "        key = tf.argmax(dec_output[0]).numpy()\n",
    "        #Get word corresponding to index\n",
    "        output_sent+=out_tokenizer.index_word[key]+' '\n",
    "        \n",
    "        if out_tokenizer.index_word[key] == '<end>':\n",
    "            return output_sent,input_sentence,attention_plot\n",
    "        \n",
    "        #Make current decoder output as decoder input for next time step\n",
    "        dec_input = tf.expand_dims([key], 0)\n",
    "    \n",
    "    return output_sent,input_sentence,attention_plot"
   ]
  },
  {
   "cell_type": "code",
   "execution_count": 0,
   "metadata": {
    "colab": {},
    "colab_type": "code",
    "id": "bmtMX13TcuFn"
   },
   "outputs": [],
   "source": [
    "#https://www.tensorflow.org/tutorials/text/nmt_with_attention#write_the_encoder_and_decoder_model\n",
    "# function for plotting the attention weights\n",
    "def plot_attention(attention, sentence, predicted_sentence):\n",
    "    fig = plt.figure(figsize=(5,5))\n",
    "    ax = fig.add_subplot(1, 1, 1)\n",
    "    ax.matshow(attention, cmap='viridis')\n",
    "\n",
    "    fontdict = {'fontsize': 14}\n",
    "\n",
    "    ax.set_xticklabels([''] + sentence, fontdict=fontdict, rotation=90)\n",
    "    ax.set_yticklabels([''] + predicted_sentence, fontdict=fontdict)\n",
    "\n",
    "    ax.xaxis.set_major_locator(ticker.MultipleLocator(1))\n",
    "    ax.yaxis.set_major_locator(ticker.MultipleLocator(1))\n",
    "\n",
    "    plt.show()"
   ]
  },
  {
   "cell_type": "code",
   "execution_count": 0,
   "metadata": {
    "colab": {},
    "colab_type": "code",
    "id": "dcbDDFYHcuFp"
   },
   "outputs": [],
   "source": [
    "def generate_sentence(enc_dec_model,input_sentence):\n",
    "    #Get prediction from model\n",
    "    result,sentence,attention_plot = predict_sentence(enc_dec_model,input_sentence)\n",
    "    print('Input sentence:',sentence)\n",
    "    print('Predicted words:',result)\n",
    "    #Plot Attention plots\n",
    "    attention_plot = attention_plot[:len(result.split()),:len(sentence.split())]\n",
    "    plot_attention(attention_plot, sentence.split(), result.split())"
   ]
  },
  {
   "cell_type": "code",
   "execution_count": 76,
   "metadata": {
    "colab": {
     "base_uri": "https://localhost:8080/",
     "height": 402
    },
    "colab_type": "code",
    "id": "GtnPdEIjcuFr",
    "outputId": "029b6cd0-df7b-4b78-c0b1-6ced7b025c51"
   },
   "outputs": [
    {
     "name": "stdout",
     "output_type": "stream",
     "text": [
      "Input sentence: <start> thank you <end>\n",
      "Predicted words: for your time and consideration <end> \n"
     ]
    },
    {
     "data": {
      "image/png": "[encoded data removed]",
      "text/plain": [
       "<Figure size 360x360 with 1 Axes>"
      ]
     },
     "metadata": {
      "needs_background": "light",
      "tags": []
     },
     "output_type": "display_data"
    }
   ],
   "source": [
    "input_sentence = 'thank you'\n",
    "generate_sentence(model,input_sentence)"
   ]
  },
  {
   "cell_type": "code",
   "execution_count": 77,
   "metadata": {
    "colab": {
     "base_uri": "https://localhost:8080/",
     "height": 402
    },
    "colab_type": "code",
    "id": "U_HUiAXnL7KI",
    "outputId": "bc9d7140-9717-44f5-9863-d4a24fa363f2"
   },
   "outputs": [
    {
     "name": "stdout",
     "output_type": "stream",
     "text": [
      "Input sentence: <start> hope it <end>\n",
      "Predicted words: is going well <end> \n"
     ]
    },
    {
     "data": {
      "image/png": "[encoded data removed]",
      "text/plain": [
       "<Figure size 360x360 with 1 Axes>"
      ]
     },
     "metadata": {
      "needs_background": "light",
      "tags": []
     },
     "output_type": "display_data"
    }
   ],
   "source": [
    "input_sentence = 'hope it'\n",
    "generate_sentence(model,input_sentence)"
   ]
  },
  {
   "cell_type": "code",
   "execution_count": 78,
   "metadata": {
    "colab": {
     "base_uri": "https://localhost:8080/",
     "height": 402
    },
    "colab_type": "code",
    "id": "PrX2R0r1L7KL",
    "outputId": "77b25374-ba6f-4071-8aee-5c30c979eb85"
   },
   "outputs": [
    {
     "name": "stdout",
     "output_type": "stream",
     "text": [
      "Input sentence: <start> can you <end>\n",
      "Predicted words: please let me know if you have any questions or need additional information <end> \n"
     ]
    },
    {
     "data": {
      "image/png": "[encoded data removed]",
      "text/plain": [
       "<Figure size 360x360 with 1 Axes>"
      ]
     },
     "metadata": {
      "needs_background": "light",
      "tags": []
     },
     "output_type": "display_data"
    }
   ],
   "source": [
    "input_sentence = 'can you'\n",
    "generate_sentence(model,input_sentence)"
   ]
  },
  {
   "cell_type": "code",
   "execution_count": 79,
   "metadata": {
    "colab": {
     "base_uri": "https://localhost:8080/",
     "height": 402
    },
    "colab_type": "code",
    "id": "PPj-5vWUMEVJ",
    "outputId": "16754ee7-0b5b-4afd-c9d1-1ba12dc87468"
   },
   "outputs": [
    {
     "name": "stdout",
     "output_type": "stream",
     "text": [
      "Input sentence: <start> give me <end>\n",
      "Predicted words: a call if you have any questions or need any further information <end> \n"
     ]
    },
    {
     "data": {
      "image/png": "[encoded data removed]",
      "text/plain": [
       "<Figure size 360x360 with 1 Axes>"
      ]
     },
     "metadata": {
      "needs_background": "light",
      "tags": []
     },
     "output_type": "display_data"
    }
   ],
   "source": [
    "input_sentence = 'give me'\n",
    "generate_sentence(model,input_sentence)"
   ]
  },
  {
   "cell_type": "code",
   "execution_count": 80,
   "metadata": {
    "colab": {
     "base_uri": "https://localhost:8080/",
     "height": 341
    },
    "colab_type": "code",
    "id": "xiXj890_MEVO",
    "outputId": "fdfead52-26e7-48ea-a2ab-065f115a7870"
   },
   "outputs": [
    {
     "name": "stdout",
     "output_type": "stream",
     "text": [
      "Input sentence: <start> are you <end>\n",
      "Predicted words: doing this <end> \n"
     ]
    },
    {
     "data": {
      "image/png": "[encoded data removed]",
      "text/plain": [
       "<Figure size 360x360 with 1 Axes>"
      ]
     },
     "metadata": {
      "needs_background": "light",
      "tags": []
     },
     "output_type": "display_data"
    }
   ],
   "source": [
    "input_sentence = 'are you'\n",
    "generate_sentence(model,input_sentence)"
   ]
  },
  {
   "cell_type": "markdown",
   "metadata": {},
   "source": [
    "<h1 style=\"font-size:35px\"><center>GPT2 Model"
   ]
  },
  {
   "cell_type": "code",
   "execution_count": 1,
   "metadata": {
    "colab": {
     "base_uri": "https://localhost:8080/",
     "height": 168
    },
    "colab_type": "code",
    "id": "LLmL58s7BBD3",
    "outputId": "4bbdcba0-190e-4e66-8ac4-4dc761faddc5"
   },
   "outputs": [
    {
     "name": "stdout",
     "output_type": "stream",
     "text": [
      "TensorFlow 1.x selected.\n",
      "WARNING:tensorflow:\n",
      "The TensorFlow contrib module will not be included in TensorFlow 2.0.\n",
      "For more information, please see:\n",
      "  * https://github.com/tensorflow/community/blob/master/rfcs/20180907-contrib-sunset.md\n",
      "  * https://github.com/tensorflow/addons\n",
      "  * https://github.com/tensorflow/io (for I/O related ops)\n",
      "If you depend on functionality not listed there, please file an issue.\n",
      "\n"
     ]
    }
   ],
   "source": [
    "#Import libraries\n",
    "%tensorflow_version 1.x\n",
    "!pip install -q gpt-2-simple\n",
    "import gpt_2_simple as gpt2\n",
    "from datetime import datetime\n",
    "from google.colab import files\n",
    "import pandas as pd\n",
    "import numpy as np\n",
    "import random\n",
    "from tqdm.notebook import tqdm\n",
    "from nltk.translate import bleu_score"
   ]
  },
  {
   "cell_type": "code",
   "execution_count": 2,
   "metadata": {
    "colab": {
     "base_uri": "https://localhost:8080/",
     "height": 134
    },
    "colab_type": "code",
    "id": "fSh9A6BeBB-U",
    "outputId": "70c55f0a-b171-4fca-99e8-9a1835fbdfb1"
   },
   "outputs": [
    {
     "name": "stderr",
     "output_type": "stream",
     "text": [
      "Fetching checkpoint: 1.05Mit [00:00, 366Mit/s]                                                      \n",
      "Fetching encoder.json: 1.05Mit [00:00, 83.7Mit/s]                                                   \n",
      "Fetching hparams.json: 1.05Mit [00:00, 335Mit/s]                                                    \n",
      "Fetching model.ckpt.data-00000-of-00001: 498Mit [00:03, 140Mit/s]                                   \n",
      "Fetching model.ckpt.index: 1.05Mit [00:00, 208Mit/s]                                                \n",
      "Fetching model.ckpt.meta: 1.05Mit [00:00, 169Mit/s]                                                 \n",
      "Fetching vocab.bpe: 1.05Mit [00:00, 145Mit/s]                                                       \n"
     ]
    }
   ],
   "source": [
    "#Load GPt2 model\n",
    "gpt2.download_gpt2(model_name=\"124M\")"
   ]
  },
  {
   "cell_type": "code",
   "execution_count": 3,
   "metadata": {
    "colab": {
     "base_uri": "https://localhost:8080/",
     "height": 121
    },
    "colab_type": "code",
    "id": "GGBPRLwDCPcv",
    "outputId": "1b2e1d15-f2e9-4c15-c609-5d1564355020"
   },
   "outputs": [
    {
     "name": "stdout",
     "output_type": "stream",
     "text": [
      "Go to this URL in a browser: https://accounts.google.com/o/oauth2/auth?client_id=947318989803-6bn6qk8qdgf4n4g3pfee6491hc0brc4i.apps.googleusercontent.com&redirect_uri=urn%3aietf%3awg%3aoauth%3a2.0%3aoob&response_type=code&scope=email%20https%3a%2f%2fwww.googleapis.com%2fauth%2fdocs.test%20https%3a%2f%2fwww.googleapis.com%2fauth%2fdrive%20https%3a%2f%2fwww.googleapis.com%2fauth%2fdrive.photos.readonly%20https%3a%2f%2fwww.googleapis.com%2fauth%2fpeopleapi.readonly\n",
      "\n",
      "Enter your authorization code:\n",
      "··········\n",
      "Mounted at /content/drive\n"
     ]
    }
   ],
   "source": [
    "#Mount Google Drive\n",
    "gpt2.mount_gdrive()"
   ]
  },
  {
   "cell_type": "markdown",
   "metadata": {},
   "source": [
    "<h2>(Refer GPT2 Word Featurization Section 1 of 2_Data_Preparation.ipynb)</h2> "
   ]
  },
  {
   "cell_type": "code",
   "execution_count": 0,
   "metadata": {
    "colab": {},
    "colab_type": "code",
    "id": "UdnwAYI9BCEu"
   },
   "outputs": [],
   "source": [
    "#Dataset\n",
    "file_name = \"train_preprocessed_data.csv\""
   ]
  },
  {
   "cell_type": "code",
   "execution_count": 0,
   "metadata": {
    "colab": {
     "base_uri": "https://localhost:8080/",
     "height": 1000
    },
    "colab_type": "code",
    "id": "99sQURrUBCJV",
    "outputId": "ff1f1e19-b89c-4cd1-8184-15a56e8d2f69",
    "scrolled": false
   },
   "outputs": [
    {
     "name": "stdout",
     "output_type": "stream",
     "text": [
      "WARNING:tensorflow:From /usr/local/lib/python3.6/dist-packages/gpt_2_simple/src/sample.py:17: where (from tensorflow.python.ops.array_ops) is deprecated and will be removed in a future version.\n",
      "Instructions for updating:\n",
      "Use tf.where in 2.0, which has the same broadcast rule as np.where\n",
      "Loading checkpoint models/124M/model.ckpt\n",
      "INFO:tensorflow:Restoring parameters from models/124M/model.ckpt\n"
     ]
    },
    {
     "name": "stderr",
     "output_type": "stream",
     "text": [
      "100%|██████████| 1/1 [00:00<00:00, 18.24it/s]"
     ]
    },
    {
     "name": "stdout",
     "output_type": "stream",
     "text": [
      "Loading dataset...\n"
     ]
    },
    {
     "name": "stderr",
     "output_type": "stream",
     "text": [
      "\n"
     ]
    },
    {
     "name": "stdout",
     "output_type": "stream",
     "text": [
      "dataset has 1000868 tokens\n",
      "Training...\n",
      "[10 | 18.77] loss=1.31 avg=1.31\n",
      "[20 | 31.39] loss=1.20 avg=1.26\n",
      "[30 | 44.02] loss=1.18 avg=1.23\n",
      "[40 | 56.71] loss=1.17 avg=1.21\n",
      "[50 | 69.42] loss=1.16 avg=1.20\n",
      "======== SAMPLE 1 ========\n",
      "endoftext|>\n",
      "<|startoftext|>if it is not then it does not really fit<|endoftext|>\n",
      "<|startoftext|>see your calendar<|endoftext|>\n",
      "<|startoftext|>just let me know if there are any problems<|endoftext|>\n",
      "<|startoftext|>if you have anything else do not hesitate to let us know<|endoftext|>\n",
      "<|startoftext|>please get the details in before you send them out<|endoftext|>\n",
      "<|startoftext|>this will be a nice change of pace<|endoftext|>\n",
      "<|startoftext|>thanks for your help<|endoftext|>\n",
      "<|startoftext|>please let me know if you would like him in this meeting<|endoftext|>\n",
      "<|startoftext|>see if you can get me a copy<|endoftext|>\n",
      "<|startoftext|>if you want this to work for you then please let me know<|endoftext|>\n",
      "<|startoftext|>you will have to ask for a signature on your records<|endoftext|>\n",
      "<|startoftext|>if you have any questions or need anything else add me<|endoftext|>\n",
      "<|startoftext|>i have been working here for several weeks<|endoftext|>\n",
      "<|startoftext|>no further changes were offered on this matter<|endoftext|>\n",
      "<|startoftext|>i got up next afternoon<|endoftext|>\n",
      "<|startoftext|>i am happy to talk with you all<|endoftext|>\n",
      "<|startoftext|>we are here now<|endoftext|>\n",
      "<|startoftext|>we will send that out to you<|endoftext|>\n",
      "<|startoftext|>please let me know if there is any additional info needed<|endoftext|>\n",
      "<|startoftext|>here we go<|endoftext|>\n",
      "<|startoftext|>i am still working on it<|endoftext|>\n",
      "<|startoftext|>i was able to call him this afternoon<|endoftext|>\n",
      "<|startoftext|>hope to see you all in a long time<|endoftext|>\n",
      "<|startoftext|>i still love it here<|endoftext|>\n",
      "<|startoftext|>please let me know when you plan on sending anything<|endoftext|>\n",
      "<|startoftext|>i will let a voice count as you wish<|endoftext|>\n",
      "<|startoftext|>if we do not we all get to give each other credit<|endoftext|>\n",
      "<|startoftext|>i am still planning on going through this again<|endoftext|>\n",
      "<|startoftext|>i told you we would discuss it<|endoftext|>\n",
      "<|startoftext|>will give you a few more minutes<|endoftext|>\n",
      "<|startoftext|>please do not hesitate to contact me with any questions<|endoftext|>\n",
      "<|startoftext|>i will pass on more details to you soon<|endoftext|>\n",
      "<|startoftext|>as we look forward this is the final document<|endoftext|>\n",
      "<|startoftext|>please send out this message as soon as you can<|endoftext|>\n",
      "<|startoftext|>it would be nice but it would be hard to get that done<|endoftext|>\n",
      "<|startoftext|>i am a little too busy<|endoftext|>\n",
      "<|startoftext|>if you have a minute please let me know<|endoftext|>\n",
      "<|startoftext|>you should have them in the database<|endoftext|>\n",
      "<|startoftext|>thanks for your help yesterday<|endoftext|>\n",
      "<|startoftext|>i could not attend the press conference<|endoftext|>\n",
      "<|startoftext|>please let me know as soon as you can when this is not possible at the end of the month<|endoftext|>\n",
      "<|startoftext|>i will let them know<|endoftext|>\n",
      "<|startoftext|>but no<|endoftext|>\n",
      "<|startoftext|>this should take a little while\n",
      "\n",
      "[60 | 94.79] loss=1.14 avg=1.19\n",
      "[70 | 107.45] loss=1.16 avg=1.19\n",
      "[80 | 120.12] loss=1.18 avg=1.19\n",
      "[90 | 132.74] loss=1.14 avg=1.18\n",
      "[100 | 145.35] loss=1.17 avg=1.18\n",
      "======== SAMPLE 1 ========\n",
      "startstart>but it does not matter<|endoftext|>\n",
      "<|startoftext|>it would work if you could put all the same questions in the next step<|endoftext|>\n",
      "<|startoftext|>that will change<|endoftext|>\n",
      "<|startoftext|>i will let you know<|endoftext|>\n",
      "<|startoftext|>he should be fine at that point<|endoftext|>\n",
      "<|startoftext|>i think it should be in the format below<|endoftext|>\n",
      "<|startoftext|>if so we would really appreciate your help<|endoftext|>\n",
      "<|startoftext|>we would love to see it<|endoftext|>\n",
      "<|startoftext|>hope all is well<|endoftext|>\n",
      "<|startoftext|>please call on the telephone if any further information is needed<|endoftext|>\n",
      "<|startoftext|>there was no time in the world to plan<|endoftext|>\n",
      "<|startoftext|>you will be able to tell a story about it and give him an opinion<|endoftext|>\n",
      "<|startoftext|>i am unable to find any other material that would allow me to have any access at the moment<|endoftext|>\n",
      "<|startoftext|>i will see you soon<|endoftext|>\n",
      "<|startoftext|>we appreciate your cooperation<|endoftext|>\n",
      "<|startoftext|>as soon as we have the chance and have agreed we will send them out on a quick basis<|endoftext|>\n",
      "<|startoftext|>he did not see it<|endoftext|>\n",
      "<|startoftext|>this is the third year in a row my name is on the list<|endoftext|>\n",
      "<|startoftext|>i would also like to hear more on the other two<|endoftext|>\n",
      "<|startoftext|>if those are available at your convenience do not hesitate to call if you want to have further discussions<|endoftext|>\n",
      "<|startoftext|>it is only through good and true that we are successful<|endoftext|>\n",
      "<|startoftext|>please call any of your staff at your earliest convenience<|endoftext|>\n",
      "<|startoftext|>we are hoping we can help him find his own house<|endoftext|>\n",
      "<|startoftext|>i will also need to review the schedules<|endoftext|>\n",
      "<|startoftext|>if there are any problems just let me know<|endoftext|>\n",
      "<|startoftext|>i will try to follow up on this<|endoftext|>\n",
      "<|startoftext|>i have received that for the last two years<|endoftext|>\n",
      "<|startoftext|>i had no idea<|endoftext|>\n",
      "<|startoftext|>attached is a link to his resume<|endoftext|>\n",
      "<|startoftext|>i have a couple of questions on the above<|endoftext|>\n",
      "<|startoftext|>these are not the only ones<|endoftext|>\n",
      "<|startoftext|>this means that there could be no further issues<|endoftext|>\n",
      "<|startoftext|>i do not really know what that means<|endoftext|>\n",
      "<|startoftext|>however if you would like to see me listed on the above page let me know<|endoftext|>\n",
      "<|startoftext|>she said that they were happy to participate<|endoftext|>\n",
      "<|startoftext|>i know that you want to have both documents signed and that it is best to do that<|endoftext|>\n",
      "<|startoftext|>i was never able to make any kind of purchase<|endoftext|>\n",
      "<|startoftext|>we need to talk a little bit more about that<|endoftext|>\n",
      "<|startoftext|>for the latest information regarding the program please visit www<|endoftext|>\n",
      "<|startoftext|>i am looking to see if that works<|endoftext|>\n",
      "<|startoftext|>let me know if there is any work you can do<|endoftext|>\n",
      "<|startoftext|>it was a very fun weekend<|endof\n",
      "\n",
      "[110 | 169.46] loss=1.13 avg=1.18\n",
      "[120 | 182.06] loss=1.11 avg=1.17\n",
      "[130 | 194.75] loss=1.12 avg=1.17\n",
      "[140 | 207.39] loss=1.09 avg=1.16\n",
      "[150 | 220.00] loss=1.13 avg=1.16\n",
      "======== SAMPLE 1 ========\n",
      "<|startoftext|>please update with any revisions you may have<|endoftext|>\n",
      "<|startoftext|>thanks so much for this<|endoftext|>\n",
      "<|startoftext|>they will take several weeks off the rest of the season to keep this going<|endoftext|>\n",
      "<|startoftext|>this letter will be released when there is not enough time on the calendar<|endoftext|>\n",
      "<|startoftext|>i have heard that he never made the trip<|endoftext|>\n",
      "<|startoftext|>thank you for your help and assistance<|endoftext|>\n",
      "<|startoftext|>will keep you posted on the developments<|endoftext|>\n",
      "<|startoftext|>you should have it now<|endoftext|>\n",
      "<|startoftext|>the new rules do require that a person be an individual of least legal size<|endoftext|>\n",
      "<|startoftext|>i have forwarded him a list of changes<|endoftext|>\n",
      "<|startoftext|>here is the current version<|endoftext|>\n",
      "<|startoftext|>please let me know if you want to discuss these changes<|endoftext|>\n",
      "<|startoftext|>that seems to be the reason for the problem<|endoftext|>\n",
      "<|startoftext|>if not let is discuss these issues in the meeting<|endoftext|>\n",
      "<|startoftext|>thanks so much for your time during this very difficult period of time<|endoftext|>\n",
      "<|startoftext|>it was very good to hear from you<|endoftext|>\n",
      "<|startoftext|>thanks for your feedback and help<|endoftext|>\n",
      "<|startoftext|>the best way to know is to be in my mind<|endoftext|>\n",
      "<|startoftext|>let me know if you would like the file attached<|endoftext|>\n",
      "<|startoftext|>thanks so much for your kind touch<|endoftext|>\n",
      "<|startoftext|>if you would like to discuss or anything else please let me know<|endoftext|>\n",
      "<|startoftext|>the company will use the funds for sales and marketing<|endoftext|>\n",
      "<|startoftext|>we are going to be there<|endoftext|>\n",
      "<|startoftext|>i may need to talk to her again<|endoftext|>\n",
      "<|startoftext|>please review your comments regarding the previous revisions<|endoftext|>\n",
      "<|startoftext|>therefore it is your responsibility to send asap to the appropriate party<|endoftext|>\n",
      "<|startoftext|>thank you for your continued support and support of the organization<|endoftext|>\n",
      "<|startoftext|>this is a complete document<|endoftext|>\n",
      "<|startoftext|>please forward to me at the email address included below and let me know that it is acceptable<|endoftext|>\n",
      "<|startoftext|>the company confirmed the news on its web site<|endoftext|>\n",
      "<|startoftext|>we will keep you up to date with new research as well<|endoftext|>\n",
      "<|startoftext|>the company says the following in the attached memo to be filed<|endoftext|>\n",
      "<|startoftext|>a little about us<|endoftext|>\n",
      "<|startoftext|>i hope all is well today for the kids on your team<|endoftext|>\n",
      "<|startoftext|>they have an opportunity to win if they make the right move<|endoftext|>\n",
      "<|startoftext|>you said in your letter<|endoftext|>\n",
      "<|startoftext|>the company will use the funds for sales and marketing<|endoftext|>\n",
      "<|startoftext|>a copy of the registration is attached<|endoftext|>\n",
      "<|startoftext|>so here are today is the results<|endoftext|>\n",
      "<|startoftext|>these are all deals we have not executed in some form<|endoftext|>\n",
      "<|startoftext|>please review and advise of changes if necessary<|endoftext|>\n",
      "<|startoftext|>i would like to see the changes for each product<|endoftext|>\n",
      "\n",
      "[160 | 243.97] loss=1.11 avg=1.15\n",
      "[170 | 256.64] loss=1.14 avg=1.15\n",
      "[180 | 269.29] loss=1.18 avg=1.15\n",
      "[190 | 281.91] loss=1.17 avg=1.16\n",
      "[200 | 294.51] loss=1.12 avg=1.15\n",
      "======== SAMPLE 1 ========\n",
      "text|>\n",
      "<|startoftext|>that is all<|endoftext|>\n",
      "<|startoftext|>this sounds like fun<|endoftext|>\n",
      "<|startoftext|>you are still here<|endoftext|>\n",
      "<|startoftext|>what a difference that makes<|endoftext|>\n",
      "<|startoftext|>please give me a call when you get back<|endoftext|>\n",
      "<|startoftext|>i look forward to seeing all of you and you are our true friends in the future<|endoftext|>\n",
      "<|startoftext|>that was always our idea<|endoftext|>\n",
      "<|startoftext|>we are going forward<|endoftext|>\n",
      "<|startoftext|>that would be very good<|endoftext|>\n",
      "<|startoftext|>please check out our site www<|endoftext|>\n",
      "<|startoftext|>if you have any questions or need additional information please please give me a call<|endoftext|>\n",
      "<|startoftext|>it would be a nice addition<|endoftext|>\n",
      "<|startoftext|>please send back back a draft<|endoftext|>\n",
      "<|startoftext|>i hope you both are having a good time<|endoftext|>\n",
      "<|startoftext|>please let me know if your working on your schedule<|endoftext|>\n",
      "<|startoftext|>please review and let us know if we need any additional information<|endoftext|>\n",
      "<|startoftext|>if you want me to make another change please just forward this to me<|endoftext|>\n",
      "<|startoftext|>attached is a list of the items we are discussing<|endoftext|>\n",
      "<|startoftext|>it is my understanding all of the deals are complete<|endoftext|>\n",
      "<|startoftext|>it is been a tough time for us<|endoftext|>\n",
      "<|startoftext|>if you have any questions or need further assistance please do not hesitate to call us<|endoftext|>\n",
      "<|startoftext|>this should be done soon since there are no other options in town<|endoftext|>\n",
      "<|startoftext|>this is the first draft for your attention<|endoftext|>\n",
      "<|startoftext|>please pass this on to anyone else you know<|endoftext|>\n",
      "<|startoftext|>the other two should be done by tomorrow<|endoftext|>\n",
      "<|startoftext|>if you have any further questions please let me know<|endoftext|>\n",
      "<|startoftext|>if any of you would like to schedule you should get a copy of the master agreement<|endoftext|>\n",
      "<|startoftext|>if you have any other suggestions or changes please do not hesitate to call me<|endoftext|>\n",
      "<|startoftext|>thanks for checking in with me<|endoftext|>\n",
      "<|startoftext|>please note that our work schedule is subject to change<|endoftext|>\n",
      "<|startoftext|>i am sure that you would agree<|endoftext|>\n",
      "<|startoftext|>you can always talk to him<|endoftext|>\n",
      "<|startoftext|>if she should not be allowed to stay she will make a difficult decision<|endoftext|>\n",
      "<|startoftext|>it has been a long day here<|endoftext|>\n",
      "<|startoftext|>but we did not know<|endoftext|>\n",
      "<|startoftext|>if you have any questions or need anything further please let me know<|endoftext|>\n",
      "<|startoftext|>if you want to participate please forward to me so that we can discuss the issue in our meeting<|endoftext|>\n",
      "<|startoftext|>i am not sure that we want to call in to say we are going to get a response<|endoftext|>\n",
      "<|startoftext|>please keep in mind that the terms of the document will remain in effect as of this news<|endoftext|>\n",
      "<|startoftext|>but it is just so<|endoftext|>\n",
      "<|startoftext|>it is probably good as well<|endoftext|>\n",
      "<|startoftext|>you should be there\n",
      "\n",
      "[210 | 318.56] loss=1.09 avg=1.15\n",
      "[220 | 331.25] loss=1.11 avg=1.15\n",
      "[230 | 343.90] loss=1.01 avg=1.14\n",
      "[240 | 356.61] loss=1.15 avg=1.14\n",
      "[250 | 369.23] loss=1.07 avg=1.14\n",
      "======== SAMPLE 1 ========\n",
      "|startoftext|>we have the documents we need<|endoftext|>\n",
      "<|startoftext|>we will need to make changes to them as needed<|endoftext|>\n",
      "<|startoftext|>i hope that everything is going well with you<|endoftext|>\n",
      "<|startoftext|>what you hear from the news is only what you understand<|endoftext|>\n",
      "<|startoftext|>the attached copy of the report<|endoftext|>\n",
      "<|startoftext|>please let me know asap<|endoftext|>\n",
      "<|startoftext|>i will update you with any changes as they occur<|endoftext|>\n",
      "<|startoftext|>we will need to get involved in making the changes<|endoftext|>\n",
      "<|startoftext|>i will be unable to make a reply next week or tomorrow<|endoftext|>\n",
      "<|startoftext|>i just got back from vacation today and we are talking about how we are going to spend the weekend<|endoftext|>\n",
      "<|startoftext|>there may be some kind of meeting that happens later this week in order to discuss the meeting<|endoftext|>\n",
      "<|startoftext|>we are very much looking forward to seeing you<|endoftext|>\n",
      "<|startoftext|>that could explain some of the stock information<|endoftext|>\n",
      "<|startoftext|>i am available in the next session to coordinate<|endoftext|>\n",
      "<|startoftext|>attached is the new form<|endoftext|>\n",
      "<|startoftext|>i am attaching a copy to my desk<|endoftext|>\n",
      "<|startoftext|>we apologize no one was able to join us<|endoftext|>\n",
      "<|startoftext|>let me know if there were any problems or if you would like to discuss issues<|endoftext|>\n",
      "<|startoftext|>please contact me if you have any questions about the attached<|endoftext|>\n",
      "<|startoftext|>therefore this report is not final<|endoftext|>\n",
      "<|startoftext|>if you have a question please feel free to call me<|endoftext|>\n",
      "<|startoftext|>you can always forward to a new user on the home page of the website if someone has no access<|endoftext|>\n",
      "<|startoftext|>if you would like to get in on the action please see their page<|endoftext|>\n",
      "<|startoftext|>we have a number of things that we needed to figure out<|endoftext|>\n",
      "<|startoftext|>please let me know if there are any more changes or comments<|endoftext|>\n",
      "<|startoftext|>i am sure in the future you will consider taking it out for an in person<|endoftext|>\n",
      "<|startoftext|>it would then be the same<|endoftext|>\n",
      "<|startoftext|>he can be reached at any time by telephone or email.<|endoftext|>\n",
      "<|startoftext|>i was not really in the business of doing deals<|endoftext|>\n",
      "<|startoftext|>please call if you need more information or want to discuss this information<|endoftext|>\n",
      "<|startoftext|>if there are other issues that you think would benefit from this type of work please take them in as soon as possible<|endoftext|>\n",
      "<|startoftext|>i would very much appreciate it<|endoftext|>\n",
      "<|startoftext|>they had several opportunities to talk about it at the meeting<|endoftext|>\n",
      "<|startoftext|>any further questions please leave me a message<|endoftext|>\n",
      "<|startoftext|>they are going to send the bill out tomorrow<|endoftext|>\n",
      "<|startoftext|>i am not going to be there<|endoftext|>\n",
      "<|startoftext|>please send as comments<|endoftext|>\n",
      "<|startoftext|>your input should be welcome<|endoftext|>\n",
      "<|startoftext|>sorry it was so late<|endoftext|>\n",
      "<|startoftext|>please let me know if you need more of the same<|endoftext|>\n",
      "<|startoftext|>i have\n",
      "\n",
      "[260 | 393.21] loss=1.10 avg=1.14\n",
      "[270 | 405.85] loss=1.14 avg=1.14\n",
      "[280 | 418.50] loss=1.02 avg=1.13\n",
      "[290 | 431.14] loss=1.11 avg=1.13\n",
      "[300 | 443.85] loss=1.01 avg=1.13\n",
      "======== SAMPLE 1 ========\n",
      " here<|endoftext|>\n",
      "<|startoftext|>you are the life of the party and if you could not attend that should not be you<|endoftext|>\n",
      "<|startoftext|>if you have further questions please contact me<|endoftext|>\n",
      "<|startoftext|>all you have to do is answer the first four questions<|endoftext|>\n",
      "<|startoftext|>i would love to meet you as well<|endoftext|>\n",
      "<|startoftext|>the final call has been scheduled<|endoftext|>\n",
      "<|startoftext|>let me know if you would like further information<|endoftext|>\n",
      "<|startoftext|>this seems to be a critical area<|endoftext|>\n",
      "<|startoftext|>i do not have the original draft<|endoftext|>\n",
      "<|startoftext|>he has taken a look at it<|endoftext|>\n",
      "<|startoftext|>just a little bit to clear up all the minor issues<|endoftext|>\n",
      "<|startoftext|>i have talked to him for days<|endoftext|>\n",
      "<|startoftext|>in any case my question is<|endoftext|>\n",
      "<|startoftext|>please review the attached draft and update me as they change<|endoftext|>\n",
      "<|startoftext|>we have an issue with the contract<|endoftext|>\n",
      "<|startoftext|>for you folks<|endoftext|>\n",
      "<|startoftext|>let me know if it is okay or if you need any more information<|endoftext|>\n",
      "<|startoftext|>i still need to figure this out<|endoftext|>\n",
      "<|startoftext|>it does not happen in the real world<|endoftext|>\n",
      "<|startoftext|>that is it<|endoftext|>\n",
      "<|startoftext|>please let me know what you see and when<|endoftext|>\n",
      "<|startoftext|>please let me know what date works for you<|endoftext|>\n",
      "<|startoftext|>this weekend is just a short time later<|endoftext|>\n",
      "<|startoftext|>i am looking for you to discuss a number of various business matters<|endoftext|>\n",
      "<|startoftext|>if your schedule makes it difficult you can make it easier on yourself<|endoftext|>\n",
      "<|startoftext|>if you have any questions on this please do not hesitate to give me email at the top<|endoftext|>\n",
      "<|startoftext|>i am available tomorrow for further analysis<|endoftext|>\n",
      "<|startoftext|>i will bring an attorney for you later<|endoftext|>\n",
      "<|startoftext|>we need to focus first<|endoftext|>\n",
      "<|startoftext|>please let me know how and if you would like a copy<|endoftext|>\n",
      "<|startoftext|>that is what you want<|endoftext|>\n",
      "<|startoftext|>thank you for your information in writing<|endoftext|>\n",
      "<|startoftext|>in order to use your information for marketing purposes please update the referenced document with new information<|endoftext|>\n",
      "<|startoftext|>i did not know<|endoftext|>\n",
      "<|startoftext|>let me know what works for you<|endoftext|>\n",
      "<|startoftext|>i did not know what was coming<|endoftext|>\n",
      "<|startoftext|>a lot of that was the energy industry<|endoftext|>\n",
      "<|startoftext|>give your card<|endoftext|>\n",
      "<|startoftext|>i assume for you<|endoftext|>\n",
      "<|startoftext|>for more information go to www<|endoftext|>\n",
      "<|startoftext|>see attached file<|endoftext|>\n",
      "<|startoftext|>all changes and new items are due to me<|endoftext|>\n",
      "<|startoftext|>it does not need to be signed<|endoftext|>\n",
      "<|startoftext|>i appreciate your assistance on this matter<|endoftext|>\n",
      "<|startoftext|>please review and let me know if you have\n",
      "\n",
      "[310 | 467.88] loss=1.11 avg=1.13\n",
      "[320 | 480.56] loss=1.03 avg=1.12\n",
      "[330 | 493.20] loss=0.97 avg=1.12\n",
      "[340 | 505.80] loss=1.06 avg=1.12\n",
      "[350 | 518.42] loss=1.04 avg=1.11\n",
      "======== SAMPLE 1 ========\n",
      " with more details<|endoftext|>\n",
      "<|startoftext|>the company said it has a cash management group<|endoftext|>\n",
      "<|startoftext|>i have attached the spreadsheet to the attached agreement<|endoftext|>\n",
      "<|startoftext|>if this is the company will be the reason we do not take action<|endoftext|>\n",
      "<|startoftext|>i will send it back and we will talk about this in our new room<|endoftext|>\n",
      "<|startoftext|>if you have any additional thoughts on these issues feel free to give me a call<|endoftext|>\n",
      "<|startoftext|>however she is doing well<|endoftext|>\n",
      "<|startoftext|>if you could send an email to him to let him know that we have an offer we were waiting for<|endoftext|>\n",
      "<|startoftext|>i did not expect it much<|endoftext|>\n",
      "<|startoftext|>if you are unable to attend please let us know<|endoftext|>\n",
      "<|startoftext|>this way we can get your feedback<|endoftext|>\n",
      "<|startoftext|>the weather is good<|endoftext|>\n",
      "<|startoftext|>the company said it will use the funds to pay for product development and marketing expenses<|endoftext|>\n",
      "<|startoftext|>here is the press release<|endoftext|>\n",
      "<|startoftext|>see what you make of it<|endoftext|>\n",
      "<|startoftext|>there was an agenda<|endoftext|>\n",
      "<|startoftext|>the report continues<|endoftext|>\n",
      "<|startoftext|>i hope this provides you with the opportunity to discuss<|endoftext|>\n",
      "<|startoftext|>let is talk about this when you get there<|endoftext|>\n",
      "<|startoftext|>this is the right move to help the country meet its long term energy needs<|endoftext|>\n",
      "<|startoftext|>the most positive effect on consumer spending is the increase in the rate of return on investment<|endoftext|>\n",
      "<|startoftext|>thank you so much for the note<|endoftext|>\n",
      "<|startoftext|>this is what the market wants and needs to get back<|endoftext|>\n",
      "<|startoftext|>let me know if you need help with any of this<|endoftext|>\n",
      "<|startoftext|>i will be there<|endoftext|>\n",
      "<|startoftext|>i just know it now<|endoftext|>\n",
      "<|startoftext|>please give your approval<|endoftext|>\n",
      "<|startoftext|>if you feel the need give me a call<|endoftext|>\n",
      "<|startoftext|>here is my new info<|endoftext|>\n",
      "<|startoftext|>i will follow up this week<|endoftext|>\n",
      "<|startoftext|>in case you need additional data<|endoftext|>\n",
      "<|startoftext|>please contact me for more information at the numbers indicated in red below<|endoftext|>\n",
      "<|startoftext|>a few notes on the form is<|endoftext|>\n",
      "<|startoftext|>please let me know what time we should start the presentation<|endoftext|>\n",
      "<|startoftext|>they should have them in place by next winter<|endoftext|>\n",
      "<|startoftext|>if you require additional information let me know<|endoftext|>\n",
      "<|startoftext|>i am waiting for a response from you<|endoftext|>\n",
      "<|startoftext|>i have been sending you emails from the customer to let you know more information<|endoftext|>\n",
      "<|startoftext|>please make your changes to the attachment<|endoftext|>\n",
      "<|startoftext|>i understand that you could go to any of the two levels and they would both do the same<|endoftext|>\n",
      "<|startoftext|>the other option would be to send it by mail<|endoftext|>\n",
      "<|startoftext|>i just did a little research and found the following<|endoftext|>\n",
      "<|startoftext|>attached is the\n",
      "\n",
      "[360 | 542.46] loss=1.06 avg=1.11\n",
      "[370 | 555.13] loss=1.00 avg=1.11\n",
      "[380 | 567.76] loss=1.02 avg=1.10\n",
      "[390 | 580.38] loss=1.04 avg=1.10\n",
      "[400 | 593.00] loss=0.99 avg=1.10\n",
      "======== SAMPLE 1 ========\n",
      " know about this<|endoftext|>\n",
      "<|startoftext|>we will continue to look for the next person<|endoftext|>\n",
      "<|startoftext|>that includes me<|endoftext|>\n",
      "<|startoftext|>please find attached notes for your convenience<|endoftext|>\n",
      "<|startoftext|>all the same things<|endoftext|>\n",
      "<|startoftext|>i will not be able to do this without them in the call<|endoftext|>\n",
      "<|startoftext|>i hope you can join me for lunch<|endoftext|>\n",
      "<|startoftext|>please see the attachment for details<|endoftext|>\n",
      "<|startoftext|>i am just glad to have you to visit<|endoftext|>\n",
      "<|startoftext|>that would be the difference<|endoftext|>\n",
      "<|startoftext|>i did not touch anything<|endoftext|>\n",
      "<|startoftext|>this is pretty much the only report we have received so far<|endoftext|>\n",
      "<|startoftext|>i will do what is necessary<|endoftext|>\n",
      "<|startoftext|>i do not know if he has done any research or not<|endoftext|>\n",
      "<|startoftext|>the other deal for that was very bad<|endoftext|>\n",
      "<|startoftext|>please do not call me on my cell phone<|endoftext|>\n",
      "<|startoftext|>but he is not expected to play this week<|endoftext|>\n",
      "<|startoftext|>i will contact him<|endoftext|>\n",
      "<|startoftext|>there are no deals yet so feel free to let me know<|endoftext|>\n",
      "<|startoftext|>thanks for everyone is help and understanding<|endoftext|>\n",
      "<|startoftext|>i am attaching my resume where you can find comments<|endoftext|>\n",
      "<|startoftext|>they were trying to build a database and a way to get it into a database<|endoftext|>\n",
      "<|startoftext|>please keep me informed<|endoftext|>\n",
      "<|startoftext|>please find attached memo<|endoftext|>\n",
      "<|startoftext|>here are the information we have on the house<|endoftext|>\n",
      "<|startoftext|>there have been no developments<|endoftext|>\n",
      "<|startoftext|>let me know if you see any of any problems or if you want to discuss<|endoftext|>\n",
      "<|startoftext|>this was the second time he has taken this step<|endoftext|>\n",
      "<|startoftext|>i will call once and get back to you<|endoftext|>\n",
      "<|startoftext|>call if you need anything<|endoftext|>\n",
      "<|startoftext|>please let me know how you would like to proceed<|endoftext|>\n",
      "<|startoftext|>thanks and please call me with your questions<|endoftext|>\n",
      "<|startoftext|>your response will be included on the report<|endoftext|>\n",
      "<|startoftext|>here are the information that we have already received<|endoftext|>\n",
      "<|startoftext|>please give me a call if you have any questions<|endoftext|>\n",
      "<|startoftext|>see link below<|endoftext|>\n",
      "<|startoftext|>please let me know if you would like me to include them in your review<|endoftext|>\n",
      "<|startoftext|>please feel free to give me a call with any questions or comments that you wish to discuss<|endoftext|>\n",
      "<|startoftext|>if you have additional questions feel free to call<|endoftext|>\n",
      "<|startoftext|>please verify your credit report with me if you have any question on this matter<|endoftext|>\n",
      "<|startoftext|>we may need some more<|endoftext|>\n",
      "<|startoftext|>so how is she doing there<|endoftext|>\n",
      "<|startoftext|>this deal should be fine<|endoftext|>\n",
      "<|startoftext|>let me know the best time for your review<|endoftext|>\n",
      "<|\n",
      "\n",
      "[410 | 617.04] loss=1.00 avg=1.10\n",
      "[420 | 629.74] loss=0.99 avg=1.09\n",
      "[430 | 642.35] loss=1.03 avg=1.09\n",
      "[440 | 654.96] loss=1.01 avg=1.09\n",
      "[450 | 667.62] loss=0.91 avg=1.08\n",
      "======== SAMPLE 1 ========\n",
      "|endoftext|>\n",
      "<|startoftext|>but there was one question about his plans<|endoftext|>\n",
      "<|startoftext|>i will update you next week when it is completed<|endoftext|>\n",
      "<|startoftext|>i would like to have our comments forwarded to you by phone<|endoftext|>\n",
      "<|startoftext|>but he did not make it<|endoftext|>\n",
      "<|startoftext|>please advise as to who we can help with the following<|endoftext|>\n",
      "<|startoftext|>please call when you know of an opportunity like this<|endoftext|>\n",
      "<|startoftext|>you would not be a good fit if you did not have the information on you book<|endoftext|>\n",
      "<|startoftext|>the company said it is looking at new investments and would focus on sales<|endoftext|>\n",
      "<|startoftext|>we are currently in the business of selling books<|endoftext|>\n",
      "<|startoftext|>i would like to set up an interview with him<|endoftext|>\n",
      "<|startoftext|>see you there<|endoftext|>\n",
      "<|startoftext|>also please let me know if you should need more information about me<|endoftext|>\n",
      "<|startoftext|>please let me know if there is anything you need from me<|endoftext|>\n",
      "<|startoftext|>i think this is the one we should look at<|endoftext|>\n",
      "<|startoftext|>he did not return for that session<|endoftext|>\n",
      "<|startoftext|>thanks for your clarification and assistance<|endoftext|>\n",
      "<|startoftext|>thanks in advance for your prompt response<|endoftext|>\n",
      "<|startoftext|>please give me a call if you have any questions<|endoftext|>\n",
      "<|startoftext|>i will need one today<|endoftext|>\n",
      "<|startoftext|>it will be nice<|endoftext|>\n",
      "<|startoftext|>i need to make sure that the changes sound acceptable to the customers<|endoftext|>\n",
      "<|startoftext|>the company said it will use the funding to develop a business technology line and for marketing<|endoftext|>\n",
      "<|startoftext|>in the meantime please follow the link below<|endoftext|>\n",
      "<|startoftext|>please let me know if you have any questions regarding this matter<|endoftext|>\n",
      "<|startoftext|>the schedule is attached for your review<|endoftext|>\n",
      "<|startoftext|>the next meeting should happen within a few days of my letter being sent out<|endoftext|>\n",
      "<|startoftext|>we are very concerned about its impact on our company<|endoftext|>\n",
      "<|startoftext|>thanks for all your patience<|endoftext|>\n",
      "<|startoftext|>thanks again to everyone for having such a help desk<|endoftext|>\n",
      "<|startoftext|>please review the attached draft of the document<|endoftext|>\n",
      "<|startoftext|>i will get it from you in the morning today<|endoftext|>\n",
      "<|startoftext|>i do not know how these three items will play out and would suggest that more testing be done shortly<|endoftext|>\n",
      "<|startoftext|>he made some money back then<|endoftext|>\n",
      "<|startoftext|>it has really changed my perspective<|endoftext|>\n",
      "<|startoftext|>please call with any questions<|endoftext|>\n",
      "<|startoftext|>do you ever have a problem with the list<|endoftext|>\n",
      "<|startoftext|>if anyone has any questions or needs more information let me know<|endoftext|>\n",
      "<|startoftext|>that is fine with me<|endoftext|>\n",
      "<|startoftext|>so here is your draft<|endoftext|>\n",
      "<|startoftext|>the following changes have been changed<|endoftext|>\n",
      "<|startoftext|>i assume that we can coordinate a meeting<|endoftext|>\n",
      "<|startoftext|>please see changes below and let me know if you need further information or\n",
      "\n",
      "[460 | 691.56] loss=0.94 avg=1.08\n",
      "[470 | 704.20] loss=1.01 avg=1.08\n",
      "[480 | 716.81] loss=0.90 avg=1.07\n",
      "[490 | 729.48] loss=1.04 avg=1.07\n",
      "[500 | 742.08] loss=1.06 avg=1.07\n",
      "Saving checkpoint/run1/model-500\n"
     ]
    }
   ],
   "source": [
    "#Fine-tune GPT2 model\n",
    "sess = gpt2.start_tf_sess()\n",
    "\n",
    "gpt2.finetune(sess,\n",
    "              dataset=file_name,\n",
    "              model_name='124M',\n",
    "              steps=500,\n",
    "              restore_from='fresh',\n",
    "              run_name='run1',\n",
    "              print_every=10,\n",
    "              sample_every=50\n",
    "              )"
   ]
  },
  {
   "cell_type": "code",
   "execution_count": 0,
   "metadata": {
    "colab": {},
    "colab_type": "code",
    "id": "s1m3vlkFBCH2"
   },
   "outputs": [],
   "source": [
    "#Copy GPT2 model to Google Drive\n",
    "gpt2.copy_checkpoint_to_gdrive(run_name='run1')"
   ]
  },
  {
   "cell_type": "code",
   "execution_count": 0,
   "metadata": {
    "colab": {},
    "colab_type": "code",
    "id": "s0AWnBp_T3Eg"
   },
   "outputs": [],
   "source": [
    "#Load GPT2 model from Google Drive\n",
    "gpt2.copy_checkpoint_from_gdrive(run_name='run1')"
   ]
  },
  {
   "cell_type": "code",
   "execution_count": 3,
   "metadata": {
    "colab": {
     "base_uri": "https://localhost:8080/",
     "height": 50
    },
    "colab_type": "code",
    "id": "LF7JIfkWT3KR",
    "outputId": "bd86b36a-6ab4-4f8c-9b2e-cc0546b9cea8"
   },
   "outputs": [
    {
     "name": "stdout",
     "output_type": "stream",
     "text": [
      "Loading checkpoint checkpoint/run1/model-500\n",
      "INFO:tensorflow:Restoring parameters from checkpoint/run1/model-500\n"
     ]
    }
   ],
   "source": [
    "#Load trained model\n",
    "sess = gpt2.start_tf_sess()\n",
    "gpt2.load_gpt2(sess, run_name='run1')"
   ]
  },
  {
   "cell_type": "code",
   "execution_count": 6,
   "metadata": {
    "colab": {
     "base_uri": "https://localhost:8080/",
     "height": 222
    },
    "colab_type": "code",
    "id": "U4GqhnWRUlnt",
    "outputId": "c0e4a184-70cf-4616-e0b2-a4d0a3742e0c"
   },
   "outputs": [
    {
     "name": "stdout",
     "output_type": "stream",
     "text": [
      "--2020-06-12 05:12:28--  https://doc-10-ak-docs.googleusercontent.com/docs/securesc/qbvov0hd66fbepcf5v8uge9fuarie7t4/ft2nrpemmsfv4pa4tavlle3puo82k486/1591938675000/02963250765125473783/02963250765125473783/1HMgJBTT6CEU3fB9a40FxCp-PhtEgjZfj?e=download&authuser=1\n",
      "Resolving doc-10-ak-docs.googleusercontent.com (doc-10-ak-docs.googleusercontent.com)... 108.177.125.132, 2404:6800:4008:c01::84\n",
      "Connecting to doc-10-ak-docs.googleusercontent.com (doc-10-ak-docs.googleusercontent.com)|108.177.125.132|:443... connected.\n",
      "HTTP request sent, awaiting response... 200 OK\n",
      "Length: unspecified [text/csv]\n",
      "Saving to: ‘train_final_data.csv’\n",
      "\n",
      "\r",
      "train_final_data.cs     [<=>                 ]       0  --.-KB/s               \r",
      "train_final_data.cs     [ <=>                ]  21.79M   116MB/s    in 0.2s    \n",
      "\n",
      "2020-06-12 05:12:29 (116 MB/s) - ‘train_final_data.csv’ saved [22853484]\n",
      "\n"
     ]
    }
   ],
   "source": [
    "!wget --header=\"Host: doc-10-ak-docs.googleusercontent.com\" --header=\"User-Agent: Mozilla/5.0 (Windows NT 10.0; Win64; x64) AppleWebKit/537.36 (KHTML, like Gecko) Chrome/83.0.4103.97 Safari/537.36\" --header=\"Accept: text/html,application/xhtml+xml,application/xml;q=0.9,image/webp,image/apng,*/*;q=0.8,application/signed-exchange;v=b3;q=0.9\" --header=\"Accept-Language: en-IN,en-GB;q=0.9,en-US;q=0.8,en;q=0.7\" --header=\"Referer: https://drive.google.com/drive/u/1/folders/1GPJE1WQq27nrFOlJwMRDMIO-6HbzxvVu\" --header=\"Cookie: AUTH_hsr61oqao0sqa2rdskku1n6gcr67pomr=02963250765125473783|1591938525000|hldd6k0bf58ot9hkud0vlq42tnfjpnm8; _ga=GA1.2.1509677474.1591248567\" --header=\"Connection: keep-alive\" \"https://doc-10-ak-docs.googleusercontent.com/docs/securesc/qbvov0hd66fbepcf5v8uge9fuarie7t4/ft2nrpemmsfv4pa4tavlle3puo82k486/1591938675000/02963250765125473783/02963250765125473783/1HMgJBTT6CEU3fB9a40FxCp-PhtEgjZfj?e=download&authuser=1\" -c -O 'train_final_data.csv'"
   ]
  },
  {
   "cell_type": "code",
   "execution_count": 7,
   "metadata": {
    "colab": {
     "base_uri": "https://localhost:8080/",
     "height": 222
    },
    "colab_type": "code",
    "id": "lOuipRSuU-_4",
    "outputId": "d20dafe9-89e3-4554-9c5a-8eead5278eb8"
   },
   "outputs": [
    {
     "name": "stdout",
     "output_type": "stream",
     "text": [
      "--2020-06-12 05:12:32--  https://doc-0g-ak-docs.googleusercontent.com/docs/securesc/qbvov0hd66fbepcf5v8uge9fuarie7t4/7hvjf16pnf3aj0u2rnhuoke3jnpips2o/1591938675000/02963250765125473783/02963250765125473783/1kdRszXCTviPXxWQcpTFTf9AXoqhowuE0?e=download&authuser=1\n",
      "Resolving doc-0g-ak-docs.googleusercontent.com (doc-0g-ak-docs.googleusercontent.com)... 108.177.125.132, 2404:6800:4008:c01::84\n",
      "Connecting to doc-0g-ak-docs.googleusercontent.com (doc-0g-ak-docs.googleusercontent.com)|108.177.125.132|:443... connected.\n",
      "HTTP request sent, awaiting response... 200 OK\n",
      "Length: unspecified [text/csv]\n",
      "Saving to: ‘val_final_data.csv’\n",
      "\n",
      "\r",
      "val_final_data.csv      [<=>                 ]       0  --.-KB/s               \r",
      "val_final_data.csv      [ <=>                ]   4.36M  --.-KB/s    in 0.04s   \n",
      "\n",
      "2020-06-12 05:12:32 (97.0 MB/s) - ‘val_final_data.csv’ saved [4569448]\n",
      "\n"
     ]
    }
   ],
   "source": [
    "!wget --header=\"Host: doc-0g-ak-docs.googleusercontent.com\" --header=\"User-Agent: Mozilla/5.0 (Windows NT 10.0; Win64; x64) AppleWebKit/537.36 (KHTML, like Gecko) Chrome/83.0.4103.97 Safari/537.36\" --header=\"Accept: text/html,application/xhtml+xml,application/xml;q=0.9,image/webp,image/apng,*/*;q=0.8,application/signed-exchange;v=b3;q=0.9\" --header=\"Accept-Language: en-IN,en-GB;q=0.9,en-US;q=0.8,en;q=0.7\" --header=\"Referer: https://drive.google.com/drive/u/1/folders/1GPJE1WQq27nrFOlJwMRDMIO-6HbzxvVu\" --header=\"Cookie: AUTH_hsr61oqao0sqa2rdskku1n6gcr67pomr=02963250765125473783|1591938525000|hldd6k0bf58ot9hkud0vlq42tnfjpnm8; _ga=GA1.2.1509677474.1591248567\" --header=\"Connection: keep-alive\" \"https://doc-0g-ak-docs.googleusercontent.com/docs/securesc/qbvov0hd66fbepcf5v8uge9fuarie7t4/7hvjf16pnf3aj0u2rnhuoke3jnpips2o/1591938675000/02963250765125473783/02963250765125473783/1kdRszXCTviPXxWQcpTFTf9AXoqhowuE0?e=download&authuser=1\" -c -O 'val_final_data.csv'"
   ]
  },
  {
   "cell_type": "markdown",
   "metadata": {},
   "source": [
    "<h2>(Refer GPT2 Word Featurization Section 2 of 2_Data_Preparation.ipynb)</h2> "
   ]
  },
  {
   "cell_type": "code",
   "execution_count": 0,
   "metadata": {
    "colab": {},
    "colab_type": "code",
    "id": "JWjKquddVIzi"
   },
   "outputs": [],
   "source": [
    "train_final_data = pd.read_csv('train_final_data.csv')\n",
    "val_final_data = pd.read_csv('val_final_data.csv')"
   ]
  },
  {
   "cell_type": "code",
   "execution_count": 9,
   "metadata": {
    "colab": {
     "base_uri": "https://localhost:8080/",
     "height": 195
    },
    "colab_type": "code",
    "id": "h-Z4yjyTVWaI",
    "outputId": "bff95bec-3220-49a6-ad7e-854f7b0eafa6"
   },
   "outputs": [
    {
     "data": {
      "text/html": [
       "<div>\n",
       "<style scoped>\n",
       "    .dataframe tbody tr th:only-of-type {\n",
       "        vertical-align: middle;\n",
       "    }\n",
       "\n",
       "    .dataframe tbody tr th {\n",
       "        vertical-align: top;\n",
       "    }\n",
       "\n",
       "    .dataframe thead th {\n",
       "        text-align: right;\n",
       "    }\n",
       "</style>\n",
       "<table border=\"1\" class=\"dataframe\">\n",
       "  <thead>\n",
       "    <tr style=\"text-align: right;\">\n",
       "      <th></th>\n",
       "      <th>X</th>\n",
       "      <th>y</th>\n",
       "    </tr>\n",
       "  </thead>\n",
       "  <tbody>\n",
       "    <tr>\n",
       "      <th>0</th>\n",
       "      <td>&lt;|startoftext|&gt;it</td>\n",
       "      <td>looks like we should have them soon</td>\n",
       "    </tr>\n",
       "    <tr>\n",
       "      <th>1</th>\n",
       "      <td>&lt;|startoftext|&gt;it looks</td>\n",
       "      <td>like we should have them soon</td>\n",
       "    </tr>\n",
       "    <tr>\n",
       "      <th>2</th>\n",
       "      <td>&lt;|startoftext|&gt;it looks like</td>\n",
       "      <td>we should have them soon</td>\n",
       "    </tr>\n",
       "    <tr>\n",
       "      <th>3</th>\n",
       "      <td>&lt;|startoftext|&gt;it looks like we</td>\n",
       "      <td>should have them soon</td>\n",
       "    </tr>\n",
       "    <tr>\n",
       "      <th>4</th>\n",
       "      <td>&lt;|startoftext|&gt;it looks like we should</td>\n",
       "      <td>have them soon</td>\n",
       "    </tr>\n",
       "  </tbody>\n",
       "</table>\n",
       "</div>"
      ],
      "text/plain": [
       "                                        X                                    y\n",
       "0                       <|startoftext|>it  looks like we should have them soon\n",
       "1                 <|startoftext|>it looks        like we should have them soon\n",
       "2            <|startoftext|>it looks like             we should have them soon\n",
       "3         <|startoftext|>it looks like we                should have them soon\n",
       "4  <|startoftext|>it looks like we should                       have them soon"
      ]
     },
     "execution_count": 9,
     "metadata": {
      "tags": []
     },
     "output_type": "execute_result"
    }
   ],
   "source": [
    "train_final_data.head()"
   ]
  },
  {
   "cell_type": "code",
   "execution_count": 5,
   "metadata": {
    "colab": {
     "base_uri": "https://localhost:8080/",
     "height": 195
    },
    "colab_type": "code",
    "id": "tSFRFOWLehaL",
    "outputId": "6a15b34d-286e-4498-ebe7-5fce8f0588c5"
   },
   "outputs": [
    {
     "data": {
      "text/html": [
       "<div>\n",
       "<style scoped>\n",
       "    .dataframe tbody tr th:only-of-type {\n",
       "        vertical-align: middle;\n",
       "    }\n",
       "\n",
       "    .dataframe tbody tr th {\n",
       "        vertical-align: top;\n",
       "    }\n",
       "\n",
       "    .dataframe thead th {\n",
       "        text-align: right;\n",
       "    }\n",
       "</style>\n",
       "<table border=\"1\" class=\"dataframe\">\n",
       "  <thead>\n",
       "    <tr style=\"text-align: right;\">\n",
       "      <th></th>\n",
       "      <th>X</th>\n",
       "      <th>y</th>\n",
       "      <th>X_length</th>\n",
       "    </tr>\n",
       "  </thead>\n",
       "  <tbody>\n",
       "    <tr>\n",
       "      <th>0</th>\n",
       "      <td>&lt;|startoftext|&gt;but again that</td>\n",
       "      <td>might be just what the two utilities receive</td>\n",
       "      <td>3</td>\n",
       "    </tr>\n",
       "    <tr>\n",
       "      <th>1</th>\n",
       "      <td>&lt;|startoftext|&gt;but again that might</td>\n",
       "      <td>be just what the two utilities receive</td>\n",
       "      <td>4</td>\n",
       "    </tr>\n",
       "    <tr>\n",
       "      <th>2</th>\n",
       "      <td>&lt;|startoftext|&gt;but again that might be</td>\n",
       "      <td>just what the two utilities receive</td>\n",
       "      <td>5</td>\n",
       "    </tr>\n",
       "    <tr>\n",
       "      <th>3</th>\n",
       "      <td>&lt;|startoftext|&gt;but again that might be just</td>\n",
       "      <td>what the two utilities receive</td>\n",
       "      <td>6</td>\n",
       "    </tr>\n",
       "    <tr>\n",
       "      <th>4</th>\n",
       "      <td>&lt;|startoftext|&gt;but again that might be just what</td>\n",
       "      <td>the two utilities receive</td>\n",
       "      <td>7</td>\n",
       "    </tr>\n",
       "  </tbody>\n",
       "</table>\n",
       "</div>"
      ],
      "text/plain": [
       "                                                  X  ... X_length\n",
       "0                     <|startoftext|>but again that  ...        3\n",
       "1               <|startoftext|>but again that might  ...        4\n",
       "2            <|startoftext|>but again that might be  ...        5\n",
       "3       <|startoftext|>but again that might be just  ...        6\n",
       "4  <|startoftext|>but again that might be just what  ...        7\n",
       "\n",
       "[5 rows x 3 columns]"
      ]
     },
     "execution_count": 5,
     "metadata": {
      "tags": []
     },
     "output_type": "execute_result"
    }
   ],
   "source": [
    "val_final_data.head()"
   ]
  },
  {
   "cell_type": "code",
   "execution_count": 0,
   "metadata": {
    "colab": {},
    "colab_type": "code",
    "id": "5SENLy63T3JR"
   },
   "outputs": [],
   "source": [
    "#Compute loss for train and validation data\n",
    "#Generate 100 random samples from train and val data\n",
    "#Train data\n",
    "train_index = []\n",
    "for i in range(train_final_data.shape[0]):\n",
    "    if len(train_final_data.X.iloc[i].split())>13:\n",
    "        train_index.append(i)\n",
    "train_index = random.sample(train_index,100)\n",
    "\n",
    "#Validation data\n",
    "#Train data\n",
    "val_index = []\n",
    "for i in range(val_final_data.shape[0]):\n",
    "    if len(val_final_data.X.iloc[i].split())>13:\n",
    "        val_index.append(i)\n",
    "val_index = random.sample(val_index,100)"
   ]
  },
  {
   "cell_type": "code",
   "execution_count": 0,
   "metadata": {
    "colab": {},
    "colab_type": "code",
    "id": "FiMhA_YBUlly"
   },
   "outputs": [],
   "source": [
    "def predict_text(text):\n",
    "    return gpt2.generate(sess, run_name='run1',length=25,prefix=text,truncate=\"<|endoftext|>\",include_prefix=False,\n",
    "                         return_as_list=True)[0]"
   ]
  },
  {
   "cell_type": "code",
   "execution_count": 0,
   "metadata": {
    "colab": {},
    "colab_type": "code",
    "id": "O9bJvW3TV4yu"
   },
   "outputs": [],
   "source": [
    "def get_bleu_score(input_sent,actual):\n",
    "    prediction = predict_text(input_sent)\n",
    "    return input_sent,actual,prediction,bleu_score.sentence_bleu([actual.split()],prediction.split())"
   ]
  },
  {
   "cell_type": "code",
   "execution_count": 14,
   "metadata": {
    "colab": {
     "base_uri": "https://localhost:8080/",
     "height": 939,
     "referenced_widgets": [
      "1027ff3ef44f46d8b4424c3b25fd32da",
      "b3799b110e854631bf1e7009d6a8ac3d",
      "d8632ddaf30847209ec7446eff3076c8",
      "2c75ab0469234c20bd01c2d2cd2cf17a",
      "bf2d628164db45ecb6a4043d781ae6e2",
      "9321c8a27720422d8677efa52fb0eb65",
      "e204619892144f7295eb7dc161436669",
      "0d3516e9083c4a69bd75d94b1e9e96b7"
     ]
    },
    "colab_type": "code",
    "id": "nVge7kRBaWkN",
    "outputId": "687160fd-9d8b-4aeb-c6d8-141ebdb63285"
   },
   "outputs": [
    {
     "data": {
      "application/vnd.jupyter.widget-view+json": {
       "model_id": "1027ff3ef44f46d8b4424c3b25fd32da",
       "version_major": 2,
       "version_minor": 0
      },
      "text/plain": [
       "HBox(children=(FloatProgress(value=1.0, bar_style='info', max=1.0), HTML(value='')))"
      ]
     },
     "metadata": {
      "tags": []
     },
     "output_type": "display_data"
    },
    {
     "name": "stderr",
     "output_type": "stream",
     "text": [
      "/usr/local/lib/python3.6/dist-packages/nltk/translate/bleu_score.py:490: UserWarning: \n",
      "Corpus/Sentence contains 0 counts of 4-gram overlaps.\n",
      "BLEU scores might be undesirable; use SmoothingFunction().\n",
      "  warnings.warn(_msg)\n",
      "/usr/local/lib/python3.6/dist-packages/nltk/translate/bleu_score.py:490: UserWarning: \n",
      "Corpus/Sentence contains 0 counts of 2-gram overlaps.\n",
      "BLEU scores might be undesirable; use SmoothingFunction().\n",
      "  warnings.warn(_msg)\n",
      "/usr/local/lib/python3.6/dist-packages/nltk/translate/bleu_score.py:490: UserWarning: \n",
      "Corpus/Sentence contains 0 counts of 3-gram overlaps.\n",
      "BLEU scores might be undesirable; use SmoothingFunction().\n",
      "  warnings.warn(_msg)\n"
     ]
    },
    {
     "name": "stdout",
     "output_type": "stream",
     "text": [
      "Input sentence: <|startoftext|>i would love the opportunity to talk with you further if you think this might\n",
      "Actual words: be of interest to you\n",
      "Predicted words:  be of interest to you\n",
      "------------------------------------------------------------------------------------------\n",
      "Input sentence: <|startoftext|>if either of you have any questions or know of more things to do please\n",
      "Actual words: let is get together and discuss\n",
      "Predicted words:  let me know\n",
      "------------------------------------------------------------------------------------------\n",
      "Input sentence: <|startoftext|>please call if you have any questions or would like to discuss in greater\n",
      "Actual words: detail\n",
      "Predicted words:  detail\n",
      "------------------------------------------------------------------------------------------\n",
      "Input sentence: <|startoftext|>i do not want that to be the basis on which the decision is\n",
      "Actual words: made\n",
      "Predicted words:  made\n",
      "------------------------------------------------------------------------------------------\n",
      "Input sentence: <|startoftext|>in that case you do not need to reply and this will be the last note\n",
      "Actual words: you will get from us\n",
      "Predicted words: \n",
      "------------------------------------------------------------------------------------------\n",
      "Input sentence: <|startoftext|>i would be happy for you to take this back if you would like to work on it as an\n",
      "Actual words: infrastructure project\n",
      "Predicted words:  individual project\n",
      "------------------------------------------------------------------------------------------\n",
      "Input sentence: <|startoftext|>therefore we do not wish to make an offer of this package at this\n",
      "Actual words: time\n",
      "Predicted words:  time\n",
      "------------------------------------------------------------------------------------------\n",
      "Input sentence: <|startoftext|>please forward this to anyone who might benefit from a better understanding of energy derivatives\n",
      "Actual words: and electric power trading\n",
      "Predicted words: \n",
      "------------------------------------------------------------------------------------------\n",
      "Input sentence: <|startoftext|>this draft has not been reviewed by my client and thus we must reserve the\n",
      "Actual words: right to make further revisions\n",
      "Predicted words:  right to approve or comment on the document at any time\n",
      "------------------------------------------------------------------------------------------\n",
      "Input sentence: <|startoftext|>if for some reason it does not start showing up please give me a\n",
      "Actual words: call\n",
      "Predicted words:  call\n",
      "------------------------------------------------------------------------------------------\n",
      "\n"
     ]
    }
   ],
   "source": [
    "#For train data, actual and predicted words\n",
    "train_bleu_list = []\n",
    "counter = 0\n",
    "for i,j in tqdm(zip(train_final_data.X.iloc[train_index],train_final_data.y.iloc[train_index])):\n",
    "    counter+=1\n",
    "    inp, a, p, bleu = get_bleu_score(i,j)\n",
    "    train_bleu_list.append(bleu)\n",
    "    #Print some actual and predicted words\n",
    "    if counter%10==0:\n",
    "        print('Input sentence:',inp)\n",
    "        print('Actual words:',a)\n",
    "        print('Predicted words:',p)\n",
    "        print(90*'-')"
   ]
  },
  {
   "cell_type": "code",
   "execution_count": 17,
   "metadata": {
    "colab": {
     "base_uri": "https://localhost:8080/",
     "height": 34
    },
    "colab_type": "code",
    "id": "6J_zRGft8eGW",
    "outputId": "ccf4f3d2-c5a8-429f-a497-1fef6a5cce3d"
   },
   "outputs": [
    {
     "name": "stdout",
     "output_type": "stream",
     "text": [
      "BLEU Score for train data of 100 samples: 0.429\n"
     ]
    }
   ],
   "source": [
    "#Average BLEU Score for sentences\n",
    "print('BLEU Score for train data of 100 samples:',np.round(sum(train_bleu_list)/len(train_bleu_list),3))"
   ]
  },
  {
   "cell_type": "code",
   "execution_count": 9,
   "metadata": {
    "colab": {
     "base_uri": "https://localhost:8080/",
     "height": 939,
     "referenced_widgets": [
      "9e59d271f3f34d33b6d1b88fd6870e41",
      "49e47132bde64081bbf2ab2acd7344dc",
      "a8ab9d58e51645bea3284aeef2a0906b",
      "562f6676bf9b478da860a4a760cc7fa6",
      "f66be1c4332845d39903cdce6455418b",
      "067777d6b1534c3ba2f4ed318c097251",
      "8741c23a61cb4f03b5fec1c3201ddbfb",
      "85dae720e93444358419a00eced9788d"
     ]
    },
    "colab_type": "code",
    "id": "efm_xdAebaLR",
    "outputId": "ad7ffa66-b58b-4f46-8f5a-6277334ec18c"
   },
   "outputs": [
    {
     "data": {
      "application/vnd.jupyter.widget-view+json": {
       "model_id": "9e59d271f3f34d33b6d1b88fd6870e41",
       "version_major": 2,
       "version_minor": 0
      },
      "text/plain": [
       "HBox(children=(FloatProgress(value=1.0, bar_style='info', max=1.0), HTML(value='')))"
      ]
     },
     "metadata": {
      "tags": []
     },
     "output_type": "display_data"
    },
    {
     "name": "stderr",
     "output_type": "stream",
     "text": [
      "/usr/local/lib/python3.6/dist-packages/nltk/translate/bleu_score.py:490: UserWarning: \n",
      "Corpus/Sentence contains 0 counts of 3-gram overlaps.\n",
      "BLEU scores might be undesirable; use SmoothingFunction().\n",
      "  warnings.warn(_msg)\n",
      "/usr/local/lib/python3.6/dist-packages/nltk/translate/bleu_score.py:490: UserWarning: \n",
      "Corpus/Sentence contains 0 counts of 2-gram overlaps.\n",
      "BLEU scores might be undesirable; use SmoothingFunction().\n",
      "  warnings.warn(_msg)\n"
     ]
    },
    {
     "name": "stdout",
     "output_type": "stream",
     "text": [
      "Input sentence: <|startoftext|>i would like to know by then what we like and do not like about\n",
      "Actual words: them and how to approach possible changes\n",
      "Predicted words:  you guys\n",
      "------------------------------------------------------------------------------------------\n",
      "Input sentence: <|startoftext|>however the states would be able to determine how and when this would be\n",
      "Actual words: done\n",
      "Predicted words:  done\n",
      "------------------------------------------------------------------------------------------\n",
      "Input sentence: <|startoftext|>if you want to discuss it further please feel free to give me a\n",
      "Actual words: call\n",
      "Predicted words:  call\n",
      "------------------------------------------------------------------------------------------\n",
      "Input sentence: <|startoftext|>if you are not the correct person that should look at this please let me\n",
      "Actual words: know\n",
      "Predicted words:  know\n",
      "------------------------------------------------------------------------------------------\n"
     ]
    },
    {
     "name": "stderr",
     "output_type": "stream",
     "text": [
      "/usr/local/lib/python3.6/dist-packages/nltk/translate/bleu_score.py:490: UserWarning: \n",
      "Corpus/Sentence contains 0 counts of 4-gram overlaps.\n",
      "BLEU scores might be undesirable; use SmoothingFunction().\n",
      "  warnings.warn(_msg)\n"
     ]
    },
    {
     "name": "stdout",
     "output_type": "stream",
     "text": [
      "Input sentence: <|startoftext|>please feel free to contact me or have your counsel contact me with any questions regarding\n",
      "Actual words: the attached\n",
      "Predicted words:  this matter\n",
      "------------------------------------------------------------------------------------------\n",
      "Input sentence: <|startoftext|>if you wish to know that you are safe cause another to know that they\n",
      "Actual words: are safe\n",
      "Predicted words:  are not safe cause\n",
      "------------------------------------------------------------------------------------------\n",
      "Input sentence: <|startoftext|>a conversation with you would help me to better understand client needs in the competitive market\n",
      "Actual words: for information\n",
      "Predicted words:  and in the energy industry\n",
      "------------------------------------------------------------------------------------------\n",
      "Input sentence: <|startoftext|>please make a note of his information so you can work with him in\n",
      "Actual words: the future\n",
      "Predicted words:  the future\n",
      "------------------------------------------------------------------------------------------\n",
      "Input sentence: <|startoftext|>should you have any questions regarding this matter please do not hesitate to contact\n",
      "Actual words: me\n",
      "Predicted words:  me\n",
      "------------------------------------------------------------------------------------------\n",
      "Input sentence: <|startoftext|>please let me have your thoughts regarding these issues and how you would like to\n",
      "Actual words: proceed\n",
      "Predicted words:  proceed\n",
      "------------------------------------------------------------------------------------------\n",
      "\n"
     ]
    }
   ],
   "source": [
    "#For validation data, actual and predicted words\n",
    "val_bleu_list = []\n",
    "counter = 0\n",
    "for i,j in tqdm(zip(val_final_data.X.iloc[val_index],val_final_data.y.iloc[val_index])):\n",
    "    counter+=1\n",
    "    inp, a, p, bleu = get_bleu_score(i,j)\n",
    "    val_bleu_list.append(bleu)\n",
    "    #Print some actual and predicted words\n",
    "    if counter%10==0:\n",
    "        print('Input sentence:',inp)\n",
    "        print('Actual words:',a)\n",
    "        print('Predicted words:',p)\n",
    "        print(90*'-')"
   ]
  },
  {
   "cell_type": "code",
   "execution_count": 10,
   "metadata": {
    "colab": {
     "base_uri": "https://localhost:8080/",
     "height": 34
    },
    "colab_type": "code",
    "id": "ZQV3WYctbpsF",
    "outputId": "a0738d22-e9c8-4aa3-8ab4-5fc257a45f09"
   },
   "outputs": [
    {
     "name": "stdout",
     "output_type": "stream",
     "text": [
      "BLEU Score for validation data of 100 samples: 0.399\n"
     ]
    }
   ],
   "source": [
    "#Average BLEU Score for sentences\n",
    "print('BLEU Score for validation data of 100 samples:',np.round(sum(val_bleu_list)/len(val_bleu_list),3))"
   ]
  },
  {
   "cell_type": "code",
   "execution_count": 11,
   "metadata": {
    "colab": {
     "base_uri": "https://localhost:8080/",
     "height": 34
    },
    "colab_type": "code",
    "id": "BCySXCv4BCDD",
    "outputId": "e51294f4-f949-45bd-ea69-59a777f6c469"
   },
   "outputs": [
    {
     "name": "stdout",
     "output_type": "stream",
     "text": [
      " your assistance and support of the group\n"
     ]
    }
   ],
   "source": [
    "#Predictions from model\n",
    "gpt2.generate(sess, run_name='run1',\n",
    "             length=25,\n",
    "             prefix=\"<|startoftext|>thank you for\",\n",
    "             truncate=\"<|endoftext|>\",\n",
    "             include_prefix=False)"
   ]
  },
  {
   "cell_type": "code",
   "execution_count": 12,
   "metadata": {
    "colab": {
     "base_uri": "https://localhost:8080/",
     "height": 34
    },
    "colab_type": "code",
    "id": "VVzfjIW6I6Fv",
    "outputId": "07905989-f730-47f6-c86a-aa1233354d29"
   },
   "outputs": [
    {
     "name": "stdout",
     "output_type": "stream",
     "text": [
      " my car\n"
     ]
    }
   ],
   "source": [
    "#Predictions from model\n",
    "gpt2.generate(sess, run_name='run1',\n",
    "             length=25,\n",
    "             prefix=\"<|startoftext|>where is\",\n",
    "             truncate=\"<|endoftext|>\",\n",
    "             include_prefix=False)"
   ]
  },
  {
   "cell_type": "code",
   "execution_count": 13,
   "metadata": {
    "colab": {
     "base_uri": "https://localhost:8080/",
     "height": 34
    },
    "colab_type": "code",
    "id": "RLTt1EO9I6Ed",
    "outputId": "0a448e5b-670c-4f9e-a122-8a6026c29a7c"
   },
   "outputs": [
    {
     "name": "stdout",
     "output_type": "stream",
     "text": [
      " good weekend\n"
     ]
    }
   ],
   "source": [
    "#Predictions from model\n",
    "gpt2.generate(sess, run_name='run1',\n",
    "             length=25,\n",
    "             prefix=\"<|startoftext|>have a\",\n",
    "             truncate=\"<|endoftext|>\",\n",
    "             include_prefix=False)"
   ]
  },
  {
   "cell_type": "code",
   "execution_count": 14,
   "metadata": {
    "colab": {
     "base_uri": "https://localhost:8080/",
     "height": 34
    },
    "colab_type": "code",
    "id": "6HcrL707BCAz",
    "outputId": "650b26db-409a-478f-d2a4-48d218e35293"
   },
   "outputs": [
    {
     "name": "stdout",
     "output_type": "stream",
     "text": [
      " following\n"
     ]
    }
   ],
   "source": [
    "#Predictions from model\n",
    "gpt2.generate(sess, run_name='run1',\n",
    "             length=25,\n",
    "             prefix=\"<|startoftext|>ensure the\",\n",
    "             truncate=\"<|endoftext|>\",\n",
    "             include_prefix=False)"
   ]
  },
  {
   "cell_type": "code",
   "execution_count": 0,
   "metadata": {
    "colab": {},
    "colab_type": "code",
    "id": "xNZYg61cWdqW"
   },
   "outputs": [],
   "source": []
  }
 ],
 "metadata": {
  "accelerator": "GPU",
  "colab": {
   "collapsed_sections": [],
   "name": "2_Encoder_Decoder_Attention_Model.ipynb",
   "provenance": []
  },
  "kernelspec": {
   "display_name": "Python 3",
   "language": "python",
   "name": "python3"
  },
  "language_info": {
   "codemirror_mode": {
    "name": "ipython",
    "version": 3
   },
   "file_extension": ".py",
   "mimetype": "text/x-python",
   "name": "python",
   "nbconvert_exporter": "python",
   "pygments_lexer": "ipython3",
   "version": "3.7.0"
  },
  "widgets": {
   "application/vnd.jupyter.widget-state+json": {
    "09087bc7ff5c4e7c92b50b9fc1ad3ab0": {
     "model_module": "@jupyter-widgets/controls",
     "model_name": "ProgressStyleModel",
     "state": {
      "_model_module": "@jupyter-widgets/controls",
      "_model_module_version": "1.5.0",
      "_model_name": "ProgressStyleModel",
      "_view_count": null,
      "_view_module": "@jupyter-widgets/base",
      "_view_module_version": "1.2.0",
      "_view_name": "StyleView",
      "bar_color": null,
      "description_width": "initial"
     }
    },
    "18892b9e056b47db90486c5c05fb1094": {
     "model_module": "@jupyter-widgets/base",
     "model_name": "LayoutModel",
     "state": {
      "_model_module": "@jupyter-widgets/base",
      "_model_module_version": "1.2.0",
      "_model_name": "LayoutModel",
      "_view_count": null,
      "_view_module": "@jupyter-widgets/base",
      "_view_module_version": "1.2.0",
      "_view_name": "LayoutView",
      "align_content": null,
      "align_items": null,
      "align_self": null,
      "border": null,
      "bottom": null,
      "display": null,
      "flex": null,
      "flex_flow": null,
      "grid_area": null,
      "grid_auto_columns": null,
      "grid_auto_flow": null,
      "grid_auto_rows": null,
      "grid_column": null,
      "grid_gap": null,
      "grid_row": null,
      "grid_template_areas": null,
      "grid_template_columns": null,
      "grid_template_rows": null,
      "height": null,
      "justify_content": null,
      "justify_items": null,
      "left": null,
      "margin": null,
      "max_height": null,
      "max_width": null,
      "min_height": null,
      "min_width": null,
      "object_fit": null,
      "object_position": null,
      "order": null,
      "overflow": null,
      "overflow_x": null,
      "overflow_y": null,
      "padding": null,
      "right": null,
      "top": null,
      "visibility": null,
      "width": null
     }
    },
    "35d2359d4d8944f996a6e67d3c11daa2": {
     "model_module": "@jupyter-widgets/controls",
     "model_name": "HTMLModel",
     "state": {
      "_dom_classes": [],
      "_model_module": "@jupyter-widgets/controls",
      "_model_module_version": "1.5.0",
      "_model_name": "HTMLModel",
      "_view_count": null,
      "_view_module": "@jupyter-widgets/controls",
      "_view_module_version": "1.5.0",
      "_view_name": "HTMLView",
      "description": "",
      "description_tooltip": null,
      "layout": "IPY_MODEL_b8b379f0bb994549a450e107bb22d0c5",
      "placeholder": "​",
      "style": "IPY_MODEL_ca4df88be882418b83e4998f3924706e",
      "value": " 1000/? [00:50&lt;00:00, 19.75it/s]"
     }
    },
    "4765040db6644918bf8d8d17610d3833": {
     "model_module": "@jupyter-widgets/controls",
     "model_name": "HBoxModel",
     "state": {
      "_dom_classes": [],
      "_model_module": "@jupyter-widgets/controls",
      "_model_module_version": "1.5.0",
      "_model_name": "HBoxModel",
      "_view_count": null,
      "_view_module": "@jupyter-widgets/controls",
      "_view_module_version": "1.5.0",
      "_view_name": "HBoxView",
      "box_style": "",
      "children": [
       "IPY_MODEL_a5a73251d1a145708f46fad92d1518d6",
       "IPY_MODEL_6eb8c28131a64099baa192b4491e9fe8"
      ],
      "layout": "IPY_MODEL_61a2d100efc94eb1ba80b2bc475654b6"
     }
    },
    "57314bd304444fddb34efc5c4785ddef": {
     "model_module": "@jupyter-widgets/controls",
     "model_name": "HBoxModel",
     "state": {
      "_dom_classes": [],
      "_model_module": "@jupyter-widgets/controls",
      "_model_module_version": "1.5.0",
      "_model_name": "HBoxModel",
      "_view_count": null,
      "_view_module": "@jupyter-widgets/controls",
      "_view_module_version": "1.5.0",
      "_view_name": "HBoxView",
      "box_style": "",
      "children": [
       "IPY_MODEL_628c199ac0124cddadeb0556ccf394c7",
       "IPY_MODEL_35d2359d4d8944f996a6e67d3c11daa2"
      ],
      "layout": "IPY_MODEL_ebb4942c411049a78ed94f60270cfeb4"
     }
    },
    "5a841e55fbb04f0a8441f9815557e842": {
     "model_module": "@jupyter-widgets/base",
     "model_name": "LayoutModel",
     "state": {
      "_model_module": "@jupyter-widgets/base",
      "_model_module_version": "1.2.0",
      "_model_name": "LayoutModel",
      "_view_count": null,
      "_view_module": "@jupyter-widgets/base",
      "_view_module_version": "1.2.0",
      "_view_name": "LayoutView",
      "align_content": null,
      "align_items": null,
      "align_self": null,
      "border": null,
      "bottom": null,
      "display": null,
      "flex": null,
      "flex_flow": null,
      "grid_area": null,
      "grid_auto_columns": null,
      "grid_auto_flow": null,
      "grid_auto_rows": null,
      "grid_column": null,
      "grid_gap": null,
      "grid_row": null,
      "grid_template_areas": null,
      "grid_template_columns": null,
      "grid_template_rows": null,
      "height": null,
      "justify_content": null,
      "justify_items": null,
      "left": null,
      "margin": null,
      "max_height": null,
      "max_width": null,
      "min_height": null,
      "min_width": null,
      "object_fit": null,
      "object_position": null,
      "order": null,
      "overflow": null,
      "overflow_x": null,
      "overflow_y": null,
      "padding": null,
      "right": null,
      "top": null,
      "visibility": null,
      "width": null
     }
    },
    "61a2d100efc94eb1ba80b2bc475654b6": {
     "model_module": "@jupyter-widgets/base",
     "model_name": "LayoutModel",
     "state": {
      "_model_module": "@jupyter-widgets/base",
      "_model_module_version": "1.2.0",
      "_model_name": "LayoutModel",
      "_view_count": null,
      "_view_module": "@jupyter-widgets/base",
      "_view_module_version": "1.2.0",
      "_view_name": "LayoutView",
      "align_content": null,
      "align_items": null,
      "align_self": null,
      "border": null,
      "bottom": null,
      "display": null,
      "flex": null,
      "flex_flow": null,
      "grid_area": null,
      "grid_auto_columns": null,
      "grid_auto_flow": null,
      "grid_auto_rows": null,
      "grid_column": null,
      "grid_gap": null,
      "grid_row": null,
      "grid_template_areas": null,
      "grid_template_columns": null,
      "grid_template_rows": null,
      "height": null,
      "justify_content": null,
      "justify_items": null,
      "left": null,
      "margin": null,
      "max_height": null,
      "max_width": null,
      "min_height": null,
      "min_width": null,
      "object_fit": null,
      "object_position": null,
      "order": null,
      "overflow": null,
      "overflow_x": null,
      "overflow_y": null,
      "padding": null,
      "right": null,
      "top": null,
      "visibility": null,
      "width": null
     }
    },
    "628c199ac0124cddadeb0556ccf394c7": {
     "model_module": "@jupyter-widgets/controls",
     "model_name": "FloatProgressModel",
     "state": {
      "_dom_classes": [],
      "_model_module": "@jupyter-widgets/controls",
      "_model_module_version": "1.5.0",
      "_model_name": "FloatProgressModel",
      "_view_count": null,
      "_view_module": "@jupyter-widgets/controls",
      "_view_module_version": "1.5.0",
      "_view_name": "ProgressView",
      "bar_style": "success",
      "description": "",
      "description_tooltip": null,
      "layout": "IPY_MODEL_9dbf5c1ee20f4b1a8a1e6ecf39473f8b",
      "max": 1,
      "min": 0,
      "orientation": "horizontal",
      "style": "IPY_MODEL_8061559e609d49c586e773e467916ddc",
      "value": 1
     }
    },
    "6eb8c28131a64099baa192b4491e9fe8": {
     "model_module": "@jupyter-widgets/controls",
     "model_name": "HTMLModel",
     "state": {
      "_dom_classes": [],
      "_model_module": "@jupyter-widgets/controls",
      "_model_module_version": "1.5.0",
      "_model_name": "HTMLModel",
      "_view_count": null,
      "_view_module": "@jupyter-widgets/controls",
      "_view_module_version": "1.5.0",
      "_view_name": "HTMLView",
      "description": "",
      "description_tooltip": null,
      "layout": "IPY_MODEL_18892b9e056b47db90486c5c05fb1094",
      "placeholder": "​",
      "style": "IPY_MODEL_e1fb58c1987e4cb6b523866d9bfde3e2",
      "value": " 1000/? [01:47&lt;00:00,  9.28it/s]"
     }
    },
    "8061559e609d49c586e773e467916ddc": {
     "model_module": "@jupyter-widgets/controls",
     "model_name": "ProgressStyleModel",
     "state": {
      "_model_module": "@jupyter-widgets/controls",
      "_model_module_version": "1.5.0",
      "_model_name": "ProgressStyleModel",
      "_view_count": null,
      "_view_module": "@jupyter-widgets/base",
      "_view_module_version": "1.2.0",
      "_view_name": "StyleView",
      "bar_color": null,
      "description_width": "initial"
     }
    },
    "9dbf5c1ee20f4b1a8a1e6ecf39473f8b": {
     "model_module": "@jupyter-widgets/base",
     "model_name": "LayoutModel",
     "state": {
      "_model_module": "@jupyter-widgets/base",
      "_model_module_version": "1.2.0",
      "_model_name": "LayoutModel",
      "_view_count": null,
      "_view_module": "@jupyter-widgets/base",
      "_view_module_version": "1.2.0",
      "_view_name": "LayoutView",
      "align_content": null,
      "align_items": null,
      "align_self": null,
      "border": null,
      "bottom": null,
      "display": null,
      "flex": null,
      "flex_flow": null,
      "grid_area": null,
      "grid_auto_columns": null,
      "grid_auto_flow": null,
      "grid_auto_rows": null,
      "grid_column": null,
      "grid_gap": null,
      "grid_row": null,
      "grid_template_areas": null,
      "grid_template_columns": null,
      "grid_template_rows": null,
      "height": null,
      "justify_content": null,
      "justify_items": null,
      "left": null,
      "margin": null,
      "max_height": null,
      "max_width": null,
      "min_height": null,
      "min_width": null,
      "object_fit": null,
      "object_position": null,
      "order": null,
      "overflow": null,
      "overflow_x": null,
      "overflow_y": null,
      "padding": null,
      "right": null,
      "top": null,
      "visibility": null,
      "width": null
     }
    },
    "a5a73251d1a145708f46fad92d1518d6": {
     "model_module": "@jupyter-widgets/controls",
     "model_name": "FloatProgressModel",
     "state": {
      "_dom_classes": [],
      "_model_module": "@jupyter-widgets/controls",
      "_model_module_version": "1.5.0",
      "_model_name": "FloatProgressModel",
      "_view_count": null,
      "_view_module": "@jupyter-widgets/controls",
      "_view_module_version": "1.5.0",
      "_view_name": "ProgressView",
      "bar_style": "success",
      "description": "",
      "description_tooltip": null,
      "layout": "IPY_MODEL_5a841e55fbb04f0a8441f9815557e842",
      "max": 1,
      "min": 0,
      "orientation": "horizontal",
      "style": "IPY_MODEL_09087bc7ff5c4e7c92b50b9fc1ad3ab0",
      "value": 1
     }
    },
    "b8b379f0bb994549a450e107bb22d0c5": {
     "model_module": "@jupyter-widgets/base",
     "model_name": "LayoutModel",
     "state": {
      "_model_module": "@jupyter-widgets/base",
      "_model_module_version": "1.2.0",
      "_model_name": "LayoutModel",
      "_view_count": null,
      "_view_module": "@jupyter-widgets/base",
      "_view_module_version": "1.2.0",
      "_view_name": "LayoutView",
      "align_content": null,
      "align_items": null,
      "align_self": null,
      "border": null,
      "bottom": null,
      "display": null,
      "flex": null,
      "flex_flow": null,
      "grid_area": null,
      "grid_auto_columns": null,
      "grid_auto_flow": null,
      "grid_auto_rows": null,
      "grid_column": null,
      "grid_gap": null,
      "grid_row": null,
      "grid_template_areas": null,
      "grid_template_columns": null,
      "grid_template_rows": null,
      "height": null,
      "justify_content": null,
      "justify_items": null,
      "left": null,
      "margin": null,
      "max_height": null,
      "max_width": null,
      "min_height": null,
      "min_width": null,
      "object_fit": null,
      "object_position": null,
      "order": null,
      "overflow": null,
      "overflow_x": null,
      "overflow_y": null,
      "padding": null,
      "right": null,
      "top": null,
      "visibility": null,
      "width": null
     }
    },
    "ca4df88be882418b83e4998f3924706e": {
     "model_module": "@jupyter-widgets/controls",
     "model_name": "DescriptionStyleModel",
     "state": {
      "_model_module": "@jupyter-widgets/controls",
      "_model_module_version": "1.5.0",
      "_model_name": "DescriptionStyleModel",
      "_view_count": null,
      "_view_module": "@jupyter-widgets/base",
      "_view_module_version": "1.2.0",
      "_view_name": "StyleView",
      "description_width": ""
     }
    },
    "e1fb58c1987e4cb6b523866d9bfde3e2": {
     "model_module": "@jupyter-widgets/controls",
     "model_name": "DescriptionStyleModel",
     "state": {
      "_model_module": "@jupyter-widgets/controls",
      "_model_module_version": "1.5.0",
      "_model_name": "DescriptionStyleModel",
      "_view_count": null,
      "_view_module": "@jupyter-widgets/base",
      "_view_module_version": "1.2.0",
      "_view_name": "StyleView",
      "description_width": ""
     }
    },
    "ebb4942c411049a78ed94f60270cfeb4": {
     "model_module": "@jupyter-widgets/base",
     "model_name": "LayoutModel",
     "state": {
      "_model_module": "@jupyter-widgets/base",
      "_model_module_version": "1.2.0",
      "_model_name": "LayoutModel",
      "_view_count": null,
      "_view_module": "@jupyter-widgets/base",
      "_view_module_version": "1.2.0",
      "_view_name": "LayoutView",
      "align_content": null,
      "align_items": null,
      "align_self": null,
      "border": null,
      "bottom": null,
      "display": null,
      "flex": null,
      "flex_flow": null,
      "grid_area": null,
      "grid_auto_columns": null,
      "grid_auto_flow": null,
      "grid_auto_rows": null,
      "grid_column": null,
      "grid_gap": null,
      "grid_row": null,
      "grid_template_areas": null,
      "grid_template_columns": null,
      "grid_template_rows": null,
      "height": null,
      "justify_content": null,
      "justify_items": null,
      "left": null,
      "margin": null,
      "max_height": null,
      "max_width": null,
      "min_height": null,
      "min_width": null,
      "object_fit": null,
      "object_position": null,
      "order": null,
      "overflow": null,
      "overflow_x": null,
      "overflow_y": null,
      "padding": null,
      "right": null,
      "top": null,
      "visibility": null,
      "width": null
     }
    }
   }
  }
 },
 "nbformat": 4,
 "nbformat_minor": 1
}
